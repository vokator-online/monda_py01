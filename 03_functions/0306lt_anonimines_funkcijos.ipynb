{
 "cells": [
  {
   "cell_type": "markdown",
   "metadata": {},
   "source": [
    "# Anoniminės Funkcijos (Lambda Funkcijos) \n",
    "\n",
    "Anoniminės funkcijos yra funkcijos neturinčios pavadinimų. Jos yra apibrėžiamos naudojant `lambda` raktinį žodį ir argumentų sąrašą, kuriame galite aprašyti tam tikrą kodo dalį. Šios funkcijos yra labai naudingos, kai reikia sukurti paprastą funkciją vienoje vietoje, kurią naudosite tik vieną kartą.\n",
    "\n",
    "### Paprasta Lambda funkcija\n",
    "\n",
    "**Pavyzdys 1**:"
   ]
  },
  {
   "cell_type": "code",
   "execution_count": 1,
   "metadata": {},
   "outputs": [
    {
     "name": "stdout",
     "output_type": "stream",
     "text": [
      "5\n"
     ]
    }
   ],
   "source": [
    "add = lambda x, y: x + y\n",
    "\n",
    "print(add(2, 3))  # Išveda 5"
   ]
  },
  {
   "cell_type": "markdown",
   "metadata": {},
   "source": [
    "- Šiame pavyzdyje apibrėžiama anoniminė funkcija, vadinama \"`add`\", kuri apskaičiuoja dviejų argumentų sumą. Ši funkcija apibrėžiama naudojant `lambda` raktinį žodį, ir jos reikšmė priskiriama kintamąjam \"`add`\". Tuomet ši funkcija yra iškviečiama su argumentais \"`2`\" ir \"`3`\", ir išvedama reikšmė yra \"`5`\".\n",
    "\n",
    "### Naudojant Lambda su `map`\n",
    "\n",
    "**Pavyzdys 2**:"
   ]
  },
  {
   "cell_type": "code",
   "execution_count": 2,
   "metadata": {},
   "outputs": [
    {
     "name": "stdout",
     "output_type": "stream",
     "text": [
      "[1, 4, 9, 16, 25]\n"
     ]
    }
   ],
   "source": [
    "square_numbers = list(map(lambda x: x**2, [1, 2, 3, 4, 5])) \n",
    "print(square_numbers) # Išveda [1, 4, 9, 16, 25]"
   ]
  },
  {
   "cell_type": "code",
   "execution_count": 3,
   "metadata": {},
   "outputs": [
    {
     "name": "stdout",
     "output_type": "stream",
     "text": [
      "[1, 4, 9, 16, 25]\n"
     ]
    }
   ],
   "source": [
    "def kvadratu(x):\n",
    "    return x ** 2\n",
    "\n",
    "square_numbers = list(map(kvadratu, [1, 2, 3, 4, 5])) \n",
    "print(square_numbers) # Išveda [1, 4, 9, 16, 25]"
   ]
  },
  {
   "cell_type": "markdown",
   "metadata": {},
   "source": [
    "- Šiame pavyzdyje anoniminė `lambda` funkcija naudojama kartu su `map` funkcija, kad apskaičiuotų kiekvieno sąrašo elemento kvadratą. Tai yra trumpesnis ir patogesnis būdas nei atskiros funkcijos apibrėžimas vien kvadratų skaičiavimui."
   ]
  },
  {
   "cell_type": "markdown",
   "metadata": {},
   "source": [
    "`map` funkcija yra vidinė Python funkcija, naudojama sukurti naują sąrašą iš esamo sąrašo, taikant tam tikrą funkciją ar anoniminę funkciją kiekvienam jo elementui. \n",
    "- Šiuo atveju, lambda funkcija `lambda x: x**2` kiekvieno sąrašo elementą pakelia kvadratu. \n",
    "- Kiekvienam sąrašo elementui lambda funkcija priskiria reikšmę ir perduoda ją `map` funkcijai, kuri tada sukuria naują sąrašą su modifikuotais elementais. \n",
    "- `list` funkcija paverčia map funkcijos rezultatą į sąrašą."
   ]
  },
  {
   "cell_type": "markdown",
   "metadata": {},
   "source": [
    "# `Greita užduotis 1: Naudojant Lambda su map`\n",
    "\n",
    "1. Sukurkite sąrašą pavadinimu `numbers`, turintį sveikuosius skaičius `nuo 1 iki 10 `(įskaitant). \n",
    "1. Parašykite Python programą, kuri naudoja `map funkciją` kartu su `lambda funkcija`, kuri apskaičiuotu kiekvieno `numbers` sąrašo skaičiaus kubą. \n",
    "1. Rezultatą įrašykite į naują sąrašą, pavadintą `cubes`. \n",
    "1. Galiausiai, `atspausdinkite cubes` sąrašą, kad būtų rodomi skaičių kubai."
   ]
  },
  {
   "cell_type": "code",
   "execution_count": 4,
   "metadata": {},
   "outputs": [
    {
     "name": "stdout",
     "output_type": "stream",
     "text": [
      "[1, 8, 27, 64, 125, 216, 343, 512, 729, 1000]\n"
     ]
    }
   ],
   "source": [
    "numbers = list(range(1, 11))\n",
    "cubes = list(map(lambda x: x**3, numbers))\n",
    "print(cubes)"
   ]
  },
  {
   "cell_type": "markdown",
   "metadata": {},
   "source": [
    "### Žodžių rūšiavimas pagal ilgį naudojant Lambda\n",
    "\n",
    "**Pavyzdys 3**:"
   ]
  },
  {
   "cell_type": "code",
   "execution_count": 4,
   "metadata": {},
   "outputs": [
    {
     "name": "stdout",
     "output_type": "stream",
     "text": [
      "['beer', 'bread', 'sugar', 'yogurt', 'mushroom']\n"
     ]
    }
   ],
   "source": [
    "zodziai = ['beer', 'mushroom', 'bread', 'sugar', 'yogurt'] \n",
    "rusiuoti_zodziai = sorted(zodziai, key=lambda x: len(x)) \n",
    "print(rusiuoti_zodziai) # Išveda ['beer', 'bread', 'sugar', 'yogurt', 'mushroom']"
   ]
  },
  {
   "cell_type": "markdown",
   "metadata": {},
   "source": [
    "- Šiame pavyzdyje anoniminė lambda funkcija naudojama kaip raktas (key) argumentas `sorted` funkcijai, siekiant išrikiuoti žodžius pagal jų ilgį."
   ]
  },
  {
   "cell_type": "markdown",
   "metadata": {},
   "source": [
    "# `Greita Užduotis 2: Žodžių Rūšiavimas Pagal Ilgį Naudotojant Lambda` \n",
    "\n",
    "1. Sukurkite sąrašą pavadinimu words, kuriame būtų bent penki skirtingo ilgio žodžiai. \n",
    "1. Parašykite Python programą, kuri naudotų sorted funkciją su lambda funkcija kaip raktas (key) argumentu, norint išrikiuoti words sąrašą pagal žodžių ilgio `mažėjimo` tvarką. \n",
    "1. Išrikiuotą sąrašą išsaugokite naujame kintamąjame, vadinamame `sorted_words`. \n",
    "1. Galiausiai, atspausdinkite `sorted_words` sąrašą, kad būtų rodomi pagal ilgį išrikiuoti žodžiai."
   ]
  },
  {
   "cell_type": "code",
   "execution_count": 17,
   "metadata": {},
   "outputs": [
    {
     "name": "stdout",
     "output_type": "stream",
     "text": [
      "['Filadelfijus', 'Zbygniewas', 'Česlovas', 'Bronius', 'Albinas']\n"
     ]
    }
   ],
   "source": [
    "žodžiai = ['Bronius', 'Česlovas', 'Zbygniewas', 'Albinas', 'Filadelfijus']\n",
    "sortred_words = sorted(žodžiai, key=lambda x: -len(x))\n",
    "print(sortred_words)"
   ]
  },
  {
   "cell_type": "markdown",
   "metadata": {},
   "source": [
    "### Sąrašo filtravimas naudotojant Lambda\n",
    "\n",
    "**Pavyzdys 4**:"
   ]
  },
  {
   "cell_type": "code",
   "execution_count": 8,
   "metadata": {},
   "outputs": [
    {
     "name": "stdout",
     "output_type": "stream",
     "text": [
      "[2, 4, 6, 8, 10]\n"
     ]
    }
   ],
   "source": [
    "skaiciai = range(1, 11)\n",
    "lyginiai_skaiciai = list(filter(lambda x: x % 2 == 0, skaiciai))\n",
    "print(lyginiai_skaiciai) # Išveda [2, 4, 6, 8, 10]"
   ]
  },
  {
   "cell_type": "markdown",
   "metadata": {},
   "source": [
    "- Čia anoniminė `lambda funkcija` naudojama kartu su `filter funkcija`, norint iš sąrašo išgauti visus `lyginius` skaičius.\n",
    "\n",
    ">Anoniminės funkcijos dažnai naudojamos kartu su kitomis funkcijomis kaip argumentai arba grąžinamosios reikšmės. Jos yra lengvai skaitomos ir suprantamos, todėl yra labai naudingos programuojant Python."
   ]
  },
  {
   "cell_type": "markdown",
   "metadata": {},
   "source": [
    "# `Greita Užduotis 3: Žodžių Filtravimas Pagal Ilgį Naudotojant Lambda `\n",
    "\n",
    "**Instrukcijos**:\n",
    "\n",
    "Šioje užduotyje jūs naudosite lambda funkciją, kad išfiltruotumėte sąrašą žodžių pagal jų ilgį.\n",
    "\n",
    "*Užduotis*:\n",
    "\n",
    "1. Sukurkite sąrašą, pavadintą `words`, kuriame būtų mažiausiai `penki` įvairių ilgių žodžiai. \n",
    "1. Parašykite Python programą, kuri naudotų `filter funkciją` su `lambda funkcija` kaip filtravimo sąlyga, norint pasirinkti tik tuos žodžius iš `words` sąrašo, kurių ilgis didesnis nei `5` raidės. \n",
    "1. Išfiltruotus žodžius saugokite naujame sąraše, pavadintame `long_words`."
   ]
  },
  {
   "cell_type": "code",
   "execution_count": 20,
   "metadata": {},
   "outputs": [
    {
     "name": "stdout",
     "output_type": "stream",
     "text": [
      "['Česlov', 'Zbygniew']\n"
     ]
    }
   ],
   "source": [
    "words = ['Bro', 'Česlov', 'Zbygniew', 'Albin', 'Filas']\n",
    "long_words = list(filter(lambda word: len(word) > 5, words))\n",
    "print(long_words)"
   ]
  },
  {
   "cell_type": "markdown",
   "metadata": {},
   "source": [
    "# `Bonus užduotis: Lambda Funkcijos Duomenų Apdorojimui `\n",
    "\n",
    "**Instrukcijos**:\n",
    "\n",
    "Šioje užduotyje dirbsite su žodžių sąrašu ir atliksite įvairias operacijas naudodami lambda funkcijas.\n",
    "\n",
    "*Užduotis*:\n",
    "\n",
    "1. Sukurkite sąrašą, pavadintą `words`, kuriame būtų `mažiausiai aštuoni` įvairaus ilgio žodžiai.\n",
    "1. Parašykite Python programą, kuri atliktų šias užduotis eilės tvarka:\n",
    "\n",
    "- Naudokite `map funkciją` kartu su `lambda funkcija`, kad visus žodžius iš words sąrašo paverstumėte `didžiosiomis` raidėmis. Didžiosiomis raidėmis parašytus žodžius saugokite naujame sąraše pavadinimu `uppercase_words`.\n",
    "\n",
    "- Naudokite `sorted funkciją` su `lambda funkcija` kaip raktiniu argumentu, norint `išrikiuoti words` sąrašą mažėjančia žodžių ilgio tvarka. Išrikiuotą sąrašą saugokite naujame kintamąjame pavadinimu `sorted_words_desc`.\n",
    "\n",
    "- Naudokite `filter funkciją` su `lambda funkcija` kaip filtravimo sąlyga, norint išrinkti tik tuos žodžius iš words sąrašo, kurių ilgis yra `didesnis nei 5` simboliai. Filtruotus žodžius saugokite naujame sąraše, pavadintame `long_words`.\n",
    "\n",
    "3. Galų gale, `atspausdinkite visus tris sąrašus` (`uppercase_words`, `sorted_words_desc` ir `long_words`), kad būtų rodomi kiekvienos operacijos rezultatai."
   ]
  },
  {
   "cell_type": "code",
   "execution_count": 21,
   "metadata": {},
   "outputs": [
    {
     "name": "stdout",
     "output_type": "stream",
     "text": [
      "Uppercase Words: ['MERKURIJUS', 'VENERA', 'ŽEMĖ', 'MARSAS', 'JUPITERIS', 'SATURNAS', 'URANAS', 'NEPTŪNAS', 'PLUTONAS']\n",
      "Sorted Words in Descending Order of Length: ['Merkurijus', 'Jupiteris', 'Saturnas', 'Neptūnas', 'Plutonas', 'Venera', 'Marsas', 'Uranas', 'Žemė']\n",
      "Long Words (Length > 5): ['Merkurijus', 'Venera', 'Marsas', 'Jupiteris', 'Saturnas', 'Uranas', 'Neptūnas', 'Plutonas']\n"
     ]
    }
   ],
   "source": [
    "words = [\"Merkurijus\", \"Venera\", \"Žemė\", \"Marsas\", \"Jupiteris\", \"Saturnas\", \"Uranas\", \"Neptūnas\", \"Plutonas\"]\n",
    "uppercase_words = list(map(lambda word: word.upper(), words))\n",
    "sorted_words_desc = sorted(words, key=lambda word: len(word), reverse=True)\n",
    "long_words = list(filter(lambda word: len(word) > 5, words))\n",
    "\n",
    "print(\"Uppercase Words:\", uppercase_words)\n",
    "print(\"Sorted Words in Descending Order of Length:\", sorted_words_desc)\n",
    "print(\"Long Words (Length > 5):\", long_words)"
   ]
  }
 ],
 "metadata": {
  "kernelspec": {
   "display_name": "venv",
   "language": "python",
   "name": "python3"
  },
  "language_info": {
   "codemirror_mode": {
    "name": "ipython",
    "version": 3
   },
   "file_extension": ".py",
   "mimetype": "text/x-python",
   "name": "python",
   "nbconvert_exporter": "python",
   "pygments_lexer": "ipython3",
   "version": "3.11.7"
  }
 },
 "nbformat": 4,
 "nbformat_minor": 2
}
