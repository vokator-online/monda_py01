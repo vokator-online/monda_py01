{
 "cells": [
  {
   "cell_type": "markdown",
   "metadata": {},
   "source": [
    "# `Quick assignment 1:`"
   ]
  },
  {
   "cell_type": "code",
   "execution_count": null,
   "metadata": {},
   "outputs": [],
   "source": [
    "import random\n",
    "\n",
    "def print_and_sort_random_numbers():\n",
    "    # Generate 10 random integers between 1 and 100\n",
    "    random_numbers = []\n",
    "    for _ in range(10):\n",
    "        random_numbers.append(random.randint(1, 100))\n",
    "\n",
    "    # Print the original list of random numbers\n",
    "    print(\"Original list:\", random_numbers)\n",
    "\n",
    "    # Sort the list in ascending order\n",
    "    random_numbers.sort()\n",
    "\n",
    "    # Print the sorted list\n",
    "    print(\"Sorted list:\", random_numbers)\n",
    "\n",
    "# Call the function to see the result\n",
    "print_and_sort_random_numbers()"
   ]
  },
  {
   "cell_type": "markdown",
   "metadata": {},
   "source": [
    "# `Quick assignment 2:`"
   ]
  },
  {
   "cell_type": "code",
   "execution_count": null,
   "metadata": {},
   "outputs": [],
   "source": [
    "#example 1\n",
    "import random\n",
    "\n",
    "print('Three numbers will be generated.')\n",
    "print('If any of them is 5, you lose!')\n",
    "\n",
    "for attempt in range(3):\n",
    "    number = random.randint(1, 6)\n",
    "    print(number)\n",
    "    if number == 5:\n",
    "        print('You lose...')\n",
    "        break\n",
    "else:\n",
    "    print('You win!')\n"
   ]
  },
  {
   "cell_type": "code",
   "execution_count": null,
   "metadata": {},
   "outputs": [],
   "source": [
    "import random\n",
    "\n",
    "attempts = 3\n",
    "while attempts > 0:\n",
    "    roll = random.randint(1, 6)\n",
    "    print(f\"iškrito {roll}\")\n",
    "    if roll == 5:\n",
    "        print('pralaimėjai')\n",
    "        break\n",
    "    attempts -= 1\n",
    "else:\n",
    "    print(\"laimėjai\")"
   ]
  },
  {
   "cell_type": "code",
   "execution_count": null,
   "metadata": {},
   "outputs": [],
   "source": [
    "# example 2: simple while loop with break\n",
    "import random\n",
    "\n",
    "while True: \n",
    "    dice_rolls = [random.randint(1, 6) for _ in range(3)] \n",
    "    print(dice_rolls) \n",
    "    if 5 in dice_rolls: \n",
    "        print(\"You lose...\") \n",
    "        break \n",
    "    else: \n",
    "        print(\"You win!\") \n",
    "        break"
   ]
  },
  {
   "cell_type": "code",
   "execution_count": null,
   "metadata": {},
   "outputs": [],
   "source": [
    "# example 3: function with while loop\n",
    "import random\n",
    "\n",
    "def dice_game():\n",
    "    while True: \n",
    "        dice_rolls = [random.randint(1, 6) for _ in range(3)] \n",
    "        print(dice_rolls) \n",
    "        if 5 in dice_rolls: \n",
    "            return \"You lose...\" \n",
    "        else: \n",
    "            return \"You win!\"\n",
    "\n",
    "print(dice_game())"
   ]
  },
  {
   "cell_type": "markdown",
   "metadata": {},
   "source": [
    "# `Quick assignment 3:`"
   ]
  },
  {
   "cell_type": "code",
   "execution_count": null,
   "metadata": {},
   "outputs": [],
   "source": [
    "# example 1\n",
    "import calendar\n",
    "\n",
    "def print_monthly_calendar_counting_weekends(year, month):\n",
    "    # Print the calendar for the specified year and month\n",
    "    print(calendar.month(year, month))\n",
    "\n",
    "    # Determine the number of days in the month\n",
    "    _, month_length = calendar.monthrange(year, month)\n",
    "\n",
    "    # Count the weekend days (Saturdays and Sundays)\n",
    "    weekend_days = 0\n",
    "    for day in range(1, month_length + 1):\n",
    "        day_of_week = calendar.weekday(year, month, day)\n",
    "        if day_of_week == 5 or day_of_week == 6:\n",
    "            weekend_days += 1\n",
    "\n",
    "    print(f\"Number of weekend days in this month: {weekend_days}\")\n",
    "\n",
    "# Example with April 2023\n",
    "print_monthly_calendar_counting_weekends(2024, 1)\n"
   ]
  },
  {
   "cell_type": "code",
   "execution_count": null,
   "metadata": {},
   "outputs": [],
   "source": [
    "# example 2\n",
    "import calendar\n",
    "\n",
    "def print_month_calendar(year, month):\n",
    "    # Create a calendar where Monday is the first day of the week (0)\n",
    "    cal = calendar.TextCalendar(calendar.MONDAY)\n",
    "    \n",
    "    # Print the entire month's calendar\n",
    "    cal.prmonth(year, month)\n",
    "    \n",
    "    # Create a list of days in the month (e.g., [1, 2, 3, ..., 30])\n",
    "    month_days = calendar.monthrange(year, month)[1]\n",
    "    \n",
    "    # Count the weekend days\n",
    "    weekend_days = 0\n",
    "    for i in range(1, month_days + 1):\n",
    "        if calendar.weekday(year, month, i) in [calendar.SATURDAY, calendar.SUNDAY]:\n",
    "            weekend_days += 1\n",
    "\n",
    "    # Print the count of weekend days\n",
    "    print(f\"Number of weekend days: {weekend_days}\")\n",
    "\n",
    "# Example function call:\n",
    "print_month_calendar(2024, 1)"
   ]
  },
  {
   "cell_type": "code",
   "execution_count": null,
   "metadata": {},
   "outputs": [],
   "source": [
    "import calendar\n",
    "\n",
    "def weekends_in_month(year, month):\n",
    "    print(calendar.month(year, month))\n",
    "    month_days = calendar.monthrange(year, month)[1]\n",
    "    weekend_days = 0\n",
    "    for day in range(1, month_days + 1):\n",
    "        if calendar.weekday(year, month, day) in [5, 6]:\n",
    "            weekend_days += 1\n",
    "    print(f\"weekend days: {weekend_days}\")\n",
    "\n",
    "weekends_in_month(2024, 3)"
   ]
  }
 ],
 "metadata": {
  "kernelspec": {
   "display_name": "Python 3",
   "language": "python",
   "name": "python3"
  },
  "language_info": {
   "codemirror_mode": {
    "name": "ipython",
    "version": 3
   },
   "file_extension": ".py",
   "mimetype": "text/x-python",
   "name": "python",
   "nbconvert_exporter": "python",
   "pygments_lexer": "ipython3",
   "version": "3.11.7"
  }
 },
 "nbformat": 4,
 "nbformat_minor": 2
}
