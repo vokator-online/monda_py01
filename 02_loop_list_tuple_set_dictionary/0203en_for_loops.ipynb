{
 "cells": [
  {
   "cell_type": "markdown",
   "metadata": {},
   "source": [
    "# `for` Loops\n",
    "\n",
    "### What is `for` loop?\n",
    "\n",
    "FOR loop in the Python programming language is a control flow statement that allows you to iterate over a set of elements, such as lists, dictionaries, etc.\n",
    "\n",
    "Iteration is a general term used in the fields of programming and computer science, which refers to a process of repeatedly performing a set of instructions or actions on a sequence of elements, typically one element at a time. It's a fundamental concept in programming and is used to traverse, process, or manipulate collections of data.\n",
    "\n",
    "A for loop specifies a variable (or variables) that stores the iteration element for each step. The loop block writes with offset from the left side and is executed for each iteration step of the set.\n"
   ]
  },
  {
   "cell_type": "markdown",
   "metadata": {},
   "source": [
    "### Applying FOR loop to the LIST\n",
    "\n",
    "For example, if we have a list of numbers and want to print each number, we can use a for loop as shown below:\n"
   ]
  },
  {
   "cell_type": "code",
   "execution_count": null,
   "metadata": {},
   "outputs": [],
   "source": [
    "numbers = [1, 2, 3, 4, 5]\n",
    "\n",
    "for i in numbers:\n",
    "    print(i)"
   ]
  },
  {
   "cell_type": "markdown",
   "metadata": {},
   "source": [
    "Result:"
   ]
  },
  {
   "cell_type": "code",
   "execution_count": null,
   "metadata": {},
   "outputs": [],
   "source": [
    "1\n",
    "2\n",
    "3\n",
    "4\n",
    "5"
   ]
  },
  {
   "cell_type": "markdown",
   "metadata": {},
   "source": [
    "It is worth to mention that `'i'` in  commonly used as a loop counter or iterator variable in for loops. It's a convention and stands for \"index\" or \"iteration.\" The 'i' variable is often used to control the number of iterations or to access elements in an array or list. However, it's important to note that you can use any variable name you like in a for loop, but 'i' is widely recognized and understood in the context of loops."
   ]
  },
  {
   "cell_type": "markdown",
   "metadata": {},
   "source": [
    "Please note that `for` loop regarding `sets` and `tuples` is the same as for `lists`"
   ]
  },
  {
   "cell_type": "markdown",
   "metadata": {},
   "source": [
    "#### Quick Assignement 1\n",
    "\n",
    "1. Create a list with at least five items\n",
    "1. Print it using a for loop"
   ]
  },
  {
   "cell_type": "markdown",
   "metadata": {},
   "source": [
    "### Applying FOR loop to the DICTIONARY\n",
    "\n",
    "We can also use a `for` loop with a `dictionary`. There are several ways to do this.\n",
    "\n",
    "This loop will iterate through the keys of the dictionary and return each key individually. For example:"
   ]
  },
  {
   "cell_type": "code",
   "execution_count": null,
   "metadata": {},
   "outputs": [],
   "source": [
    "age = {'Rock': 20, 'Andrew': 34, 'Laura': 25}\n",
    "\n",
    "for i in age:\n",
    "    print(i)"
   ]
  },
  {
   "cell_type": "markdown",
   "metadata": {},
   "source": [
    "Result:"
   ]
  },
  {
   "cell_type": "code",
   "execution_count": null,
   "metadata": {},
   "outputs": [],
   "source": [
    "Rock\n",
    "Andrew\n",
    "Laura"
   ]
  },
  {
   "cell_type": "markdown",
   "metadata": {},
   "source": [
    "We can use the `.values()` method of the dictionary in the loop, then the loop will iterate through the `values` of the `dictionary` and return each value separately. For example:"
   ]
  },
  {
   "cell_type": "code",
   "execution_count": null,
   "metadata": {},
   "outputs": [],
   "source": [
    "age = {'Rock': 20, 'Andrew': 34, 'Laura': 25}\n",
    "\n",
    "for i in age.values():\n",
    "    print(i)"
   ]
  },
  {
   "cell_type": "markdown",
   "metadata": {},
   "source": [
    "Result:"
   ]
  },
  {
   "cell_type": "code",
   "execution_count": null,
   "metadata": {},
   "outputs": [],
   "source": [
    "20\n",
    "34\n",
    "25"
   ]
  },
  {
   "cell_type": "markdown",
   "metadata": {},
   "source": [
    "When we specify a `key`, `value`, and `.items()`, the loop will iterate through the dictionary keys, values, and return each key and value individually. For example:"
   ]
  },
  {
   "cell_type": "code",
   "execution_count": null,
   "metadata": {},
   "outputs": [],
   "source": [
    "age = {'Rock': 20, 'Andrew': 34, 'Laura': 25}\n",
    "\n",
    "for key, value in age.items():\n",
    "    print(key, value)"
   ]
  },
  {
   "cell_type": "code",
   "execution_count": null,
   "metadata": {},
   "outputs": [],
   "source": [
    "Rock 20 \n",
    "Andrew 34\n",
    "Laura 25"
   ]
  },
  {
   "cell_type": "markdown",
   "metadata": {},
   "source": [
    "`*` please note that this time `'i'` was named `'key'` and `'value'` to represent dictionary elements accordingly."
   ]
  },
  {
   "cell_type": "markdown",
   "metadata": {},
   "source": [
    "It is also possible to refer to dictionary elements with a key in a loop. Especially recommended when changing values:"
   ]
  },
  {
   "cell_type": "code",
   "execution_count": null,
   "metadata": {},
   "outputs": [],
   "source": [
    "age = {'Rokas': 20, 'Andrius': 34, 'Laura': 25}\n",
    "\n",
    "for i in age:\n",
    "    print(\"Now\", i, age[i])\n",
    "    age[i] += 1\n",
    "    print(\"After change\", i, age[i])"
   ]
  },
  {
   "cell_type": "markdown",
   "metadata": {},
   "source": [
    "Result:"
   ]
  },
  {
   "cell_type": "code",
   "execution_count": null,
   "metadata": {},
   "outputs": [],
   "source": [
    "Now Rock 20\n",
    "After change Rock 21\n",
    "Now Andrew 34\n",
    "After change Andrew 35\n",
    "Now Laura 25\n",
    "After change Laura 26"
   ]
  },
  {
   "cell_type": "markdown",
   "metadata": {},
   "source": [
    "### FOR loop with Range function\n",
    "\n",
    "The `range()` function generates a sequence of numbers from beginning to end. We can use a for `loop` with the `range` function to do something with each number in the sequence."
   ]
  },
  {
   "cell_type": "code",
   "execution_count": null,
   "metadata": {},
   "outputs": [],
   "source": [
    "for number in range(1, 6):\n",
    "    print(number)"
   ]
  },
  {
   "cell_type": "markdown",
   "metadata": {},
   "source": [
    "### Loop termination command BREAK\n",
    "\n",
    "We use command `break` to terminate for loop and continue with the subsequential part of code."
   ]
  },
  {
   "cell_type": "code",
   "execution_count": null,
   "metadata": {},
   "outputs": [],
   "source": [
    "numbers = [1, 2, 3, 4, 5]\n",
    "\n",
    "for number in numbers:\n",
    "    if number == 3:\n",
    "        break\n",
    "    print(number)"
   ]
  },
  {
   "cell_type": "markdown",
   "metadata": {},
   "source": [
    "Result:"
   ]
  },
  {
   "cell_type": "code",
   "execution_count": null,
   "metadata": {},
   "outputs": [],
   "source": [
    "1\n",
    "2"
   ]
  },
  {
   "cell_type": "markdown",
   "metadata": {},
   "source": [
    "As you can see, the program broke the loop when the number `\"3\"` was reached and did not print the other numbers that were listed after it."
   ]
  },
  {
   "cell_type": "markdown",
   "metadata": {},
   "source": [
    "### Loop continuation commad CONTINUE\n",
    "\n",
    "When we use the `continue` command, the program skips this iteration and continues with the next element in the collection. For example:"
   ]
  },
  {
   "cell_type": "code",
   "execution_count": null,
   "metadata": {},
   "outputs": [],
   "source": [
    "numbers = [1, 2, 3, 4, 5]\n",
    "\n",
    "for number in numbers:\n",
    "    if number == 3:\n",
    "        continue\n",
    "    print(number)"
   ]
  },
  {
   "cell_type": "markdown",
   "metadata": {},
   "source": [
    "Result:"
   ]
  },
  {
   "cell_type": "code",
   "execution_count": null,
   "metadata": {},
   "outputs": [],
   "source": [
    "1\n",
    "2\n",
    "3\n",
    "4\n",
    "5"
   ]
  },
  {
   "cell_type": "markdown",
   "metadata": {},
   "source": [
    "As you can see, the program skipped the number `\"3\"` and continued with the rest of the numbers in the list."
   ]
  },
  {
   "cell_type": "markdown",
   "metadata": {},
   "source": [
    "### `else` in FOR loop\n",
    "\n",
    "The `else` block is used to perform certain actions when the for loop reaches its end."
   ]
  },
  {
   "cell_type": "code",
   "execution_count": null,
   "metadata": {},
   "outputs": [],
   "source": [
    "numbers = [1, 2, 3, 4, 5]\n",
    "\n",
    "for number in numbers:\n",
    "    print(number)\n",
    "else:\n",
    "    print('End of FOR loop.')"
   ]
  },
  {
   "cell_type": "markdown",
   "metadata": {},
   "source": [
    "Result:"
   ]
  },
  {
   "cell_type": "code",
   "execution_count": null,
   "metadata": {},
   "outputs": [],
   "source": [
    "1\n",
    "2\n",
    "3\n",
    "4\n",
    "5\n",
    "End of FOR loop."
   ]
  },
  {
   "cell_type": "markdown",
   "metadata": {},
   "source": [
    "If the loop was terminated with the `break` command, the `else` condition block will not be executed."
   ]
  },
  {
   "cell_type": "markdown",
   "metadata": {},
   "source": [
    "## List iteration with index\n",
    "\n",
    "The enumerate() function, used in conjunction with a for loop, returns pairs where the first element of each pair is the index of the element and the second element is the element of the list itself. For example:"
   ]
  },
  {
   "cell_type": "code",
   "execution_count": null,
   "metadata": {},
   "outputs": [],
   "source": [
    "array = ['a', 'b', 'c', 'd', 'e']\n",
    "for index, value in enumerate(array):\n",
    "     print(index, value)"
   ]
  },
  {
   "cell_type": "markdown",
   "metadata": {},
   "source": [
    "Result:"
   ]
  },
  {
   "cell_type": "code",
   "execution_count": null,
   "metadata": {},
   "outputs": [],
   "source": [
    "0 a\n",
    "1 b\n",
    "2 c\n",
    "3 d\n",
    "4 e"
   ]
  },
  {
   "cell_type": "markdown",
   "metadata": {},
   "source": [
    "#### Quick Assignement 2\n",
    "\n",
    "Create an app that:\n",
    "\n",
    "1. Allow the user to enter 5 words one at a time\n",
    "2. It would add the entered words to the list\n",
    "3. Prints each word, its length and sequence number in the list (starting at 1)\n",
    "\n",
    "Additional: Make the app allow you to enter as many words as you want\n",
    "Tip: Use list, loop for, functions len and index"
   ]
  },
  {
   "cell_type": "markdown",
   "metadata": {},
   "source": [
    "#### Quick Assignement 3\n",
    "\n",
    "Create an program that:\n",
    "\n",
    "Allow the user to enter the year\n",
    "It would print \"Leap Year\" if that is the case\n",
    "It would print \"Leap Year\" if that is the case"
   ]
  },
  {
   "cell_type": "markdown",
   "metadata": {},
   "source": [
    "#### Quick Assignement\n",
    "\n",
    "Redo the third task so that the program prints all leap years, from 1900 to 2100."
   ]
  },
  {
   "cell_type": "markdown",
   "metadata": {},
   "source": [
    "## Nester For Loop\n",
    "\n",
    "The loop-within-a-loop construct allows you to create loops in which one or more inner loops are executed for each iteration of the outer loop. This is especially useful when we have some data structure that needs to be parsed or processed in a complex way. For example:"
   ]
  },
  {
   "cell_type": "code",
   "execution_count": null,
   "metadata": {},
   "outputs": [],
   "source": [
    "colors = ['green', 'yellow', 'red']\n",
    "trees = ['oak', 'birch', 'linden']\n",
    "\n",
    "for color in colors:\n",
    "    for tree in trees:\n",
    "        print(color, tree, ' is beautiful')"
   ]
  },
  {
   "cell_type": "markdown",
   "metadata": {},
   "source": [
    "Result:"
   ]
  },
  {
   "cell_type": "code",
   "execution_count": null,
   "metadata": {},
   "outputs": [],
   "source": [
    "green oak  is beautiful\n",
    "green birch  is beautiful\n",
    "green linden  is beautiful\n",
    "yellow oak  is beautiful\n",
    "yellow birch  is beautiful\n",
    "yellow linden  is beautiful\n",
    "red oak  is beautiful\n",
    "red birch  is beautiful\n",
    "red linden  is beautiful"
   ]
  },
  {
   "cell_type": "markdown",
   "metadata": {},
   "source": [
    "#### Quick Assignement 4\n",
    "\n",
    "Here is a dictionary of tudents and their grades:"
   ]
  },
  {
   "cell_type": "code",
   "execution_count": null,
   "metadata": {},
   "outputs": [],
   "source": [
    "student_grades = {\n",
    "    'Alice': {'Math': 85, 'Science': 92, 'History': 88},\n",
    "    'Bob': {'Math': 78, 'Science': 85, 'History': 90},\n",
    "    'Charlie': {'Math': 92, 'Science': 88, 'History': 76}\n",
    "}"
   ]
  },
  {
   "cell_type": "markdown",
   "metadata": {},
   "source": [
    "Create a nested for loop that would print out student and the subjects with grades"
   ]
  }
 ],
 "metadata": {
  "kernelspec": {
   "display_name": "venv",
   "language": "python",
   "name": "python3"
  },
  "language_info": {
   "codemirror_mode": {
    "name": "ipython",
    "version": 3
   },
   "file_extension": ".py",
   "mimetype": "text/x-python",
   "name": "python",
   "nbconvert_exporter": "python",
   "pygments_lexer": "ipython3",
   "version": "3.11.3"
  },
  "orig_nbformat": 4
 },
 "nbformat": 4,
 "nbformat_minor": 2
}
