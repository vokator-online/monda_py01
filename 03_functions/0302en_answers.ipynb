{
 "cells": [
  {
   "cell_type": "markdown",
   "metadata": {},
   "source": [
    "# `Quick Assignment 1`"
   ]
  },
  {
   "cell_type": "code",
   "execution_count": null,
   "metadata": {},
   "outputs": [],
   "source": [
    "# Function definition\n",
    "def raised(number, degree):\n",
    "    return number ** degree\n",
    "\n",
    "# Call the function and print the result\n",
    "print(raised(5, 3))  # Expected output: 125"
   ]
  },
  {
   "cell_type": "markdown",
   "metadata": {},
   "source": [
    "# ` Quick Assignment 2`"
   ]
  },
  {
   "cell_type": "code",
   "execution_count": null,
   "metadata": {},
   "outputs": [],
   "source": [
    "# Function definition\n",
    "def add_sub_multi(a, b):\n",
    "    return (a + b, a - b, a * b)\n",
    "\n",
    "# Call the function and display the result\n",
    "result = add_sub_multi(10, 2)\n",
    "print(result)  # Expected output: (12, 8, 20)"
   ]
  },
  {
   "cell_type": "markdown",
   "metadata": {},
   "source": [
    "# `Bonus Assignment: Calculate Factorial`"
   ]
  },
  {
   "cell_type": "code",
   "execution_count": null,
   "metadata": {},
   "outputs": [],
   "source": [
    "# Function definition\n",
    "def calculate_factorial(n):\n",
    "    if n == 0:\n",
    "        return 1\n",
    "    else:\n",
    "        factorial = 1\n",
    "        for i in range(1, n + 1):\n",
    "            factorial *= i\n",
    "        return factorial\n",
    "\n",
    "# Call the function and print factorials\n",
    "print(\"Factorial of 0:\", calculate_factorial(0))  # Expected output: 1\n",
    "print(\"Factorial of 1:\", calculate_factorial(1))  # Expected output: 1\n",
    "print(\"Factorial of 2:\", calculate_factorial(2))  # Expected output: 2\n",
    "print(\"Factorial of 3:\", calculate_factorial(3))  # Expected output: 6\n",
    "print(\"Factorial of 4:\", calculate_factorial(4))  # Expected output: 24\n",
    "print(\"Factorial of 5:\", calculate_factorial(5))  # Expected output: 120"
   ]
  }
 ],
 "metadata": {
  "kernelspec": {
   "display_name": "Python 3",
   "language": "python",
   "name": "python3"
  },
  "language_info": {
   "codemirror_mode": {
    "name": "ipython",
    "version": 3
   },
   "file_extension": ".py",
   "mimetype": "text/x-python",
   "name": "python",
   "nbconvert_exporter": "python",
   "pygments_lexer": "ipython3",
   "version": "3.11.7"
  },
  "orig_nbformat": 4
 },
 "nbformat": 4,
 "nbformat_minor": 2
}
