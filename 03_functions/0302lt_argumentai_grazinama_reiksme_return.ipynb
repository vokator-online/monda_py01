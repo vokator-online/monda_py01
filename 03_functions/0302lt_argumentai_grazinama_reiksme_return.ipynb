{
 "cells": [
  {
   "cell_type": "markdown",
   "metadata": {},
   "source": [
    "# Funkcija su `return` grąžinimo reikšme\n",
    "\n",
    "Funkcija su `return` grąžinimo reikšme yra kaip mašina, kuri gauna įvestį ir išspjauna rezultatą. Ši funkcija apdoroja įvairius duomenis ir grąžina tai, ką ji sukūrė, kad galėtumėte tai naudoti kitur savo programoje.\n",
    "\n",
    "- Grąžinama reikšmė gali būti bet koks objektas: skaičius, simbolių eilutė, sąrašas, duomenų struktūra ar kito tipo informacija.\n",
    "- Grąžinimas yra būtinas, kai norite, kad funkcijos darbo vaisius būtų panaudotas kitur jūsų programoje.\n",
    "- `return` pareiškimas nurodo, ką funkcija grąžins. Tai kaip bilietas iš mašinos, kurį pasiimate po to, kai ji sukūrė kažką naudingo.\n",
    "- Jei funkcija sugeneruoja daugiau nei vieną rezultatą, juos galima pateikti kaip sąrašą arba tuplės formoje.\n",
    "\n",
    "Elementarus pavyzdys:"
   ]
  },
  {
   "cell_type": "code",
   "execution_count": 1,
   "metadata": {},
   "outputs": [],
   "source": [
    "def kvadratu(x):\n",
    "    return x ** 2"
   ]
  },
  {
   "cell_type": "markdown",
   "metadata": {},
   "source": [
    "Šioje funkcijoje ji priima skaičių `x` kaip `argumentą`, apskaičiuoja jo kvadratą ir grąžina rezultatą."
   ]
  },
  {
   "cell_type": "code",
   "execution_count": 3,
   "metadata": {},
   "outputs": [
    {
     "name": "stdout",
     "output_type": "stream",
     "text": [
      "25\n"
     ]
    }
   ],
   "source": [
    "rezultatas = kvadratu(5)\n",
    "print(rezultatas)  # Rezultatas: 25"
   ]
  },
  {
   "cell_type": "markdown",
   "metadata": {},
   "source": [
    "Ši `kvadratu` funkcija yra iškviesta su argumentu 5, ir jos grąžinta reikšmė 25 priskiriama kintamajam `rezultatas`, kuris vėliau atspausdinamas naudojant print funkciją.\n",
    "\n",
    "Kitas pavyzdys:"
   ]
  },
  {
   "cell_type": "code",
   "execution_count": 4,
   "metadata": {},
   "outputs": [
    {
     "name": "stdout",
     "output_type": "stream",
     "text": [
      "12\n"
     ]
    }
   ],
   "source": [
    "def sudeti(x, y):\n",
    "    rezultatas = x + y\n",
    "    return rezultatas\n",
    "\n",
    "atsakymas = sudeti(10, 2)\n",
    "print(atsakymas)  # Rezultatas: 12"
   ]
  },
  {
   "cell_type": "markdown",
   "metadata": {},
   "source": [
    "Ši funkcija, `sudeti`, priima du argumentus (`x` ir `y`), juos sudeda ir grąžina sumą naudodama `return` pareiškimą. `sudeti` funkcija yra iškviesta su argumentais 10 ir 2, ir rezultatas 12 yra atspausdinamas."
   ]
  },
  {
   "cell_type": "markdown",
   "metadata": {},
   "source": [
    "### Greitas uždavinys 1\n",
    "\n",
    "Skaičiaus kėlimas laipsniu\n",
    "\n",
    "1. Parašykite funkciją `laipsniu`, kuri priima du argumentus - skaičių ir laipsnį, ir grąžina skaičių pakelta laipsniu. \n",
    "1. iškvieskite šią funkciją su konkrečiu skaičiumi ir atspausdinkite rezultatą."
   ]
  },
  {
   "cell_type": "code",
   "execution_count": 3,
   "metadata": {},
   "outputs": [
    {
     "name": "stdout",
     "output_type": "stream",
     "text": [
      "16807\n"
     ]
    }
   ],
   "source": [
    "def laipsnis(skaičius):\n",
    "    rezultatas = skaičius ** 5\n",
    "    return rezultatas\n",
    "\n",
    "atsakymas = laipsnis(7)\n",
    "print(atsakymas)"
   ]
  },
  {
   "cell_type": "markdown",
   "metadata": {},
   "source": [
    "---\n",
    "\n",
    "## Daugiau negu vieno kintamojo grąžinimas per tuple arba sąrašą (list)\n",
    "\n",
    "Jei reikia grąžinti kelias reikšmes iš funkcijos, galite jas sudėti į tulpą arba sąrašą. \n",
    "\n",
    "**Pavyzdys naudojant tuplą**:"
   ]
  },
  {
   "cell_type": "code",
   "execution_count": 5,
   "metadata": {},
   "outputs": [],
   "source": [
    "def suma_ir_sandauga(a, b):\n",
    "    suma = a + b\n",
    "    sandauga = a * b\n",
    "    return (suma, sandauga)"
   ]
  },
  {
   "cell_type": "markdown",
   "metadata": {},
   "source": [
    "Funkciją galima iškviesti ir grąžintas reikšmes išpakuoti taip:"
   ]
  },
  {
   "cell_type": "code",
   "execution_count": 8,
   "metadata": {},
   "outputs": [
    {
     "name": "stdout",
     "output_type": "stream",
     "text": [
      "(5, 6)\n",
      "5 6\n",
      "5\n",
      "6\n"
     ]
    }
   ],
   "source": [
    "rezultatas = suma_ir_sandauga(2, 3)\n",
    "print(rezultatas)  # Rezultatas: (5, 6)\n",
    "print(rezultatas[0], rezultatas[1])\n",
    "\n",
    "suma, sandauga = suma_ir_sandauga(2, 3)\n",
    "print(suma)     # Rezultatas: 5\n",
    "print(sandauga) # Rezultatas: 6"
   ]
  },
  {
   "cell_type": "code",
   "execution_count": 7,
   "metadata": {},
   "outputs": [
    {
     "name": "stdout",
     "output_type": "stream",
     "text": [
      "(5, 6)\n",
      "5 6\n",
      "5\n",
      "6\n"
     ]
    }
   ],
   "source": [
    "rezultatas = suma_ir_sandauga(2, 3)\n",
    "print(rezultatas)  # Rezultatas: (5, 6)\n",
    "print(rezultatas[0], rezultatas[1])\n",
    "\n",
    "suma, sandauga = suma_ir_sandauga(2, 3)\n",
    "print(suma)     # Rezultatas: 5\n",
    "print(sandauga) # Rezultatas: 6"
   ]
  },
  {
   "cell_type": "markdown",
   "metadata": {},
   "source": [
    "- Pirmajame iškvietime funkcija grąžina tuplą (`5`, `6`), kurį priskiria kintamajam `rezultatas`. \n",
    "- Antrajame iškvietime reikšmės išpakuojamos į atskirus kintamuosius `suma` ir `sandauga`."
   ]
  },
  {
   "cell_type": "markdown",
   "metadata": {},
   "source": [
    "### Greitas uždavinys 2\n",
    "\n",
    "Parašykite funkciją dvejų argumentų sumos, skirtumo ir sandaugos radimui\n",
    "\n",
    "1. Sukurkite funkciją, kuri priima du skaičius kaip argumentus, juos sudeda, atima, sudaugina ir grąžina visus rezultatus kaip tuplę. \n",
    "1. Iškvieskite funkciją ir parodykite rezultatą."
   ]
  },
  {
   "cell_type": "code",
   "execution_count": 10,
   "metadata": {},
   "outputs": [
    {
     "name": "stdout",
     "output_type": "stream",
     "text": [
      "(14, -4, 45)\n"
     ]
    }
   ],
   "source": [
    "def suma(a, b):\n",
    "    return (a + b, a - b, a * b)\n",
    "\n",
    "result = suma(5, 9)\n",
    "print(result)"
   ]
  },
  {
   "cell_type": "markdown",
   "metadata": {},
   "source": [
    "---\n",
    "\n",
    "## Taip pat galima grąžinti sąrašą:\n",
    "\n",
    "ir grąžinami sąrašo (ar tuplės) elementai taip pat gali būti sąrašai ar kitos duomenų stuktūros.\n",
    "\n",
    "Pavyzdžiui, parašysime funkciją, kuri grąžins sąrašą dvejų sąrašų:"
   ]
  },
  {
   "cell_type": "code",
   "execution_count": 12,
   "metadata": {},
   "outputs": [],
   "source": [
    "def teigiami_ir_neigiami_skaiciai(skaiciai):\n",
    "    teigiami = []\n",
    "    neigiami = []\n",
    "    for skaicius in skaiciai:\n",
    "        if skaicius >= 0:\n",
    "            teigiami.append(skaicius)\n",
    "        else:\n",
    "            neigiami.append(skaicius)\n",
    "    return [teigiami, neigiami]"
   ]
  },
  {
   "cell_type": "markdown",
   "metadata": {},
   "source": [
    "Šiame pavyzdyje funkcija `teigiami_ir_neigiami_skaiciai` grąžina du sąrašus: `teigiami` ir `neigiami`, kurie turi teigiamus ir neigiamus skaičius iš įvesties sąrašo."
   ]
  },
  {
   "cell_type": "code",
   "execution_count": 13,
   "metadata": {},
   "outputs": [
    {
     "name": "stdout",
     "output_type": "stream",
     "text": [
      "[[2, 5], [-4, -1, -2]]\n"
     ]
    }
   ],
   "source": [
    "skaiciai = [2, -4, 5, -1, -2]\n",
    "rezultatas = teigiami_ir_neigiami_skaiciai(skaiciai)\n",
    "print(rezultatas)  # Rezultatas: [[2, 5], [-4, -1, -2]]"
   ]
  },
  {
   "cell_type": "code",
   "execution_count": 14,
   "metadata": {},
   "outputs": [
    {
     "name": "stdout",
     "output_type": "stream",
     "text": [
      "[-10, -11, -42]\n",
      "[30, 77, 52, 69, 42]\n"
     ]
    }
   ],
   "source": [
    "teigiami, neigiami = teigiami_ir_neigiami_skaiciai([-10, 30, 77, -11, 52, 69, -42, 42])\n",
    "print(neigiami)\n",
    "print(teigiami)"
   ]
  },
  {
   "cell_type": "markdown",
   "metadata": {},
   "source": [
    "Šiuo atveju, funkcija grąžina sąrašą, kuriame yra du sub sąrašai - vienas su teigiamais skaičiais, kitas su neigiamais skaičiais."
   ]
  },
  {
   "cell_type": "markdown",
   "metadata": {},
   "source": [
    "### Papildoma Užduotis\n",
    "\n",
    "Parašykite funkciją `faktorialas(n)`, kuri apskaičiuoja ir grąžina duoto neigiamo sveikojo skaičiaus n faktorialą. Skaičiaus n faktorialas yra visų teigiamų sveikųjų skaičių nuo 1 iki n sandauga.\n",
    "\n",
    "- Pavyzdžiui, 5 faktorialas (pažymėtas kaip 5!) yra apskaičiuojamas kaip 5 x 4 x 3 x 2 x 1 = 120.\n",
    "- Jūsų funkcija turėtų sutvarkyti atvejį, kai `n` yra lygus `0`, ir grąžinti 1 kaip 0 faktorialą.\n",
    "- Po funkcijos apibrėžimo, iškvieskite ją, kad apskaičiuotų ir spausdintų faktorialus šių skaičių: `0`, `1`, `2`, `3`, `4` ir `5`.\n",
    "\n",
    "Štai pradinis funkcijos kodas ir iškvietimai:"
   ]
  },
  {
   "cell_type": "code",
   "execution_count": 21,
   "metadata": {},
   "outputs": [
    {
     "name": "stdout",
     "output_type": "stream",
     "text": [
      "Faktorialas 0: 1\n",
      "Faktorialas 1: 1\n",
      "Faktorialas 2: 2\n",
      "Faktorialas 3: 6\n",
      "Faktorialas 4: 24\n",
      "Faktorialas 5: 120\n"
     ]
    }
   ],
   "source": [
    "def apskaičiuoti_faktorialą(n):\n",
    "    if n == 0:\n",
    "        return 1\n",
    "    else:\n",
    "        Faktorialas = 1\n",
    "        for i in range(1, n + 1):\n",
    "            Faktorialas *= i\n",
    "        return Faktorialas\n",
    "\n",
    "print(\"Faktorialas 0:\", apskaičiuoti_faktorialą(0))\n",
    "print(\"Faktorialas 1:\", apskaičiuoti_faktorialą(1))\n",
    "print(\"Faktorialas 2:\", apskaičiuoti_faktorialą(2))\n",
    "print(\"Faktorialas 3:\", apskaičiuoti_faktorialą(3))\n",
    "print(\"Faktorialas 4:\", apskaičiuoti_faktorialą(4))\n",
    "print(\"Faktorialas 5:\", apskaičiuoti_faktorialą(5))"
   ]
  }
 ],
 "metadata": {
  "kernelspec": {
   "display_name": "venv",
   "language": "python",
   "name": "python3"
  },
  "language_info": {
   "codemirror_mode": {
    "name": "ipython",
    "version": 3
   },
   "file_extension": ".py",
   "mimetype": "text/x-python",
   "name": "python",
   "nbconvert_exporter": "python",
   "pygments_lexer": "ipython3",
   "version": "3.12.1"
  }
 },
 "nbformat": 4,
 "nbformat_minor": 2
}
