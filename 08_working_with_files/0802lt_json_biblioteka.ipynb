{
 "cells": [
  {
   "cell_type": "markdown",
   "metadata": {},
   "source": [
    "<div style=\"text-align: justify;\">\n",
    "\n",
    "# JSON biblioteka\n",
    "\n",
    "<br>\n",
    "\n",
    "---\n",
    "</div>"
   ]
  },
  {
   "cell_type": "markdown",
   "metadata": {},
   "source": [
    "<div style=\"text-align: justify;\">\n",
    "\n",
    "JSON (JavaScript Object Notation) yra duomenų formatas, naudojamas duomenų keitimui tarp serverio ir kliento ar tarp dviejų skirtingų sistemų. JSON lengvai konvertuojamas į daugelio programavimo kalbų objektus, įskaitant Python.\n",
    "\n",
    "JSON formatas naudoja raktus ir reikšmes, kur raktai yra eilutės, o reikšmės gali būti eilutės, skaičiai, loginės reikšmės (tiesa arba netiesa), masyvai arba kitos JSON objektų struktūros.\n",
    "\n",
    "Pavyzdys JSON objekto:\n",
    "</div>"
   ]
  },
  {
   "cell_type": "markdown",
   "metadata": {},
   "source": [
    "```JSON\n",
    "{\n",
    "  \"vardas\": \"Jonas\",\n",
    "  \"amžius\": 30,\n",
    "  \"ar_studentas\": false,\n",
    "  \"pomėgiai\": [\"knygos\", \"filmai\", \"kelionės\"],\n",
    "  \"adresas\": {\n",
    "    \"gatvė\": \"Vytauto g. 10\",\n",
    "    \"miestas\": \"Vilnius\",\n",
    "    \"šalis\": \"Lietuva\"\n",
    "  }\n",
    "}\n",
    "```"
   ]
  },
  {
   "cell_type": "markdown",
   "metadata": {},
   "source": [
    "<div style=\"text-align: justify;\">\n",
    "\n",
    "Python kalboje galime dirbti su JSON duomenimis naudodami `json` modulį. Šis modulis leidžia konvertuoti Python objektus, tokius kaip žodynus, sąrašus, eilutes, skaičius ir loginės reikšmės, į JSON formatą ir atgal.\n",
    "\n",
    "Pagrindinės `json` modulio funkcijos yra:\n",
    "\n",
    "- `json.dump()` ir `json.dumps()` - konvertuoja Python objektą į JSON formatą.\n",
    "- `json.load()` ir `json.loads()` - konvertuoja JSON duomenis į Python objektą.\n",
    "</div>"
   ]
  },
  {
   "cell_type": "markdown",
   "metadata": {},
   "source": [
    "<div style=\"text-align: justify;\">\n",
    "\n",
    "<br>\n",
    "\n",
    "## `json.dump()`\n",
    "\n",
    "Ši funkcija konvertuoja Python objektą į JSON formatą ir rašo jį į failą. Ji priima du pagrindinius argumentus: Python objektą, kurį norite konvertuoti, ir failo objektą, į kurį norite įrašyti JSON duomenis. Paprastai naudojama kartu su `open()` funkcija, kad atidarytumėte failą rašymui.\n",
    "</div>"
   ]
  },
  {
   "cell_type": "code",
   "execution_count": null,
   "metadata": {},
   "outputs": [],
   "source": [
    "import json\n",
    "\n",
    "data = {\"vardas\": \"Jonas\", \"amžius\": 30}\n",
    "\n",
    "with open(\"duomenys.json\", \"w\", encoding=\"utf-8\") as f:\n",
    "    json.dump(data, f)"
   ]
  },
  {
   "cell_type": "markdown",
   "metadata": {},
   "source": [
    "<div style=\"text-align: justify;\">\n",
    "\n",
    "<br>\n",
    "\n",
    "## `json.dumps()`\n",
    "\n",
    "Ši funkcija konvertuoja Python objektą į JSON formatą ir grąžina JSON eilutę. Ji priima vieną argumentą: Python objektą, kurį norite konvertuoti.\n",
    "</div>"
   ]
  },
  {
   "cell_type": "code",
   "execution_count": null,
   "metadata": {},
   "outputs": [],
   "source": [
    "import json\n",
    "\n",
    "data = {\"vardas\": \"Jonas\", \"amžius\": 30}\n",
    "\n",
    "json_eilute = json.dumps(data)\n",
    "print(json_eilute)  # {\"vardas\": \"Jonas\", \"amžius\": 30}"
   ]
  },
  {
   "cell_type": "markdown",
   "metadata": {},
   "source": [
    "<div style=\"text-align: justify;\">\n",
    "\n",
    "<br>\n",
    "\n",
    "## `json.load()`\n",
    "\n",
    "Ši funkcija konvertuoja JSON duomenis iš failo į Python objektą. Ji priima vieną argumentą: failo objektą, iš kurio norite skaityti JSON duomenis. Paprastai naudojama kartu su `open()` funkcija, kad atidarytumėte failą skaitymui.\n",
    "</div>"
   ]
  },
  {
   "cell_type": "code",
   "execution_count": null,
   "metadata": {},
   "outputs": [],
   "source": [
    "import json\n",
    "\n",
    "with open(\"duomenys.json\", \"r\", encoding=\"utf-8\") as f:\n",
    "    data = json.load(f)\n",
    "\n",
    "print(data)  # {\"vardas\": \"Jonas\", \"amžius\": 30}"
   ]
  },
  {
   "cell_type": "markdown",
   "metadata": {},
   "source": [
    "<div style=\"text-align: justify;\">\n",
    "\n",
    "<br>\n",
    "\n",
    "## `json.loads()`\n",
    "\n",
    "Ši funkcija konvertuoja JSON eilutę į Python objektą. Ji priima vieną argumentą: JSON eilutę, kurią norite konvertuoti į Python objektą.\n",
    "</div>"
   ]
  },
  {
   "cell_type": "code",
   "execution_count": null,
   "metadata": {},
   "outputs": [],
   "source": [
    "import json\n",
    "\n",
    "json_eilute = '{\"vardas\": \"Jonas\", \"amžius\": 30}'\n",
    "\n",
    "data = json.loads(json_eilute)\n",
    "print(data)  # {\"vardas\": \"Jonas\", \"amžius\": 30}"
   ]
  },
  {
   "cell_type": "markdown",
   "metadata": {},
   "source": [
    "<div style=\"text-align: justify;\">\n",
    "\n",
    "<br>\n",
    "<br>\n",
    "<br>\n",
    "\n",
    "# Užduotis:\n",
    "---\n",
    "\n",
    "</div>"
   ]
  },
  {
   "cell_type": "markdown",
   "metadata": {},
   "source": [
    "<div style=\"text-align: justify;\">\n",
    "\n",
    "Patobulinkite prieš tai kurso metu vystytą savo šaldytuvo programą audojant json:\n",
    "\n",
    "paleidus programą, jeigu randamas šaldytuvo json failas, jį nuskaityti ir užpildyti šaldytuvą jo turiniu.\n",
    "\n",
    "Uždarant programą, įrašyti šaldytuvo turinį į json failą.\n",
    "</div>"
   ]
  }
 ],
 "metadata": {
  "kernelspec": {
   "display_name": "venv",
   "language": "python",
   "name": "python3"
  },
  "language_info": {
   "name": "python",
   "version": "3.12.1"
  }
 },
 "nbformat": 4,
 "nbformat_minor": 2
}
