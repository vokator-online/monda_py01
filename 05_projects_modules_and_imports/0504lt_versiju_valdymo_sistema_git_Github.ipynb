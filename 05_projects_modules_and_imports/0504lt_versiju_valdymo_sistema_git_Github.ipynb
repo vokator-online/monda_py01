{
 "cells": [
  {
   "cell_type": "markdown",
   "metadata": {},
   "source": [
    "# Versiju valdymo sistema git Github"
   ]
  },
  {
   "cell_type": "markdown",
   "metadata": {},
   "source": [
    "## Git"
   ]
  },
  {
   "cell_type": "markdown",
   "metadata": {},
   "source": [
    "Git – tai išskirstyta versijų valdymo sistema, sukurta tvarkyti viską nuo mažų iki labai didelių projektų su greitumu ir efektyvumu. Ji suteikia galimybę keliems kūrėjams dirbti su kodų baze nepažeidžiant vienas kito darbo. Git stebi jūsų darbo progresą atskirose šakose, leidžiant jums sujungti pakeitimus, kai tam esate pasiruošę."
   ]
  },
  {
   "cell_type": "markdown",
   "metadata": {},
   "source": [
    "Git pagrindiniai konceptai \n",
    "- `Repository` (Repozitorija) – tai saugykla, kurioje yra visi jūsų projekto failai ir jų versijų istorija.\n",
    "- `Commit` (Įsipareigojimas) – tai Git objektas, įrašantis momentinę projekto failų būseną.\n",
    "- `Branch` (Šaka) – tai atskira darbo kopija (versija), leidžianti kurti, redaguoti, išsaugoti ir bendrinti kodo pakeitimus, nepaveikiant pagrindinės kodo bazės (master šakos).\n",
    "- `Merge` (Sujungimas) – procesas, per kurį galima sujungti pakeitimus iš vienos šakos į kitą – dažniausiai iš kūrimo šakos į pagrindinę šaką.\n",
    "- `Clone` (Klonavimas) – veiksmas, kai nukopijuojate Git repozitoriją iš nuotolinio serverio į savo lokalią mašiną.\n",
    "- `Fork` (Atšaka) – repozitorijos kopija, kuri yra sukurta serveryje. Fork leidžia jums eksperimentuoti su pakeitimais, neveikiant originalios repozitorijos.\n",
    "- `Pull` (Tempimas) – komanda, kuri atnaujina jūsų lokalią šaką su naujausiais pakeitimais iš centrinės repozitorijos.\n",
    "- `Push` (Stūmimas) – veiksmas, kai jūs siunčiate savo commit'us iš lokalaus kompiuterio į nuotolinę repozitoriją.\n",
    "- `Head` (Galva) – rodyklė į paskutinį commit'ą jūsų dabartinėje šakoje.\n",
    "- `Conflict` (Konfliktas) – įvyksta, kai Git negali automatiškai sujungti pakeitimų iš dviejų šakų. Paprastai tai atsitinka dėl prieštaravimų tarp failų, kurie buvo keisti tuo pačiu metu.\n",
    "- `Pull Request` (Tempimo Užklausa) – tai yra prašymas kitam programuotojui peržiūrėti jūsų pakeitimus ir, jei viskas gerai, sujungti juos į pagrindinę šaką.\n",
    "- `Remote` (Nuotolinė repozitorija) – versija jūsų repozitorijos, kuri egzistuoja už lokalaus kompiuterio ribų, paprastai internete.\n",
    "- `Staging Area` (Paruošiamasis plotas) – tai yra vieta, kurioje Git laiko failus, kurie yra paruošti commit'ui.\n",
    "- `Checkout` (Atsisiųsti versiją) – komanda, kuria galima pakeisti šakas ar atstatyti darbo direktorijos failus iki jų esamos arba nurodytos versijos.\n",
    "\n",
    "Tai yra pagrindiniai Git terminai, su kuriais susidursite dirbdami su šia sistema."
   ]
  },
  {
   "cell_type": "markdown",
   "metadata": {},
   "source": [
    "## GitHub"
   ]
  },
  {
   "cell_type": "markdown",
   "metadata": {},
   "source": [
    "GitHub - tai internetinė platforma, kuri integruoja Git versijų kontrolės ir šaltinio kodo valdymo funkcijas. Ji prideda savo funkcijas, tokias kaip klaidų sekimas, užduočių valdymas ir wiki kiekvienam projektui. Tai yra bendradarbiavimo aplinka, kuri leidžia programuotojams prisidėti prie projektų iš bet kurios pasaulio vietos."
   ]
  },
  {
   "cell_type": "markdown",
   "metadata": {},
   "source": [
    "GitHub ypatybės\n",
    "\n",
    "- `Versijų kontrolė` (`Version Control`): GitHub naudoja Git, populiarią versijų kontrolės sistemą, leidžiančią kūrėjams sekti ir valdyti kodo pakeitimus.\n",
    "- `Šakojimas` (`Branching`): Kūrėjai gali sukurti šakas savo repozitorijose, leidžiančias dirbti su skirtingomis kodo versijomis neveikiant pagrindinei darbo kopijai.\n",
    "- `Merge Requests` / `Pull Requests`: Tai funkcija, leidžianti kitiems kūrėjams peržiūrėti kode padarytus pakeitimus ir juos patvirtinti prieš juos įtraukiant į pagrindinę kodų bazę.\n",
    "- `Issues Tracking`: Ši funkcija leidžia sekti programinės įrangos klaidas, funkcijų prašymus ir kitus projektų uždavinius.\n",
    "- `GitHub Actions`: Automatizacijos platforma, kuri leidžia sukurti, testuoti ir įdiegti kodą tiesiai iš GitHub repozitorijų.\n",
    "- `GitHub Pages`: Leidžia nemokamai talpinti statines svetaines tiesiai iš GitHub repozitorijos.\n",
    "- `Code Review`: Kodo peržiūros funkcija, leidžianti komandos nariams komentuoti ir siūlyti kode pakeitimus.\n",
    "- `Projektų valdymas` (`Project Management`): Įrankiai, tokie kaip projektų lentos, leidžiantys planuoti ir stebėti darbų eigą.\n",
    "- `Wiki`: Kiekviena GitHub repozitorija gali turėti savo Wiki puslapį, kur galima saugoti dokumentaciją ir vadovus.\n",
    "- `Security Features`: Įtraukia įvairias saugumo funkcijas, kaip įsipareigojimų skenavimą dėl pažeidžiamų vietų ir automatinį priklausomybių atnaujinimą.\n",
    "\n",
    "GitHub yra labai galingas įrankis programuotojams ir projektų valdytojams, suteikiantis daugybę funkcijų efektyviam bendradarbiavimui ir kodo valdymui."
   ]
  },
  {
   "cell_type": "markdown",
   "metadata": {},
   "source": [
    "## Git Įdiegimas\n",
    "\n",
    "Pirmiausia, turite atsisiųsti ir įdiegti Git savo kompiuteryje. Git galima atsisiųsti iš [oficialios Git svetainės](https://git-scm.com/downloads)."
   ]
  },
  {
   "cell_type": "markdown",
   "metadata": {},
   "source": [
    "## Git vartotojo informacijos konfigūravimas "
   ]
  },
  {
   "cell_type": "markdown",
   "metadata": {},
   "source": [
    "Norint pradėti naudotis Git, svarbu pirmiausiai susikonfigūruoti pagrindinę naudotojo informaciją. Tai apima jūsų vardą ir el. pašto adresą, kurie bus naudojami kiekviename jūsų atliktame įsipareigojime (commit). Tai yra svarbus žingsnis, nes leidžia identifikuoti įsipareigojimų (commit'ų) autorius projektų istorijoje.\n",
    "\n",
    "Atlikite šiuos veiksmus naudodami terminalą (arba komandinę eilutę):"
   ]
  },
  {
   "cell_type": "code",
   "execution_count": null,
   "metadata": {
    "vscode": {
     "languageId": "plaintext"
    }
   },
   "outputs": [],
   "source": [
    "git config --global user.name \"Jūsų Vardas\"\n",
    "git config --global user.email \"jusu.email@example.com\""
   ]
  },
  {
   "cell_type": "markdown",
   "metadata": {},
   "source": [
    "Atkreipkite dėmesį, kad ši informacija bus saugoma jūsų Git konfigūracijos faile ir bus naudojama kiekvieno naujo įsipareigojimo (commit) metu, kad identifikuotų jus kaip autorių."
   ]
  },
  {
   "cell_type": "markdown",
   "metadata": {},
   "source": [
    "**Checking settings:** Jei norite matyti visus savo nustatymus ir iš kur jie atėjo."
   ]
  },
  {
   "cell_type": "code",
   "execution_count": null,
   "metadata": {
    "vscode": {
     "languageId": "plaintext"
    }
   },
   "outputs": [],
   "source": [
    "git config --list"
   ]
  },
  {
   "cell_type": "markdown",
   "metadata": {},
   "source": [
    "**Starting a Git Repository**: Norėdami pradėti naują repo, sukurkite naują katalogą, atidarykite jį ir paleiskite git init komandą:"
   ]
  },
  {
   "cell_type": "code",
   "execution_count": null,
   "metadata": {
    "vscode": {
     "languageId": "plaintext"
    }
   },
   "outputs": [],
   "source": [
    "mkdir naujas-projektas\n",
    "cd naujas-projektas\n",
    "git init"
   ]
  },
  {
   "cell_type": "markdown",
   "metadata": {},
   "source": [
    "**Git status**: Norėdami pamatyti, kokia yra jūsų projekto dabartinė būsena, naudokite:"
   ]
  },
  {
   "cell_type": "code",
   "execution_count": null,
   "metadata": {
    "vscode": {
     "languageId": "plaintext"
    }
   },
   "outputs": [],
   "source": [
    "git status"
   ]
  },
  {
   "cell_type": "markdown",
   "metadata": {},
   "source": [
    "**Staging Changes**: Prieš įsipareigojant (commit'inant) savo pakeitimus, jums juos reikia stadijuoti naudojant git add:"
   ]
  },
  {
   "cell_type": "code",
   "execution_count": null,
   "metadata": {
    "vscode": {
     "languageId": "plaintext"
    }
   },
   "outputs": [],
   "source": [
    "git add <failo_pavadinimas>  # Prideda konkretų failą\n",
    "git add .                    # Prideda visus pakeitimus esamus dabartinėje direktorijoje"
   ]
  },
  {
   "cell_type": "markdown",
   "metadata": {},
   "source": [
    "**Committing Changes** Norėdami išsaugoti jūsų stadijuotus pakeitimus, turite juos įsipareigoti (commit) su pranešimu apibūdinant, ką esate padarę:"
   ]
  },
  {
   "cell_type": "code",
   "execution_count": null,
   "metadata": {
    "vscode": {
     "languageId": "plaintext"
    }
   },
   "outputs": [],
   "source": [
    "git commit -m \"Jūsų įsipareigojimo (commit) pranešimas\""
   ]
  },
  {
   "cell_type": "markdown",
   "metadata": {},
   "source": [
    "**Daugiau Git komandų**\n",
    "\n",
    "- `git log`: Peržiūrėti įsipareigojimų (commit) istoriją jūsų repo.\n",
    "- `git branch`: Išvardinti arba sukurti šakas (branches).\n",
    "- `git checkout`: Pereiti į kitą šaką (branch).\n",
    "- `git merge`: Sujunkti pakeitimus iš vienos šakos į kitą.\n",
    "- `git reset`: Atšaukti pakeitimų stadijavimą arba atstatyti ankstesnį įsipareigojimą (commit).\n",
    "- `git clone`: Sukurti vietinę kopiją."
   ]
  },
  {
   "cell_type": "markdown",
   "metadata": {},
   "source": [
    "## Darbas su GitHub"
   ]
  },
  {
   "cell_type": "markdown",
   "metadata": {},
   "source": [
    "**Susikurkite GitHub Paskyrą**: Užsiregistruokite GitHub paskyrą adresu [github.com](https://github.com), jei dar to nepadarėte.\n",
    "\n",
    "**Naujo 'repozitory' sukūrimas**: GitHub'e sukurkite naują saugyklą spustelėdami \"+\" piktogramą viršutiniame dešiniajame kampe ir pasirinkdami \"New Repository\" (Nauja Saugykla).\n",
    "\n",
    "**Susieti turimą Git repozitory su GitHub**: Norėdami susieti vietinę Git saugyklą su GitHub, naudokite šias komandas:"
   ]
  },
  {
   "cell_type": "code",
   "execution_count": null,
   "metadata": {
    "vscode": {
     "languageId": "plaintext"
    }
   },
   "outputs": [],
   "source": [
    "cd path_to_your_project\n",
    "git init\n",
    "git remote add origin https://github.com/your_username/your_repository.git\n",
    "git add .\n",
    "git commit -m \"Initial commit\"\n",
    "git push -u origin master"
   ]
  },
  {
   "cell_type": "markdown",
   "metadata": {},
   "source": [
    "**Pull Changes**: Norėdami atnaujinti vietinę saugyklą su pakeitimais iš nuotolinės saugyklos, naudokite šią komandą:"
   ]
  },
  {
   "cell_type": "code",
   "execution_count": null,
   "metadata": {
    "vscode": {
     "languageId": "plaintext"
    }
   },
   "outputs": [],
   "source": [
    "git pull origin master"
   ]
  },
  {
   "cell_type": "markdown",
   "metadata": {},
   "source": [
    "**Resolve Conflicts**: Jei atliekant 'pull' arba 'merge', atsiranda konfliktų, naudokite programavimo kodų redaktorių, toki kaip Visual Studio Code, kad juos išspręstumėte. Išsaugokite pakeitimus, pridėkite juos ir atlikite 'commit' operaciją."
   ]
  },
  {
   "cell_type": "markdown",
   "metadata": {},
   "source": [
    "[Officiali Git dokumentacija](https://git-scm.com/doc)"
   ]
  },
  {
   "cell_type": "markdown",
   "metadata": {},
   "source": [
    "## Integracija su Visual Studio Code\n",
    "\n",
    "**Open project**: Atidarykite savo projekto aplanką naudodami VS Code.\n",
    "\n",
    "**Source Control**: Spustelėkite ant \"Source Control\" piktogramos šoninėje juostoje, norėdami pasiekti Git funkcionalumą.\n",
    "\n",
    "**Stage and Commit**: Naudokite \"+\" piktogramą, norėdami stebėti pakeitimus, ir varnelės mygtuką, norėdami atlikti įsipareigojimą su pranešimu.\n",
    "\n",
    "**Sync with Remote**: Norėdami stumti (push) ir traukti pakeitimus (pull) iš GitHub, naudokite \"Sync\" mygtuką kairiajame apatiniame kampe."
   ]
  }
 ],
 "metadata": {
  "language_info": {
   "name": "python"
  }
 },
 "nbformat": 4,
 "nbformat_minor": 2
}
