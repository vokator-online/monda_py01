{
 "cells": [
  {
   "cell_type": "markdown",
   "metadata": {},
   "source": [
    "# Object-Oriented Programming (OOP)\n",
    "\n",
    "`Object-Oriented Programming` (`OOP`) is a programming paradigm that helps organize and structure code in a clean manner by modeling real-world entities as objects. These objects can have their state (properties) and behavior (methods). OOP is a fundamental concept in programming, providing an intuitive way to design and manage complex software systems.\n",
    "\n",
    "Objects are divided into small, independent modules, and these properties and methods are defined through classes, which act as the template for an object. Thus, OOP allows the creation of programs that are easier to adapt, extend, and maintain due to a clearer modular structure."
   ]
  },
  {
   "cell_type": "markdown",
   "metadata": {},
   "source": [
    "---\n",
    "\n",
    "## Creating Classes\n",
    "Creating classes is a relatively simple process. You need to use the keyword \"`class`,\" followed by the class name. For example:"
   ]
  },
  {
   "cell_type": "code",
   "execution_count": null,
   "metadata": {},
   "outputs": [],
   "source": [
    "class Car:\n",
    "    brand = ''\n",
    "    model = ''\n",
    "    year = ''\n",
    "    color = ''"
   ]
  },
  {
   "cell_type": "markdown",
   "metadata": {},
   "source": [
    "## Creating an Object\n",
    "To create a new object based on an existing class, you need to provide the necessary arguments:"
   ]
  },
  {
   "cell_type": "code",
   "execution_count": null,
   "metadata": {},
   "outputs": [],
   "source": [
    "# Creating instances (objects) of the Car class\n",
    "first_car = Car()\n",
    "\n",
    "# Setting attributes for first_car\n",
    "first_car.brand = 'Toyota'\n",
    "first_car.model = 'Camry'\n",
    "first_car.year = 2020\n",
    "first_car.color = 'Blue'"
   ]
  },
  {
   "cell_type": "markdown",
   "metadata": {},
   "source": [
    "Now, the variable `first_car` is an object that stores data about the car according to the parameters we have specified.\n",
    "\n",
    "Here's how you can access and print the attributes of these car objects:"
   ]
  },
  {
   "cell_type": "code",
   "execution_count": null,
   "metadata": {},
   "outputs": [],
   "source": [
    "print(first_car.brand) # Toyota\n",
    "print(first_car.model) # Camry\n",
    "print(first_car.year) # 2020\n",
    "print(first_car.color) # blue"
   ]
  },
  {
   "cell_type": "markdown",
   "metadata": {},
   "source": [
    "## Changing Attributes\n",
    "You can change an object's attributes by assigning a new value to the object's variable, for example:"
   ]
  },
  {
   "cell_type": "code",
   "execution_count": null,
   "metadata": {},
   "outputs": [],
   "source": [
    "first_car.year = 2015\n",
    "\n",
    "print(first_car.year)  # 2015"
   ]
  },
  {
   "cell_type": "markdown",
   "metadata": {},
   "source": [
    "## Default Attributes\n",
    "\n",
    "A default property is a class attribute to which a default value is assigned, and this value will be used if no other value is assigned to the object. We can modify the car class, for example:"
   ]
  },
  {
   "cell_type": "code",
   "execution_count": null,
   "metadata": {},
   "outputs": [],
   "source": [
    "class Car:\n",
    "    brand = ''\n",
    "    model = ''\n",
    "    year = 2023\n",
    "    color = 'gray'\n",
    "\n",
    "second_car = Car()\n",
    "second_car.brand = 'BMW'\n",
    "second_car.model = 'X5'\n",
    "second_car.year = 2001\n",
    "print(second_car.year)  # 2001\n",
    "print(second_car.color)  # gray"
   ]
  },
  {
   "cell_type": "markdown",
   "metadata": {},
   "source": [
    "Explanation:\n",
    "\n",
    "In this code snippet, the text explains the concept of default properties in Python classes.\n",
    "\n",
    "```python\n",
    "brand = '' \n",
    "model = ''\n",
    "year = 2023 \n",
    "color = 'gray' \n",
    "```\n",
    "\n",
    "These lines define class attributes with `default values`. If an object of the class does not have a specific value assigned to these attributes, these default values will be used.\n",
    "\n",
    "```python\n",
    "second_car = Car() \n",
    "```\n",
    "\n",
    "This line creates an instance of the \"`Car`\" class named \"`second_car`.\"\n",
    "\n",
    "```python\n",
    "second_car.brand = 'BMW'\n",
    "second_car.model = 'X5' \n",
    "second_car.year = 2001 \n",
    "```\n",
    "These lines assign specific values to the attributes of the \"`second_car`\" object, overriding the default values."
   ]
  },
  {
   "cell_type": "markdown",
   "metadata": {},
   "source": [
    "## Different number of attributes\n",
    "\n",
    "Classes whose objects can be initialized with a different number of attributes are useful when we want to allow the user to specify only a portion of the object's attributes, while the remaining attributes are assigned default values.\n",
    "\n",
    "*For example*:"
   ]
  },
  {
   "cell_type": "code",
   "execution_count": null,
   "metadata": {},
   "outputs": [],
   "source": [
    "print(first_car.brand, first_car.color)  # Audi white\n",
    "print(second_car.brand, second_car.color)  # BMW gray"
   ]
  },
  {
   "cell_type": "markdown",
   "metadata": {},
   "source": [
    "### Quick assignment 1: Creating a Class and Changing Properties\n",
    "\n",
    "#### Assignment Instructions:\n",
    "\n",
    "1. Create a new class called \"`Employee`\" with the following attributes: \"first_name,\" \"last_name,\" \"position,\" and \"salary\" (with a default minimum salary).\n",
    "\n",
    "1. Create a new object of the \"Employee\" class and name it \"`employee`.\"\n",
    "\n",
    "1. Print the employee's `position` and `salary`.\n",
    "\n",
    "1. Change the employee's `salary`.\n",
    "\n",
    "1. Print the full employee information."
   ]
  },
  {
   "cell_type": "code",
   "execution_count": null,
   "metadata": {},
   "outputs": [],
   "source": [
    "# Your code here"
   ]
  },
  {
   "cell_type": "markdown",
   "metadata": {},
   "source": [
    "---\n",
    "\n",
    "## Object Methods\n",
    "A method is a function that is defined inside a class. To create a method, you need to define it as a function and add it to the class, for example:"
   ]
  },
  {
   "cell_type": "code",
   "execution_count": null,
   "metadata": {},
   "outputs": [],
   "source": [
    "class Car:\n",
    "    brand = ''\n",
    "    model = ''\n",
    "    year = 2023\n",
    "    color = 'gray'\n",
    "\n",
    "    def drive(self):\n",
    "        print('Driving')\n",
    "\n",
    "    def honk(self, message='Honk', times=1):\n",
    "        print(message * times)"
   ]
  },
  {
   "cell_type": "code",
   "execution_count": null,
   "metadata": {},
   "outputs": [],
   "source": [
    "second_car = Car()\n",
    "\n",
    "second_car.drive()\n",
    "second_car.honk()\n",
    "second_car.honk('Honk ', 3)"
   ]
  },
  {
   "cell_type": "markdown",
   "metadata": {},
   "source": [
    "### Quick Assignment 2: Car Actions\n",
    "\n",
    "Assignment Instructions:\n",
    "\n",
    "1. Create a Python class called `Car` with two object methods: `start_engine` and `stop_engine`.\n",
    "- The `start_engine` method should print \"`Engine started`\" when called.\n",
    "- The `stop_engine` method should print \"`Engine stopped`\" when called.\n",
    "2. Create an instance of the Car class.\n",
    "- Call the `start_engine` method on the created car object.\n",
    "- Call the `stop_engine` method on the created car object."
   ]
  },
  {
   "cell_type": "code",
   "execution_count": null,
   "metadata": {},
   "outputs": [],
   "source": [
    "# Your code here"
   ]
  },
  {
   "cell_type": "markdown",
   "metadata": {},
   "source": [
    "---\n",
    "\n",
    "## `__init__` Constructor"
   ]
  },
  {
   "cell_type": "markdown",
   "metadata": {},
   "source": [
    "If you want to make the class more flexible, you can use the `__init__` constructor. `__init__` is a special method that is called when a new object is created from the class. You can override an existing class, *for example*:"
   ]
  },
  {
   "cell_type": "code",
   "execution_count": null,
   "metadata": {},
   "outputs": [],
   "source": [
    "class Car:\n",
    "    def __init__(self, brand, model, year=2023, color='gray'):\n",
    "        self.brand = brand\n",
    "        self.model = model\n",
    "        self.year = year\n",
    "        self.color = color"
   ]
  },
  {
   "cell_type": "markdown",
   "metadata": {},
   "source": [
    "The constructor `__init__` must have the parameter self, as it indicates that the properties are associated with the object that will be created from this class.\n",
    "\n",
    "Knowing the class constructor, we can easily create a new object by simply setting the desired values, *for example*:"
   ]
  },
  {
   "cell_type": "code",
   "execution_count": null,
   "metadata": {},
   "outputs": [],
   "source": [
    "trecias_automobilis = Car('Mercedes', 'C-Class', 2021, 'yellow')\n",
    "\n",
    "print(trecias_automobilis.brand)  # Mercedes\n",
    "print(trecias_automobilis.model)  # C-Class\n",
    "print(trecias_automobilis.year)  # 2021\n",
    "print(trecias_automobilis.color) # geltona"
   ]
  },
  {
   "cell_type": "markdown",
   "metadata": {},
   "source": [
    "### Quick assignment 3: Person Initialization\n",
    "\n",
    "#### Assignment Instructions:\n",
    "\n",
    "1. Create a Python class called `Person` with an `__init__` constructor method.\n",
    "2. Inside the `__init__` method, define and initialize attributes for a person's name, age, and gender.\n",
    "3. Set default values for age as 0 and gender as 'Unknown'.\n",
    "4. Create an instance of the Person class with the following details:\n",
    "\n",
    "    - Name: 'Alice'\n",
    "    - Age: 30\n",
    "    - Gender: 'Female'\n",
    "    \n",
    "5. Print out the name, age, and gender of the created person object.\n",
    "\n",
    "Your code should resemble the following:\n",
    "\n",
    "```python\n",
    "class Person:\n",
    "    def __init__(self, name, age=0, gender='Unknown'):\n",
    "```\n"
   ]
  },
  {
   "cell_type": "code",
   "execution_count": null,
   "metadata": {},
   "outputs": [],
   "source": [
    "# Your code here"
   ]
  },
  {
   "cell_type": "markdown",
   "metadata": {},
   "source": [
    "---\n",
    "\n",
    "## Methods with a Variable Number of Properties, *args, **kwargs:\n",
    "In the Python programming language, you can define methods with a variable number of arguments using the `*args` and `**kwargs` syntax.\n",
    "\n",
    "`*args` (Variable Positional Arguments):\n",
    "\n",
    "This allows a function to accept a varying number of arguments, which will be packed into a tuple and passed as a single variable. These arguments are called \"positional\" because they are passed according to their position in the argument list. *for example*:"
   ]
  },
  {
   "cell_type": "code",
   "execution_count": null,
   "metadata": {},
   "outputs": [],
   "source": [
    "class Car:\n",
    "    def __init__(self, brand, model, *args):\n",
    "        self.brand = brand\n",
    "        self.model = model\n",
    "        self.additional = args\n",
    "\n",
    "    def display_additional(self):\n",
    "        print(self.additional)\n",
    "\n",
    "car = Car('Audi', 'A4', '2022', 'Black', 'Automatic', 'GPS')\n",
    "car.display_additional()  # ('2022', 'Black', 'Automatic', 'GPS')\n"
   ]
  },
  {
   "cell_type": "markdown",
   "metadata": {},
   "source": [
    "`**kwargs` (Variable Keyword Arguments):\n",
    "\n",
    "are used in methods when we want to pass an unknown number of keyword arguments."
   ]
  },
  {
   "cell_type": "code",
   "execution_count": null,
   "metadata": {},
   "outputs": [],
   "source": [
    "class Car:\n",
    "    def __init__(self, brand, model, **kwargs):\n",
    "        self.brand = brand\n",
    "        self.model = model\n",
    "        self.additional = kwargs\n",
    "\n",
    "    def display_additional(self):\n",
    "        print(self.additional)\n",
    "\n",
    "car = Car('Audi', 'A4', year=2022, color='Black', transmission='Automatic', gps=True)\n",
    "car.display_additional()  # {'year': 2022, 'color': 'Black', 'transmission': 'Automatic', 'gps': True}\n"
   ]
  },
  {
   "cell_type": "markdown",
   "metadata": {},
   "source": [
    "- In both examples, you can see that `*args` and `**kwargs` allow you to pass and collect an arbitrary number of arguments, making your methods more flexible and capable of handling different scenarios with varying input."
   ]
  },
  {
   "cell_type": "markdown",
   "metadata": {},
   "source": [
    "### Quick Assignment 4: Mathematical Operations\n",
    "\n",
    "Assignment Instructions:\n",
    "\n",
    "Create a Python class called `Calculator` with the following methods:\n",
    "\n",
    "- `add` method that accepts any number of arguments and returns their sum.\n",
    "- `multiply` method that accepts two or more arguments and returns their product.\n",
    "- `power` method that accepts two arguments, a base, and an exponent, and returns the result of raising the base to the exponent power. Use the `*args` and `**kwargs` features to handle variable-length arguments.\n",
    "\n",
    "Create an instance of the Calculator class.\n",
    "\n",
    "Perform the following operations and print the results:\n",
    "\n",
    "1. Add the numbers 5, 10, and 15.\n",
    "1. Multiply the numbers 2, 3, and 4.\n",
    "1. Calculate 2 raised to the power of 5."
   ]
  },
  {
   "cell_type": "code",
   "execution_count": null,
   "metadata": {},
   "outputs": [],
   "source": [
    "# Your code here"
   ]
  },
  {
   "cell_type": "markdown",
   "metadata": {},
   "source": [
    "---\n",
    "\n",
    "## How to Change Object Printing\n",
    "\n",
    "You can use the `__str__` method to print objects, which is designed to return a string representation of the object. \n",
    "- This method is called when an object is printed or used as a string argument. \n",
    "- If the `__str__` method is not defined in the class, the default method is used, which simply prints the class name and its memory location.\n",
    "\n",
    "Example without `__str__` method (default behavior):"
   ]
  },
  {
   "cell_type": "code",
   "execution_count": null,
   "metadata": {},
   "outputs": [],
   "source": [
    "print(second_car)  # example: <__main__.Car object at 0x7f6de6804c70>"
   ]
  },
  {
   "cell_type": "markdown",
   "metadata": {},
   "source": [
    "By defining the `__str__` method, you can provide a clearer representation of the object:"
   ]
  },
  {
   "cell_type": "code",
   "execution_count": null,
   "metadata": {},
   "outputs": [],
   "source": [
    "class Car:\n",
    "    def __init__(self, brand, model, year=2023, color='gray'):\n",
    "        self.brand = brand\n",
    "        self.model = model\n",
    "        self.year = year\n",
    "        self.color = color\n",
    "\n",
    "    def __str__(self):\n",
    "        return f'{self.brand} {self.model}: {self.year} year, color {self.color}'\n",
    "\n",
    "second_car = Car(\"BMW\", \"X5\", 2021)\n",
    "\n",
    "print(second_car)  # BMW X5: 2021 year, color gray\n"
   ]
  },
  {
   "cell_type": "markdown",
   "metadata": {},
   "source": [
    "### Quick Assignment 5: Customizing Object Printing in Python\n",
    "\n",
    "Objective:\n",
    "The objective of this assignment is to understand and implement the `__str__` method in Python classes to customize the string representation of objects.\n",
    "\n",
    "Assignment Instructions:\n",
    "\n",
    "1. Read and understand the provided explanation about customizing object printing in Python using the `__str__` method.\n",
    "\n",
    "2. Create a Python class named `Book` with the following attributes:\n",
    "\n",
    "    - title (string)\n",
    "    - author (string)\n",
    "    - publication_year (integer)\n",
    "    - genre (string)\n",
    "\n",
    "3. Implement the `__str__` method within the Book class to customize the string representation of a book object. \n",
    "- The string representation should display all the attributes of the book in a clear and informative format.\n",
    "\n",
    "4. Create at least two instances of the Book class with different book details.\n",
    "\n",
    "5. Print both book objects to demonstrate the customized string representation using the `__str__` method."
   ]
  },
  {
   "cell_type": "code",
   "execution_count": null,
   "metadata": {},
   "outputs": [],
   "source": [
    "# Your code here"
   ]
  },
  {
   "cell_type": "markdown",
   "metadata": {},
   "source": [
    "---\n",
    "\n",
    "## String as an Object\n",
    "\n",
    "A string represents textual information and can be processed and manipulated in various ways using methods and functions. \n",
    "\n",
    "For example:"
   ]
  },
  {
   "cell_type": "code",
   "execution_count": null,
   "metadata": {},
   "outputs": [],
   "source": [
    "greeting = 'Hello, world'"
   ]
  },
  {
   "cell_type": "markdown",
   "metadata": {},
   "source": [
    "Like any other object, a string can be represented using the `type()` function:"
   ]
  },
  {
   "cell_type": "code",
   "execution_count": null,
   "metadata": {},
   "outputs": [],
   "source": [
    "print(type(greeting))  # <class 'str'>"
   ]
  },
  {
   "cell_type": "markdown",
   "metadata": {},
   "source": [
    "We can also check the memory location of a string object using the `id()` function:"
   ]
  },
  {
   "cell_type": "code",
   "execution_count": null,
   "metadata": {},
   "outputs": [],
   "source": [
    "print(id(greeting))  # 140539373632176"
   ]
  },
  {
   "cell_type": "markdown",
   "metadata": {},
   "source": [
    "We can split a text string into individual words using the `split()` method:"
   ]
  },
  {
   "cell_type": "code",
   "execution_count": null,
   "metadata": {},
   "outputs": [],
   "source": [
    "print(greeting.split())  # ['Hello,', 'world']"
   ]
  },
  {
   "cell_type": "markdown",
   "metadata": {},
   "source": [
    "We can convert a string object to uppercase using the `upper()` method:"
   ]
  },
  {
   "cell_type": "code",
   "execution_count": null,
   "metadata": {},
   "outputs": [],
   "source": [
    "print(greeting.upper())  # HELLO, WORLD"
   ]
  },
  {
   "cell_type": "markdown",
   "metadata": {},
   "source": [
    "String objects are ordered, and their characters are treated as a sequence. We can access individual string characters by indexing the string:"
   ]
  },
  {
   "cell_type": "code",
   "execution_count": null,
   "metadata": {},
   "outputs": [],
   "source": [
    "print(greeting[0])  # H\n",
    "print(greeting[7])  # w\n"
   ]
  },
  {
   "cell_type": "markdown",
   "metadata": {},
   "source": [
    "You can sort a list of strings using the `sort()` method or the `sorted()` function. Here's how:"
   ]
  },
  {
   "cell_type": "code",
   "execution_count": null,
   "metadata": {},
   "outputs": [],
   "source": [
    "fruits = ['apple', 'banana', 'cherry', 'date', 'blueberry']\n",
    "fruits.sort()  # Sorts the list in-place\n",
    "print(fruits)  # Output: ['apple', 'banana', 'blueberry', 'cherry', 'date']"
   ]
  },
  {
   "cell_type": "markdown",
   "metadata": {},
   "source": [
    "Alternatively, you can use the `sorted()` function to sort a list and create a new sorted list without modifying the original:"
   ]
  },
  {
   "cell_type": "code",
   "execution_count": null,
   "metadata": {},
   "outputs": [],
   "source": [
    "fruits = ['apple', 'banana', 'cherry', 'date', 'blueberry']\n",
    "sorted_fruits = sorted(fruits)\n",
    "print(sorted_fruits)  # Output: ['apple', 'banana', 'blueberry', 'cherry', 'date']"
   ]
  },
  {
   "cell_type": "markdown",
   "metadata": {},
   "source": [
    "__Note:__ When sorting strings, Python uses alphabetical order, with uppercase letters coming before lowercase letters.\n",
    "\n",
    "Strings are a fundamental data type in Python, and understanding how to manipulate and sort them is a valuable skill."
   ]
  },
  {
   "cell_type": "markdown",
   "metadata": {},
   "source": [
    "## Objects in a List or Dictionary\n",
    "\n",
    "Objects of a class can be stored not only as individual variables but also as elements in a `list` or `dictionary`. This can be useful when you need to process many objects and organize them neatly.\n",
    "\n",
    "Storing and Iterating Objects in a List:"
   ]
  },
  {
   "cell_type": "code",
   "execution_count": null,
   "metadata": {},
   "outputs": [],
   "source": [
    "cars = []\n",
    "\n",
    "first_car = Car('Audi', 'A6', 2019, 'white')\n",
    "second_car = Car(\"BMW\", \"X5\", 2021)\n",
    "fourth_car = Car('Volkswagen', 'Golf')\n",
    "\n",
    "cars.append(first_car)\n",
    "cars.append(second_car)\n",
    "cars.append(fourth_car)\n",
    "\n",
    "for car in cars:\n",
    "    print(car)\n"
   ]
  },
  {
   "cell_type": "markdown",
   "metadata": {},
   "source": [
    "Storing Objects in a Dictionary:"
   ]
  },
  {
   "cell_type": "code",
   "execution_count": null,
   "metadata": {},
   "outputs": [],
   "source": [
    "cars = {}\n",
    "\n",
    "cars['Peter'] = Car('Toyota', 'Corolla', 2022, 'red')\n",
    "cars['John'] = Car('Volkswagen', 'Golf')\n",
    "cars['Anthony'] = Car('Audi', 'A6', color='white')\n",
    "\n",
    "for owner, car in cars.items():\n",
    "    print(f\"{owner}: {car}\")\n"
   ]
  },
  {
   "cell_type": "markdown",
   "metadata": {},
   "source": [
    "This approach allows for the organized storage and retrieval of objects, making it easier to work with large collections of data."
   ]
  },
  {
   "cell_type": "markdown",
   "metadata": {},
   "source": [
    "### Assignment 5: Organizing Objects in Lists and Dictionaries\n",
    "\n",
    "Objective:\n",
    "\n",
    "The objective of this assignment is to understand and practice storing objects of a class in both lists and dictionaries in Python, and to learn how to iterate through and retrieve objects from these data structures.\n",
    "\n",
    ">Assignment instructions:\n",
    "\n",
    "1. Review the provided explanation about storing objects of a class in lists and dictionaries in Python.\n",
    "\n",
    "1. Create a Python class named `Student` with the following attributes:\n",
    "\n",
    "    - `name` (string)\n",
    "    - `student_id` (integer)\n",
    "    - `grade` (string)\n",
    "    \n",
    "3. Create an empty list called `student_list` to store instances of the `Student` class.\n",
    "\n",
    "4. Create at least three instances of the `Student` class with different student details and add them to the `student_list`.\n",
    "\n",
    "5. Use a `for` loop to iterate through the `student_list` and print the details of each student.\n",
    "\n",
    "6. Create an empty dictionary called `student_dict` to store instances of the `Student` class. Use the student's name as the key.\n",
    "\n",
    "7. Add at least three instances of the `Student` class to the `student_dict` with different names as keys.\n",
    "\n",
    "8. Use a `for` loop to iterate through the `student_dict` and print the name and grade of each student."
   ]
  },
  {
   "cell_type": "code",
   "execution_count": null,
   "metadata": {},
   "outputs": [],
   "source": [
    "# Your code here"
   ]
  }
 ],
 "metadata": {
  "kernelspec": {
   "display_name": "Python 3",
   "language": "python",
   "name": "python3"
  },
  "language_info": {
   "codemirror_mode": {
    "name": "ipython",
    "version": 3
   },
   "file_extension": ".py",
   "mimetype": "text/x-python",
   "name": "python",
   "nbconvert_exporter": "python",
   "pygments_lexer": "ipython3",
   "version": "3.10.6"
  },
  "orig_nbformat": 4
 },
 "nbformat": 4,
 "nbformat_minor": 2
}
