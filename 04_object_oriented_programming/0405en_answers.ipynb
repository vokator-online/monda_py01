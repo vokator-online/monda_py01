{
 "cells": [
  {
   "cell_type": "markdown",
   "metadata": {},
   "source": [
    "# `Assignment 1: Method Overriding`\n",
    "same for lt, eng"
   ]
  },
  {
   "cell_type": "code",
   "execution_count": null,
   "metadata": {},
   "outputs": [],
   "source": [
    "class Animal:\n",
    "    def make_sound(self):\n",
    "        pass  # This is a placeholder method in the base class\n",
    "\n",
    "\n",
    "class Dog(Animal):\n",
    "    def make_sound(self):\n",
    "        print(\"The dog barks\")\n",
    "\n",
    "\n",
    "class Cat(Animal):\n",
    "    def make_sound(self):\n",
    "        print(\"The cat meows\")\n",
    "\n",
    "\n",
    "# Create instances of Dog and Cat\n",
    "dog = Dog()\n",
    "cat = Cat()\n",
    "\n",
    "# Call the make_sound() method for both instances\n",
    "dog.make_sound()  # Output: The dog barks\n",
    "cat.make_sound()  # Output: The cat meows"
   ]
  },
  {
   "cell_type": "markdown",
   "metadata": {},
   "source": [
    "# lt `Užduotis 2: darbuotojo informacija`"
   ]
  },
  {
   "cell_type": "code",
   "execution_count": null,
   "metadata": {},
   "outputs": [],
   "source": [
    "class Darbuotojas:\n",
    "    def __init__(self, vardas, pavarde, atlyginimas=1000):\n",
    "        self.vardas = vardas\n",
    "        self.pavarde = pavarde\n",
    "        self.atlyginimas = atlyginimas\n",
    "\n",
    "    def info(self):\n",
    "        print(f'---\\n{self.vardas} {self.pavarde}, atlyginimas: {self.atlyginimas} €')\n",
    "\n",
    "\n",
    "class Administratorius(Darbuotojas):\n",
    "    pass\n",
    "\n",
    "\n",
    "class Vadovas(Darbuotojas):\n",
    "    def __init__(self, vardas, pavarde, atlyginimas=2000, premija=0):\n",
    "        super().__init__(vardas, pavarde, atlyginimas)\n",
    "        self.premija = premija\n",
    "\n",
    "    def info(self):\n",
    "        super().info()\n",
    "        print(f'Premija: {self.premija} €')\n",
    "\n",
    "\n",
    "darbuotojas1 = Darbuotojas('Jonas', 'Jonaitis')\n",
    "darbuotojas2 = Darbuotojas('Petras', 'Petraitis', 1200)\n",
    "darbuotojas3 = Administratorius('Juozas', 'Juozaitis', 900)\n",
    "vadovas1 = Vadovas('Antanas', 'Antanaitis', premija=500)\n",
    "\n",
    "darbuotojai = [darbuotojas1, darbuotojas2, darbuotojas3, vadovas1]\n",
    "\n",
    "for darbuotojas in darbuotojai:\n",
    "    darbuotojas.info()"
   ]
  },
  {
   "cell_type": "markdown",
   "metadata": {},
   "source": [
    "# eng `Assignment 2: Calling an Inherited Method`"
   ]
  },
  {
   "cell_type": "code",
   "execution_count": null,
   "metadata": {},
   "outputs": [],
   "source": [
    "class BankAccount:\n",
    "    def __init__(self, account_number, account_holder, balance):\n",
    "        self.account_number = account_number\n",
    "        self.account_holder = account_holder\n",
    "        self.balance = balance\n",
    "\n",
    "    def display_info(self):\n",
    "        print(\"Account Number:\", self.account_number)\n",
    "        print(\"Account Holder:\", self.account_holder)\n",
    "        print(\"Balance:\", self.balance)\n",
    "\n",
    "\n",
    "class SavingsAccount(BankAccount):\n",
    "    def __init__(self, account_number, account_holder, balance, interest_rate):\n",
    "        super().__init__(account_number, account_holder, balance)\n",
    "        self.interest_rate = interest_rate\n",
    "\n",
    "    def display_info(self):\n",
    "        super().display_info()\n",
    "        print(\"Interest Rate:\", self.interest_rate * 100, \"%\")\n",
    "\n",
    "\n",
    "# Create a bank account and display its information\n",
    "account1 = BankAccount(\"12345\", \"Alice\", 1000.0)\n",
    "account1.display_info()\n",
    "\n",
    "# Create a savings account and display its information\n",
    "savings_account1 = SavingsAccount(\"54321\", \"Bob\", 5000.0, 0.03)  # 3% annual interest rate\n",
    "savings_account1.display_info()"
   ]
  }
 ],
 "metadata": {
  "kernelspec": {
   "display_name": "Python 3",
   "language": "python",
   "name": "python3"
  },
  "language_info": {
   "codemirror_mode": {
    "name": "ipython",
    "version": 3
   },
   "file_extension": ".py",
   "mimetype": "text/x-python",
   "name": "python",
   "nbconvert_exporter": "python",
   "pygments_lexer": "ipython3",
   "version": "3.10.6"
  },
  "orig_nbformat": 4
 },
 "nbformat": 4,
 "nbformat_minor": 2
}
