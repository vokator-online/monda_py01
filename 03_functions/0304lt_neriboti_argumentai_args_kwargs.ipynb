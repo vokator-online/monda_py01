{
 "cells": [
  {
   "cell_type": "markdown",
   "metadata": {},
   "source": [
    "# Neriboti argumentai `*args` ir `**kwargs`\n",
    "\n",
    "## `*args`\n",
    "\n",
    "- yra ypatingas Python sintaksės elementas, leidžiantis perduoti bet kokį pozicinio argumento skaičių į funkciją.\n",
    "- sukuria tuple iš visų perduotų pozicinių argumentų, kurią galima naudoti kaip bet kurią kitą tuple.\n",
    "\n",
    "**Pavyzdys**:"
   ]
  },
  {
   "cell_type": "code",
   "execution_count": null,
   "metadata": {},
   "outputs": [],
   "source": [
    "def spausdinti_args(*args):\n",
    "    for arg in args:\n",
    "        print(arg)\n",
    "\n",
    "spausdinti_args(1, 2, 3, \"Labas\", \"Pasauli\")"
   ]
  },
  {
   "cell_type": "markdown",
   "metadata": {},
   "source": [
    "`Sumavimo` funkcijos pavyzdys naudojant `*args`:"
   ]
  },
  {
   "cell_type": "code",
   "execution_count": null,
   "metadata": {},
   "outputs": [],
   "source": [
    "def suma_reiksmiu(*args):\n",
    "    total = 0\n",
    "    for i in args:\n",
    "        total += i\n",
    "    return total\n",
    "\n",
    "print(suma_reiksmiu(1, 2, 3))  # 6\n",
    "print(suma_reiksmiu(4, 5, 6, 7))  # 22"
   ]
  },
  {
   "cell_type": "markdown",
   "metadata": {},
   "source": [
    "Funkcija, kuri `sujungia` ir spausdina visus `*args` elementus:"
   ]
  },
  {
   "cell_type": "code",
   "execution_count": null,
   "metadata": {},
   "outputs": [],
   "source": [
    "def sujungti(*args):\n",
    "    sujungta = \"\"\n",
    "    for arg in args:\n",
    "        sujungta += str(arg)\n",
    "    print(sujungta)\n",
    "\n",
    "sujungti(\"Labas\", \" \", \"Pasauli\")  # Labas Pasauli\n",
    "sujungti(1, 2, 3, 4)  # 1234"
   ]
  },
  {
   "cell_type": "markdown",
   "metadata": {},
   "source": [
    "Funkcija, kuri `grąžina` visus `*args` elementus, kurie yra didesni už nurodytą skaičių:"
   ]
  },
  {
   "cell_type": "code",
   "execution_count": null,
   "metadata": {},
   "outputs": [],
   "source": [
    "def didesni_uz(skaicius, *args):\n",
    "    didesni_elementai = []\n",
    "    for arg in args:\n",
    "        if arg > skaicius:\n",
    "            didesni_elementai.append(arg)\n",
    "    return didesni_elementai\n",
    "\n",
    "print(didesni_uz(3, 1, 2, 3, 4, 5))  # [4, 5]\n",
    "print(didesni_uz(10, 1, 2, 3, 4, 5))  # []"
   ]
  },
  {
   "cell_type": "markdown",
   "metadata": {},
   "source": [
    "Funkcija, kuri `grąžina` kiekvieno `*args` elemento ilgį kaip sąrašą:"
   ]
  },
  {
   "cell_type": "code",
   "execution_count": null,
   "metadata": {},
   "outputs": [],
   "source": [
    "def eiluciu_ilgiai(*args):\n",
    "    ilgiai = []\n",
    "    for arg in args:\n",
    "        ilgis = len(str(arg))\n",
    "        ilgiai.append(ilgis)\n",
    "    return ilgiai\n",
    "\n",
    "print(eiluciu_ilgiai(\"Labas\", \"Pasauli\"))  # [5, 5]\n",
    "print(eiluciu_ilgiai(123, 4567, 89))  # [3, 4, 2]"
   ]
  },
  {
   "cell_type": "markdown",
   "metadata": {},
   "source": [
    "# `Greita užduotis 1: *args Praktika`\n",
    "\n",
    "1. Sukurkite Python funkciją, pavadinimu `calculate_total` kuri priima bet kokius skaičių argumentus, kurie atstovauja prekių kainoms.\n",
    "```python\n",
    "# Kainų pavyzdys\n",
    "item_prices = [10.99, 5.49, 7.25, 3.99]\n",
    "```\n",
    "2. Apskaičiuokite ir grąžinkite visų prekių bendrą kainų `sumą`."
   ]
  },
  {
   "cell_type": "code",
   "execution_count": null,
   "metadata": {},
   "outputs": [],
   "source": [
    "# jusu kodo vieta"
   ]
  },
  {
   "cell_type": "markdown",
   "metadata": {},
   "source": [
    "## `**kwargs`\n",
    "\n",
    "`**kwargs` yra dar vienas specialus Python sintaksės elementas, leidžiantis perduoti „rakto ir reikšmės“ rinkinį funkcijai kaip žodyną.\n",
    "\n",
    "**Pavyzdys**:"
   ]
  },
  {
   "cell_type": "code",
   "execution_count": null,
   "metadata": {},
   "outputs": [],
   "source": [
    "def spausdinti_kwargs(**kwargs):\n",
    "    for raktas, reikšmė in kwargs.items():\n",
    "        print(f\"{raktas}: {reikšmė}\")\n",
    "\n",
    "spausdinti_kwargs(vardas=\"Jonas\", amžius=30, miestas=\"Londonas\")"
   ]
  },
  {
   "cell_type": "markdown",
   "metadata": {},
   "source": [
    "Funkcija pavadinimu \"`skaičiuoti`\", atspausdina `**products` elementų sąrašą ir susumuoja jų kainas. Taip pat demonstruojama, kad `**kwargs` gali būti pavadintas pagal jūsų pageidavimus."
   ]
  },
  {
   "cell_type": "code",
   "execution_count": null,
   "metadata": {},
   "outputs": [],
   "source": [
    "def skaiciuoti(**products):\n",
    "    total = 0\n",
    "    for produktas, kaina in products.items():\n",
    "        total += kaina\n",
    "        print(f\"{produktas}: {kaina:.2f}€\")\n",
    "    print(f\"Iš viso: {total:.2f}€\")\n",
    "\n",
    "skaiciuoti(pienukas=2, miltai=1, kiaušiniai=3)"
   ]
  },
  {
   "cell_type": "markdown",
   "metadata": {},
   "source": [
    "# `Greita užduotis 2: **kwargs, Kontaktinės informacijos spausdinimas`\n",
    "\n",
    "1. Parašykite Python funkciją pavadinimu `spausdinti_kontaktine_info`, kuri priima tris raktais žymimus argumentus: `vardas`, `el. paštas` ir `telefonas`. \n",
    "- Ši funkcija turi atspausdinti kiekvieną informacijos dalį atskiruose eilutėse.\n",
    "```python\n",
    "# rezultato pavyzdys:\n",
    "vardas: Jonas\n",
    "el. paštas: mano@info.lt\n",
    "telefonas: +370 1231234\n",
    "```"
   ]
  },
  {
   "cell_type": "code",
   "execution_count": null,
   "metadata": {},
   "outputs": [],
   "source": [
    "# jusu kodo vieta"
   ]
  },
  {
   "cell_type": "markdown",
   "metadata": {},
   "source": [
    "# `*args kartu su **kwargs`\n",
    "Kai kuriose situacijose gali prireikti funkcijos, kuri priima tiek pozicinius argumentus, tiek argumentus, kurie nėra apibrėžti funkcijos deklaracijoje. Tokias funkcijas galima kurti naudojant `*args` ir `**kwargs` kartu su įprastais argumentais.\n",
    "\n",
    "**Pavyzdys**:"
   ]
  },
  {
   "cell_type": "code",
   "execution_count": null,
   "metadata": {},
   "outputs": [],
   "source": [
    "def spausdinti_argumentus(vardas, *args, **kwargs):\n",
    "    print(f\"Vardas: {vardas}\")\n",
    "    for raktas, reikšmė in kwargs.items():\n",
    "        print(f\"{raktas}: {reikšmė}\")\n",
    "    for arg in args:\n",
    "        print(arg)\n",
    "\n",
    "spausdinti_argumentus(\"Jonas\", \"linksmas\", \"draugiškas\", \"drąsus\", miestas=\"Londonas\", amžius=30)"
   ]
  },
  {
   "cell_type": "markdown",
   "metadata": {},
   "source": [
    "# `Greita užduotis 3: Sujungti *args ir **kwargs`\n",
    "\n",
    "1. Parašykite Python funkciją pavadinimu `sujungti_sarasus`, kuri priima bet kokį skaičių pozicinių argumentų (`*args`) ir \"raktai-reikšmės\" porų (`**kwargs`). \n",
    "- Funkcija turi sujungti šiuos duomenis į vieną sąrašą ir jį grąžinti.\n",
    "\n",
    "```python\n",
    "# Rezultato pavyzdys:\n",
    "[1, 2, 3, ('vardas', 'Jonas'), ('amžius', 25), ('miestas', 'Vilnius')]\n",
    "```"
   ]
  },
  {
   "cell_type": "code",
   "execution_count": null,
   "metadata": {},
   "outputs": [],
   "source": [
    "# jusu kodo vieta"
   ]
  },
  {
   "cell_type": "markdown",
   "metadata": {},
   "source": [
    "# `Papildoma užduotis: Argumentų filtravimas`\n",
    "\n",
    "Sukurkite Python funkciją pavadinimu `filtruoti_argumentus`, kuri priima bet kokį skaičių pozicinių argumentų (`*args`) ir \"raktai-reikšmės\" porų (`**kwargs`). \n",
    "\n",
    "Funkcija turi atlikti šiuos veiksmus:\n",
    "\n",
    "1. `Filtruoti` pozicinius argumentus (*args), paliekant tik tuos, kurie yra `skaičiai` (integers).\n",
    "1. `Filtruoti` raktus ir reikšmes (**kwargs), paliekant tik tuos, kurių raktas prasideda raidė '`a`' ir reikšmė yra stringas.\n",
    "1. `Grąžinkite` du sąrašus: viename bus likę poziciniai argumentai (`skaičiai`), o kitame `raktai-reikšmės` poros iš **kwargs.\n",
    "\n",
    "```python\n",
    "# Jusu funkcijos kvietimas\n",
    "rezultatai = filtruoti_argumentus(1, 'Jonas', 3, 5, amžius='25', miestas='Vilnius', adresas='Kaunas')\n",
    "# Atspausdinimas\n",
    "print(rezultatai)\n",
    "# Rezultato pavyzdys:\n",
    "([1, 3, 5], {'amžius': '25', 'adresas': 'Vilnius'})\n",
    "```\n",
    "\n",
    "Pastaba: Patikrinkite, ar poziciniuose argumentuose yra skaičių tipų, o **kwargs filtravimas turi atsižvelgti į raktus ir reikšmes pagal sąlygas."
   ]
  },
  {
   "cell_type": "code",
   "execution_count": null,
   "metadata": {},
   "outputs": [],
   "source": [
    "# jusu kodo vieta"
   ]
  },
  {
   "cell_type": "markdown",
   "metadata": {},
   "source": [
    ">Taigi, `*args` leidžia perduoti neribotą kiekį pozicinių argumentų, o `**kwargs` leidžia perduoti neribotą kiekį rakšažodinių argumentų, susidedančių iš raktų ir reikšmių. Galima kombinuoti šiuos elementus su įprastais argumentais funkcijose, kad būtų gautas didesnis funkcionalumas ir lankstumas."
   ]
  }
 ],
 "metadata": {
  "kernelspec": {
   "display_name": "venv",
   "language": "python",
   "name": "python3"
  },
  "language_info": {
   "codemirror_mode": {
    "name": "ipython",
    "version": 3
   },
   "file_extension": ".py",
   "mimetype": "text/x-python",
   "name": "python",
   "nbconvert_exporter": "python",
   "pygments_lexer": "ipython3",
   "version": "3.10.6"
  }
 },
 "nbformat": 4,
 "nbformat_minor": 2
}
