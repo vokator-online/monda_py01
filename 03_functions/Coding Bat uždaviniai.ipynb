{
 "cells": [
  {
   "cell_type": "markdown",
   "metadata": {},
   "source": [
    "Given a string and a non-negative int n, return a larger string that is n copies of the original string.\n",
    "\n",
    "\n",
    "string_times('Hi', 2) → 'HiHi'\n",
    "string_times('Hi', 3) → 'HiHiHi'\n",
    "string_times('Hi', 1) → 'Hi'"
   ]
  },
  {
   "cell_type": "code",
   "execution_count": 6,
   "metadata": {},
   "outputs": [
    {
     "name": "stdout",
     "output_type": "stream",
     "text": [
      "HiHi\n",
      "HiHiHi\n",
      "Hi\n"
     ]
    }
   ],
   "source": [
    "def string_times(str, n):\n",
    "  result = \"\"\n",
    "  for i in range(n):\n",
    "    result = result + str\n",
    "  return result\n",
    "\n",
    "# Examples\n",
    "result1 = string_times('Hi', 2)\n",
    "result2 = string_times('Hi', 3)\n",
    "result3 = string_times('Hi', 1)\n",
    "\n",
    "print(result1)  # Output: 'HiHi'\n",
    "print(result2)  # Output: 'HiHiHi'\n",
    "print(result3)  # Output: 'Hi'"
   ]
  }
 ],
 "metadata": {
  "kernelspec": {
   "display_name": "venv",
   "language": "python",
   "name": "python3"
  },
  "language_info": {
   "codemirror_mode": {
    "name": "ipython",
    "version": 3
   },
   "file_extension": ".py",
   "mimetype": "text/x-python",
   "name": "python",
   "nbconvert_exporter": "python",
   "pygments_lexer": "ipython3",
   "version": "3.12.1"
  }
 },
 "nbformat": 4,
 "nbformat_minor": 2
}
