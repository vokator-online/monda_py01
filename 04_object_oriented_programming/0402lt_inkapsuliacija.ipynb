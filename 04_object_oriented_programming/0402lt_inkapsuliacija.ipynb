{
 "cells": [
  {
   "cell_type": "markdown",
   "metadata": {},
   "source": [
    "# Inkapsuliacija\n",
    "\n",
    "`Inkapsuliacija` yra objektinio programavimo konceptas, kuris apjungia duomenis ir metodus juos apdorojant į vieną vienetą – klasę. Ji padeda apsaugoti objekto būseną nuo netinkamo prieinamumo ar modifikacijos iš išorės. `Inkapsuliacija` leidžia programuotojams sukurti sąsają, per kurią galima saugiai bendrauti su objekto duomenimis. Tai įgalina duomenų ir metodų paslėpimą, užtikrindama, kad objekto naudojimas būtų atliekamas kaip numatyta. Dėl šios savybės kodo priežiūra tampa lengvesnė ir galima išvengti netikėtų klaidų."
   ]
  },
  {
   "cell_type": "markdown",
   "metadata": {},
   "source": [
    "---\n",
    "\n",
    "## Privatūs Kintamieji\n",
    "\n",
    "`Privatūs kintamieji` yra klasės komponentai, kurie negali būti tiesiogiai prieinami iš klasės išorės. Tai reiškia, kad juos galima pakeisti arba skaityti tik per klasės metodus. Python kalboje, privatūs kintamieji paprastai sukuriami pridedant `du pabrauktukus` prieš kintamojo pavadinimą (pvz., `__spalva`).\n",
    "\n",
    "Pavyzdžiui:"
   ]
  },
  {
   "cell_type": "code",
   "execution_count": null,
   "metadata": {},
   "outputs": [],
   "source": [
    "class Automobilis:\n",
    "    def __init__(self, marke, modelis, metai=2023, spalva='pilka'):\n",
    "        self.marke = marke\n",
    "        self.modelis = modelis\n",
    "        self.__metai = metai\n",
    "        self.__spalva = spalva\n",
    "\n",
    "    def gauti_metus(self):\n",
    "        return self.__metai\n",
    "\n",
    "    def gauti_spalva(self):\n",
    "        return self.__spalva"
   ]
  },
  {
   "cell_type": "code",
   "execution_count": null,
   "metadata": {},
   "outputs": [],
   "source": [
    "trecias_automobilis = Automobilis('Mercedes', 'C-Class')\n",
    "\n",
    "print(trecias_automobilis.marke)  # Mercedes\n",
    "print(trecias_automobilis.modelis)  # C-Class\n",
    "print(trecias_automobilis.gauti_metus())  # 2023\n",
    "print(trecias_automobilis.gauti_spalva())  # pilka"
   ]
  },
  {
   "cell_type": "markdown",
   "metadata": {},
   "source": [
    "Tai demonstruoja \n",
    "- `Automobilis` klasės objekto su konkrečiais atributais sukūrimą, \n",
    "- Atributų gavimą naudojant gavimo metodus "
   ]
  },
  {
   "cell_type": "markdown",
   "metadata": {},
   "source": [
    "### Greita užduotis 1: Automobilio Klasės Papildymas\n",
    "\n",
    "Papildyti `Automobilis` klasę naujomis funkcijomis ir savybėmis.\n",
    "\n",
    "### Klasės Metodai ir Savybės\n",
    "\n",
    "- Pridėti privačią savybę `__rida`, kuri saugotų automobilio nuvažiuotus kilometrus. Pradinė `__rida` reikšmė turėtų būti 0.\n",
    "- Sukurti metodą `vaziuoti(kilometrai)`, kuris pridėtų argumente nurodytą kilometrų skaičių prie automobilio ridos ir atspausdintų pranešimą apie tai.\n",
    "- Sukurti metodą `gauti_rida()`, kuris grąžintų automobilio bendrą nuvažiuotų kilometrų skaičių."
   ]
  },
  {
   "cell_type": "code",
   "execution_count": null,
   "metadata": {},
   "outputs": [],
   "source": [
    "# jusu kodo vieta"
   ]
  },
  {
   "cell_type": "markdown",
   "metadata": {},
   "source": [
    "---\n",
    "\n",
    "## Privatūs metodai \n",
    "\n",
    "`Privatūs metodai` yra klasės metodai, kurie taip pat nėra tiesiogiai prieinami iš klasės išorės. Jie dažnai naudojami vidinėje klasės logikoje ir yra skirti tik klasės naudojimui. Python kalboje privatūs metodai taip pat sukuriami pridedant `du pabrauktukus` prieš metodo pavadinimą (pvz., `__pakeisti_spalva()`)."
   ]
  },
  {
   "cell_type": "code",
   "execution_count": null,
   "metadata": {},
   "outputs": [],
   "source": [
    "class Automobilis:\n",
    "    def __init__(self, marke, modelis, metai=2024, spalva='pilka'):\n",
    "        self.marke = marke\n",
    "        self.modelis = modelis\n",
    "        self.__metai = metai\n",
    "        self.__spalva = spalva\n",
    "\n",
    "    def gauti_metus(self):\n",
    "        return self.__metai\n",
    "\n",
    "    def gauti_spalva(self):\n",
    "        return self.__spalva\n",
    "\n",
    "    def __pakeisti_spalva(self, nauja_spalva):\n",
    "        self.__spalva = nauja_spalva\n",
    "\n",
    "    def perdazyti(self, nauja_spalva):\n",
    "        self.__pakeisti_spalva(nauja_spalva)"
   ]
  },
  {
   "cell_type": "code",
   "execution_count": null,
   "metadata": {},
   "outputs": [],
   "source": [
    "ketvirtas_automobilis = Automobilis(marke='Toyota', modelis='Corolla', metai=2020)\n",
    "\n",
    "ketvirtas_automobilis.perdazyti('Raudona')\n",
    "\n",
    "print(ketvirtas_automobilis.marke)  # Toyota\n",
    "print(ketvirtas_automobilis.modelis)  # Corolla\n",
    "print(ketvirtas_automobilis.gauti_metus())  # 2020\n",
    "print(ketvirtas_automobilis.gauti_spalva()) # Raudona"
   ]
  },
  {
   "cell_type": "markdown",
   "metadata": {},
   "source": [
    "Tai demonstruoja \n",
    "- `Automobilis` klasės objekto su konkrečiais atributais sukūrimą, \n",
    "- Atributų gavimą naudojant gavimo metodus \n",
    "- `__spalva` atributo atnaujinimą naudojant viešąjį `perdazyti` metodą."
   ]
  },
  {
   "cell_type": "markdown",
   "metadata": {},
   "source": [
    "*Priminimas*: `Inkapsuliacija` yra svarbi, nes ji padeda užtikrinti kodo saugumą, sumažina klaidų tikimybę ir padidina kodo prieinamumo tvarkymą."
   ]
  },
  {
   "cell_type": "markdown",
   "metadata": {},
   "source": [
    "### Greita užduotis 2: Banko Sąskaitos Klasė\n",
    "\n",
    "### Klasės Kintamieji\n",
    "- `sąskaitos_numeris` - viešas kintamasis\n",
    "- `savininkas` - viešas kintamasis\n",
    "- `likutis` - privatus kintamasis\n",
    "- `PIN_kodas` - privatus kintamasis\n",
    "\n",
    "### Metodai\n",
    "#### Pinigų Išėmimas\n",
    "- Sukurkite metodą `isimti_pinigus`, kuris leidžia išgryninti pinigus iš sąskaitos.\n",
    "- PIN kodas, reikalingas pinigų išėmimui, turi būti patikrintas ir žinomas tik klasės viduje.\n",
    "\n",
    "#### Pinigų Įnešimas\n",
    "- Sukurkite metodą `ideti_pinigus`, kuris leidžia įnešti pinigų į sąskaitą."
   ]
  },
  {
   "cell_type": "code",
   "execution_count": null,
   "metadata": {},
   "outputs": [],
   "source": [
    "# jusu kodo vieta"
   ]
  },
  {
   "cell_type": "markdown",
   "metadata": {},
   "source": [
    "---\n",
    "\n",
    "### Bonus Užduotis: Knygų Klasė\n",
    "\n",
    "### Apžvalga\n",
    "Sukurkite `Book` klasę, kuri atitiktų šias specifikacijas.\n",
    "\n",
    "### Klasės Specifikacija\n",
    "\n",
    "1. **Kintamieji**\n",
    "   - Sukurkite šiuos privačius kintamuosius:\n",
    "     - `__title` (pavadinimas): knygos pavadinimas\n",
    "     - `__author` (autorius): knygos autoriaus vardas\n",
    "     - `__condition` (būklė): knygos būklė\n",
    "     - `__page_count` (puslapių skaičius): puslapių skaičius knygoje\n",
    "\n",
    "2. **Metodai Duomenims Gauti**\n",
    "   - Sukurkite viešus metodus, kad gautumėte kiekvieną privačią savybę:\n",
    "     - `get_title` - grąžina knygos pavadinimą\n",
    "     - `get_author` - grąžina autoriaus vardą\n",
    "     - `get_condition` - grąžina knygos būklę\n",
    "     - `get_page_count` - grąžina puslapių skaičių\n",
    "\n",
    "3. **Būklės Keitimo Metodas**\n",
    "   - Sukurkite viešą metodą `change_condition`, kuris priima vieną argumentą:\n",
    "     - `new_condition` - nauja knygos būklė, kuri gali būti viena iš šių reikšmių: 'patenkinama', 'prasta', 'atnaujinta', 'sugadinta'.\n",
    "     - Šis metodas turi patikrinti, ar `new_condition` yra viena iš leistinų reikšmių ir, jei taip, atnaujinti knygos būklę.\n",
    "\n",
    "4. **Puslapių Skaičiaus Mažinimo Metodas**\n",
    "   - Sukurkite privatų metodą `__decrease_page_count`, kuris priima vieną argumentą:\n",
    "     - `decrease_by` - skaičius, kiek puslapių reikia sumažinti.\n",
    "     - Šis metodas turėtų sumažinti `__page_count` reikšmę, bet negali leisti puslapių skaičiui tapti neigiamu.\n",
    "   - Sukurkite viešą metodą `remove_pages`, kuris kviečia `__decrease_page_count` metodą.\n",
    "\n",
    "## Reikalavimai\n",
    "\n",
    "- Užtikrinkite, kad visi kintamieji būtų privačiai prieinami tik klasei.\n",
    "- Visi viešieji metodai turi būti saugūs ir neturi leisti objekto būsenai tapti neteisingai (pvz., puslapių skaičius negali būti neigiamas).\n",
    "- Viešieji metodai turėtų turėti prasmingus patikrinimus, kad būtų išvengta netinkamo jų naudojimo."
   ]
  },
  {
   "cell_type": "code",
   "execution_count": null,
   "metadata": {},
   "outputs": [],
   "source": [
    "# jusu kodo vieta"
   ]
  }
 ],
 "metadata": {
  "kernelspec": {
   "display_name": "venv",
   "language": "python",
   "name": "python3"
  },
  "language_info": {
   "codemirror_mode": {
    "name": "ipython",
    "version": 3
   },
   "file_extension": ".py",
   "mimetype": "text/x-python",
   "name": "python",
   "nbconvert_exporter": "python",
   "pygments_lexer": "ipython3",
   "version": "3.10.6"
  }
 },
 "nbformat": 4,
 "nbformat_minor": 2
}
