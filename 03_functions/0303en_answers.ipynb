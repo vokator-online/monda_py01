{
 "cells": [
  {
   "cell_type": "markdown",
   "metadata": {},
   "source": [
    "# `Quick Assignment 1: Calculate Shipping Cost`"
   ]
  },
  {
   "cell_type": "code",
   "execution_count": null,
   "metadata": {},
   "outputs": [],
   "source": [
    "def calculate_shipping_cost(distance, weight=1, rate_per_kg=5):\n",
    "    shipping_cost = distance * weight * rate_per_kg\n",
    "    print(f\"Shipping cost: {shipping_cost:.2f} €.\")\n",
    "\n",
    "# Test Cases\n",
    "calculate_shipping_cost(100)               # Output: Shipping cost: 500.00 €.\n",
    "calculate_shipping_cost(200, 2)            # Output: Shipping cost: 1000.00 €.\n",
    "calculate_shipping_cost(150, rate_per_kg=6) # Output: Shipping cost: 900.00 €.\n",
    "calculate_shipping_cost(50, 0.5, 4)        # Output: Shipping cost: 100.00 €.\n"
   ]
  },
  {
   "cell_type": "markdown",
   "metadata": {},
   "source": [
    "# `Quick Assignment 2: Passing Arguments by Name`"
   ]
  },
  {
   "cell_type": "code",
   "execution_count": null,
   "metadata": {},
   "outputs": [],
   "source": [
    "def calculate_math(operation, num1, num2):\n",
    "    if operation == \"add\":\n",
    "        result = num1 + num2\n",
    "        print(f\"The result of adding {num1} and {num2} is {result}.\")\n",
    "    elif operation == \"subtract\":\n",
    "        result = num1 - num2\n",
    "        print(f\"The result of subtracting {num2} from {num1} is {result}.\")\n",
    "    elif operation == \"multiply\":\n",
    "        result = num1 * num2\n",
    "        print(f\"The result of multiplying {num1} and {num2} is {result}.\")\n",
    "    elif operation == \"divide\":\n",
    "        if num2 != 0:\n",
    "            result = num1 / num2\n",
    "            print(f\"The result of dividing {num1} by {num2} is {result}.\")\n",
    "        else:\n",
    "            print(\"Error: Division by zero is not allowed.\")\n",
    "\n",
    "# Test Cases\n",
    "calculate_math(operation=\"add\", num1=2, num2=3)\n",
    "calculate_math(operation=\"subtract\", num1=10, num2=4)\n",
    "calculate_math(operation=\"multiply\", num1=5, num2=7)\n",
    "calculate_math(operation=\"divide\", num1=15, num2=3)\n"
   ]
  },
  {
   "cell_type": "markdown",
   "metadata": {},
   "source": [
    "# `Bonus Assignment: Create a Personal Information Card`"
   ]
  },
  {
   "cell_type": "code",
   "execution_count": null,
   "metadata": {},
   "outputs": [],
   "source": [
    "def generate_info_card(name, age=25, city=\"Unknown\", country=\"Unknown\"):\n",
    "    info_card = f\"Information Card:\\nName: {name}\\nAge: {age}\\nCity: {city}\\nCountry: {country}\"\n",
    "    print(info_card)\n",
    "\n",
    "# Test Cases\n",
    "generate_info_card(name=\"Alice\", age=28, city=\"London\", country=\"UK\")\n",
    "generate_info_card(name=\"Bob\", age=35)\n",
    "generate_info_card(name=\"Eve\", country=\"Canada\")\n"
   ]
  }
 ],
 "metadata": {
  "kernelspec": {
   "display_name": "Python 3",
   "language": "python",
   "name": "python3"
  },
  "language_info": {
   "codemirror_mode": {
    "name": "ipython",
    "version": 3
   },
   "file_extension": ".py",
   "mimetype": "text/x-python",
   "name": "python",
   "nbconvert_exporter": "python",
   "pygments_lexer": "ipython3",
   "version": "3.10.6"
  },
  "orig_nbformat": 4
 },
 "nbformat": 4,
 "nbformat_minor": 2
}
