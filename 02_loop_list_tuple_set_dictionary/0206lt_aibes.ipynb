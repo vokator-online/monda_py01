{
 "cells": [
  {
   "cell_type": "markdown",
   "metadata": {},
   "source": [
    "# Aibės (`set`)\n",
    "\n",
    "Aibės (`set`) yra kolekcijos tipo objektai, kurie skiriasi nuo sąrašų ir tuplų tuo, kad jie saugo tik unikalius elementus. \n",
    "- Tai reiškia, kad jei bandoma pridėti elementą, kuris jau egzistuoja aibėje, jis nebus pridėtas ir nebus rodomas kelis kartus. \n",
    "- Skirtingai nuo sąrašų ir tuplų, kurie gali saugoti dublikatus, aibės dublikatų neišlaiko. \n",
    "- Kitas svarbus skirtumas yra tas, kad aibės nenaudoja indeksų, todėl jų elementų tvarka nėra nurodyta."
   ]
  },
  {
   "cell_type": "markdown",
   "metadata": {},
   "source": [
    "## Aibių sukūrimas\n",
    "\n",
    "Aibės gali būti sukurtos paprasčiausiai išvardijant elementus tarp skliaustų `{}`, atskirtus kableliais. \n",
    "\n",
    "**Pavyzdžiui**:"
   ]
  },
  {
   "cell_type": "code",
   "execution_count": 1,
   "metadata": {},
   "outputs": [
    {
     "name": "stdout",
     "output_type": "stream",
     "text": [
      "{'obuolys', 'bananas', 'apelsinas'}\n",
      "set()\n"
     ]
    }
   ],
   "source": [
    "mano_aibe = {'obuolys', 'bananas', 'apelsinas'}\n",
    "print(mano_aibe)\n",
    "\n",
    "# Norint sukurti tuščią aibę, galite pasinaudoti funkcija set():\n",
    "tuscia_aibe = set()\n",
    "print(tuscia_aibe)"
   ]
  },
  {
   "cell_type": "markdown",
   "metadata": {},
   "source": [
    "---\n",
    "\n",
    "## Aibių Metodai\n",
    "\n",
    "Aibės pasižymi įvairiais metodais, kurie palengvina elementų paiešką, filtravimą, rikiavimą ir pan. \n",
    "\n",
    "Štai keletas pagrindinių aibių metodų su aiškesniais pavyzdžiais:\n",
    "\n",
    "`add()` - prideda vieną elementą į aibę:"
   ]
  },
  {
   "cell_type": "code",
   "execution_count": 2,
   "metadata": {},
   "outputs": [
    {
     "name": "stdout",
     "output_type": "stream",
     "text": [
      "{1, 2, 3, 4}\n"
     ]
    }
   ],
   "source": [
    "aibe = {1, 2, 3}\n",
    "aibe.add(4)\n",
    "print(aibe)  # {1, 2, 3, 4}"
   ]
  },
  {
   "cell_type": "markdown",
   "metadata": {},
   "source": [
    "### Greitas uždavinys 1\n",
    "\n",
    "1. Sukurkite aibę su skaičiais.\n",
    "1. Pridėkite keletą skaičių į aibę.\n",
    "1. Atspausdinkite aibę su pridėtais naujais skaičiais."
   ]
  },
  {
   "cell_type": "code",
   "execution_count": 6,
   "metadata": {},
   "outputs": [
    {
     "name": "stdout",
     "output_type": "stream",
     "text": [
      "{400, 100, 5000, 777, 666, 1000}\n"
     ]
    }
   ],
   "source": [
    "aibė = {100, 400, 777, 666, 5000}\n",
    "aibė.add(1000)\n",
    "print(aibė)"
   ]
  },
  {
   "cell_type": "markdown",
   "metadata": {},
   "source": [
    "---\n",
    "\n",
    "`update()` - prideda kitą aibę arba sąrašą į aibę:"
   ]
  },
  {
   "cell_type": "code",
   "execution_count": 7,
   "metadata": {},
   "outputs": [
    {
     "name": "stdout",
     "output_type": "stream",
     "text": [
      "{1, 2, 3, 4, 5}\n"
     ]
    }
   ],
   "source": [
    "aibe = {1, 2, 3}\n",
    "sarasas = [3, 4, 5]\n",
    "aibe.update(sarasas)\n",
    "print(aibe)  # {1, 2, 3, 4, 5}"
   ]
  },
  {
   "cell_type": "markdown",
   "metadata": {},
   "source": [
    "❗ Aibėje negali būti saugomi pasikartojantys elementai. \n",
    "\n",
    "Jeigu bandote pridėti elementą, kuris jau yra aibėje, jis tiesiog nebus pridėtas ir nieko neįvyks."
   ]
  },
  {
   "cell_type": "markdown",
   "metadata": {},
   "source": [
    "### Greitas uždavinys 2\n",
    "\n",
    "Sukurkite dvi aibes su keliais skirtingais ir vienodais elementais. Sujunkite abi aibes ir atspausdinkite rezultatą."
   ]
  },
  {
   "cell_type": "code",
   "execution_count": 8,
   "metadata": {},
   "outputs": [
    {
     "name": "stdout",
     "output_type": "stream",
     "text": [
      "{7777, 99, 999, 777, 77, 9999, 77777, 99999}\n"
     ]
    }
   ],
   "source": [
    "aibė1 = {77, 777, 7777, 77777}\n",
    "aibė2 = {99, 999, 9999, 99999}\n",
    "aibė1.update(aibė2)\n",
    "print(aibė1)"
   ]
  },
  {
   "cell_type": "markdown",
   "metadata": {},
   "source": [
    "---\n",
    "\n",
    "`remove()` - pašalina elementą iš aibės. Jeigu elemento nėra aibėje, išmetamas `KeyError` klaidos pranešimas:"
   ]
  },
  {
   "cell_type": "code",
   "execution_count": 9,
   "metadata": {},
   "outputs": [
    {
     "name": "stdout",
     "output_type": "stream",
     "text": [
      "{1, 3}\n"
     ]
    }
   ],
   "source": [
    "aibe = {1, 2, 3}\n",
    "aibe.remove(2)\n",
    "print(aibe)  # {1, 3}"
   ]
  },
  {
   "cell_type": "markdown",
   "metadata": {},
   "source": [
    "`discard()` - pašalina elementą iš aibės. Jeigu elemento nėra aibėje, jokio klaidos pranešimo nėra:"
   ]
  },
  {
   "cell_type": "code",
   "execution_count": 10,
   "metadata": {},
   "outputs": [
    {
     "name": "stdout",
     "output_type": "stream",
     "text": [
      "{1, 3}\n"
     ]
    }
   ],
   "source": [
    "aibe = {1, 2, 3}\n",
    "aibe.discard(2)\n",
    "print(aibe)  # {1, 3}\n",
    "aibe.discard(4)\n",
    "print(aibe)\n"
   ]
  },
  {
   "cell_type": "markdown",
   "metadata": {},
   "source": [
    "### Greitas uždavinys 3\n",
    "\n",
    "**Instrukcijos**:\n",
    "\n",
    "1. Sukurkite aibę su skaičiais.\n",
    "1. Pašalinkite keletą skaičių iš aibės.\n",
    "1. Atspausdinkite atnaujintą aibę."
   ]
  },
  {
   "cell_type": "code",
   "execution_count": 12,
   "metadata": {},
   "outputs": [
    {
     "name": "stdout",
     "output_type": "stream",
     "text": [
      "{400, 100, 5000}\n"
     ]
    }
   ],
   "source": [
    "aibė = {100, 400, 777, 666, 5000}\n",
    "aibė.remove(777)\n",
    "aibė.remove(666)\n",
    "print(aibė)"
   ]
  },
  {
   "cell_type": "code",
   "execution_count": 21,
   "metadata": {},
   "outputs": [
    {
     "name": "stdout",
     "output_type": "stream",
     "text": [
      "{400, 100, 5000, 777, 666}\n"
     ]
    }
   ],
   "source": [
    "aibė = {100, 400, 777, 666, 5000}\n",
    "aibe.discard(666)\n",
    "print(aibė)"
   ]
  },
  {
   "cell_type": "code",
   "execution_count": 25,
   "metadata": {},
   "outputs": [
    {
     "name": "stdout",
     "output_type": "stream",
     "text": [
      "{1, 20, 7, 8, 9}\n"
     ]
    }
   ],
   "source": [
    "aibė = {1, 9, 7, 8, 15, 20}\n",
    "aibė.discard(15)\n",
    "print(aibė)"
   ]
  },
  {
   "cell_type": "markdown",
   "metadata": {},
   "source": [
    "---\n",
    "\n",
    "`pop()` - pašalina ir grąžina bet kurį elementą iš aibės. Jeigu aibė yra tuščia, išmetamas `KeyError` klaidos pranešimas:"
   ]
  },
  {
   "cell_type": "code",
   "execution_count": 19,
   "metadata": {},
   "outputs": [
    {
     "name": "stdout",
     "output_type": "stream",
     "text": [
      "{2, 3}\n",
      "1\n"
     ]
    }
   ],
   "source": [
    "aibe = {51, -5, 0, 1, 2, 3, 4, 5, 9, 11}\n",
    "elementas = aibe.pop()\n",
    "print(aibe)  # {2, 3}\n",
    "print(elementas)  # 1"
   ]
  },
  {
   "cell_type": "markdown",
   "metadata": {},
   "source": [
    "### Greitas uždavinys 4\n",
    "\n",
    "Sukurkite aibę skaičių. Ištraukite bet kokį element1 iš aibės ir jį atspausdinkite. Taip pat atspausdinkite likusią aibę."
   ]
  },
  {
   "cell_type": "code",
   "execution_count": 26,
   "metadata": {},
   "outputs": [
    {
     "name": "stdout",
     "output_type": "stream",
     "text": [
      "64 {33, 23, -25, 14, -49}\n"
     ]
    }
   ],
   "source": [
    "set2 = {-25, 64, 23, 14, 33, -49}\n",
    "anything = set2.pop()\n",
    "print(anything, set2)"
   ]
  },
  {
   "cell_type": "markdown",
   "metadata": {},
   "source": [
    "---\n",
    "\n",
    "`clear()` - pašalina visus elementus iš aibės:"
   ]
  },
  {
   "cell_type": "code",
   "execution_count": 27,
   "metadata": {},
   "outputs": [
    {
     "name": "stdout",
     "output_type": "stream",
     "text": [
      "set()\n"
     ]
    }
   ],
   "source": [
    "aibe = {1, 2, 3}\n",
    "aibe.clear()\n",
    "print(aibe)  # set()"
   ]
  },
  {
   "cell_type": "markdown",
   "metadata": {},
   "source": [
    "`copy()` - grąžina aibės kopiją:"
   ]
  },
  {
   "cell_type": "code",
   "execution_count": 28,
   "metadata": {},
   "outputs": [
    {
     "name": "stdout",
     "output_type": "stream",
     "text": [
      "{1, 2, 3}\n"
     ]
    }
   ],
   "source": [
    "aibe = {1, 2, 3}\n",
    "kopija = aibe.copy()\n",
    "aibe = {3, 4, 5}\n",
    "print(aibe, kopija)  # {1, 2, 3}"
   ]
  },
  {
   "cell_type": "markdown",
   "metadata": {},
   "source": [
    "`union()` - sujungia aibes be pasikantojančių elementų:"
   ]
  },
  {
   "cell_type": "code",
   "execution_count": 30,
   "metadata": {},
   "outputs": [
    {
     "name": "stdout",
     "output_type": "stream",
     "text": [
      "{1, 2, 3, 4, 5} {1, 2, 3} {3, 4, 5}\n"
     ]
    }
   ],
   "source": [
    "aibe1 = {1, 2, 3}\n",
    "aibe2 = {3, 4, 5}\n",
    "aibe3 = aibe1.union(aibe2)\n",
    "print(aibe3, aibe1, aibe2)  # {1, 2, 3, 4, 5}"
   ]
  },
  {
   "cell_type": "markdown",
   "metadata": {},
   "source": [
    "`intersection()` - grąžina visus elementus, kurie yra abiejose aibėse:"
   ]
  },
  {
   "cell_type": "code",
   "execution_count": 31,
   "metadata": {},
   "outputs": [
    {
     "name": "stdout",
     "output_type": "stream",
     "text": [
      "{2, 3, 5}\n"
     ]
    }
   ],
   "source": [
    "aibe1 = {1, 2, 3, 5}\n",
    "aibe2 = {3, 4, 5, 2}\n",
    "aibe4 = aibe1.intersection(aibe2)\n",
    "print(aibe4)  # {3}"
   ]
  },
  {
   "cell_type": "markdown",
   "metadata": {},
   "source": [
    "### Greitas uždavinys 5\n",
    "\n",
    "**Instrukcijos**\n",
    "\n",
    "- Sukurkite dvi aibes su skirtingu kiekiu elementų, iš kurių keli sutampa.\n",
    "- Atspausdinkite tų aibių uniją (union).\n",
    "- Atspausdinkite tų aibių sankirtą (intersection)"
   ]
  },
  {
   "cell_type": "code",
   "execution_count": 34,
   "metadata": {},
   "outputs": [
    {
     "name": "stdout",
     "output_type": "stream",
     "text": [
      "{100, 70, 40, 10, 80, 50, 20, 90, 60, 30}\n",
      "set()\n"
     ]
    }
   ],
   "source": [
    "aibė1 = {10, 20, 40, 50, 70}\n",
    "aibė2 = {30, 60, 80, 90, 100}\n",
    "aibė3 = aibė1.union(aibė2)\n",
    "print(aibė3)\n",
    "aibė4 = aibė1.intersection(aibė2)\n",
    "print(aibė4)"
   ]
  },
  {
   "cell_type": "markdown",
   "metadata": {},
   "source": [
    "---\n",
    "\n",
    "`difference()` - grąžina visus elementus, kurie yra pirmoje aibėje, bet nėra antroje aibėje:"
   ]
  },
  {
   "cell_type": "code",
   "execution_count": 35,
   "metadata": {},
   "outputs": [
    {
     "name": "stdout",
     "output_type": "stream",
     "text": [
      "{2, 5}\n"
     ]
    }
   ],
   "source": [
    "aibe1 = {1, 2, 3, 5}\n",
    "aibe2 = {3, 4, 6, 1}\n",
    "print(aibe1.difference(aibe2))  # {2, 5}\n",
    "print(aibe2.difference(aibe1))  # {4, 6}"
   ]
  },
  {
   "cell_type": "code",
   "execution_count": 36,
   "metadata": {},
   "outputs": [
    {
     "name": "stdout",
     "output_type": "stream",
     "text": [
      "{2, 5}\n",
      "{4, 6}\n"
     ]
    }
   ],
   "source": [
    "aibe1 = {1, 2, 3, 5}\n",
    "aibe2 = {3, 4, 6, 1}\n",
    "print(aibe1.difference(aibe2)) # {2, 5}\n",
    "print(aibe2.difference(aibe1)) # {4, 6}"
   ]
  },
  {
   "cell_type": "markdown",
   "metadata": {},
   "source": [
    "### Greitas uždavinys 6\n",
    "\n",
    "**Instrukcijos**:\n",
    "\n",
    "- Sukurkite dvi aibes su skirtingu kiekiu elementų, iš kurių keli sutampa.\n",
    "- atspausdinkite tik tuos elementus pirmosios aibės, kurie nesutampa su antrosios aibės elementais.\n",
    "- atspausdinkite tik tuos elementus antrosios aibės, kurie nesutampa su pirmosios aibės elementais."
   ]
  },
  {
   "cell_type": "code",
   "execution_count": 37,
   "metadata": {},
   "outputs": [
    {
     "name": "stdout",
     "output_type": "stream",
     "text": [
      "{2, 7}\n",
      "{8, 5}\n"
     ]
    }
   ],
   "source": [
    "aibe1 = {2, 4, 6, 7, 3}\n",
    "aibe2 = {3, 4, 5, 6, 8}\n",
    "aibe5 = aibe1.difference(aibe2)\n",
    "print(aibe5)\n",
    "aibe6 = aibe2.difference(aibe1)\n",
    "print(aibe6)"
   ]
  },
  {
   "cell_type": "markdown",
   "metadata": {},
   "source": [
    "---\n",
    "\n",
    "`symmetric_difference()` - Symetrinio skirtumo aibės metodas grąžina naują aibę, kurią sudaro elementai, esantys vienoje arba kitoje aibėje, bet ne abiejose."
   ]
  },
  {
   "cell_type": "code",
   "execution_count": 38,
   "metadata": {},
   "outputs": [
    {
     "name": "stdout",
     "output_type": "stream",
     "text": [
      "{1, 2, 4, 5}\n"
     ]
    }
   ],
   "source": [
    "aibe1 = {1, 2, 3}\n",
    "aibe2 = {3, 4, 5}\n",
    "\n",
    "sym_skirtumas = aibe1.symmetric_difference(aibe2)\n",
    "print(sym_skirtumas)  # {1, 2, 4, 5}"
   ]
  },
  {
   "cell_type": "markdown",
   "metadata": {},
   "source": [
    "### Greitas uždavinys 7\n",
    "\n",
    "**Instrukcijos**:\n",
    "\n",
    "- Sukurkite dvi aibes su skirtingu kiekiu elementų, iš kurių keli sutampa.\n",
    "- atspausdinkite tik tuos elementus, kurie nesikartoja abejose aibėse."
   ]
  },
  {
   "cell_type": "code",
   "execution_count": 40,
   "metadata": {},
   "outputs": [
    {
     "name": "stdout",
     "output_type": "stream",
     "text": [
      "{11, 14, 15, 23}\n"
     ]
    }
   ],
   "source": [
    "aibė1 = {11, 15, 19, 21}\n",
    "aibė2 = {21, 19, 14, 23}\n",
    "\n",
    "sym_skirtumas = aibė1.symmetric_difference(aibė2)\n",
    "print(sym_skirtumas)"
   ]
  },
  {
   "cell_type": "markdown",
   "metadata": {},
   "source": [
    "---\n",
    "\n",
    "## Aibių operatoriai\n",
    "\n",
    "Sąjunga (`|`):\n",
    "- Jungia dvi aibes, įtraukiant visas unikalias abiejų aibių reikšmes. Atitinka aibės metodą `.union()`\n",
    "\n",
    "Sankirta (`&`):\n",
    "- Atranda bendras reikšmes dviejose aibėse. Atitinka aibės metoda `.intersection()`\n",
    "\n",
    "Skirtumas (`-`):\n",
    "- Atima antrosios aibės elementus iš pirmosios aibės. Atitinka aibės metodą `.difference()`\n",
    "\n",
    "Simetrinis Skirtumas (`^`):\n",
    "- Atranda elementus, unikalius kiekvienai aibei, neįtraukiant bendrų elementų. Atitinka aibės metodą `.symmetric_difference()`"
   ]
  },
  {
   "cell_type": "code",
   "execution_count": 41,
   "metadata": {},
   "outputs": [
    {
     "name": "stdout",
     "output_type": "stream",
     "text": [
      "{1, 2, 3, 4, 5}\n",
      "{3}\n",
      "{1, 2}\n",
      "{1, 2, 4, 5}\n"
     ]
    }
   ],
   "source": [
    "aibe1 = {1, 2, 3}\n",
    "aibe2 = {3, 4, 5}\n",
    "\n",
    "sujungimas = aibe1 | aibe2\n",
    "print(sujungimas)\n",
    "# Rezultatas: {1, 2, 3, 4, 5}\n",
    "\n",
    "sankirta = aibe1 & aibe2\n",
    "print(sankirta)\n",
    "# Rezultatas: {3}\n",
    "\n",
    "skirtumas = aibe1 - aibe2\n",
    "print(skirtumas)\n",
    "# Rezultatas: {1, 2}\n",
    "\n",
    "simetrinis_skirtumas = aibe1 ^ aibe2\n",
    "print(simetrinis_skirtumas)\n",
    "# Rezultatas: {1, 2, 4, 5}"
   ]
  },
  {
   "cell_type": "markdown",
   "metadata": {},
   "source": [
    "Šie operatoriai leidžia atlikti greitesnes ir efektyviasnes aibių operacijas Python programavimo kalboje."
   ]
  },
  {
   "cell_type": "markdown",
   "metadata": {},
   "source": [
    "### Greitas uždavinys 8\n",
    "\n",
    "**Instrukcijos**:\n",
    "\n",
    "- Sukurkite dvi aibes su skirtingu kiekiu elementų, iš kurių keli sutampa.\n",
    "- atspausdinkite šių aibių sujungimą, sankirtą, skirtumą ir simetrinį skirtumą atskirose eilutėse."
   ]
  },
  {
   "cell_type": "code",
   "execution_count": 42,
   "metadata": {},
   "outputs": [
    {
     "name": "stdout",
     "output_type": "stream",
     "text": [
      "{35, 10, 45, 15, 50, 20, 55, 25, 60, 30}\n",
      "{30, 15}\n",
      "{25, 10, 35, 20}\n",
      "{10, 20, 25, 35, 45, 50, 55, 60}\n"
     ]
    }
   ],
   "source": [
    "aibė1 = {10, 15, 20, 25, 30, 35}\n",
    "aibė2 = {15, 30, 45, 50, 55, 60}\n",
    "\n",
    "sujungimas = aibė1 | aibė2\n",
    "print(sujungimas)\n",
    "\n",
    "sankirta = aibė1 & aibė2\n",
    "print(sankirta)\n",
    "\n",
    "skirtumas = aibė1 - aibė2\n",
    "print(skirtumas)\n",
    "\n",
    "simetrinis_skirtumas = aibė1 ^ aibė2\n",
    "print(simetrinis_skirtumas)"
   ]
  },
  {
   "cell_type": "markdown",
   "metadata": {},
   "source": [
    "---\n",
    "\n",
    "## Aibių iteravimas\n",
    "\n",
    "Aibės yra iteruojamos struktūros, kurias galima lengvai peržiūrėti su ciklais arba įvairiais aibių metodais.\n",
    "\n",
    "**Pavyzdžiui**:"
   ]
  },
  {
   "cell_type": "code",
   "execution_count": 44,
   "metadata": {},
   "outputs": [
    {
     "name": "stdout",
     "output_type": "stream",
     "text": [
      "1\n",
      "2\n",
      "3\n"
     ]
    }
   ],
   "source": [
    "aibe = {1, 2, 3}\n",
    "for elementas in aibe:\n",
    "    print(elementas)"
   ]
  },
  {
   "cell_type": "markdown",
   "metadata": {},
   "source": [
    "## Aibių manipuliavimas\n",
    "Aibes galima transformuoti į kitus duomenų struktūrų tipus, tokius kaip sąrašai ir tuplai, bei atvirkščiai. \n",
    "\n",
    "Pažiūrėkime į kai kuriuos pavyzdžius:"
   ]
  },
  {
   "cell_type": "code",
   "execution_count": 45,
   "metadata": {},
   "outputs": [
    {
     "name": "stdout",
     "output_type": "stream",
     "text": [
      "mano aibė kaip sąrašas: [1, 2, 3] <class 'list'>\n",
      "mano aibė kaip tuplas: (1, 2, 3) <class 'tuple'>\n",
      "mano sąrašas kaip aibė: {1, 2, 3} <class 'set'>\n",
      "mano tuplė kaip aibė: {1, 2, 3} <class 'set'>\n"
     ]
    }
   ],
   "source": [
    "# Sukuriama aibė\n",
    "mano_aibe = {1, 2, 3}\n",
    "\n",
    "# Konvertuojame aibę į sąrašą\n",
    "print(\"mano aibė kaip sąrašas:\", list(mano_aibe), type(list(mano_aibe)))  # [1, 2, 3] <class 'list'>\n",
    "\n",
    "# Konvertuojame aibę į tuplą\n",
    "print(\"mano aibė kaip tuplas:\", tuple(mano_aibe), type(tuple(mano_aibe)))  # (1, 2, 3) <class 'tuple'>\n",
    "\n",
    "# Konvertuojame sąrašą ir tuplą į aibę\n",
    "mano_sarasas = [1, 2, 3]\n",
    "mano_tuple = (1, 2, 3)\n",
    "\n",
    "print(\"mano sąrašas kaip aibė:\", set(mano_sarasas), type(set(mano_sarasas)))  # {1, 2, 3} <class 'set'>\n",
    "print(\"mano tuplė kaip aibė:\", set(mano_tuple), type(set(mano_tuple)))  # {1, 2, 3} <class 'set'>"
   ]
  },
  {
   "cell_type": "code",
   "execution_count": null,
   "metadata": {},
   "outputs": [],
   "source": [
    "sventes = {\n",
    "    'Kaledos': 'Gruodzio 25-26',\n",
    "    'Nauji Metai': 'Sausio 1',\n",
    "    'Jonines': 'Birzelio 24',\n",
    "}\n",
    "\n",
    "print(set(sventes.keys()))\n",
    "print(set(sventes.values()))"
   ]
  },
  {
   "cell_type": "markdown",
   "metadata": {},
   "source": [
    "# `Papildomas uždavinys`\n",
    "\n",
    "**Instrukcijos**:\n",
    "\n",
    "1. Pasinaudodami paskutine aibe, kurią sukūrėte, pakelkite kvadratu visus jos skaičius.\n",
    "1. Spausdinkite rezultatą."
   ]
  },
  {
   "cell_type": "code",
   "execution_count": 53,
   "metadata": {},
   "outputs": [
    {
     "name": "stdout",
     "output_type": "stream",
     "text": [
      "aibės elementai kvadratu: {2209, 961, 361, 144, 529}\n"
     ]
    }
   ],
   "source": [
    "aibė1 = {12, 19, 23, 31, 47}\n",
    "aibė2 = set()\n",
    "for number in aibė1:\n",
    "    aibė2.add(number ** 2)\n",
    "print('aibės elementai kvadratu:', aibė2)"
   ]
  },
  {
   "cell_type": "code",
   "execution_count": 55,
   "metadata": {},
   "outputs": [
    {
     "name": "stdout",
     "output_type": "stream",
     "text": [
      "aibės elementai kvadratu: {9000000, 100000000, 25000000, 2500000000}\n"
     ]
    }
   ],
   "source": [
    "aibė1 = {3000, 5000, 10000, 50000}\n",
    "aibė2 = set()\n",
    "for number in aibė1:\n",
    "    aibė2.add(number ** 2)\n",
    "print('aibės elementai kvadratu:', aibė2)"
   ]
  },
  {
   "cell_type": "markdown",
   "metadata": {},
   "source": [
    "### Daugiau apie aibes:\n",
    "[Kodėl aibės yra tokios](https://www.youtube.com/watch?v=Gp-qih4T9tA),\n",
    "\n",
    "[Visi aibių metodai](https://www.w3schools.com/python/python_sets_methods.asp),\n",
    "\n",
    "[Oficiali Python dokumentacija](https://docs.python.org/3/tutorial/datastructures.html#sets). \n",
    "- Net jei iš karto nesuprasite visų nuansų, tai ateityje bus esminė informacija."
   ]
  }
 ],
 "metadata": {
  "kernelspec": {
   "display_name": "venv",
   "language": "python",
   "name": "python3"
  },
  "language_info": {
   "codemirror_mode": {
    "name": "ipython",
    "version": 3
   },
   "file_extension": ".py",
   "mimetype": "text/x-python",
   "name": "python",
   "nbconvert_exporter": "python",
   "pygments_lexer": "ipython3",
   "version": "3.12.1"
  }
 },
 "nbformat": 4,
 "nbformat_minor": 2
}
