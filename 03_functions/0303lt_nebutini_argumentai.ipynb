{
 "cells": [
  {
   "cell_type": "markdown",
   "metadata": {},
   "source": [
    "# Nebūtini argumentai su numatytomis reikšmėmis ir konkretaus argumento perdavimas\n",
    "\n",
    "Kuriant funkcijas, galima padidinti lankstumą naudojant numatytuosius argumentus su numatytomis reikšmėmis. Ši funkcija leidžia nustatyti numatytąsias reikšmes kai kuriems parametrams, kurie gali būti praleisti, kviečiant funkciją.\n",
    "\n",
    "Pažiūrėkime į šį pavyzdžį:"
   ]
  },
  {
   "cell_type": "code",
   "execution_count": null,
   "metadata": {},
   "outputs": [],
   "source": [
    "def pasisveikinimas(vardas, pasisveikinimas=\"Labas\"):\n",
    "    print(pasisveikinimas + \", \" + vardas)"
   ]
  },
  {
   "cell_type": "markdown",
   "metadata": {},
   "source": [
    "- Šioje funkcijoje '`vardas`' yra privalomas argumentas, o '`pasisveikinimas`' yra pasirenkamas argumentas, turintis numatytąją reikšmę \"`Labas`\". \n",
    "- Kviesdami funkciją, galite pateikti reikšmes abiem argumentams arba tik privalomajam. "
   ]
  },
  {
   "cell_type": "code",
   "execution_count": null,
   "metadata": {},
   "outputs": [],
   "source": [
    "pasisveikinimas(\"Jonas\", \"Sveiki\")  # Rezultatas: Sveiki, Jonas\n",
    "pasisveikinimas(\"Ona\")              # Rezultatas: Labas, Ona"
   ]
  },
  {
   "cell_type": "markdown",
   "metadata": {},
   "source": [
    "Dabar apsvarstykime kitą pavyzdį, susijusį su funkcija, kuri apskaičiuoja prekės kainą:"
   ]
  },
  {
   "cell_type": "code",
   "execution_count": null,
   "metadata": {},
   "outputs": [],
   "source": [
    "def skaiciuoti_kaina(prekes_pavadinimas, kaina, nuolaida=0, mokestis=21):\n",
    "    kaina_su_nuolaida = kaina * (1 - nuolaida / 100)\n",
    "    kaina_su_mokesciu = kaina_su_nuolaida * (1 + mokestis / 100)\n",
    "    print(f\"{prekes_pavadinimas} - kaina su nuolaida ir mokesčiais: {kaina_su_mokesciu:.2f}€\")"
   ]
  },
  {
   "cell_type": "markdown",
   "metadata": {},
   "source": [
    "- Šioje funkcijoje '`prekes_pavadinimas`' ir '`kaina`' yra privalomi argumentai, o '`nuolaida`' ir '`mokestis`' yra pasirenkami argumentai su numatytosiomis reikšmėmis. \n",
    "- Jei nenurodysite reikšmių '`nuolaida`' ir '`mokestis`' funkcijos iškvietimo metu, bus naudojamos numatytosios reikšmės (`0` ir `21` atitinkamai). \n",
    "\n",
    "Pažiūrėkime, kaip tai veikia:"
   ]
  },
  {
   "cell_type": "code",
   "execution_count": null,
   "metadata": {},
   "outputs": [],
   "source": [
    "skaiciuoti_kaina(\"Obuolys\", 1.00, 10, 5)\n",
    "skaiciuoti_kaina(\"Avokadas\", 1.20, mokestis=10)\n",
    "skaiciuoti_kaina(\"Pienas\", 2)"
   ]
  },
  {
   "cell_type": "markdown",
   "metadata": {},
   "source": [
    "- Ši funkcija skaičiuoja prekės galutinę kainą, atsižvelgdama į nuolaidas ir mokesčius. \n",
    "- Pasirenkami parametrai '`nuolaida`' ir '`mokestis`' yra aprūpinti numatytosiomis reikšmėmis, suteikiant lankstumą vartotojams, kurie gali nenustatyti šių reikšmių iš anksto."
   ]
  },
  {
   "cell_type": "markdown",
   "metadata": {},
   "source": [
    "# `Greita užduotis 1: Apskaičiuoti Pristatymo Kainą`\n",
    "\n",
    "Užduotis: Sukurti Python funkciją, kuri apskaičiuotų pristatymo išlaidas pagal atstumą, svorį ir kainą už kilogramą.\n",
    "\n",
    "**Instrukcijos**:\n",
    "\n",
    "Sukurkite funkciją pavadinimu `calculate_shipping_cost`, kuri priima tris argumentus:\n",
    "\n",
    "`distance` (privaloma): Atstumas kilometrais.\n",
    "`weight` (neprivalomas, numatytasis 1 kg): Svoris kilogramais.\n",
    "`rate_per_kg` (neprivalomas, numatytasis 5 €/kg): Kaina už kilogramą pristatymui.\n",
    "\n",
    "1. Funkcijoje apskaičiuokite pristatymo išlaidas kaip `distance * weight * rate_per_kg`.\n",
    "1. Atspausdinkite apskaičiuotas pristatymo išlaidas suapvalintas iki dviejų skaitmenų po kablelio, naudodami f-tekstą. Pavyzdžiui: \"Pristatymo kaina: {pristatymo_kaina:.2f} €.\"\n",
    "1. Patikrinkite funkciją bent trijose skirtingose situacijose, tiek su, tiek be svorio ir rate_per_kg nurodymo."
   ]
  },
  {
   "cell_type": "code",
   "execution_count": null,
   "metadata": {},
   "outputs": [],
   "source": [
    "# jusu kodo vieta"
   ]
  },
  {
   "cell_type": "markdown",
   "metadata": {},
   "source": [
    "## Argumentų perdavimas pagal pavadinimą\n",
    "\n",
    "Argumentų perdavimas pagal pavadinimą reiškia nurodyti, kuri reikšmė eina į kurį argumentą, kviečiant funkciją.\n",
    "\n",
    "**Pavyzdys**:"
   ]
  },
  {
   "cell_type": "code",
   "execution_count": null,
   "metadata": {},
   "outputs": [],
   "source": [
    "def calculate(operation, x, y):\n",
    "    if operation == \"add\":\n",
    "        return x + y\n",
    "    elif operation == \"subtract\":\n",
    "        return x - y\n",
    "    elif operation == \"multiply\":\n",
    "        return x * y\n",
    "    elif operation == \"divide\":\n",
    "        return x / y\n",
    "\n",
    "# Kviečiant calculate funkciją, išreikštinai pavadinkite argumentus\n",
    "result = calculate(operation=\"add\", x=2, y=3)\n",
    "print(result)  # Rezultatas: 5"
   ]
  },
  {
   "cell_type": "markdown",
   "metadata": {},
   "source": [
    "- Šioje funkcijoje yra trys privalomi argumentai: `operation`, `x` ir `y`. \n",
    "- Kviečiant funkciją, galite nurodyti argumento `pavadinimą`, po to `==` ir priskirti norimą `reikšmę`, kurią norite perduoti funkcijai. \n",
    "- Tai užtikrina, kad kiekvienas argumentas būtų perduotas teisingai, išvengiant klaidų."
   ]
  },
  {
   "cell_type": "markdown",
   "metadata": {},
   "source": [
    "\n",
    "# `Greita Užduotis 2: Argumentų Perdavimas Pagal Pavadinimą`\n",
    "\n",
    "**Užduotis**: Šios užduoties tikslas yra suprasti ir praktikuotis argumentų perdavimą pagal pavadinimą Python funkcijose.\n",
    "\n",
    "**Instrukcijos**:\n",
    "\n",
    "1. Sukurkite Python funkciją pavadinimu `calculate_math`, kuri priima tris argumentus:\n",
    "\n",
    "- `operation` (privaloma): Eilutė, kuri reprezentuoja matematinę operaciją (\"`add`\" - sudėtis, \"`subtract`\" - atimtis, \"`multiply`\" - daugyba arba \"`divide`\" - dalyba).\n",
    "- `num1` (privaloma): Pirmas skaičius.\n",
    "- `num2` (privaloma): Antras skaičius.\n",
    "\n",
    "2. Funkcijoje vykdykite matematines operacijas, kurios nurodo \"`operation`\" argumentas, ir grąžinkite(return) naudodami gautą rezultatą.\n",
    "3. Atspausdinkite rezultatą su aprašančiu pranešimu. Pavyzdžiui, jei operation yra \"`add`\", pranešimas gali būti: `f\"2 ir 3 sudėjus gausime {result}.\"`\n",
    "4. Patikrinkite funkciją su bent keturiais skirtingais kvietimais, nurodydami operaciją pagal pavadinimą.\n",
    "\n",
    "```python\n",
    "# matematinės operacijos iššaukimo pavyzdys\n",
    "calculate_math(operation=\"add\", num1=2, num2=3)\n",
    "```"
   ]
  },
  {
   "cell_type": "code",
   "execution_count": null,
   "metadata": {},
   "outputs": [],
   "source": [
    "# jusu kodo vieta"
   ]
  },
  {
   "cell_type": "markdown",
   "metadata": {},
   "source": [
    "# `Papildoma užduotis: Sukurti asmeninę informacijos kortelę`\n",
    "\n",
    "**Užduotis**: Šios užduoties tikslas yra sukurti Python funkciją, kuri sugeneruotų asmeninę informacijos kortelę su pasirinktais duomenimis.\n",
    "\n",
    "**Instrukcijos**:\n",
    "\n",
    "1. Sukurkite Python funkciją pavadinimu `generate_info_card`, kuri priima šiuos argumentus:\n",
    "\n",
    "- `name` (privaloma): Asmens `vardas`.\n",
    "- `age` (neprivalomas, numatytasis `25`): Asmens amžius.\n",
    "- `city` (neprivalomas, numatytasis \"`Unknown`\"): Asmens miestas.\n",
    "- `country` (neprivalomas, numatytasis \"`Unknown`\"): Asmens šalis.\n",
    "\n",
    "2. Funkcijoje naudokite pateiktus informacijos kortelę duomenis ir grąžinkite ją kaip tekstą.\n",
    "3. Atpausdinkite informacijos kortelę su suformatuotu pranešimu. Pavyzdžiui:\n",
    "```python\n",
    "# Informacijos Kortelė:\n",
    "# Vardas: John\n",
    "# Amžius: 30\n",
    "# Miestas: New York\n",
    "# Šalis: USA\n",
    "```\n",
    "4. Patikrinkite funkciją su bent trimis skirtingais kvietimais, nurodydami kai kuriuos argumentus pagal pavadinimą, o kitus palikdami naudoti numatytąsias reikšmes.\n",
    "```python\n",
    "# iššaukimo pavyzdys\n",
    "generate_info_card(name=\"Alice\", age=28, city=\"London\", country=\"UK\")\n",
    "```"
   ]
  },
  {
   "cell_type": "code",
   "execution_count": null,
   "metadata": {},
   "outputs": [],
   "source": [
    "# jusu kodo vieta"
   ]
  }
 ],
 "metadata": {
  "kernelspec": {
   "display_name": "venv",
   "language": "python",
   "name": "python3"
  },
  "language_info": {
   "codemirror_mode": {
    "name": "ipython",
    "version": 3
   },
   "file_extension": ".py",
   "mimetype": "text/x-python",
   "name": "python",
   "nbconvert_exporter": "python",
   "pygments_lexer": "ipython3",
   "version": "3.10.6"
  }
 },
 "nbformat": 4,
 "nbformat_minor": 2
}
