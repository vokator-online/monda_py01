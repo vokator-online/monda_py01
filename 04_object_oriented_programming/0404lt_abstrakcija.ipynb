{
 "cells": [
  {
   "cell_type": "markdown",
   "metadata": {},
   "source": [
    "# Abstrakcija\n",
    "`Abstrakcija` leidžia apibrėžti klasę, jos atributus ir metodus taip, kad juos būtų galima perpanaudoti, siekiant išvengti kodo kartojimosi ir mažinti kompleksiškumą.\n",
    "\n",
    "---\n",
    "## Vidinis panaudojimas"
   ]
  },
  {
   "cell_type": "code",
   "execution_count": 1,
   "metadata": {},
   "outputs": [
    {
     "name": "stdout",
     "output_type": "stream",
     "text": [
      "Volkswagen Golf 2023 pilka\n",
      "stoviu\n",
      "važiuoju 10 km/h greičiu\n",
      "važiuoju 20 km/h greičiu\n",
      "važiuoju 40 km/h greičiu\n",
      "važiuoju 200 km/h greičiu\n",
      "važiuoju 100 km/h greičiu\n",
      "važiuoju 50 km/h greičiu\n",
      "stoviu\n",
      "važiuoju 10 km/h greičiu atgal\n",
      "stoviu\n"
     ]
    }
   ],
   "source": [
    "class Automobilis:\n",
    "    def __init__(self, marke, modelis, metai=2023, spalva='pilka'):\n",
    "        self.marke = marke\n",
    "        self.modelis = modelis\n",
    "        self.metai = metai\n",
    "        self.spalva = spalva\n",
    "        self.max_greitis = 200\n",
    "        self.__greitis = 0\n",
    "\n",
    "    # šį privatų abstraktų metodą panaudosime keliose vietose\n",
    "    def __keisti_greiti(self, greitis):\n",
    "        if greitis > self.max_greitis:\n",
    "            greitis = self.max_greitis\n",
    "        if greitis < -10:\n",
    "            greitis = -10\n",
    "        self.__greitis = greitis\n",
    "        return greitis\n",
    "\n",
    "    # šį viešą abstraktų metodą irgi panaudosime keliose vietose\n",
    "    def vaziuoti(self):\n",
    "        greitis = self.__greitis\n",
    "        if greitis > 0:\n",
    "            print(f\"važiuoju {greitis} km/h greičiu\")\n",
    "        elif greitis < 0:\n",
    "            print(f\"važiuoju {abs(greitis)} km/h greičiu atgal\")\n",
    "        else:\n",
    "            print(\"stoviu\")\n",
    "\n",
    "    def didinti_greiti(self, pagreitis=10):\n",
    "        # panaudojame privatų metodą maksimalaus greičio ribojimui\n",
    "        self.__keisti_greiti(self.__greitis + pagreitis)\n",
    "        # panaudojame vieša metodą važiavimo situacijai išvesti\n",
    "        self.vaziuoti()\n",
    "\n",
    "    def mazinti_greiti(self, pagreitis=10):\n",
    "        # panaudojame privatų metodą maksimalaus greičio ribojimui\n",
    "        self.__keisti_greiti(self.__greitis - pagreitis)\n",
    "        # panaudojame vieša metodą važiavimo situacijai išvesti\n",
    "        self.vaziuoti()\n",
    "    \n",
    "\n",
    "guolis = Automobilis(\"Volkswagen\", \"Golf\")\n",
    "print(guolis.marke, guolis.modelis, guolis.metai, guolis.spalva)\n",
    "guolis.vaziuoti()\n",
    "guolis.didinti_greiti()\n",
    "guolis.didinti_greiti()\n",
    "guolis.didinti_greiti(20)\n",
    "guolis.didinti_greiti(170)\n",
    "guolis.mazinti_greiti(100)\n",
    "guolis.mazinti_greiti(50)\n",
    "guolis.mazinti_greiti(50)\n",
    "guolis.mazinti_greiti()\n",
    "guolis.didinti_greiti()"
   ]
  },
  {
   "cell_type": "markdown",
   "metadata": {},
   "source": [
    "---\n",
    "## Abstrakčių savybių ir metodų panaudojimas paveldėtose klasėse\n",
    "Pavyzdys - paveldėtose funkcijose mes visus metodus tiesiog naudojame:"
   ]
  },
  {
   "cell_type": "code",
   "execution_count": 2,
   "metadata": {},
   "outputs": [
    {
     "name": "stdout",
     "output_type": "stream",
     "text": [
      "Tesla Model-3 2023 pilka\n",
      "stoviu\n",
      "važiuoju 100 km/h greičiu\n"
     ]
    }
   ],
   "source": [
    "class Elektromobilis(Automobilis):\n",
    "    pass\n",
    "\n",
    "\n",
    "tesla = Elektromobilis(\"Tesla\", \"Model-3\")\n",
    "print(tesla.marke, tesla.modelis, tesla.metai, tesla.spalva) # Tesla Model 3 2023 pilka\n",
    "tesla.vaziuoti() # stoviu\n",
    "tesla.didinti_greiti(100) # važiuoju 100 km/h greičiu"
   ]
  },
  {
   "cell_type": "markdown",
   "metadata": {},
   "source": [
    "---\n",
    "## Abstraktus `__init__` metodas su neribotais raktiniais argumentais"
   ]
  },
  {
   "cell_type": "code",
   "execution_count": 3,
   "metadata": {},
   "outputs": [
    {
     "name": "stdout",
     "output_type": "stream",
     "text": [
      "Volkswagen Golf, 2021 m. pilka. Variklis: 1.6ti benzinas. Max. 200 km/h\n",
      "Opel Astra, 1997 m. pilka. Variklis: 1.6 benzinas. Max. 160 km/h\n",
      "Opel Astra, 1997 m. pilka. Variklis: 1.6 benzinas. Max. 185 km/h\n"
     ]
    }
   ],
   "source": [
    "class Automobilis:\n",
    "    def __init__(self, marke, modelis, metai=2023, **kwargs):\n",
    "        self.marke = marke\n",
    "        self.modelis = modelis\n",
    "        self.metai = metai\n",
    "        self.spalva = 'pilka'\n",
    "        self.max_greitis = 200\n",
    "        for key, value in kwargs.items():\n",
    "            setattr(self, key, value)\n",
    "\n",
    "    def turbinti_varikli(self, speed=0):\n",
    "        if hasattr(self, \"max_greitis\"):\n",
    "            self.max_greitis += speed\n",
    "\n",
    "guolis = Automobilis(\"Volkswagen\", \"Golf\", 2021, kuro_tipas=\"benzinas\", variklis=\"1.6ti\")\n",
    "print(f\"{guolis.marke} {guolis.modelis}, {guolis.metai} m. {guolis.spalva}. Variklis: {guolis.variklis} {guolis.kuro_tipas}. Max. {guolis.max_greitis} km/h\")\n",
    "# Volkswagen Golf, 2023 m. pilka. Variklis: 1.6ti benzinas. Max. 200 km/h\n",
    "astra = Automobilis(\"Opel\", \"Astra\", 1997, kuro_tipas=\"benzinas\", variklis=\"1.6\", max_greitis=160)\n",
    "print(f\"{astra.marke} {astra.modelis}, {astra.metai} m. {astra.spalva}. Variklis: {astra.variklis} {astra.kuro_tipas}. Max. {astra.max_greitis} km/h\")\n",
    "# Opel Astra, 2023 m. pilka. Variklis: 1.6 benzinas. Max. 160 km/h\n",
    "astra.turbinti_varikli(25)\n",
    "print(f\"{astra.marke} {astra.modelis}, {astra.metai} m. {astra.spalva}. Variklis: {astra.variklis} {astra.kuro_tipas}. Max. {astra.max_greitis} km/h\")\n"
   ]
  },
  {
   "cell_type": "markdown",
   "metadata": {},
   "source": [
    "Čia atkreipkite dėmesį, kad numatytą reikšmę galima pakeisti per kwargs, jeigu kwargs apdorojimas vyksta po numatytos reikšmės nustatymo.\n",
    "\n",
    "---\n",
    "## Abstrakti funkcija informacijos apie klasės objektą spausdinimui"
   ]
  },
  {
   "cell_type": "code",
   "execution_count": 5,
   "metadata": {},
   "outputs": [
    {
     "name": "stdout",
     "output_type": "stream",
     "text": [
      "Volkswagen Golf, 2021 m. pilka. Variklis: 1.6ti benzinas. Max. 200 km/h\n",
      "Opel Astra, 1997 m. pilka. Variklis: 1.6 benzinas. Max. 185 km/h\n"
     ]
    }
   ],
   "source": [
    "def informacija(obj: Automobilis):\n",
    "    print(f\"{obj.marke} {obj.modelis}, {obj.metai} m. {obj.spalva}. Variklis: {obj.variklis} {obj.kuro_tipas}. Max. {obj.max_greitis} km/h\")    \n",
    "\n",
    "informacija(guolis)\n",
    "informacija(astra)"
   ]
  },
  {
   "cell_type": "markdown",
   "metadata": {},
   "source": [
    "### Užduotis\n",
    "\n",
    "1. Parašykite klasę \"Baseinas\", kuri saugo informaciją apie vandens talpą ir dabartinį kiekį baseine.\n",
    "2. Klasė turi turėti metodus vandens papildymui ir nuleidimui bei esamo vandens kiekio patikrinimui. Vandens kiekio keitimui panaudokite abstraktų metodą.\n",
    "3. Sukurkite objektą ir kelis kartus iškvieskite klasės metodus. "
   ]
  },
  {
   "cell_type": "code",
   "execution_count": 6,
   "metadata": {},
   "outputs": [
    {
     "name": "stdout",
     "output_type": "stream",
     "text": [
      "Pripila į baseiną:                       7000 litrų vandens.\n",
      "Baseino talpa:                          10000 litrų vandens.\n",
      "Dabartinis vandens kiekis baseine:       7000 litrų vandens.\n",
      "Nuleista iš baseino:                     3000 litrų vandens.\n",
      "Baseino talpa:                          10000 litrų vandens.\n",
      "Dabartinis vandens kiekis baseine:       4000 litrų vandens.\n",
      "Nepakankamai vandens baseino nuleidimui!\n",
      "Baseino talpa:                          10000 litrų vandens.\n",
      "Dabartinis vandens kiekis baseine:       4000 litrų vandens.\n",
      "Nuleista iš baseino:                     1000 litrų vandens.\n",
      "Baseino talpa:                          10000 litrų vandens.\n",
      "Dabartinis vandens kiekis baseine:       3000 litrų vandens.\n"
     ]
    }
   ],
   "source": [
    "class Baseinas:\n",
    "    def __init__(self, talpa):\n",
    "        self.talpa = talpa\n",
    "        self.dabartinis_kiekis = 0\n",
    "\n",
    "    def keisti_vandens_kieki(self, kiekis):\n",
    "        pass\n",
    "\n",
    "    def patikrinti_esama_talpa(self):\n",
    "        print(f\"Baseino talpa: {self.talpa:30} litrų vandens.\")\n",
    "        print(f\"Dabartinis vandens kiekis baseine: {self.dabartinis_kiekis:10} litrų vandens.\")\n",
    "\n",
    "class ManoBaseinas(Baseinas):\n",
    "    def keisti_vandens_kieki(self, kiekis):\n",
    "        if kiekis > 0:\n",
    "            print(f\"Pripila į baseiną: {kiekis:26} litrų vandens.\")\n",
    "            self.dabartinis_kiekis += kiekis\n",
    "        elif kiekis < 0 and abs(kiekis) <= self.dabartinis_kiekis:\n",
    "            print(f\"Nuleista iš baseino: {abs(kiekis):24} litrų vandens.\")\n",
    "            self.dabartinis_kiekis -= abs(kiekis)\n",
    "        else:\n",
    "            print(\"Nepakankamai vandens baseino nuleidimui!\")\n",
    "\n",
    "mano_baseinas = ManoBaseinas(talpa=10000)\n",
    "\n",
    "mano_baseinas.keisti_vandens_kieki(7000)\n",
    "mano_baseinas.patikrinti_esama_talpa()\n",
    "\n",
    "mano_baseinas.keisti_vandens_kieki(-3000)\n",
    "mano_baseinas.patikrinti_esama_talpa()\n",
    "\n",
    "mano_baseinas.keisti_vandens_kieki(-8000)\n",
    "mano_baseinas.patikrinti_esama_talpa()\n",
    "\n",
    "mano_baseinas.keisti_vandens_kieki(-1000)\n",
    "mano_baseinas.patikrinti_esama_talpa()\n"
   ]
  },
  {
   "cell_type": "code",
   "execution_count": 7,
   "metadata": {},
   "outputs": [
    {
     "name": "stdout",
     "output_type": "stream",
     "text": [
      "Baseinas jau pilnas! Netilps!\n",
      "Baseino talpa yra: 2000 litru! ir esantis kiekis: 2000\n"
     ]
    }
   ],
   "source": [
    "class Baseinas():\n",
    "    def __init__(self, talpa, esantis_kiekis):\n",
    "        self.__talpa = talpa\n",
    "        self.__esantis_kiekis = 0\n",
    "        self.__vandens_kiekio_pakeitimas(esantis_kiekis)\n",
    "\n",
    "    def gauti_talpa(self):\n",
    "        return self.__talpa\n",
    "    \n",
    "    def gauti_esanti_kieki(self):\n",
    "        return self.__esantis_kiekis\n",
    "\n",
    "    def __vandens_kiekio_pakeitimas(self, naujas_kiekis): ### __privatus metodas pvz pakeisti talpa\n",
    "        if naujas_kiekis <= self.__talpa and naujas_kiekis >= 0:\n",
    "            self.__esantis_kiekis = naujas_kiekis\n",
    "        else:\n",
    "            if naujas_kiekis < 0:\n",
    "                self.__esantis_kiekis = 0\n",
    "                print('Baseinas jau tuscias ispilti nera ka!')\n",
    "            else:\n",
    "                self.__esantis_kiekis = self.__talpa\n",
    "                print('Baseinas jau pilnas! Netilps!')\n",
    "        return self.__esantis_kiekis\n",
    "        \n",
    "    def vandens_papildymas(self, ipilamas_kiekis):\n",
    "        return self.__vandens_kiekio_pakeitimas(self.__esantis_kiekis + abs(ipilamas_kiekis))\n",
    "    \n",
    "    def vandens_ispylimas(self, ispilamas_kiekis):\n",
    "        return self.__vandens_kiekio_pakeitimas(self.__esantis_kiekis - abs(ispilamas_kiekis))    \n",
    "\n",
    "vandens_parkas = Baseinas(2000, 4000)\n",
    "print(f'Baseino talpa yra: {vandens_parkas.gauti_talpa()} litru! ir esantis kiekis: {vandens_parkas.gauti_esanti_kieki()}')"
   ]
  }
 ],
 "metadata": {
  "kernelspec": {
   "display_name": "venv",
   "language": "python",
   "name": "python3"
  },
  "language_info": {
   "codemirror_mode": {
    "name": "ipython",
    "version": 3
   },
   "file_extension": ".py",
   "mimetype": "text/x-python",
   "name": "python",
   "nbconvert_exporter": "python",
   "pygments_lexer": "ipython3",
   "version": "3.12.1"
  }
 },
 "nbformat": 4,
 "nbformat_minor": 2
}
