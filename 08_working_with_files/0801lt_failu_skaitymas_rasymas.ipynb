{
 "cells": [
  {
   "cell_type": "markdown",
   "metadata": {},
   "source": [
    "<div style=\"text-align: justify;\">\n",
    "\n",
    "# Failų skaitymas, rašymas\n",
    "\n",
    "<br>\n",
    "\n",
    "---\n",
    "</div>"
   ]
  },
  {
   "cell_type": "markdown",
   "metadata": {},
   "source": [
    "<div style=\"text-align: justify;\">\n",
    "\n",
    "## `open()`, žymės `\"r\"` ir `\"w\"`, `failas.close()`\n",
    "\n",
    "</div>"
   ]
  },
  {
   "cell_type": "markdown",
   "metadata": {},
   "source": [
    "<div style=\"text-align: justify;\">\n",
    "\n",
    "Failų atidarymas ir uždarymas yra svarbūs programavimo procesai, kurie leidžia programai atlikti tam tikrus veiksmus su failais, tokius kaip skaityti, rašyti, papildyti arba redaguoti failus.\n",
    "\n",
    "Failų atidarymas vyksta naudojant `open()` funkciją, kurioje yra nurodomas failo pavadinimas ir režimas, kuriuo norima atidaryti failą. Režimas gali būti nurodomas kaip `\"r\"` (skaitymo režimas) arba `\"w\"` (rašymo režimas).\n",
    "\n",
    "Pavyzdys, kaip atidaryti failą skaitymo režimu:\n",
    "</div>"
   ]
  },
  {
   "cell_type": "code",
   "execution_count": 3,
   "metadata": {},
   "outputs": [],
   "source": [
    "failas = open(\"tekstas.txt\", \"r\")"
   ]
  },
  {
   "cell_type": "markdown",
   "metadata": {},
   "source": [
    "<div style=\"text-align: justify;\">\n",
    "\n",
    "<br>\n",
    "\n",
    "Šiuo kodu atidaromas `\"tekstas.txt\"` failas skaitymo režimu, kurio pavadinimas yra nurodomas pirmajame parametre.\n",
    "\n",
    "Jei norite atidaryti failą rašymo režimu, reikia nurodyti režimą `\"w\"`:\n",
    "</div>"
   ]
  },
  {
   "cell_type": "code",
   "execution_count": null,
   "metadata": {},
   "outputs": [],
   "source": [
    "failas = open(\"tekstas.txt\", \"w\")"
   ]
  },
  {
   "cell_type": "markdown",
   "metadata": {},
   "source": [
    "<div style=\"text-align: justify;\">\n",
    "\n",
    "<br>\n",
    "\n",
    "Šis kodas atidaro `\"tekstas.txt\"` failą rašymo režimu, leidžiant jums rašyti į failą.\n",
    "\n",
    "Kai baigsite darbą su failu, reikia jį uždaryti naudojant `close()` funkciją:\n",
    "</div>"
   ]
  },
  {
   "cell_type": "code",
   "execution_count": null,
   "metadata": {},
   "outputs": [],
   "source": [
    "failas.close()"
   ]
  },
  {
   "cell_type": "markdown",
   "metadata": {},
   "source": [
    "<div style=\"text-align: justify;\">\n",
    "\n",
    "<br>\n",
    "\n",
    "## `with` `open()` operacijos naudojimas\n",
    "\n",
    "`with` `open()`  yra naujesnis ir rekomenduojamas būdas atlikti failų operacijas. Jis yra paprastesnis ir saugesnis nei `open()` ir `close()`funkcijos. `with` užtikrina, kad failas automatiškai bus uždarytas, kai bus baigtas jo naudojimas. Tai leidžia išvengti potencialių nuostolių ir sumažinti programos apkrovą.\n",
    "\n",
    "Štai kaip galite naudoti `with` kartu su `open()` funkcija:\n",
    "</div>"
   ]
  },
  {
   "cell_type": "code",
   "execution_count": null,
   "metadata": {},
   "outputs": [],
   "source": [
    "with open(\"tekstas.txt\", \"r\") as failas:\n",
    "    # atliekamos operacijos su failu"
   ]
  },
  {
   "cell_type": "markdown",
   "metadata": {},
   "source": [
    "<div style=\"text-align: justify;\">\n",
    "\n",
    "<br>\n",
    "\n",
    "## Eilučių skaitymas iš failo\n",
    "\n",
    "Naudojant `for`ciklą galima skaityti teksto failą eilutėmis ir gauti prieigą prie kiekvienos eilutės atskirai:\n",
    "</div>"
   ]
  },
  {
   "cell_type": "code",
   "execution_count": null,
   "metadata": {},
   "outputs": [],
   "source": [
    "with open('failo_vardas.txt', 'r') as failas:\n",
    "    for eilute in failas:\n",
    "        print(eilute)"
   ]
  },
  {
   "cell_type": "markdown",
   "metadata": {},
   "source": [
    "<div style=\"text-align: justify;\">\n",
    "\n",
    "<br>\n",
    "\n",
    "## Skaitymas eilutėmis su `readline()`\n",
    "\n",
    "</div>"
   ]
  },
  {
   "cell_type": "code",
   "execution_count": null,
   "metadata": {},
   "outputs": [],
   "source": [
    "with open('failo_pavadinimas.txt', 'r') as failas:\n",
    "    eilute = failas.readline()\n",
    "    while eilute != '':\n",
    "        print(eilute)\n",
    "        eilute = failas.readline()"
   ]
  },
  {
   "cell_type": "markdown",
   "metadata": {},
   "source": [
    "<div style=\"text-align: justify;\">\n",
    "\n",
    "<br>\n",
    "\n",
    "Šiame pavyzdyje mes naudojame funkciją `readline()` skaityti kiekvieną eilutę atskirai ir ją spausdinti. Pirmiausia priskiriame kintamajam \"eilute\" pirmąją eilutę ir naudojame \"while\" ciklą, kad patikrintume, ar kintamasis nėra tuščias. Po kiekvienos eilutės spausdinimo, perskaitome kitą eilutę ir taip tęsiame, kol baigiasi failas.\n",
    "\n",
    "<br>\n",
    "\n",
    "</div>"
   ]
  },
  {
   "cell_type": "markdown",
   "metadata": {},
   "source": [
    "<div style=\"text-align: justify;\">\n",
    "\n",
    "<br>\n",
    "\n",
    "## Skaitymas eilučių masyvo su `readlines()`\n",
    "\n",
    "</div>"
   ]
  },
  {
   "cell_type": "code",
   "execution_count": null,
   "metadata": {},
   "outputs": [],
   "source": [
    "with open('failo_pavadinimas.txt', 'r') as failas:\n",
    "    eilutes = failas.readlines()\n",
    "    for eilute in eilutes:\n",
    "        print(eilute)"
   ]
  },
  {
   "cell_type": "markdown",
   "metadata": {},
   "source": [
    "<div style=\"text-align: justify;\">\n",
    "\n",
    "<br>\n",
    "\n",
    "Šiame pavyzdyje mes naudojame funkciją `readlines()` skaityti visas eilutes ir grąžinti jas kaip masyvą. Šiuo atveju mes priskiriame masyvą kintamajam \"eilutes\" ir naudojame \"for\" ciklą, kad spausdintume kiekvieną eilutę atskirai.\n",
    "\n",
    "❗ Paminėtina, jog `readlines()` funkcija skaito visas eilutes į atmintį, todėl ji gali užimti daug vietos, ypač jei turite didelį failą. Jei jūsų failas yra didelis, geriau naudoti pirmąjį pavyzdį su `readline()`, nes jis skaito failą eilutėmis, o ne visą failą iš karto.\n",
    "\n",
    "<br>\n",
    "\n",
    "</div>"
   ]
  },
  {
   "cell_type": "markdown",
   "metadata": {},
   "source": [
    "<div style=\"text-align: justify;\">\n",
    "\n",
    "<br>\n",
    "\n",
    "## Skaitymas viso failo su `read()`\n",
    "\n",
    "Pavyzdys:\n",
    "\n",
    "</div>"
   ]
  },
  {
   "cell_type": "code",
   "execution_count": null,
   "metadata": {},
   "outputs": [],
   "source": [
    "with open('failo_pavadinimas.txt', 'r') as failas:\n",
    "    viskas = failas.read()\n",
    "    print(viskas)"
   ]
  },
  {
   "cell_type": "markdown",
   "metadata": {},
   "source": [
    "<div style=\"text-align: justify;\">\n",
    "\n",
    "<br>\n",
    "\n",
    "Šiame pavyzdyje mes naudojame funkciją `read()` nuskaitant visą failą ir priskiriant jį kintamajam \"viskas\". Tada tiesiog spausdiname kintamąjį, kad pamatytume visą failą.\n",
    "\n",
    "<br>\n",
    "\n",
    "</div>"
   ]
  },
  {
   "cell_type": "markdown",
   "metadata": {},
   "source": [
    "<div style=\"text-align: justify;\">\n",
    "\n",
    "<br>\n",
    "\n",
    "## Skaitymas dalimis su \"buferiavimu\"\n",
    "\n",
    "Skaitymas dalimis su \"buferiavimu\" yra būdas perskaityti failą arba duomenų srautą dalimis, o ne viską iš karto. Tai naudinga, kai yra didelių failų, kurie gali užimti daug atminties, ir reikia juos skaityti dalimis, arba kai yra tiesiog reikalingas efektyvesnis duomenų nuskaitymas iš disko.\n",
    "\n",
    "Pavyzdys:\n",
    "\n",
    "</div>"
   ]
  },
  {
   "cell_type": "code",
   "execution_count": 5,
   "metadata": {},
   "outputs": [],
   "source": [
    "with open('failas.txt', 'r') as f:\n",
    "    while True:\n",
    "        dalis = f.read(54)\n",
    "        if not dalis:\n",
    "            break\n",
    "        print(dalis)"
   ]
  },
  {
   "cell_type": "markdown",
   "metadata": {},
   "source": [
    "<div style=\"text-align: justify;\">\n",
    "\n",
    "<br>\n",
    "\n",
    "## `tell()` funkcija\n",
    "\n",
    "Ši funkcija yra Python programavimo kalbos funkcija, kuri leidžia gauti dabartinę failo poziciją.\n",
    "\n",
    "Pavyzdys:\n",
    "\n",
    "</div>"
   ]
  },
  {
   "cell_type": "code",
   "execution_count": null,
   "metadata": {},
   "outputs": [],
   "source": [
    "with open(\"duomenys.txt\", \"r\") as f:\n",
    "    pozicija = f.tell()  # Gauti dabartinę poziciją faile\n",
    "    print(pozicija)"
   ]
  },
  {
   "cell_type": "markdown",
   "metadata": {},
   "source": [
    "<div style=\"text-align: justify;\">\n",
    "\n",
    "<br>\n",
    "\n",
    "## `seek()` funkcija\n",
    "\n",
    "Ši funkcija naudojama pakeisti dabartinę failo žymeklio padėtį. Ji priima vieną ar du argumentus: pirmasis nurodo nuo kurio simbolio pradėti, antrasis nurodo nuorodą (0 - nuo failo pradžios, 1 - nuo dabartinės padėties, 2 - nuo failo galo). Numatytoji nuoroda yra 0 (failo pradžia).\n",
    "\n",
    "Pavyzdys:\n",
    "\n",
    "</div>"
   ]
  },
  {
   "cell_type": "code",
   "execution_count": null,
   "metadata": {},
   "outputs": [],
   "source": [
    "with open(\"tekstas.txt\", \"r\") as failas:\n",
    "    # Nustatykite žymeklį ant 5 simbolio failo pradžioje\n",
    "    failas.seek(5)\n",
    "\n",
    "    # Perskaitykite failą nuo 5 simbolio\n",
    "    turinys = failas.read()\n",
    "    print(turinys)"
   ]
  },
  {
   "cell_type": "markdown",
   "metadata": {},
   "source": [
    "<div style=\"text-align: justify;\">\n",
    "\n",
    "<br>\n",
    "\n",
    "## `write()` funkcija\n",
    "\n",
    "Ši funkcija naudojama, kai norite rašyti į failą.\n",
    "\n",
    "Pavyzdys:\n",
    "\n",
    "</div>"
   ]
  },
  {
   "cell_type": "code",
   "execution_count": null,
   "metadata": {},
   "outputs": [],
   "source": [
    "with open(\"rezultatai.txt\", \"w\") as failas:\n",
    "    failas.write(\"Labas, pasauli!\")"
   ]
  },
  {
   "cell_type": "markdown",
   "metadata": {},
   "source": [
    "<div style=\"text-align: justify;\">\n",
    "\n",
    "<br>\n",
    "\n",
    "## `writelines()` funkcija\n",
    "\n",
    "Ši funkcija naudojama rašyti daug eilučių į failą. Ji priima sąrašą eilučių arba kitą iteruojamą tekstą. Svarbu, kad eilučių galuose būtų įtrauktas naujos eilutės simbolis (`\"\\n\"`).\n",
    "\n",
    "Pavyzdys:\n",
    "\n",
    "</div>"
   ]
  },
  {
   "cell_type": "code",
   "execution_count": 6,
   "metadata": {},
   "outputs": [],
   "source": [
    "eilutes = [\"Labas, pasauli!\\n\", \"Tai mano pirmasis failas Python kalboje.\\n\"]\n",
    "\n",
    "with open(\"rezultatai.txt\", \"w\") as failas:\n",
    "    failas.writelines(eilutes)"
   ]
  },
  {
   "cell_type": "markdown",
   "metadata": {},
   "source": [
    "<div style=\"text-align: justify;\">\n",
    "\n",
    "<br>\n",
    "\n",
    "## Append/Papildymas `\"a\"` \n",
    "\n",
    "Žymė `\"a\"` naudojamaa, kai norite pridėti turinį prie esamo failo. Jei failas neegzistuoja, jis bus sukurtas.\n",
    "\n",
    "Pavyzdys:\n",
    "\n",
    "</div>"
   ]
  },
  {
   "cell_type": "code",
   "execution_count": null,
   "metadata": {},
   "outputs": [],
   "source": [
    "with open(\"papildymas.txt\", \"a\") as failas:\n",
    "    failas.write(\"Papildoma eilutė.\\n\")"
   ]
  },
  {
   "cell_type": "markdown",
   "metadata": {},
   "source": [
    "<div style=\"text-align: justify;\">\n",
    "\n",
    "<br>\n",
    "\n",
    "## Read and Write - Skaitymas ir rašymas `\"r+\"` \n",
    "\n",
    "Žymė `\"r+\"` naudojamaa, kai norite atidaryti failą tiek skaitymui, tiek rašymui. Jei failas neegzistuoja, jis nebus sukurtas.\n",
    "\n",
    "Pavyzdys:\n",
    "\n",
    "</div>"
   ]
  },
  {
   "cell_type": "code",
   "execution_count": null,
   "metadata": {},
   "outputs": [],
   "source": [
    "with open(\"skaitymas_rasymas.txt\", \"r+\") as failas:\n",
    "    # Skaitymas\n",
    "    turinys = failas.read()\n",
    "    print(\"Pradinis turinys:\", turinys)\n",
    "\n",
    "    # Rašymas\n",
    "    failas.seek(0)  # grįžkite į failo pradžią\n",
    "    failas.write(\"Pakeista eilutė.\\n\")"
   ]
  },
  {
   "cell_type": "markdown",
   "metadata": {},
   "source": [
    "<div style=\"text-align: justify;\">\n",
    "\n",
    "<br>\n",
    "\n",
    "## Write and Read - Rašymas ir skaitymas `\"w+\"` \n",
    "\n",
    "Žymė `\"w+\"` kai norite atidaryti failą tiek rašymui, tiek skaitymui. Jei failas neegzistuoja, jis bus sukurtas. Jei failas egzistuoja, jo turinys bus ištrintas.\n",
    "\n",
    "Pavyzdys:\n",
    "\n",
    "</div>"
   ]
  },
  {
   "cell_type": "code",
   "execution_count": null,
   "metadata": {},
   "outputs": [],
   "source": [
    "with open(\"rasymas_skaitymas.txt\", \"w+\") as failas:\n",
    "    # Rašymas\n",
    "    failas.write(\"Nauja eilutė.\\n\")\n",
    "\n",
    "    # Skaitymas\n",
    "    failas.seek(0)  # grįžkite į failo pradžią\n",
    "    turinys = failas.read()\n",
    "    print(\"Naujas turinys:\", turinys)"
   ]
  },
  {
   "cell_type": "markdown",
   "metadata": {},
   "source": [
    "<div style=\"text-align: justify;\">\n",
    "\n",
    "<br>\n",
    "\n",
    "Visi šie atidarymo rėžimai leidžia manipuliuoti failuose esančiu turiniu. Priklausomai nuo jūsų poreikių, galite pasirinkti tinkamiausią rėžimą.\n",
    "\n",
    "<br>\n",
    "\n",
    "</div>"
   ]
  },
  {
   "cell_type": "markdown",
   "metadata": {},
   "source": [
    "<div style=\"text-align: justify;\">\n",
    "\n",
    "<br>\n",
    "<br>\n",
    "<br>\n",
    "\n",
    "# Užduotys:\n",
    "---\n",
    "\n",
    "</div>"
   ]
  },
  {
   "cell_type": "markdown",
   "metadata": {},
   "source": [
    "<div style=\"text-align: justify;\">\n",
    "\n",
    "<br>\n",
    "\n",
    "### Pirma užduotis:\n",
    "Atidarykite tekstiniame faile esančią eilutę ir atspausdinkite ją, pakeičiant visus didžiąsias raides mažosiomis ir atvirkščiai. Failo pavadinimas: \"pakeitimai.txt\".\n",
    "\n",
    "💡 Galite naudoti `swapcase()` funkciją.\n",
    "</div>"
   ]
  },
  {
   "cell_type": "markdown",
   "metadata": {},
   "source": [
    "<div style=\"text-align: justify;\">\n",
    "\n",
    "<br>\n",
    "\n",
    "### Antra užduotis:\n",
    "Sukurkite naują failą \"skaiciai.txt\" ir įrašykite į jį skaičius nuo 1 iki 100, kiekvieną naujoje eilutėje.\n",
    "</div>"
   ]
  },
  {
   "cell_type": "markdown",
   "metadata": {},
   "source": [
    "<div style=\"text-align: justify;\">\n",
    "\n",
    "<br>\n",
    "\n",
    "### Trečia užduotis:\n",
    "Atidarykite \"tekstas.txt\" failą, pakeiskite failo žymeklį į vidurį failo ir atspausdinkite likusį failo turinį.\n",
    "</div>"
   ]
  },
  {
   "cell_type": "markdown",
   "metadata": {},
   "source": [
    "<div style=\"text-align: justify;\">\n",
    "\n",
    "<br>\n",
    "\n",
    "### Ketvirta užduotis:\n",
    "- Sukurkite failą \"eilutes.txt\" ir įrašykite į jį šias eilutes:\n",
    "\n",
    "```text\n",
    "Saulėlydis žėri žemę švelniai.\n",
    "Vakare vėjas šnypščia medžius.\n",
    "Vėjas nerimsta, šnypščia ir švilpia.\n",
    "```\n",
    "\n",
    "- Papildykite failą \"eilutes.txt\" nauja eilute, kuri yra jūsų vardas ir pavardė.\n",
    "\n",
    "- Atidarykite \"eilutes.txt\" failą, perskaitykite jo turinį ir atspausdinkite visas eilutes, kuriose yra žodis \"vėjas\".\n",
    "</div>"
   ]
  }
 ],
 "metadata": {
  "kernelspec": {
   "display_name": "Python 3",
   "language": "python",
   "name": "python3"
  },
  "language_info": {
   "codemirror_mode": {
    "name": "ipython",
    "version": 3
   },
   "file_extension": ".py",
   "mimetype": "text/x-python",
   "name": "python",
   "nbconvert_exporter": "python",
   "pygments_lexer": "ipython3",
   "version": "3.12.1"
  }
 },
 "nbformat": 4,
 "nbformat_minor": 2
}
