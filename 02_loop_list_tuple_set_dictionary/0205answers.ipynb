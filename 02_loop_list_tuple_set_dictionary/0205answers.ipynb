{
 "cells": [
  {
   "cell_type": "markdown",
   "metadata": {},
   "source": [
    "# `Quick Assignment 2: Tuple Indexing Exercise`"
   ]
  },
  {
   "cell_type": "code",
   "execution_count": null,
   "metadata": {},
   "outputs": [],
   "source": [
    "# Step 1: Create a tuple named 'info' with the specified data\n",
    "info = ('YourName', 25, 'Blue')  # Replace 'YourName' with your actual first name\n",
    "\n",
    "# Step 2: Print your age by accessing the appropriate element from the 'info' tuple\n",
    "print(\"Your Age:\", info[1])  # Index 1 corresponds to age in the 'info' tuple\n",
    "\n",
    "# Step 3: Print your favorite color\n",
    "print(\"Your Favorite Color:\", info[2])  # Index 2 corresponds to favorite color in the 'info' tuple"
   ]
  },
  {
   "cell_type": "markdown",
   "metadata": {},
   "source": [
    "# `Quick Assignment 3: Tuple Slicing Exercise`"
   ]
  },
  {
   "cell_type": "code",
   "execution_count": null,
   "metadata": {},
   "outputs": [],
   "source": [
    "# Define a tuple with the days of the week\n",
    "days_of_week = ('Monday', 'Tuesday', 'Wednesday', 'Thursday', 'Friday', 'Saturday', 'Sunday')\n",
    "\n",
    "# Print sliced tuples\n",
    "print(\"Weekdays:\", days_of_week[:5])            # Monday to Friday\n",
    "print(\"Weekend Days:\", days_of_week[5:])        # Saturday and Sunday\n",
    "print(\"First Three Days:\", days_of_week[:3])    # Monday to Wednesday\n",
    "print(\"Last Three Days:\", days_of_week[-3:])    # Friday to Sunday\n",
    "print(\"Reversed Days:\", days_of_week[::-1])     # Sunday to Monday\n"
   ]
  },
  {
   "cell_type": "markdown",
   "metadata": {},
   "source": [
    "# `Quick Assignment 4: Fruit Inventory`"
   ]
  },
  {
   "cell_type": "code",
   "execution_count": null,
   "metadata": {},
   "outputs": [],
   "source": [
    "# Step 1: Create three tuples\n",
    "fruits = ('Apple', 'Banana', 'Orange')\n",
    "colors = ('Red', 'Yellow', 'Orange')\n",
    "quantities = (5, 8, 3)\n",
    "\n",
    "# Step 2: Combine the three tuples into a single tuple named inventory\n",
    "inventory = fruits + colors + quantities\n",
    "\n",
    "# Step 3: Print the inventory tuple\n",
    "print(\"Inventory:\", inventory)\n",
    "\n",
    "# Step 4: Print the information for the second fruit in the inventory\n",
    "second_fruit = inventory[1]  # Index 3 because we have three fruits and three colors before quantities\n",
    "print(\"Information for the Second Fruit:\", second_fruit)\n",
    "\n",
    "# Step 5: Calculate and print the total quantity of fruits in the inventory\n",
    "total_quantity = sum(inventory[6:])  # Index 6 because we have three fruits and three colors before quantities\n",
    "print(\"Total Quantity of Fruits in Inventory:\", total_quantity)\n"
   ]
  },
  {
   "cell_type": "markdown",
   "metadata": {},
   "source": [
    "# `Quick Assignment 5: Tuple Methods Practice`"
   ]
  },
  {
   "cell_type": "code",
   "execution_count": null,
   "metadata": {},
   "outputs": [],
   "source": [
    "# Step 1: Create a tuple named 'numbers' with integer values\n",
    "numbers = (1, 2, 3, 4, 5)\n",
    "\n",
    "# Step 2: Use the 'count()' method to find and print the number of times 3 appears\n",
    "count_of_3 = numbers.count(3)\n",
    "print(\"Number of times 3 appears:\", count_of_3)\n",
    "\n",
    "# Step 3: Use the 'index()' method to find and print the index of the first occurrence of 4\n",
    "index_of_4 = numbers.index(4)\n",
    "print(\"Index of the first occurrence of 4:\", index_of_4)\n",
    "\n",
    "# Step 4: Check if 6 is in the 'numbers' tuple and print the result\n",
    "is_6_in_numbers = 6 in numbers\n",
    "print(\"Is 6 in the tuple? :\", is_6_in_numbers)"
   ]
  },
  {
   "cell_type": "markdown",
   "metadata": {},
   "source": [
    "# `Quick Assignment 6: Tuple Iteration Exercise`"
   ]
  },
  {
   "cell_type": "code",
   "execution_count": null,
   "metadata": {},
   "outputs": [],
   "source": [
    "# Step 1: Create a tuple named 'months' with the names of the months\n",
    "months = ('January', 'February', 'March', 'April', 'May', 'June', 'July', 'August', 'September', 'October', 'November', 'December')\n",
    "\n",
    "# Step 2: Use a 'for' loop to iterate through the 'months' tuple and print each month's name\n",
    "print(\"Using 'for' loop:\")\n",
    "for month in months:\n",
    "    print(month)\n",
    "\n",
    "# Step 3: Use a 'while' loop to iterate through the 'months' tuple and print each month's name\n",
    "print(\"\\nUsing 'while' loop:\")\n",
    "index = 0\n",
    "while index < len(months):\n",
    "    print(months[index])\n",
    "    index += 1\n",
    "\n",
    "# Step 4: Find and print the length of the 'months' tuple\n",
    "print(\"\\nLength of the 'months' tuple:\", len(months))\n"
   ]
  },
  {
   "cell_type": "markdown",
   "metadata": {},
   "source": [
    "# `Bonus Assignment: Tuple Manipulation`"
   ]
  },
  {
   "cell_type": "code",
   "execution_count": null,
   "metadata": {},
   "outputs": [],
   "source": [
    "# Step 1: Create a tuple named 'original_tuple' with a mix of data types\n",
    "original_tuple = (5, 'apple', [1, 2, 3], 'banana', 8.5, 'cherry')\n",
    "\n",
    "# Step 2: Convert 'original_tuple' into a list named 'modified_list'\n",
    "modified_list = list(original_tuple)\n",
    "\n",
    "# Step 3: Modify 'modified_list' by removing the first and last elements\n",
    "modified_list.pop(0)\n",
    "modified_list.pop(-1)\n",
    "\n",
    "# Step 4: Convert 'modified_list' back into a tuple named 'new_tuple'\n",
    "new_tuple = tuple(modified_list)\n",
    "\n",
    "# Step 5: Find and print the number of elements removed from 'original_tuple'\n",
    "elements_removed = len(original_tuple) - len(new_tuple)\n",
    "print(\"Number of elements removed:\", elements_removed)\n",
    "\n",
    "# Step 6: Create a new tuple named 'numeric_tuple' with only numeric values\n",
    "numeric_tuple = tuple(item for item in original_tuple if isinstance(item, (int, float)))\n",
    "\n",
    "# Step 7: Calculate and print the sum of all numeric values in 'numeric_tuple'\n",
    "sum_of_numeric_values = sum(numeric_tuple)\n",
    "print(\"Sum of numeric values:\", sum_of_numeric_values)\n",
    "\n",
    "# Step 8: Create a new tuple named 'string_length_tuple' with lengths of strings from 'original_tuple'\n",
    "string_length_tuple = tuple(len(item) for item in original_tuple if isinstance(item, str))\n",
    "\n",
    "# Step 9: Print 'string_length_tuple'\n",
    "print(\"String Lengths:\", string_length_tuple)\n",
    "\n",
    "# Step 10: Create a dictionary named 'data_dict' with the specified keys and values\n",
    "data_dict = {\n",
    "    \"original_tuple\": original_tuple,\n",
    "    \"modified_list\": modified_list,\n",
    "    \"new_tuple\": new_tuple,\n",
    "    \"numeric_tuple\": numeric_tuple,\n",
    "    \"string_length_tuple\": string_length_tuple\n",
    "}\n",
    "\n",
    "# Step 11: Print the contents of 'data_dict'\n",
    "print(\"\\nData Dictionary:\")\n",
    "for key, value in data_dict.items():\n",
    "    print(f\"{key}: {value}\")\n"
   ]
  }
 ],
 "metadata": {
  "kernelspec": {
   "display_name": "Python 3",
   "language": "python",
   "name": "python3"
  },
  "language_info": {
   "codemirror_mode": {
    "name": "ipython",
    "version": 3
   },
   "file_extension": ".py",
   "mimetype": "text/x-python",
   "name": "python",
   "nbconvert_exporter": "python",
   "pygments_lexer": "ipython3",
   "version": "3.11.7"
  },
  "orig_nbformat": 4
 },
 "nbformat": 4,
 "nbformat_minor": 2
}
