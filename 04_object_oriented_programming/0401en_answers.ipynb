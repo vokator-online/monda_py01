{
 "cells": [
  {
   "cell_type": "markdown",
   "metadata": {},
   "source": [
    "# `Quick assignment 1: Creating a Class and Changing Properties`"
   ]
  },
  {
   "cell_type": "code",
   "execution_count": null,
   "metadata": {},
   "outputs": [],
   "source": [
    "# Step 1: Creating the Employee Class\n",
    "# Create the \"Employee\" class and define it with empty attributes:\n",
    "\n",
    "class Employee:\n",
    "    first_name = \"\"\n",
    "    last_name = \"\"\n",
    "    position = \"\"\n",
    "    salary = 0\n",
    "\n",
    "# Step 2: Creating the Employee Object\n",
    "# Create a new employee object and assign values to its attributes:\n",
    "\n",
    "employee = Employee()\n",
    "employee.first_name = \"John\"\n",
    "employee.last_name = \"Doe\"\n",
    "employee.position = \"Manager\"\n",
    "employee.salary = 40000\n",
    "\n",
    "# Step 3: Printing Position and Salary\n",
    "# Print the employee's position and salary:\n",
    "\n",
    "print(\"Employee Position:\", employee.position)\n",
    "print(\"Employee Salary:\", employee.salary)"
   ]
  },
  {
   "cell_type": "code",
   "execution_count": null,
   "metadata": {},
   "outputs": [],
   "source": [
    "# Step 4: Changing the Salary\n",
    "# Change the employee's salary to a new value, for example:\n",
    "\n",
    "employee.salary = 45000\n",
    "\n",
    "# Step 5: Printing Full Employee Information\n",
    "# Finally, print the full employee information, including first name, last name, position, and updated salary:\n",
    "\n",
    "print(\"Employee Information:\")\n",
    "print(\"First Name:\", employee.first_name)\n",
    "print(\"Last Name:\", employee.last_name)\n",
    "print(\"Position:\", employee.position)\n",
    "print(\"Salary:\", employee.salary)"
   ]
  },
  {
   "cell_type": "markdown",
   "metadata": {},
   "source": [
    "# `Quick Assignment 2: Car Actions`"
   ]
  },
  {
   "cell_type": "code",
   "execution_count": null,
   "metadata": {},
   "outputs": [],
   "source": [
    "class Car:\n",
    "    def start_engine(self):\n",
    "        print(\"Engine started\")\n",
    "\n",
    "    def stop_engine(self):\n",
    "        print(\"Engine stopped\")\n",
    "\n",
    "# Create an instance of the Car class\n",
    "my_car = Car()\n",
    "\n",
    "# Call the start_engine method on the car object\n",
    "my_car.start_engine()\n",
    "\n",
    "# Call the stop_engine method on the car object\n",
    "my_car.stop_engine()"
   ]
  },
  {
   "cell_type": "markdown",
   "metadata": {},
   "source": [
    "# `Quick assignment 3: Person Initialization`"
   ]
  },
  {
   "cell_type": "code",
   "execution_count": null,
   "metadata": {},
   "outputs": [],
   "source": [
    "class Person:\n",
    "    def __init__(self, name, age=0, gender='Unknown'):\n",
    "        self.name = name\n",
    "        self.age = age\n",
    "        self.gender = gender\n",
    "\n",
    "# Create an instance of the Person class with the specified details\n",
    "alice = Person('Alice', 30, 'Female')\n",
    "\n",
    "# Print out the attributes of the created person object\n",
    "print(\"Name:\", alice.name)\n",
    "print(\"Age:\", alice.age)\n",
    "print(\"Gender:\", alice.gender)"
   ]
  },
  {
   "cell_type": "markdown",
   "metadata": {},
   "source": [
    "# `Greita užduotis 4 su *args ir **kwargs`\n",
    "0401lt 4 užduoties atsakymas"
   ]
  },
  {
   "cell_type": "code",
   "execution_count": null,
   "metadata": {},
   "outputs": [],
   "source": [
    "class Automobilis:\n",
    "    def __init__(self, marke, modelis, *args, **kwargs):\n",
    "        self.marke = marke\n",
    "        self.modelis = modelis\n",
    "        self.papildomi_poziciniai = args\n",
    "        self.papildomos_savybes = kwargs\n",
    "\n",
    "    def rodyti_info(self):\n",
    "        print(f\"Markė: {self.marke}\")\n",
    "        print(f\"Modelis: {self.modelis}\")\n",
    "        print(f\"Papildomi poziciniai argumentai: {self.papildomi_poziciniai}\")\n",
    "\n",
    "    def rodyti_papildomas_savybes(self):\n",
    "        print(\"Papildomos savybės:\")\n",
    "        for key, value in self.papildomos_savybes.items():\n",
    "            print(f\"{key}: {value}\")\n",
    "\n",
    "# Sukuriamas objektas su privalomais, papildomais poziciniais ir raktiniais argumentais\n",
    "automobilis = Automobilis('Toyota', 'Camry', '2023', 'Automatinė', spalva='Balta', variklio_galia='150 kW')\n",
    "\n",
    "# Iškviečiame abu metodus\n",
    "automobilis.rodyti_info()\n",
    "automobilis.rodyti_papildomas_savybes()"
   ]
  },
  {
   "cell_type": "markdown",
   "metadata": {},
   "source": [
    "# `Quick Assignment 5: Customizing Object Printing in Python`"
   ]
  },
  {
   "cell_type": "code",
   "execution_count": null,
   "metadata": {},
   "outputs": [],
   "source": [
    "# Define the Book class and implement __str__ method\n",
    "class Book:\n",
    "    def __init__(self, title, author, publication_year, genre):\n",
    "        self.title = title\n",
    "        self.author = author\n",
    "        self.publication_year = publication_year\n",
    "        self.genre = genre\n",
    "\n",
    "    def __str__(self):\n",
    "        return f'Title: {self.title}\\nAuthor: {self.author}\\nYear: {self.publication_year}\\nGenre: {self.genre}\\n'\n",
    "\n",
    "# Create two book objects\n",
    "book1 = Book(\"The Catcher in the Rye\", \"J.D. Salinger\", 1951, \"Fiction\")\n",
    "book2 = Book(\"To Kill a Mockingbird\", \"Harper Lee\", 1960, \"Classics\")\n",
    "\n",
    "# Print the book objects\n",
    "print(book1, book2, sep='')"
   ]
  },
  {
   "cell_type": "markdown",
   "metadata": {},
   "source": [
    "# `Assignment 6: Organizing Objects in Lists and Dictionaries`"
   ]
  },
  {
   "cell_type": "code",
   "execution_count": null,
   "metadata": {},
   "outputs": [],
   "source": [
    "# Define the Student class\n",
    "class Student:\n",
    "    def __init__(self, name, student_id, grade):\n",
    "        self.name = name\n",
    "        self.student_id = student_id\n",
    "        self.grade = grade\n",
    "\n",
    "# Create an empty list to store Student objects\n",
    "student_list = []\n",
    "\n",
    "# Create Student objects and append them to the list\n",
    "student1 = Student('Alice', 101, 'A')\n",
    "student2 = Student('Bob', 102, 'B')\n",
    "student3 = Student('Charlie', 103, 'C')\n",
    "student_list.append(student1)\n",
    "student_list.append(student2)\n",
    "student_list.append(student3)\n",
    "\n",
    "# Iterate through the list and print student details\n",
    "for student in student_list:\n",
    "    print(f\"Name: {student.name}, ID: {student.student_id}, Grade: {student.grade}\")\n",
    "\n",
    "# Create an empty dictionary to store Student objects\n",
    "student_dict = {}\n",
    "\n",
    "# Add Student objects to the dictionary with names as keys\n",
    "student_dict['Alice'] = student1\n",
    "student_dict['Bob'] = student2\n",
    "student_dict['Charlie'] = student3\n",
    "\n",
    "# Iterate through the dictionary and print name and grade of each student\n",
    "for name, student in student_dict.items():\n",
    "    print(f\"Name: {name}, Grade: {student.grade}\")\n"
   ]
  }
 ],
 "metadata": {
  "kernelspec": {
   "display_name": "Python 3",
   "language": "python",
   "name": "python3"
  },
  "language_info": {
   "codemirror_mode": {
    "name": "ipython",
    "version": 3
   },
   "file_extension": ".py",
   "mimetype": "text/x-python",
   "name": "python",
   "nbconvert_exporter": "python",
   "pygments_lexer": "ipython3",
   "version": "3.11.7"
  },
  "orig_nbformat": 4
 },
 "nbformat": 4,
 "nbformat_minor": 2
}
