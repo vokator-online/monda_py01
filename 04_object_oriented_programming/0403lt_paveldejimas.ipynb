{
 "cells": [
  {
   "cell_type": "markdown",
   "metadata": {},
   "source": [
    "# Paveldėjimas\n",
    "\n",
    "Viena iš objektinio programavimo savybių yra paveldėjimas. Tai reiškia, kad klasė gali paveldėti kitos klasės savybes ir metodus. Paveldėjimas padeda sumažinti kodą, nes leidžia sukurti naujas klases, kurios naudoja savybes ir metodus iš jau egzistuojančių klasių."
   ]
  },
  {
   "cell_type": "markdown",
   "metadata": {},
   "source": [
    "- Paveldėjimas su Elektriniu Automobiliu\n",
    "    - \"Pavyzdžiui, `ElektrinisAutomobilis` gali būti išvestinė klasė, paveldėjusi savybes iš bendresnės `Automobilis` klasės.\"\n",
    "\n",
    "- Bazinė Klasė: Automobilis\n",
    "    - Tarkime, turime bazinę klasę `Automobilis`, kuri apibrėžia kelis metodus ir atributus, bendrus visiems automobiliams."
   ]
  },
  {
   "cell_type": "code",
   "execution_count": null,
   "metadata": {},
   "outputs": [],
   "source": [
    "class Automobilis: \n",
    "    def __init__(self, marke, modelis, metai=\"2024\", spalva=\"pilka\", kuro_tipas=\"benzinas\"): \n",
    "        self.marke = marke \n",
    "        self.modelis = modelis \n",
    "        self.__metai = metai\n",
    "        self.__spalva = spalva\n",
    "        self.kuro_tipas = kuro_tipas\n",
    "\n",
    "    def gauti_metus(self):\n",
    "        return self.__metai\n",
    "    \n",
    "    def gauti_spalva(self):\n",
    "        return self.__spalva\n",
    "\n",
    "    def __pakeisti_spalva(self, nauja_spalva):\n",
    "        self.__spalva = nauja_spalva\n",
    "\n",
    "    def perdazyti(self, nauja_spalva):\n",
    "        self.__pakeisti_spalva(nauja_spalva)"
   ]
  },
  {
   "cell_type": "code",
   "execution_count": null,
   "metadata": {},
   "outputs": [],
   "source": [
    "trecias_automobilis = Automobilis('Mercedes', 'C-Class')\n",
    "\n",
    "print(trecias_automobilis.marke) # Mercedes\n",
    "print(trecias_automobilis.modelis) # C-Class\n",
    "print(trecias_automobilis.gauti_metus()) # 2024\n",
    "print(trecias_automobilis.gauti_spalva()) # pilka"
   ]
  },
  {
   "cell_type": "markdown",
   "metadata": {},
   "source": [
    "### Išvestinė Klasė: ElektrinisAutomobilis\n",
    "\n",
    "`ElektrinisAutomobilis` yra išvestinė klasė, kuri paveldi savybes iš `Automobilis`, bet taip pat turi specifinių savybių, būdingų elektriniams automobiliams."
   ]
  },
  {
   "cell_type": "code",
   "execution_count": null,
   "metadata": {},
   "outputs": [],
   "source": [
    "class Elektromobilis(Automobilis):\n",
    "    kuro_tipas = 'elektra'\n",
    "\n",
    "    def max_greitis(self):\n",
    "        print('Šis automobilis gali važiuoti iki 350 km/h')\n",
    "        return 350\n",
    "\n",
    "tesla_sp = Elektromobilis('Tesla', 'Model S Plaid', metai=2022, spalva='raudona', kuro_tipas=\"elektra\")"
   ]
  },
  {
   "cell_type": "code",
   "execution_count": null,
   "metadata": {},
   "outputs": [],
   "source": [
    "print(tesla_sp.marke) # Tesla\n",
    "print(tesla_sp.modelis) # Model S Plaid\n",
    "print(tesla_sp.gauti_metus()) # 2022\n",
    "print(tesla_sp.gauti_spalva()) # raudona\n",
    "\n",
    "tesla_sp.perdazyti(\"pilka\")\n",
    "print(tesla_sp.gauti_spalva()) # pilka\n",
    "print(tesla_sp.kuro_tipas) # elektra\n",
    "\n",
    "tesla_sp.max_greitis() # Šis automobilis gali važiuoti iki 350 km/h"
   ]
  },
  {
   "cell_type": "markdown",
   "metadata": {},
   "source": [
    "### Pirma Užduotis: Gyvūnų Hierarchija\n",
    "\n",
    "### Užduoties Aprašymas\n",
    "\n",
    "Sukurkite bazinę klasę `Gyvunas` ir išvestines klases `Kate` bei `Suo`, kurios paveldės bazinės klasės atributus ir metodus. Kiekviena iš šių išvestinių klasių turi turėti savo unikalius `balsas` ir `judeti` metodus.\n",
    "\n",
    "Klasės Specifikacijos:\n",
    "\n",
    "- Bazinė Klasė `Gyvunas`\n",
    "\n",
    "    - Turi būti sukurta klasė `Gyvunas`.\n",
    "    - Klasė turi turėti bent vieną bendrą atributą, pavyzdžiui, `vardas`.\n",
    "    - Klasė gali turėti bendrus metodus, kurie vėliau gali būti perdefiniuoti.\n",
    "\n",
    "- Išvestinė Klasė `Kate`\n",
    "\n",
    "    - Klasė `Kate` paveldi iš `Gyvunas`.\n",
    "    - Turi turėti metodą `balsas`, kuris grąžina tekstą, vaizduojantį katės miaukimą.\n",
    "    - Turi turėti metodą `judeti`, kuris grąžina tekstą, vaizduojantį katės judėjimą.\n",
    "\n",
    "- Išvestinė Klasė `Suo`\n",
    "\n",
    "    - Klasė `Suo` paveldi iš `Gyvunas`.\n",
    "    - Turi turėti metodą `balsas`, kuris grąžina tekstą, vaizduojantį šuns lojimą.\n",
    "    - Turi turėti metodą `judeti`, kuris grąžina tekstą, vaizduojantį šuns bėgiojimą.\n",
    "\n",
    "- Objektų Sukūrimas ir Jų Metodų Iškvietimas\n",
    "\n",
    "    - Sukurkite kelis `Kate` ir `Suo` klasių objektus.\n",
    "    - Priskirkite kiekvienam objektui vardą.\n",
    "    - Iškvieskite kiekvieno objekto `balsas` ir `judeti` metodus."
   ]
  },
  {
   "cell_type": "code",
   "execution_count": null,
   "metadata": {},
   "outputs": [],
   "source": [
    "# jusu kodo vieta"
   ]
  },
  {
   "cell_type": "markdown",
   "metadata": {},
   "source": [
    "---\n",
    "\n",
    "## Objekto priklausymo klasei patikrinimas"
   ]
  },
  {
   "cell_type": "markdown",
   "metadata": {},
   "source": [
    "- `isinstance` yra funkcija, kuri leidžia patikrinti, ar objektas priklauso tam tikrai klasei \n",
    "- Ši funkcija grąžina `True`, jei objektas yra tos klasės objektas arba objekto klasė paveldi nurodytą klasę, ir `False` kitu atveju. Pvz.:"
   ]
  },
  {
   "cell_type": "code",
   "execution_count": null,
   "metadata": {},
   "outputs": [],
   "source": [
    "tesla_sp = Elektromobilis('Tesla', 'Model S Plaid')\n",
    "audi = Automobilis(\"Audi\", \"A4\")\n",
    "\n",
    "print(isinstance(audi, Automobilis)) # True\n",
    "print(isinstance(tesla_sp, Automobilis)) # True\n",
    "print(isinstance(audi, Elektromobilis)) # False\n",
    "print(isinstance(tesla_sp, Elektromobilis)) # True"
   ]
  },
  {
   "cell_type": "markdown",
   "metadata": {},
   "source": [
    "### Antra užduotis: objektų priklausomybę esančioms klasėms\n",
    "\n",
    "- Patikrinkite pirmoje užduotyje sukurtų objektų priklausomybę esančioms klasėms."
   ]
  },
  {
   "cell_type": "code",
   "execution_count": null,
   "metadata": {},
   "outputs": [],
   "source": [
    "# jusu kodo vieta"
   ]
  }
 ],
 "metadata": {
  "kernelspec": {
   "display_name": "venv",
   "language": "python",
   "name": "python3"
  },
  "language_info": {
   "codemirror_mode": {
    "name": "ipython",
    "version": 3
   },
   "file_extension": ".py",
   "mimetype": "text/x-python",
   "name": "python",
   "nbconvert_exporter": "python",
   "pygments_lexer": "ipython3",
   "version": "3.10.6"
  }
 },
 "nbformat": 4,
 "nbformat_minor": 2
}
