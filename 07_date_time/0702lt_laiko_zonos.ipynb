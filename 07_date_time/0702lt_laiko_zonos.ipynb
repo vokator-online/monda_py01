{
 "cells": [
  {
   "cell_type": "markdown",
   "metadata": {},
   "source": [
    "<div style=\"text-align: justify;\">\n",
    "\n",
    "# Laiko zonos\n",
    "\n",
    "<br>\n",
    "\n",
    "---\n",
    "</div>"
   ]
  },
  {
   "cell_type": "markdown",
   "metadata": {},
   "source": [
    "<div style=\"text-align: justify;\">\n",
    "\n",
    "## Aware ir Naive datos/laiko objektai\n",
    "\n",
    "</div>"
   ]
  },
  {
   "cell_type": "markdown",
   "metadata": {},
   "source": [
    "<div style=\"text-align: justify;\">\n",
    "\n",
    "Python datetime modulyje yra du pagrindiniai datos ir laiko objektų tipai - \"aware\" ir \"naive\". \"Naive\" datos ir laiko objektai neturi informacijos apie laiko zonas ar vasaros laiko taikymą, todėl jie gali būti nepatogūs esant laiko zonų pokyčiams. \"Aware\" objektai turi informaciją apie laiko zonas ir vasaros laiko taikymą.\n",
    "</div>"
   ]
  },
  {
   "cell_type": "markdown",
   "metadata": {},
   "source": [
    "<div style=\"text-align: justify;\">\n",
    "\n",
    "<br>\n",
    "\n",
    "## `datetime.utcnow()`\n",
    "\n",
    "Norėdami gauti dabartinį laiką pagal Coordinated Universal Time (UTC) laiko zoną, galite naudoti `datetime.utcnow()` funkciją:\n",
    "</div>"
   ]
  },
  {
   "cell_type": "code",
   "execution_count": null,
   "metadata": {},
   "outputs": [],
   "source": [
    "from datetime import datetime, timezone\n",
    "\n",
    "utc_now = datetime.now(timezone.utc)\n",
    "print(utc_now)"
   ]
  },
  {
   "cell_type": "markdown",
   "metadata": {},
   "source": [
    "<div style=\"text-align: justify;\">\n",
    "\n",
    "<br>\n",
    "\n",
    "## Laiko zonų sąrašas, `zoneinfo` modulis\n",
    "\n",
    "Python 3.9+ versijose yra zoneinfo modulis, leidžiantis dirbti su laiko zonomis:\n",
    "</div>"
   ]
  },
  {
   "cell_type": "code",
   "execution_count": null,
   "metadata": {},
   "outputs": [],
   "source": [
    "from zoneinfo import ZoneInfo\n",
    "from datetime import datetime\n",
    "\n",
    "# Sukurti \"aware\" datetime objektą su nurodyta laiko zona\n",
    "laikas = datetime(2023, 4, 12, 18, 30, tzinfo=ZoneInfo(\"Europe/Vilnius\"))\n",
    "print(laikas)"
   ]
  },
  {
   "cell_type": "markdown",
   "metadata": {},
   "source": [
    "<div style=\"text-align: justify;\">\n",
    "\n",
    "<br>\n",
    "\n",
    "Galite naudoti šį modulį, kad išvestumėte sąrašą laiko zonų, kurias jis palaiko:\n",
    "</div>"
   ]
  },
  {
   "cell_type": "code",
   "execution_count": null,
   "metadata": {},
   "outputs": [],
   "source": [
    "from zoneinfo import available_timezones\n",
    "\n",
    "for time_zone in available_timezones():\n",
    "    print(time_zone)"
   ]
  },
  {
   "cell_type": "markdown",
   "metadata": {},
   "source": [
    "<div style=\"text-align: justify;\">\n",
    "\n",
    "<br>\n",
    "\n",
    "## `datetime.tzinfo`\n",
    "\n",
    "`datetime.tzinfo` yra abstrakti klasė, skirta laiko zonos informacijai saugoti. Galite naudoti `zoneinfo` modulio funkcijas, kad užpildytumėte tzinfo atributą, kai kuriate naują \"aware\" datetime objektą:\n",
    "</div>"
   ]
  },
  {
   "cell_type": "code",
   "execution_count": null,
   "metadata": {},
   "outputs": [],
   "source": [
    "from datetime import datetime\n",
    "from zoneinfo import ZoneInfo\n",
    "\n",
    "laikas = datetime(2023, 4, 12, 18, 30, tzinfo=ZoneInfo(\"Europe/Vilnius\"))\n",
    "print(laikas.tzinfo)"
   ]
  },
  {
   "cell_type": "markdown",
   "metadata": {},
   "source": [
    "<div style=\"text-align: justify;\">\n",
    "\n",
    "<br>\n",
    "\n",
    "## Laiko zonos nurodymas `datetime.datetime` objekte\n",
    "\n",
    "Norėdami nurodyti laiko zoną `datetime.datetime` objekte, galite naudoti `replace()` funkciją arba `astimezone()` funkciją.\n",
    "\n",
    "Pavyzdys su `replace()`:\n",
    "</div>"
   ]
  },
  {
   "cell_type": "code",
   "execution_count": null,
   "metadata": {},
   "outputs": [],
   "source": [
    "from datetime import datetime, timezone\n",
    "from datetime import datetime\n",
    "from zoneinfo import ZoneInfo\n",
    "\n",
    "utc_now = datetime.now(timezone.utc)\n",
    "vilnius_time = utc_now.replace(tzinfo=ZoneInfo(\"UTC\")).astimezone(ZoneInfo(\"Europe/Vilnius\"))\n",
    "print(vilnius_time)"
   ]
  },
  {
   "cell_type": "markdown",
   "metadata": {},
   "source": [
    "<div style=\"text-align: justify;\">\n",
    "\n",
    "<br>\n",
    "\n",
    "Pavyzdys su `astimezone()`:\n",
    "\n",
    "</div>"
   ]
  },
  {
   "cell_type": "code",
   "execution_count": null,
   "metadata": {},
   "outputs": [],
   "source": [
    "from datetime import datetime, timezone\n",
    "from zoneinfo import ZoneInfo\n",
    "\n",
    "utc_now = datetime.now(timezone.utc).replace(tzinfo=ZoneInfo(\"UTC\"))\n",
    "vilnius_time = utc_now.astimezone(ZoneInfo(\"Europe/Vilnius\"))\n",
    "print(vilnius_time)"
   ]
  },
  {
   "cell_type": "markdown",
   "metadata": {},
   "source": [
    "<div style=\"text-align: justify;\">\n",
    "\n",
    "<br>\n",
    "\n",
    "Abu šie pavyzdžiai pirmiausia sukuria `datetime.datetime` objektą, atspindintį dabartinį laiką pagal Coordinated Universal Time (UTC) laiko zoną. Tada jie naudoja `replace()` arba `astimezone()` funkciją, kad pakeistų laiko zoną į \"Europe/Vilnius\" ir išvestų rezultatą ekrane.\n",
    "</div>"
   ]
  },
  {
   "cell_type": "markdown",
   "metadata": {},
   "source": [
    "<div style=\"text-align: justify;\">\n",
    "\n",
    "<br>\n",
    "<br>\n",
    "<br>\n",
    "\n",
    "# Užduotys:\n",
    "---\n",
    "\n",
    "</div>"
   ]
  },
  {
   "cell_type": "markdown",
   "metadata": {},
   "source": [
    "<div style=\"text-align: justify;\">\n",
    "\n",
    "<br>\n",
    "\n",
    "### Pirma užduotis:\n",
    "Parašykite programą, kuri išvestų sąrašą visų laiko zonų, kurių pavadinime yra \"America\".\n",
    "</div>"
   ]
  },
  {
   "cell_type": "code",
   "execution_count": null,
   "metadata": {},
   "outputs": [],
   "source": [
    "import pytz\n",
    "\n",
    "def get_america_timezones():\n",
    "    america_timezones = [tz for tz in pytz.all_timezones if 'America' in tz]\n",
    "    return america_timezones\n",
    "\n",
    "def main():\n",
    "    america_timezones = get_america_timezones()\n",
    "    \n",
    "    if america_timezones:\n",
    "        print(\"Laiko zonos, kurių pavadinime yra 'America':\")\n",
    "        for timezone in america_timezones:\n",
    "            print(timezone)\n",
    "    else:\n",
    "        print(\"Nerasta laiko zonų su 'America' pavadinime.\")\n",
    "\n",
    "if __name__ == \"__main__\":\n",
    "    main()"
   ]
  },
  {
   "cell_type": "code",
   "execution_count": null,
   "metadata": {},
   "outputs": [],
   "source": [
    "from zoneinfo import available_timezones\n",
    "america_time_zones = []\n",
    "for tz in available_timezones():\n",
    "    if \"America\" in tz:\n",
    "        america_time_zones.append(tz)\n",
    "for time_zone in america_time_zones:\n",
    "    print(time_zone)"
   ]
  },
  {
   "cell_type": "markdown",
   "metadata": {},
   "source": [
    "<div style=\"text-align: justify;\">\n",
    "\n",
    "<br>\n",
    "\n",
    "### Antra užduotis:\n",
    "\n",
    "Parašykite programą, kuri iš vartotojo paprašytų laiko HH:MM(:SS) formatu, kur sekundės nėra būtinos. Tada paprašykite įvesti laiko zoną. Išspausdinkite įvestą laiką šiomis laiko zonomis: Sydney'aus, Dubai'aus, Vilniaus, London'o, New York'o ir Los Angeles.\n",
    "</div>"
   ]
  },
  {
   "cell_type": "code",
   "execution_count": null,
   "metadata": {},
   "outputs": [],
   "source": [
    "from datetime import datetime\n",
    "from zoneinfo import ZoneInfo\n",
    "\n",
    "input_time = input(\"Enter the time in the format HH:MM(:SS), seconds are not required\")\n",
    "format = \"%H:%M\"\n",
    "user_time_zone = input(\"enter time zone eg:\\\"America/Barbados\\\"\")\n",
    "\n",
    "if len(input_time) > 5:\n",
    "     format = \"%H:%M:%S\"\n",
    "time = datetime.strptime(input_time, format)\n",
    "\n",
    "sydney = time.replace(tzinfo=ZoneInfo(user_time_zone)).astimezone(ZoneInfo(\"Australia/Sydney\"))\n",
    "dubai = time.replace(tzinfo=ZoneInfo(user_time_zone)).astimezone(ZoneInfo(\"Asia/Dubai\"))\n",
    "vilnius = time.replace(tzinfo=ZoneInfo(user_time_zone)).astimezone(ZoneInfo(\"Europe/Vilnius\"))\n",
    "london = time.replace(tzinfo=ZoneInfo(user_time_zone)).astimezone(ZoneInfo(\"Europe/London\"))\n",
    "new_york = time.replace(tzinfo=ZoneInfo(user_time_zone)).astimezone(ZoneInfo(\"America/New_York\"))\n",
    "los_angeles = time.replace(tzinfo=ZoneInfo(user_time_zone)).astimezone(ZoneInfo(\"America/Los_Angeles\"))\n",
    "\n",
    "print(f\"\"\"Your time: {time.time()}, {user_time_zone}\n",
    "Sydney time: {sydney.time()}, Australia/Sydney\n",
    "Dubai Time: {dubai.time()}, Asia/Dubai\n",
    "Vilnius time: {vilnius.time()}, Europe/Vilnius\n",
    "London Time: {london.time()}, Europe/London\n",
    "New York Time: {new_york.time()}, America/New York\n",
    "Los Angeles Time: {los_angeles.time()}, America/ Los Angeles\"\"\")"
   ]
  },
  {
   "cell_type": "code",
   "execution_count": null,
   "metadata": {},
   "outputs": [],
   "source": [
    "from datetime import datetime\n",
    "from zoneinfo import ZoneInfo, available_timezones\n",
    "\n",
    "user_time = input('Enter your time \"HH:MM(:SS)\"\": ')\n",
    "user_time_zone = input('Enter your time zone \"Zone/City\": ')\n",
    "\n",
    "user_date = datetime.today()\n",
    "user_date = user_date.strftime(\"%Y:%m:%d\")\n",
    "\n",
    "if len(user_time) > 5:\n",
    "    user_time = datetime.strptime(user_date + user_time, \"%Y:%m:%d%H:%M:%S\")\n",
    "else:\n",
    "    user_time = datetime.strptime(user_date + user_time, \"%Y:%m:%d%H:%M\")\n",
    "print(f'{\"Your\":11} time - {user_time.time()} {user_time_zone}')\n",
    "print()\n",
    "\n",
    "time_zones_city = [\"Sydney\", \"Dubai\", \"Vilnius\", \"London\", \"New_York\", \"Los_Angeles\"]\n",
    "for zone in available_timezones():\n",
    "    for city in time_zones_city:\n",
    "        if city in zone:\n",
    "            time_in_zone = user_time.replace(tzinfo=ZoneInfo(user_time_zone)).astimezone(ZoneInfo(zone))\n",
    "            print(f\"{city:11} time -\", time_in_zone.time(), zone)"
   ]
  }
 ],
 "metadata": {
  "kernelspec": {
   "display_name": "Python 3",
   "language": "python",
   "name": "python3"
  },
  "language_info": {
   "codemirror_mode": {
    "name": "ipython",
    "version": 3
   },
   "file_extension": ".py",
   "mimetype": "text/x-python",
   "name": "python",
   "nbconvert_exporter": "python",
   "pygments_lexer": "ipython3",
   "version": "3.12.1"
  }
 },
 "nbformat": 4,
 "nbformat_minor": 2
}
