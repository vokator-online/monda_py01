{
 "cells": [
  {
   "cell_type": "code",
   "execution_count": 2,
   "metadata": {},
   "outputs": [
    {
     "name": "stdout",
     "output_type": "stream",
     "text": [
      "I'm learning Python!\n"
     ]
    }
   ],
   "source": [
    "# QA 1\n",
    "statement = \"I'm learning Python!\"\n",
    "print(statement)"
   ]
  },
  {
   "cell_type": "code",
   "execution_count": 3,
   "metadata": {},
   "outputs": [
    {
     "name": "stdout",
     "output_type": "stream",
     "text": [
      "o\n"
     ]
    }
   ],
   "source": [
    "# QA 2\n",
    "print(\"Programming\"[2])"
   ]
  },
  {
   "cell_type": "code",
   "execution_count": 4,
   "metadata": {},
   "outputs": [
    {
     "name": "stdout",
     "output_type": "stream",
     "text": [
      "onist\n"
     ]
    }
   ],
   "source": [
    "# QA 3\n",
    "print(\"Pythonista\"[4:9])"
   ]
  },
  {
   "cell_type": "code",
   "execution_count": 5,
   "metadata": {},
   "outputs": [
    {
     "name": "stdout",
     "output_type": "stream",
     "text": [
      "16\n"
     ]
    }
   ],
   "source": [
    "# QA 4\n",
    "learning_environment = \"Jupyter Notebook\"\n",
    "print(len(learning_environment))"
   ]
  },
  {
   "cell_type": "code",
   "execution_count": 6,
   "metadata": {},
   "outputs": [
    {
     "name": "stdout",
     "output_type": "stream",
     "text": [
      "36\n"
     ]
    }
   ],
   "source": [
    "# QA 5\n",
    "longest_german_word = \"Kraftfahrzeughaftpflichtversicherung\"\n",
    "print(len(longest_german_word))"
   ]
  },
  {
   "cell_type": "code",
   "execution_count": 7,
   "metadata": {},
   "outputs": [
    {
     "name": "stdout",
     "output_type": "stream",
     "text": [
      "Kęstutis\tJanuškevičius\n"
     ]
    }
   ],
   "source": [
    "# QA 6\n",
    "print(\"Kęstutis\\tJanuškevičius\")"
   ]
  },
  {
   "cell_type": "code",
   "execution_count": 8,
   "metadata": {},
   "outputs": [
    {
     "name": "stdout",
     "output_type": "stream",
     "text": [
      "❤️\n",
      "❤\n",
      "♥\n",
      "💗\n"
     ]
    }
   ],
   "source": [
    "# QA 7\n",
    "print('\\u2764\\uFE0F')\n",
    "print(\"\\u2764\")\n",
    "print(\"\\u2665\")\n",
    "print(\"\\U0001F497\")"
   ]
  },
  {
   "cell_type": "code",
   "execution_count": 9,
   "metadata": {},
   "outputs": [
    {
     "name": "stdout",
     "output_type": "stream",
     "text": [
      "She said, \"Python is amazing!\"\n"
     ]
    }
   ],
   "source": [
    "# QA 8\n",
    "print(\"She said, \\\"Python is amazing!\\\"\")"
   ]
  },
  {
   "cell_type": "code",
   "execution_count": 10,
   "metadata": {},
   "outputs": [
    {
     "name": "stdout",
     "output_type": "stream",
     "text": [
      "PYTHON ROCKS!\n",
      "python rocks!\n"
     ]
    }
   ],
   "source": [
    "# QA 9\n",
    "print(\"Python Rocks!\".upper())\n",
    "print(\"Python Rocks!\".lower())"
   ]
  },
  {
   "cell_type": "code",
   "execution_count": 11,
   "metadata": {},
   "outputs": [
    {
     "name": "stdout",
     "output_type": "stream",
     "text": [
      "The universe is a simulation\n",
      "The Universe Is A Simulation\n"
     ]
    }
   ],
   "source": [
    "# QA 10\n",
    "print(\"the UNIVERSE is a SIMULATION\".capitalize())\n",
    "print(\"the UNIVERSE is a SIMULATION\".title())"
   ]
  },
  {
   "cell_type": "code",
   "execution_count": 12,
   "metadata": {},
   "outputs": [
    {
     "name": "stdout",
     "output_type": "stream",
     "text": [
      "False\n",
      "True\n"
     ]
    }
   ],
   "source": [
    "# QA 11\n",
    "print(\"Hello world!\".startswith(\"Hi\"))\n",
    "print(\"Hello world!\".endswith(\"!\"))"
   ]
  },
  {
   "cell_type": "code",
   "execution_count": 13,
   "metadata": {},
   "outputs": [
    {
     "name": "stdout",
     "output_type": "stream",
     "text": [
      "25\n",
      "25\n",
      "0\n"
     ]
    }
   ],
   "source": [
    "# QA 12\n",
    "print(\"Data is the new oil. Big data is a Big Deal.\".find(\"data\"))\n",
    "print(\"Data is the new oil. Big data is a Big Deal.\".rfind(\"data\"))\n",
    "print(\"Data is the new oil. Big data is a Big Deal.\".lower().find(\"data\"))"
   ]
  },
  {
   "cell_type": "code",
   "execution_count": 14,
   "metadata": {},
   "outputs": [
    {
     "name": "stdout",
     "output_type": "stream",
     "text": [
      "A good example sets a good precedent.\n"
     ]
    }
   ],
   "source": [
    "# QA 13\n",
    "print(\"A bad example sets a bad precedent.\".replace(\"bad\", \"good\"))"
   ]
  },
  {
   "cell_type": "code",
   "execution_count": 15,
   "metadata": {},
   "outputs": [
    {
     "name": "stdout",
     "output_type": "stream",
     "text": [
      "Too much space!\n"
     ]
    }
   ],
   "source": [
    "# QA 14\n",
    "print(\"    Too much space!    \".strip())"
   ]
  },
  {
   "cell_type": "code",
   "execution_count": 16,
   "metadata": {},
   "outputs": [
    {
     "name": "stdout",
     "output_type": "stream",
     "text": [
      "The buyer Potential Student, enters into the contract with the seller MoNDA.live for Remote Python Basics Training Service.\n"
     ]
    }
   ],
   "source": [
    "# QA 15\n",
    "buyer = \"Potential Student\"\n",
    "seller = \"MoNDA.live\"\n",
    "subject = \"Remote Python Basics Training Service\"\n",
    "contract_line = f\"The buyer {buyer}, enters into the \"\\\n",
    "     f\"contract with the seller {seller} for {subject}.\"\n",
    "print(contract_line)"
   ]
  },
  {
   "cell_type": "code",
   "execution_count": 17,
   "metadata": {},
   "outputs": [
    {
     "name": "stdout",
     "output_type": "stream",
     "text": [
      "The buyer Potential Student, enters into the contract with the seller MoNDA.live for Remote Python Basics Training Service.\n"
     ]
    }
   ],
   "source": [
    "# QA 16\n",
    "contract_line = \"The buyer {}, enters into the contract with the seller {} for {}.\".format(buyer, seller, subject)\n",
    "print(contract_line)"
   ]
  },
  {
   "cell_type": "code",
   "execution_count": 18,
   "metadata": {},
   "outputs": [
    {
     "name": "stdout",
     "output_type": "stream",
     "text": [
      "Super Duper Computer           |    1742.69\n",
      "Ultra Wide Monitor 49\"         |     949.00\n"
     ]
    }
   ],
   "source": [
    "# QA 17\n",
    "product = \"Super Duper Computer\"\n",
    "price = 1742.69\n",
    "row = \"{:30} | {:>10.2f}\".format(product, price)\n",
    "print(row)\n",
    "\n",
    "product = \"Ultra Wide Monitor 49\\\"\"\n",
    "price = 949\n",
    "row = \"{:30} | {:>10.2f}\".format(product, price)\n",
    "print(row)"
   ]
  },
  {
   "cell_type": "code",
   "execution_count": 19,
   "metadata": {},
   "outputs": [
    {
     "name": "stdout",
     "output_type": "stream",
     "text": [
      "5...4...3...2...1...0 Lift-off!"
     ]
    }
   ],
   "source": [
    "# QA 18\n",
    "print(5, 4, 3, 2, 1, 0, sep=\"...\", end=\" Lift-off!\")"
   ]
  }
 ],
 "metadata": {
  "kernelspec": {
   "display_name": "venv",
   "language": "python",
   "name": "python3"
  },
  "language_info": {
   "codemirror_mode": {
    "name": "ipython",
    "version": 3
   },
   "file_extension": ".py",
   "mimetype": "text/x-python",
   "name": "python",
   "nbconvert_exporter": "python",
   "pygments_lexer": "ipython3",
   "version": "3.11.7"
  },
  "orig_nbformat": 4
 },
 "nbformat": 4,
 "nbformat_minor": 2
}
