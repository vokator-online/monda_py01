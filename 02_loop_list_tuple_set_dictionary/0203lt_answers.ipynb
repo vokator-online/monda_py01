{
 "cells": [
  {
   "cell_type": "code",
   "execution_count": 45,
   "metadata": {},
   "outputs": [
    {
     "name": "stdout",
     "output_type": "stream",
     "text": [
      "obuoliai\n",
      "bananai\n",
      "vyšnios\n",
      "apelsinai\n",
      "kokosai\n"
     ]
    }
   ],
   "source": [
    "# QA 1\n",
    "\n",
    "vaisiu_sarasas = ['obuoliai', 'bananai', 'vyšnios', 'apelsinai', 'kokosai']\n",
    "for vaisius in vaisiu_sarasas:\n",
    "    print(vaisius)"
   ]
  },
  {
   "cell_type": "code",
   "execution_count": 13,
   "metadata": {},
   "outputs": [
    {
     "name": "stdout",
     "output_type": "stream",
     "text": [
      "bananai\n",
      "apelsinai\n",
      "persikai\n",
      "obuoliai\n",
      "kokosai\n",
      "vyšnios\n"
     ]
    }
   ],
   "source": [
    "# QA 2\n",
    "\n",
    "vaisiai = {\n",
    "    'bananai': 6,\n",
    "    'apelsinai': 7,\n",
    "    'persikai': 42,\n",
    "    'obuoliai': 11,\n",
    "    'kokosai': 2.5,\n",
    "    'vyšnios': 177\n",
    "}\n",
    "for vaisius in vaisiai:\n",
    "    print(vaisius)"
   ]
  },
  {
   "cell_type": "code",
   "execution_count": 47,
   "metadata": {},
   "outputs": [
    {
     "name": "stdout",
     "output_type": "stream",
     "text": [
      "245.5\n"
     ]
    }
   ],
   "source": [
    "# QA 3\n",
    "\n",
    "suma = 0\n",
    "for vaisius in vaisiai:\n",
    "    suma += vaisiai[vaisius]\n",
    "print(suma)"
   ]
  },
  {
   "cell_type": "code",
   "execution_count": 48,
   "metadata": {},
   "outputs": [
    {
     "name": "stdout",
     "output_type": "stream",
     "text": [
      "bananai                       6\n",
      "apelsinai                     7\n",
      "persikai                     42\n",
      "obuoliai                     11\n",
      "kokosai                     2.5\n",
      "vyšnios                     177\n"
     ]
    }
   ],
   "source": [
    "# QA 4\n",
    "\n",
    "for vaisius, kiekis in vaisiai.items():\n",
    "    print(f\"{vaisius:20} {kiekis:>10g}\")"
   ]
  },
  {
   "cell_type": "code",
   "execution_count": 49,
   "metadata": {},
   "outputs": [
    {
     "name": "stdout",
     "output_type": "stream",
     "text": [
      "{'bananai': 4, 'apelsinai': 3, 'persikai': 32, 'obuoliai': 1, 'kokosai': 7.5, 'vyšnios': 167}\n"
     ]
    }
   ],
   "source": [
    "# QA 5\n",
    "\n",
    "for vaisius in vaisiai.keys():\n",
    "    vaisiai[vaisius] -= 10\n",
    "    if vaisiai[vaisius] < 0:\n",
    "        vaisiai[vaisius] = abs(vaisiai[vaisius])\n",
    "print(vaisiai)"
   ]
  },
  {
   "cell_type": "code",
   "execution_count": 50,
   "metadata": {},
   "outputs": [
    {
     "name": "stdout",
     "output_type": "stream",
     "text": [
      "10\n",
      "9\n",
      "8\n",
      "7\n",
      "6\n",
      "5\n",
      "4\n",
      "3\n",
      "2\n",
      "1\n"
     ]
    }
   ],
   "source": [
    "# QA 6\n",
    "\n",
    "for step in range(10, 0, -1):\n",
    "    print(step)"
   ]
  },
  {
   "cell_type": "code",
   "execution_count": 51,
   "metadata": {},
   "outputs": [
    {
     "name": "stdout",
     "output_type": "stream",
     "text": [
      "bananai\n",
      "apelsinai\n",
      "persikai\n",
      "obuoliai 1\n"
     ]
    }
   ],
   "source": [
    "# QA 7\n",
    "\n",
    "for vaisius in vaisiai:\n",
    "    if vaisius == 'obuoliai':\n",
    "        print(vaisius, vaisiai[vaisius])\n",
    "        break\n",
    "    print(vaisius)"
   ]
  },
  {
   "cell_type": "code",
   "execution_count": 52,
   "metadata": {},
   "outputs": [
    {
     "name": "stdout",
     "output_type": "stream",
     "text": [
      "persikai           32\n",
      "vyšnios           167\n"
     ]
    }
   ],
   "source": [
    "# QA 8\n",
    "\n",
    "for vaisius, kiekis in vaisiai.items():\n",
    "    if kiekis <= 10:\n",
    "        continue\n",
    "    print(f\"{vaisius:10} {kiekis:>10g}\")"
   ]
  },
  {
   "cell_type": "code",
   "execution_count": 17,
   "metadata": {},
   "outputs": [
    {
     "name": "stdout",
     "output_type": "stream",
     "text": [
      "antimaterinis vaisiaus kiekis \"-7\" yra blogas\n"
     ]
    }
   ],
   "source": [
    "# QA 9\n",
    "# run QA 2 to reset data\n",
    "\n",
    "for vaisius, kiekis in vaisiai.items():\n",
    "    if not type(kiekis) in (int, float) or kiekis < 0:\n",
    "        print(f\"{vaisius} vaisiaus kiekis \\\"{kiekis}\\\" yra blogas\")\n",
    "        break\n",
    "else:\n",
    "    print(\"visi vaisių kiekiai tvarkingi\")\n"
   ]
  },
  {
   "cell_type": "code",
   "execution_count": 15,
   "metadata": {},
   "outputs": [],
   "source": [
    "# test case 1: negative\n",
    "vaisiai['antimaterinis'] = -7"
   ]
  },
  {
   "cell_type": "code",
   "execution_count": 16,
   "metadata": {},
   "outputs": [],
   "source": [
    "# test case 2: not a number\n",
    "vaisiai['slyvos'] = 'supuvusios'"
   ]
  },
  {
   "cell_type": "code",
   "execution_count": 56,
   "metadata": {},
   "outputs": [
    {
     "name": "stdout",
     "output_type": "stream",
     "text": [
      "0 \"Homo Deus: A Brief History of Tomorrow\" by: Yuval Noah Harari\n",
      "1 \"Children of Time\" by: Adrian Tchaikovsky\n",
      "2 \"We Are Legion (We Are Bob): Bobiverse, Book 1\" by: Dennis E. Taylor\n",
      "3 \"Guns, Germs and Steel: The Fate of Human Societies\" by: Jared Diamond\n"
     ]
    }
   ],
   "source": [
    "# QA 10\n",
    "\n",
    "knygos = [\n",
    "    '\"Homo Deus: A Brief History of Tomorrow\" by: Yuval Noah Harari',\n",
    "    '\"Children of Time\" by: Adrian Tchaikovsky',\n",
    "    '\"We Are Legion (We Are Bob): Bobiverse, Book 1\" by: Dennis E. Taylor',\n",
    "    '\"Guns, Germs and Steel: The Fate of Human Societies\" by: Jared Diamond',\n",
    "]\n",
    "for eile, knyga in enumerate(knygos):\n",
    "    print(eile, knyga)\n"
   ]
  },
  {
   "cell_type": "code",
   "execution_count": 57,
   "metadata": {},
   "outputs": [
    {
     "name": "stdout",
     "output_type": "stream",
     "text": [
      "Alicija\n",
      "- Matematika 85\n",
      "- Mokslas 92\n",
      "- Istorija 88\n",
      "Bobas\n",
      "- Matematika 78\n",
      "- Mokslas 85\n",
      "- Istorija 90\n",
      "Charlis\n",
      "- Matematika 92\n",
      "- Mokslas 88\n",
      "- Istorija 76\n"
     ]
    }
   ],
   "source": [
    "# QA 11\n",
    "\n",
    "mokinio_pazymiai = {\n",
    "    'Alicija': {'Matematika': 85, 'Mokslas': 92, 'Istorija': 88},\n",
    "    'Bobas': {'Matematika': 78, 'Mokslas': 85, 'Istorija': 90},\n",
    "    'Charlis': {'Matematika': 92, 'Mokslas': 88, 'Istorija': 76}\n",
    "}\n",
    "\n",
    "for mokinys, dalykai in mokinio_pazymiai.items():\n",
    "    print(mokinys)\n",
    "    for dalykas, pazymys in dalykai.items():\n",
    "        print('-', dalykas, pazymys)"
   ]
  },
  {
   "cell_type": "code",
   "execution_count": 58,
   "metadata": {},
   "outputs": [],
   "source": [
    "# A1\n",
    "\n",
    "zodziai = []\n",
    "for kelintas in range(1, 6):\n",
    "    zodis = input(f'Įveskite {kelintas} žodį: ')\n",
    "    zodziai.append(zodis)\n",
    "for eile, zodis in enumerate(zodziai):\n",
    "    print(f'{eile+1} {len(zodis):>5} {zodis}')"
   ]
  },
  {
   "cell_type": "code",
   "execution_count": null,
   "metadata": {},
   "outputs": [
    {
     "name": "stdout",
     "output_type": "stream",
     "text": [
      "1904\n",
      "1908\n",
      "1912\n",
      "1916\n",
      "1920\n",
      "1924\n",
      "1928\n",
      "1932\n",
      "1936\n",
      "1940\n",
      "1944\n",
      "1948\n",
      "1952\n",
      "1956\n",
      "1960\n",
      "1964\n",
      "1968\n",
      "1972\n",
      "1976\n",
      "1980\n",
      "1984\n",
      "1988\n",
      "1992\n",
      "1996\n",
      "2000\n",
      "2004\n",
      "2008\n",
      "2012\n",
      "2016\n",
      "2020\n",
      "2024\n",
      "2028\n",
      "2032\n",
      "2036\n",
      "2040\n",
      "2044\n",
      "2048\n",
      "2052\n",
      "2056\n",
      "2060\n",
      "2064\n",
      "2068\n",
      "2072\n",
      "2076\n",
      "2080\n",
      "2084\n",
      "2088\n",
      "2092\n",
      "2096\n"
     ]
    }
   ],
   "source": [
    "# A2\n",
    "\n",
    "visi_metai = range(1900, 2101)\n",
    "for metai in visi_metai:\n",
    "    if metai % 4 == 0 and metai % 100 != 0 or metai % 400 == 0:\n",
    "        print(metai)\n"
   ]
  }
 ],
 "metadata": {
  "kernelspec": {
   "display_name": "venv",
   "language": "python",
   "name": "python3"
  },
  "language_info": {
   "codemirror_mode": {
    "name": "ipython",
    "version": 3
   },
   "file_extension": ".py",
   "mimetype": "text/x-python",
   "name": "python",
   "nbconvert_exporter": "python",
   "pygments_lexer": "ipython3",
   "version": "3.11.7"
  }
 },
 "nbformat": 4,
 "nbformat_minor": 2
}
