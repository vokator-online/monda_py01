{
 "cells": [
  {
   "cell_type": "markdown",
   "metadata": {},
   "source": [
    "# Tekstinė eilutė Python kalboje\n",
    "\n",
    "Tekstinės eilutės arba simboliu eilutės (String), yra vienos iš lankstesnių ir dažniausiai naudojamų duomenų tipų programavime naudojant Python kalbą. Naudingos atvaizduoti ir manipuliuoti betkokiu tekstu"
   ]
  },
  {
   "cell_type": "markdown",
   "metadata": {},
   "source": [
    "## Eilutė kaip duomenų tipas"
   ]
  },
  {
   "cell_type": "markdown",
   "metadata": {},
   "source": [
    "Python kalboje eilutė yra simbolių seka. Eilutės gali būti sukurtos, įtraukiant simbolius į viengubas kabutes (') arba dvigubas kabutes (\").\n",
    "\n",
    "**Pavyzdys**:"
   ]
  },
  {
   "cell_type": "code",
   "execution_count": 23,
   "metadata": {},
   "outputs": [
    {
     "name": "stdout",
     "output_type": "stream",
     "text": [
      "Sveikas, Pasauli! Python Programavimas\n"
     ]
    }
   ],
   "source": [
    "sveikas_pasauli = 'Sveikas, Pasauli!'\n",
    "kurso_pavadinimas = \"Python Programavimas\"\n",
    "print(sveikas_pasauli, kurso_pavadinimas)"
   ]
  },
  {
   "cell_type": "markdown",
   "metadata": {},
   "source": [
    "### Greita užduotis 1\n",
    "Sukurkite teksto eilutės kintamajį \"Aš mokausi Programuoti su Python!\" ir atspausdinkite ji.\n"
   ]
  },
  {
   "cell_type": "code",
   "execution_count": 24,
   "metadata": {},
   "outputs": [
    {
     "name": "stdout",
     "output_type": "stream",
     "text": [
      "Aš mokausi Programuoti su Python!\n"
     ]
    }
   ],
   "source": [
    "as_mokausi = 'Aš mokausi'\n",
    "kursas = \"Programuoti su Python!\"\n",
    "print(as_mokausi, kursas)"
   ]
  },
  {
   "cell_type": "markdown",
   "metadata": {},
   "source": [
    "---\n",
    "\n",
    "## 2. Simbolių išgavimas iš eilučių"
   ]
  },
  {
   "cell_type": "markdown",
   "metadata": {},
   "source": [
    "Kiekvienas simbolis eilutėje turi poziciją arba indeksą, prasidedant nuo 0. Simboliai gali būti išgauti nurodant jų indeksą laužtinėse skliausteliuose `[]`. Neigiamas indeksas reiškia, kad skaičiuojama atgal nuo galo.\n",
    "\n",
    "**Pavyzdys**:"
   ]
  },
  {
   "cell_type": "code",
   "execution_count": 1,
   "metadata": {},
   "outputs": [
    {
     "name": "stdout",
     "output_type": "stream",
     "text": [
      "P\n",
      "n\n"
     ]
    }
   ],
   "source": [
    "tekstas = \"Python\"\n",
    "print(tekstas[0])  # P\n",
    "print(tekstas[-1]) # n"
   ]
  },
  {
   "cell_type": "markdown",
   "metadata": {},
   "source": [
    "### Greita užduotis 2\n",
    "Ištraukite ir atspausdinkite trečiąjį simbolį iš teksto \"`Programavimas`\"."
   ]
  },
  {
   "cell_type": "code",
   "execution_count": 1,
   "metadata": {},
   "outputs": [
    {
     "name": "stdout",
     "output_type": "stream",
     "text": [
      "o\n"
     ]
    }
   ],
   "source": [
    "tekstas = \"Programavimas\"\n",
    "print(tekstas[2])"
   ]
  },
  {
   "cell_type": "markdown",
   "metadata": {},
   "source": [
    "--- \n",
    "\n",
    "## Eilučių pjovimas"
   ]
  },
  {
   "cell_type": "markdown",
   "metadata": {},
   "source": [
    "Jūs galite išgauti dalį eilutės, naudodami pjovimą (\"slicing\"). Vietoje tikslios indekso reikšmės laužtiniuose skliausteliuose [], jūs tiesiog nurodote intervalo indeksų reikšmes, atskirtas dvitaškiu `:`.\n",
    "\n",
    "**Pavyzdys**:"
   ]
  },
  {
   "cell_type": "code",
   "execution_count": 92,
   "metadata": {},
   "outputs": [
    {
     "name": "stdout",
     "output_type": "stream",
     "text": [
      "Programavimas\n"
     ]
    }
   ],
   "source": [
    "tekstas = \"Python Programavimas\"\n",
    "print(tekstas[7:20]) # Programavimas"
   ]
  },
  {
   "cell_type": "code",
   "execution_count": null,
   "metadata": {},
   "outputs": [],
   "source": []
  },
  {
   "cell_type": "markdown",
   "metadata": {},
   "source": []
  },
  {
   "cell_type": "markdown",
   "metadata": {},
   "source": [
    "### Greita užduotis 3\n",
    "Išpjaukite iš žodžio \"Pythonistas\" tekstinę eilutę \"onist\"."
   ]
  },
  {
   "cell_type": "code",
   "execution_count": 28,
   "metadata": {},
   "outputs": [
    {
     "name": "stdout",
     "output_type": "stream",
     "text": [
      "onist\n"
     ]
    }
   ],
   "source": [
    "tekstas = \"Pythonista\"\n",
    "print(tekstas[4:9])"
   ]
  },
  {
   "cell_type": "markdown",
   "metadata": {},
   "source": [
    "### TODO: Slicing 3rd argument"
   ]
  },
  {
   "cell_type": "code",
   "execution_count": 111,
   "metadata": {},
   "outputs": [
    {
     "name": "stdout",
     "output_type": "stream",
     "text": [
      "Pormoa yhn rpajtmksatąrię\n",
      "ędiar ąrtna sak motsjualp ri unohtyP majoumargorP\n",
      "Phurljok t i\n"
     ]
    }
   ],
   "source": [
    "tekstas = \"Programuojam Pythonu ir plaujstom kas antrą raidę\"\n",
    "# kas antra raide\n",
    "print(tekstas[::2])\n",
    "# apverstas tekstas\n",
    "print(tekstas[::-1])\n",
    "# kas trečia raidė išpjovos\n",
    "print(tekstas[13::3])"
   ]
  },
  {
   "cell_type": "markdown",
   "metadata": {},
   "source": [
    "---\n",
    "\n",
    "## Eilutės ilgis"
   ]
  },
  {
   "cell_type": "markdown",
   "metadata": {},
   "source": [
    "Jei norite sužinoti eilutės ilgį, galite naudoti `len()` funkciją, perduodami eilutę kaip argumentą."
   ]
  },
  {
   "cell_type": "code",
   "execution_count": 10,
   "metadata": {},
   "outputs": [
    {
     "name": "stdout",
     "output_type": "stream",
     "text": [
      "6\n"
     ]
    }
   ],
   "source": [
    "print(len(\"Python\"))"
   ]
  },
  {
   "cell_type": "code",
   "execution_count": 9,
   "metadata": {},
   "outputs": [
    {
     "name": "stdout",
     "output_type": "stream",
     "text": [
      "6\n"
     ]
    }
   ],
   "source": [
    "tekstas = \"Python\"\n",
    "print(len(tekstas))"
   ]
  },
  {
   "cell_type": "markdown",
   "metadata": {},
   "source": [
    "### Greita užduotis 4\n",
    "\n",
    "Raskite ir `atspausdinkite` eilutės ilgį \"Jupyter Notebook\"."
   ]
  },
  {
   "cell_type": "code",
   "execution_count": 2,
   "metadata": {},
   "outputs": [
    {
     "name": "stdout",
     "output_type": "stream",
     "text": [
      "16\n"
     ]
    }
   ],
   "source": [
    "tekstas = \"Jupyter Notebook\"\n",
    "print(len(tekstas))"
   ]
  },
  {
   "cell_type": "markdown",
   "metadata": {},
   "source": [
    "### Greita užduotis 5\n",
    "\n",
    "Raskite ir `atspausdinkite` ilgiausio vokiečių žodžio ilgį \"Kraftfahrzeughaftpflichtversicherung\"."
   ]
  },
  {
   "cell_type": "code",
   "execution_count": 3,
   "metadata": {},
   "outputs": [
    {
     "name": "stdout",
     "output_type": "stream",
     "text": [
      "36\n"
     ]
    }
   ],
   "source": [
    "tekstas = \"Kraftfahrzeughaftpflichtversicherung\"\n",
    "print(len(tekstas))"
   ]
  },
  {
   "cell_type": "markdown",
   "metadata": {},
   "source": [
    "---\n",
    "\n",
    "## Specialūs simboliai, Nauja eilutė, `Unicode` koduotės symboliai\n"
   ]
  },
  {
   "cell_type": "markdown",
   "metadata": {},
   "source": [
    "Specialūs simboliai eilutėse leidžia mums įtraukti simbolius, kurie negali būti lengvai įvesti arba turi specialių reikšmių eilutėse. Jie dažnai naudojami su atvirkštiniu (`\\`) brūkšniu.\n",
    "\n",
    "### Nauja Eilutė: `\\n`\n",
    "\n",
    "`\\n` Simbolis reiškia naują eilutę"
   ]
  },
  {
   "cell_type": "code",
   "execution_count": 18,
   "metadata": {},
   "outputs": [
    {
     "name": "stdout",
     "output_type": "stream",
     "text": [
      "Sveikas\n",
      "Pasauli!\n"
     ]
    }
   ],
   "source": [
    "print(\"Sveikas\\nPasauli!\")"
   ]
  },
  {
   "cell_type": "markdown",
   "metadata": {},
   "source": [
    "### Tab: `\\t`\n",
    "\n",
    "Simbolis `\\t` reiškia tabuliavimo tarpą, kuris paprastai yra platesnis nei įprastas tarpas. Tai kaip atstumas tarp žodžių, bet daugiau vietos užima."
   ]
  },
  {
   "cell_type": "code",
   "execution_count": 21,
   "metadata": {},
   "outputs": [
    {
     "name": "stdout",
     "output_type": "stream",
     "text": [
      "Sveikas\tPasauli!\n",
      "01\tobuolys\n",
      "033\tMorka\n",
      "Po 9 simboliu ir daugiau\teina toliau\n"
     ]
    }
   ],
   "source": [
    "print(\"Sveikas\\tPasauli!\")\n",
    "print(\"01\\tobuolys\")\n",
    "print(\"033\\tMorka\")\n",
    "print(\"Po 9 simboliu ir daugiau\\teina toliau\")"
   ]
  },
  {
   "cell_type": "markdown",
   "metadata": {},
   "source": [
    "### `Unicode` koduotės symboliai\n",
    "\n",
    "Unicode simboliai yra kaip specialūs ženklai, kurie leidžia atvaizduoti daugybę skirtingų simbolių, nuo kalbų raštų iki smailių. Norint juos naudoti, reikia naudoti `\\u` priešdėlį ir po jo įvesti tam tikrą skaičių kodą"
   ]
  },
  {
   "cell_type": "code",
   "execution_count": 24,
   "metadata": {},
   "outputs": [
    {
     "name": "stdout",
     "output_type": "stream",
     "text": [
      "Π\n",
      "😄\n",
      "👍\n"
     ]
    }
   ],
   "source": [
    "# Graikiška raidė Pi\n",
    "print(\"\\u03A0\")\n",
    "\n",
    "# Šypsena emoji\n",
    "print(\"\\U0001F604\")\n",
    "\n",
    "# Patvirtinimo nykštukas emoji\n",
    "print(\"\\U0001F44D\")"
   ]
  },
  {
   "cell_type": "markdown",
   "metadata": {},
   "source": [
    "Šiuos simbolius galite peržiūrėti svetainėje [symbl.cc](https://symbl.cc/)"
   ]
  },
  {
   "cell_type": "markdown",
   "metadata": {},
   "source": [
    "### Atgaliniai brūkšniai ir kabutės\n",
    "\n",
    "Norėdami įtraukti atgalinį brūkšnį į eilutę, galite naudoti `\\\\`, o norėdami įtraukti kabutes į eilutę, kuri yra apsupta tų pačių tipų kabutėmis, naudojate atgalinį brūkšnį prieš kabutę."
   ]
  },
  {
   "cell_type": "code",
   "execution_count": 65,
   "metadata": {},
   "outputs": [
    {
     "name": "stdout",
     "output_type": "stream",
     "text": [
      "Tai yra atgalinis brūkšnys: \\\n",
      "Tai \"saulėta\" diena\n"
     ]
    }
   ],
   "source": [
    "print(\"Tai yra atgalinis brūkšnys: \\\\\")\n",
    "print('Tai \\\"saulėta\\\" diena')"
   ]
  },
  {
   "cell_type": "markdown",
   "metadata": {},
   "source": [
    "### Greita užduotis 6\n",
    "\n",
    "Atspausdinkite eilutę, kurioje būtų panaudotas tabuliavimo simbolis atskirti jūsų vardą ir pavardę"
   ]
  },
  {
   "cell_type": "code",
   "execution_count": 34,
   "metadata": {},
   "outputs": [
    {
     "name": "stdout",
     "output_type": "stream",
     "text": [
      "Valdemaras\tKazakas\n"
     ]
    }
   ],
   "source": [
    "print(\"Valdemaras\\tKazakas\")"
   ]
  },
  {
   "cell_type": "markdown",
   "metadata": {},
   "source": [
    "### Greita užduotis 7\n",
    "\n",
    "Atspausdinkite `širdies` `❤️` emoji naudodami jo Unicode atvaizdavimą."
   ]
  },
  {
   "cell_type": "code",
   "execution_count": 17,
   "metadata": {},
   "outputs": [
    {
     "name": "stdout",
     "output_type": "stream",
     "text": [
      "💔\n",
      "❤️\n"
     ]
    }
   ],
   "source": [
    "print(\"\\U0001F494\")\n",
    "print(\"\\u2764\\uFE0F\")"
   ]
  },
  {
   "cell_type": "markdown",
   "metadata": {},
   "source": [
    "### Greita užduotis 8\n",
    "\n",
    "Sukurkite eilutę, kurioje rašoma: `Ji pasakė, \"Python yra nuostabi kalba!\"` užtikrinant, kad vidinės kabutės būtų įtrauktos."
   ]
  },
  {
   "cell_type": "code",
   "execution_count": 25,
   "metadata": {},
   "outputs": [
    {
     "name": "stdout",
     "output_type": "stream",
     "text": [
      "Ji pasakė, \"Python yra nuostabi kalba!\"\n",
      "Ji pasakė, \"Python yra nuostabi kalba!\"\n",
      "Geras oras \"Geras oras\"\n",
      "DÖP \"DÖP\" DÖP \"DÖP\" DÖP \"DÖP\" DÖP \"DÖP\" DÖP \"DÖP\" DÖP \"DÖP\" DÖP \"DÖP\" DÖP \"DÖP\"\n"
     ]
    }
   ],
   "source": [
    "print('Ji pasakė, \"Python yra nuostabi kalba!\"')\n",
    "print(\"Ji pasakė, \\\"Python yra nuostabi kalba!\\\"\")\n",
    "print(\"Geras oras \\\"Geras oras\\\"\")\n",
    "print('DÖP \"DÖP\" DÖP \"DÖP\" DÖP \"DÖP\" DÖP \"DÖP\" DÖP \"DÖP\" DÖP \"DÖP\" DÖP \"DÖP\" DÖP \"DÖP\"')"
   ]
  },
  {
   "cell_type": "markdown",
   "metadata": {},
   "source": [
    "---\n",
    "\n",
    "## Eilučių metodai"
   ]
  },
  {
   "cell_type": "markdown",
   "metadata": {},
   "source": [
    "Python kalboje eilutės turi daugybę įgimtų metodų, skirtų manipuliuoti ir tyrinti juose esančią informaciją. Čia aptarsime kai kuriuos dažniausiai naudojamus metodus."
   ]
  },
  {
   "cell_type": "markdown",
   "metadata": {},
   "source": [
    "### `upper()` ir `lower()`\n",
    "\n",
    "Šie metodai grąžina kopiją originalios eilutės, paverstos didžiosiomis arba mažosiomis raidėmis, atitinkamai."
   ]
  },
  {
   "cell_type": "code",
   "execution_count": 69,
   "metadata": {},
   "outputs": [
    {
     "name": "stdout",
     "output_type": "stream",
     "text": [
      "LABAS\n",
      "labas\n"
     ]
    }
   ],
   "source": [
    "tekstas = \"Labas\"\n",
    "print(tekstas.upper())\n",
    "print(tekstas.lower())"
   ]
  },
  {
   "cell_type": "markdown",
   "metadata": {},
   "source": [
    "### `capitalize()` ir `title()`\n",
    "\n",
    "Šie metodai grąžina kopiją originalios eilutės, kur `capitalize` padaro pirmąją eilutės raidę didžiąja raide, o `title` padaro pirmąją kiekvieno žodžio raidę didžiąja raide. Likusios raidės tampa mažosiomis, net jei jos buvo didžiosios."
   ]
  },
  {
   "cell_type": "code",
   "execution_count": 81,
   "metadata": {},
   "outputs": [
    {
     "name": "stdout",
     "output_type": "stream",
     "text": [
      "Pasaulis yra gražus.\n",
      "grožis turi būti atrastas.\n",
      "didžiausias iššūkis yra pirmas žingsnis.\n",
      "Pasaulis Yra Gražus.\n",
      "Grožis Turi Būti Atrastas.\n",
      "Didžiausias Iššūkis Yra Pirmas Žingsnis.\n"
     ]
    }
   ],
   "source": [
    "tekstas = \"\"\"pasaulis yra gražus.\n",
    "grožis turi būti atrastas.\n",
    "didžiausias iššūkis yra PIRMAS žingsnis.\"\"\"\n",
    "print(tekstas.capitalize())\n",
    "print(tekstas.title())"
   ]
  },
  {
   "cell_type": "markdown",
   "metadata": {},
   "source": [
    "### Greita užduotis 9\n",
    "\n",
    "Paverčiame eilutę \"Python Rocks!\" didžiosiomis ir tada mažosiomis raidėmis, tada spausdiname rezultatus."
   ]
  },
  {
   "cell_type": "code",
   "execution_count": 17,
   "metadata": {},
   "outputs": [
    {
     "name": "stdout",
     "output_type": "stream",
     "text": [
      "PYTHON ROCKS!\n"
     ]
    }
   ],
   "source": [
    "tekstas = \"Python Rocks!\"\n",
    "print(tekstas.upper())"
   ]
  },
  {
   "cell_type": "code",
   "execution_count": 18,
   "metadata": {},
   "outputs": [
    {
     "name": "stdout",
     "output_type": "stream",
     "text": [
      "python rocks!\n"
     ]
    }
   ],
   "source": [
    "tekstas = \"Python Rocks!\"\n",
    "print(tekstas.lower())"
   ]
  },
  {
   "cell_type": "markdown",
   "metadata": {},
   "source": [
    "### Greita užduotis 10\n",
    "\n",
    "Pataisykite eilutę `the UNIVERSE is a SIMULATION` kad ji taptų įprasta sakinio forma, tada tinkama pavadinimo forma, ir atspausdinkite rezultatus.\n",
    "\n",
    "Pirmiausiai pakeiskite eilutės didžiąsias raides mažosiomis: `the universe is a simulation`.\n",
    "Tada pakeiskite šios eilutės pirmąsias raides didžiosiomis: `The Universe Is A Simulation`.\n",
    "\n",
    "Galiausiai, atspausdinkite gautus rezultatus."
   ]
  },
  {
   "cell_type": "code",
   "execution_count": 20,
   "metadata": {},
   "outputs": [
    {
     "name": "stdout",
     "output_type": "stream",
     "text": [
      "The universe is a simulation\n"
     ]
    }
   ],
   "source": [
    "tekstas = \"the UNIVERSE is a SIMULATION\"\n",
    "print(tekstas.capitalize())"
   ]
  },
  {
   "cell_type": "code",
   "execution_count": 30,
   "metadata": {},
   "outputs": [
    {
     "name": "stdout",
     "output_type": "stream",
     "text": [
      "the UNIVERSE is a SIMULATION\n",
      "The Universe is a simulation\n"
     ]
    }
   ],
   "source": [
    "text = \"the UNIVERSE is a SIMULATION\"\n",
    "print(text)\n",
    "\n",
    "words = text.split()\n",
    "words[0] = words[0].capitalize()\n",
    "words[1] = words[1].capitalize()\n",
    "words[2] = words[2].lower()\n",
    "words[3] = words[3].lower()\n",
    "words[4] = words[4].lower()\n",
    "new_text = \" \".join(words)\n",
    "print(new_text)"
   ]
  },
  {
   "cell_type": "markdown",
   "metadata": {},
   "source": [
    "---\n",
    "\n",
    "### `startswith()` ir `endswith()`\n",
    "\n",
    "Šie metodai tikrina, ar eilutė prasideda ar baigiasi tam tikra poeilute \"substring\", ir tada grąžina atsakymą (boolean) `True` arba `False`, t.y. ar teisinga arba klaidinga."
   ]
  },
  {
   "cell_type": "code",
   "execution_count": 88,
   "metadata": {},
   "outputs": [
    {
     "name": "stdout",
     "output_type": "stream",
     "text": [
      "True\n",
      "True\n",
      "False\n"
     ]
    }
   ],
   "source": [
    "sakinys = \"Python yra smagu.\"\n",
    "print(sakinys.startswith(\"Python\"))  # True\n",
    "print(sakinys.endswith(\"gu.\"))       # True\n",
    "print(sakinys.endswith(\"nuobodu.\"))  # False"
   ]
  },
  {
   "cell_type": "markdown",
   "metadata": {},
   "source": [
    "### Greita užduotis 11\n",
    "\n",
    "Patikrinkite, ar eilutė \"Hello world!\" prasideda su \"Hi\" ir baigiasi simboliu \"!\"."
   ]
  },
  {
   "cell_type": "code",
   "execution_count": 32,
   "metadata": {},
   "outputs": [
    {
     "name": "stdout",
     "output_type": "stream",
     "text": [
      "False\n",
      "True\n"
     ]
    }
   ],
   "source": [
    "Sakinys = \"Hello world!\"\n",
    "print(Sakinys.startswith(\"Hi\"))\n",
    "print(Sakinys.endswith('!'))"
   ]
  },
  {
   "cell_type": "markdown",
   "metadata": {},
   "source": [
    "---\n",
    "\n",
    "### `find()` ir `rfind()`\n",
    "\n",
    "`find()` grąžina pirmos pasikartojančios poeilutės \"substring\" indeksą, jei \"substring\" nerastas, tai grąžina -1.\n",
    "\n",
    " `rfind()` pradeda paiešką nuo eilutės pabaigos"
   ]
  },
  {
   "cell_type": "code",
   "execution_count": 90,
   "metadata": {},
   "outputs": [
    {
     "name": "stdout",
     "output_type": "stream",
     "text": [
      "7\n",
      "15\n"
     ]
    }
   ],
   "source": [
    "zinute = \"I love Python. Python is fun.\"\n",
    "print(zinute.find(\"Python\"))  # 7\n",
    "print(zinute.rfind(\"Python\")) # 15"
   ]
  },
  {
   "cell_type": "markdown",
   "metadata": {},
   "source": [
    "### Greita užduotis 12\n",
    "\n",
    "Raskite pirmą ir paskutinį žodžio `\"data\"` pasireiškimą eilutėje `\"Data is the new oil. Big data is a Big Deal.\"`. Tada bandykite atlikti šį paieškos veiksmą, nekreipiant dėmesio į didžiąsias ar mažąsias raides - bandykite aptikti ir `\"Data\" ir \"data\"`."
   ]
  },
  {
   "cell_type": "code",
   "execution_count": 34,
   "metadata": {},
   "outputs": [
    {
     "name": "stdout",
     "output_type": "stream",
     "text": [
      "data is the new oil. big data is a big deal.\n",
      "25\n"
     ]
    }
   ],
   "source": [
    "Sakinys = \"Data is the new oil. Big data is a Big Deal.\"\n",
    "print(Sakinys.lower())\n",
    "print(Sakinys.rfind(\"data\"))\n"
   ]
  },
  {
   "cell_type": "markdown",
   "metadata": {},
   "source": [
    "---\n",
    "\n",
    "### `replace()`\n",
    "\n",
    "Šis metodas pakeičia visus tam tikros poeilutės \"substring\" atvejus kitu."
   ]
  },
  {
   "cell_type": "code",
   "execution_count": 116,
   "metadata": {},
   "outputs": [
    {
     "name": "stdout",
     "output_type": "stream",
     "text": [
      "Python is nice. Python is cool. Java is simple\n"
     ]
    }
   ],
   "source": [
    "tekstas = \"Java is nice. Java is cool. Java is simple\"\n",
    "naujas_textas = tekstas.replace(\"Java\", \"Python\", 2)\n",
    "print(naujas_textas)"
   ]
  },
  {
   "cell_type": "markdown",
   "metadata": {},
   "source": [
    "metodus galima vykdyti vieną po kito grandinės principu"
   ]
  },
  {
   "cell_type": "code",
   "execution_count": 122,
   "metadata": {},
   "outputs": [
    {
     "name": "stdout",
     "output_type": "stream",
     "text": [
      "Gyvenimas yra nuostabus, woooow ir linksmas...\n"
     ]
    }
   ],
   "source": [
    "tekstas = \"Gyvenimas yra žiaurus, nuobodus ir liūdnas...\"\n",
    "optimistiskas = tekstas.replace(\n",
    "    \"žiaurus\", \n",
    "    \"nuostabus\"\n",
    ").replace(\n",
    "    \"nuobodus ir liūdnas\", \n",
    "    \"smagus ir linksmas\"\n",
    ").replace(\n",
    "    \"smagus\", \n",
    "    \"woooow\"\n",
    ")\n",
    "print(optimistiskas)"
   ]
  },
  {
   "cell_type": "markdown",
   "metadata": {},
   "source": [
    "### Greita užduotis 13\n",
    "\n",
    "Pakeiskite atvejus, eilutėje  `\"A bad example sets a bad precedent.\"` pakeiskite žodi iš `bad, į good`."
   ]
  },
  {
   "cell_type": "code",
   "execution_count": 40,
   "metadata": {},
   "outputs": [
    {
     "name": "stdout",
     "output_type": "stream",
     "text": [
      "A good example sets a good precedent\n"
     ]
    }
   ],
   "source": [
    "tekstas = \"A bad example sets a bad precedent\"\n",
    "naujas_tekstas = tekstas.replace(\"bad\", \"good\")\n",
    "print(naujas_tekstas)"
   ]
  },
  {
   "cell_type": "code",
   "execution_count": null,
   "metadata": {},
   "outputs": [],
   "source": []
  },
  {
   "cell_type": "markdown",
   "metadata": {},
   "source": [
    "---\n",
    "\n",
    "### `strip()`, `rstrip()`, ir `lstrip()`\n",
    "\n",
    "Šie metodai grąžina eilutės kopiją, iš kurios pašalina tarpus (whitespace)\n",
    "\n",
    "`strip()`: Šis metodas pašalina visus tarpus (whitespace) iš eilutės pradžios ir pabaigos\n",
    "\n",
    "`rstrip()`: Šis metodas pašalina visus tarpus (whitespace) tik iš eilutės galo (dešinės pusės)\n",
    "\n",
    "`lstrip()`: Šis metodas pašalina visus tarpus (whitespace) tik iš eilutės pradžios (kairės pusės)"
   ]
  },
  {
   "cell_type": "code",
   "execution_count": 129,
   "metadata": {},
   "outputs": [
    {
     "name": "stdout",
     "output_type": "stream",
     "text": [
      ".      whitespaced all around       .\n",
      ". whitespaced all around       .\n",
      ".      whitespaced all around .\n",
      ". whitespaced all around .\n"
     ]
    }
   ],
   "source": [
    "strip_tekstas = \"     whitespaced all around      \"\n",
    "print('.', strip_tekstas, '.')\n",
    "print('.', strip_tekstas.lstrip(), '.')\n",
    "print('.', strip_tekstas.rstrip(), '.')\n",
    "print('.', strip_tekstas.strip(), '.')"
   ]
  },
  {
   "cell_type": "markdown",
   "metadata": {},
   "source": [
    "### Greita užduotis 14\n",
    "\n",
    "Pašalinkite papildomus tarpus iš eilutės <pre>\"    Too much space!    \"</pre> naudodami `strip()` metodą."
   ]
  },
  {
   "cell_type": "code",
   "execution_count": 58,
   "metadata": {},
   "outputs": [
    {
     "name": "stdout",
     "output_type": "stream",
     "text": [
      "Too much space!\n"
     ]
    }
   ],
   "source": [
    "strip_tekstas = \"  Too much space!  \"\n",
    "print(strip_tekstas.strip())"
   ]
  },
  {
   "cell_type": "code",
   "execution_count": 57,
   "metadata": {},
   "outputs": [
    {
     "name": "stdout",
     "output_type": "stream",
     "text": [
      "\"Too much space!\"\n"
     ]
    }
   ],
   "source": [
    "strip_tekstas = \"  \\\"Too much space!\\\"  \"\n",
    "print(strip_tekstas.strip())"
   ]
  },
  {
   "cell_type": "markdown",
   "metadata": {},
   "source": [
    "---\n",
    "\n",
    "## Teikstinių eilučių Formatavimas"
   ]
  },
  {
   "cell_type": "markdown",
   "metadata": {},
   "source": [
    "Python programavimo kalboje yra keletas būdų formatuoti tekstines eilutes. Eilučių formatavimas yra labai patogus būdas struktūruoti eilutes naudojant vartotojo sąsajai, rezultatų išvedimui ar tiesiog įvykių žurnalo užrašams (logavimui). Tai yra būdas įterpti duomenis į tekstines eilutes. Python programavimo kalboje yra keli metodai, leidžiantys jums kontroliuoti kintamųjų pateikimą jūsų išvestyje. Pažiūrėkime į šiuos metodus."
   ]
  },
  {
   "cell_type": "markdown",
   "metadata": {},
   "source": [
    "### F-strings (tiesiogiai formatuotos eilutės):\n",
    "\n",
    "F-strings yra priemonė Python programavimo kalboje, kuri leidžia lengvai įterpti išraiškas į tekstą, kad būtų galima dinamiškai generuoti tekstines eilutes. Ši funkcija buvo pridėta nuo Python 3.6 versijos ir yra naudinga rašant aiškesnį ir trumpesnį kodą."
   ]
  },
  {
   "cell_type": "code",
   "execution_count": 130,
   "metadata": {},
   "outputs": [
    {
     "name": "stdout",
     "output_type": "stream",
     "text": [
      "Mano vardas yra Alisa ir man yra 30 metų.\n"
     ]
    }
   ],
   "source": [
    "vardas = \"Alisa\"\n",
    "amzius = 30\n",
    "formatuota_eilute = f\"Mano vardas yra {vardas} ir man yra {amzius} metų.\"\n",
    "print(formatuota_eilute)"
   ]
  },
  {
   "cell_type": "markdown",
   "metadata": {},
   "source": [
    "### Greita užduotis 15\n",
    "\n",
    "Sukurkite sutarties eilutę į f eilutę (f-string), nurodydami dalyką(subject) ir šalis(parties) kaip aukščiau apibrėžtus kintamuosius.\n"
   ]
  },
  {
   "cell_type": "code",
   "execution_count": null,
   "metadata": {},
   "outputs": [],
   "source": []
  },
  {
   "cell_type": "markdown",
   "metadata": {},
   "source": [
    "---\n",
    "\n",
    "### .format() metodas:\n",
    "\n",
    "Prieš naudojant f eilutes, metodas „str.format()“ buvo pagrindinis būdas formatuoti eilutes „Python“.\n"
   ]
  },
  {
   "cell_type": "code",
   "execution_count": 132,
   "metadata": {},
   "outputs": [
    {
     "name": "stdout",
     "output_type": "stream",
     "text": [
      "Mano vardas yra Studentas ir man yra 46 metu.\n"
     ]
    }
   ],
   "source": [
    "vardas = \"Studentas\"\n",
    "amzius = 46\n",
    "formatuota_eilute = \"Mano vardas yra {} ir man yra {} metu.\".format(vardas, amzius)\n",
    "print(formatuota_eilute)"
   ]
  },
  {
   "cell_type": "markdown",
   "metadata": {},
   "source": [
    "Norėdami nurodyti tvarką, taip pat galite naudoti pozicijos ir raktinio žodžio argumentus."
   ]
  },
  {
   "cell_type": "code",
   "execution_count": 133,
   "metadata": {},
   "outputs": [
    {
     "name": "stdout",
     "output_type": "stream",
     "text": [
      "Man yra 46 metu. Mano vardas yra Studentas.\n"
     ]
    }
   ],
   "source": [
    "formatuota_eilute = \"Man yra {1} metu. Mano vardas yra {0}.\".format(vardas, amzius)\n",
    "print(formatuota_eilute)"
   ]
  },
  {
   "cell_type": "code",
   "execution_count": 134,
   "metadata": {},
   "outputs": [
    {
     "name": "stdout",
     "output_type": "stream",
     "text": [
      "Sveiki, as esu Studentas, man yra 46 metu, ir as vistiek esu Studentas\n"
     ]
    }
   ],
   "source": [
    "formatuota_eilute = \"Sveiki, as esu {0}, man yra {1} metu, ir as vistiek esu {0}\".format(vardas, amzius)\n",
    "print(formatuota_eilute)"
   ]
  },
  {
   "cell_type": "markdown",
   "metadata": {},
   "source": [
    "### Greita užduotis 16\n",
    "Atlikite 15-ą greitą užduotį naudodami `.format()`."
   ]
  },
  {
   "cell_type": "code",
   "execution_count": 63,
   "metadata": {},
   "outputs": [
    {
     "ename": "NameError",
     "evalue": "name 'Valdemaras' is not defined",
     "output_type": "error",
     "traceback": [
      "\u001b[1;31m---------------------------------------------------------------------------\u001b[0m",
      "\u001b[1;31mNameError\u001b[0m                                 Traceback (most recent call last)",
      "Cell \u001b[1;32mIn[63], line 1\u001b[0m\n\u001b[1;32m----> 1\u001b[0m Vardas \u001b[38;5;241m=\u001b[39m \u001b[43mValdemaras\u001b[49m\n\u001b[0;32m      2\u001b[0m Amžius \u001b[38;5;241m=\u001b[39m \u001b[38;5;241m45\u001b[39m\n\u001b[0;32m      3\u001b[0m formatuota_eilute \u001b[38;5;241m=\u001b[39m \u001b[38;5;124m\"\u001b[39m\u001b[38;5;124mMan yra \u001b[39m\u001b[38;5;132;01m{1}\u001b[39;00m\u001b[38;5;124m metu. Mano vardas yra \u001b[39m\u001b[38;5;132;01m{0}\u001b[39;00m\u001b[38;5;124m.\u001b[39m\u001b[38;5;124m\"\u001b[39m\u001b[38;5;241m.\u001b[39mformat(vardas, amzius)\n",
      "\u001b[1;31mNameError\u001b[0m: name 'Valdemaras' is not defined"
     ]
    }
   ],
   "source": [
    "Vardas = Valdemaras\n",
    "Amžius = 45\n",
    "formatuota_eilute = \"Man yra {1} metu. Mano vardas yra {0}.\".format(vardas, amzius)\n",
    "print(formatuota_eilute)"
   ]
  },
  {
   "cell_type": "markdown",
   "metadata": {},
   "source": [
    "---\n",
    "\n",
    "### %-formatting:\n",
    "\n",
    "Tai vienas iš seniausių tekstinių eilučių formatavimo būdų, pasiskolintas iš C kalbos. Šiuo atveju reikia apibrėžti kintamojo tipą. `%s` reiškia simbolių eilutę, `%d` yra sveikasis skaičius, o `%f` yra realusis skaičius."
   ]
  },
  {
   "cell_type": "code",
   "execution_count": 135,
   "metadata": {},
   "outputs": [
    {
     "name": "stdout",
     "output_type": "stream",
     "text": [
      "Mano vardas yra Studentas ir man yra 46 metu.\n"
     ]
    }
   ],
   "source": [
    "formatuota_eilute = \"Mano vardas yra %s ir man yra %d metu.\" % (vardas, amzius)\n",
    "print(formatuota_eilute)"
   ]
  },
  {
   "cell_type": "code",
   "execution_count": 137,
   "metadata": {},
   "outputs": [
    {
     "name": "stdout",
     "output_type": "stream",
     "text": [
      "Studentas pamirso uzduoti padaryti\n"
     ]
    }
   ],
   "source": [
    "procentinis_tekstas = \"%s pamirso uzduoti padaryti\" % (vardas)\n",
    "print(procentinis_tekstas)"
   ]
  },
  {
   "cell_type": "markdown",
   "metadata": {},
   "source": [
    "### Skaičių formatavimas:\n",
    "\n",
    "Formatuojant eilutes kartais reikia suformatuoti skaičius konkrečiu būdu, pvz., valdyti skaičius po kablelio, pridėti tarpų ar nulių priekyje ir pan.\n",
    "\n",
    "#### Naudojant f-eilutes:"
   ]
  },
  {
   "cell_type": "code",
   "execution_count": 138,
   "metadata": {},
   "outputs": [
    {
     "name": "stdout",
     "output_type": "stream",
     "text": [
      "123.46\n"
     ]
    }
   ],
   "source": [
    "skaicius = 123.4567\n",
    "formatuotas_skaicius = f\"{skaicius:.2f}\"\n",
    "print(formatuotas_skaicius)"
   ]
  },
  {
   "cell_type": "markdown",
   "metadata": {},
   "source": [
    "#### Naudojant `.format()` metodą:"
   ]
  },
  {
   "cell_type": "code",
   "execution_count": 139,
   "metadata": {},
   "outputs": [
    {
     "name": "stdout",
     "output_type": "stream",
     "text": [
      "123.46\n"
     ]
    }
   ],
   "source": [
    "formatuotas_skaicius = \"{:.2f}\".format(skaicius)\n",
    "print(formatuotas_skaicius)"
   ]
  },
  {
   "cell_type": "markdown",
   "metadata": {},
   "source": [
    "### Tarpai ir lygiavimas:\n",
    "\n",
    "Galite valdyti kintamųjų tarpus ir lygiavimą suformatuotose eilutėse.\n",
    "\n",
    "Naudojant f-eilutes:"
   ]
  },
  {
   "cell_type": "code",
   "execution_count": 151,
   "metadata": {},
   "outputs": [
    {
     "name": "stdout",
     "output_type": "stream",
     "text": [
      "Vardas:        Kęstutis      \n",
      "Pavarde:    Januškevičius    \n"
     ]
    }
   ],
   "source": [
    "vardas = \"Kęstutis\"\n",
    "pavarde = \"Januškevičius\"\n",
    "formatuota_eilute = f\"Vardas:  {vardas:^20}\\nPavarde: {pavarde:^20}\"\n",
    "print(formatuota_eilute)"
   ]
  },
  {
   "cell_type": "code",
   "execution_count": 154,
   "metadata": {},
   "outputs": [
    {
     "name": "stdout",
     "output_type": "stream",
     "text": [
      "Vardas:    Kęstutis            \n",
      "Pavarde:   Januškevičius       \n"
     ]
    }
   ],
   "source": [
    "vardo_tekstas = \"Vardas:\"\n",
    "pavardes_tekstas = \"Pavarde:\"\n",
    "vardas = \"Kęstutis\"\n",
    "pavarde = \"Januškevičius\"\n",
    "formatuota_eilute = f\"{vardo_tekstas:10} {vardas:20}\\n{pavardes_tekstas:10} {pavarde:20}\"\n",
    "print(formatuota_eilute)"
   ]
  },
  {
   "cell_type": "code",
   "execution_count": 156,
   "metadata": {},
   "outputs": [
    {
     "name": "stdout",
     "output_type": "stream",
     "text": [
      "      obuolys        ---       3.90\n",
      "       ikrai         ---     777.00\n"
     ]
    }
   ],
   "source": [
    "produktas1 = \"obuolys\"\n",
    "kaina1 = 3.9\n",
    "produktas2 = \"ikrai\"\n",
    "kaina2 = 777\n",
    "eilute1 = f\"{produktas1:^20} --- {kaina1:10.2f}\"\n",
    "eilute2 = f\"{produktas2:^20} --- {kaina2:10.2f}\"\n",
    "print(eilute1)\n",
    "print(eilute2)"
   ]
  },
  {
   "cell_type": "markdown",
   "metadata": {},
   "source": [
    "Naudojant `.format()` metodą:"
   ]
  },
  {
   "cell_type": "code",
   "execution_count": 33,
   "metadata": {},
   "outputs": [
    {
     "name": "stdout",
     "output_type": "stream",
     "text": [
      "Vardas:        Bob\n"
     ]
    }
   ],
   "source": [
    "formatuota_eilute = \"Vardas: {:>10}\".format(vardas)\n",
    "print(formatuota_eilute)"
   ]
  },
  {
   "cell_type": "markdown",
   "metadata": {},
   "source": [
    "Teksto formato nustatymas bendriniam `.format()` metodo naudojimui"
   ]
  },
  {
   "cell_type": "code",
   "execution_count": null,
   "metadata": {},
   "outputs": [],
   "source": [
    "eilute = \"{:20} x {:^10g} | {:10.2f} €\"\n",
    "print(eilute.format(\"bananas\", 1.5, 1.07))\n",
    "print(eilute.format(\"apelsinas\", 4, 2.5))\n",
    "print(eilute.format(\"lašiša\", 0.205, 25.744))\n",
    "print(eilute.format(\"meška\", (2/3), 2057.555))"
   ]
  },
  {
   "cell_type": "markdown",
   "metadata": {},
   "source": [
    "### Greita užduotis 17\n",
    "\n",
    "Sukurkite eilutės formatą, sudarantį 2 stulpelių lentelę. `Kairėje pusėje` būtų tekstas iki 30 simbolių, `dešinėje pusėje` – dešinėn sulygiuotas skaičius, kurio bendras plotis 10 simbolių ir 2 skaitmenys po kablelio. Atspausdinkite keletą pavyzdinių eilučių, užpildytų išgalvotais duomenimis."
   ]
  },
  {
   "cell_type": "code",
   "execution_count": null,
   "metadata": {},
   "outputs": [],
   "source": []
  },
  {
   "cell_type": "code",
   "execution_count": 72,
   "metadata": {},
   "outputs": [
    {
     "name": "stdout",
     "output_type": "stream",
     "text": [
      "Bananai              x    1.50    |       1.07 €\n",
      "Mangai               x    4.00    |       2.50 €\n",
      "Lašiša               x    0.45    |      25.74 €\n",
      "Ikrai                x    0.67    |    2057.55 €\n"
     ]
    }
   ],
   "source": [
    "eilute = \"{:20} x {:^10.2f} | {:10.2f} €\"\n",
    "print(eilute.format(\"Bananai\", 1.5, 1.07))\n",
    "print(eilute.format(\"Mangai\", 4.0, 2.50))\n",
    "print(eilute.format(\"Lašiša\", 0.450, 25.744))\n",
    "print(eilute.format(\"Ikrai\", 2/3, 2057.555))"
   ]
  },
  {
   "cell_type": "markdown",
   "metadata": {},
   "source": [
    "Naudodami šiuos formatavimo įrankius savo arsenale galite tiksliai valdyti eilučių ir skaičių išvaizdą. Nesvarbu, ar rodote duomenis konsolėje, ar rašote juos į failą, ar siunčiate tinklu, šie eilučių formatavimo būdai leis pateikti duomenis tiksliai taip, kaip norite."
   ]
  },
  {
   "cell_type": "markdown",
   "metadata": {},
   "source": [
    "---\n",
    "\n",
    "## `print()` Funkcija: `sep` ir `end` Argumentai\n"
   ]
  },
  {
   "cell_type": "markdown",
   "metadata": {},
   "source": [
    "Išvesties formatavimui galime naudoti funkcijos `print()` argumentus `sep` ir `end`. `sep` argumentas pakeičia tarpą ` ` kaip skyriklį, o `end` pakeičia `\\n` naują eilutę kaip spausdinimo išvesties užbaigiklį. Pavyzdžiai:"
   ]
  },
  {
   "cell_type": "code",
   "execution_count": 17,
   "metadata": {},
   "outputs": [
    {
     "name": "stdout",
     "output_type": "stream",
     "text": [
      "Sveikas-Pasauli!"
     ]
    }
   ],
   "source": [
    "print(\"Sveikas\", \"Pasauli\", sep=\"-\", end=\"!\")"
   ]
  },
  {
   "cell_type": "code",
   "execution_count": 172,
   "metadata": {},
   "outputs": [
    {
     "name": "stdout",
     "output_type": "stream",
     "text": [
      "Pietų planas:\n",
      "- carpaccio\n",
      "- pasta\n",
      "- carne carne carne\n",
      "- insalata\n",
      "- caffe macciato\n",
      "e dolce!\n"
     ]
    }
   ],
   "source": [
    "antipasto = 'carpaccio'\n",
    "primo = 'pasta'\n",
    "secondo = 'carne carne carne'\n",
    "contorno = 'insalata'\n",
    "bebita = 'caffe macciato'\n",
    "print(\"Pietų planas:\", end=\"\\n- \")\n",
    "print(\n",
    "    antipasto, \n",
    "    primo, \n",
    "    secondo, \n",
    "    contorno, \n",
    "    bebita, \n",
    "    sep=\"\\n- \", \n",
    "    end=\"\\ne dolce!\\n\"\n",
    ")"
   ]
  },
  {
   "cell_type": "code",
   "execution_count": 189,
   "metadata": {},
   "outputs": [
    {
     "name": "stdout",
     "output_type": "stream",
     "text": [
      "1-2-3.sekantis...\n",
      "paskutinis\n",
      "3.9€\n"
     ]
    }
   ],
   "source": [
    "pirmas = 1\n",
    "antras = 2\n",
    "trecias = 3\n",
    "print(pirmas, antras, trecias, sep='-', end='.')\n",
    "print('sekantis', end='...\\n')\n",
    "print('paskutinis')\n",
    "print(kaina1, end='€\\n')"
   ]
  },
  {
   "cell_type": "markdown",
   "metadata": {},
   "source": [
    "### Greita užduotis 18\n",
    "\n",
    "Naudokite `print` funkcijos `sep` ir `end` argumentus, kad atspausdintumėte skaičius nuo 5 iki 0, atskirtus \"... \" ir baigiant eilute `\" Pakylam!\\n\"`."
   ]
  },
  {
   "cell_type": "code",
   "execution_count": 198,
   "metadata": {},
   "outputs": [
    {
     "name": "stdout",
     "output_type": "stream",
     "text": [
      "5... 4... 3... 2... 1... 0 Pakylam!\n"
     ]
    }
   ],
   "source": [
    "print(5, 4, 3, 2, 1, 0, sep='... ', end=' Pakylam!\\n')"
   ]
  },
  {
   "cell_type": "markdown",
   "metadata": {},
   "source": [
    "---\n",
    "\n",
    "## Išvada\n",
    "\n",
    "`Tekstinės eilutės (strings)` yra pagrindinis tekstinis Python duomenų tipas ir siūlo daugybę metodų, kaip efektyviai tvarkyti tekstinius duomenis ir jais manipuliuoti. Nuo didžiųjų ir mažųjų raidžių keitimo iki eilučių paieškos ir keitimo – integruoti metodai gali padėti lengvai atlikti daugumą įprastų užduočių.\n",
    "\n",
    "Savo Python kelionės metu susidursite su daugybe scenarijų, kai simbolių eilučių operacijos taps kritinės. Nesvarbu, ar tai būtų vartotojo įvesties apdorojimas, duomenų iš failų skaitymas ar atsakymų iš žiniatinklio užklausų tvarkymas, geras simbolių eilučių supratimas bus neįkainojamas.\n",
    "\n",
    "Atminkite, praktika yra raktas. Kuo daugiau dirbsite su `textinėmis eilutėmis (strings)`, išbandysite įvairius metodus ir eksperimentuosite su įvairiomis operacijomis, tuo lengviau ir greičiau igysite reikalingu žinių. Taigi, skirkite laiko susipažinti su šiais metodais, naudokite juos savo projektuose ir visada mokykitės!"
   ]
  },
  {
   "cell_type": "markdown",
   "metadata": {},
   "source": [
    "---\n",
    "\n",
    "## Papildomas skaitymas"
   ]
  },
  {
   "cell_type": "markdown",
   "metadata": {},
   "source": [
    "* [Oficiali Python dokumentacija apie textines eilutes](https://docs.python.org/3/tutorial/introduction.html#text)\n",
    "* [Python Tekstinių eilučių(strings) Metodai](https://www.w3schools.com/python/python_ref_string.asp)\n",
    "* [Tekstinių eilučių Formatavimas](https://realpython.com/python-f-strings/)"
   ]
  }
 ],
 "metadata": {
  "kernelspec": {
   "display_name": "venv",
   "language": "python",
   "name": "python3"
  },
  "language_info": {
   "codemirror_mode": {
    "name": "ipython",
    "version": 3
   },
   "file_extension": ".py",
   "mimetype": "text/x-python",
   "name": "python",
   "nbconvert_exporter": "python",
   "pygments_lexer": "ipython3",
   "version": "3.12.1"
  },
  "orig_nbformat": 4
 },
 "nbformat": 4,
 "nbformat_minor": 2
}
