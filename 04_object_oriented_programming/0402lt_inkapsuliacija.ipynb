{
 "cells": [
  {
   "cell_type": "markdown",
   "metadata": {},
   "source": [
    "# Inkapsuliacija\n",
    "\n",
    "`Inkapsuliacija` yra objektinio programavimo konceptas, kuris apjungia duomenis ir metodus juos apdorojant į vieną vienetą – klasę. Ji padeda apsaugoti objekto būseną nuo netinkamo prieinamumo ar modifikacijos iš išorės. `Inkapsuliacija` leidžia programuotojams sukurti sąsają, per kurią galima saugiai bendrauti su objekto duomenimis. Tai įgalina duomenų ir metodų paslėpimą, užtikrindama, kad objekto naudojimas būtų atliekamas kaip numatyta. Dėl šios savybės kodo priežiūra tampa lengvesnė ir galima išvengti netikėtų klaidų."
   ]
  },
  {
   "cell_type": "markdown",
   "metadata": {},
   "source": [
    "---\n",
    "\n",
    "## Privatūs Atributai\n",
    "\n",
    "`Privatūs atributai` yra klasės komponentai, kurie negali būti tiesiogiai prieinami iš klasės išorės. Tai reiškia, kad juos galima pakeisti arba skaityti tik per klasės metodus. Python kalboje, privatūs kintamieji paprastai sukuriami pridedant `du pabrauktukus` prieš kintamojo pavadinimą (pvz., `__spalva`).\n",
    "\n",
    "Pavyzdžiui:"
   ]
  },
  {
   "cell_type": "code",
   "execution_count": 1,
   "metadata": {},
   "outputs": [],
   "source": [
    "class Automobilis:\n",
    "    def __init__(self, marke, modelis, metai=2023, spalva='pilka'):\n",
    "        self.marke = marke\n",
    "        self.modelis = modelis\n",
    "        self.__metai = metai\n",
    "        self.__spalva = spalva\n",
    "\n",
    "    def gauti_metus(self):\n",
    "        return self.__metai\n",
    "\n",
    "    def gauti_spalva(self):\n",
    "        return self.__spalva"
   ]
  },
  {
   "cell_type": "code",
   "execution_count": 2,
   "metadata": {},
   "outputs": [
    {
     "name": "stdout",
     "output_type": "stream",
     "text": [
      "Mercedes\n",
      "C-Class\n",
      "2023\n",
      "pilka\n"
     ]
    }
   ],
   "source": [
    "mersas = Automobilis('Mercedes', 'C-Class')\n",
    "\n",
    "print(mersas.marke)  # Mercedes\n",
    "print(mersas.modelis)  # C-Class\n",
    "print(mersas.gauti_metus())  # 2023\n",
    "print(mersas.gauti_spalva())  # pilka"
   ]
  },
  {
   "cell_type": "code",
   "execution_count": 3,
   "metadata": {},
   "outputs": [
    {
     "name": "stdout",
     "output_type": "stream",
     "text": [
      "Mersas C-Class pilka\n"
     ]
    }
   ],
   "source": [
    "mersas.marke = \"Mersas\"\n",
    "mersas.__spalva = \"juodas\"\n",
    "print(mersas.marke, mersas.modelis, mersas.gauti_spalva())"
   ]
  },
  {
   "cell_type": "markdown",
   "metadata": {},
   "source": [
    "Tai demonstruoja \n",
    "- `Automobilis` klasės objekto su konkrečiais atributais sukūrimą, \n",
    "- Atributų gavimą naudojant gavimo metodus "
   ]
  },
  {
   "cell_type": "markdown",
   "metadata": {},
   "source": [
    "### Greita užduotis 1: Automobilio Klasės Papildymas\n",
    "\n",
    "- Pridėti privačią savybę `__rida`, kuri saugotų automobilio nuvažiuotus kilometrus. Pradinė `__rida` reikšmė turėtų būti 0.\n",
    "- Sukurti metodą `vaziuoti(kilometrai)`, kuris pridėtų argumente nurodytą kilometrų skaičių prie automobilio ridos ir atspausdintų pranešimą apie tai.\n",
    "- Sukurti metodą `gauti_rida()`, kuris grąžintų automobilio bendrą nuvažiuotų kilometrų skaičių."
   ]
  },
  {
   "cell_type": "code",
   "execution_count": 4,
   "metadata": {},
   "outputs": [
    {
     "name": "stdout",
     "output_type": "stream",
     "text": [
      "Automobilis BMW 530d nuvažiavo 20 km.\n",
      "Bendra BMW 530d rida: 20 km.\n"
     ]
    }
   ],
   "source": [
    "class Automobilis: \n",
    "    def __init__(self, marke, modelis, metai=2023, spalva='pilka'): \n",
    "        self.marke = marke \n",
    "        self.modelis = modelis \n",
    "        self.__metai = metai \n",
    "        self.__spalva = spalva \n",
    "        self.__rida = 0\n",
    "\n",
    "    def gauti_metus(self):\n",
    "        return self.__metai\n",
    "\n",
    "    def gauti_spalva(self):\n",
    "        return self.__spalva\n",
    "\n",
    "    def vaziuoti(self, kilometrai):\n",
    "        self.__rida += kilometrai\n",
    "        print(f\"Automobilis {self.marke} {self.modelis} nuvažiavo {kilometrai} km.\")\n",
    "\n",
    "    def gauti_rida(self):\n",
    "        return self.__rida\n",
    "    \n",
    "ketvirtas_automobilis = Automobilis('BMW', '530d') \n",
    "ketvirtas_automobilis.vaziuoti(20) \n",
    "print(f\"Bendra {ketvirtas_automobilis.marke} {ketvirtas_automobilis.modelis} rida: {ketvirtas_automobilis.gauti_rida()} km.\")"
   ]
  },
  {
   "cell_type": "markdown",
   "metadata": {},
   "source": [
    "---\n",
    "\n",
    "## Privatūs metodai \n",
    "\n",
    "`Privatūs metodai` yra klasės metodai, kurie taip pat nėra tiesiogiai prieinami iš klasės išorės. Jie dažnai naudojami vidinėje klasės logikoje ir yra skirti tik klasės naudojimui. Python kalboje privatūs metodai taip pat sukuriami pridedant `du pabrauktukus` prieš metodo pavadinimą (pvz., `__pakeisti_spalva()`)."
   ]
  },
  {
   "cell_type": "code",
   "execution_count": 6,
   "metadata": {},
   "outputs": [],
   "source": [
    "class Automobilis:\n",
    "    def __init__(self, marke, modelis, metai=2024, spalva='pilka'):\n",
    "        self.marke = marke\n",
    "        self.modelis = modelis\n",
    "        self.__metai = metai\n",
    "        self.__spalva = spalva\n",
    "\n",
    "    def gauti_metus(self):\n",
    "        return self.__metai\n",
    "\n",
    "    def gauti_spalva(self):\n",
    "        return self.__spalva\n",
    "\n",
    "    def __pakeisti_spalva(self, nauja_spalva):\n",
    "        self.__spalva = nauja_spalva\n",
    "\n",
    "    def perdazyti(self, nauja_spalva):\n",
    "        if len(nauja_spalva) > len(self.__spalva):\n",
    "            self.__pakeisti_spalva(nauja_spalva)\n",
    "        else:\n",
    "            print(\"Dėl keistų priežasčių perdažyti negalima\")"
   ]
  },
  {
   "cell_type": "code",
   "execution_count": 7,
   "metadata": {},
   "outputs": [
    {
     "name": "stdout",
     "output_type": "stream",
     "text": [
      "pilka\n",
      "Toyota\n",
      "Corolla\n",
      "2020\n",
      "Raudona\n",
      "Dėl keistų priežasčių perdažyti negalima\n",
      "Raudona\n"
     ]
    }
   ],
   "source": [
    "zaislinis = Automobilis(marke='Toyota', modelis='Corolla', metai=2020)\n",
    "print(zaislinis.gauti_spalva()) # pilka\n",
    "zaislinis.perdazyti('Raudona')\n",
    "print(zaislinis.marke)  # Toyota\n",
    "print(zaislinis.modelis)  # Corolla\n",
    "print(zaislinis.gauti_metus())  # 2020\n",
    "print(zaislinis.gauti_spalva()) # Raudona\n",
    "zaislinis.perdazyti(\"balta\")\n",
    "# zaislinis.__pakeisti_spalva(\"juoda\") # nepasileidzia\n",
    "print(zaislinis.gauti_spalva()) # Raudona\n"
   ]
  },
  {
   "cell_type": "markdown",
   "metadata": {},
   "source": [
    "Tai demonstruoja \n",
    "- `Automobilis` klasės objekto su konkrečiais atributais sukūrimą, \n",
    "- Atributų gavimą naudojant gavimo metodus \n",
    "- `__spalva` atributo atnaujinimą naudojant viešąjį `perdazyti` metodą."
   ]
  },
  {
   "cell_type": "markdown",
   "metadata": {},
   "source": [
    "*Priminimas*: `Inkapsuliacija` yra svarbi, nes ji padeda užtikrinti kodo saugumą, sumažina klaidų tikimybę ir padidina kodo prieinamumo tvarkymą."
   ]
  },
  {
   "cell_type": "markdown",
   "metadata": {},
   "source": [
    "### Greita užduotis 2: Banko Sąskaitos Klasė\n",
    "\n",
    "### Klasės Kintamieji\n",
    "- `sąskaitos_numeris` - viešas kintamasis\n",
    "- `savininkas` - viešas kintamasis\n",
    "- `likutis` - privatus kintamasis\n",
    "- `PIN_kodas` - privatus kintamasis\n",
    "\n",
    "### Metodai\n",
    "#### Pinigų Išėmimas\n",
    "- Sukurkite metodą `isimti_pinigus`, kuris leidžia išgryninti pinigus iš sąskaitos.\n",
    "- PIN kodas, reikalingas pinigų išėmimui, turi būti patikrintas ir žinomas tik klasės viduje.\n",
    "\n",
    "#### Pinigų Įnešimas\n",
    "- Sukurkite metodą `ideti_pinigus`, kuris leidžia įnešti pinigų į sąskaitą."
   ]
  },
  {
   "cell_type": "code",
   "execution_count": 8,
   "metadata": {},
   "outputs": [
    {
     "name": "stdout",
     "output_type": "stream",
     "text": [
      "Įnešta 2000. Naujas likutis yra 548835.\n",
      "Tšimta 800. Naujas likutis yra 548035.\n",
      "Neteisingas PIN kodas. Prieiga uždrausta.\n",
      "Sąskaitos likutis yra: 548035\n"
     ]
    }
   ],
   "source": [
    "class Banko_paskyra:\n",
    "    def __init__(self, sąskaitos_numeris, savininkas, likutis, pin_kodas):\n",
    "        self.sąskaitos_numeris = sąskaitos_numeris\n",
    "        self.savininkas = savininkas\n",
    "        self.__likutis = likutis\n",
    "        self.__pin_kodas = pin_kodas\n",
    "\n",
    "    def __pin_kodo_tikrinimas(self, įrašyti_pin_kodą):\n",
    "        return įrašyti_pin_kodą == self.__pin_kodas\n",
    "\n",
    "    def išimti_pinigus(self, suma, pin_kodas):\n",
    "        if not self.__pin_kodo_tikrinimas(pin_kodas):\n",
    "            print(\"Neteisingas PIN kodas. Prieiga uždrausta.\")\n",
    "            return False\n",
    "\n",
    "        if suma > self.__likutis:\n",
    "            print(\"Nepakankamas likutis.\")\n",
    "            return False\n",
    "\n",
    "        self.__likutis -= suma\n",
    "        print(f\"Tšimta {suma}. Naujas likutis yra {self.__likutis}.\")\n",
    "        return True\n",
    "\n",
    "    def depositas(self, suma):\n",
    "        self.__likutis += suma\n",
    "        print(f\"Įnešta {suma}. Naujas likutis yra {self.__likutis}.\")\n",
    "\n",
    "    def sužinoti_likutį(self, pin_kodas):\n",
    "        if not self.__pin_kodo_tikrinimas(pin_kodas):\n",
    "            print(\"Neteisingas PIN kodas. Prieiga uždrausta.\")\n",
    "            return None\n",
    "        \n",
    "        return self.__likutis\n",
    "    \n",
    "\n",
    "paskyra = Banko_paskyra(sąskaitos_numeris=\"LT15 2563 1457 5429 5678\", savininkas=\"Fernandas Pereiras\", likutis=546835, pin_kodas=\"7193\")\n",
    "\n",
    "paskyra.depositas(2000)\n",
    "\n",
    "paskyra.išimti_pinigus(800, \"7193\")\n",
    "\n",
    "paskyra.išimti_pinigus(500, \"8521\")\n",
    "\n",
    "print(f\"Sąskaitos likutis yra: {paskyra.sužinoti_likutį('7193')}\")  "
   ]
  },
  {
   "cell_type": "markdown",
   "metadata": {},
   "source": [
    "---\n",
    "\n",
    "### Bonus Užduotis: Knygų Klasė\n",
    "\n",
    "### Apžvalga\n",
    "Sukurkite `Book` klasę, kuri atitiktų šias specifikacijas.\n",
    "\n",
    "### Klasės Specifikacija\n",
    "\n",
    "1. **Kintamieji**\n",
    "   - Sukurkite šiuos privačius kintamuosius:\n",
    "     - `__title` (pavadinimas): knygos pavadinimas\n",
    "     - `__author` (autorius): knygos autoriaus vardas\n",
    "     - `__condition` (būklė): knygos būklė\n",
    "     - `__page_count` (puslapių skaičius): puslapių skaičius knygoje\n",
    "\n",
    "2. **Metodai Duomenims Gauti**\n",
    "   - Sukurkite viešus metodus, kad gautumėte kiekvieną privačią savybę:\n",
    "     - `get_title` - grąžina knygos pavadinimą\n",
    "     - `get_author` - grąžina autoriaus vardą\n",
    "     - `get_condition` - grąžina knygos būklę\n",
    "     - `get_page_count` - grąžina puslapių skaičių\n",
    "\n",
    "3. **Būklės Keitimo Metodas**\n",
    "   - Sukurkite viešą metodą `change_condition`, kuris priima vieną argumentą:\n",
    "     - `new_condition` - nauja knygos būklė, kuri gali būti viena iš šių reikšmių: 'patenkinama', 'prasta', 'atnaujinta', 'sugadinta'.\n",
    "     - Šis metodas turi patikrinti, ar `new_condition` yra viena iš leistinų reikšmių ir, jei taip, atnaujinti knygos būklę.\n",
    "\n",
    "4. **Puslapių Skaičiaus Mažinimo Metodas**\n",
    "   - Sukurkite privatų metodą `__decrease_page_count`, kuris priima vieną argumentą:\n",
    "     - `decrease_by` - skaičius, kiek puslapių reikia sumažinti.\n",
    "     - Šis metodas turėtų sumažinti `__page_count` reikšmę, bet negali leisti puslapių skaičiui tapti neigiamu.\n",
    "   - Sukurkite viešą metodą `remove_pages`, kuris kviečia `__decrease_page_count` metodą.\n",
    "\n",
    "## Reikalavimai\n",
    "\n",
    "- Užtikrinkite, kad visi kintamieji būtų privačiai prieinami tik klasei.\n",
    "- Visi viešieji metodai turi būti saugūs ir neturi leisti objekto būsenai tapti neteisingai (pvz., puslapių skaičius negali būti neigiamas).\n",
    "- Viešieji metodai turėtų turėti prasmingus patikrinimus, kad būtų išvengta netinkamo jų naudojimo."
   ]
  },
  {
   "cell_type": "code",
   "execution_count": 9,
   "metadata": {},
   "outputs": [
    {
     "name": "stdout",
     "output_type": "stream",
     "text": [
      "Pravieniškių mafija. Nerašyti zonos įstatymai\n",
      "Dainius Sinkevičius\n",
      "patenkinama\n",
      "357\n",
      "prasta\n",
      "307\n"
     ]
    }
   ],
   "source": [
    "class Book:\n",
    "    def __init__(self, title, author, condition, page_count):\n",
    "        self.__title = title\n",
    "        self.__author = author\n",
    "        self.__condition = condition\n",
    "        self.__page_count = page_count\n",
    "\n",
    "    def get_title(self):\n",
    "        return self.__title\n",
    "\n",
    "    def get_author(self):\n",
    "        return self.__author\n",
    "\n",
    "    def get_condition(self):\n",
    "        return self.__condition\n",
    "\n",
    "    def get_page_count(self):\n",
    "        return self.__page_count\n",
    "\n",
    "    def change_condition(self, new_condition):\n",
    "        allowed_conditions = ['patenkinama', 'prasta', 'atnaujinta', 'sugadinta']\n",
    "        if new_condition in allowed_conditions:\n",
    "            self.__condition = new_condition\n",
    "        else:\n",
    "            print(\"Neteisinga būklė. Leidžiamos būklės: 'patenkinama', 'prasta', 'atnaujinta', 'sugadinta'.\")\n",
    "\n",
    "    def remove_pages(self, decrease_by):\n",
    "        if decrease_by >= 0 and decrease_by <= self.__page_count:\n",
    "            self.__decrease_page_count(decrease_by)\n",
    "        else:\n",
    "            print(\"Negalima pašalinti nurodyto puslapių kiekio.\")\n",
    "\n",
    "    def __decrease_page_count(self, decrease_by):\n",
    "        self.__page_count -= decrease_by\n",
    "\n",
    "\n",
    "book_example = Book(\"Pravieniškių mafija. Nerašyti zonos įstatymai\", \"Dainius Sinkevičius\", \"patenkinama\", 357)\n",
    "\n",
    "# Gaunamos informacijos\n",
    "print(book_example.get_title())        # Output: Pavadinimas\n",
    "print(book_example.get_author())       # Output: Autorius\n",
    "print(book_example.get_condition())    # Output: patenkinama\n",
    "print(book_example.get_page_count())   # Output: 300\n",
    "\n",
    "# Knygos būklės keitimas\n",
    "book_example.change_condition(\"prasta\")\n",
    "print(book_example.get_condition())    # Output: prasta\n",
    "\n",
    "# Puslapių pašalinimas\n",
    "book_example.remove_pages(50)\n",
    "print(book_example.get_page_count())   # Output: 250\n",
    "\n",
    "# Negalima pašalinti daugiau puslapių nei yra knygoje\n",
    "book_example.remove_pages(300)          # Output: Negalima pašalinti nurodyto puslapių kiekio."
   ]
  }
 ],
 "metadata": {
  "kernelspec": {
   "display_name": "venv",
   "language": "python",
   "name": "python3"
  },
  "language_info": {
   "codemirror_mode": {
    "name": "ipython",
    "version": 3
   },
   "file_extension": ".py",
   "mimetype": "text/x-python",
   "name": "python",
   "nbconvert_exporter": "python",
   "pygments_lexer": "ipython3",
   "version": "3.12.1"
  }
 },
 "nbformat": 4,
 "nbformat_minor": 2
}
