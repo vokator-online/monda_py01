{
 "cells": [
  {
   "cell_type": "markdown",
   "metadata": {},
   "source": [
    "# PySimpleGUI\n",
    "\n",
    "`PySimpleGUI` is a Python GUI framework designed to create simple and easy-to-use graphical user interfaces. It is built on top of Tkinter, making it a cross-platform solution for desktop applications. This tutorial will guide you through the basics of PySimpleGUI and provide examples to help you get started.\n",
    "\n",
    "### Installing PySimpleGUI\n",
    "\n",
    "- Before you begin, make sure you have PySimpleGUI installed. You can install it using pip:\n",
    "\n",
    "`pip install PySimpleGUI`"
   ]
  },
  {
   "cell_type": "markdown",
   "metadata": {},
   "source": [
    "### Hello World Example\n",
    "\n",
    "Let's start with a simple \"Hello World\" example.\n",
    "\n",
    "- This example creates a basic window with a text element and an \"OK\" button. The `window.read()` function captures events and values, and the loop breaks when the window is closed or the \"OK\" button is pressed."
   ]
  },
  {
   "cell_type": "code",
   "execution_count": null,
   "metadata": {},
   "outputs": [],
   "source": [
    "import PySimpleGUI as sg\n",
    "\n",
    "layout = [[sg.Text(\"Hello, PySimpleGUI!\")], [sg.Button(\"OK\")]]\n",
    "window = sg.Window(\"Hello World\", layout)\n",
    "\n",
    "while True:\n",
    "    event, values = window.read()\n",
    "\n",
    "    if event == sg.WIN_CLOSED or event == \"OK\":\n",
    "        break\n",
    "\n",
    "window.close()"
   ]
  },
  {
   "cell_type": "markdown",
   "metadata": {},
   "source": [
    "### Layout Elements\n",
    "\n",
    "**Text Element**\n",
    "\n",
    "- The Text Element is used to display static text on the window. In this example, a window with a single Text Element is created."
   ]
  },
  {
   "cell_type": "code",
   "execution_count": null,
   "metadata": {},
   "outputs": [],
   "source": [
    "import PySimpleGUI as sg\n",
    "\n",
    "layout = [[sg.Text(\"This is a Text Element\")]]\n",
    "window = sg.Window(\"Text Element Example\", layout)\n",
    "\n",
    "while True:\n",
    "    event, values = window.read()\n",
    "\n",
    "    if event == sg.WIN_CLOSED:\n",
    "        break\n",
    "\n",
    "window.close()"
   ]
  },
  {
   "cell_type": "markdown",
   "metadata": {},
   "source": [
    "**Input Element**\n",
    "\n",
    "- The Input Element provides a way for users to input text. In this example, an Input Element and an \"OK\" button are included."
   ]
  },
  {
   "cell_type": "code",
   "execution_count": null,
   "metadata": {},
   "outputs": [],
   "source": [
    "import PySimpleGUI as sg\n",
    "\n",
    "layout = [[sg.InputText()], [sg.Button(\"OK\")]]\n",
    "window = sg.Window(\"Input Element Example\", layout)\n",
    "\n",
    "while True:\n",
    "    event, values = window.read()\n",
    "\n",
    "    if event == sg.WIN_CLOSED or event == \"OK\":\n",
    "        break\n",
    "\n",
    "input_value = values[0]\n",
    "window.close()"
   ]
  },
  {
   "cell_type": "markdown",
   "metadata": {},
   "source": [
    "**Button Element**\n",
    "\n",
    "- The Button Element allows users to trigger actions. In this example, a window with a single button is created."
   ]
  },
  {
   "cell_type": "code",
   "execution_count": null,
   "metadata": {},
   "outputs": [],
   "source": [
    "import PySimpleGUI as sg\n",
    "\n",
    "layout = [[sg.Button(\"Click me\")]]\n",
    "window = sg.Window(\"Button Element Example\", layout)\n",
    "\n",
    "while True:\n",
    "    event, values = window.read()\n",
    "\n",
    "    if event == sg.WIN_CLOSED or event == \"Click me\":\n",
    "        break\n",
    "\n",
    "window.close()"
   ]
  },
  {
   "cell_type": "markdown",
   "metadata": {},
   "source": [
    "### Popups\n",
    "\n",
    "**Popup Message**\n",
    "\n",
    "- Popups are used to display messages or information to the user. In this example, a simple popup with a message is shown."
   ]
  },
  {
   "cell_type": "code",
   "execution_count": null,
   "metadata": {},
   "outputs": [],
   "source": [
    "import PySimpleGUI as sg\n",
    "\n",
    "sg.popup(\"Hello, PySimpleGUI!\")"
   ]
  },
  {
   "cell_type": "markdown",
   "metadata": {},
   "source": [
    "**Popup Yes/No**\n",
    "\n",
    "- This example demonstrates a Yes/No popup, capturing the user's response and providing a conditional action."
   ]
  },
  {
   "cell_type": "code",
   "execution_count": null,
   "metadata": {},
   "outputs": [],
   "source": [
    "import PySimpleGUI as sg\n",
    "\n",
    "result = sg.popup_yes_no(\"Do you like PySimpleGUI?\")\n",
    "\n",
    "if result == \"Yes\":\n",
    "    print(\"Great!\")\n",
    "else:\n",
    "    print(\"Oh no!\")"
   ]
  },
  {
   "cell_type": "markdown",
   "metadata": {},
   "source": [
    "### Themes\n",
    "\n",
    "- PySimpleGUI supports different themes to change the appearance of your application. \n",
    "- You can set the theme using the `sg.theme()` function. In this example, the \"`DarkBlue3`\" theme is applied."
   ]
  },
  {
   "cell_type": "code",
   "execution_count": null,
   "metadata": {},
   "outputs": [],
   "source": [
    "import PySimpleGUI as sg\n",
    "\n",
    "sg.theme(\"DarkBlue3\")\n",
    "\n",
    "layout = [[sg.Text(\"Dark Blue Theme\")], [sg.Button(\"OK\")]]\n",
    "window = sg.Window(\"Theme Example\", layout)\n",
    "\n",
    "while True:\n",
    "    event, values = window.read()\n",
    "\n",
    "    if event == sg.WIN_CLOSED or event == \"OK\":\n",
    "        break\n",
    "\n",
    "window.close()"
   ]
  },
  {
   "cell_type": "markdown",
   "metadata": {},
   "source": [
    "`PySimpleGUI` provides a `theme_list` function that you can use to retrieve a list of available themes. \n",
    "\n",
    "- Here's an example:"
   ]
  },
  {
   "cell_type": "code",
   "execution_count": null,
   "metadata": {},
   "outputs": [],
   "source": [
    "import PySimpleGUI as sg\n",
    "\n",
    "# Get the list of available themes\n",
    "themes = sg.theme_list()\n",
    "\n",
    "# Print the list of themes\n",
    "print(\"Available Themes:\")\n",
    "for theme in themes:\n",
    "    print(theme)"
   ]
  },
  {
   "cell_type": "markdown",
   "metadata": {},
   "source": [
    "## Displaying Data in a Table\n",
    "\n",
    "### Creating a Table\n",
    "\n",
    "Let's start by creating a simple PySimpleGUI window with a `table` element."
   ]
  },
  {
   "cell_type": "code",
   "execution_count": null,
   "metadata": {},
   "outputs": [],
   "source": [
    "import PySimpleGUI as sg\n",
    "\n",
    "# Sample data for the table\n",
    "data = [['John', 25, 'Engineer'],\n",
    "        ['Jane', 30, 'Designer'],\n",
    "        ['Bob', 22, 'Developer']]\n",
    "\n",
    "# Define the layout\n",
    "layout = [\n",
    "    [sg.Table(values=data, headings=['Name', 'Age', 'Occupation'],\n",
    "              auto_size_columns=False, justification='right',\n",
    "              num_rows=min(25, len(data)), key='-TABLE-')],\n",
    "]\n",
    "\n",
    "# Create the window\n",
    "window = sg.Window('Table Example', layout, resizable=True)\n",
    "\n",
    "# Event loop\n",
    "while True:\n",
    "    event, values = window.read()\n",
    "\n",
    "    if event == sg.WIN_CLOSED:\n",
    "        break\n",
    "\n",
    "window.close()\n"
   ]
  },
  {
   "cell_type": "markdown",
   "metadata": {},
   "source": [
    "- In this example, we use the `sg.Table` element to create a table. The `values` parameter is used to provide the initial data for the table, and `headings` specifies the column names."
   ]
  },
  {
   "cell_type": "markdown",
   "metadata": {},
   "source": [
    "### Dynamically Updating Data\n",
    "\n",
    "Now, let's make the data dynamic and update it during runtime."
   ]
  },
  {
   "cell_type": "code",
   "execution_count": null,
   "metadata": {},
   "outputs": [],
   "source": [
    "import PySimpleGUI as sg\n",
    "\n",
    "# Sample data for the table\n",
    "data = [['John', 25, 'Engineer'],\n",
    "        ['Jane', 30, 'Designer'],\n",
    "        ['Bob', 22, 'Developer']]\n",
    "\n",
    "# Define the layout\n",
    "layout = [\n",
    "    [sg.Table(values=data, headings=['Name', 'Age', 'Occupation'],\n",
    "              auto_size_columns=False, justification='right',\n",
    "              num_rows=min(25, len(data)), key='-TABLE-')],\n",
    "    [sg.Button('Update Data'), sg.Button('Exit')]\n",
    "]\n",
    "\n",
    "# Create the window\n",
    "window = sg.Window('Table Example', layout, resizable=True)\n",
    "\n",
    "# Event loop\n",
    "while True:\n",
    "    event, values = window.read()\n",
    "\n",
    "    if event == sg.WIN_CLOSED or event == 'Exit':\n",
    "        break\n",
    "    elif event == 'Update Data':\n",
    "        # Modify the data dynamically\n",
    "        data.append(['NewPerson', 28, 'NewOccupation'])\n",
    "        window['-TABLE-'].update(values=data)\n",
    "\n",
    "window.close()"
   ]
  },
  {
   "cell_type": "markdown",
   "metadata": {},
   "source": [
    "- In this example, we added two buttons: one for updating the data dynamically and another for closing the application. `The window['-TABLE-'].update(values=data)` line updates the table with the new data."
   ]
  },
  {
   "cell_type": "markdown",
   "metadata": {},
   "source": [
    "### Handling Table Events\n",
    "Let's enhance the example by handling events on the table, such as row selection."
   ]
  },
  {
   "cell_type": "code",
   "execution_count": null,
   "metadata": {},
   "outputs": [],
   "source": [
    "import PySimpleGUI as sg\n",
    "\n",
    "# Sample data for the table\n",
    "data = [['John', 25, 'Engineer'],\n",
    "        ['Jane', 30, 'Designer'],\n",
    "        ['Bob', 22, 'Developer']]\n",
    "\n",
    "# Define the layout\n",
    "layout = [\n",
    "    [sg.Table(values=data, headings=['Name', 'Age', 'Occupation'],\n",
    "              auto_size_columns=False, justification='right',\n",
    "              num_rows=min(25, len(data)), key='-TABLE-', enable_events=True)],\n",
    "    [sg.Button('Update Data'), sg.Button('Exit')]\n",
    "]\n",
    "\n",
    "# Create the window\n",
    "window = sg.Window('Table Example', layout, resizable=True)\n",
    "\n",
    "# Event loop\n",
    "while True:\n",
    "    event, values = window.read()\n",
    "\n",
    "    if event == sg.WIN_CLOSED or event == 'Exit':\n",
    "        break\n",
    "    elif event == 'Update Data':\n",
    "        # Modify the data dynamically\n",
    "        data.append(['NewPerson', 28, 'NewOccupation'])\n",
    "        window['-TABLE-'].update(values=data)\n",
    "    elif event == '-TABLE-':\n",
    "        # Handle table row selection\n",
    "        selected_row = values['-TABLE-'][0]\n",
    "        sg.popup(f'Selected Row: {selected_row}')\n",
    "\n",
    "window.close()\n"
   ]
  },
  {
   "cell_type": "markdown",
   "metadata": {},
   "source": [
    "- Now, when you click on a row in the table, a `popup` will display the selected row.\n",
    "\n",
    "You can further customize the table and handle more complex scenarios based on your application requirements."
   ]
  },
  {
   "cell_type": "markdown",
   "metadata": {},
   "source": [
    "## Adding Input Elements for Data Modification\n",
    "\n",
    "Let's enhance our application by adding input elements that allow users to modify the data in the table.\n"
   ]
  },
  {
   "cell_type": "code",
   "execution_count": null,
   "metadata": {},
   "outputs": [],
   "source": [
    "import PySimpleGUI as sg\n",
    "\n",
    "# Sample data for the table\n",
    "data = [['John', 25, 'Engineer'],\n",
    "        ['Jane', 30, 'Designer'],\n",
    "        ['Bob', 22, 'Developer']]\n",
    "\n",
    "# Define the layout\n",
    "layout = [\n",
    "    [sg.Table(values=data, headings=['Name', 'Age', 'Occupation'],\n",
    "              auto_size_columns=False, justification='right',\n",
    "              num_rows=min(25, len(data)), key='-TABLE-', enable_events=True)],\n",
    "    [sg.Text('Name:'), sg.InputText(key='-NAME-'), sg.Text('Age:'), sg.InputText(key='-AGE-'),\n",
    "     sg.Text('Occupation:'), sg.InputText(key='-OCCUPATION-'), sg.Button('Add')],\n",
    "    [sg.Button('Update Data'), sg.Button('Exit')]\n",
    "]\n",
    "\n",
    "# Create the window\n",
    "window = sg.Window('Table Example', layout, resizable=True)\n",
    "\n",
    "# Event loop\n",
    "while True:\n",
    "    event, values = window.read()\n",
    "\n",
    "    if event == sg.WIN_CLOSED or event == 'Exit':\n",
    "        break\n",
    "    elif event == 'Update Data':\n",
    "        # Modify the data dynamically\n",
    "        data.append(['NewPerson', 28, 'NewOccupation'])\n",
    "        window['-TABLE-'].update(values=data)\n",
    "    elif event == 'Add':\n",
    "        # Add data from input elements to the table\n",
    "        new_row = [values['-NAME-'], int(values['-AGE-']), values['-OCCUPATION-']]\n",
    "        data.append(new_row)\n",
    "        window['-TABLE-'].update(values=data)\n",
    "\n",
    "window.close()"
   ]
  },
  {
   "cell_type": "markdown",
   "metadata": {},
   "source": [
    "## CRUD Operations with JSON and Pickle\n",
    "\n",
    "In this example, we'll build a simple PySimpleGUI application to perform `CRUD` operations (Create, Read, Update, Delete) on a list of items. \n",
    "\n",
    "We'll also explore how to `save` and `load` the data using `JSON` and `Pickle`.\n",
    "\n",
    "1. The program allows users to perform `CRUD` operations on data, with two storage options: `JSON` and `Pickle`. \n",
    "1. The data consists of `Name` and `Age` pairs. \n",
    "1. Users can `add` new entries, `update` the storage files, `delete` selected entries, and exit the application.\n",
    "\n",
    "\n",
    "#### Creating a CRUD Application\n",
    "\n",
    "Let's start by creating a PySimpleGUI application with a basic layout."
   ]
  },
  {
   "cell_type": "markdown",
   "metadata": {},
   "source": [
    "1. **Imports**"
   ]
  },
  {
   "cell_type": "code",
   "execution_count": null,
   "metadata": {},
   "outputs": [],
   "source": [
    "import PySimpleGUI as sg\n",
    "import json\n",
    "import pickle"
   ]
  },
  {
   "cell_type": "markdown",
   "metadata": {},
   "source": [
    "2. **Data Loading and Saving Functions**"
   ]
  },
  {
   "cell_type": "code",
   "execution_count": null,
   "metadata": {},
   "outputs": [],
   "source": [
    "def load_data(file_path):\n",
    "    try:\n",
    "        with open(file_path, 'r') as file:\n",
    "            data = json.load(file)\n",
    "    except FileNotFoundError:\n",
    "        data = []\n",
    "    return data\n",
    "\n",
    "def save_data(data, file_path):\n",
    "    with open(file_path, 'w') as file:\n",
    "        json.dump(data, file, indent=2)\n",
    "\n",
    "def load_data_pickle(file_path):\n",
    "    try:\n",
    "        with open(file_path, 'rb') as file:\n",
    "            data = pickle.load(file)\n",
    "    except FileNotFoundError:\n",
    "        data = []\n",
    "    return data\n",
    "\n",
    "def save_data_pickle(data, file_path):\n",
    "    with open(file_path, 'wb') as file:\n",
    "        pickle.dump(data, file)\n"
   ]
  },
  {
   "cell_type": "markdown",
   "metadata": {},
   "source": [
    "- These functions handle the `loading` and `saving` of data. The `load_data` functions read data from a `JSON` file, and the load_data_pickle functions read data from a binary (`Pickle`) file. The save_data and save_data_pickle functions write data to their respective files."
   ]
  },
  {
   "cell_type": "markdown",
   "metadata": {},
   "source": [
    "3. **GUI Layout Functions**"
   ]
  },
  {
   "cell_type": "code",
   "execution_count": null,
   "metadata": {},
   "outputs": [],
   "source": [
    "def create_layout(data_json, data_pickle):\n",
    "    return [\n",
    "        [sg.Table(values=data_json, headings=['JSON Data'],\n",
    "                  auto_size_columns=False,\n",
    "                  col_widths=[40],\n",
    "                  justification='left',\n",
    "                  num_rows=5,\n",
    "                  key='-TABLE-')],\n",
    "        [sg.Table(values=data_pickle, headings=['Pickle Data'],\n",
    "                  auto_size_columns=False,\n",
    "                  col_widths=[40],\n",
    "                  justification='left',\n",
    "                  num_rows=5,\n",
    "                  key='-TABLE-PICKLE-')],\n",
    "        [sg.Text('Name:'), sg.InputText(key='-NAME-')],\n",
    "        [sg.Text('Age:'), sg.InputText(key='-AGE-')],\n",
    "        [sg.Button('Add Entry')],\n",
    "        [sg.Button('Save JSON'), sg.Button('Save Pickle'), sg.Button('Delete Selected'), sg.Button('Exit')]\n",
    "    ]"
   ]
  },
  {
   "cell_type": "markdown",
   "metadata": {},
   "source": [
    "- This function creates the `layout` for your GUI using PySimpleGUI. It includes tables to display `JSON` and `Pickle` data, input fields for `name` and `age`, buttons for `adding, saving, deleting, and exiting`."
   ]
  },
  {
   "cell_type": "markdown",
   "metadata": {},
   "source": [
    "4. **Table Update Function**"
   ]
  },
  {
   "cell_type": "code",
   "execution_count": null,
   "metadata": {},
   "outputs": [],
   "source": [
    "def update_tables(window, data_json, data_pickle):\n",
    "    window['-TABLE-'].update(values=data_json)\n",
    "    window['-TABLE-PICKLE-'].update(values=data_pickle)"
   ]
  },
  {
   "cell_type": "markdown",
   "metadata": {},
   "source": [
    "- This function updates the tables in the GUI with new data."
   ]
  },
  {
   "cell_type": "markdown",
   "metadata": {},
   "source": [
    "5. **Main Function**"
   ]
  },
  {
   "cell_type": "code",
   "execution_count": null,
   "metadata": {},
   "outputs": [],
   "source": [
    "def main():\n",
    "    sg.theme('LightGrey1')\n",
    "\n",
    "    file_path_json = 'data.json'\n",
    "    file_path_pickle = 'data.pkl'\n",
    "\n",
    "    data_json = load_data(file_path_json)\n",
    "    data_pickle = load_data_pickle(file_path_pickle)\n",
    "\n",
    "    layout = create_layout(data_json, data_pickle)\n",
    "\n",
    "    window = sg.Window('CRUD Application with PySimpleGUI', layout, resizable=True)\n",
    "\n",
    "    try:\n",
    "        while True:\n",
    "            event, values = window.read()\n",
    "\n",
    "            if event == sg.WIN_CLOSED or event == 'Exit':\n",
    "                break\n",
    "\n",
    "            elif event == 'Add Entry':\n",
    "                name = values['-NAME-']\n",
    "                age = values['-AGE-']\n",
    "\n",
    "                if name and age.isdigit():\n",
    "                    new_data = {'Name': name, 'Age': int(age)}\n",
    "                    data_json.append(new_data)\n",
    "                    data_pickle.append(new_data)\n",
    "                    update_tables(window, data_json, data_pickle)\n",
    "\n",
    "                else:\n",
    "                    sg.popup_error('Invalid input. Please enter a name and a numeric age.')\n",
    "\n",
    "            elif event == 'Save JSON':\n",
    "                save_data(data_json, file_path_json)\n",
    "\n",
    "            elif event == 'Save Pickle':\n",
    "                save_data_pickle(data_pickle, file_path_pickle)\n",
    "\n",
    "            elif event == 'Delete Selected':\n",
    "                selected_row_json = values['-TABLE-'][0] if values['-TABLE-'] else None\n",
    "                selected_row_pickle = values['-TABLE-PICKLE-'][0] if values['-TABLE-PICKLE-'] else None\n",
    "\n",
    "                if selected_row_json is not None and selected_row_json < len(data_json):\n",
    "                    del data_json[selected_row_json]\n",
    "                    update_tables(window, data_json, data_pickle)\n",
    "\n",
    "                if selected_row_pickle is not None and selected_row_pickle < len(data_pickle):\n",
    "                    del data_pickle[selected_row_pickle]\n",
    "                    update_tables(window, data_json, data_pickle)\n",
    "\n",
    "    finally:\n",
    "        window.close()\n",
    "\n",
    "if __name__ == '__main__':\n",
    "    main()"
   ]
  },
  {
   "cell_type": "markdown",
   "metadata": {},
   "source": [
    "- The `main` function sets up the initial data, creates the GUI window, and enters the main event loop. \n",
    "- It handles events such as button clicks, updates the data, and takes appropriate actions. \n",
    "- The `finally` block ensures that the GUI window is closed properly, even if an exception occurs.\n",
    "\n",
    "- Overall, this program is a simple CRUD (Create, Read, Update, Delete) application using PySimpleGUI, allowing users to manage data in both JSON and Pickle formats."
   ]
  },
  {
   "cell_type": "markdown",
   "metadata": {},
   "source": [
    "This is a basic overview of `PySimpleGUI`, and there is much more you can explore. Refer to the [official documentation](https://www.pysimplegui.org/en/latest/) for detailed information and advanced features.\n",
    "\n",
    "- PySimpleGUI Cookbook: https://www.pysimplegui.org/en/latest/cookbook/\n",
    "- PySimpleGUI on PyPI: https://pypi.org/project/PySimpleGUI/\n",
    "- PySimpleGUI Demos: https://www.pysimplegui.org/en/latest/Demos/"
   ]
  }
 ],
 "metadata": {
  "kernelspec": {
   "display_name": "Python 3",
   "language": "python",
   "name": "python3"
  },
  "language_info": {
   "codemirror_mode": {
    "name": "ipython",
    "version": 3
   },
   "file_extension": ".py",
   "mimetype": "text/x-python",
   "name": "python",
   "nbconvert_exporter": "python",
   "pygments_lexer": "ipython3",
   "version": "3.10.6"
  }
 },
 "nbformat": 4,
 "nbformat_minor": 2
}
