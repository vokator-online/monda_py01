{
 "cells": [
  {
   "cell_type": "markdown",
   "metadata": {},
   "source": [
    "# Documentation and Annotations"
   ]
  },
  {
   "cell_type": "markdown",
   "metadata": {},
   "source": [
    "## Docstrings (Documentation)"
   ]
  },
  {
   "cell_type": "markdown",
   "metadata": {},
   "source": [
    "- `Docstrings` are lines written above a module, class, function, or method that describe their purpose, operation, parameters, and return values. \n",
    "- `Docstrings` are written between three single quotes (i.e., `'''docstring'''`) or three double quotes (`\"\"\"docstring\"\"\"`) when the module, class, function, or method definition line starts on a new line.\n",
    "- `Docstrings` are a powerful documentation tool that helps other programmers understand how your code works. They are also useful for interactive Python environments and automatic documentation generation."
   ]
  },
  {
   "cell_type": "markdown",
   "metadata": {},
   "source": [
    "Here are a few examples of how to use docstrings in Python:"
   ]
  },
  {
   "cell_type": "markdown",
   "metadata": {},
   "source": [
    "---\n",
    "## Module Docstring:"
   ]
  },
  {
   "cell_type": "code",
   "execution_count": 9,
   "metadata": {},
   "outputs": [],
   "source": [
    "'''Module for data processing'''\n",
    "import pandas as pd\n",
    "\n",
    "def read_data(file_name):\n",
    "    '''\n",
    "    Function to read data from a CSV file.\n",
    "\n",
    "    Args:\n",
    "    file_name (str): The name of the CSV file.\n",
    "\n",
    "    Returns:\n",
    "    pd.DataFrame: A table containing the data.\n",
    "    '''\n",
    "    data = pd.read_csv(file_name)\n",
    "    return data\n"
   ]
  },
  {
   "cell_type": "markdown",
   "metadata": {},
   "source": [
    "In this example, both the module and the function have docstrings. \n",
    "\n",
    "The module docstring briefly describes the purpose of the module, while the function docstring describes the function's purpose, arguments, and return values."
   ]
  },
  {
   "cell_type": "markdown",
   "metadata": {},
   "source": [
    "## Class Docstring:"
   ]
  },
  {
   "cell_type": "code",
   "execution_count": 10,
   "metadata": {},
   "outputs": [],
   "source": [
    "class Student:\n",
    "    '''Class for storing student data'''\n",
    "\n",
    "    def __init__(self, name, last_name, age):\n",
    "        '''\n",
    "        Constructor for creating a new Student object.\n",
    "\n",
    "        Args:\n",
    "        name (str): The student's first name.\n",
    "        last_name (str): The student's last name.\n",
    "        age (int): The student's age.\n",
    "\n",
    "        Returns:\n",
    "        None\n",
    "        '''\n",
    "        self.name = name\n",
    "        self.last_name = last_name\n",
    "        self.age = age\n",
    "\n",
    "    def full_name(self):\n",
    "        '''\n",
    "        Function that generates the student's full name.\n",
    "\n",
    "        Returns:\n",
    "        str: The student's full name.\n",
    "        '''\n",
    "        return f'{self.name} {self.last_name}'\n"
   ]
  },
  {
   "cell_type": "markdown",
   "metadata": {},
   "source": [
    "In this example, the method in the class has a docstring that describes what the `full_name` function does and the type of data it returns."
   ]
  },
  {
   "cell_type": "markdown",
   "metadata": {},
   "source": [
    "## Function Docstring:"
   ]
  },
  {
   "cell_type": "code",
   "execution_count": 11,
   "metadata": {},
   "outputs": [],
   "source": [
    "def add(a, b):\n",
    "    '''\n",
    "    Function that calculates the sum of two numbers.\n",
    "\n",
    "    Args:\n",
    "    a (int): The first number.\n",
    "    b (int): The second number.\n",
    "\n",
    "    Returns:\n",
    "    int: The sum value.\n",
    "    '''\n",
    "    return a + b\n"
   ]
  },
  {
   "cell_type": "markdown",
   "metadata": {},
   "source": [
    "In this example, the function has a docstring describing its purpose, arguments, and return values."
   ]
  },
  {
   "cell_type": "markdown",
   "metadata": {},
   "source": [
    "## Method Docstring:"
   ]
  },
  {
   "cell_type": "markdown",
   "metadata": {},
   "source": [
    "In this example, the method in the class has a docstring describing the method's purpose and return values."
   ]
  },
  {
   "cell_type": "code",
   "execution_count": 12,
   "metadata": {},
   "outputs": [],
   "source": [
    "class Car:\n",
    "    '''Class for storing car data'''\n",
    "\n",
    "    def __init__(self, make, model, year):\n",
    "        '''\n",
    "        Constructor for creating a new Car object.\n",
    "\n",
    "        Args:\n",
    "        make (str): The car's make.\n",
    "        model (str): The car's model.\n",
    "        year (int): The car's production year.\n",
    "\n",
    "        Returns:\n",
    "        None\n",
    "        '''\n",
    "        self.make = make\n",
    "        self.model = model\n",
    "        self.year = year\n",
    "\n",
    "    def info(self):\n",
    "        '''\n",
    "        Function that prints the car's information.\n",
    "\n",
    "        Returns:\n",
    "        None\n",
    "        '''\n",
    "        print(f'{self.make} {self.model}, {self.year} year')\n"
   ]
  },
  {
   "cell_type": "markdown",
   "metadata": {},
   "source": [
    "As you can see, docstrings are a valuable documentation tool that helps other programmers understand your code. They are recommended for every Python program.\n",
    "\n",
    "`Note:` It's important to note that there is no standardized format for docstrings. \n",
    "\n",
    "The most commonly used format is [PEP 257](https://peps.python.org/pep-0257/), which outlines how docstring text should be structured. However, you can use any format that suits your needs and is easily understandable by other programmers."
   ]
  },
  {
   "cell_type": "markdown",
   "metadata": {},
   "source": [
    "---\n",
    "## Annotations\n",
    "\n",
    "Python annotations provide additional information about the types of variables, functions, and methods. \n",
    "\n",
    "- Annotations are added directly to the definitions and describe the expected types. \n",
    "- These annotations can help programmers understand the code's functionality better, make it easier to find programming errors, and be useful for static code analysis.\n",
    "- To use annotations in Python code, you need to add them as an extra argument to variable, function, or method definitions to specify the types. \n",
    "\n",
    "Here are a few examples of how to do that:\n",
    "\n",
    "Function with Parameter and Return Type Annotations:"
   ]
  },
  {
   "cell_type": "code",
   "execution_count": 13,
   "metadata": {},
   "outputs": [],
   "source": [
    "def sum_numbers(a: int, b: int) -> int:\n",
    "    return a + b\n"
   ]
  },
  {
   "cell_type": "markdown",
   "metadata": {},
   "source": [
    "In this function, `\"a\"` and `\"b\"` are both annotated as integers `(int)`, and the function is annotated to return an integer `(int)` as well."
   ]
  },
  {
   "cell_type": "code",
   "execution_count": 14,
   "metadata": {},
   "outputs": [],
   "source": [
    "class Person:\n",
    "    def __init__(self, name: str, age: int):\n",
    "        self.name = name\n",
    "        self.age = age"
   ]
  },
  {
   "cell_type": "markdown",
   "metadata": {},
   "source": [
    "In this class, the `\"name\"` parameter is annotated as a string `(str)`, and the `\"age\"` parameter is annotated as an integer `(int)`."
   ]
  },
  {
   "cell_type": "markdown",
   "metadata": {},
   "source": [
    "### Class annotation with types for parameters and return values:"
   ]
  },
  {
   "cell_type": "code",
   "execution_count": null,
   "metadata": {},
   "outputs": [],
   "source": [
    "class Person:\n",
    "    def __init__(self, name: str, age: int) -> None:\n",
    "        self.name = name\n",
    "        self.age = age\n",
    "    \n",
    "    def get_age(self) -> int:\n",
    "        return self.age"
   ]
  },
  {
   "cell_type": "markdown",
   "metadata": {},
   "source": [
    "Class Method with Return Type Annotation:"
   ]
  },
  {
   "cell_type": "code",
   "execution_count": 16,
   "metadata": {},
   "outputs": [],
   "source": [
    "import math\n",
    "\n",
    "class Circle:\n",
    "    def __init__(self, radius: float) -> None:\n",
    "        self.radius = radius\n",
    "\n",
    "    def area(self, radius: float) -> float:\n",
    "        \"\"\"\n",
    "        A function to calculate the area of a circle.\n",
    "        Returns the area of the circle.\n",
    "        \"\"\"\n",
    "        return math.pi * radius ** 2"
   ]
  },
  {
   "cell_type": "markdown",
   "metadata": {},
   "source": [
    "In this class, the `\"radius\"` parameter is annotated as a float, and the `\"area\"` method is annotated to return a float value.\n",
    "\n",
    "❗ Annotations are not mandatory in Python, but they can help improve code readability, make it easier to find errors, and assist with static code analysis. If you choose to use annotations in your code, you need to add an extra argument to the variable, function, or method definitions to specify the types."
   ]
  }
 ],
 "metadata": {
  "kernelspec": {
   "display_name": "Python 3",
   "language": "python",
   "name": "python3"
  },
  "language_info": {
   "codemirror_mode": {
    "name": "ipython",
    "version": 3
   },
   "file_extension": ".py",
   "mimetype": "text/x-python",
   "name": "python",
   "nbconvert_exporter": "python",
   "pygments_lexer": "ipython3",
   "version": "3.10.6"
  }
 },
 "nbformat": 4,
 "nbformat_minor": 2
}
