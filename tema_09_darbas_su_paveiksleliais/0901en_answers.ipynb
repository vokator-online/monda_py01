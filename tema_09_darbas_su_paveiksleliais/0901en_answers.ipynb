{
 "cells": [
  {
   "cell_type": "markdown",
   "metadata": {},
   "source": [
    "# `Quick assignment 1: Install Pillow, Resizing an Image`"
   ]
  },
  {
   "cell_type": "markdown",
   "metadata": {},
   "source": [
    "1. Installing Pillow:\n",
    "\n",
    "- Open the terminal or command prompt and execute the command `pip install pillow`. \n",
    "- To verify the installation, run a Python script with `import PIL` or `from PIL import Image`.\n",
    "\n",
    "2. Resizing an Image:"
   ]
  },
  {
   "cell_type": "code",
   "execution_count": null,
   "metadata": {},
   "outputs": [],
   "source": [
    "from PIL import Image\n",
    "\n",
    "image = Image.open(\"sample.jpg\")\n",
    "width, height = (200, 150)\n",
    "new_size = (width, height)\n",
    "resized_image = image.resize(new_size)\n",
    "resized_image.save(\"resized_sample.jpg\")"
   ]
  },
  {
   "cell_type": "markdown",
   "metadata": {},
   "source": [
    "# `Quick assignment 2: Cropping an Image`"
   ]
  },
  {
   "cell_type": "code",
   "execution_count": null,
   "metadata": {},
   "outputs": [],
   "source": [
    "from PIL import Image\n",
    "\n",
    "image = Image.open(\"sample.jpg\")\n",
    "crop_area = (50, 50, 250, 200)\n",
    "cropped_image = image.crop(crop_area)\n",
    "cropped_image.save(\"cropped_sample.jpg\")\n"
   ]
  },
  {
   "cell_type": "markdown",
   "metadata": {},
   "source": [
    "# `Quick assignment 3: Creating Thumbnails`"
   ]
  },
  {
   "cell_type": "code",
   "execution_count": null,
   "metadata": {},
   "outputs": [],
   "source": [
    "from PIL import Image\n",
    "\n",
    "image = Image.open(\"sample.jpg\")\n",
    "thumbnail_size = (100, 75)\n",
    "image.thumbnail(thumbnail_size)\n",
    "image.save(\"thumbnail_sample.jpg\")\n"
   ]
  },
  {
   "cell_type": "markdown",
   "metadata": {},
   "source": [
    "# `Quick assignment 4: Splitting and Merging Pixels`"
   ]
  },
  {
   "cell_type": "code",
   "execution_count": null,
   "metadata": {},
   "outputs": [],
   "source": [
    "from PIL import Image\n",
    "\n",
    "def split_and_merge(image):\n",
    "    image_r, image_g, image_b = image.split()\n",
    "    merged_image = Image.merge(\"RGB\", (image_r, image_g, image_b))\n",
    "    return merged_image\n",
    "\n",
    "image = Image.open(\"sample.jpg\")\n",
    "merged_image = split_and_merge(image)\n",
    "merged_image.save(\"merged_sample.jpg\")"
   ]
  },
  {
   "cell_type": "markdown",
   "metadata": {},
   "source": [
    "# `Quick assignment 5: Applying a Color Filter`"
   ]
  },
  {
   "cell_type": "code",
   "execution_count": null,
   "metadata": {},
   "outputs": [],
   "source": [
    "from PIL import Image\n",
    "\n",
    "def apply_color_filter(image_r, image_g, image_b):\n",
    "    image_r = image_r.point(lambda i: i * 1.2)\n",
    "    image_g = image_g.point(lambda i: i * 0.8)\n",
    "    image_b = image_b.point(lambda i: i)\n",
    "    return image_r, image_g, image_b\n",
    "\n",
    "def split_and_merge(image):\n",
    "    image_r, image_g, image_b = image.split()\n",
    "    image_r, image_g, image_b = apply_color_filter(image_r, image_g, image_b)\n",
    "    merged_image = Image.merge(\"RGB\", (image_r, image_g, image_b))\n",
    "    return merged_image\n",
    "\n",
    "image = Image.open(\"sample.jpg\")\n",
    "merged_image = split_and_merge(image)\n",
    "merged_image.save(\"filtered_sample.jpg\")"
   ]
  },
  {
   "cell_type": "markdown",
   "metadata": {},
   "source": [
    "# `Quick assignment 6: Filters`"
   ]
  },
  {
   "cell_type": "code",
   "execution_count": null,
   "metadata": {},
   "outputs": [],
   "source": [
    "from PIL import Image, ImageFilter\n",
    "\n",
    "image = Image.open(\"sample.jpg\")\n",
    "\n",
    "blurred_image = image.filter(ImageFilter.BLUR)\n",
    "blurred_image.save(\"blurred_sample.jpg\")\n",
    "\n",
    "contour_image = image.filter(ImageFilter.CONTOUR)\n",
    "contour_image.save(\"contour_sample.jpg\")\n",
    "\n",
    "sharpen_image = image.filter(ImageFilter.SHARPEN)\n",
    "sharpen_image.save(\"sharpened_sample.jpg\")"
   ]
  },
  {
   "cell_type": "markdown",
   "metadata": {},
   "source": [
    "# `Quick assignment 7: Saving an Image`"
   ]
  },
  {
   "cell_type": "code",
   "execution_count": null,
   "metadata": {},
   "outputs": [],
   "source": [
    "from PIL import Image\n",
    "\n",
    "# Open the image\n",
    "image = Image.open(\"sample.jpg\")\n",
    "\n",
    "# Perform desired manipulations on the image\n",
    "# ... (manipulation code here)\n",
    "\n",
    "# Save the image with the specified name and format\n",
    "image.save(\"edited_sample.png\", \"PNG\")"
   ]
  }
 ],
 "metadata": {
  "language_info": {
   "name": "python"
  }
 },
 "nbformat": 4,
 "nbformat_minor": 2
}
