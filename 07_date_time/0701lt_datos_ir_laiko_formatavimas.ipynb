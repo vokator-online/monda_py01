{
 "cells": [
  {
   "cell_type": "markdown",
   "metadata": {},
   "source": [
    "<div style=\"text-align: justify;\">\n",
    "\n",
    "# Datos ir laiko formatavimas\n",
    "\n",
    "<br>\n",
    "\n",
    "`datetime` yra standartinis Python modulis apimantis daugybę funkcijų ir klasių, kurios leidžia kurti, pakeisti, formatuoti ir manipuliuoti datomis ir laiku.\n",
    "</div>"
   ]
  },
  {
   "cell_type": "markdown",
   "metadata": {},
   "source": [
    "<div style=\"text-align: justify;\">\n",
    "\n",
    "---\n",
    "\n",
    "<br>\n",
    "\n",
    "## `datetime` klasė\n",
    "</div>"
   ]
  },
  {
   "cell_type": "code",
   "execution_count": 10,
   "metadata": {},
   "outputs": [
    {
     "name": "stdout",
     "output_type": "stream",
     "text": [
      "2023-04-07 16:30:45\n"
     ]
    }
   ],
   "source": [
    "from datetime import datetime\n",
    "\n",
    "# Sukurkite datetime objektą su nurodytomis metų, mėnesio, dienos, valandų, minučių ir sekundžių reikšmėmis\n",
    "dt = datetime(2023, 4, 7, 16, 30, 45)\n",
    "\n",
    "print(dt)  # Išves: 2023-04-07 16:30:45"
   ]
  },
  {
   "cell_type": "markdown",
   "metadata": {},
   "source": [
    "<div style=\"text-align: justify;\">\n",
    "\n",
    "<br>\n",
    "\n",
    "## `datetime.now()` funkcija\n",
    "</div>"
   ]
  },
  {
   "cell_type": "code",
   "execution_count": 11,
   "metadata": {},
   "outputs": [
    {
     "name": "stdout",
     "output_type": "stream",
     "text": [
      "2024-01-17 20:02:37.612558\n"
     ]
    }
   ],
   "source": [
    "from datetime import datetime\n",
    "\n",
    "# Gaukite dabartinį laiką kaip datetime objektą\n",
    "dabar = datetime.now()\n",
    "\n",
    "print(dabar)  # Išves: dabartinį laiką"
   ]
  },
  {
   "cell_type": "markdown",
   "metadata": {},
   "source": [
    "<div style=\"text-align: justify;\">\n",
    "\n",
    "<br>\n",
    "\n",
    "## `date` klasė\n",
    "</div>"
   ]
  },
  {
   "cell_type": "code",
   "execution_count": 12,
   "metadata": {},
   "outputs": [
    {
     "name": "stdout",
     "output_type": "stream",
     "text": [
      "2023-04-07\n"
     ]
    }
   ],
   "source": [
    "from datetime import date\n",
    "\n",
    "# Sukurkite date objektą su nurodytomis metų, mėnesio ir dienos reikšmėmis\n",
    "d = date(2023, 4, 7)\n",
    "\n",
    "print(d)  # Išves: 2023-04-07"
   ]
  },
  {
   "cell_type": "markdown",
   "metadata": {},
   "source": [
    "<div style=\"text-align: justify;\">\n",
    "\n",
    "<br>\n",
    "\n",
    "## `date.today()` funkcija\n",
    "</div>"
   ]
  },
  {
   "cell_type": "code",
   "execution_count": 13,
   "metadata": {},
   "outputs": [
    {
     "name": "stdout",
     "output_type": "stream",
     "text": [
      "2024-01-17\n"
     ]
    }
   ],
   "source": [
    "from datetime import date\n",
    "\n",
    "# Gaukite šiandienos datą kaip date objektą\n",
    "siandiena = date.today()\n",
    "\n",
    "print(siandiena)  # Išves: šiandienos datą"
   ]
  },
  {
   "cell_type": "markdown",
   "metadata": {},
   "source": [
    "<div style=\"text-align: justify;\">\n",
    "\n",
    "<br>\n",
    "\n",
    "## `datetime.timedelta` klasė ir matematiniai veiksmai su data/laiku\n",
    "</div>"
   ]
  },
  {
   "cell_type": "code",
   "execution_count": 14,
   "metadata": {},
   "outputs": [
    {
     "name": "stdout",
     "output_type": "stream",
     "text": [
      "Dabar: 2024-01-17 20:03:07.135836\n",
      "Po 5 dienų: 2024-01-22 20:03:07.135836\n",
      "Prieš 2 valandas: 2024-01-17 18:03:07.135836\n",
      "Skirtumas tarp datų: 30 days, 0:00:00\n"
     ]
    }
   ],
   "source": [
    "from datetime import datetime, timedelta\n",
    "\n",
    "dabar = datetime.now()\n",
    "print(\"Dabar:\", dabar)\n",
    "\n",
    "# Pridėti 5 dienas prie dabartinės datos\n",
    "po_5_dienu = dabar + timedelta(days=5)\n",
    "print(\"Po 5 dienų:\", po_5_dienu)\n",
    "\n",
    "# Atimti 2 valandas nuo dabartinio laiko\n",
    "pries_2_valandas = dabar - timedelta(hours=2)\n",
    "print(\"Prieš 2 valandas:\", pries_2_valandas)\n",
    "\n",
    "# Skirtumas tarp dviejų datų\n",
    "date1 = datetime(2023, 4, 7)\n",
    "date2 = datetime(2023, 5, 7)\n",
    "skirtumas = date2 - date1\n",
    "print(\"Skirtumas tarp datų:\", skirtumas)  # Išves: 30 days, 0:00:00"
   ]
  },
  {
   "cell_type": "markdown",
   "metadata": {},
   "source": [
    "<div style=\"text-align: justify;\">\n",
    "\n",
    "<br>\n",
    "\n",
    "## Datos ir laiko išvedimo formatavimas su `strftime`\n",
    "\n",
    "Funkcija strftime taip pat priklauso datetime moduliui ir leidžia formatuoti datetime objektą į stringą.\n",
    "</div>"
   ]
  },
  {
   "cell_type": "code",
   "execution_count": 15,
   "metadata": {},
   "outputs": [
    {
     "name": "stdout",
     "output_type": "stream",
     "text": [
      "2023-04-12 18:30:00\n"
     ]
    }
   ],
   "source": [
    "from datetime import datetime\n",
    "\n",
    "date_object = datetime(2023, 4, 12, 18, 30, 0)\n",
    "format_string = \"%Y-%m-%d %H:%M:%S\"\n",
    "\n",
    "date_string = date_object.strftime(format_string)\n",
    "print(date_string)"
   ]
  },
  {
   "cell_type": "markdown",
   "metadata": {},
   "source": [
    "<div style=\"text-align: justify;\">\n",
    "\n",
    "<br>\n",
    "\n",
    "Čia %Y, %m, %d, %H, %M ir %S yra formatavimo kodo simboliai, atitinkantys metus, mėnesius, dienas, valandas, minutes ir sekundes.\n",
    "\n",
    "Daugiau formatavimo galimybių: <https://strftime.org/>\n",
    "</div>"
   ]
  },
  {
   "cell_type": "markdown",
   "metadata": {},
   "source": [
    "<div style=\"text-align: justify;\">\n",
    "\n",
    "<br>\n",
    "\n",
    "## Datos ir laiko formavimas iš stringo su `strptime`\n",
    "\n",
    "Python kalboje funkcija strptime priklauso datetime moduliui, kuris leidžia formatuoti stringą į datetime objektą. Štai kaip galite naudoti šią funkciją:\n",
    "</div>"
   ]
  },
  {
   "cell_type": "code",
   "execution_count": null,
   "metadata": {},
   "outputs": [],
   "source": [
    "from datetime import datetime\n",
    "\n",
    "date_string = \"2023-04-12 18:30:00\"\n",
    "format_string = \"%Y-%m-%d %H:%M:%S\"\n",
    "\n",
    "date_object = datetime.strptime(date_string, format_string)\n",
    "print(date_object)"
   ]
  },
  {
   "cell_type": "markdown",
   "metadata": {},
   "source": [
    "<div style=\"text-align: justify;\">\n",
    "\n",
    "<br>\n",
    "\n",
    "## Datos ir laiko išraiška skaičiumi per `timestamp`\n",
    "\n",
    "Timestamp yra skaičius, atspindintis sekundžių kiekį nuo 1970 m. sausio 1 d. 00:00:00 (UTC). Python leidžia konvertuoti datetime objektus į timestamp'us ir atgal. Štai kaip tai galite padaryti:\n",
    "</div>"
   ]
  },
  {
   "cell_type": "code",
   "execution_count": 16,
   "metadata": {},
   "outputs": [
    {
     "name": "stdout",
     "output_type": "stream",
     "text": [
      "1681313400.0\n"
     ]
    }
   ],
   "source": [
    "from datetime import datetime\n",
    "import time\n",
    "\n",
    "date_object = datetime(2023, 4, 12, 18, 30, 0)\n",
    "\n",
    "timestamp = time.mktime(date_object.timetuple())\n",
    "print(timestamp)"
   ]
  },
  {
   "cell_type": "markdown",
   "metadata": {},
   "source": [
    "<div style=\"text-align: justify;\">\n",
    "\n",
    "Konvertuoti timestamp'ą į datetime objektą:\n",
    "</div>"
   ]
  },
  {
   "cell_type": "code",
   "execution_count": 18,
   "metadata": {},
   "outputs": [
    {
     "name": "stdout",
     "output_type": "stream",
     "text": [
      "2023-04-12 18:30:00\n"
     ]
    }
   ],
   "source": [
    "from datetime import datetime\n",
    "import time\n",
    "\n",
    "timestamp = 1681313400.0\n",
    "\n",
    "date_object = datetime.fromtimestamp(timestamp)\n",
    "print(date_object)"
   ]
  },
  {
   "cell_type": "markdown",
   "metadata": {},
   "source": [
    "<div style=\"text-align: justify;\">\n",
    "\n",
    "<br>\n",
    "\n",
    "### Šios dienos datos ir laiko išraiška skaičiumi per `timestamp`\n",
    "</div>"
   ]
  },
  {
   "cell_type": "code",
   "execution_count": 19,
   "metadata": {},
   "outputs": [
    {
     "name": "stdout",
     "output_type": "stream",
     "text": [
      "1705396800.0\n"
     ]
    }
   ],
   "source": [
    "from datetime import datetime\n",
    "import time\n",
    "\n",
    "date_object = datetime(2024, 1, 16, 11, 20, 0)\n",
    "\n",
    "timestamp = time.mktime(date_object.timetuple())\n",
    "print(timestamp)"
   ]
  },
  {
   "cell_type": "markdown",
   "metadata": {},
   "source": [
    "<div style=\"text-align: justify;\">\n",
    "\n",
    "Timestamp'o konvertavimas į datetime objektą:\n",
    "</div>"
   ]
  },
  {
   "cell_type": "code",
   "execution_count": 20,
   "metadata": {},
   "outputs": [
    {
     "name": "stdout",
     "output_type": "stream",
     "text": [
      "2024-01-16 11:20:00\n"
     ]
    }
   ],
   "source": [
    "from datetime import datetime\n",
    "import time\n",
    "\n",
    "timestamp = 1705396800.0\n",
    "\n",
    "date_object = datetime.fromtimestamp(timestamp)\n",
    "print(date_object)"
   ]
  },
  {
   "cell_type": "markdown",
   "metadata": {},
   "source": [
    "<div style=\"text-align: justify;\">\n",
    "\n",
    "<br>\n",
    "<br>\n",
    "<br>\n",
    "\n",
    "# Užduotys:\n",
    "---\n",
    "\n",
    "</div>"
   ]
  },
  {
   "cell_type": "markdown",
   "metadata": {},
   "source": [
    "<div style=\"text-align: justify;\">\n",
    "\n",
    "<br>\n",
    "\n",
    "### Pirma užduotis:\n",
    "Parašykite programą, kuri pateiktų dabartinį laiką, bet tik minutes ir sekundes.\n",
    "</div>"
   ]
  },
  {
   "cell_type": "code",
   "execution_count": 23,
   "metadata": {},
   "outputs": [
    {
     "name": "stdout",
     "output_type": "stream",
     "text": [
      "Dabartinis laikas (%M min. %S sek.): 22 min. 32 sek.\n"
     ]
    }
   ],
   "source": [
    "from datetime import datetime\n",
    "\n",
    "# Gauti dabartinį laiką\n",
    "dabartinis_laikas = datetime.now()\n",
    "\n",
    "# Gauti tik minutes ir sekundes\n",
    "minutes_ir_sekundes = dabartinis_laikas.strftime(\"%M min. %S sek.\")\n",
    "\n",
    "# Atspausdinti rezultatą\n",
    "print(\"Dabartinis laikas (%M min. %S sek.):\", minutes_ir_sekundes)"
   ]
  },
  {
   "cell_type": "code",
   "execution_count": 24,
   "metadata": {},
   "outputs": [
    {
     "name": "stdout",
     "output_type": "stream",
     "text": [
      "22 min. 43 sek.\n"
     ]
    }
   ],
   "source": [
    "from datetime import datetime\n",
    "\n",
    "dabar = datetime.now()\n",
    "format_string = \"%M min. %S sek.\"\n",
    "\n",
    "laikas = dabar.strftime(format_string)\n",
    "print(laikas)"
   ]
  },
  {
   "cell_type": "markdown",
   "metadata": {},
   "source": [
    "<div style=\"text-align: justify;\">\n",
    "\n",
    "<br>\n",
    "\n",
    "### Antra užduotis:\n",
    "\n",
    "Sukurkite funkciją, kuri priimtų gimimo datą kaip stringą (formatu \"%Y-%m-%d\") ir grąžintų, kiek dienų liko iki jūsų gimtadienio\n",
    "</div>"
   ]
  },
  {
   "cell_type": "code",
   "execution_count": 25,
   "metadata": {},
   "outputs": [
    {
     "name": "stdout",
     "output_type": "stream",
     "text": [
      "Liko 74 dienos (-ų) iki gimtadienio.\n"
     ]
    }
   ],
   "source": [
    "from datetime import datetime, timedelta\n",
    "\n",
    "def dienos_iki_gimtadienio(gimimo_data):\n",
    "    gimimo_data_format = datetime.strptime(gimimo_data, \"%Y-%m-%d\")\n",
    "    siandiena = datetime.now()\n",
    "    gimtadienio_data = gimimo_data_format.replace(year=siandiena.year)\n",
    "\n",
    "    if gimtadienio_data < siandiena:\n",
    "        gimtadienio_data = gimtadienio_data.replace(year=siandiena.year + 1)\n",
    "\n",
    "    skirtumas = gimtadienio_data - siandiena\n",
    "    return skirtumas.days\n",
    "\n",
    "gimimo_data = \"1978-04-01\"\n",
    "print(f\"Liko {dienos_iki_gimtadienio(gimimo_data)} dienos (-ų) iki gimtadienio.\")"
   ]
  },
  {
   "cell_type": "markdown",
   "metadata": {},
   "source": [
    "<div style=\"text-align: justify;\">\n",
    "\n",
    "Tikslesnis atsakymas su tikslesne mano gimtadienio data:\n",
    "</div>"
   ]
  },
  {
   "cell_type": "code",
   "execution_count": 26,
   "metadata": {},
   "outputs": [
    {
     "name": "stdout",
     "output_type": "stream",
     "text": [
      "Liko 75 dienos (-ų) iki gimtadienio.\n"
     ]
    }
   ],
   "source": [
    "from datetime import datetime, date\n",
    "\n",
    "def dienos_iki_gimtadienio(gimimo_data):\n",
    "    gimimo_data_format = datetime.strptime(gimimo_data, \"%Y-%m-%d\")\n",
    "    siandiena = date.today()\n",
    "    siandiena = datetime(siandiena.year, siandiena.month, siandiena.day)\n",
    "    gimtadienio_data = gimimo_data_format.replace(year=siandiena.year)\n",
    "\n",
    "    if gimtadienio_data < siandiena:\n",
    "        gimtadienio_data = gimtadienio_data.replace(year=siandiena.year + 1)\n",
    "\n",
    "    skirtumas = gimtadienio_data - siandiena\n",
    "    return skirtumas.days\n",
    "\n",
    "gimimo_data = \"1978-04-01\"\n",
    "print(f\"Liko {dienos_iki_gimtadienio(gimimo_data)} dienos (-ų) iki gimtadienio.\")"
   ]
  },
  {
   "cell_type": "markdown",
   "metadata": {},
   "source": [
    "<div style=\"text-align: justify;\">\n",
    "\n",
    "<br>\n",
    "\n",
    "### Trečia užduotis:\n",
    "\n",
    "Parašykite programą, kuri priimtų datą ir laiką stringo formatu (pavyzdžiui, \"2023-05-21 15:30\"), pridėtų prie to 48 valandas ir grąžintų naują datą ir laiką stringo formatu.\n",
    "</div>"
   ]
  },
  {
   "cell_type": "code",
   "execution_count": 39,
   "metadata": {},
   "outputs": [
    {
     "name": "stdout",
     "output_type": "stream",
     "text": [
      "Pridėjus 48 valandas:  2024-01-18 15.30 val.\n"
     ]
    }
   ],
   "source": [
    "from datetime import datetime, timedelta\n",
    "\n",
    "def prideti_48_valandas(data_laikas):\n",
    "    format_string = \"%Y-%m-%d %H.%M val.\"\n",
    "    date_object = datetime.strptime(data_laikas, format_string)\n",
    "    naujas_date_object = date_object + timedelta(hours=48)\n",
    "    naujas_data_laikas = naujas_date_object.strftime(format_string)\n",
    "    return naujas_data_laikas\n",
    "\n",
    "data_laikas = \"2024-01-16 15.30 val.\"\n",
    "print(f\"Pridėjus 48 valandas:  {prideti_48_valandas(data_laikas)}\")"
   ]
  },
  {
   "cell_type": "code",
   "execution_count": 33,
   "metadata": {},
   "outputs": [
    {
     "name": "stdout",
     "output_type": "stream",
     "text": [
      "Pridėjus 48 valandas:  2024-01-18 15.30\n"
     ]
    }
   ],
   "source": [
    "from datetime import datetime, timedelta\n",
    "\n",
    "def prideti_48_valandas(pradinis_laikas):\n",
    "    # Konvertuojame į datetime objektą\n",
    "    pradinis_laikas_objektas = datetime.strptime(pradinis_laikas, '%Y-%m-%d %H.%M')\n",
    "    \n",
    "    # Pridedame 48 valandas\n",
    "    naujas_laikas_objektas = pradinis_laikas_objektas + timedelta(hours=48)\n",
    "    \n",
    "    # Konvertuojame atgal į string formatą\n",
    "    naujas_laikas_string = naujas_laikas_objektas.strftime('%Y-%m-%d %H.%M')\n",
    "    \n",
    "    return naujas_laikas_string\n",
    "\n",
    "# Testuojame programą\n",
    "pradinis_laikas = input(\"Įveskite datą ir laiką (pvz., '2024-01-16 15.30'): \")\n",
    "naujas_laikas = prideti_48_valandas(pradinis_laikas)\n",
    "print(\"Pridėjus 48 valandas: \", naujas_laikas)"
   ]
  },
  {
   "cell_type": "markdown",
   "metadata": {},
   "source": [
    "<div style=\"text-align: justify;\">\n",
    "\n",
    "<br>\n",
    "\n",
    "### Ketvirta užduotis:\n",
    "\n",
    "Parašykite programą, kuri priimtų du laikotarpius kaip timestamp'us ir grąžintų laikotarpių skirtumą dienomis.\n",
    "</div>"
   ]
  },
  {
   "cell_type": "code",
   "execution_count": 40,
   "metadata": {},
   "outputs": [
    {
     "name": "stdout",
     "output_type": "stream",
     "text": [
      "Laikotarpio skirtumas dienomis:  15 dienos.\n"
     ]
    }
   ],
   "source": [
    "from datetime import datetime\n",
    "\n",
    "def skirtumas_dienomis(timestamp1, timestamp2):\n",
    "    # Sukuriame datetime objektus iš timestamp'ų\n",
    "    laikas1 = datetime.fromtimestamp(timestamp1)\n",
    "    laikas2 = datetime.fromtimestamp(timestamp2)\n",
    "\n",
    "    # Skaičiuojame laikotarpio skirtumą dienomis\n",
    "    skirtumas = (laikas2 - laikas1).days\n",
    "\n",
    "    return skirtumas\n",
    "\n",
    "# Pirmo timestamp'o data ir laikas: 2024-01-01 00:00:00\n",
    "timestamp1 = datetime(2024, 1, 1, 0, 0, 0).timestamp()\n",
    "\n",
    "# Antro timestamp'o data ir laikas: 2024-01-16 09:43:00\n",
    "timestamp2 = datetime(2024, 1, 16, 9, 43, 0).timestamp()\n",
    "\n",
    "# Skaičiuojame laikotarpio skirtumą dienomis\n",
    "rezultatas = skirtumas_dienomis(timestamp1, timestamp2)\n",
    "\n",
    "print(f\"Laikotarpio skirtumas dienomis:  {rezultatas} dienos.\")"
   ]
  },
  {
   "cell_type": "markdown",
   "metadata": {},
   "source": [
    "<div style=\"text-align: justify;\">\n",
    "\n",
    "<br>\n",
    "\n",
    "### Penkta užduotis:\n",
    "\n",
    "Sukurkite funkciją, kuri priimtų datą kaip stringą (pavyzdžiui, \"2023-06-01\") ir grąžintų, kokia savaitės diena yra ta data (pavyzdžiui, \"Pirmadienis\", \"Antradienis\" ir tt.).\n",
    "</div>"
   ]
  },
  {
   "cell_type": "code",
   "execution_count": 38,
   "metadata": {},
   "outputs": [
    {
     "name": "stdout",
     "output_type": "stream",
     "text": [
      "Ši diena yra  Ketvirtadienis\n"
     ]
    }
   ],
   "source": [
    "from datetime import datetime\n",
    "\n",
    "def savaites_diena(data):\n",
    "    format_string = \"%Y-%m-%d\"\n",
    "    date_object = datetime.strptime(data, format_string)\n",
    "    dienos = [\"Pirmadienis\", \"Antradienis\", \"Trečiadienis\", \"Ketvirtadienis\", \"Penktadienis\", \"Šeštadienis\", \"Sekmadienis\"]\n",
    "    return dienos[date_object.weekday()]\n",
    "\n",
    "data = \"2023-06-01\"\n",
    "print(f\"Ši diena yra  {savaites_diena(data)}\")"
   ]
  },
  {
   "cell_type": "markdown",
   "metadata": {},
   "source": [
    "<div style=\"text-align: justify;\">\n",
    "\n",
    "2024-01-16 pavyzdys:\n",
    "</div>"
   ]
  },
  {
   "cell_type": "code",
   "execution_count": 37,
   "metadata": {},
   "outputs": [
    {
     "name": "stdout",
     "output_type": "stream",
     "text": [
      "Ši diena yra  Antradienis\n"
     ]
    }
   ],
   "source": [
    "from datetime import datetime\n",
    "\n",
    "def savaites_diena(data):\n",
    "    format_string = \"%Y-%m-%d\"\n",
    "    date_object = datetime.strptime(data, format_string)\n",
    "    dienos = [\"Pirmadienis\", \"Antradienis\", \"Trečiadienis\", \"Ketvirtadienis\", \"Penktadienis\", \"Šeštadienis\", \"Sekmadienis\"]\n",
    "    return dienos[date_object.weekday()]\n",
    "\n",
    "data = \"2024-01-16\"\n",
    "print(f\"Ši diena yra  {savaites_diena(data)}\")"
   ]
  }
 ],
 "metadata": {
  "kernelspec": {
   "display_name": "Python 3",
   "language": "python",
   "name": "python3"
  },
  "language_info": {
   "codemirror_mode": {
    "name": "ipython",
    "version": 3
   },
   "file_extension": ".py",
   "mimetype": "text/x-python",
   "name": "python",
   "nbconvert_exporter": "python",
   "pygments_lexer": "ipython3",
   "version": "3.12.1"
  }
 },
 "nbformat": 4,
 "nbformat_minor": 2
}
