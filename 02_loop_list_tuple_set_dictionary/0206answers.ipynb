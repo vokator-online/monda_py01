{
 "cells": [
  {
   "cell_type": "markdown",
   "metadata": {},
   "source": [
    "# `Quick assignement answers`"
   ]
  },
  {
   "cell_type": "code",
   "execution_count": null,
   "metadata": {},
   "outputs": [],
   "source": [
    "# Quick assignement 1\n",
    "\n",
    "set1 = {1, 2, 3, 4}\n",
    "set1.add(5)\n",
    "print(set1)"
   ]
  },
  {
   "cell_type": "code",
   "execution_count": null,
   "metadata": {},
   "outputs": [],
   "source": [
    "# Quick assignement 2\n",
    "\n",
    "set1 = {2, 4, 6, 7, 3}\n",
    "set2 = (4, 7, 8, 9, 2)\n",
    "set1.update(set2)\n",
    "print(set1)"
   ]
  },
  {
   "cell_type": "code",
   "execution_count": null,
   "metadata": {},
   "outputs": [],
   "source": [
    "# Quick assignement 3\n",
    "\n",
    "set2 = {3, 4, 5, 6, 7, 8}\n",
    "set2.discard(7)\n",
    "print(set2)"
   ]
  },
  {
   "cell_type": "code",
   "execution_count": null,
   "metadata": {},
   "outputs": [],
   "source": [
    "# Quick assignement 4\n",
    "\n",
    "set2 = {3, 4, 5, 6, 7, 8}\n",
    "anything = set2.pop()\n",
    "print(anything, set2)"
   ]
  },
  {
   "cell_type": "code",
   "execution_count": null,
   "metadata": {},
   "outputs": [],
   "source": [
    "# Quick assignement 5\n",
    "\n",
    "set1 = {2, 4, 6, 7, 3}\n",
    "set2 = {3, 4, 5, 6, 8}\n",
    "set3 = set1.union(set2)\n",
    "print(set3)\n",
    "set4 = set1.intersection(set2)\n",
    "print(set4)"
   ]
  },
  {
   "cell_type": "code",
   "execution_count": null,
   "metadata": {},
   "outputs": [],
   "source": [
    "# Quick assignement 6\n",
    "\n",
    "set1 = {2, 4, 6, 7, 3}\n",
    "set2 = {3, 4, 5, 6, 8}\n",
    "set5 = set1.difference(set2)\n",
    "print(set5)\n",
    "set6 = set2.difference(set1)\n",
    "print(set6)"
   ]
  },
  {
   "cell_type": "code",
   "execution_count": null,
   "metadata": {},
   "outputs": [],
   "source": [
    "# Quick assignement 7\n",
    "\n",
    "set1 = {2, 4, 6, 7, 3}\n",
    "set2 = {3, 4, 5, 6, 8}\n",
    "set7 = set2.symmetric_difference(set1)\n",
    "print(set7)"
   ]
  },
  {
   "cell_type": "code",
   "execution_count": null,
   "metadata": {},
   "outputs": [],
   "source": [
    "# Bonus\n",
    "\n",
    "set1 = {2, 4, 6, 7, 3}\n",
    "set9 = set()\n",
    "for number in set1:\n",
    "    set9.add(number ** 2)\n",
    "print('aibės elementai kvadratu:', set9)"
   ]
  }
 ],
 "metadata": {
  "kernelspec": {
   "display_name": "venv",
   "language": "python",
   "name": "python3"
  },
  "language_info": {
   "codemirror_mode": {
    "name": "ipython",
    "version": 3
   },
   "file_extension": ".py",
   "mimetype": "text/x-python",
   "name": "python",
   "nbconvert_exporter": "python",
   "pygments_lexer": "ipython3",
   "version": "3.11.7"
  },
  "orig_nbformat": 4
 },
 "nbformat": 4,
 "nbformat_minor": 2
}
