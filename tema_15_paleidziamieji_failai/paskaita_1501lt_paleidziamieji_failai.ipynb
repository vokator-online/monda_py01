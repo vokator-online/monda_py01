{
 "cells": [
  {
   "cell_type": "markdown",
   "metadata": {},
   "source": [
    "# Paleidžiamieji failai"
   ]
  },
  {
   "cell_type": "markdown",
   "metadata": {},
   "source": [
    "PyInstaller yra įrankis, kuris leidžia sukurti paleidžiamąjį failą iš Python programos. Tai labai naudinga, kai norite platinti savo programą vartotojams, kurie neturi Python aplinkos ar modulių."
   ]
  },
  {
   "cell_type": "markdown",
   "metadata": {},
   "source": [
    "## Įsidiekite PyInstaller"
   ]
  },
  {
   "cell_type": "markdown",
   "metadata": {},
   "source": [
    "```text\n",
    "pip install pyinstaller\n",
    "```"
   ]
  },
  {
   "cell_type": "markdown",
   "metadata": {},
   "source": [
    "## Sukurkite paprastą Python programą"
   ]
  },
  {
   "cell_type": "markdown",
   "metadata": {},
   "source": [
    "Prieš pradedant kurti paleidžiamąjį failą, turime turėti Python programą. Tarkime, turime programą, kuri vadinasi `mano_programa.py`:"
   ]
  },
  {
   "cell_type": "code",
   "execution_count": 1,
   "metadata": {},
   "outputs": [
    {
     "name": "stdout",
     "output_type": "stream",
     "text": [
      "Labas, Pasauli!\n"
     ]
    }
   ],
   "source": [
    "# įrašykite kodą į mano_programa.py\n",
    "\n",
    "def main():\n",
    "    print(\"Labas, Pasauli!\")\n",
    "\n",
    "if __name__ == \"__main__\":\n",
    "    main()"
   ]
  },
  {
   "cell_type": "markdown",
   "metadata": {},
   "source": [
    "## Sukurkite paleidžiamąjį failą su PyInstaller"
   ]
  },
  {
   "cell_type": "markdown",
   "metadata": {},
   "source": [
    "Dabar, kai turite Python programą, galite naudoti PyInstaller, kad sukurtumėte paleidžiamąjį failą.\n",
    "\n",
    "Atidarykite `terminalą`, nueikite į katalogą, kuriame yra `mano_programa.py`, ir įveskite šią komandą:"
   ]
  },
  {
   "cell_type": "markdown",
   "metadata": {},
   "source": [
    "```text\n",
    "pyinstaller --onefile mano_programa.py\n",
    "```"
   ]
  },
  {
   "cell_type": "markdown",
   "metadata": {},
   "source": [
    "<img src=\"mano_programa_terminal_start.png\" alt=\"Alt text\" width=\"700\" height=\"200\">"
   ]
  },
  {
   "cell_type": "markdown",
   "metadata": {},
   "source": [
    "Atkreiptike dėmesį, kad komandą `pyinstaller --onefile mano_programa.py` turite vesti iš reikiamo katalogo.\n",
    "\n",
    "Demonstuojamu atveju failas `mano_programa` yra `15_paleidziamieji_failai`, tad jeigu dar nenutodėte kelio terminale, privalote jį nurodyti: `cd 15_paleidziamieji_failai` tada `ENTER` tik tuomet įkėliate komandą `pyinstaller --onefile mano_programa.py` "
   ]
  },
  {
   "cell_type": "markdown",
   "metadata": {},
   "source": [
    "Po šios komandos vykdymo PyInstaller sukurs paleidžiamąjį failą. Jūs galite rasti sukurtą failą `dist` kataloge."
   ]
  },
  {
   "cell_type": "markdown",
   "metadata": {},
   "source": [
    "<img src=\"mano_programa_terminal_finish.png\" alt=\"Alt text\" width=\"700\" height=\"200\">"
   ]
  },
  {
   "cell_type": "markdown",
   "metadata": {},
   "source": [
    "<img src=\"katalogas_bendras.png\" alt=\"Alt text\" width=\"200\" height=\"400\">"
   ]
  },
  {
   "cell_type": "markdown",
   "metadata": {},
   "source": [
    "## Paleiskite sukurtą paleidžiamąjį failą"
   ]
  },
  {
   "cell_type": "markdown",
   "metadata": {},
   "source": [
    "Dabar galite paleisti sukurtą paleidžiamąjį failą tiesiogiai per terminalą arba naršyklę.\n",
    "\n",
    "Jei naudojate Windows, paleiskite failą per Windows naršyklę arba terminale įveskite komandą:"
   ]
  },
  {
   "cell_type": "markdown",
   "metadata": {},
   "source": [
    "```text\n",
    "dist\\mano_programa.exe\n",
    "```"
   ]
  },
  {
   "cell_type": "markdown",
   "metadata": {},
   "source": [
    "Jei naudojate Linux ar macOS, paleiskite failą per terminalą:"
   ]
  },
  {
   "cell_type": "markdown",
   "metadata": {},
   "source": [
    "```text\n",
    "./dist/mano_programa\n",
    "```"
   ]
  },
  {
   "cell_type": "markdown",
   "metadata": {},
   "source": [
    "## Pastaba:"
   ]
  },
  {
   "cell_type": "markdown",
   "metadata": {},
   "source": [
    "Kuriant `.exe` failus, Jūsų kompiuteryje esančios antivirusinės programos gali Jūsų kuriamus failus aptikti kaip virusus, todėl rekomenduotina visą `Code Academy` katalogą antivirusinėje programoje įkelti į patikimų failų ir folderių sąrašą.<br>\n",
    "\n",
    "Pavyzdyje pavaizduotas viso `CodeAcademy` katalogo išskyrimas kompiuteryje. Nuo šiol šio katalogo Windows sargyba neskaitys:"
   ]
  },
  {
   "cell_type": "markdown",
   "metadata": {},
   "source": [
    "<img src=\"isskyrimai.png\" alt=\"Alt text\" width=\"700\" height=\"400\">"
   ]
  },
  {
   "cell_type": "markdown",
   "metadata": {},
   "source": [
    "## Dar vienas pavyzdys su `matuojam_primes.py` failu:"
   ]
  },
  {
   "cell_type": "markdown",
   "metadata": {},
   "source": [
    "Failas `matuojam_prime` jau guli reikiamae kataloge.\n",
    "\n",
    "Atidarome terminalą ir įvedame komandą: `pyinstaller --onefile mmatuojam_primes.py`"
   ]
  },
  {
   "cell_type": "markdown",
   "metadata": {},
   "source": [
    "<img src=\"matuojam_primes_terminal_start.png\" alt=\"Alt text\" width=\"700\" height=\"200\">\n"
   ]
  },
  {
   "cell_type": "markdown",
   "metadata": {},
   "source": [
    "Atidarome `dist` katalogą ir paleidžiame `matuojam_primes.exe` failą aukščiau nurodytais būdais.\n",
    "\n",
    "Visi failai, kurie yra reikalingi `.exe` failams paleisti, turi būti `dist` kataloge, o jeigu jų ten nėra, jie gali būti perkeliami rankiniu būdu."
   ]
  },
  {
   "cell_type": "markdown",
   "metadata": {},
   "source": [
    "## Piktogramos (icon) pakeitimas"
   ]
  },
  {
   "cell_type": "markdown",
   "metadata": {},
   "source": [
    "1. Turite turėti ikonos failą, kurį norite naudoti savo programai. Dažniausiai naudojamas ikonos formatas yra .ico (Windows) arba .icns (macOS, *pritaikoma tik prie .app failo*). Jei naudojate Linux, galite naudoti .png failą."
   ]
  },
  {
   "cell_type": "markdown",
   "metadata": {},
   "source": [
    "2. Nurodykite ikoną naudojant PyInstaller:"
   ]
  },
  {
   "cell_type": "markdown",
   "metadata": {},
   "source": [
    "Windows:"
   ]
  },
  {
   "cell_type": "markdown",
   "metadata": {},
   "source": [
    "```text\n",
    "pyinstaller --onefile --icon=mano_icon.ico my_program.py\n",
    "```"
   ]
  },
  {
   "cell_type": "markdown",
   "metadata": {},
   "source": [
    "Linux:"
   ]
  },
  {
   "cell_type": "markdown",
   "metadata": {},
   "source": [
    "```text\n",
    "pyinstaller --onefile --icon=mano_icon.png my_program.py\n",
    "```"
   ]
  },
  {
   "cell_type": "markdown",
   "metadata": {},
   "source": [
    "Čia mano_icon.ico, mano_icon.icns arba mano_icon.png yra jūsų pasirinktos ikonos failas."
   ]
  },
  {
   "cell_type": "markdown",
   "metadata": {},
   "source": [
    "Po komandos įvykdymo, paleidžiamasis failas, esantis dist kataloge, turėtų turėti nurodytą ikoną."
   ]
  },
  {
   "cell_type": "markdown",
   "metadata": {},
   "source": [
    "pyinstaller --onefile --noconsole melilla.py"
   ]
  }
 ],
 "metadata": {
  "kernelspec": {
   "display_name": "venv",
   "language": "python",
   "name": "python3"
  },
  "language_info": {
   "codemirror_mode": {
    "name": "ipython",
    "version": 3
   },
   "file_extension": ".py",
   "mimetype": "text/x-python",
   "name": "python",
   "nbconvert_exporter": "python",
   "pygments_lexer": "ipython3",
   "version": "3.12.1"
  }
 },
 "nbformat": 4,
 "nbformat_minor": 2
}
