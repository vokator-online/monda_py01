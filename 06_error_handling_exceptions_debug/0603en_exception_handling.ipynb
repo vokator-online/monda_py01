{
 "cells": [
  {
   "cell_type": "markdown",
   "metadata": {},
   "source": [
    "# Exception Handling\n",
    "\n",
    "## Raising Exceptions with `raise`\n",
    "\n",
    "`Exception handling` is an essential programming concept that allows developers to specify that a program has encountered a problem and needs to be terminated. \n",
    "\n",
    "Python provides various exceptions that enable programmers to raise and handle errors later.\n",
    "The `raise` statement allows you to raise an error during the program's execution. It is a simple command that raises an error with a specified message. \n",
    "\n",
    "For example:"
   ]
  },
  {
   "cell_type": "code",
   "execution_count": null,
   "metadata": {},
   "outputs": [],
   "source": [
    "raise ValueError(\"Invalid argument\")  # raise ValueError(\"Invalid argument\")"
   ]
  },
  {
   "cell_type": "markdown",
   "metadata": {},
   "source": [
    "The `raise` command can be used anywhere in the program where error raising is required. You can also raise custom error classes. \n",
    "\n",
    "For instance:"
   ]
  },
  {
   "cell_type": "code",
   "execution_count": null,
   "metadata": {},
   "outputs": [],
   "source": [
    "class MyError(Exception):\n",
    "    pass\n",
    "\n",
    "raise MyError(\"Failed to open the file\")  # __main__.MyError: Failed to open the file"
   ]
  },
  {
   "cell_type": "markdown",
   "metadata": {},
   "source": [
    "Normally, errors are raised within functions and returned via `return` with a message that informs about the error. \n",
    "\n",
    "For example:"
   ]
  },
  {
   "cell_type": "code",
   "execution_count": null,
   "metadata": {},
   "outputs": [],
   "source": [
    "def division(x, y):\n",
    "    if y == 0:\n",
    "        raise ZeroDivisionError(\"Division by zero is not allowed\")\n",
    "    return x / y\n",
    "\n",
    "try:\n",
    "    result = division(10, 0)\n",
    "except ZeroDivisionError as e:\n",
    "    print(e)  # Division by zero is not allowed\n",
    "else:\n",
    "    print(result)"
   ]
  },
  {
   "cell_type": "markdown",
   "metadata": {},
   "source": [
    "# `Quick Assignment 1: Raising Exceptions with raise`\n",
    "\n",
    "**Task**:\n",
    "\n",
    "1. Create a Python program that defines a function. \n",
    "1. In the function, check if a given number is negative. \n",
    "- If it is, raise a custom exception called `NegativeNumberError` with the message \"Number cannot be negative.\" \n",
    "- Use a `try` and `except` block to call the function and handle the custom exception."
   ]
  },
  {
   "cell_type": "code",
   "execution_count": 1,
   "metadata": {},
   "outputs": [
    {
     "name": "stdout",
     "output_type": "stream",
     "text": [
      "Error: Number cannot be negative.\n",
      "Number is non-negative.\n"
     ]
    }
   ],
   "source": [
    "# Custom exception class\n",
    "class NegativeNumberError(Exception):\n",
    "    pass\n",
    "\n",
    "# Function to check if a number is negative\n",
    "def check_negative_number(number):\n",
    "    try:\n",
    "        if number < 0:\n",
    "            raise NegativeNumberError(\"Number cannot be negative.\")\n",
    "        else:\n",
    "            print(\"Number is non-negative.\")\n",
    "    except NegativeNumberError as e:\n",
    "        print(f\"Error: {e}\")\n",
    "\n",
    "# Example usage\n",
    "try:\n",
    "    # Test with a negative number\n",
    "    check_negative_number(-5)\n",
    "    \n",
    "    # Test with a non-negative number\n",
    "    check_negative_number(10)\n",
    "except Exception as e:\n",
    "    print(f\"Unexpected error: {e}\")"
   ]
  },
  {
   "cell_type": "markdown",
   "metadata": {},
   "source": [
    "## Raising Exceptions with `raise Exception`\n",
    "The `raise` command can be used with any error class, such as `Exception`. \n",
    "\n",
    "For example:"
   ]
  },
  {
   "cell_type": "code",
   "execution_count": null,
   "metadata": {},
   "outputs": [],
   "source": [
    "raise Exception('Error message')  # Exception: Error message"
   ]
  },
  {
   "cell_type": "markdown",
   "metadata": {},
   "source": [
    "The previous `ZeroDivisionError` example works with `Exception` \n",
    "\n",
    "as well:"
   ]
  },
  {
   "cell_type": "code",
   "execution_count": null,
   "metadata": {},
   "outputs": [],
   "source": [
    "def division(x, y):\n",
    "    if y == 0:\n",
    "        raise Exception(\"Division by zero is not allowed\")\n",
    "    return x / y\n",
    "\n",
    "try:\n",
    "    result = division(10, 0)\n",
    "except Exception as e:\n",
    "    print(e)  # Division by zero is not allowed\n",
    "else:\n",
    "    print(result)\n"
   ]
  },
  {
   "cell_type": "markdown",
   "metadata": {},
   "source": [
    "It is recommended to use specialized error classes as they can improve error handling and clarity since different error types can be handled differently. \n",
    "- However, if there are no clear use cases, it is better to use the generic `Exception` class. Doing so is safe but not necessarily efficient or convenient if there are many errors that should be handled differently."
   ]
  },
  {
   "cell_type": "markdown",
   "metadata": {},
   "source": [
    "# `Quick Assignment 2: Raising Exceptions with raise Exception`\n",
    "\n",
    "Task:\n",
    "\n",
    "1. Create a Python program that defines a function to perform division. \n",
    "- If the denominator is zero, raise a generic `Exception` with the message \"Division by zero is not allowed.\" \n",
    "- Use a `try` and `except` block to call the function and handle the exception."
   ]
  },
  {
   "cell_type": "code",
   "execution_count": 2,
   "metadata": {},
   "outputs": [
    {
     "name": "stdout",
     "output_type": "stream",
     "text": [
      "Result: 1.0\n"
     ]
    }
   ],
   "source": [
    "def divide_numbers(numerator, denominator):\n",
    "    try:\n",
    "        result = numerator / denominator\n",
    "        return result\n",
    "    except ZeroDivisionError:\n",
    "        raise Exception(\"Division by zero is not allowed.\")\n",
    "\n",
    "# Example usage:\n",
    "try:\n",
    "    numerator_value = float(input(\"Enter the numerator: \"))\n",
    "    denominator_value = float(input(\"Enter the denominator: \"))\n",
    "    result = divide_numbers(numerator_value, denominator_value)\n",
    "    print(\"Result:\", result)\n",
    "except Exception as e:\n",
    "    print(f\"Error: {e}\")"
   ]
  },
  {
   "cell_type": "markdown",
   "metadata": {},
   "source": [
    "## Raising Exceptions with `raise ValueError`"
   ]
  },
  {
   "cell_type": "markdown",
   "metadata": {},
   "source": [
    "The `raise ValueError` command is useful when you need to inform about an invalid argument or value. \n",
    "\n",
    "For example:"
   ]
  },
  {
   "cell_type": "code",
   "execution_count": null,
   "metadata": {},
   "outputs": [],
   "source": [
    "def cube_number(number):\n",
    "    if not isinstance(number, int):\n",
    "        raise ValueError(\"The function only works with integers\")\n",
    "    return number ** 3\n",
    "\n",
    "try:\n",
    "    cube = cube_number(1.5)\n",
    "except ValueError as e:\n",
    "    print(e)  # The function only works with integers\n",
    "else:\n",
    "    print(cube)"
   ]
  },
  {
   "cell_type": "markdown",
   "metadata": {},
   "source": [
    "In this context, we discussed exception handling, raising exceptions with `raise`, and the appropriate use of `ValueError` for notifying about invalid arguments or values."
   ]
  },
  {
   "cell_type": "markdown",
   "metadata": {},
   "source": [
    "# `Quick Assignment 3: Raising Exceptions with raise ValueError`\n",
    "\n",
    "Task:\n",
    "\n",
    "1. Write a Python program that defines a function to calculate the square of a number. \n",
    "- If the input is not a number (e.g., a string or another type), raise a `ValueError` with the message \"Input must be a number.\" \n",
    "- Use a `try` and `except` block to call the function and handle the `ValueError`."
   ]
  },
  {
   "cell_type": "code",
   "execution_count": 3,
   "metadata": {},
   "outputs": [
    {
     "name": "stdout",
     "output_type": "stream",
     "text": [
      "The square of 45 is 2025.0\n"
     ]
    }
   ],
   "source": [
    "def calculate_square(number):\n",
    "    try:\n",
    "        # Attempt to convert the input to a number and calculate the square\n",
    "        square = float(number) ** 2\n",
    "        return square\n",
    "    except ValueError:\n",
    "        # Raise a ValueError if the input is not a number\n",
    "        raise ValueError(\"Input must be a number.\")\n",
    "\n",
    "# Example usage:\n",
    "try:\n",
    "    user_input = input(\"Enter a number to calculate its square: \")\n",
    "    result = calculate_square(user_input)\n",
    "    print(f\"The square of {user_input} is {result}\")\n",
    "except ValueError as ve:\n",
    "    print(f\"Error: {ve}\")"
   ]
  }
 ],
 "metadata": {
  "kernelspec": {
   "display_name": "Python 3",
   "language": "python",
   "name": "python3"
  },
  "language_info": {
   "codemirror_mode": {
    "name": "ipython",
    "version": 3
   },
   "file_extension": ".py",
   "mimetype": "text/x-python",
   "name": "python",
   "nbconvert_exporter": "python",
   "pygments_lexer": "ipython3",
   "version": "3.12.1"
  }
 },
 "nbformat": 4,
 "nbformat_minor": 2
}
