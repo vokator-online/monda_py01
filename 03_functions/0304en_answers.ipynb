{
 "cells": [
  {
   "cell_type": "markdown",
   "metadata": {},
   "source": [
    "# `Quick Assignment 1: *args Practice`"
   ]
  },
  {
   "cell_type": "code",
   "execution_count": null,
   "metadata": {},
   "outputs": [],
   "source": [
    "def calculate_total(*args):\n",
    "    total = sum(args)\n",
    "    return total\n",
    "\n",
    "# Example usage:\n",
    "item_prices = [10.99, 5.49, 7.25, 3.99]\n",
    "\n",
    "total_price = calculate_total(*item_prices)\n",
    "print(f\"Total Price: ${total_price:.2f}\")"
   ]
  },
  {
   "cell_type": "markdown",
   "metadata": {},
   "source": [
    "# `Quick Assignment 2: **kwargs Practice`"
   ]
  },
  {
   "cell_type": "code",
   "execution_count": null,
   "metadata": {},
   "outputs": [],
   "source": [
    "def print_contact_info(**kwargs):\n",
    "    if 'name' in kwargs:\n",
    "        print(f\"Name: {kwargs['name']}\")\n",
    "    if 'email' in kwargs:\n",
    "        print(f\"Email: {kwargs['email']}\")\n",
    "    if 'phone' in kwargs:\n",
    "        print(f\"Phone: {kwargs['phone']}\")\n",
    "\n",
    "# Example usage:\n",
    "contact_info = {\n",
    "    'name': 'John Doe',\n",
    "    'email': 'johndoe@example.com',\n",
    "    'phone': '555-123-4567'\n",
    "}\n",
    "\n",
    "print_contact_info(**contact_info)"
   ]
  },
  {
   "cell_type": "markdown",
   "metadata": {},
   "source": [
    "# `Quick Assignment 3: Combine *args and **kwargs`"
   ]
  },
  {
   "cell_type": "code",
   "execution_count": null,
   "metadata": {},
   "outputs": [],
   "source": [
    "#Example 1:\n",
    "def combine_lists(*args, **kwargs):\n",
    "    result = list(args) + list(kwargs.items())\n",
    "    return result\n",
    "\n",
    "# Example 1 usage:\n",
    "combined_list_1 = combine_lists(1, 2, 3, name='John', age=25, city='Vilnius')\n",
    "print(combined_list_1)\n",
    "\n",
    "\n",
    "#Example 2:\n",
    "def combine_lists(*args, **kwargs):\n",
    "    combined = list(args)\n",
    "    for key, value in kwargs.items():\n",
    "        combined.append((key, value))\n",
    "    return combined\n",
    "\n",
    "# Example 2 usage:\n",
    "combined_list_2 = combine_lists('a', 'b', 'c', name='Alice', age=30, city='Wonderland')\n",
    "print(combined_list_2)"
   ]
  },
  {
   "cell_type": "markdown",
   "metadata": {},
   "source": [
    "# `Bonus assignment: Filtering Arguments`"
   ]
  },
  {
   "cell_type": "code",
   "execution_count": null,
   "metadata": {},
   "outputs": [],
   "source": [
    "def filter_arguments(*args, **kwargs):\n",
    "    # Filter positional arguments (integers)\n",
    "    positional_numbers = []\n",
    "    for arg in args:\n",
    "        if type(arg) == int:\n",
    "            positional_numbers.append(arg)\n",
    "\n",
    "    # Filter keys and values (key starts with 'a', and value is a string)\n",
    "    filtered_kw = {}\n",
    "    for key, value in kwargs.items():\n",
    "        if key.startswith('a') and type(value) == str:\n",
    "            filtered_kw[key] = value\n",
    "\n",
    "    return positional_numbers, filtered_kw\n",
    "\n",
    "# Example using the function:\n",
    "results = filter_arguments(1, 'Jonas', 3, 5, age='25', city='Vilnius', address='Kaunas')\n",
    "\n",
    "# Print the results\n",
    "print(results)"
   ]
  }
 ],
 "metadata": {
  "kernelspec": {
   "display_name": "Python 3",
   "language": "python",
   "name": "python3"
  },
  "language_info": {
   "codemirror_mode": {
    "name": "ipython",
    "version": 3
   },
   "file_extension": ".py",
   "mimetype": "text/x-python",
   "name": "python",
   "nbconvert_exporter": "python",
   "pygments_lexer": "ipython3",
   "version": "3.10.6"
  },
  "orig_nbformat": 4
 },
 "nbformat": 4,
 "nbformat_minor": 2
}
