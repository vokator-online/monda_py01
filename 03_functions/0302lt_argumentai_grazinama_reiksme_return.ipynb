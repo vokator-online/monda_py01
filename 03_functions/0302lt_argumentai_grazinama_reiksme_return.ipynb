{
 "cells": [
  {
   "cell_type": "markdown",
   "metadata": {},
   "source": [
    "# Funkcija su `return` Grąžinimo Reikšme\n",
    "\n",
    "Funkcija su `return` grąžinimo reikšme yra kaip mašina, kuri gauna įvestį ir išspjauna rezultatą. Ši funkcija apdoroja įvairius duomenis ir grąžina tai, ką ji sukūrė, kad galėtumėte tai naudoti kitur savo programoje.\n",
    "\n",
    "- Grąžinama reikšmė gali būti bet koks objektas: skaičius, eilutė, sąrašas ar net kito tipo informacija.\n",
    "- Grąžinimas yra būtinas, kai norite, kad funkcijos darbo vaisius būtų panaudotas kitur jūsų programoje.\n",
    "- `return` pareiškimas nurodo, ką funkcija grąžins. Tai kaip bilietas iš mašinos, kurį pasiimate po to, kai ji sukūrė kažką naudingo.\n",
    "- Jei funkcija sugeneruoja daugiau nei vieną rezultatą, juos galima pateikti kaip sąrašą arba tuplo formoje.\n",
    "\n",
    "**Pirmas pavyzdys**:"
   ]
  },
  {
   "cell_type": "code",
   "execution_count": null,
   "metadata": {},
   "outputs": [],
   "source": [
    "def kvadratu(x):\n",
    "    return x ** 2"
   ]
  },
  {
   "cell_type": "markdown",
   "metadata": {},
   "source": [
    "Šioje funkcijoje ji priima skaičių `x` kaip `argumentą`, apskaičiuoja jo kvadratą ir grąžina rezultatą."
   ]
  },
  {
   "cell_type": "code",
   "execution_count": null,
   "metadata": {},
   "outputs": [],
   "source": [
    "rezultatas = kvadratu(5)\n",
    "print(rezultatas)  # Rezultatas: 25"
   ]
  },
  {
   "cell_type": "markdown",
   "metadata": {},
   "source": [
    "Ši `kvadratu` funkcija yra iškviesta su argumentu `5`, ir jos grąžinta reikšmė (`25`) priskiriama kintamajam '`rezultatas`', kuris vėliau atspausdinamas naudojant print funkciją.\n",
    "\n",
    "**Štai antras pavyzdys**:"
   ]
  },
  {
   "cell_type": "code",
   "execution_count": null,
   "metadata": {},
   "outputs": [],
   "source": [
    "def sudeti(x, y):\n",
    "    rezultatas = x + y\n",
    "    return rezultatas\n",
    "\n",
    "atsakymas = sudeti(10, 2)\n",
    "print(atsakymas)  # Rezultatas: 12"
   ]
  },
  {
   "cell_type": "markdown",
   "metadata": {},
   "source": [
    "Ši funkcija, `sudeti`, priima du argumentus (`x` ir `y`), juos sudeda ir grąžina sumą naudodama `return` pareiškimą.\n",
    "- `sudeti` funkcija yra iškviesta su argumentais `10` ir `2`, o rezultatas (`12`) yra atspausdinamas."
   ]
  },
  {
   "cell_type": "markdown",
   "metadata": {},
   "source": [
    "# `Greitas uždavinys 1: Apskaičiuoti Kvadratą`\n",
    "\n",
    "1. Parašykite funkciją `apskaiciuoti_kvadrata`, kuri priima vieną skaičių kaip įvestį ir grąžina šio skaičiaus kvadratą. \n",
    "1. iškvieskite šią funkciją su konkrečiu skaičiumi ir atspausdinkite rezultatą."
   ]
  },
  {
   "cell_type": "code",
   "execution_count": null,
   "metadata": {},
   "outputs": [],
   "source": [
    "# jusu kodo vieta"
   ]
  },
  {
   "cell_type": "markdown",
   "metadata": {},
   "source": [
    "## Daugiau negu vieno kintamojo grąžinimas per tuple arba sąrašą (list)\n",
    "\n",
    "Jei reikia grąžinti kelias reikšmes iš funkcijos, galite jas sudėti į tulpą arba sąrašą. \n",
    "\n",
    "**Pavyzdys naudojant tuplą**:"
   ]
  },
  {
   "cell_type": "code",
   "execution_count": null,
   "metadata": {},
   "outputs": [],
   "source": [
    "def suma_ir_sandauga(a, b):\n",
    "    suma = a + b\n",
    "    sandauga = a * b\n",
    "    return (suma, sandauga)"
   ]
  },
  {
   "cell_type": "markdown",
   "metadata": {},
   "source": [
    "Funkciją galima iškviesti ir grąžintas reikšmes išpakuoti taip:"
   ]
  },
  {
   "cell_type": "code",
   "execution_count": null,
   "metadata": {},
   "outputs": [],
   "source": [
    "rezultatas = suma_ir_sandauga(2, 3)\n",
    "print(rezultatas)  # Rezultatas: (5, 6)\n",
    "\n",
    "suma_rezultatas, sandauga_rezultatas = suma_ir_sandauga(2, 3)\n",
    "print(suma_rezultatas)     # Rezultatas: 5\n",
    "print(sandauga_rezultatas) # Rezultatas: 6"
   ]
  },
  {
   "cell_type": "markdown",
   "metadata": {},
   "source": [
    "- Pirmajame iškvietime funkcija grąžina tuplą (`5`, `6`), kurį priskiria kintamajam `rezultatas`. \n",
    "- Antrajame iškvietime reikšmės išpakuojamos į atskirus kintamuosius `suma_rezultatas` ir `sandauga_rezultatas`."
   ]
  },
  {
   "cell_type": "markdown",
   "metadata": {},
   "source": [
    "# `Greitas uždavinys 2: Apskaičiuoti Sumą`\n",
    "\n",
    "1. Sukurkite funkciją `apskaičiuoti_sumą(a, b)`, kuri priima du skaičius kaip argumentus, juos sudeda ir grąžina sumą. \n",
    "1. Iškvieskite funkciją ir parodykite rezultatą."
   ]
  },
  {
   "cell_type": "code",
   "execution_count": null,
   "metadata": {},
   "outputs": [],
   "source": [
    "# jusu kodo vieta"
   ]
  },
  {
   "cell_type": "markdown",
   "metadata": {},
   "source": [
    "### Taip pat galite grąžinti sąrašą:"
   ]
  },
  {
   "cell_type": "code",
   "execution_count": null,
   "metadata": {},
   "outputs": [],
   "source": [
    "def teigiami_ir_neigiami_skaiciai(skaiciai):\n",
    "    teigiami = []\n",
    "    neigiami = []\n",
    "    for skaicius in skaiciai:\n",
    "        if skaicius > 0:\n",
    "            teigiami.append(skaicius)\n",
    "        else:\n",
    "            neigiami.append(skaicius)\n",
    "    return [teigiami, neigiami]"
   ]
  },
  {
   "cell_type": "markdown",
   "metadata": {},
   "source": [
    "Šiame pavyzdyje funkcija `teigiami_ir_neigiami_skaiciai` grąžina du sąrašus: `teigiami` ir `neigiami`, kurie turi teigiamus ir neigiamus skaičius iš įvesties sąrašo."
   ]
  },
  {
   "cell_type": "code",
   "execution_count": null,
   "metadata": {},
   "outputs": [],
   "source": [
    "skaiciai = [2, -4, 5, -1, -2]\n",
    "rezultatas = teigiami_ir_neigiami_skaiciai(skaiciai)\n",
    "print(rezultatas)  # Rezultatas: [[2, 5], [-4, -1, -2]]"
   ]
  },
  {
   "cell_type": "markdown",
   "metadata": {},
   "source": [
    "Šiuo atveju, funkcija grąžina sąrašą, kuriame yra du sub sąrašai - vienas su teigiamais skaičiais, kitas su neigiamais skaičiais."
   ]
  },
  {
   "cell_type": "markdown",
   "metadata": {},
   "source": [
    "# `Greitas uždavinys 3: Atskirti Teigiamus ir Neigiamus Skaičius`\n",
    "\n",
    "1. Sukurkite funkciją, kuri priima skaičių sąrašą ir atskiria teigiamus bei neigiamus skaičius.\n",
    "1. Grąžinkite juos kaip du sąrašus.\n",
    "1. Iškvieskite funkciją ir atspausdinkite rezultatą."
   ]
  },
  {
   "cell_type": "code",
   "execution_count": null,
   "metadata": {},
   "outputs": [],
   "source": [
    "# jusu kodo vieta"
   ]
  },
  {
   "cell_type": "markdown",
   "metadata": {},
   "source": [
    "# `Papildoma Užduotis: Apskaičiuoti Faktorialą`\n",
    "\n",
    "Parašykite funkciją `apskaičiuoti_faktorialą(n)`, kuri apskaičiuoja ir grąžina duoto neigiamo sveikojo skaičiaus n faktorialą. Skaičiaus n faktorialas yra visų teigiamų sveikųjų skaičių nuo 1 iki n sandauga.\n",
    "\n",
    "- Pavyzdžiui, 5 faktorialas (pažymėtas kaip 5!) yra apskaičiuojamas kaip 5 x 4 x 3 x 2 x 1 = 120.\n",
    "- Jūsų funkcija turėtų sutvarkyti atvejį, kai `n` yra lygus `0`, ir grąžinti 1 kaip 0 faktorialą.\n",
    "- Po funkcijos apibrėžimo, iškvieskite ją, kad apskaičiuotų ir spausdintų faktorialus šių skaičių: `0`, `1`, `2`, `3`, `4` ir `5`.\n",
    "\n",
    "Štai pradinis funkcijos kodas ir iškvietimai:"
   ]
  },
  {
   "cell_type": "code",
   "execution_count": null,
   "metadata": {},
   "outputs": [],
   "source": [
    "# Funkcijos apibrėžimas\n",
    "def apskaičiuoti_faktorialą(n):\n",
    "    # Jūsų kodas čia\n",
    "\n",
    "# Iškvieskite funkciją ir spausdinkite faktorialus\n",
    "print(\"Faktorialas 0:\", apskaičiuoti_faktorialą(0))  # Tikimasi rezultatas: 1\n",
    "print(\"Faktorialas 1:\", apskaičiuoti_faktorialą(1))  # Tikimasi rezultatas: 1\n",
    "print(\"Faktorialas 2:\", apskaičiuoti_faktorialą(2))  # Tikimasi rezultatas: 2\n",
    "print(\"Faktorialas 3:\", apskaičiuoti_faktorialą(3))  # Tikimasi rezultatas: 6\n",
    "print(\"Faktorialas 4:\", apskaičiuoti_faktorialą(4))  # Tikimasi rezultatas: 24\n",
    "print(\"Faktorialas 5:\", apskaičiuoti_faktorialą(5))  # Tikimasi rezultatas: 120"
   ]
  }
 ],
 "metadata": {
  "kernelspec": {
   "display_name": "venv",
   "language": "python",
   "name": "python3"
  },
  "language_info": {
   "codemirror_mode": {
    "name": "ipython",
    "version": 3
   },
   "file_extension": ".py",
   "mimetype": "text/x-python",
   "name": "python",
   "nbconvert_exporter": "python",
   "pygments_lexer": "ipython3",
   "version": "3.10.6"
  }
 },
 "nbformat": 4,
 "nbformat_minor": 2
}
