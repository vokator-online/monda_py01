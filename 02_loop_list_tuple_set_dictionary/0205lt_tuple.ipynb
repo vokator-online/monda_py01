{
 "cells": [
  {
   "cell_type": "markdown",
   "metadata": {},
   "source": [
    "# Tuple\n",
    "Python kalboje tuple yra kolekcijos duomenų tipas, panašus į sąrašą, bet su svarbia skirtimi: \n",
    "- tuple yra nemutabilios. Tai reiškia, kad sukūrus tuple, jo turinys negali būti pakeistas, pridėtas, pašalintas ar modifikuotas. \n",
    "- Tuple apibrėžiamas naudojant skliaustus `()` arba tiesiog kableliais, elementams atskirti. \n",
    "- Tai paprastai supaprastina duomenų tvarkymą ir užtikrina, kad tuple išlieka nepakitęs nuo jo sukūrimo momento.\n",
    "\n",
    "## Tuple kūrimas\n",
    "Tuple kūrimas Python kalboje labai panašus į sąrašo kūrimą, tačiau vietoj laužtinių skliaustų [], naudojami skliaustai `()`:"
   ]
  },
  {
   "cell_type": "code",
   "execution_count": null,
   "metadata": {},
   "outputs": [],
   "source": [
    "vieno_elemento_tuple = (1,)\n",
    "print(vieno_elemento_tuple) # (1,)\n",
    "print(type(vieno_elemento_tuple)) # <class 'tuple'>"
   ]
  },
  {
   "cell_type": "markdown",
   "metadata": {},
   "source": [
    "- Pastaba: Tuščia tuple kurti nera prasmės, todėl ji dažnai yra nenaudojama."
   ]
  },
  {
   "cell_type": "markdown",
   "metadata": {},
   "source": [
    "#### Tuple kūrimas su keliais elementais:"
   ]
  },
  {
   "cell_type": "code",
   "execution_count": null,
   "metadata": {},
   "outputs": [],
   "source": [
    "skaiciu_tuple = (1, 2, 3, 4, 5)\n",
    "print(skaiciu_tuple) # (1, 2, 3, 4, 5)"
   ]
  },
  {
   "cell_type": "code",
   "execution_count": null,
   "metadata": {},
   "outputs": [],
   "source": [
    "sumaisytos_tuple = (1, 'du', 3.0, [4, 5], True)\n",
    "print(sumaisytos_tuple) # (1, 'du', 3.0, [4, 5], True)"
   ]
  },
  {
   "cell_type": "markdown",
   "metadata": {},
   "source": [
    "### Greitas uždavinys 1\n",
    "\n",
    "Sukurkite Python tuple su savo mėgstamomis spalvomis ir ją atspausdinkite. Neužmirškite naudoti skliaustų, kad apibrėžtumėte tuple."
   ]
  },
  {
   "cell_type": "code",
   "execution_count": 4,
   "metadata": {},
   "outputs": [
    {
     "name": "stdout",
     "output_type": "stream",
     "text": [
      "('geltona', 'žalia', 'raudona')\n"
     ]
    }
   ],
   "source": [
    "spalva_tuple = ('geltona', 'žalia', 'raudona')\n",
    "print(spalva_tuple)"
   ]
  },
  {
   "cell_type": "markdown",
   "metadata": {},
   "source": [
    "---\n",
    "\n",
    "## Prieiga prie Tuplo Elementų\n",
    "\n",
    "Elementų prieiga tuple yra panaši į sąrašus. \n",
    "- Galvokite apie indeksus kaip apie pozicijas tuple, pradedant nuo pirmojo elemento pozicijos 0. \n",
    "- Paskutinis elementas gali būti pasiekiamas naudojant poziciją -1."
   ]
  },
  {
   "cell_type": "code",
   "execution_count": null,
   "metadata": {},
   "outputs": [],
   "source": [
    "sumaisytas_tuple = (1, 'du', 3.0, [4, 5], True)\n",
    "\n",
    "print(sumaisytas_tuple[0]) # 1\n",
    "print(sumaisytas_tuple[3]) # [4, 5]\n",
    "print(sumaisytas_tuple[-1]) # True"
   ]
  },
  {
   "cell_type": "markdown",
   "metadata": {},
   "source": [
    "### Greitas uždavinys 2\n",
    "\n",
    "Tuplo Indeksavimo Užduotis. Šioje užduotyje praktikuosite prieigą prie elementų tuple. Atlikite šias paprastas užduotis:\n",
    "\n",
    "1. Sukurkite tuplą pavadinimu \"`info`\" su šiais duomenimis:\n",
    "- Jūsų vardas (stringas).\n",
    "- Jūsų amžius (sveikasis skaičius).\n",
    "- Jūsų mėgstama spalva (stringas).\n",
    "2. Atspausdinkite savo amžių, pasiekdami atitinkamą elementą iš tuplo \"`info`\".\n",
    "3. Atspausdinkite savo mėgstamą spalvą."
   ]
  },
  {
   "cell_type": "code",
   "execution_count": 6,
   "metadata": {},
   "outputs": [
    {
     "name": "stdout",
     "output_type": "stream",
     "text": [
      "Jūsų amžius: 45\n",
      "Jūsų mėgstamiausia spalva: Balta\n"
     ]
    }
   ],
   "source": [
    "info = ('Jūsų vardas:', 45, 'Balta')\n",
    "print(\"Jūsų amžius:\", info[1])\n",
    "print(\"Jūsų mėgstamiausia spalva:\", info[2])"
   ]
  },
  {
   "cell_type": "code",
   "execution_count": 20,
   "metadata": {},
   "outputs": [
    {
     "name": "stdout",
     "output_type": "stream",
     "text": [
      "Jūsų vardas: \t\t\t Valdemaras\n",
      "Jūsų amžius: \t\t\t 45\n",
      "Jūsų mėgstamiausia spalva: \t Balta\n"
     ]
    }
   ],
   "source": [
    "info = ('Valdemaras', 45, 'Balta')\n",
    "print(\"Jūsų vardas: \\t\\t\\t\", info[0])\n",
    "print(\"Jūsų amžius: \\t\\t\\t\", info[1])\n",
    "print(\"Jūsų mėgstamiausia spalva: \\t\", info[2])"
   ]
  },
  {
   "cell_type": "markdown",
   "metadata": {},
   "source": [
    "---\n",
    "\n",
    "## Tuple išpjovimas\n",
    "\n",
    "Išpjovimas tupluose veikia kaip sąrašuose. Galite pasirinkti pradžios ir pabaigos tašką, netgi nuspręsti, koks bus žingsnis.\n",
    "\n",
    "**Štai pavyzdys**:"
   ]
  },
  {
   "cell_type": "code",
   "execution_count": null,
   "metadata": {},
   "outputs": [],
   "source": [
    "# Naudojame raides tuplui demonstruoti\n",
    "raides_tuple = ('a', 'b', 'c', 'd', 'e', 'f')\n",
    "\n",
    "# Pavyzdys 1: Pasirinkite elementus nuo indekso 2 iki 3\n",
    "print(\"Pavyzdys 1:\", raides_tuple[2:4]) # Rezultatas: ('c', 'd')\n",
    "\n",
    "# Pavyzdys 2: Pasirinkite elementus nuo indekso 0, praleisdami kiekvieną antrą elementą, iki indekso 2\n",
    "print(\"Pavyzdys 2:\", raides_tuple[0:3:2]) # Rezultatas: ('a', 'c')\n",
    "\n",
    "# Pavyzdys 3: Pasirinkite elementus nuo pradžios iki indekso 3\n",
    "print(\"Pavyzdys 3:\", raides_tuple[:4]) # Rezultatas: ('a', 'b', 'c', 'd')\n",
    "\n",
    "# Pavyzdys 4: Pasirinkite elementus nuo indekso 2, praleisdami kiekvieną antrą elementą\n",
    "print(\"Pavyzdys 4:\", raides_tuple[2::2]) # Rezultatas: ('c', 'e')\n",
    "\n",
    "# Pavyzdys 5: Apsukime visą tuplą\n",
    "print(\"Pavyzdys 5:\", raides_tuple[::-1]) # Rezultatas: ('f', 'e', 'd', 'c', 'b', 'a')"
   ]
  },
  {
   "cell_type": "markdown",
   "metadata": {},
   "source": [
    "### Greitas uždavinys 3\n",
    "\n",
    "Tuplo Išpjovimas. Parašykite Python programą, kuri apibrėžia tuplą su savaitės dienomis ('`Pirmadienis`', '`Antradienis`', '`Trečiadienis`', '`Ketvirtadienis`', '`Penktadienis`', '`Šeštadienis`', '`Sekmadienis`').\n",
    "\n",
    "Išspausdinkite šias išpjovas:\n",
    "\n",
    "1. Savaitės darbo dienas (nuo pirmadienio iki penktadienio).\n",
    "2. Savaitgalio dienas (šeštadienis ir sekmadienis).\n",
    "3. Pirmoms trim savaitės dienas.\n",
    "4. Paskutinėms trim savaitės dienas.\n",
    "5. Savaitės dienas atvirkštine tvarka.\n"
   ]
  },
  {
   "cell_type": "code",
   "execution_count": 26,
   "metadata": {},
   "outputs": [
    {
     "name": "stdout",
     "output_type": "stream",
     "text": [
      "Užduotis 1: ('Pirmadienis', 'Antradienis', 'Trečiadienis', 'Ketvirtadienis', 'Penktadienis')\n",
      "Užduotis 2: ('Šeštadienis', 'Sekmadienis')\n",
      "Užduotis 3: ('Pirmadienis', 'Antradienis', 'Trečiadienis')\n",
      "Užduotis 4: ('Penktadienis', 'Šeštadienis', 'Sekmadienis')\n",
      "Užduotis 5: ('Sekmadienis', 'Šeštadienis', 'Penktadienis', 'Ketvirtadienis', 'Trečiadienis', 'Antradienis', 'Pirmadienis')\n"
     ]
    }
   ],
   "source": [
    "dienos_tuple = ('Pirmadienis', 'Antradienis', 'Trečiadienis', 'Ketvirtadienis', 'Penktadienis', 'Šeštadienis', 'Sekmadienis')\n",
    "print(\"Užduotis 1:\", dienos_tuple[0:5])\n",
    "print(\"Užduotis 2:\", dienos_tuple[5:])\n",
    "print(\"Užduotis 3:\", dienos_tuple[:3])\n",
    "print(\"Užduotis 4:\", dienos_tuple[-3:])\n",
    "print(\"Užduotis 5:\", dienos_tuple[::-1])"
   ]
  },
  {
   "cell_type": "code",
   "execution_count": 30,
   "metadata": {},
   "outputs": [
    {
     "name": "stdout",
     "output_type": "stream",
     "text": [
      "Užduotis 1: ('Pirmadienis', 'Antradienis', 'Trečiadienis', 'Ketvirtadienis', 'Penktadienis')\n",
      "Užduotis 2: ('Šeštadienis', 'Sekmadienis')\n",
      "Užduotis 3: ('Pirmadienis', 'Antradienis', 'Trečiadienis')\n",
      "Užduotis 4: ('Penktadienis', 'Šeštadienis', 'Sekmadienis')\n",
      "Užduotis 5: ('Sekmadienis', 'Šeštadienis', 'Penktadienis', 'Ketvirtadienis', 'Trečiadienis', 'Antradienis', 'Pirmadienis')\n"
     ]
    }
   ],
   "source": [
    "dienos_tuple = ('Pirmadienis', 'Antradienis', 'Trečiadienis', 'Ketvirtadienis', 'Penktadienis', 'Šeštadienis', 'Sekmadienis')\n",
    "print(\"Užduotis 1:\", dienos_tuple[0:5])\n",
    "print(\"Užduotis 2:\", dienos_tuple[5:7])\n",
    "print(\"Užduotis 3:\", dienos_tuple[:3])\n",
    "print(\"Užduotis 4:\", dienos_tuple[-3:])\n",
    "print(\"Užduotis 5:\", dienos_tuple[::-1])"
   ]
  },
  {
   "cell_type": "markdown",
   "metadata": {},
   "source": [
    "---\n",
    "\n",
    "## Tuple jungimas\n",
    "\n",
    "Norėdami sujungti du ar daugiau tuple, galite naudoti `+` operatorių. \n",
    "Šis operatorius sujungia tuple reikšmes ir grąžina naują tuple su visais elementais. \n",
    "\n",
    "**Pavyzdžiui**:"
   ]
  },
  {
   "cell_type": "code",
   "execution_count": null,
   "metadata": {},
   "outputs": [],
   "source": [
    "pirma_tuple = (1, 2, 3)\n",
    "antra_tuple = ('a', 'b', 'c')\n",
    "trecia_tuple = (True, False)\n",
    "\n",
    "naujas_tuple = pirma_tuple + antra_tuple + trecia_tuple\n",
    "\n",
    "print(naujas_tuple)"
   ]
  },
  {
   "cell_type": "markdown",
   "metadata": {},
   "source": [
    "### Greitas uždavinys 4\n",
    "\n",
    "Vaisių inventoriaus sudarymas\n",
    "\n",
    "1. Sukurkite tris tuple:\n",
    "- vaisiai: trys vaisių pavadinimai.\n",
    "- spalvos: trys atitinkamos spalvos.\n",
    "- kiekiai: trys kiekiai.\n",
    "2. Sujunkite šiuos tris tuple į vieną, pavadintą \"`inventorius`\".\n",
    "3. Atspausdinkite \"`inventorius`\" tuple.\n",
    "4. Atspausdinkite informaciją apie antrąjį vaisių \"`inventoriaus`\" tuple elementą."
   ]
  },
  {
   "cell_type": "code",
   "execution_count": null,
   "metadata": {},
   "outputs": [],
   "source": [
    "# jusu kodo vieta"
   ]
  },
  {
   "cell_type": "markdown",
   "metadata": {},
   "source": [
    "---\n",
    "\n",
    "# Tuplo metodai\n",
    "\n",
    "Tuplai yra nemutabilūs objektai, todėl jie neturi tiek daug metodų kaip sąrašai. Vis dėlto yra keletas naudingų metodų.\n",
    "\n",
    "**Štai keletas pavyzdžiu**:\n",
    "\n",
    "`count(x)` - grąžina, kiek kartų nurodytas elementas pasitaiko tuple.\n"
   ]
  },
  {
   "cell_type": "code",
   "execution_count": null,
   "metadata": {},
   "outputs": [],
   "source": [
    "raides_tuple = ('a', 'b', 'c', 'a', 'd')\n",
    "print(raides_tuple.count('a'))  # 2"
   ]
  },
  {
   "cell_type": "markdown",
   "metadata": {},
   "source": [
    "`index(x)` - grąžina pirmojo nurodyto elemento indeksą tuple."
   ]
  },
  {
   "cell_type": "code",
   "execution_count": null,
   "metadata": {},
   "outputs": [],
   "source": [
    "raides_tuple = ('a', 'b', 'c', 'a', 'd')\n",
    "print(raides_tuple.index('a'))  # 0"
   ]
  },
  {
   "cell_type": "markdown",
   "metadata": {},
   "source": [
    "### Tikrinimas, ar elementas yra tuple\n",
    "Galite patikrinti, ar tuple yra elementas naudojant `in` operatorių. Šis operatorius grąžins `True`, jei elemento reikšmė yra tuple ir `False`, jei jos nėra."
   ]
  },
  {
   "cell_type": "code",
   "execution_count": 6,
   "metadata": {},
   "outputs": [
    {
     "name": "stdout",
     "output_type": "stream",
     "text": [
      "True\n",
      "False\n"
     ]
    }
   ],
   "source": [
    "raides_tuple = ('a', 'b', 'c', 'a', 'd')\n",
    "print('a' in raides_tuple)  # True\n",
    "print('e' in raides_tuple)  # False"
   ]
  },
  {
   "cell_type": "markdown",
   "metadata": {},
   "source": [
    "### Greitas uždavinys 5\n",
    "\n",
    "Tuplo Metodų Praktika. Šioje užduotyje tyrinėsite tuplo metodus. Atlikite šias paprastas užduotis:\n",
    "\n",
    "1. Sukurkite tuplą pavadinimu \"numbers\", kuriame būtų kelios sveikosios reikšmės (pvz., 1, 2, 3, 3, 4, 5).\n",
    "2. Naudodami `count()` metodą, raskite ir atspausdinkite, kiek kartų reikšmė 3 pasitaiko \"numbers\" tuple.\n",
    "3. Naudodami `index()` metodą, raskite ir atspausdinkite pirmojo pasitaikymo reikšmės 4 indeksą \"numbers\" tuple.\n",
    "4. Patikrinkite, ar reikšmė 6 yra \"numbers\" tuple, naudodami `in` operatorių, ir atspausdinkite rezultatą.\n"
   ]
  },
  {
   "cell_type": "code",
   "execution_count": 29,
   "metadata": {},
   "outputs": [
    {
     "name": "stdout",
     "output_type": "stream",
     "text": [
      "Kiek kartų pasitaiko: 1\n",
      "Ketvirtas indeksas: 3\n",
      "Ar 6 yra tuple? : False\n"
     ]
    }
   ],
   "source": [
    "numbers = (1, 2, 3, 4, 5)\n",
    "count_iš_3 = numbers.count(3)\n",
    "print(\"Kiek kartų pasitaiko:\", count_iš_3)\n",
    "index_iš_4 = numbers.index(4)\n",
    "print(\"Ketvirtas indeksas:\", index_iš_4)\n",
    "yra_6_in_numbers = 6 in numbers\n",
    "print(\"Ar 6 yra tuple? :\", yra_6_in_numbers)"
   ]
  },
  {
   "cell_type": "markdown",
   "metadata": {},
   "source": [
    "---\n",
    "\n",
    "## Iteracija per Tuplą\n",
    "\n",
    "Tuplai, kaip sąrašai ir kiti perduodami objektai, gali būti peržiūrimi naudojant `for` ir `while` ciklus. Galite iteruoti per tuplo elementus ir vykdyti įvairias operacijas.\n",
    "\n",
    "Štai pavyzdžiai, kaip iteruoti per tuplą naudojant tiek `for`, tiek `while` ciklus:\n",
    "\n",
    "1. `for` Ciklas:"
   ]
  },
  {
   "cell_type": "code",
   "execution_count": 31,
   "metadata": {},
   "outputs": [
    {
     "name": "stdout",
     "output_type": "stream",
     "text": [
      "obuolys\n",
      "bananas\n",
      "vyšnia\n",
      "datulė\n"
     ]
    }
   ],
   "source": [
    "vaisių_tuplas = ('obuolys', 'bananas', 'vyšnia', 'datulė')\n",
    "\n",
    "# Naudodami for ciklą, iteruoti per tuplą\n",
    "for vaisius in vaisių_tuplas:\n",
    "    print(vaisius)"
   ]
  },
  {
   "cell_type": "markdown",
   "metadata": {},
   "source": [
    "2. `while` Ciklas:"
   ]
  },
  {
   "cell_type": "code",
   "execution_count": 32,
   "metadata": {},
   "outputs": [
    {
     "name": "stdout",
     "output_type": "stream",
     "text": [
      "obuolys\n",
      "bananas\n",
      "vyšnia\n",
      "datulė\n"
     ]
    }
   ],
   "source": [
    "vaisių_tuplas = ('obuolys', 'bananas', 'vyšnia', 'datulė')\n",
    "\n",
    "# Naudodami while ciklą, iteruoti per tuplą\n",
    "indeksas = 0\n",
    "while indeksas < len(vaisių_tuplas):\n",
    "    print(vaisių_tuplas[indeksas])\n",
    "    indeksas += 1"
   ]
  },
  {
   "cell_type": "markdown",
   "metadata": {},
   "source": [
    "Kaip matote, `while` cikle naudojame `len()` funkciją, kad sužinotume, kiek elementų turi tuplas. Tada, naudodami kintamąjį indeksą, kiekvienos iteracijos metu gauname reikšmę, kurią reikia atspausdinti, ir padidiname indekso reikšmę vienetu, kad pereitume prie kito tuplo elemento."
   ]
  },
  {
   "cell_type": "markdown",
   "metadata": {},
   "source": [
    "### Greitas uždavinys 6\n",
    "\n",
    "Tuplo Iteracijos Užduotis. Šioje užduotyje praktikuosite iteraciją per tuplą, naudodami tiek `for`, tiek `while` ciklus.\n",
    "\n",
    "Atlikite šias užduotis:\n",
    "\n",
    "1. Sukurkite tuplą pavadinimu \"`mėnesiai`\", kuriame būtų metų mėnesių pavadinimai.\n",
    "2. Naudodami for ciklą, iteruokite per \"`mėnesiai`\" tuplą ir atspausdinkite kiekvieno mėnesio pavadinimą.\n",
    "3. Naudodami while ciklą, iteruokite per \"`mėnesiai`\" tuplą ir atspausdinkite kiekvieno mėnesio pavadinimą.\n",
    "4. Raskite ir atspausdinkite \"`mėnesiai`\" tuplo ilgį.\n"
   ]
  },
  {
   "cell_type": "code",
   "execution_count": 44,
   "metadata": {},
   "outputs": [
    {
     "name": "stdout",
     "output_type": "stream",
     "text": [
      "Sausis\n",
      "Vasaris\n",
      "Kovas\n",
      "Balandis\n",
      "Gegužė\n",
      "Birželis\n",
      "Liepa\n",
      "Rugpjūtis\n",
      "Rugsėjis\n",
      "Spalis\n",
      "Lapkritis\n",
      "Gruodis\n",
      "\n",
      "Whailo ciklas per mėnesius:\n",
      "Sausis\n",
      "Vasaris\n",
      "Kovas\n",
      "Balandis\n",
      "Gegužė\n",
      "Birželis\n",
      "Liepa\n",
      "Rugpjūtis\n",
      "Rugsėjis\n",
      "Spalis\n",
      "Lapkritis\n",
      "Gruodis\n",
      "\n",
      "Mėnesių tuplo ilgis: 12\n"
     ]
    }
   ],
   "source": [
    "mėnesiai_tuplas = ('Sausis', 'Vasaris', 'Kovas', 'Balandis', 'Gegužė', 'Birželis', 'Liepa', 'Rugpjūtis', 'Rugsėjis', 'Spalis', 'Lapkritis', 'Gruodis')\n",
    "for mėnesiai in mėnesiai_tuplas:\n",
    "    print(mėnesiai)\n",
    "\n",
    "print(\"\\nWhailo ciklas per mėnesius:\")\n",
    "index = 0\n",
    "while index < len(mėnesiai_tuplas):\n",
    "    print(mėnesiai_tuplas[index])\n",
    "    index += 1\n",
    "\n",
    "print(\"\\nMėnesių tuplo ilgis:\", len(mėnesiai_tuplas))"
   ]
  },
  {
   "cell_type": "code",
   "execution_count": 47,
   "metadata": {},
   "outputs": [
    {
     "name": "stdout",
     "output_type": "stream",
     "text": [
      "Sausis\n",
      "Vasaris\n",
      "Kovas\n",
      "Balandis\n",
      "Gegužė\n",
      "Birželis\n",
      "Liepa\n",
      "Rugpjūtis\n",
      "Rugsėjis\n",
      "Spalis\n",
      "Lapkritis\n",
      "Gruodis\n",
      "\n",
      "Whailo ciklas per mėnesius:\n",
      "Sausis, Vasaris, Kovas, Balandis, Gegužė, Birželis, Liepa, Rugpjūtis, Rugsėjis, Spalis, Lapkritis, Gruodis, \n",
      "\n",
      "Mėnesių tuplo ilgis: 12\n"
     ]
    }
   ],
   "source": [
    "mėnesiai_tuplas = ('Sausis', 'Vasaris', 'Kovas', 'Balandis', 'Gegužė', 'Birželis', 'Liepa', 'Rugpjūtis', 'Rugsėjis', 'Spalis', 'Lapkritis', 'Gruodis')\n",
    "for mėnesiai in mėnesiai_tuplas:\n",
    "    print(mėnesiai)\n",
    "\n",
    "print(\"\\nWhailo ciklas per mėnesius:\")\n",
    "index = 0\n",
    "while index < len(mėnesiai_tuplas):\n",
    "    print(mėnesiai_tuplas[index], end=', ')\n",
    "    index += 1\n",
    "\n",
    "print(\"\\n\\nMėnesių tuplo ilgis:\", len(mėnesiai_tuplas))"
   ]
  },
  {
   "cell_type": "markdown",
   "metadata": {},
   "source": [
    "## Papildomas uždavinys: Tuplo Manipuliavimas\n",
    "\n",
    "Šiame papildomame uždavinyje tyrinėsite sudėtingesnes tuplo operacijas, įskaitant manipuliavimą ir transformacijas. \n",
    "\n",
    "Atlikite šias užduotis:\n",
    "\n",
    "1. Sukurkite tuplą pavadinimu \"`prasomas_tuplas`\", kuriame būtų įvairių duomenų tipų, įskaitant skaičius, tekstus ir sąrašus.\n",
    "2. Konvertuokite \"`prasomas_tuplas`\" į sąrašą pavadinimu \"`modifikuotas_sarasas`\".\n",
    "3. Modifikuokite \"`modifikuotas_sarasas`\", pašalindami pirmąjį ir paskutinį elementus.\n",
    "4. Konvertuokite \"`modifikuotas_sarasas`\" atgal į tuplą pavadinimu \"`naujas_tuplas`\".\n",
    "5. Raskite ir atspausdinkite, kiek elementų buvo pašalinta iš \"`prasomas_tuplas`\", kad sukurtumėte \"`naujas_tuplas`\".\n",
    "6. Sukurkite naują tuplą pavadinimu \"`skaiciu_tuplas`\", kuriame būtų tik skaitinės vertės iš \"`prasomas_tuplas`\".\n",
    "7. Apskaičiuokite ir atspausdinkite visų skaitinių verčių sumą \"`skaiciu_tuplas`\".\n",
    "8. Sukurkite naują tuplą pavadinimu \"`teksto_ilgiai_tuplas`\", kuriame būtų visų \"`prasomas_tuplas`\" teksto ilgiai.\n",
    "9. Atspausdinkite \"teksto_ilgiai_tuplas\".\n",
    "10. Galiausiai, sukurkite žodyną pavadinimu \"`duomenų_zodynas`\" su šiais raktais ir atitinkamomis reikšmėmis:\n",
    "    \"`prasomas_tuplas`\": `prasomas_tuplas`\n",
    "    \"`modifikuotas_sarasas`\": `modifikuotas_sarasas`\n",
    "    \"`naujas_tuplas`\": `naujas_tuplas`\n",
    "    \"`skaiciu_tuplas`\": `skaiciu_tuplas`\n",
    "    \"`teksto_ilgiai_tuplas`\": `texto_ilgiai_tuplas`\n",
    "\n",
    "Jūsų galutinis rezultatas turėtų parodyti kiekvieno žingsnio rezultatus, įskaitant \"`duomenų_zodynas`\" turinį.\n"
   ]
  },
  {
   "cell_type": "code",
   "execution_count": 5,
   "metadata": {},
   "outputs": [
    {
     "name": "stdout",
     "output_type": "stream",
     "text": [
      "Ištrinta elementų: 2\n",
      "Tuplo skaičių suma: 795\n",
      "Tuplo teksto ilgis: (2, 2, 6, 3)\n",
      "\n",
      "Duomenų žodynas:\n",
      "prašomas_tuplas: (746, 'CD', [6, 4, 7], 'BD', 49, '4K UHD', 'DVD')\n",
      "modifikuotas_sąrašas: ['CD', [6, 4, 7], 'BD', 49, '4K UHD']\n",
      "naujas_tuplas: ('CD', [6, 4, 7], 'BD', 49, '4K UHD')\n",
      "skaičių_tuplas: (746, 49)\n",
      "teksto_ilgio_tuplas: (2, 2, 6, 3)\n"
     ]
    }
   ],
   "source": [
    "prašomas_tuplas = (746, 'CD', [6, 4, 7], 'BD', 49, '4K UHD', 'DVD')\n",
    "modifikuotas_sąrašas = list(prašomas_tuplas)\n",
    "\n",
    "modifikuotas_sąrašas.pop(0)\n",
    "modifikuotas_sąrašas.pop(-1)\n",
    "\n",
    "naujas_tuplas = tuple(modifikuotas_sąrašas)\n",
    "\n",
    "pašalinti_elementai = len(prašomas_tuplas) - len(naujas_tuplas)\n",
    "print(\"Ištrinta elementų:\", pašalinti_elementai)\n",
    "\n",
    "skaičių_tuplas = tuple(item for item in prašomas_tuplas if isinstance(item, (int, float)))\n",
    "\n",
    "suma_skaičių_tuplas = sum(skaičių_tuplas)\n",
    "print(\"Tuplo skaičių suma:\", suma_skaičių_tuplas)\n",
    "\n",
    "teksto_ilgio_tuplas = tuple(len(item) for item in prašomas_tuplas if isinstance(item, str))\n",
    "\n",
    "print(\"Tuplo teksto ilgis:\", teksto_ilgio_tuplas)\n",
    "\n",
    "duomenų_zodynas = {\n",
    "    \"prašomas_tuplas\": prašomas_tuplas,\n",
    "    \"modifikuotas_sąrašas\": modifikuotas_sąrašas,\n",
    "    \"naujas_tuplas\": naujas_tuplas,\n",
    "    \"skaičių_tuplas\": skaičių_tuplas,\n",
    "    \"teksto_ilgio_tuplas\": teksto_ilgio_tuplas\n",
    "}\n",
    "\n",
    "print(\"\\nDuomenų žodynas:\")\n",
    "for key, value in duomenų_zodynas.items():\n",
    "    print(f\"{key}: {value}\")"
   ]
  }
 ],
 "metadata": {
  "kernelspec": {
   "display_name": "venv",
   "language": "python",
   "name": "python3"
  },
  "language_info": {
   "codemirror_mode": {
    "name": "ipython",
    "version": 3
   },
   "file_extension": ".py",
   "mimetype": "text/x-python",
   "name": "python",
   "nbconvert_exporter": "python",
   "pygments_lexer": "ipython3",
   "version": "3.12.1"
  }
 },
 "nbformat": 4,
 "nbformat_minor": 2
}
