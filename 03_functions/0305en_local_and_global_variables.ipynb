{
 "cells": [
  {
   "cell_type": "markdown",
   "metadata": {},
   "source": [
    "# Local and Global Variables\n",
    "\n",
    "In Python programming, there are different types of variables, including numbers, strings, lists, dictionaries, and so on. \n",
    "\n",
    "Variables can be defined either `globally` or `locally`, depending on where they are defined and accessible.\n",
    "- `Global Variables` are defined at the beginning of a program and can be accessed throughout the entire program.\n",
    "- `Local Variables` are defined inside a function and can only be accessed within that function.\n",
    "\n",
    "**Here's an example**:"
   ]
  },
  {
   "cell_type": "code",
   "execution_count": null,
   "metadata": {},
   "outputs": [],
   "source": [
    "x = \"global value\"\n",
    "\n",
    "def my_function():\n",
    "    x = \"local variable\"\n",
    "    print(\"Inside the function, x has the value:\", x)\n",
    "\n",
    "my_function()\n",
    "\n",
    "print(\"Global x has the value:\", x)"
   ]
  },
  {
   "cell_type": "markdown",
   "metadata": {},
   "source": [
    "This example defines a global variable \"`x`\" and a function called \"`my_function()`\" which defines a `local variable` \"`x`\" inside it. Then, the function is called, and it prints the value of the local variable \"`x`\".\n",
    "\n",
    "The final output is \"Global x has the value: `global value`\" because the function defines a new local variable \"`x`\" inside it, which does not change the value of the global variable \"`x`\".\n",
    "\n",
    "Here's another example that uses a global and local variable, but this time the global variable is modified inside the function using the \"`global`\" keyword:"
   ]
  },
  {
   "cell_type": "code",
   "execution_count": null,
   "metadata": {},
   "outputs": [],
   "source": [
    "x = 10\n",
    "\n",
    "def my_function():\n",
    "    global x\n",
    "    x = 20\n",
    "    print(\"Inside the function, x has the value:\", x)\n",
    "\n",
    "my_function()\n",
    "\n",
    "print(\"Global x has the value:\", x)"
   ]
  },
  {
   "cell_type": "markdown",
   "metadata": {},
   "source": [
    "In this program, a global variable \"`x`\" is defined, and the function \"`my_function()`\" modifies the value of the global variable \"`x`\" to 20 using the \"`global`\" keyword.\n",
    "\n",
    "The final output is \"Global x has the value: `20`\" because the function changed the value of the global variable \"`x`\"."
   ]
  }
 ],
 "metadata": {
  "kernelspec": {
   "display_name": "Python 3",
   "language": "python",
   "name": "python3"
  },
  "language_info": {
   "codemirror_mode": {
    "name": "ipython",
    "version": 3
   },
   "file_extension": ".py",
   "mimetype": "text/x-python",
   "name": "python",
   "nbconvert_exporter": "python",
   "pygments_lexer": "ipython3",
   "version": "3.10.6"
  },
  "orig_nbformat": 4
 },
 "nbformat": 4,
 "nbformat_minor": 2
}
