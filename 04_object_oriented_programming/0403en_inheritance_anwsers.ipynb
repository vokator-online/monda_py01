{
 "cells": [
  {
   "cell_type": "markdown",
   "metadata": {},
   "source": [
    "### Assignment 1\n"
   ]
  },
  {
   "cell_type": "code",
   "execution_count": null,
   "metadata": {},
   "outputs": [],
   "source": [
    "class Animal:\n",
    "     def __init__(self, name):\n",
    "         self.name = name\n",
    "\n",
    "     def voice(self):\n",
    "         pass\n",
    "\n",
    "     def move(self):\n",
    "         print('I lie still...')\n",
    "\n",
    "class Cat(Animal):\n",
    "     def voice(self):\n",
    "         print('Meow')\n",
    "\n",
    "     def move(self):\n",
    "         print('Walking slowly')\n",
    "\n",
    "class Dog(Animal):\n",
    "     def voice(self):\n",
    "         print('Woof Woof!')\n",
    "\n",
    "     def move(self):\n",
    "         print('I run fast')\n",
    "\n",
    "\n",
    "skunk = Animal('Grey')\n",
    "cat = Cat('Snowball')\n",
    "dog = Dog('Buddy')\n",
    "\n",
    "print(skunk.name)\n",
    "skunk.voice()\n",
    "skunk.move()\n",
    "\n",
    "print(cat.name)\n",
    "cat.voice()\n",
    "cat.move()\n",
    "\n",
    "print(dog.name)\n",
    "dog.voice()\n",
    "dog.move()"
   ]
  },
  {
   "cell_type": "markdown",
   "metadata": {},
   "source": [
    "# assignment 1 lt"
   ]
  },
  {
   "cell_type": "code",
   "execution_count": null,
   "metadata": {},
   "outputs": [],
   "source": [
    "class Gyvunas:\n",
    "    def __init__(self, vardas):\n",
    "        self.vardas = vardas\n",
    "\n",
    "    def balsas(self):\n",
    "        pass\n",
    "\n",
    "    def judeti(self):\n",
    "        print(\"nejudu\")\n",
    "        return f\"{self.vardas}\"\n",
    "\n",
    "class Kate(Gyvunas):\n",
    "    def balsas(self):\n",
    "        print(\"Miau!\")\n",
    "\n",
    "    def judeti(self):\n",
    "        print(\"šliaužia tyliai.\")\n",
    "\n",
    "class Suo(Gyvunas):\n",
    "    def balsas(self):\n",
    "        print(\"Au au!\")\n",
    "\n",
    "    def judeti(self):\n",
    "        print(\"bėgioja džiugiai.\")\n",
    "\n",
    "# Gyvūnų objektų sukūrimas\n",
    "vezlys = Gyvunas(\"Tinginys\")\n",
    "murka = Kate('Murka')\n",
    "rexas = Suo('Rexas')\n",
    "\n",
    "# Iškviečiame metodų pavyzdžius\n",
    "print(vezlys.vardas)\n",
    "vezlys.judeti()\n",
    "\n",
    "print(murka.vardas)\n",
    "murka.balsas()\n",
    "murka.judeti()\n",
    "\n",
    "print(rexas.vardas)\n",
    "rexas.balsas()\n",
    "rexas.judeti()"
   ]
  },
  {
   "cell_type": "markdown",
   "metadata": {},
   "source": [
    "### Assignment 2"
   ]
  },
  {
   "cell_type": "code",
   "execution_count": null,
   "metadata": {},
   "outputs": [],
   "source": [
    "print(isinstance(skunk, Animal))\n",
    "print(isinstance(skunk, Cat))\n",
    "print(isinstance(skunk, Dog))\n",
    "print(isinstance(cat, Animal))\n",
    "print(isinstance(cat, Cat))\n",
    "print(isinstance(cat, Dog))\n",
    "print(isinstance(dog, Animal))\n",
    "print(isinstance(dog, Cat))\n",
    "print(isinstance(dog, Dog))"
   ]
  }
 ],
 "metadata": {
  "kernelspec": {
   "display_name": "Python 3",
   "language": "python",
   "name": "python3"
  },
  "language_info": {
   "codemirror_mode": {
    "name": "ipython",
    "version": 3
   },
   "file_extension": ".py",
   "mimetype": "text/x-python",
   "name": "python",
   "nbconvert_exporter": "python",
   "pygments_lexer": "ipython3",
   "version": "3.10.6"
  },
  "orig_nbformat": 4
 },
 "nbformat": 4,
 "nbformat_minor": 2
}
