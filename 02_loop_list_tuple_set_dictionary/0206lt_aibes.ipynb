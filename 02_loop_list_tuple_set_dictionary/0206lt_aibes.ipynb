{
 "cells": [
  {
   "cell_type": "markdown",
   "metadata": {},
   "source": [
    "# Aibės (`set`)\n",
    "\n",
    "Aibės (`set`) yra kolekcijos tipo objektai, kurie skiriasi nuo sąrašų ir tuplų tuo, kad jie saugo tik unikalius elementus. \n",
    "- Tai reiškia, kad jei bandoma pridėti elementą, kuris jau egzistuoja aibėje, jis nebus pridėtas ir nebus rodomas kelis kartus. \n",
    "- Skirtingai nuo sąrašų ir tuplų, kurie gali saugoti dublikatus, aibės dublikatų neišlaiko. \n",
    "- Kitas svarbus skirtumas yra tas, kad aibės nenaudoja indeksų, todėl jų elementų tvarka nėra nurodyta."
   ]
  },
  {
   "cell_type": "markdown",
   "metadata": {},
   "source": [
    "## Aibių sukūrimas\n",
    "\n",
    "Aibės gali būti sukurtos paprasčiausiai išvardijant elementus tarp skliaustų `{}`, atskirtus kableliais. \n",
    "\n",
    "**Pavyzdžiui**:"
   ]
  },
  {
   "cell_type": "code",
   "execution_count": null,
   "metadata": {},
   "outputs": [],
   "source": [
    "mano_aibe = {'obuolys', 'bananas', 'apelsinas'}\n",
    "print(mano_aibe)\n",
    "\n",
    "# Norint sukurti tuščią aibę, galite pasinaudoti funkcija set():\n",
    "tuscia_aibe = set()\n",
    "print(tuscia_aibe)"
   ]
  },
  {
   "cell_type": "markdown",
   "metadata": {},
   "source": [
    "---\n",
    "\n",
    "## Aibių Metodai\n",
    "\n",
    "Aibės pasižymi įvairiais metodais, kurie palengvina elementų paiešką, filtravimą, rikiavimą ir pan. \n",
    "\n",
    "Štai keletas pagrindinių aibių metodų su aiškesniais pavyzdžiais:\n",
    "\n",
    "`add()` - prideda vieną elementą į aibę:"
   ]
  },
  {
   "cell_type": "code",
   "execution_count": null,
   "metadata": {},
   "outputs": [],
   "source": [
    "aibe = {1, 2, 3}\n",
    "aibe.add(4)\n",
    "print(aibe)  # {1, 2, 3, 4}"
   ]
  },
  {
   "cell_type": "markdown",
   "metadata": {},
   "source": [
    "### Greitas uždavinys 1\n",
    "\n",
    "1. Sukurkite aibę su skaičiais.\n",
    "1. Pridėkite keletą skaičių į aibę.\n",
    "1. Atspausdinkite aibę su pridėtais naujais skaičiais."
   ]
  },
  {
   "cell_type": "code",
   "execution_count": null,
   "metadata": {},
   "outputs": [],
   "source": [
    "# jusu kodo vieta"
   ]
  },
  {
   "cell_type": "markdown",
   "metadata": {},
   "source": [
    "---\n",
    "\n",
    "`update()` - prideda kitą aibę arba sąrašą į aibę:"
   ]
  },
  {
   "cell_type": "code",
   "execution_count": null,
   "metadata": {},
   "outputs": [],
   "source": [
    "aibe = {1, 2, 3}\n",
    "sarasas = [3, 4, 5]\n",
    "aibe.update(sarasas)\n",
    "print(aibe)  # {1, 2, 3, 4, 5}"
   ]
  },
  {
   "cell_type": "markdown",
   "metadata": {},
   "source": [
    "❗ Aibėje negali būti saugomi pasikartojantys elementai. \n",
    "\n",
    "Jeigu bandote pridėti elementą, kuris jau yra aibėje, jis tiesiog nebus pridėtas ir nieko neįvyks."
   ]
  },
  {
   "cell_type": "markdown",
   "metadata": {},
   "source": [
    "### Greitas uždavinys 2\n",
    "\n",
    "Sukurkite dvi aibes su keliais skirtingais ir vienodais elementais. Sujunkite abi aibes ir atspausdinkite rezultatą."
   ]
  },
  {
   "cell_type": "code",
   "execution_count": null,
   "metadata": {},
   "outputs": [],
   "source": [
    "# jusu kodo vieta"
   ]
  },
  {
   "cell_type": "markdown",
   "metadata": {},
   "source": [
    "---\n",
    "\n",
    "`remove()` - pašalina elementą iš aibės. Jeigu elemento nėra aibėje, išmetamas `KeyError` klaidos pranešimas:"
   ]
  },
  {
   "cell_type": "code",
   "execution_count": null,
   "metadata": {},
   "outputs": [],
   "source": [
    "aibe = {1, 2, 3}\n",
    "aibe.remove(2)\n",
    "print(aibe)  # {1, 3}"
   ]
  },
  {
   "cell_type": "markdown",
   "metadata": {},
   "source": [
    "`discard()` - pašalina elementą iš aibės. Jeigu elemento nėra aibėje, jokio klaidos pranešimo nėra:"
   ]
  },
  {
   "cell_type": "code",
   "execution_count": null,
   "metadata": {},
   "outputs": [],
   "source": [
    "aibe = {1, 2, 3}\n",
    "aibe.discard(2)\n",
    "print(aibe)  # {1, 3}\n"
   ]
  },
  {
   "cell_type": "markdown",
   "metadata": {},
   "source": [
    "### Greitas uždavinys 3\n",
    "\n",
    "**Instrukcijos**:\n",
    "\n",
    "1. Sukurkite aibę su skaičiais.\n",
    "1. Pašalinkite keletą skaičių iš aibės.\n",
    "1. Atspausdinkite atnaujintą aibę."
   ]
  },
  {
   "cell_type": "code",
   "execution_count": null,
   "metadata": {},
   "outputs": [],
   "source": [
    "# jusu kodo vieta"
   ]
  },
  {
   "cell_type": "markdown",
   "metadata": {},
   "source": [
    "---\n",
    "\n",
    "`pop()` - pašalina ir grąžina bet kurį elementą iš aibės. Jeigu aibė yra tuščia, išmetamas `KeyError` klaidos pranešimas:"
   ]
  },
  {
   "cell_type": "code",
   "execution_count": null,
   "metadata": {},
   "outputs": [],
   "source": [
    "aibe = {1, 2, 3}\n",
    "elementas = aibe.pop()\n",
    "print(aibe)  # {2, 3}\n",
    "print(elementas)  # 1"
   ]
  },
  {
   "cell_type": "markdown",
   "metadata": {},
   "source": [
    "### Greitas uždavinys 4\n",
    "\n",
    "Sukurkite aibę skaičių. Ištraukite bet kokį element1 iš aibės ir jį atspausdinkite. Taip pat atspausdinkite likusią aibę."
   ]
  },
  {
   "cell_type": "code",
   "execution_count": null,
   "metadata": {},
   "outputs": [],
   "source": [
    "# jusu kodo vieta"
   ]
  },
  {
   "cell_type": "markdown",
   "metadata": {},
   "source": [
    "---\n",
    "\n",
    "`clear()` - pašalina visus elementus iš aibės:"
   ]
  },
  {
   "cell_type": "code",
   "execution_count": null,
   "metadata": {},
   "outputs": [],
   "source": [
    "aibe = {1, 2, 3}\n",
    "aibe.clear()\n",
    "print(aibe)  # set()"
   ]
  },
  {
   "cell_type": "markdown",
   "metadata": {},
   "source": [
    "`copy()` - grąžina aibės kopiją:"
   ]
  },
  {
   "cell_type": "code",
   "execution_count": null,
   "metadata": {},
   "outputs": [],
   "source": [
    "aibe = {1, 2, 3}\n",
    "kopija = aibe.copy()\n",
    "print(kopija)  # {1, 2, 3}"
   ]
  },
  {
   "cell_type": "markdown",
   "metadata": {},
   "source": [
    "`union()` - sujungia aibes be pasikantojančių elementų:"
   ]
  },
  {
   "cell_type": "code",
   "execution_count": null,
   "metadata": {},
   "outputs": [],
   "source": [
    "aibe1 = {1, 2, 3}\n",
    "aibe2 = {3, 4, 5}\n",
    "aibe3 = aibe1.union(aibe2)\n",
    "print(aibe3)  # {1, 2, 3, 4, 5}"
   ]
  },
  {
   "cell_type": "markdown",
   "metadata": {},
   "source": [
    "`intersection()` - grąžina visus elementus, kurie yra abiejose aibėse:"
   ]
  },
  {
   "cell_type": "code",
   "execution_count": null,
   "metadata": {},
   "outputs": [],
   "source": [
    "aibe1 = {1, 2, 3}\n",
    "aibe2 = {3, 4, 5}\n",
    "aibe4 = aibe1.intersection(aibe2)\n",
    "print(aibe4)  # {3}"
   ]
  },
  {
   "cell_type": "markdown",
   "metadata": {},
   "source": [
    "### Greitas uždavinys 5\n",
    "\n",
    "**Instrukcijos**\n",
    "\n",
    "- Sukurkite dvi aibes su skirtingu kiekiu elementų, iš kurių keli sutampa.\n",
    "- Atspausdinkite tų aibių uniją (union).\n",
    "- Atspausdinkite tų aibių sankirtą (intersection)"
   ]
  },
  {
   "cell_type": "code",
   "execution_count": null,
   "metadata": {},
   "outputs": [],
   "source": [
    "# jusu kodo vieta"
   ]
  },
  {
   "cell_type": "markdown",
   "metadata": {},
   "source": [
    "---\n",
    "\n",
    "`difference()` - grąžina visus elementus, kurie yra pirmoje aibėje, bet nėra antroje aibėje:"
   ]
  },
  {
   "cell_type": "code",
   "execution_count": null,
   "metadata": {},
   "outputs": [],
   "source": [
    "aibe1 = {1, 2, 3}\n",
    "aibe2 = {3, 4, 5}\n",
    "aibe5 = aibe1.difference(aibe2)\n",
    "print(aibe5)  # {1, 2}"
   ]
  },
  {
   "cell_type": "markdown",
   "metadata": {},
   "source": [
    "### Greitas uždavinys 6\n",
    "\n",
    "**Instrukcijos**:\n",
    "\n",
    "- Sukurkite dvi aibes su skirtingu kiekiu elementų, iš kurių keli sutampa.\n",
    "- atspausdinkite tik tuos elementus pirmosios aibės, kurie nesutampa su antrosios aibės elementais.\n",
    "- atspausdinkite tik tuos elementus antrosios aibės, kurie nesutampa su pirmosios aibės elementais."
   ]
  },
  {
   "cell_type": "code",
   "execution_count": null,
   "metadata": {},
   "outputs": [],
   "source": [
    "# jusu kodo vieta"
   ]
  },
  {
   "cell_type": "markdown",
   "metadata": {},
   "source": [
    "---\n",
    "\n",
    "`symmetric_difference()` - Symetrinio skirtumo aibės metodas grąžina naują aibę, kurią sudaro elementai, esantys vienoje arba kitoje aibėje, bet ne abiejose."
   ]
  },
  {
   "cell_type": "code",
   "execution_count": null,
   "metadata": {},
   "outputs": [],
   "source": [
    "aibe1 = {1, 2, 3}\n",
    "aibe2 = {3, 4, 5}\n",
    "\n",
    "sym_skirtumas = aibe1.symmetric_difference(aibe2)\n",
    "print(sym_skirtumas)  # {1, 2, 4, 5}"
   ]
  },
  {
   "cell_type": "markdown",
   "metadata": {},
   "source": [
    "### Greitas uždavinys 7\n",
    "\n",
    "**Instrukcijos**:\n",
    "\n",
    "- Sukurkite dvi aibes su skirtingu kiekiu elementų, iš kurių keli sutampa.\n",
    "- atspausdinkite tik tuos elementus, kurie nesikartoja abejose aibėse."
   ]
  },
  {
   "cell_type": "code",
   "execution_count": null,
   "metadata": {},
   "outputs": [],
   "source": [
    "# jusu kodo vieta"
   ]
  },
  {
   "cell_type": "markdown",
   "metadata": {},
   "source": [
    "---\n",
    "\n",
    "## Aibių operatoriai\n",
    "\n",
    "Sąjunga (`|`):\n",
    "- Jungia dvi aibes, įtraukiant visas unikalias abiejų aibių reikšmes.\n",
    "\n",
    "Sankirta (`&`):\n",
    "- Atranda bendras reikšmes dviejose aibėse.\n",
    "\n",
    "Skirtumas (`-`):\n",
    "- Atima antrosios aibės elementus iš pirmosios aibės.\n",
    "\n",
    "Simetrinis Skirtumas (`^`):\n",
    "- Atranda elementus, unikalius kiekvienai aibei, neįtraukiant bendrų elementų."
   ]
  },
  {
   "cell_type": "code",
   "execution_count": null,
   "metadata": {},
   "outputs": [],
   "source": [
    "aibe1 = {1, 2, 3}\n",
    "aibe2 = {3, 4, 5}\n",
    "\n",
    "sujungimas = aibe1 | aibe2\n",
    "print(sujungimas)\n",
    "# Rezultatas: {1, 2, 3, 4, 5}\n",
    "\n",
    "sankirta = aibe1 & aibe2\n",
    "print(sankirta)\n",
    "# Rezultatas: {3}\n",
    "\n",
    "skirtumas = aibe1 - aibe2\n",
    "print(skirtumas)\n",
    "# Rezultatas: {1, 2}\n",
    "\n",
    "simetrinis_skirtumas = aibe1 ^ aibe2\n",
    "print(simetrinis_skirtumas)\n",
    "# Rezultatas: {1, 2, 4, 5}"
   ]
  },
  {
   "cell_type": "markdown",
   "metadata": {},
   "source": [
    "Šie operatoriai leidžia atlikti greitesnes ir efektyviasnes aibių operacijas Python programavimo kalboje."
   ]
  },
  {
   "cell_type": "markdown",
   "metadata": {},
   "source": [
    "### Greitas uždavinys 8\n",
    "\n",
    "**Instrukcijos**:\n",
    "\n",
    "- Sukurkite dvi aibes su skirtingu kiekiu elementų, iš kurių keli sutampa.\n",
    "- atspausdinkite šių aibių sujungimą, sankirtą, skirtumą ir simetrinį skirtumą atskirose eilutėse."
   ]
  },
  {
   "cell_type": "code",
   "execution_count": null,
   "metadata": {},
   "outputs": [],
   "source": [
    "# jusu kodo vieta"
   ]
  },
  {
   "cell_type": "markdown",
   "metadata": {},
   "source": [
    "---\n",
    "\n",
    "## Aibių iteravimas\n",
    "\n",
    "Aibės yra iteruojamos struktūros, kurias galima lengvai peržiūrėti su ciklais arba įvairiais aibių metodais.\n",
    "\n",
    "**Pavyzdžiui**:"
   ]
  },
  {
   "cell_type": "code",
   "execution_count": null,
   "metadata": {},
   "outputs": [],
   "source": [
    "aibe = {1, 2, 3}\n",
    "for elementas in aibe:\n",
    "    print(elementas)"
   ]
  },
  {
   "cell_type": "markdown",
   "metadata": {},
   "source": [
    "## Aibių manipuliavimas\n",
    "Aibes galima transformuoti į kitus duomenų struktūrų tipus, tokius kaip sąrašai ir tuplai, bei atvirkščiai. \n",
    "\n",
    "Pažiūrėkime į kai kuriuos pavyzdžius:"
   ]
  },
  {
   "cell_type": "code",
   "execution_count": null,
   "metadata": {},
   "outputs": [],
   "source": [
    "# Sukuriama aibė\n",
    "mano_aibe = {1, 2, 3}\n",
    "\n",
    "# Konvertuojame aibę į sąrašą\n",
    "print(\"mano aibė kaip sąrašas:\", list(mano_aibe), type(list(mano_aibe)))  # [1, 2, 3] <class 'list'>\n",
    "\n",
    "# Konvertuojame aibę į tuplą\n",
    "print(\"mano aibė kaip tuplas:\", tuple(mano_aibe), type(tuple(mano_aibe)))  # (1, 2, 3) <class 'tuple'>\n",
    "\n",
    "# Konvertuojame sąrašą ir tuplą į aibę\n",
    "mano_sarasas = [1, 2, 3]\n",
    "mano_tuple = (1, 2, 3)\n",
    "\n",
    "print(\"mano sąrašas kaip aibė:\", set(mano_sarasas), type(set(mano_sarasas)))  # {1, 2, 3} <class 'set'>\n",
    "print(\"mano tuplė kaip aibė:\", set(mano_tuple), type(set(mano_tuple)))  # {1, 2, 3} <class 'set'>"
   ]
  },
  {
   "cell_type": "markdown",
   "metadata": {},
   "source": [
    "# `Papildomas uždavinys`\n",
    "\n",
    "**Instrukcijos**:\n",
    "\n",
    "1. Pasinaudodami paskutine aibe, kurią sukūrėte, pakelkite kvadratu visus jos skaičius.\n",
    "1. Spausdinkite rezultatą."
   ]
  },
  {
   "cell_type": "code",
   "execution_count": null,
   "metadata": {},
   "outputs": [],
   "source": [
    "# jusu kodo vieta"
   ]
  },
  {
   "cell_type": "markdown",
   "metadata": {},
   "source": [
    "### Daugiau apie aibes:\n",
    "[Kodėl aibės yra tokios](https://www.youtube.com/watch?v=Gp-qih4T9tA),\n",
    "\n",
    "[Visi aibių metodai](https://www.w3schools.com/python/python_sets_methods.asp),\n",
    "\n",
    "[Oficiali Python dokumentacija](https://docs.python.org/3/tutorial/datastructures.html#sets). \n",
    "- Net jei iš karto nesuprasite visų nuansų, tai ateityje bus esminė informacija."
   ]
  }
 ],
 "metadata": {
  "kernelspec": {
   "display_name": "venv",
   "language": "python",
   "name": "python3"
  },
  "language_info": {
   "codemirror_mode": {
    "name": "ipython",
    "version": 3
   },
   "file_extension": ".py",
   "mimetype": "text/x-python",
   "name": "python",
   "nbconvert_exporter": "python",
   "pygments_lexer": "ipython3",
   "version": "3.11.7"
  }
 },
 "nbformat": 4,
 "nbformat_minor": 2
}
