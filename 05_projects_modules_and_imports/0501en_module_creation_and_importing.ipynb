{
 "cells": [
  {
   "cell_type": "markdown",
   "metadata": {},
   "source": [
    "# Module Creation and Importing"
   ]
  },
  {
   "cell_type": "markdown",
   "metadata": {},
   "source": [
    "A module is a concept in the Python programming language that defines a single file containing Python code. Modules help organize and compartmentalize code into separate parts based on functionality, making it more understandable and organized.\n",
    "\n",
    "To create a new Python file (with a .py extension) and write code in it, you can, for example, create a file named \"`my_module.py`,\" and you will create a new module called \"`my_module`.\"\n",
    "\n",
    "Example:\n",
    "\n",
    "my_module.py:"
   ]
  },
  {
   "cell_type": "code",
   "execution_count": null,
   "metadata": {},
   "outputs": [],
   "source": [
    "def greet(name):\n",
    "    return f\"Hello, {name}!\"\n",
    "\n",
    "def addition(x, y):\n",
    "    return x + y\n",
    "\n",
    "class MyClass:\n",
    "    def __init__(self, x):\n",
    "        self.x = x\n",
    "\n",
    "    def square(self):\n",
    "        return self.x ** 2\n"
   ]
  },
  {
   "cell_type": "markdown",
   "metadata": {},
   "source": [
    "In this example, we have created a module called \"my_module,\" which contains the functions `greet` and `addition`, as well as the class `MyClass`. To use the functions and classes from this module in another file, you need to import it.\n",
    "\n",
    "### Importing Functions or Classes\n",
    "\n",
    "Python allows you to import specific functions or classes from modules or packages, ensuring that you only import what you need and reducing memory usage. \n",
    "\n",
    "For example:"
   ]
  },
  {
   "cell_type": "code",
   "execution_count": null,
   "metadata": {},
   "outputs": [],
   "source": [
    "from my_module import MyClass\n",
    "from math import sqrt\n"
   ]
  },
  {
   "cell_type": "markdown",
   "metadata": {},
   "source": [
    "Here, we're importing the `MyClass` from \"my_module\" and the `sqrt` function from the Python standard library's \"math\" module. The sqrt function calculates the square root of a number when given as an argument."
   ]
  },
  {
   "cell_type": "markdown",
   "metadata": {},
   "source": [
    "### Quick assignment 1: Creating and using the \"math.py\" Module\n",
    "\n",
    "#### Task 1\n",
    "\n",
    "Create a new Python module named \"math.py.\" Inside this module, define the following functions:\n",
    "\n",
    "1. multiply(x, y): Returns the product of two numbers, x and y.\n",
    "1. divide(x, y): Returns the result of dividing two numbers, x and y.\n",
    "\n",
    "\n",
    "#### Task 2\n",
    "\n",
    "1. Next, import the \"mathematics.py\" module in another Python file, and use its functions to perform calculations."
   ]
  },
  {
   "cell_type": "code",
   "execution_count": null,
   "metadata": {},
   "outputs": [],
   "source": [
    "# your code here"
   ]
  },
  {
   "cell_type": "markdown",
   "metadata": {},
   "source": [
    "## Renaming Imported Objects with \"as\"\n",
    "\n",
    "Sometimes, it's helpful to rename the imported object (module, function, or class) to make it shorter or clearer. This can be done using the \"as\" keyword. \n",
    "\n",
    "For example:"
   ]
  },
  {
   "cell_type": "code",
   "execution_count": null,
   "metadata": {},
   "outputs": [],
   "source": [
    "import random as belenkas\n",
    "from my_module import LongClassName as LCN\n",
    "from calendar import isleap as is_leap\n"
   ]
  },
  {
   "cell_type": "markdown",
   "metadata": {},
   "source": [
    "### Importing Everything from a Module with \"*\"\n",
    "\n",
    "Python allows you to import all elements of a module or package using \"`*`\". While this can be convenient, it may lead to naming conflicts if multiple modules have elements with the same names. \n",
    "\n",
    "For example:"
   ]
  },
  {
   "cell_type": "code",
   "execution_count": null,
   "metadata": {},
   "outputs": [],
   "source": [
    "from math import *\n"
   ]
  },
  {
   "cell_type": "markdown",
   "metadata": {},
   "source": [
    "The `dir()` Function\n",
    "\n",
    "Python's `dir()` function returns a list of names of the members in a module or package. This can be useful to find out what can be imported from a module or package. \n",
    "\n",
    "For example:"
   ]
  },
  {
   "cell_type": "code",
   "execution_count": null,
   "metadata": {},
   "outputs": [],
   "source": [
    "import math\n",
    "print(dir(math))\n"
   ]
  },
  {
   "cell_type": "markdown",
   "metadata": {},
   "source": [
    "### Packages, Subpackages, and \"init.py\" Files\n",
    "\n",
    "Packages are a way to organize Python code modules into a structured hierarchy. Packages allow you to divide a project's functionality into related parts, improving code organization and understanding.\n",
    "\n",
    "- A Python package is typically a directory that contains an \"`init.py`\" file. Packages can contain modules, subpackages, and their \"`init.py`\" files.\n",
    "\n",
    "- Subpackages are directories within other packages. They also have an \"`init.py`\" file and can contain their own modules and subpackages.\n",
    "\n",
    "- The \"`init.py`\" files are special Python files used by the interpreter to identify a directory as a package or subpackage. \"`init.py`\" files can be empty or contain code, such as importing certain modules, defining variables, or defining functions and classes. When you import a package, its \"`init.py`\" file is always executed.\n",
    "\n",
    "### Package Naming Rules\n",
    "\n",
    "- Avoid using uppercase letters. \n",
    "- Directory names should not start with numbers, contain spaces, non-Latin characters, and so on. \n",
    "- It is recommended to follow the naming conventions used for variables.\n",
    "\n",
    "Example Project\n",
    "\n",
    "Let's imagine we have the following directory and file structure:"
   ]
  },
  {
   "cell_type": "markdown",
   "metadata": {},
   "source": [
    "```python\n",
    "project/\n",
    "    init.py\n",
    "    main.py\n",
    "    geometry/\n",
    "        init.py\n",
    "        area.py\n",
    "        perimeter.py\n",
    "        twodimensional/\n",
    "            init.py\n",
    "            circle.py\n",
    "            square.py\n",
    "```"
   ]
  },
  {
   "cell_type": "markdown",
   "metadata": {},
   "source": [
    "- In this structure, \"project\" is the main package with a module named \"main.py.\" \n",
    "\n",
    "- The \"geometry\" package contains modules \"area.py\" and \"perimeter.py.\" \n",
    "\n",
    "- Inside \"geometry,\" there's a subpackage \"twodimensional\" with modules \"circle.py\" and \"square.py.\" \n",
    "\n",
    "- Please note that you should avoid using \"2D\" as the subpackage name, even though it might be more convenient, to maintain compatibility and avoid potential issues.\n",
    "\n",
    "\n",
    "### Absolute Import\n",
    "\n",
    "Absolute import uses the full path from the main package or module to the imported element. It's usually more explicit and easier to understand. \n",
    "\n",
    "For example:"
   ]
  },
  {
   "cell_type": "code",
   "execution_count": null,
   "metadata": {},
   "outputs": [],
   "source": [
    "from project.geometry.area import triangle_area\n"
   ]
  },
  {
   "cell_type": "markdown",
   "metadata": {},
   "source": [
    "### Relative Import\n",
    "\n",
    "Relative import uses dots to specify the package or module hierarchy based on the current location. It helps maintain portability between projects and reduces code duplication. \n",
    "\n",
    "For example:"
   ]
  },
  {
   "cell_type": "code",
   "execution_count": null,
   "metadata": {},
   "outputs": [],
   "source": [
    "from .area import triangle_area\n"
   ]
  },
  {
   "cell_type": "markdown",
   "metadata": {},
   "source": [
    "### Importing from Project Packages\n",
    "\n",
    "When importing modules from packages and subpackages in your project, you can use dot notation:"
   ]
  },
  {
   "cell_type": "code",
   "execution_count": null,
   "metadata": {},
   "outputs": [],
   "source": [
    "from project.geometry.area import triangle_area\n",
    "from project.geometry.twodimensional.circle import circle_area\n"
   ]
  },
  {
   "cell_type": "markdown",
   "metadata": {},
   "source": [
    "Usage of \"`init.py`\" Files\n",
    "\n",
    "Suppose the \"project/geometry/`init.py`\" file contains the following code:"
   ]
  },
  {
   "cell_type": "code",
   "execution_count": null,
   "metadata": {},
   "outputs": [],
   "source": [
    "from .area import *\n",
    "from .perimeter import *\n",
    "from .twodimensional.circle import *\n",
    "from .twodimensional.square import *\n"
   ]
  },
  {
   "cell_type": "markdown",
   "metadata": {},
   "source": [
    "Now, you can import all the functions by simply importing the \"geometry\" package:"
   ]
  },
  {
   "cell_type": "code",
   "execution_count": null,
   "metadata": {},
   "outputs": [],
   "source": [
    "from project.geometry import triangle_area, rectangle_perimeter, circle_area, square_area\n"
   ]
  },
  {
   "cell_type": "markdown",
   "metadata": {},
   "source": [
    "This makes it more convenient to use the functions in your code."
   ]
  },
  {
   "cell_type": "markdown",
   "metadata": {},
   "source": [
    "### Quick Assignment 2: Creating the \"geometry\" Package and Modules\n",
    "\n",
    "Create a package named \"`geometry`\" that includes the following modules:\n",
    "\n",
    "- \"`circle.py`\": This module should contain a function called \"`circle_area(r)`\" for calculating the area of a circle.\n",
    "- \"`square.py`\": This module should contain a function called \"`square_area(a)`\" for calculating the area of a square.\n",
    "\n",
    "Import these modules in another file, rename the function names using \"`as`,\" and use these functions for calculations."
   ]
  },
  {
   "cell_type": "code",
   "execution_count": null,
   "metadata": {},
   "outputs": [],
   "source": [
    "# Your code here"
   ]
  }
 ],
 "metadata": {
  "kernelspec": {
   "display_name": "Python 3",
   "language": "python",
   "name": "python3"
  },
  "language_info": {
   "name": "python",
   "version": "3.10.6"
  }
 },
 "nbformat": 4,
 "nbformat_minor": 2
}
