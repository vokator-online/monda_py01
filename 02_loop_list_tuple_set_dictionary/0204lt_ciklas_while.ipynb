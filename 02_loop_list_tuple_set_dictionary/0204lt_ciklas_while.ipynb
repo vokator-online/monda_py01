{
 "cells": [
  {
   "cell_type": "markdown",
   "metadata": {},
   "source": [
    "# While ciklas\n",
    "\n",
    "Kas yra While ciklas?\n",
    "\n",
    "While ciklas „Python“ kalboje yra lyg nuolatinis klausimas: \"Ar kokia nors sąlyga teisinga?\" Jei taip, atlikite veiksmus tol, kol sąlyga išlieka teisinga. \n",
    "\n",
    "**Pavyzdžiai:**\n",
    "\n",
    "- Tol, kol stiklinė nėra pilna, pilkite vandenį į stikline, jei ji yra pilna, nutraukite vandens pilimą.\n",
    "- Tol, kol telefono baterijos įkrovimas mažesnis nei 100%, kraukite telefoną.\n",
    "- Tol, kol skaitliukas mažesnis nei 100, pridėkite +1 prie skaitliuko.\n",
    "\n",
    "Kodėl naudojame `while` ciklą?\n",
    "\n",
    "While ciklą galime naudoti, norėdami iteruoti, kol pasiekiama tam tikra sąlyga. Jis leidžia atlikti veiksmus tam tikrą kartų arba tol, kol bus patenkinta konkreti sąlyga. While ciklai yra patogūs, kuriant interaktyvias programas, kurios pakartotinai klauso vartotojo įvesties. Juos galima naudoti ir skaičiavimams bei akumuliavimui, pavyzdžiui, apskaičiuoti skaičių sumą tol, kol bus pasiektas tam tikras slenkstis.\n",
    "\n",
    "**Pavyzdys**: paprastas ciklas, kuris skaičiuoja atbuline tvarka nuo 10 iki 1:"
   ]
  },
  {
   "cell_type": "code",
   "execution_count": 5,
   "metadata": {},
   "outputs": [
    {
     "name": "stdout",
     "output_type": "stream",
     "text": [
      "10\n",
      "9\n",
      "8\n",
      "7\n",
      "6\n",
      "5\n",
      "4\n",
      "3\n",
      "2\n",
      "1\n",
      "0 Skrendam !!!\n"
     ]
    }
   ],
   "source": [
    "skaicius = 10\n",
    "\n",
    "# tol, kol skaičius didesnis nei nulis, ciklas vykdomas\n",
    "while skaicius > 0:\n",
    "# tai yra ciklas\n",
    "    print(skaicius)\n",
    "    skaicius -= 1\n",
    "\n",
    "# tol, kol skaičius mažesnis arba lygus nuliui\n",
    "print(\"0 Skrendam !!!\")"
   ]
  },
  {
   "cell_type": "markdown",
   "metadata": {},
   "source": [
    "**Pavyzdys**: paprastas ciklas, kuris skaičiuoja nuo 1 iki 5:"
   ]
  },
  {
   "cell_type": "code",
   "execution_count": 6,
   "metadata": {},
   "outputs": [
    {
     "name": "stdout",
     "output_type": "stream",
     "text": [
      "1\n",
      "2\n",
      "3\n",
      "4\n",
      "5\n",
      "Skaičiavimas baigtas !\n"
     ]
    }
   ],
   "source": [
    "skaicius = 1\n",
    "while skaicius <= 5:\n",
    "    print(skaicius)\n",
    "    skaicius += 1\n",
    "print(\"Skaičiavimas baigtas !\")"
   ]
  },
  {
   "cell_type": "markdown",
   "metadata": {},
   "source": [
    "### Greita užduotis 1\n",
    "\n",
    "Vykdykite `while` ciklą tol, kol įvedama vartotojo reikšmė nebus lygi `X`.\n",
    "Tikrinkite taip, kad nebūtų svarbu ar tai yra didžioji `X` ar mažoji `x`."
   ]
  },
  {
   "cell_type": "code",
   "execution_count": 2,
   "metadata": {},
   "outputs": [],
   "source": [
    "user_entry = ''\n",
    "while user_entry.upper() != 'X':\n",
    "    user_entry = input(\"Input X to exit: \")"
   ]
  },
  {
   "cell_type": "markdown",
   "metadata": {},
   "source": [
    "---\n",
    "\n",
    "## Begalinis Ciklas\n",
    "\n",
    "While ciklai gali tapti begaliniais ciklais, kurie niekada nesustoja, jei sąlyga visada yra True. Toks ciklas gali neigiamai paveikti jūsų programos veikimą, net gali sustabdyti jūsų kompiuterį, todėl visada turėtumėte užtikrinti, kad sąlyga galų gale taptų False.\n",
    "\n",
    "Tačiau, jei vis dėlto esate situacijoje, kurioje begalinis ciklas vyksta, jį galite nutraukti rankiniu būdu, spustelėję „Ctrl + C“ savo terminalo lange.\n",
    "\n",
    "**Pavyzdys**: vykstantis begalinis ciklas:"
   ]
  },
  {
   "cell_type": "code",
   "execution_count": 1,
   "metadata": {},
   "outputs": [
    {
     "name": "stdout",
     "output_type": "stream",
     "text": [
      "Aš negaliu sustoti, nes sąlyga visada yra True!\n"
     ]
    },
    {
     "ename": "KeyboardInterrupt",
     "evalue": "",
     "output_type": "error",
     "traceback": [
      "\u001b[1;31m---------------------------------------------------------------------------\u001b[0m",
      "\u001b[1;31mKeyboardInterrupt\u001b[0m                         Traceback (most recent call last)",
      "Cell \u001b[1;32mIn[1], line 2\u001b[0m\n\u001b[0;32m      1\u001b[0m \u001b[38;5;28;01mwhile\u001b[39;00m \u001b[38;5;28;01mTrue\u001b[39;00m:\n\u001b[1;32m----> 2\u001b[0m     \u001b[38;5;28mprint\u001b[39m(\u001b[38;5;124m\"\u001b[39m\u001b[38;5;124mAš negaliu sustoti, nes sąlyga visada yra True!\u001b[39m\u001b[38;5;124m\"\u001b[39m)\n\u001b[0;32m      3\u001b[0m \u001b[38;5;28mprint\u001b[39m(\u001b[38;5;124m\"\u001b[39m\u001b[38;5;124mAš negaliu vykdytis, nes programa manęs niekada nepasieks!\u001b[39m\u001b[38;5;124m\"\u001b[39m)\n",
      "File \u001b[1;32mc:\\Users\\infoh\\CodeAcademy\\ptu20\\python_intro\\venv\\Lib\\site-packages\\ipykernel\\iostream.py:649\u001b[0m, in \u001b[0;36mOutStream.write\u001b[1;34m(self, string)\u001b[0m\n\u001b[0;32m    646\u001b[0m     msg \u001b[38;5;241m=\u001b[39m \u001b[38;5;124m\"\u001b[39m\u001b[38;5;124mI/O operation on closed file\u001b[39m\u001b[38;5;124m\"\u001b[39m\n\u001b[0;32m    647\u001b[0m     \u001b[38;5;28;01mraise\u001b[39;00m \u001b[38;5;167;01mValueError\u001b[39;00m(msg)\n\u001b[1;32m--> 649\u001b[0m is_child \u001b[38;5;241m=\u001b[39m \u001b[38;5;129;01mnot\u001b[39;00m \u001b[38;5;28;43mself\u001b[39;49m\u001b[38;5;241;43m.\u001b[39;49m\u001b[43m_is_master_process\u001b[49m\u001b[43m(\u001b[49m\u001b[43m)\u001b[49m\n\u001b[0;32m    650\u001b[0m \u001b[38;5;66;03m# only touch the buffer in the IO thread to avoid races\u001b[39;00m\n\u001b[0;32m    651\u001b[0m \u001b[38;5;28;01mwith\u001b[39;00m \u001b[38;5;28mself\u001b[39m\u001b[38;5;241m.\u001b[39m_buffer_lock:\n",
      "File \u001b[1;32mc:\\Users\\infoh\\CodeAcademy\\ptu20\\python_intro\\venv\\Lib\\site-packages\\ipykernel\\iostream.py:520\u001b[0m, in \u001b[0;36mOutStream._is_master_process\u001b[1;34m(self)\u001b[0m\n\u001b[0;32m    519\u001b[0m \u001b[38;5;28;01mdef\u001b[39;00m \u001b[38;5;21m_is_master_process\u001b[39m(\u001b[38;5;28mself\u001b[39m):\n\u001b[1;32m--> 520\u001b[0m     \u001b[38;5;28;01mreturn\u001b[39;00m \u001b[43mos\u001b[49m\u001b[38;5;241;43m.\u001b[39;49m\u001b[43mgetpid\u001b[49m\u001b[43m(\u001b[49m\u001b[43m)\u001b[49m \u001b[38;5;241m==\u001b[39m \u001b[38;5;28mself\u001b[39m\u001b[38;5;241m.\u001b[39m_master_pid\n",
      "\u001b[1;31mKeyboardInterrupt\u001b[0m: "
     ]
    }
   ],
   "source": [
    "while True:\n",
    "    print(\"Aš negaliu sustoti, nes sąlyga visada yra True!\")\n",
    "print(\"Aš negaliu vykdytis, nes programa manęs niekada nepasieks!\")"
   ]
  },
  {
   "cell_type": "markdown",
   "metadata": {},
   "source": [
    "**Pavyzdys**: kitas vykstantis begalinis ciklas:"
   ]
  },
  {
   "cell_type": "code",
   "execution_count": null,
   "metadata": {},
   "outputs": [],
   "source": [
    "i = 10\n",
    "while i > 0:\n",
    "    print(i)\n",
    "    i += 1"
   ]
  },
  {
   "cell_type": "markdown",
   "metadata": {},
   "source": [
    "Svarbu atsargiai naudoti „`while`“ ciklus, kad išvengtumėte begalinių ciklų sukūrimo (ciklų, kurie niekada nesustoja). \n",
    "- Užtikrinkite, kad ciklo sąlyga galiausiai taptų neteisinga, kad programa negalėtų vykti neribotą laiką. \n",
    "- Dažniausiai reikės atnaujinti kintamuosius cikle, kad sąlyga laikui bėgant pasikeistų, ir ciklas galiausiai baigtųsi."
   ]
  },
  {
   "cell_type": "markdown",
   "metadata": {},
   "source": [
    "### Greita Užduotis 2: Sutaisykite mano ciklą\n",
    "\n",
    "1. Peržiūrėkite žemiau esantį ciklą, bandykite suprasti, ką jis daro kiekviename žingsnyje.\n",
    "1. Raskite ir ištaisykite klaidą šiame ciklem, kad ciklas suskaičiuotų iki 10 ir sustotų."
   ]
  },
  {
   "cell_type": "code",
   "execution_count": 11,
   "metadata": {},
   "outputs": [
    {
     "name": "stdout",
     "output_type": "stream",
     "text": [
      "0\n",
      "1\n",
      "2\n",
      "3\n",
      "4\n",
      "5\n",
      "6\n",
      "7\n",
      "8\n",
      "9\n",
      "10\n"
     ]
    }
   ],
   "source": [
    "skaicius = 0\n",
    "while skaicius < 10:\n",
    "    print(skaicius)\n",
    "    skaicius += 1\n",
    "print(skaicius)"
   ]
  },
  {
   "cell_type": "markdown",
   "metadata": {},
   "source": [
    "---\n",
    "\n",
    "## Papildomi mano pavyzdžiai:"
   ]
  },
  {
   "cell_type": "code",
   "execution_count": 12,
   "metadata": {},
   "outputs": [
    {
     "name": "stdout",
     "output_type": "stream",
     "text": [
      "5\n",
      "15\n",
      "25\n",
      "35\n",
      "45\n",
      "55\n"
     ]
    }
   ],
   "source": [
    "skaicius = 5\n",
    "while skaicius < 50:\n",
    "    print(skaicius)\n",
    "    skaicius += 10\n",
    "print(skaicius)"
   ]
  },
  {
   "cell_type": "code",
   "execution_count": 13,
   "metadata": {},
   "outputs": [
    {
     "name": "stdout",
     "output_type": "stream",
     "text": [
      "1\n",
      "5\n",
      "9\n",
      "13\n",
      "17\n",
      "21\n",
      "25\n"
     ]
    }
   ],
   "source": [
    "skaicius = 1\n",
    "while skaicius < 23:\n",
    "    print(skaicius)\n",
    "    skaicius += 4\n",
    "print(skaicius)"
   ]
  },
  {
   "cell_type": "markdown",
   "metadata": {},
   "source": [
    "---\n",
    "\n",
    "## Ciklo nutraukimas naudojant „break“ pareiškimą\n",
    "\n",
    "`break` yra valdymo srauto pareiškimas Python'e, skirtas iš anksto išeiti iš arba nutraukti ciklą prieš įvykdant ciklo normalią pabaigos sąlygą. \n",
    "\n",
    "Kai cikle sutinkamas `break` pareiškimas, ciklas nedelsiant baigiasi.\n",
    "\n",
    "Pavyzdys:"
   ]
  },
  {
   "cell_type": "code",
   "execution_count": 1,
   "metadata": {},
   "outputs": [
    {
     "name": "stdout",
     "output_type": "stream",
     "text": [
      "1\n",
      "2\n",
      "3\n",
      "4\n"
     ]
    }
   ],
   "source": [
    "number = 0\n",
    "\n",
    "# Kol number yra mažiau nei 10, įvykdyti ciklą\n",
    "while number < 10:\n",
    "    number += 1\n",
    "    # jei number yra daugiau arba lygu penkiems, nutraukti ciklą\n",
    "    if number >= 5:\n",
    "        break\n",
    "    # jei ciklas nėra nutrauktas, atspausdinti number\n",
    "    print(number)"
   ]
  },
  {
   "cell_type": "markdown",
   "metadata": {},
   "source": [
    "❗ Atminkite, kad `break` pareiškimas naudojamas tik cikle, kur jis leidžia jums anksti nutraukti ciklo vykdymą pagal nurodytą sąlygą, suteikiant didesnę kontrolę jūsų programos srautui ir vykdymui."
   ]
  },
  {
   "cell_type": "markdown",
   "metadata": {},
   "source": [
    "**Pavyzdys**: paprastas ciklas, prašantis vartotoją įvesti komandą:"
   ]
  },
  {
   "cell_type": "code",
   "execution_count": 3,
   "metadata": {},
   "outputs": [
    {
     "name": "stdout",
     "output_type": "stream",
     "text": [
      "\n",
      "    Galimos įvestos komandos:\n",
      "    exit - išeiti iš programos\n",
      "    \n",
      "Neteisinga komanda\n",
      "\n",
      "    Galimos įvestos komandos:\n",
      "    exit - išeiti iš programos\n",
      "    \n",
      "Viso gero\n"
     ]
    }
   ],
   "source": [
    "while True:\n",
    "    print(\"\"\"\n",
    "    Galimos komandos:\n",
    "    exit - išeiti iš programos\n",
    "    \"\"\")\n",
    "    command = input(\"Įveskite komandą: \")\n",
    "\n",
    "    if command == 'exit':\n",
    "        print(\"Viso gero\")\n",
    "        break\n",
    "    elif skaičius <= 10:\n",
    "        print(skaičius, \"yra netinkamas. Įveskite tinkamą skaičių.\")\n",
    "    else:\n",
    "        print(skaičius, \"yra lyginis\")\n",
    "        break"
   ]
  },
  {
   "cell_type": "markdown",
   "metadata": {},
   "source": [
    "### Greita užduotis 3\n",
    "\n",
    "Sukurkite programą, kuri nuolat prašo vartotojo įvesti skaičių.\n",
    "\n",
    "- Jeigu skaičius yra lyginis, atspausdinkite (\"Lyginis!\") ir nutraukite programą.\n",
    "- Jeigu skaičius yra nelyginis, atspausdinkite (\"Nelyginis!\") ir nutraukite programą.\n",
    "- Jeigu skaičius mažesnis arba lygus 0, atspausdinkite, kad skaičius yra netinkamas, ir nurodykite vartotojui sąlygas, kurias būtina atitikti.\n",
    "\n",
    "Patarimai:\n",
    "\n",
    "- Naudokite if, elif pareiškias.\n",
    "- Pakeiskite input funkcijos rezultatą į skaičių.\n",
    "- Naudokite matematinį operatorių, kad patikrintumėte, ar skaičius yra nelyginis ar lyginis.\n",
    "- Patikrinkite, ar skaičius pirmiausia atitinka tam tikrą sąlygą, tada patikrinkite, ar jis yra nelyginis ar lyginis."
   ]
  },
  {
   "cell_type": "code",
   "execution_count": null,
   "metadata": {},
   "outputs": [],
   "source": [
    "while True:\n",
    "    print(\"\"\"\n",
    "    Galimos įvestos komandos:\n",
    "    exit - išeiti iš programos\n",
    "    \"\"\")\n",
    "    command = input(\"Įveskite komandą: \")\n",
    "\n",
    "    if command == 'exit':\n",
    "        print(\"Viso gero\")\n",
    "        break\n",
    "\n",
    "    print(\"Neteisinga komanda\")"
   ]
  },
  {
   "cell_type": "markdown",
   "metadata": {},
   "source": [
    "---\n",
    "\n",
    "## Ciklo iteracijos praleidimas naudojant `continue` pareiškimą\n",
    "\n",
    "`Continue` yra dar vienas valdymo srauto pareiškimas Python'e, kuris naudojamas cikle praleisti likusią esamą iteraciją (ciklą) ir perėjimui prie kitos iteracijos. Paprastesniais žodžiais tariant, jis leidžia praleisti tam tikras ciklo dalis, kai yra tenkinama tam tikra sąlyga.\n",
    "\n",
    "Pavyzdys:"
   ]
  },
  {
   "cell_type": "code",
   "execution_count": null,
   "metadata": {},
   "outputs": [],
   "source": [
    "number = 0\n",
    "while number < 10:\n",
    "    number += 1\n",
    "    # jei number yra 5, praleisti šią iteraciją.\n",
    "    if number == 5:\n",
    "        continue\n",
    "    print(number)"
   ]
  },
  {
   "cell_type": "markdown",
   "metadata": {},
   "source": [
    "## Ciklas `while` su `else` pareiškimu\n",
    "\n",
    "Python kalboje po ciklo `while` gali būti naudojama `else` išlyga, kurios kodo blokas bus įvykdytas sėkmingai pasibaigus ciklui.\n",
    "\n",
    "Pavyzdys:"
   ]
  },
  {
   "cell_type": "code",
   "execution_count": 1,
   "metadata": {},
   "outputs": [
    {
     "name": "stdout",
     "output_type": "stream",
     "text": [
      "0\n",
      "1\n",
      "2\n",
      "3\n",
      "4\n",
      "ciklo pabaiga\n"
     ]
    }
   ],
   "source": [
    "number = 0\n",
    "\n",
    "# jei number yra mažesnis nei 5, vykdykite cikla\n",
    "while number < 5:\n",
    "    print(number)\n",
    "    number += 1\n",
    "\n",
    "# jei \"number\" yra daugiau arba lygu 5, vykdykite „else“ cikla\n",
    "else:\n",
    "    print(\"ciklo pabaiga\")"
   ]
  },
  {
   "cell_type": "code",
   "execution_count": 5,
   "metadata": {},
   "outputs": [
    {
     "name": "stdout",
     "output_type": "stream",
     "text": [
      "Klaida!\n"
     ]
    }
   ],
   "source": [
    "atsakymas = 5\n",
    "while atsakymas > 0:\n",
    "    naujas_atsakymas = int(input(f'Įveskite {atsakymas-1}: '))\n",
    "    if naujas_atsakymas != atsakymas - 1:\n",
    "        print('Klaida!')\n",
    "        break\n",
    "    atsakymas = naujas_atsakymas\n",
    "else:\n",
    "    print('Pavyko! Užduotis atlikta...')"
   ]
  },
  {
   "cell_type": "markdown",
   "metadata": {},
   "source": [
    "### Greita Užduotis 3\n",
    "\n",
    "Slaptažodžio tikrinimas\n",
    "\n",
    "1. Sugalvokite slaptažodį (tiesiog paprastą žodį) ir įrašykite jį į kintamąjį.\n",
    "1. Sukurkite kintamąjį bandymams saugoti ir suteikite jam reikšmę 3.\n",
    "1. Parašykite programą, kuri nuolat klausinėja vartotojo įvesties.\n",
    "- Jei įvestis nesutampa su slaptažodžiu, atspausdinkite „Neteisingas slaptažodis, bandykite dar kartą“ ir sumažinkite bandymų kintamojo reikšmę.\n",
    "- Jei įvestis sutampa su slaptažodžiu, atspausdinkite „Prieiga suteikta“ ir baigkite programą.\n",
    "- Jei vartotojas tris kartus nepavyksta patikrinime, baigti ciklą su pranešimu „Prieiga negauta. Per daug nesėkmingų bandymų.“\n",
    "\n",
    "**Patarimai**:\n",
    "\n",
    "- Galite naudoti „if“ ir „else“ sąlygas, kad priimtumėte sprendimus."
   ]
  },
  {
   "cell_type": "code",
   "execution_count": 7,
   "metadata": {},
   "outputs": [
    {
     "name": "stdout",
     "output_type": "stream",
     "text": [
      "Slaptažodis neteisingas! Jūs neturite 2 daugiau bandymų\n",
      "Slaptažodis neteisingas! Jūs neturite 1 daugiau bandymų\n",
      "Slaptažodis neteisingas! Jūs neturite 0 daugiau bandymų\n",
      "Atsiprašome, Jūs įvedėte per daug neteisingų bandymų, bandykite vėliau\n"
     ]
    }
   ],
   "source": [
    "slaptažodis = \"penstancijus\"\n",
    "bandymai = 3\n",
    "\n",
    "while bandymai > 0:\n",
    "    atsakymas = input(\"Įrašykite slaptažodį: \")\n",
    "    if atsakymas != slaptažodis:\n",
    "        bandymai -= 1\n",
    "        print(f\"Slaptažodis neteisingas! Jūs neturite {bandymai} daugiau bandymų\")\n",
    "    else:\n",
    "        print(\"Slaptažodis teisingas!\")\n",
    "        break\n",
    "else:\n",
    "    print(\"Atsiprašome, Jūs įvedėte per daug neteisingų bandymų, bandykite vėliau\")"
   ]
  },
  {
   "cell_type": "markdown",
   "metadata": {},
   "source": [
    "---\n",
    "\n",
    "## Papildomi mano pavyzdžiai:"
   ]
  },
  {
   "cell_type": "code",
   "execution_count": 4,
   "metadata": {},
   "outputs": [
    {
     "name": "stdout",
     "output_type": "stream",
     "text": [
      "Slaptažodis \"zbygoil\" įvestas neteisingas! Jums liko 2 daugiau bandymų. Bandykite dar kartą.\n",
      "Slaptažodis \"ruberida\" įvestas neteisingas! Jums liko 1 daugiau bandymų. Bandykite dar kartą.\n",
      "Slaptažodis \"kosTmos\" įvestas neteisingas! Jums liko 0 daugiau bandymų. Bandykite dar kartą.\n",
      "Atsiprašome, Jūs įvedėte per daug neteisingų bandymų, bandykite vėliau!\n"
     ]
    }
   ],
   "source": [
    "slaptažodis = \"penstancijus\"\n",
    "bandymai = 3\n",
    "\n",
    "while bandymai > 0:\n",
    "    atsakymas = input(\"Įrašykite slaptažodį: \")\n",
    "    if atsakymas != slaptažodis:\n",
    "        bandymai -= 1\n",
    "        print(f'Slaptažodis \"{atsakymas}\" įvestas neteisingas! Jums liko {bandymai} daugiau bandymų. Bandykite dar kartą.')\n",
    "    else:\n",
    "        print(f'Slaptažodis {slaptažodis} įvestas teisingas!')\n",
    "        break\n",
    "else:\n",
    "    print(\"Atsiprašome, Jūs įvedėte per daug neteisingų bandymų, bandykite vėliau!\")"
   ]
  },
  {
   "cell_type": "code",
   "execution_count": 10,
   "metadata": {},
   "outputs": [
    {
     "name": "stdout",
     "output_type": "stream",
     "text": [
      "Įrašykite slaptažodį: \n",
      "Slaptažodis įvestas neteisingas! Jums liko  2 bandymai. Bandykite dar kartą.\n",
      "Slaptažodis įvestas neteisingas! Jums liko  1 bandymai. Bandykite dar kartą.\n",
      "Slaptažodis įvestas neteisingas! Jums liko  0 bandymai. Bandykite dar kartą.\n",
      "Atsiprašome, Jūs įvedėte per daug neteisingų bandymų. Paskyra užblokuota!\n"
     ]
    }
   ],
   "source": [
    "slaptažodis = \"penstancijus\"\n",
    "bandymai = 3\n",
    "print(\"Įrašykite slaptažodį: \")\n",
    "while bandymai > 0:\n",
    "    if input(\"\") == slaptažodis:\n",
    "        print(\"Sveiki atvyk3!\")\n",
    "        break\n",
    "    else:\n",
    "        bandymai -= 1\n",
    "        print(\"Slaptažodis įvestas neteisingas! Jums liko \", bandymai, \"bandymai. Bandykite dar kartą.\")\n",
    "else:\n",
    "        print(\"Atsiprašome, Jūs įvedėte per daug neteisingų bandymų. Paskyra užblokuota!\")"
   ]
  },
  {
   "cell_type": "markdown",
   "metadata": {},
   "source": [
    "# `Užduotis 1: Parašykite skaičiuotuvo programą, kuri gali sudėti, atimti, padauginti ir padalinti`\n",
    "\n",
    "**Instrukcijos**:\n",
    "1. Sukurkite programą, kuri nuolat klauso vartotojo įvedimo komandos (teksto).\n",
    "- Jei įvestis yra \"add\" arba \"subtract\" arba \"multiply\" arba \"divide\", tada paklauskite dar dviejų skaičių ir atspausdinkite atitinkamą atsakymą.\n",
    "- Jei vartotojas įveda netinkamą komandą, praneškite vartotojui.\n",
    "- Jei įvestis yra \"exit\", tuomet nutraukite ciklą, nepamirškite pasakyti viso gero.\n",
    "\n",
    "**Patarimas**:\n",
    "- Naudokite if, elif, else sąlygas.\n",
    "- Skaičių vertes konvertuokite į float, o ne į int.\n",
    "- Naudokite while True."
   ]
  },
  {
   "cell_type": "code",
   "execution_count": 1,
   "metadata": {},
   "outputs": [
    {
     "name": "stdout",
     "output_type": "stream",
     "text": [
      "\n",
      "    I'm the operator with my pocket calculator...\n",
      "          By pressing down a special key\n",
      "            It plays a little melody\n",
      "\n",
      "    I am adding\n",
      "    And subtracting\n",
      "    I'm controlling\n",
      "    And composing\n",
      "          \n",
      "    Commands:\n",
      "          + | add two numbers\n",
      "          - | subtract two numbers\n",
      "          * | multiply two numbers\n",
      "          / | divide two numbers\n",
      "          exit \n",
      "    \n",
      "Invalid command :(\n",
      "\n",
      "    I'm the operator with my pocket calculator...\n",
      "          By pressing down a special key\n",
      "            It plays a little melody\n",
      "\n",
      "    I am adding\n",
      "    And subtracting\n",
      "    I'm controlling\n",
      "    And composing\n",
      "          \n",
      "    Commands:\n",
      "          + | add two numbers\n",
      "          - | subtract two numbers\n",
      "          * | multiply two numbers\n",
      "          / | divide two numbers\n",
      "          exit \n",
      "    \n"
     ]
    }
   ],
   "source": [
    "while True:\n",
    "    print(\"\"\"\n",
    "    I'm the operator with my pocket calculator...\n",
    "          By pressing down a special key\n",
    "            It plays a little melody\n",
    "\n",
    "    I am adding\n",
    "    And subtracting\n",
    "    I'm controlling\n",
    "    And composing\n",
    "          \n",
    "    Commands:\n",
    "          + | add two numbers\n",
    "          - | subtract two numbers\n",
    "          * | multiply two numbers\n",
    "          / | divide two numbers\n",
    "          exit \n",
    "    \"\"\")\n",
    "    command = input(\"Enter command: \")\n",
    "    if command == \"exit\":\n",
    "        print(\"Goodbye :)\")\n",
    "        break\n",
    "\n",
    "    elif command == \"+\":\n",
    "        num_1 = float(input(\"Enter number1: \"))\n",
    "        num_2 = float(input(\"Enter number2: \"))\n",
    "        print(\"result is \", num_1 + num_2)\n",
    "\n",
    "    elif command == \"-\":\n",
    "        num_1 = float(input(\"Enter number1: \"))\n",
    "        num_2 = float(input(\"Enter number2: \"))\n",
    "        print(\"result is \", num_1 - num_2)\n",
    "    \n",
    "    elif command == \"*\":\n",
    "        num_1 = float(input(\"Enter number1: \"))\n",
    "        num_2 = float(input(\"Enter number2: \"))\n",
    "        print(\"result is \", num_1 * num_2)\n",
    "\n",
    "    elif command == \"-\":\n",
    "        num_1 = float(input(\"Enter number1: \"))\n",
    "        num_2 = float(input(\"Enter number2: \"))\n",
    "        print(\"result is \", num_1 / num_2)\n",
    "\n",
    "    else:\n",
    "        print(\"Invalid command :(\")"
   ]
  }
 ],
 "metadata": {
  "kernelspec": {
   "display_name": "venv",
   "language": "python",
   "name": "python3"
  },
  "language_info": {
   "codemirror_mode": {
    "name": "ipython",
    "version": 3
   },
   "file_extension": ".py",
   "mimetype": "text/x-python",
   "name": "python",
   "nbconvert_exporter": "python",
   "pygments_lexer": "ipython3",
   "version": "3.12.1"
  }
 },
 "nbformat": 4,
 "nbformat_minor": 2
}
