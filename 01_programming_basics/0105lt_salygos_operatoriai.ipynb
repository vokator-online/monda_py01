{
 "cells": [
  {
   "cell_type": "markdown",
   "metadata": {},
   "source": [
    "# Paprasta logika „Python“ kalboje"
   ]
  },
  {
   "cell_type": "markdown",
   "metadata": {},
   "source": [
    "## Sąlygos"
   ]
  },
  {
   "cell_type": "markdown",
   "metadata": {},
   "source": [
    "Sąlygos yra programavimo teiginiai, leidžiantys priimti sprendimus remiantis tam tikromis sąlygomis. Jos leidžia jūsų kodui atlikti skirtingus veiksmus priklausomai nuo to, ar sąlyga yra teisinga ar klaidinga. Sąlygos yra sprendimų priėmimo programose pamatas.\n",
    "\n",
    "Python kalboje sąlygos yra pagrindžiamos naudojant if, elif - (trumpinys nuo 'else if') ir else teiginius. Jos laikosi tam tikros sintaksės:\n",
    "\n",
    "```Python\n",
    "if sąlyga:\n",
    "    # kodas, vykdomas, kai sąlyga yra teisinga\n",
    "\n",
    "elif sąlyga:\n",
    "    # kodas, vykdomas, kai ankstesnė sąlyga yra neteisinga ir ši sąlyga yra teisinga\n",
    "\n",
    "else:\n",
    "    # kodas, vykdomas, kai nė viena iš ankstesnių sąlygų nėra teisinga\n",
    "```\n",
    "\n",
    "Tai yra sąlyginių teiginių veikimo analizė:\n",
    "\n",
    "1. if teiginys patikrina nurodytą sąlygą. Jei sąlyga yra teisinga, vykdomas kodas, esantis po if teiginio.\n",
    "\n",
    "2. Pagal poreikį po if teiginio galite įtraukti vieną ar daugiau elif teiginių. Šie teiginiai taip pat patikrina sąlygą, tačiau tik tada, jei ankstesnės sąlygos if ir kituose elif teiginiuose yra neteisingos. Jei sąlyga vertinama kaip teisinga, vykdomas kodas, esantis atitinkamame elif bloke.\n",
    "\n",
    "3. Jei nei viena sąlyga if ir elif teiginiuose nėra teisinga, programa vykdo kodą, esantį else bloke (jei jis yra nurodytas), nes jis veikia kaip visų atvejų apimančioji dalis."
   ]
  },
  {
   "cell_type": "markdown",
   "metadata": {},
   "source": [
    "## Palyginimo operatoriai\n",
    "\n",
    "Palyginimo operatoriai naudojami lyginti dvi reikšmes arba išraiškas ir įvertinti jų santykį. Jie grąžina arba Teisinga (True) arba Klaidinga (False) pagal palyginimo rezultatą. Šie operatoriai dažnai naudojami sąlyginėse konstrukcijose, kad patikrintų sąlygas ir nustatytų programos eigą.\n",
    "\n",
    "Žemiau pateikiami keli dažnai naudojami palyginimo operatoriai „Python“ kalboje:\n",
    "\n",
    "- Lygus ( `==` ): Tikrina, ar abiejų pusių esančios reikšmės yra lygios.\n",
    "- Nelygus ( `!=` ): Tikrina, ar abiejuose pusėse esančios reikšmės nėra lygios.\n",
    "- Didesnis nei ( `>` ): Tikrina, ar kairėje pusėje esanti reikšmė yra didesnė nei dešinėje pusėje esanti reikšmė.\n",
    "- Mažesnis nei ( `<` ): Tikrina, ar kairėje pusėje esanti reikšmė yra mažesnė nei dešinėje pusėje esanti reikšmė.\n",
    "- Didesnis arba lygus ( `>=` ): Tikrina, ar kairėje pusėje esanti reikšmė yra didesnė arba lygi dešinėje pusėje esančiai reikšmei.\n",
    "- Mažesnis arba lygus ( `<=` ): Tikrina, ar kairėje pusėje esanti reikšmė yra mažesnė arba lygi dešinėje pusėje esančiai reikšmei.\n",
    "\n",
    "Jūs galite naudoti šiuos palyginimo operatorius sąlyginėse konstrukcijose, kad priimtumėte sprendimus remdamiesi jų rezultatais. Pavyzdys:"
   ]
  },
  {
   "cell_type": "code",
   "execution_count": 1,
   "metadata": {},
   "outputs": [],
   "source": [
    "amzius = 64"
   ]
  },
  {
   "cell_type": "code",
   "execution_count": 2,
   "metadata": {},
   "outputs": [
    {
     "name": "stdout",
     "output_type": "stream",
     "text": [
      "Jūs esate tinkamas.\n"
     ]
    }
   ],
   "source": [
    "# Sąlyginio kodo fragmentas\n",
    "if amzius < 18:\n",
    "    print(\"Jūs esate per jaunas.\")\n",
    "elif amzius >= 65:\n",
    "    print(\"Jūs esate per senas.\")\n",
    "else:\n",
    "    print(\"Jūs esate tinkamas.\")"
   ]
  },
  {
   "cell_type": "markdown",
   "metadata": {},
   "source": [
    "Šiame pavyzdyje, priklausomai nuo `amzius` reikšmės, vartotojui rodomos skirtingos žinutės. Jei `amžius < 18`, spausdinama \"Jūs esate per jaunas.\", jei `amzius` yra virš 65 (įskaitant), spausdinama \"Jūs esate per senas.\", o jei nėra tenkinamos jokios sąlygos, spausdinama \"Jūs esate tinkamas.\"."
   ]
  },
  {
   "cell_type": "code",
   "execution_count": 3,
   "metadata": {},
   "outputs": [
    {
     "name": "stdout",
     "output_type": "stream",
     "text": [
      "tinkamas\n"
     ]
    }
   ],
   "source": [
    "if amzius >= 18 and amzius < 65:\n",
    "    print(\"tinkamas\")\n",
    "else:\n",
    "    print(\"netinkamas\")"
   ]
  },
  {
   "cell_type": "markdown",
   "metadata": {},
   "source": [
    "Alternatyva su `and` loginiu operatoriumi (apie kurį žemiau), sprendimą supaprastina iki vienos sąlygos ir išimties."
   ]
  },
  {
   "cell_type": "markdown",
   "metadata": {},
   "source": [
    "### Greita užduotis 1\n",
    "\n",
    "Nustatykite amžių `71` ir iš naujo paleiskite kodą, tadar pabandykite su skaičiumi `42`. Ar rezultatas skiriasi? O kaip su skaičiumi `15`?"
   ]
  },
  {
   "cell_type": "code",
   "execution_count": null,
   "metadata": {},
   "outputs": [],
   "source": []
  },
  {
   "cell_type": "markdown",
   "metadata": {},
   "source": [
    "### Greita užduotis 2\n",
    "\n",
    "Sukurkite du kintamuosius ir priskirkite jiems skaičius. Palyginkite juos naudodami sąlygines operatorių konstrukcijas ir atspausdinkite teiginį `ar skaičiai yra lygūs vienas kitam ar ne`."
   ]
  },
  {
   "cell_type": "code",
   "execution_count": 5,
   "metadata": {},
   "outputs": [
    {
     "name": "stdout",
     "output_type": "stream",
     "text": [
      "5 nelygus 7\n"
     ]
    }
   ],
   "source": [
    "skaicius1 = 5\n",
    "skaicius2 = 7\n",
    "if skaicius1 == skaicius2:\n",
    "    print(skaicius1, \"lygus\", skaicius2)\n",
    "else:\n",
    "    print(skaicius1, \"nelygus\", skaicius2)"
   ]
  },
  {
   "cell_type": "code",
   "execution_count": 8,
   "metadata": {},
   "outputs": [
    {
     "name": "stdout",
     "output_type": "stream",
     "text": [
      "nelygus\n"
     ]
    }
   ],
   "source": [
    "sume = 250 * 4\n",
    "sumes = 89 + 124\n",
    "if sume == sumes:\n",
    "    print(\"lygus\")\n",
    "else:\n",
    "    print(\"nelygus\")"
   ]
  },
  {
   "cell_type": "markdown",
   "metadata": {},
   "source": [
    "### Greita užduotis 3\n",
    "\n",
    "Priskirkite skaičių kintamajam, tada atspausdinkite teiginį ir patikrinkite ar skaičius yra `lyginis ar nelyginis`."
   ]
  },
  {
   "cell_type": "code",
   "execution_count": null,
   "metadata": {},
   "outputs": [],
   "source": [
    "skaicius = 15\n"
   ]
  },
  {
   "cell_type": "markdown",
   "metadata": {},
   "source": [
    "---\n",
    "\n",
    "## 'Boolean' loginio tipo kintamieji"
   ]
  },
  {
   "cell_type": "markdown",
   "metadata": {},
   "source": [
    "Programavime `boolean` loginis duomenų tipas naudojamas reikšmėms atvaizduoti. Jis turi dvi galimas reikšmes: Teisinga (True) ir Neteisinga (False). Loginiai kintamieji dažnai naudojami sąlygose, cikluose ir kitose valdymo struktūrose, kontroliuojant programos eigos srautą priklausomai nuo sąlygų.\n",
    "\n",
    "Python kalboje galite priskirti logines reikšmes kintamiesiems naudodami žodžius `True` arba `False` (pastebėkite, kad jie turi būti rašomi `didžiosiomis` raidėmis). Pavyzdžiui:"
   ]
  },
  {
   "cell_type": "code",
   "execution_count": null,
   "metadata": {},
   "outputs": [],
   "source": [
    "lietus_lyja = True\n",
    "print(lietus_lyja)\n",
    "print(type(lietus_lyja))"
   ]
  },
  {
   "cell_type": "code",
   "execution_count": null,
   "metadata": {},
   "outputs": [],
   "source": [
    "lietus_baigesi = False\n",
    "print(lietus_baigesi, type(lietus_baigesi))"
   ]
  },
  {
   "cell_type": "markdown",
   "metadata": {},
   "source": [
    "'Boolean' Loginiai kintamieji gali būti sukurti priskyrus palyginimo rezultatą naudojant palyginimo operatorius. Pavyzdžiui:"
   ]
  },
  {
   "cell_type": "code",
   "execution_count": null,
   "metadata": {},
   "outputs": [],
   "source": [
    "amzius = 25\n",
    "ar_pilnametis = amzius >= 18\n",
    "print(ar_pilnametis) "
   ]
  },
  {
   "cell_type": "markdown",
   "metadata": {},
   "source": [
    "Šiame pavyzdyje palyginimas `amžius >= 18` įvertinamas kaip Teisingas (`True`), ir ši loginė reikšmė priskiriama kintamajam `ar_pilnametis`."
   ]
  },
  {
   "cell_type": "markdown",
   "metadata": {},
   "source": [
    "### Greita užduotis 4\n",
    "\n",
    "Priskirkite skaičių kintamajam.\n",
    "\n",
    "Tada patikrinkite, ar tas skaičius yra teigiamas, ir rezultatą priskirkite kintamajam `ar_teigiamas`.\n",
    "\n",
    "Tada atspausdinkite žmonėms suprantamą pranešimą, aprašantį, kad duotas skaičius yra teigiamas arba neigiamas.\n"
   ]
  },
  {
   "cell_type": "code",
   "execution_count": 10,
   "metadata": {},
   "outputs": [
    {
     "name": "stdout",
     "output_type": "stream",
     "text": [
      "teigiamas\n"
     ]
    }
   ],
   "source": [
    "skaicius = -1\n",
    "if skaicius <-3:\n",
    "    print(\"neigiamas\")\n",
    "else:\n",
    "    print(\"teigiamas\")"
   ]
  },
  {
   "cell_type": "markdown",
   "metadata": {},
   "source": [
    "Pamąstymui: ar 0 yra teigiamas ar neigiamas skaičius?"
   ]
  },
  {
   "cell_type": "markdown",
   "metadata": {},
   "source": [
    "### Keletas svarbių dalykų apie logines 'Booleans' reikšmes\n",
    "\n",
    "- True (Teisinga) reiškia sąlygą, kuri yra tiesa arba reikšmę, kuri laikoma \"įjungta\" arba \"galiojančia\". Praktiškai, bet kuri kintamojo rūšis, kuri atstovauja bet kokiai reikšmei, išskyrus `0` arba `None`, yra Teisinga.\n",
    "- False (Neteisinga) reiškia sąlygą, kuri yra neteisinga arba reikšmę, kuri laikoma \"išjungta\" arba \"negaliojančia\". Praktiškai, bet kuri kintamojo rūšis, kuri atstovauja `0` arba `None`, yra Neteisinga.\n",
    "- 'Booleans' Logines reikšmes galima priskirti kintamiesiems, perduoti kaip argumentus ir naudoti išraiškose taip pat kaip bet kurį kitą duomenų tipą."
   ]
  },
  {
   "cell_type": "markdown",
   "metadata": {},
   "source": [
    "---\n",
    "\n",
    "## Loginiai operatoriai"
   ]
  },
  {
   "cell_type": "markdown",
   "metadata": {},
   "source": [
    "Jūs taip pat galite sujungti 'boolean' logines reikšmes naudodami loginius operatorius. Pagrindiniai loginiai operatoriai Python kalboje yra:\n",
    "\n",
    "- `and`: Grąžina `True` jei abu operandai yra `True`, kitu atveju grąžina `False`.\n",
    "- `or`: Grąžina `True` jei bent vienas iš operandų yra `True`, kitu atveju grąžina `False`.\n",
    "- `not`: Grąžina priešingą 'boolean' logine operandui reikšmę\n",
    "\n",
    "Štai pavyzdys, demonstruojantis loginių operatorių naudojimą:"
   ]
  },
  {
   "cell_type": "code",
   "execution_count": null,
   "metadata": {},
   "outputs": [],
   "source": [
    "amzius = 47\n",
    "darbingas = amzius >= 18 and amzius < 65\n",
    "print(darbingas)\n",
    "\n",
    "if darbingas:\n",
    "    print(amzius, \"yra darbingas amžius\")\n",
    "else:\n",
    "    print(amzius, \"yra nedarbingas amžius\")"
   ]
  },
  {
   "cell_type": "code",
   "execution_count": 13,
   "metadata": {},
   "outputs": [
    {
     "name": "stdout",
     "output_type": "stream",
     "text": [
      "Nėra nei saulėta, nei šilta.\n"
     ]
    }
   ],
   "source": [
    "sauleta = False\n",
    "silta = False\n",
    "\n",
    "if sauleta and silta:\n",
    "    print(\"Yra saulėta ir šilta!\")\n",
    "elif sauleta or silta:\n",
    "    print(\"Yra arba saulėta, arba šilta.\")\n",
    "else:\n",
    "    print(\"Nėra nei saulėta, nei šilta.\")"
   ]
  },
  {
   "cell_type": "code",
   "execution_count": 14,
   "metadata": {},
   "outputs": [
    {
     "name": "stdout",
     "output_type": "stream",
     "text": [
      "oras blogas\n"
     ]
    }
   ],
   "source": [
    "if sauleta and silta:\n",
    "    print(\"galima degintis\")\n",
    "else:\n",
    "    print(\"oras blogas\")"
   ]
  },
  {
   "cell_type": "code",
   "execution_count": 22,
   "metadata": {},
   "outputs": [
    {
     "name": "stdout",
     "output_type": "stream",
     "text": [
      "-9 nei lyginis, nei teigiamas\n"
     ]
    }
   ],
   "source": [
    "skaicius = -9\n",
    "lyginis = skaicius % 2 == 0\n",
    "teigiamas = skaicius > 0\n",
    "if lyginis or teigiamas:\n",
    "    print(skaicius, \"yralyginis arba teigiamas\")\n",
    "else:\n",
    "    print(skaicius, \"nei lyginis, nei teigiamas\")"
   ]
  },
  {
   "cell_type": "markdown",
   "metadata": {},
   "source": [
    "### `and` operatoriaus pavyzdyz"
   ]
  },
  {
   "cell_type": "code",
   "execution_count": 13,
   "metadata": {},
   "outputs": [
    {
     "name": "stdout",
     "output_type": "stream",
     "text": [
      "Iki laimės dar trūksta\n"
     ]
    }
   ],
   "source": [
    "money = 50000\n",
    "# kintamąjam `turtingas` priskirtas sąlygos rezultatas\n",
    "turtingas = money >= 1000000\n",
    "# kintamąjam `sveikas` priskirta loginė reikšmė tiesiogiai\n",
    "sveikas = True\n",
    "if sveikas and turtingas:\n",
    "    print(\"Laimingas\")\n",
    "else:\n",
    "    print(\"Iki laimės dar trūksta\")"
   ]
  },
  {
   "cell_type": "markdown",
   "metadata": {},
   "source": [
    "### `or` operatoriaus pavyzdys"
   ]
  },
  {
   "cell_type": "code",
   "execution_count": 9,
   "metadata": {},
   "outputs": [
    {
     "name": "stdout",
     "output_type": "stream",
     "text": [
      "8 yra lyginis arba teigiamas\n"
     ]
    }
   ],
   "source": [
    "skaicius = 8\n",
    "lyginis = skaicius % 2 == 0\n",
    "teigiamas = skaicius > 0\n",
    "if lyginis or teigiamas:\n",
    "    print(skaicius, \"yra lyginis arba teigiamas\")\n",
    "else:\n",
    "    print(skaicius, \"nei lyginis, nei teigiamas\")"
   ]
  },
  {
   "cell_type": "markdown",
   "metadata": {},
   "source": [
    "### `not` operatorius"
   ]
  },
  {
   "cell_type": "code",
   "execution_count": 10,
   "metadata": {},
   "outputs": [
    {
     "name": "stdout",
     "output_type": "stream",
     "text": [
      "False\n",
      "True\n"
     ]
    }
   ],
   "source": [
    "tiesa = True\n",
    "melas = False\n",
    "print(not tiesa)\n",
    "print(not melas)"
   ]
  },
  {
   "cell_type": "code",
   "execution_count": 12,
   "metadata": {},
   "outputs": [
    {
     "name": "stdout",
     "output_type": "stream",
     "text": [
      "False\n",
      "True\n"
     ]
    }
   ],
   "source": [
    "skaicius = -7\n",
    "teigiamas = skaicius > 0\n",
    "print(teigiamas)\n",
    "neteigiamas = not teigiamas\n",
    "print(neteigiamas)"
   ]
  },
  {
   "cell_type": "markdown",
   "metadata": {},
   "source": [
    "Sudėtingesnis kodo pavyzdys, pademonstruojantis tiek `and`, tiek `or` operatorius"
   ]
  },
  {
   "cell_type": "code",
   "execution_count": 6,
   "metadata": {},
   "outputs": [
    {
     "name": "stdout",
     "output_type": "stream",
     "text": [
      "vargšas\n",
      "sveikas\n",
      "laimingas\n",
      "gražus\n"
     ]
    }
   ],
   "source": [
    "turtingas = False\n",
    "sveikas = True\n",
    "laimingas = turtingas or sveikas\n",
    "grazus = sveikas and laimingas\n",
    "if turtingas:\n",
    "    print(\"turtingas\")\n",
    "else:\n",
    "    print(\"vargšas\")\n",
    "if sveikas:\n",
    "    print(\"sveikas\")\n",
    "else:\n",
    "    print(\"nesveikas\")\n",
    "if laimingas:\n",
    "    print(\"laimingas\")\n",
    "else:\n",
    "    print(\"nelaimingas\")\n",
    "if grazus:\n",
    "    print(\"gražus\")\n",
    "else:\n",
    "    print(\"negražus\")"
   ]
  },
  {
   "cell_type": "markdown",
   "metadata": {},
   "source": [
    "### Loginių operatorių tiesos lentelės\n",
    "\n",
    "#### `and`\n",
    "\n",
    "| A     | B     | A `and` B |\n",
    "|-------|-------|-----------|\n",
    "| `True`  | `True`  | `True`    |\n",
    "| `True`  | `False` | `False`   |\n",
    "| `False` | `True`  | `False`   |\n",
    "| `False` | `False` | `False`   |\n",
    "\n",
    "#### `or`\n",
    "\n",
    "| A     | B     | A `or` B  |\n",
    "|-------|-------|----------|\n",
    "| `True`  | `True`  | `True`   |\n",
    "| `True`  | `False` | `True`   |\n",
    "| `False` | `True`  | `True`   |\n",
    "| `False` | `False` | `False`  |\n",
    "\n",
    "#### `not`\n",
    "\n",
    "| A     | `not` A |\n",
    "|-------|---------|\n",
    "| `True`  | `False`  |\n",
    "| `False` | `True`   |\n",
    "\n",
    "Šios tiesos lentelės aprašo šių loginių operatorių pagrindinį veikimą. Dirbant su sudėtingesnėmis išraiškomis, svarbu suprasti šių pagrindinių veikimo principų svarbą."
   ]
  },
  {
   "cell_type": "code",
   "execution_count": 15,
   "metadata": {},
   "outputs": [
    {
     "name": "stdout",
     "output_type": "stream",
     "text": [
      "10000 False\n",
      "True\n"
     ]
    }
   ],
   "source": [
    "money = 10000\n",
    "rich = money > 1000000\n",
    "print(money, rich)\n",
    "print(not rich)"
   ]
  },
  {
   "cell_type": "code",
   "execution_count": 16,
   "metadata": {},
   "outputs": [
    {
     "name": "stdout",
     "output_type": "stream",
     "text": [
      "neturtingas\n"
     ]
    }
   ],
   "source": [
    "if not rich:\n",
    "    print(\"neturtingas\")\n",
    "else:\n",
    "    print(\"turtingas\")"
   ]
  },
  {
   "cell_type": "code",
   "execution_count": 17,
   "metadata": {},
   "outputs": [
    {
     "name": "stdout",
     "output_type": "stream",
     "text": [
      "neturtingas\n"
     ]
    }
   ],
   "source": [
    "if rich:\n",
    "    print(\"turtingas\")\n",
    "else:\n",
    "    print(\"neturtingas\")"
   ]
  },
  {
   "cell_type": "markdown",
   "metadata": {},
   "source": [
    "### Greita užduotis 5\n",
    "\n",
    "Nustatykite sveikųjų skaicių reikšmes dviems kintamiesiems. Patikrinkite, ar jie yra lyginiai ar nelyginiai, ir atspausdinkite pranešimą, ar jie `abu lyginiai` ar `abu yra nelyginiai`, arba `vienas lyginis, kitas ne`. Pratestuokite visus scenarijus, kad patikrintumėte kodo teisingumą."
   ]
  },
  {
   "cell_type": "code",
   "execution_count": 24,
   "metadata": {},
   "outputs": [
    {
     "name": "stdout",
     "output_type": "stream",
     "text": [
      "bent vienas lyginis\n"
     ]
    }
   ],
   "source": [
    "pirmas = 7\n",
    "antras = -12\n",
    "abu_lyginiai = pirmas %2 == 0 and antras % 2 == 0\n",
    "misrus_lyginiai = pirmas % 2 == 0 or antras % 2 == 0\n",
    "if abu_lyginiai:\n",
    "    print(\"abu lyginiai\")\n",
    "elif misrus_lyginiai:\n",
    "    print(\"bent vienas lyginis\")\n",
    "else:\n",
    "    print(\"abu lyginiai\")"
   ]
  },
  {
   "cell_type": "markdown",
   "metadata": {},
   "source": [
    "### Daugiau pavyzdžių su loginėmis 'boolean' išraiškomis ir veiksmais"
   ]
  },
  {
   "cell_type": "code",
   "execution_count": 18,
   "metadata": {},
   "outputs": [],
   "source": [
    "x = 10\n",
    "y = 8"
   ]
  },
  {
   "cell_type": "code",
   "execution_count": 19,
   "metadata": {},
   "outputs": [
    {
     "name": "stdout",
     "output_type": "stream",
     "text": [
      "True\n"
     ]
    }
   ],
   "source": [
    "yra_didesnis = x > y\n",
    "print(yra_didesnis)"
   ]
  },
  {
   "cell_type": "code",
   "execution_count": 20,
   "metadata": {},
   "outputs": [
    {
     "name": "stdout",
     "output_type": "stream",
     "text": [
      "False\n"
     ]
    }
   ],
   "source": [
    "yra_lygus = x == y\n",
    "print(yra_lygus)"
   ]
  },
  {
   "cell_type": "code",
   "execution_count": 21,
   "metadata": {},
   "outputs": [
    {
     "name": "stdout",
     "output_type": "stream",
     "text": [
      "True\n"
     ]
    }
   ],
   "source": [
    "yra_lygus_10 = x == 10\n",
    "print(yra_lygus_10)"
   ]
  },
  {
   "cell_type": "code",
   "execution_count": 22,
   "metadata": {},
   "outputs": [
    {
     "name": "stdout",
     "output_type": "stream",
     "text": [
      "False\n"
     ]
    }
   ],
   "source": [
    "loginis_ir = yra_didesnis and yra_lygus\n",
    "print(loginis_ir)"
   ]
  },
  {
   "cell_type": "code",
   "execution_count": 23,
   "metadata": {},
   "outputs": [
    {
     "name": "stdout",
     "output_type": "stream",
     "text": [
      "True\n"
     ]
    }
   ],
   "source": [
    "loginis_arba = yra_didesnis or yra_lygus\n",
    "print(loginis_arba)"
   ]
  },
  {
   "cell_type": "code",
   "execution_count": 25,
   "metadata": {},
   "outputs": [
    {
     "name": "stdout",
     "output_type": "stream",
     "text": [
      "True\n"
     ]
    }
   ],
   "source": [
    "loginis_ne = not True\n",
    "print(loginis_ne)"
   ]
  },
  {
   "cell_type": "markdown",
   "metadata": {},
   "source": [
    "Šiuose pavyzdžiuose mes lyginame `x` ir `y` reikšmes naudodami palyginimo operatorius (`>`, `==`). Šių palyginimų rezultatai yra 'Boolean' loginės reikšmės (`True` arba `False`). Tada atliekame loginius veiksmus (`and`, `or`, `not`) su šiomis 'Boolean' loginėmis reikšmėmis, kad gautume galutinius rezultatus."
   ]
  },
  {
   "cell_type": "code",
   "execution_count": null,
   "metadata": {},
   "outputs": [],
   "source": []
  },
  {
   "cell_type": "markdown",
   "metadata": {},
   "source": [
    "---\n",
    "\n",
    "### XOR (Ekskliuzyvus OR) operatorius:"
   ]
  },
  {
   "cell_type": "markdown",
   "metadata": {},
   "source": [
    "XOR grąžina `True`, jei tik vienas iš jo operandų yra `True`, o kitas - `False`. Jei abu operandai yra `True` arba abu yra `False`, tuomet XOR grąžina `False`.\n",
    "\n",
    "`xor` operatorius Python kalboje yra simbolizuojamas kaip `^` (nesusimaišykite su laipsnio operatoriumi kitose kalbose) jis kartais vadinamas \"ekskliuzyvus `or`\".\n",
    "\n",
    "### Tiesos lentelė XOR operacijai:\n",
    "\n",
    "| A     | B     | A `xor` B |\n",
    "|-------|-------|-----------|\n",
    "| `True`  | `True`  | `False`   |\n",
    "| `True`  | `False` | `True`    |\n",
    "| `False` | `True`  | `True`    |\n",
    "| `False` | `False` | `False`   |\n",
    "\n",
    "Python kalboje 'bitwise' bitinis XOR operatorius yra `^`, tačiau atsiminkite, kad jis veikia su sveikųjų skaičių bitais. Tačiau loginės 'boolean' logikos atveju jis elgiasi kaip loginis XOR, kai naudojamas su `True` ir `False`.\n",
    "\n",
    "💡Pastaba: XOR operacija taip pat dažnai naudojama kriptografijoje, bitų manipuliavimo užduotyse ir įvairiose kitose kompiuterijos ir elektronikos srityse.\n"
   ]
  },
  {
   "cell_type": "markdown",
   "metadata": {},
   "source": [
    "#### Praktinės programelės pavyzdys: Lempos jungikliai\n",
    "\n",
    "Įsivaizduokite, kad turite patalpą su dviem įėjimais, ir kiekviename įėjime yra jungiklis, skirtas valdyti šviesą patalpoje. Reikalavimas yra toks, kad perjungus bet kurį iš jungiklių, šviesos būsena turi pasikeisti. Jei šviesa išjungta ir perjungiamas bent vienas jungiklis, šviesa turi įsijungti. Jei šviesa įjungta ir perjungiamas bent vienas jungiklis, šviesa turi išsijungti. Tai klasikinis pavyzdys, kaip veikia `XOR` operatorius, ir šio tipo jungiklis kartais vadinamas 'trijų kelių jungikliu' elektrotechninėje kalboje.\n",
    "\n",
    "Šioje Python reprezentacijoje:\n",
    "\n",
    "- Mes turime du jungiklius: `jungikli_A` ir `jungikli_B`.\n",
    "- Pradžioje abu yra \"išjungti\" padėtyje (`False`).\n",
    "- Jei perjungsime `jungikli_A` (pasikeis jo būseną iš `False` į `True`), šviesa turėtų įsijungti.\n",
    "- Jei tuomet perjungsime jungikli_B (pasikeis jo būseną iš False į True), šviesa turėtų išsijungti, nors abu jungikliai dabar yra \"įjungti\" padėtyje.\n",
    "\n",
    "Pažiūrėkime į kodą:"
   ]
  },
  {
   "cell_type": "code",
   "execution_count": 25,
   "metadata": {},
   "outputs": [
    {
     "name": "stdout",
     "output_type": "stream",
     "text": [
      "Šviečia: False\n",
      "Šviečia: True\n",
      "Šviečia: False\n"
     ]
    }
   ],
   "source": [
    "jungiklis_A = False  # Pradinė būsena: išjungtas\n",
    "jungiklis_B = False  # Pradinė būsena: išjungtas\n",
    "\n",
    "print(\"Šviečia:\", jungiklis_A ^ jungiklis_B)\n",
    "\n",
    "# Scenarijus 1: Perjungti jungiklį_A\n",
    "jungiklis_A = not jungiklis_A\n",
    "print(\"Šviečia:\", jungiklis_A ^ jungiklis_B)\n",
    "\n",
    "# Scenarijus 2: Dabar, perjungti jungiklį_B\n",
    "jungiklis_B = not jungiklis_B\n",
    "print(\"Šviečia:\", jungiklis_A ^ jungiklis_B)"
   ]
  },
  {
   "cell_type": "markdown",
   "metadata": {},
   "source": [
    "Pirmiau pateiktame pavyzdyje šviesos būsena nustatoma atlikus `xor` operaciją su jungiklio_A ir jungiklio_B būsenomis. Taip atkartojamas dviejų jungiklių valdomos šviesos elgesys patalpoje."
   ]
  },
  {
   "cell_type": "code",
   "execution_count": null,
   "metadata": {},
   "outputs": [],
   "source": []
  },
  {
   "cell_type": "markdown",
   "metadata": {},
   "source": [
    "### Greita užduotis 6\n",
    "\n",
    "Patikrinkite, ar oro užrakinimo sistema yra saugi naudoti. Oro užraktas turi dvi duris, kurios gali būti atidarytos arba uždarytos."
   ]
  },
  {
   "cell_type": "code",
   "execution_count": 27,
   "metadata": {},
   "outputs": [
    {
     "name": "stdout",
     "output_type": "stream",
     "text": [
      "atidarytas: True\n",
      "uzdarytas: False\n"
     ]
    }
   ],
   "source": [
    "lock_A = True\n",
    "lock_B = False\n",
    "\n",
    "lock = lock_A ^ lock_B\n",
    "print(\"atidarytas:\", lock_A)\n",
    "\n",
    "lock_A = False\n",
    "lock_B = False\n",
    "\n",
    "lock = lock_A ^ lock_B\n",
    "print(\"uzdarytas:\", lock)"
   ]
  },
  {
   "cell_type": "code",
   "execution_count": 26,
   "metadata": {},
   "outputs": [
    {
     "name": "stdout",
     "output_type": "stream",
     "text": [
      "tiesa\n"
     ]
    }
   ],
   "source": [
    "number = 7\n",
    "if number:\n",
    "    print(\"tiesa\")\n",
    "else:\n",
    "    print(\"netiesa\")"
   ]
  },
  {
   "cell_type": "code",
   "execution_count": 27,
   "metadata": {},
   "outputs": [
    {
     "name": "stdout",
     "output_type": "stream",
     "text": [
      "tiesa\n"
     ]
    }
   ],
   "source": [
    "if number == 7:\n",
    "    print(\"tiesa\")\n",
    "else:\n",
    "    print(\"melas\")"
   ]
  },
  {
   "cell_type": "code",
   "execution_count": 28,
   "metadata": {},
   "outputs": [
    {
     "name": "stdout",
     "output_type": "stream",
     "text": [
      "lights are off\n"
     ]
    }
   ],
   "source": [
    "light1 = False\n",
    "light2 = False\n",
    "light_on = light1 ^ light2\n",
    "if light_on == False:\n",
    "    print(\"lights are off\")\n",
    "else:\n",
    "    print(\"lights are on\")"
   ]
  },
  {
   "cell_type": "markdown",
   "metadata": {},
   "source": [
    "### `not or` tiesos lentelė\n",
    "\n",
    "| A | B | `not` A `or` B |\n",
    "|-------|-------|-----------|\n",
    "| `True`  | `True`  | `False` |\n",
    "| `True`  | `False` | `False` |\n",
    "| `False` | `True`  | `False` |\n",
    "| `False` | `False` | `True`  |"
   ]
  },
  {
   "cell_type": "code",
   "execution_count": 29,
   "metadata": {},
   "outputs": [
    {
     "name": "stdout",
     "output_type": "stream",
     "text": [
      "labai blogai\n"
     ]
    }
   ],
   "source": [
    "turtingas = False\n",
    "laimingas = False\n",
    "if not (turtingas or laimingas):\n",
    "    print(\"labai blogai\")\n",
    "else:\n",
    "    print(\"jau gerai\")"
   ]
  },
  {
   "cell_type": "code",
   "execution_count": 30,
   "metadata": {},
   "outputs": [
    {
     "name": "stdout",
     "output_type": "stream",
     "text": [
      "labai blogai\n"
     ]
    }
   ],
   "source": [
    "turtingas = True\n",
    "laimingas = False\n",
    "if not turtingas or not laimingas:\n",
    "    print(\"labai blogai\")\n",
    "else:\n",
    "    print(\"jau gerai\")"
   ]
  },
  {
   "cell_type": "markdown",
   "metadata": {},
   "source": [
    "Uždavinys: išrinkti bent du teisingus teiginius iš keturių"
   ]
  },
  {
   "cell_type": "code",
   "execution_count": 31,
   "metadata": {},
   "outputs": [],
   "source": [
    "turtingas = True\n",
    "laimingas = False\n",
    "sveikas = False\n",
    "grazus = True"
   ]
  },
  {
   "cell_type": "code",
   "execution_count": 32,
   "metadata": {},
   "outputs": [
    {
     "name": "stdout",
     "output_type": "stream",
     "text": [
      "gerai\n"
     ]
    }
   ],
   "source": [
    "# pirmas sprendimas\n",
    "if ((turtingas or laimingas) and (sveikas or grazus)) or ((turtingas and laimingas) or (sveikas and grazus)):\n",
    "    print(\"gerai\")\n",
    "else:\n",
    "    print(\"blogai\")"
   ]
  },
  {
   "cell_type": "code",
   "execution_count": 33,
   "metadata": {},
   "outputs": [
    {
     "name": "stdout",
     "output_type": "stream",
     "text": [
      "gerai\n"
     ]
    }
   ],
   "source": [
    "# antras sprendimas\n",
    "if (turtingas or laimingas) and (sveikas or grazus):\n",
    "    print(\"gerai\")\n",
    "elif (turtingas and laimingas) or (sveikas and grazus):\n",
    "    print(\"irgi gerai\")\n",
    "else:\n",
    "    print(\"blogai\")"
   ]
  },
  {
   "cell_type": "markdown",
   "metadata": {},
   "source": [
    "### `not and` tiesos lentelė\n",
    "\n",
    "| A | B | `not` A `and` B |\n",
    "|-------|-------|-----------|\n",
    "| `True`  | `True`  | `False` |\n",
    "| `True`  | `False` | `True` |\n",
    "| `False` | `True`  | `True` |\n",
    "| `False` | `False` | `True`  |"
   ]
  },
  {
   "cell_type": "code",
   "execution_count": 34,
   "metadata": {},
   "outputs": [
    {
     "name": "stdout",
     "output_type": "stream",
     "text": [
      "blogai\n"
     ]
    }
   ],
   "source": [
    "turtingas = True\n",
    "laimingas = False\n",
    "if not (turtingas and laimingas):\n",
    "    print(\"blogai\")\n",
    "else:\n",
    "    print(\"gerai\")"
   ]
  },
  {
   "cell_type": "markdown",
   "metadata": {},
   "source": [
    "---\n",
    "\n",
    "## Veiksmų eiliškumas"
   ]
  },
  {
   "cell_type": "markdown",
   "metadata": {},
   "source": [
    "Kaip ir matematikos operatoriai, palyginimo ir 'boolean' loginiai operatoriai turi savo eiliškumą. Šie operatoriai seka po matematikos operatorių.\n",
    "\n",
    "- Palyginimo operatoriai: Palyginimo operatoriai, tokie kaip `<`, `>`, `<=`, `>=`, `==` ir `!=`, eiliškumas: iš kairės į dešinę.\n",
    "- Loginiai 'boolean' operatoriai: Loginiai 'boolean 'operatoriai `not`, `and` ir `or` yra vertinami paskutiniai.\n",
    "\n",
    "Pavyzdžiai:"
   ]
  },
  {
   "cell_type": "code",
   "execution_count": 35,
   "metadata": {},
   "outputs": [
    {
     "data": {
      "text/plain": [
       "True"
      ]
     },
     "execution_count": 35,
     "metadata": {},
     "output_type": "execute_result"
    }
   ],
   "source": [
    "True or False and True"
   ]
  },
  {
   "cell_type": "code",
   "execution_count": 36,
   "metadata": {},
   "outputs": [
    {
     "data": {
      "text/plain": [
       "True"
      ]
     },
     "execution_count": 36,
     "metadata": {},
     "output_type": "execute_result"
    }
   ],
   "source": [
    "True and False or True"
   ]
  },
  {
   "cell_type": "code",
   "execution_count": 37,
   "metadata": {},
   "outputs": [
    {
     "data": {
      "text/plain": [
       "False"
      ]
     },
     "execution_count": 37,
     "metadata": {},
     "output_type": "execute_result"
    }
   ],
   "source": [
    "False and (True or True)"
   ]
  },
  {
   "cell_type": "code",
   "execution_count": 38,
   "metadata": {},
   "outputs": [
    {
     "data": {
      "text/plain": [
       "True"
      ]
     },
     "execution_count": 38,
     "metadata": {},
     "output_type": "execute_result"
    }
   ],
   "source": [
    "not True == False"
   ]
  },
  {
   "cell_type": "code",
   "execution_count": 39,
   "metadata": {},
   "outputs": [
    {
     "data": {
      "text/plain": [
       "True"
      ]
     },
     "execution_count": 39,
     "metadata": {},
     "output_type": "execute_result"
    }
   ],
   "source": [
    "didelis_skaicius = 99\n",
    "mazas_skaicius = 1\n",
    "\n",
    "didelis_skaicius > mazas_skaicius \\\n",
    "    and didelis_skaicius + mazas_skaicius == 100\n",
    "\n",
    "# patarimas: Python kalboje galime naudoti pasvirąjį brūkšnį `\\`\n",
    "# kad padalintume kodą į eilutes, jei mūsų kodas netelpa, nesutraukiant\n",
    "# pačio teiginio"
   ]
  },
  {
   "cell_type": "markdown",
   "metadata": {},
   "source": [
    "Atliekant 'or' loginį palyginimą, Python yra suprojektuotas taip, kad grąžintų pirmąsias kintamojo reikšmes, kurios nėra 'False'. Pavyzdžiai:"
   ]
  },
  {
   "cell_type": "code",
   "execution_count": 40,
   "metadata": {},
   "outputs": [
    {
     "data": {
      "text/plain": [
       "1"
      ]
     },
     "execution_count": 40,
     "metadata": {},
     "output_type": "execute_result"
    }
   ],
   "source": [
    "0 or mazas_skaicius"
   ]
  },
  {
   "cell_type": "code",
   "execution_count": 41,
   "metadata": {},
   "outputs": [
    {
     "data": {
      "text/plain": [
       "99"
      ]
     },
     "execution_count": 41,
     "metadata": {},
     "output_type": "execute_result"
    }
   ],
   "source": [
    "0 or didelis_skaicius"
   ]
  },
  {
   "cell_type": "markdown",
   "metadata": {},
   "source": [
    "Kai yra abi reikšmės teisingos, `or` operatorius grąžina kairės pusės reikšmę, o `and` operatorius gražina dešinės pusės reikšmę"
   ]
  },
  {
   "cell_type": "code",
   "execution_count": 42,
   "metadata": {},
   "outputs": [
    {
     "data": {
      "text/plain": [
       "2"
      ]
     },
     "execution_count": 42,
     "metadata": {},
     "output_type": "execute_result"
    }
   ],
   "source": [
    "1 and 2"
   ]
  },
  {
   "cell_type": "code",
   "execution_count": 43,
   "metadata": {},
   "outputs": [
    {
     "data": {
      "text/plain": [
       "9"
      ]
     },
     "execution_count": 43,
     "metadata": {},
     "output_type": "execute_result"
    }
   ],
   "source": [
    "9 or 3"
   ]
  },
  {
   "cell_type": "code",
   "execution_count": 44,
   "metadata": {},
   "outputs": [
    {
     "data": {
      "text/plain": [
       "3"
      ]
     },
     "execution_count": 44,
     "metadata": {},
     "output_type": "execute_result"
    }
   ],
   "source": [
    "3 or 9"
   ]
  },
  {
   "cell_type": "code",
   "execution_count": 45,
   "metadata": {},
   "outputs": [
    {
     "data": {
      "text/plain": [
       "1"
      ]
     },
     "execution_count": 45,
     "metadata": {},
     "output_type": "execute_result"
    }
   ],
   "source": [
    "2 and 1"
   ]
  },
  {
   "cell_type": "markdown",
   "metadata": {},
   "source": [
    "tai vyksta todėl, kad `or` operatoriui užtenka, kad pirmas teiginys yra tiesa, ir nebetikrina toliau, o `and` operatorius užtikrina visų salygų patikrinimą."
   ]
  },
  {
   "cell_type": "markdown",
   "metadata": {},
   "source": [
    "### Greita užduotis 7\n",
    "\n",
    "Sukurkite 3 kintamuosius ir priskirkite jiems skaičius. Patikrinkite, ar pirmasis skaičius yra tarp kitų dviejų, bandykite optimizuoti."
   ]
  },
  {
   "cell_type": "code",
   "execution_count": 6,
   "metadata": {},
   "outputs": [
    {
     "name": "stdout",
     "output_type": "stream",
     "text": [
      "nėra tarp antro ir trečio numerio\n"
     ]
    }
   ],
   "source": [
    "Number1 = 25\n",
    "Number2 = 26\n",
    "Number3 = 27\n",
    "if Number2 > Number1 > Number3:\n",
    "    print(\"yra tarp antro ir trečio numerio\")\n",
    "else:\n",
    "    print(\"nėra tarp antro ir trečio numerio\")"
   ]
  },
  {
   "cell_type": "markdown",
   "metadata": {},
   "source": [
    "### Greita užduotis 8\n",
    "\n",
    "Nustatykite kintamąjį su sveikojo skaičiaus reikšme, nurodančią metus. Dabar sužinokite, ar tie metai yra keliamieji. Tai yra kas 4 metai, pradedant nuo 0, išskyrus kas 100, bet įskaitant kas 400 metus. Išaiškinimo ir patikrinimo tikslais 1900 ir 2100 metai nėra keliamieji, o 2000 metai buvo keliamieji. 2023 metai nėra keliamieji, o 2024 metai yra."
   ]
  },
  {
   "cell_type": "code",
   "execution_count": 15,
   "metadata": {},
   "outputs": [
    {
     "name": "stdout",
     "output_type": "stream",
     "text": [
      "2036 keliamieji metai\n"
     ]
    }
   ],
   "source": [
    "metai = 2036\n",
    "if metai % 4 == 0 or metai % 100 != 0 and metai % 400 == 0 :\n",
    "    print(metai, \"keliamieji metai\")\n",
    "else:\n",
    "    print(metai, \"nekeliamieji metai\")"
   ]
  },
  {
   "cell_type": "markdown",
   "metadata": {},
   "source": [
    "Nors yra daug teisingų būdų, kaip išspręsti keliamųjų metų problemą, ne visi yra optimalūs ir, be abejo, yra daug neteisingų būdų."
   ]
  },
  {
   "cell_type": "markdown",
   "metadata": {},
   "source": [
    "---\n",
    "\n",
    "## Tusčių blokų užpildymas naudojant `pass` komandą"
   ]
  },
  {
   "cell_type": "markdown",
   "metadata": {},
   "source": [
    "Kartais programavimo metu gali prireikti tuščio bloko. Tam galima naudoti `pass` komandą. Ji padeda aiškiai nurodyti, kad ši vieta programoje yra numatyta ateityje užpildyti. Python kalba, skirtingai nei kai kurios kitos kalbos, neleidžia turėti tuščių blokų, todėl `pass` komanda gali būti naudinga, norint išvengti sintaksinių klaidų.\n",
    "\n",
    "Šiame toliau pateiktame pavyzdyje parodyta, kaip kodas įdiegiamas tik iš dalies, kad būtų galima išbandyti scenarijų „lietinga“:"
   ]
  },
  {
   "cell_type": "code",
   "execution_count": 46,
   "metadata": {},
   "outputs": [
    {
     "name": "stdout",
     "output_type": "stream",
     "text": [
      "\\ | /\n",
      "- O -\n",
      "/ | \\\n"
     ]
    }
   ],
   "source": [
    "yra_saule = True\n",
    "lietinga = False\n",
    "if yra_saule and lietinga:\n",
    "    # print vaivorykštė\n",
    "    pass\n",
    "elif yra_saule:\n",
    "    # print saulė\n",
    "    print('\\\\ | /')\n",
    "    print('- O -')\n",
    "    print('/ | \\\\')\n",
    "elif lietinga:\n",
    "    print(\".'.'.'.'.'\")\n",
    "    print(\".'.'.'.'.'\")\n",
    "    print(\".'.'.'.'.'\")\n",
    "    print(\".'.'.'.'.'\")\n",
    "else:\n",
    "    # apsiniaukę\n",
    "    pass"
   ]
  },
  {
   "cell_type": "markdown",
   "metadata": {},
   "source": [
    "## Įterptos sąlygos"
   ]
  },
  {
   "cell_type": "markdown",
   "metadata": {},
   "source": [
    "Python kalboje galima įterpti vienus sąlyginius sakinio blokus į kitus, ir sąlygos yra vienas paprasčiausių būdų tai parodyti: "
   ]
  },
  {
   "cell_type": "code",
   "execution_count": 47,
   "metadata": {},
   "outputs": [
    {
     "name": "stdout",
     "output_type": "stream",
     "text": [
      "dangus yra debesuotas\n",
      "ir lyja\n"
     ]
    }
   ],
   "source": [
    "yra_debesuota = True\n",
    "lietinga = True\n",
    "if yra_debesuota:\n",
    "    print('dangus yra debesuotas')\n",
    "    if lietinga:\n",
    "        print('ir lyja')\n",
    "else:\n",
    "    print('saule šviečia')\n",
    "    if lietinga:\n",
    "        print('bet lyja')"
   ]
  },
  {
   "cell_type": "markdown",
   "metadata": {},
   "source": [
    "### Greita užduotis 9\n",
    "\n",
    "Pakartotinai įgyvendinkite keliamųjų metų sprendimą tik naudodami įterptas sąlygas, ​​be loginių operatorių. Kuris būdas lengviau suprantamas?"
   ]
  },
  {
   "cell_type": "code",
   "execution_count": 18,
   "metadata": {},
   "outputs": [
    {
     "name": "stdout",
     "output_type": "stream",
     "text": [
      "nėra keliamieji\n"
     ]
    }
   ],
   "source": [
    "metai = 2100\n",
    "if metai % 4 == 0:\n",
    "    if metai % 100 == 0:\n",
    "        if metai % 400 == 0:\n",
    "            print(\"yra keliamieji\")\n",
    "        else:\n",
    "            print(\"nėra keliamieji\")\n",
    "    else:\n",
    "        print(\"yra keliamieji\")\n",
    "else:\n",
    "    print(\"nėra keliamieji\")"
   ]
  },
  {
   "cell_type": "markdown",
   "metadata": {},
   "source": [
    "---\n",
    "\n",
    "## Išvada\n",
    "\n",
    "'Booleans' loginiai kintamieji yra pagrindiniai programavime, ypač sąlygose ir cikluose, nes jie leidžia mums valdyti programos eigoje pagal tam tikrų sąlygų tiesą(True) arba neteisybę(False)."
   ]
  },
  {
   "cell_type": "markdown",
   "metadata": {},
   "source": [
    "---\n",
    "\n",
    "## Papildoma informacija"
   ]
  },
  {
   "cell_type": "markdown",
   "metadata": {},
   "source": [
    "1. **Oficiali Python dokumentacija**:\n",
    "    - [`if` sąlyga](https://docs.python.org/3/reference/compound_stmts.html#if): Išsamus aprašymas apie tai, kaip veikia `if` sąlyga Python programavimo kalboje.\n",
    "    - [Tiesos reikšmių testavimas](https://docs.python.org/3/library/stdtypes.html#truth-value-testing): Sužinokite daugiau apie tai, kaip Python programavimo kalba nustato objektų tiesą arba netiesą.\n",
    "    - ['Boolean' loginiai veiksmai](https://docs.python.org/3/library/stdtypes.html#boolean-operations-and-or-not): Detalus įvadas į Python programavimo kalbos standartinius loginius veiksmus, tokius kaip `and`, `or`, ir `not`.\n",
    "\n",
    "2. **Interaktyvūs mokymai**:\n",
    "    - [LearnPython.org - Sąlygos](https://www.learnpython.org/en/Conditions): Interaktyvus vadovas apie sąlygas Python programavimo kalboje.\n",
    "    - [Programiz - Python If...Else](https://www.programiz.com/python-programming/if-elif-else): Pradedantiesiems draugiškas gidas apie if, elif ir else sąlyginį teiginį Python programavimo kalboje.\n",
    "\n",
    "3. **Išsamus tyrimas**:\n",
    "    - [Real Python - If Statements](https://realpython.com/python-conditional-statements/): Išsami analizė apie sąlyginio teiginio veikimą Python programavimo kalboje, nuo paprastų if teiginiu iki sudėtingesnių įdėtų sąlygų.\n",
    "    - [GeeksforGeeks - Python Logical Operators](https://www.geeksforgeeks.org/python-logical-operators-with-examples-improvement-needed/): Straipsnis, kuriame paaiškinami loginiai operatoriai Python programavimo kalboje su praktiniais pavyzdžiais.\n"
   ]
  }
 ],
 "metadata": {
  "kernelspec": {
   "display_name": "venv",
   "language": "python",
   "name": "python3"
  },
  "language_info": {
   "codemirror_mode": {
    "name": "ipython",
    "version": 3
   },
   "file_extension": ".py",
   "mimetype": "text/x-python",
   "name": "python",
   "nbconvert_exporter": "python",
   "pygments_lexer": "ipython3",
   "version": "3.12.1"
  },
  "orig_nbformat": 4
 },
 "nbformat": 4,
 "nbformat_minor": 2
}
