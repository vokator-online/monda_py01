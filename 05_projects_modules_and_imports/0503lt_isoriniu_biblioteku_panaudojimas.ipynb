{
 "cells": [
  {
   "cell_type": "markdown",
   "metadata": {},
   "source": [
    "0503 ir 0504 perdaryti i markdown (.md)"
   ]
  },
  {
   "cell_type": "markdown",
   "metadata": {},
   "source": [
    "# Išorinių bibliotekų panaudojimas"
   ]
  },
  {
   "cell_type": "markdown",
   "metadata": {},
   "source": [
    "Python programavimo kalba turi daug išorinių bibliotekų, kurias galite naudoti savo projektuose, kad išvengtumėte kodo dubliavimo ir pasinaudotumėte kitų kūrėjų darbu. Šios bibliotekos dažnai yra platinamos per Python Package Index (PyPI) ir gali būti įdiegtos naudojant pip - Python paketų tvarkyklę."
   ]
  },
  {
   "cell_type": "markdown",
   "metadata": {},
   "source": [
    "## pip install, pip list\n",
    "\n",
    "Pagrindinės pip komandos yra:\n",
    "\n",
    "pip install <paketo_pavadinimas>: įdiegia paketą iš PyPI."
   ]
  },
  {
   "cell_type": "code",
   "execution_count": null,
   "metadata": {
    "vscode": {
     "languageId": "plaintext"
    }
   },
   "outputs": [],
   "source": [
    "pip install requests"
   ]
  },
  {
   "cell_type": "markdown",
   "metadata": {},
   "source": [
    "pip list: rodo visus įdiegtus paketus ir jų versijas."
   ]
  },
  {
   "cell_type": "code",
   "execution_count": null,
   "metadata": {
    "vscode": {
     "languageId": "plaintext"
    }
   },
   "outputs": [],
   "source": [
    "pip list"
   ]
  },
  {
   "cell_type": "markdown",
   "metadata": {},
   "source": [
    "## Kaip naudoti `requirements.txt` ir `pip freeze`"
   ]
  },
  {
   "cell_type": "markdown",
   "metadata": {},
   "source": [
    "Sukurkite virtualią aplinką ir aktyvuokite ją (jei dar neaktyvavote):"
   ]
  },
  {
   "cell_type": "code",
   "execution_count": null,
   "metadata": {
    "vscode": {
     "languageId": "plaintext"
    }
   },
   "outputs": [],
   "source": [
    "python -m venv venv\n",
    "source venv/bin/activate  # Linux/MacOS\n",
    "venv\\Scripts\\activate     # Windows"
   ]
  },
  {
   "cell_type": "markdown",
   "metadata": {},
   "source": [
    "Įdiekite reikiamas išorines bibliotekas naudojant"
   ]
  },
  {
   "cell_type": "code",
   "execution_count": null,
   "metadata": {
    "vscode": {
     "languageId": "plaintext"
    }
   },
   "outputs": [],
   "source": [
    "pip install <paketo_pavadinimas>"
   ]
  },
  {
   "cell_type": "markdown",
   "metadata": {},
   "source": [
    "Po to, kai visos reikiamos bibliotekos yra įdiegtos, naudokite komandą `pip freeze > requirements.txt`, kad sugeneruotumėte `requirements.txt` failą su visomis įdiegtomis bibliotekomis ir jų versijomis:"
   ]
  },
  {
   "cell_type": "code",
   "execution_count": null,
   "metadata": {
    "vscode": {
     "languageId": "plaintext"
    }
   },
   "outputs": [],
   "source": [
    "pip freeze > requirements.txt"
   ]
  },
  {
   "cell_type": "markdown",
   "metadata": {},
   "source": [
    "`requirements.txt` failą įtraukite į savo projekto repozitoriją, kad kitų kūrėjų ar kompiuterių būtų lengviau įdiegti visas reikiamas priklausomybes."
   ]
  },
  {
   "cell_type": "markdown",
   "metadata": {},
   "source": [
    "### Kodėl reikalinga virtuali aplinka kiekvienam projektui?"
   ]
  },
  {
   "cell_type": "markdown",
   "metadata": {},
   "source": [
    "Virtualios aplinkos yra izoliuotos Python aplinkos, kurios leidžia atskirai valdyti kiekvieno projekto priklausomybes. Virtualios aplinkos yra naudingos dėl šių priežasčių:\n",
    "\n",
    "- Izoliacija: kiekvienas projektas gali turėti savo bibliotekų versijas, be jokių konfliktų su kitais projektais.\n",
    "- Tvarka: virtualios aplinkos padeda išlaikyti sistemos tvarką, kadangi bibliotekos nėra įdiegiamos globaliai.\n",
    "- Perkeliamumas: virtualių aplinkų naudojimas palengvina projekto perkėlimą tarp skirtingų kompiuterių, nes priklausomybės yra aiškiai aprašytos."
   ]
  }
 ],
 "metadata": {
  "language_info": {
   "name": "python"
  }
 },
 "nbformat": 4,
 "nbformat_minor": 2
}
