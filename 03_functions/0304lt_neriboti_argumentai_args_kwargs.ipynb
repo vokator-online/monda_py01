{
 "cells": [
  {
   "cell_type": "markdown",
   "metadata": {},
   "source": [
    "# Neriboti argumentai `*args` ir `**kwargs`\n",
    "\n",
    "## `*args`\n",
    "\n",
    "- yra ypatingas Python sintaksės elementas, leidžiantis perduoti bet kokį pozicinio argumento skaičių į funkciją.\n",
    "- sukuria tuple iš visų perduotų pozicinių argumentų, kurią galima naudoti kaip bet kurią kitą tuple.\n",
    "\n",
    "**Pavyzdys**:"
   ]
  },
  {
   "cell_type": "code",
   "execution_count": 1,
   "metadata": {},
   "outputs": [
    {
     "name": "stdout",
     "output_type": "stream",
     "text": [
      "1\n",
      "2\n",
      "3\n",
      "Labas\n",
      "Pasauli\n"
     ]
    }
   ],
   "source": [
    "def spausdinti_args(*args):\n",
    "    for arg in args:\n",
    "        print(arg)\n",
    "\n",
    "spausdinti_args(1, 2, 3, \"Labas\", \"Pasauli\")"
   ]
  },
  {
   "cell_type": "markdown",
   "metadata": {},
   "source": [
    "`Sumavimo` funkcijos pavyzdys naudojant `*args`:"
   ]
  },
  {
   "cell_type": "code",
   "execution_count": 2,
   "metadata": {},
   "outputs": [
    {
     "name": "stdout",
     "output_type": "stream",
     "text": [
      "6\n",
      "22\n"
     ]
    }
   ],
   "source": [
    "def suma_reiksmiu(*args):\n",
    "    total = 0\n",
    "    for i in args:\n",
    "        total += i\n",
    "    return total\n",
    "\n",
    "print(suma_reiksmiu(1, 2, 3))  # 6\n",
    "print(suma_reiksmiu(4, 5, 6, 7))  # 22"
   ]
  },
  {
   "cell_type": "markdown",
   "metadata": {},
   "source": [
    "Funkcija, kuri `sujungia` ir spausdina visus `*args` elementus:"
   ]
  },
  {
   "cell_type": "code",
   "execution_count": 5,
   "metadata": {},
   "outputs": [
    {
     "name": "stdout",
     "output_type": "stream",
     "text": [
      "Labas Pasauli\n",
      "1234\n"
     ]
    }
   ],
   "source": [
    "def sujungti(*args):\n",
    "    sujungta = \"\"\n",
    "    for arg in args:\n",
    "        sujungta += str(arg)\n",
    "    print(sujungta)\n",
    "\n",
    "sujungti(\"Labas\", \" \", \"Pasauli\")  # Labas Pasauli\n",
    "sujungti(1, 2, 3, 4)  # 1234"
   ]
  },
  {
   "cell_type": "markdown",
   "metadata": {},
   "source": [
    "Funkcija, kuri `grąžina` visus `*args` elementus, kurie yra didesni už nurodytą skaičių:"
   ]
  },
  {
   "cell_type": "code",
   "execution_count": 4,
   "metadata": {},
   "outputs": [
    {
     "name": "stdout",
     "output_type": "stream",
     "text": [
      "[4, 5]\n",
      "[]\n"
     ]
    }
   ],
   "source": [
    "def didesni_uz(skaicius, *args):\n",
    "    didesni_elementai = []\n",
    "    for arg in args:\n",
    "        if arg > skaicius:\n",
    "            didesni_elementai.append(arg)\n",
    "    return didesni_elementai\n",
    "\n",
    "print(didesni_uz(3, 1, 2, 3, 4, 5))  # [4, 5]\n",
    "print(didesni_uz(10, 1, 2, 3, 4, 5))  # []"
   ]
  },
  {
   "cell_type": "markdown",
   "metadata": {},
   "source": [
    "Funkcija, kuri `grąžina` kiekvieno `*args` elemento ilgį kaip sąrašą:"
   ]
  },
  {
   "cell_type": "code",
   "execution_count": 6,
   "metadata": {},
   "outputs": [
    {
     "name": "stdout",
     "output_type": "stream",
     "text": [
      "[5, 7]\n",
      "[3, 4, 2]\n"
     ]
    }
   ],
   "source": [
    "def eiluciu_ilgiai(*args):\n",
    "    ilgiai = []\n",
    "    for arg in args:\n",
    "        ilgis = len(str(arg))\n",
    "        ilgiai.append(ilgis)\n",
    "    return ilgiai\n",
    "\n",
    "print(eiluciu_ilgiai(\"Labas\", \"Pasauli\"))  # [5, 5]\n",
    "print(eiluciu_ilgiai(123, 4567, 89))  # [3, 4, 2]"
   ]
  },
  {
   "cell_type": "markdown",
   "metadata": {},
   "source": [
    "# `Greita užduotis 1: *args Praktika`\n",
    "\n",
    "1. Sukurkite Python funkciją, pavadinimu `calculate_total` kuri priima bet kokius skaičių argumentus, kurie atstovauja prekių kainoms.\n",
    "```python\n",
    "# Kainų pavyzdys\n",
    "item_prices = [10.99, 5.49, 7.25, 3.99]\n",
    "```\n",
    "2. Apskaičiuokite ir grąžinkite visų prekių bendrą kainų `sumą`."
   ]
  },
  {
   "cell_type": "code",
   "execution_count": 7,
   "metadata": {},
   "outputs": [
    {
     "name": "stdout",
     "output_type": "stream",
     "text": [
      "Bendra suma: €27.72\n"
     ]
    }
   ],
   "source": [
    "def calculate_total(*args):\n",
    "    total = sum(args)\n",
    "    return total\n",
    "\n",
    "item_prices = [10.99, 5.49, 7.25, 3.99]\n",
    "\n",
    "total_price = calculate_total(*item_prices)\n",
    "print(f\"Bendra suma: €{total_price:.2f}\")"
   ]
  },
  {
   "cell_type": "markdown",
   "metadata": {},
   "source": [
    "## `**kwargs`\n",
    "\n",
    "`**kwargs` yra dar vienas specialus Python sintaksės elementas, leidžiantis perduoti „rakto ir reikšmės“ rinkinį funkcijai kaip žodyną.\n",
    "\n",
    "**Pavyzdys**:"
   ]
  },
  {
   "cell_type": "code",
   "execution_count": 9,
   "metadata": {},
   "outputs": [
    {
     "name": "stdout",
     "output_type": "stream",
     "text": [
      "vardas: Jonas\n",
      "amžius: 30\n",
      "miestas: Londonas\n"
     ]
    }
   ],
   "source": [
    "def spausdinti_kwargs(**kwargs):\n",
    "    for raktas, reikšmė in kwargs.items():\n",
    "        print(f\"{raktas}: {reikšmė}\")\n",
    "\n",
    "spausdinti_kwargs(vardas=\"Jonas\", amžius=30, miestas=\"Londonas\")"
   ]
  },
  {
   "cell_type": "code",
   "execution_count": 14,
   "metadata": {},
   "outputs": [
    {
     "name": "stdout",
     "output_type": "stream",
     "text": [
      "    Vardas: Jonas\n",
      "    Amžius: 30\n",
      "   Miestas: Londonas\n"
     ]
    }
   ],
   "source": [
    "def spausdinti_kwargs(**kwargs):\n",
    "    for raktas, reikšmė in kwargs.items():\n",
    "        print(f\"{raktas: >10}: {reikšmė}\")\n",
    "\n",
    "spausdinti_kwargs(Vardas=\"Jonas\", Amžius=30, Miestas=\"Londonas\")"
   ]
  },
  {
   "cell_type": "markdown",
   "metadata": {},
   "source": [
    "Funkcija pavadinimu \"`skaičiuoti`\", atspausdina `**products` elementų sąrašą ir susumuoja jų kainas. Taip pat demonstruojama, kad `**kwargs` gali būti pavadintas pagal jūsų pageidavimus."
   ]
  },
  {
   "cell_type": "code",
   "execution_count": 15,
   "metadata": {},
   "outputs": [
    {
     "name": "stdout",
     "output_type": "stream",
     "text": [
      "pienukas: 2.00€\n",
      "miltai: 1.00€\n",
      "kiaušiniai: 3.00€\n",
      "Iš viso: 6.00€\n"
     ]
    }
   ],
   "source": [
    "def skaiciuoti(**products):\n",
    "    total = 0\n",
    "    for produktas, kaina in products.items():\n",
    "        total += kaina\n",
    "        print(f\"{produktas}: {kaina:.2f}€\")\n",
    "    print(f\"Iš viso: {total:.2f}€\")\n",
    "\n",
    "skaiciuoti(pienukas=2, miltai=1, kiaušiniai=3)"
   ]
  },
  {
   "cell_type": "code",
   "execution_count": 29,
   "metadata": {},
   "outputs": [
    {
     "name": "stdout",
     "output_type": "stream",
     "text": [
      "              Pienas:       2.00€\n",
      "              Miltai:       1.00€\n",
      "          Kiaušiniai:       3.00€\n",
      "             Iš viso:       6.00€\n"
     ]
    }
   ],
   "source": [
    "def skaiciuoti(**products):\n",
    "    total = 0\n",
    "    for produktas, kaina in products.items():\n",
    "        total += kaina\n",
    "        print(f\"{produktas:>20}: {kaina:>10.2f}€\")\n",
    "    print(f\"             Iš viso: {total:>10.2f}€\")\n",
    "\n",
    "skaiciuoti(Pienas=2, Miltai=1, Kiaušiniai=3)"
   ]
  },
  {
   "cell_type": "markdown",
   "metadata": {},
   "source": [
    "# `Greita užduotis 2: **kwargs, Kontaktinės informacijos spausdinimas`\n",
    "\n",
    "1. Parašykite Python funkciją pavadinimu `spausdinti_kontaktine_info`, kuri priima tris raktais žymimus argumentus: `vardas`, `el. paštas` ir `telefonas`. \n",
    "- Ši funkcija turi atspausdinti kiekvieną informacijos dalį atskiruose eilutėse.\n",
    "```python\n",
    "# rezultato pavyzdys:\n",
    "vardas: Jonas\n",
    "el. paštas: mano@info.lt\n",
    "telefonas: +370 1231234\n",
    "```"
   ]
  },
  {
   "cell_type": "code",
   "execution_count": 8,
   "metadata": {},
   "outputs": [
    {
     "name": "stdout",
     "output_type": "stream",
     "text": [
      "        Vardas: Jonas\n",
      "    El. paštas: mano@info.lt\n",
      "     Telefonas: +370 612 34567\n"
     ]
    }
   ],
   "source": [
    "def print_contact_info(**kwargs):\n",
    "    if 'Vardas' in kwargs:\n",
    "        print(f\"        Vardas: {kwargs['Vardas']}\")\n",
    "    if 'email' in kwargs:\n",
    "        print(f\"    El. paštas: {kwargs['email']}\")\n",
    "    if 'telefonas' in kwargs:\n",
    "        print(f\"     Telefonas: {kwargs['telefonas']}\")\n",
    "\n",
    "contact_info = {\n",
    "    'Vardas': 'Jonas',\n",
    "    'email': 'mano@info.lt',\n",
    "    'telefonas': '+370 612 34567'\n",
    "}\n",
    "\n",
    "print_contact_info(**contact_info)"
   ]
  },
  {
   "cell_type": "markdown",
   "metadata": {},
   "source": [
    "# `*args kartu su **kwargs`\n",
    "Kai kuriose situacijose gali prireikti funkcijos, kuri priima tiek pozicinius argumentus, tiek argumentus, kurie nėra apibrėžti funkcijos deklaracijoje. Tokias funkcijas galima kurti naudojant `*args` ir `**kwargs` kartu su įprastais argumentais.\n",
    "\n",
    "**Pavyzdys**:"
   ]
  },
  {
   "cell_type": "code",
   "execution_count": 3,
   "metadata": {},
   "outputs": [
    {
     "name": "stdout",
     "output_type": "stream",
     "text": [
      "Vardas: Jonas\n",
      "miestas: Londonas\n",
      "amžius: 30\n",
      "linksmas\n",
      "draugiškas\n",
      "drąsus\n"
     ]
    }
   ],
   "source": [
    "def spausdinti_argumentus(vardas, *args, **kwargs):\n",
    "    print(f\"Vardas: {vardas}\")\n",
    "    for raktas, reikšmė in kwargs.items():\n",
    "        print(f\"{raktas}: {reikšmė}\")\n",
    "    for arg in args:\n",
    "        print(arg)\n",
    "\n",
    "spausdinti_argumentus(\"Jonas\", \"linksmas\", \"draugiškas\", \"drąsus\", miestas=\"Londonas\", amžius=30)"
   ]
  },
  {
   "cell_type": "markdown",
   "metadata": {},
   "source": [
    "# `Greita užduotis 3: Sujungti *args ir **kwargs`\n",
    "\n",
    "1. Parašykite Python funkciją pavadinimu `sujungti_sarasus`, kuri priima bet kokį skaičių pozicinių argumentų (`*args`) ir \"raktai-reikšmės\" porų (`**kwargs`). \n",
    "- Funkcija turi sujungti šiuos duomenis į vieną sąrašą ir jį grąžinti.\n",
    "\n",
    "```python\n",
    "# Rezultato pavyzdys:\n",
    "[1, 2, 3, ('vardas', 'Jonas'), ('amžius', 25), ('miestas', 'Vilnius')]\n",
    "```"
   ]
  },
  {
   "cell_type": "code",
   "execution_count": 12,
   "metadata": {},
   "outputs": [
    {
     "name": "stdout",
     "output_type": "stream",
     "text": [
      "[1, 2, 3, ('vardas', 'Jonas'), ('amžiūs', 25), ('miestas', 'Vilnius')]\n"
     ]
    }
   ],
   "source": [
    "def sujungti_sąrašus(*args, **kwargs):\n",
    "    resultatas = list(args) + list(kwargs.items())\n",
    "    return resultatas\n",
    "\n",
    "rezultatas = sujungti_sąrašus(1, 2, 3, vardas='Jonas', amžiūs=25, miestas='Vilnius')\n",
    "print(rezultatas)"
   ]
  },
  {
   "cell_type": "code",
   "execution_count": 17,
   "metadata": {},
   "outputs": [
    {
     "name": "stdout",
     "output_type": "stream",
     "text": [
      "['a', 'b', 'c', ('vardas', 'Bronius'), ('amžius', 79), ('miestas', 'Barbieliškės')]\n"
     ]
    }
   ],
   "source": [
    "def sujungti_sąrašus_2(*args, **kwargs):\n",
    "    combined = list(args)\n",
    "    for key, value in kwargs.items():\n",
    "        combined.append((key, value))\n",
    "    return combined\n",
    "\n",
    "sujungti_sąrašus_2 = sujungti_sąrašus_2('a', 'b', 'c', vardas='Bronius', amžius=79, miestas='Barbieliškės')\n",
    "print(sujungti_sąrašus_2)"
   ]
  },
  {
   "cell_type": "markdown",
   "metadata": {},
   "source": [
    "# `Papildoma užduotis: Argumentų filtravimas`\n",
    "\n",
    "Sukurkite Python funkciją pavadinimu `filtruoti_argumentus`, kuri priima bet kokį skaičių pozicinių argumentų (`*args`) ir \"raktai-reikšmės\" porų (`**kwargs`). \n",
    "\n",
    "Funkcija turi atlikti šiuos veiksmus:\n",
    "\n",
    "1. `Filtruoti` pozicinius argumentus (*args), paliekant tik tuos, kurie yra `skaičiai` (integers).\n",
    "1. `Filtruoti` raktus ir reikšmes (**kwargs), paliekant tik tuos, kurių raktas prasideda raidė '`a`' ir reikšmė yra stringas.\n",
    "1. `Grąžinkite` du sąrašus: viename bus likę poziciniai argumentai (`skaičiai`), o kitame `raktai-reikšmės` poros iš **kwargs.\n",
    "\n",
    "```python\n",
    "# Jusu funkcijos kvietimas\n",
    "rezultatai = filtruoti_argumentus(1, 'Jonas', 3, 5, amžius='25', miestas='Vilnius', adresas='Kaunas')\n",
    "# Atspausdinimas\n",
    "print(rezultatai)\n",
    "# Rezultato pavyzdys:\n",
    "([1, 3, 5], {'amžius': '25', 'adresas': 'Vilnius'})\n",
    "```\n",
    "\n",
    "Pastaba: Patikrinkite, ar poziciniuose argumentuose yra skaičių tipų, o **kwargs filtravimas turi atsižvelgti į raktus ir reikšmes pagal sąlygas."
   ]
  },
  {
   "cell_type": "code",
   "execution_count": 19,
   "metadata": {},
   "outputs": [
    {
     "name": "stdout",
     "output_type": "stream",
     "text": [
      "([1, 3, 5], {'amžius': '25', 'adresas': 'Kaunas'})\n"
     ]
    }
   ],
   "source": [
    "def filtruoti_argumentus(*args, **kwargs):\n",
    "    \n",
    "    pozicinis_argumentas = []\n",
    "    for arg in args:\n",
    "        if type(arg) == int:\n",
    "            pozicinis_argumentas.append(arg)\n",
    "\n",
    "    raktai_ir_reikšmės = {}\n",
    "    for key, value in kwargs.items():\n",
    "        if key.startswith('a') and type(value) == str:\n",
    "            raktai_ir_reikšmės[key] = value\n",
    "\n",
    "    return pozicinis_argumentas, raktai_ir_reikšmės\n",
    "\n",
    "rezultatas = filtruoti_argumentus(1, 'Jonas', 3, 5, amžius='25', miestas='Vilnius', adresas='Kaunas')\n",
    "\n",
    "print(rezultatas)"
   ]
  },
  {
   "cell_type": "markdown",
   "metadata": {},
   "source": [
    ">Taigi, `*args` leidžia perduoti neribotą kiekį pozicinių argumentų, o `**kwargs` leidžia perduoti neribotą kiekį rakšažodinių argumentų, susidedančių iš raktų ir reikšmių. Galima kombinuoti šiuos elementus su įprastais argumentais funkcijose, kad būtų gautas didesnis funkcionalumas ir lankstumas."
   ]
  }
 ],
 "metadata": {
  "kernelspec": {
   "display_name": "venv",
   "language": "python",
   "name": "python3"
  },
  "language_info": {
   "codemirror_mode": {
    "name": "ipython",
    "version": 3
   },
   "file_extension": ".py",
   "mimetype": "text/x-python",
   "name": "python",
   "nbconvert_exporter": "python",
   "pygments_lexer": "ipython3",
   "version": "3.12.1"
  }
 },
 "nbformat": 4,
 "nbformat_minor": 2
}
