{
 "cells": [
  {
   "cell_type": "markdown",
   "metadata": {},
   "source": [
    "# Quick assignment answers"
   ]
  },
  {
   "cell_type": "code",
   "execution_count": 5,
   "metadata": {},
   "outputs": [],
   "source": [
    "# QA 1\n",
    "\n",
    "user_entry = ''\n",
    "while user_entry.upper() != 'X':\n",
    "    user_entry = input(\"Input X to exit: \")"
   ]
  },
  {
   "cell_type": "code",
   "execution_count": 6,
   "metadata": {},
   "outputs": [
    {
     "name": "stdout",
     "output_type": "stream",
     "text": [
      "0\n",
      "1\n",
      "2\n",
      "3\n",
      "4\n",
      "5\n",
      "6\n",
      "7\n",
      "8\n",
      "9\n",
      "10\n"
     ]
    }
   ],
   "source": [
    "# QA 2\n",
    "\n",
    "i = 0\n",
    "while i < 10:\n",
    "    print(i)\n",
    "    i += 1\n",
    "print(i)"
   ]
  },
  {
   "cell_type": "code",
   "execution_count": 1,
   "metadata": {},
   "outputs": [
    {
     "name": "stdout",
     "output_type": "stream",
     "text": [
      "number must be positive, please try again\n",
      "Even!\n"
     ]
    }
   ],
   "source": [
    "# QA 3\n",
    "\n",
    "while True:\n",
    "    number = int(input(\"number: \"))\n",
    "    if number <= 0:\n",
    "        print(\"number must be positive, please try again\")\n",
    "    elif number % 2 == 0:\n",
    "        print(\"Even!\")\n",
    "        break\n",
    "    elif number % 2 != 0:\n",
    "        print(\"Odd!\")\n",
    "        break "
   ]
  },
  {
   "cell_type": "code",
   "execution_count": 2,
   "metadata": {},
   "outputs": [
    {
     "name": "stdout",
     "output_type": "stream",
     "text": [
      "Incorrect! you have 2 more attempts\n",
      "Incorrect! you have 1 more attempts\n",
      "Correct!\n"
     ]
    }
   ],
   "source": [
    "# QA 4\n",
    "\n",
    "password = \"secret\"\n",
    "attempts = 3\n",
    "\n",
    "while attempts > 0:\n",
    "    answer = input(\"Enter password: \")\n",
    "    if answer != password:\n",
    "        attempts -= 1\n",
    "        print(f\"Incorrect! you have {attempts} more attempts\")\n",
    "    else:\n",
    "        print(\"Correct!\")\n",
    "        break\n",
    "else:\n",
    "    print(\"Sorry too many wrong attempts, try again later\")"
   ]
  },
  {
   "cell_type": "markdown",
   "metadata": {},
   "source": [
    "# Assignment answers"
   ]
  },
  {
   "cell_type": "code",
   "execution_count": 11,
   "metadata": {},
   "outputs": [
    {
     "name": "stdout",
     "output_type": "stream",
     "text": [
      "\n",
      "    Welcome to calculator v0.0.1\n",
      "    Commands:\n",
      "          + | add two numbers\n",
      "          - | subtract two numbers\n",
      "          * | multiply two numbers\n",
      "          / | divide two numbers\n",
      "          exit \n",
      "    \n",
      "result is  4.0\n",
      "\n",
      "    Welcome to calculator v0.0.1\n",
      "    Commands:\n",
      "          + | add two numbers\n",
      "          - | subtract two numbers\n",
      "          * | multiply two numbers\n",
      "          / | divide two numbers\n",
      "          exit \n",
      "    \n",
      "result is  24.0\n",
      "\n",
      "    Welcome to calculator v0.0.1\n",
      "    Commands:\n",
      "          + | add two numbers\n",
      "          - | subtract two numbers\n",
      "          * | multiply two numbers\n",
      "          / | divide two numbers\n",
      "          exit \n",
      "    \n",
      "Goodbye :)\n"
     ]
    }
   ],
   "source": [
    "while True:\n",
    "    print(\"\"\"\n",
    "    Welcome to calculator v0.0.1\n",
    "    Commands:\n",
    "          + | add two numbers\n",
    "          - | subtract two numbers\n",
    "          * | multiply two numbers\n",
    "          / | divide two numbers\n",
    "          exit \n",
    "    \"\"\")\n",
    "    command = input(\"Enter command: \")\n",
    "    if command == \"exit\":\n",
    "        print(\"Goodbye :)\")\n",
    "        break\n",
    "\n",
    "    elif command == \"+\":\n",
    "        num_1 = float(input(\"Enter number1: \"))\n",
    "        num_2 = float(input(\"Enter number2: \"))\n",
    "        print(\"result is \", num_1 + num_2)\n",
    "\n",
    "    elif command == \"-\":\n",
    "        num_1 = float(input(\"Enter number1: \"))\n",
    "        num_2 = float(input(\"Enter number2: \"))\n",
    "        print(\"result is \", num_1 - num_2)\n",
    "    \n",
    "    elif command == \"*\":\n",
    "        num_1 = float(input(\"Enter number1: \"))\n",
    "        num_2 = float(input(\"Enter number2: \"))\n",
    "        print(\"result is \", num_1 * num_2)\n",
    "\n",
    "    elif command == \"-\":\n",
    "        num_1 = float(input(\"Enter number1: \"))\n",
    "        num_2 = float(input(\"Enter number2: \"))\n",
    "        print(\"result is \", num_1 / num_2)\n",
    "\n",
    "    else:\n",
    "        print(\"Invalid command :(\")"
   ]
  }
 ],
 "metadata": {
  "kernelspec": {
   "display_name": "venv",
   "language": "python",
   "name": "python3"
  },
  "language_info": {
   "codemirror_mode": {
    "name": "ipython",
    "version": 3
   },
   "file_extension": ".py",
   "mimetype": "text/x-python",
   "name": "python",
   "nbconvert_exporter": "python",
   "pygments_lexer": "ipython3",
   "version": "3.11.7"
  },
  "orig_nbformat": 4
 },
 "nbformat": 4,
 "nbformat_minor": 2
}
