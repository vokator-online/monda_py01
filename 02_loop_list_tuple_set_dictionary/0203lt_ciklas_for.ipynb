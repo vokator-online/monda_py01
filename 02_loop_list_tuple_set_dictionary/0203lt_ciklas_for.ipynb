{
 "cells": [
  {
   "cell_type": "markdown",
   "metadata": {},
   "source": [
    "# `for` Ciklai\n",
    "Kas yra `for` ciklas?\n",
    "\n",
    "`for` ciklas Python programavimo kalboje yra valdymo srauto teiginys, leidžiantis iteruoti per nustatytą elementų rinkinį, tokių kaip sąrašai, žodynai ir kt.\n",
    "Iteracija yra bendrasis terminas, naudojamas programavimo ir informatikos srityse, kuris apibūdina procesą, kai seka veiksmų arba instrukcijų pakartotinai vykdoma tam tikruose elementuose, dažniausiai po vieną. Tai yra pagrindinė programavimo sąvoka ir naudojama peržiūrėti, apdoroti arba manipuliuoti duomenų kolekcijomis.\n",
    "\n",
    "- `for` cikle nurodoma kintamoji (ar kintamosios), kurioje saugomas kiekvieno žingsnio iteracijos elementas. Ciklo blokas įrašomas nuo kairiojo krašto ir vykdomas kiekvienam nustatytos iteracijos žingsniui.\n",
    "\n",
    "## `for` ciklo pritaikymas `sąraše`:\n",
    "\n",
    "Pavyzdžiui, jei turime skaičių sąrašą ir norime atspausdinti kiekvieną skaičių, galime naudoti for ciklą, kaip parodyta žemiau:\n"
   ]
  },
  {
   "cell_type": "code",
   "execution_count": 1,
   "metadata": {},
   "outputs": [
    {
     "name": "stdout",
     "output_type": "stream",
     "text": [
      "1\n",
      "2\n",
      "3\n",
      "4\n",
      "5\n"
     ]
    }
   ],
   "source": [
    "skaičiai = [1, 2, 3, 4, 5]\n",
    "\n",
    "for skaicius in skaičiai:\n",
    "    print(skaicius)"
   ]
  },
  {
   "cell_type": "markdown",
   "metadata": {},
   "source": [
    "Svarbu paminėti, kad '`i`' dažnai naudojamas kaip kintamasis cikle arba iteracijų kintamasis `for` cikluose. Tai yra konvencija ir reiškia \"indeksą\" arba \"iteraciją\". '`i`' kintamasis dažnai naudojamas valdyti iteracijų skaičių arba pasiekti elementus masyve ar sąraše. Tačiau svarbu pažymėti, kad `for` cikle galite naudoti bet kokį kintamojo pavadinimą, bet '`i`' plačiai suprantamas ir pripažįstamas ciklo kontekste.\n",
    "\n",
    "- Prašome atkreipti dėmesį, kad `for` ciklas, kai jis taikomas aibėms ir tuplams, elgiasi taip pat kaip ir sąrašašuose."
   ]
  },
  {
   "cell_type": "markdown",
   "metadata": {},
   "source": [
    "# `Greitas Uždavinys 1: FOR Ciklo Praktika`\n",
    "1. Sukurkite sąrašą su bent penkiais elementais\n",
    "1. Atspausdinkite jį naudodami `for` ciklą"
   ]
  },
  {
   "cell_type": "code",
   "execution_count": 15,
   "metadata": {},
   "outputs": [
    {
     "name": "stdout",
     "output_type": "stream",
     "text": [
      "Futurum Est Nostrum\n",
      "God Save The Rave\n",
      "Never Stop The Show\n",
      "We Love Hardcore\n",
      "Paul Is Dead\n",
      "Bassdrum\n",
      "Which Light Switch Is Which?\n",
      "FCK 2020\n",
      "Groundhog Day\n",
      "Hang The DJ\n",
      "Rave Teacher Rave Teacher (Somebody Like Me) (Album Edit)\n",
      "Анастасия\n",
      "Devil's Symphony\n",
      "These Days\n",
      "Wand'rin Star\n"
     ]
    }
   ],
   "source": [
    "tracklist = ['Futurum Est Nostrum', 'God Save The Rave', 'Never Stop The Show', 'We Love Hardcore', 'Paul Is Dead',\n",
    "'Bassdrum', 'Which Light Switch Is Which?', 'FCK 2020', 'Groundhog Day', 'Hang The DJ', 'Rave Teacher Rave Teacher (Somebody Like Me) (Album Edit)', 'Анастасия', \"Devil's Symphony\", 'These Days', \"Wand'rin Star\"]\n",
    "for track in tracklist:\n",
    "    print(track)"
   ]
  },
  {
   "cell_type": "markdown",
   "metadata": {},
   "source": [
    "## `for` ciklo pritaikymas `ŽODYNUI`\n",
    "Taip pat galime naudoti `for` ciklą su žodynu. Yra keletas būdų tai padaryti.\n",
    "\n",
    "Šis ciklas iteruos per žodyno raktus ir grąžins kiekvieną raktą atskirai. \n",
    "\n",
    "**Pavyzdžiui**:\n"
   ]
  },
  {
   "cell_type": "code",
   "execution_count": 40,
   "metadata": {},
   "outputs": [
    {
     "ename": "NameError",
     "evalue": "name 'amzius' is not defined",
     "output_type": "error",
     "traceback": [
      "\u001b[1;31m---------------------------------------------------------------------------\u001b[0m",
      "\u001b[1;31mNameError\u001b[0m                                 Traceback (most recent call last)",
      "Cell \u001b[1;32mIn[40], line 4\u001b[0m\n\u001b[0;32m      1\u001b[0m zmones \u001b[38;5;241m=\u001b[39m {\u001b[38;5;124m'\u001b[39m\u001b[38;5;124mRokas\u001b[39m\u001b[38;5;124m'\u001b[39m: \u001b[38;5;241m20\u001b[39m, \u001b[38;5;124m'\u001b[39m\u001b[38;5;124mAndrius\u001b[39m\u001b[38;5;124m'\u001b[39m: \u001b[38;5;241m34\u001b[39m, \u001b[38;5;124m'\u001b[39m\u001b[38;5;124mLaura\u001b[39m\u001b[38;5;124m'\u001b[39m: \u001b[38;5;241m25\u001b[39m}\n\u001b[0;32m      3\u001b[0m \u001b[38;5;28;01mfor\u001b[39;00m vardas \u001b[38;5;129;01min\u001b[39;00m zmones\u001b[38;5;241m.\u001b[39mitems():\n\u001b[1;32m----> 4\u001b[0m     \u001b[38;5;28mprint\u001b[39m(vardas, \u001b[43mamzius\u001b[49m)\n",
      "\u001b[1;31mNameError\u001b[0m: name 'amzius' is not defined"
     ]
    }
   ],
   "source": [
    "zmones = {'Rokas': 20, 'Andrius': 34, 'Laura': 25}\n",
    "\n",
    "for vardas in zmones.items():\n",
    "    print(vardas, amzius)"
   ]
  },
  {
   "cell_type": "markdown",
   "metadata": {},
   "source": [
    "Naudodami `.values()` žodyno metodus cikle, ciklas iteruos per žodyno vertybes ir grąžins kiekvieną vertę atskirai.\n",
    "\n",
    "**Pavyzdžiui**:"
   ]
  },
  {
   "cell_type": "code",
   "execution_count": 39,
   "metadata": {},
   "outputs": [
    {
     "name": "stdout",
     "output_type": "stream",
     "text": [
      "20\n",
      "34\n",
      "25\n"
     ]
    }
   ],
   "source": [
    "amžius = {'Rokas': 20, 'Andrius': 34, 'Laura': 25}\n",
    "\n",
    "for i in amžius.values():\n",
    "    print(i)"
   ]
  },
  {
   "cell_type": "markdown",
   "metadata": {},
   "source": [
    "Kai nurodome raktą, vertę ir `.items()`, ciklas iteruos per žodyno raktus, vertes ir grąžins kiekvieną raktą ir vertę atskirai. \n",
    "\n",
    "**Pavyzdžiui**:"
   ]
  },
  {
   "cell_type": "code",
   "execution_count": 38,
   "metadata": {},
   "outputs": [
    {
     "name": "stdout",
     "output_type": "stream",
     "text": [
      "Rokas 20\n",
      "Andrius 34\n",
      "Laura 25\n"
     ]
    }
   ],
   "source": [
    "amžius = {'Rokas': 20, 'Andrius': 34, 'Laura': 25}\n",
    "\n",
    "for raktas, vertė in amžius.items():\n",
    "    print(raktas, vertė)"
   ]
  },
  {
   "cell_type": "markdown",
   "metadata": {},
   "source": [
    "Svarbu pažymėti, kad šį kartą '`i`' buvo pavadintas '`raktas`' ir '`vertė`', norint atitinkamai reprezentuoti žodyno elementus.\n",
    "\n",
    "Taip pat galima kreiptis į žodyno elementus su raktu cikle. \n",
    "- Ypač rekomenduojama keičiant vertes:\n"
   ]
  },
  {
   "cell_type": "code",
   "execution_count": 37,
   "metadata": {},
   "outputs": [
    {
     "name": "stdout",
     "output_type": "stream",
     "text": [
      "Dabar Rokas 20\n",
      "Po pakeitimo Rokas 21\n",
      "Dabar Andrius 34\n",
      "Po pakeitimo Andrius 35\n",
      "Dabar Laura 25\n",
      "Po pakeitimo Laura 26\n"
     ]
    }
   ],
   "source": [
    "amžius = {'Rokas': 20, 'Andrius': 34, 'Laura': 25}\n",
    "\n",
    "for i in amžius:\n",
    "    print(\"Dabar\", i, amžius[i])\n",
    "    amžius[i] += 1\n",
    "    print(\"Po pakeitimo\", i, amžius[i])"
   ]
  },
  {
   "cell_type": "markdown",
   "metadata": {},
   "source": [
    "## `for` Ciklas su `range()` funkcija\n",
    "`range()` funkcija generuoja skaičių seka nuo pradžios iki pabaigos. \n",
    "\n",
    "- Galime naudoti `for` ciklą su `range` funkcija, kad atliktume veiksmus su kiekvienu skaičiumi sekoje."
   ]
  },
  {
   "cell_type": "code",
   "execution_count": 36,
   "metadata": {},
   "outputs": [
    {
     "name": "stdout",
     "output_type": "stream",
     "text": [
      "1\n",
      "2\n",
      "3\n",
      "4\n",
      "5\n"
     ]
    }
   ],
   "source": [
    "for skaicius in range(1, 6):\n",
    "    print(skaicius)"
   ]
  },
  {
   "cell_type": "markdown",
   "metadata": {},
   "source": [
    "## Ciklo nutraukimo komanda `BREAK`\n",
    "Komandą `break` naudojame, norėdami nutraukti `for` ciklą ir tęsti su sekančia kodo dalimi."
   ]
  },
  {
   "cell_type": "code",
   "execution_count": 35,
   "metadata": {},
   "outputs": [
    {
     "name": "stdout",
     "output_type": "stream",
     "text": [
      "1\n",
      "2\n"
     ]
    }
   ],
   "source": [
    "skaičiai = [1, 2, 3, 4, 5]\n",
    "\n",
    "for skaicius in skaičiai:\n",
    "    if skaicius == 3:\n",
    "        break\n",
    "    print(skaicius)"
   ]
  },
  {
   "cell_type": "markdown",
   "metadata": {},
   "source": [
    "- Kaip matote, programa nutraukė ciklą pasiekusi skaičių \"`3`\" ir nespausdino kitų skaičių, kurie buvo išvardyti po jo."
   ]
  },
  {
   "cell_type": "markdown",
   "metadata": {},
   "source": [
    "## Ciklo pratęsimo komanda `CONTINUE`\n",
    "Kai naudojame pratęsimo komandą `continue`, programa praleidžia šią iteraciją ir tęsia su kitu elementu kolekcijoje. \n",
    "\n",
    "**Pavyzdžiui**:"
   ]
  },
  {
   "cell_type": "code",
   "execution_count": 34,
   "metadata": {},
   "outputs": [
    {
     "name": "stdout",
     "output_type": "stream",
     "text": [
      "1\n",
      "2\n",
      "4\n",
      "5\n"
     ]
    }
   ],
   "source": [
    "skaičiai = [1, 2, 3, 4, 5]\n",
    "\n",
    "for skaicius in skaičiai:\n",
    "    if skaicius == 3:\n",
    "        continue\n",
    "    print(skaicius)"
   ]
  },
  {
   "cell_type": "code",
   "execution_count": 33,
   "metadata": {},
   "outputs": [
    {
     "name": "stdout",
     "output_type": "stream",
     "text": [
      "1\n",
      "3\n",
      "5\n",
      "7\n",
      "9\n"
     ]
    }
   ],
   "source": [
    "skaičiai = [1, 2, 3, 4, 5, 6, 7, 8, 9]\n",
    "\n",
    "for skaicius in skaičiai:\n",
    "    if skaicius %2 == 0:\n",
    "        continue\n",
    "    print(skaicius)"
   ]
  },
  {
   "cell_type": "markdown",
   "metadata": {},
   "source": [
    "- Kaip matote, programa praleido skaičių \"`3`\" ir tęsė su likusiais skaičiais sąraše."
   ]
  },
  {
   "cell_type": "markdown",
   "metadata": {},
   "source": [
    "## `else` blokas `for` cikle\n",
    "`else` blokas naudojamas atlikti tam tikrus veiksmus, kai `for` ciklas pasiekia savo pabaigą."
   ]
  },
  {
   "cell_type": "code",
   "execution_count": 30,
   "metadata": {},
   "outputs": [
    {
     "name": "stdout",
     "output_type": "stream",
     "text": [
      "1\n",
      "2\n",
      "3\n",
      "4\n",
      "5\n",
      "for ciklo pabaiga.\n"
     ]
    }
   ],
   "source": [
    "skaičiai = [1, 2, 3, 4, 5]\n",
    "\n",
    "for skaicius in skaičiai:\n",
    "    print(skaicius)\n",
    "else:\n",
    "    print('for ciklo pabaiga.')"
   ]
  },
  {
   "cell_type": "markdown",
   "metadata": {},
   "source": [
    "- Atminkite, jei ciklą nutrauksime naudodami `break` komandą, `else` sąlygos blokas nebus vykdomas."
   ]
  },
  {
   "cell_type": "markdown",
   "metadata": {},
   "source": [
    "## Sąrašo iteracija su indeksu\n",
    "`enumerate()` funkcija, naudojama kartu su `for` ciklu, grąžina poras, kur pirmasis kiekvienos poros elementas yra elemento indeksas, o antrasis - pats sąrašo elementas. \n",
    "\n",
    "**Pavyzdžiui**:"
   ]
  },
  {
   "cell_type": "code",
   "execution_count": 42,
   "metadata": {},
   "outputs": [
    {
     "name": "stdout",
     "output_type": "stream",
     "text": [
      "0 a\n",
      "1 b\n",
      "2 c\n",
      "3 d\n",
      "4 e\n"
     ]
    }
   ],
   "source": [
    "masyvas = ['a', 'b', 'c', 'd', 'e']\n",
    "for indeksas, reikšmė in enumerate(masyvas):\n",
    "    print(indeksas, reikšmė)"
   ]
  },
  {
   "cell_type": "markdown",
   "metadata": {},
   "source": [
    "# `Greitas Uždavinys 2`\n",
    "\n",
    "Sukurkite programėlę, kuri:\n",
    "\n",
    "1. Leistu vartotojui įvesti 5 žodžius po vieną\n",
    "1. Pridėtų įvestus žodžius į sąrašą\n",
    "1. Atspausdintų kiekvieną žodį, jo ilgį ir eilės numerį sąraše (pradedant nuo 1)\n",
    "Papildoma: Leiskite programėlei įvesti tiek žodžių, kiek jums reikia. \n",
    "\n",
    "- Patarimas: Naudokite `sąrašą`, ciklą `for`, funkcijas `len` ir `index`"
   ]
  },
  {
   "cell_type": "code",
   "execution_count": 61,
   "metadata": {},
   "outputs": [
    {
     "name": "stdout",
     "output_type": "stream",
     "text": [
      "0 Futurum Est Nostrum\n",
      "1 God Save The Rave\n",
      "2 Never Stop The Show\n",
      "3 We Love Hardcore\n",
      "4 Paul Is Dead\n",
      "5 Bassdrum\n",
      "6 Which Light Switch Is Which?\n",
      "7 FCK 2020\n",
      "8 Groundhog Day\n",
      "9 Hang The DJ\n",
      "10 Rave Teacher Rave Teacher (Somebody Like Me) (Album Edit)\n",
      "11 Анастасия\n",
      "12 Devil's Symphony\n",
      "13 These Days\n",
      "14 Wand'rin Star\n"
     ]
    }
   ],
   "source": [
    "tracklist = ['Futurum Est Nostrum', 'God Save The Rave', 'Never Stop The Show', 'We Love Hardcore', 'Paul Is Dead',\n",
    "'Bassdrum', 'Which Light Switch Is Which?', 'FCK 2020', 'Groundhog Day', 'Hang The DJ', 'Rave Teacher Rave Teacher (Somebody Like Me) (Album Edit)', 'Анастасия', \"Devil's Symphony\", 'These Days', \"Wand'rin Star\"]\n",
    "for indeksas, reikšmė in enumerate(tracklist):\n",
    "    print(indeksas, reikšmė)"
   ]
  },
  {
   "cell_type": "code",
   "execution_count": 60,
   "metadata": {},
   "outputs": [
    {
     "name": "stdout",
     "output_type": "stream",
     "text": [
      " 01 - Futurum Est Nostrum\n",
      " 02 - God Save The Rave\n",
      " 03 - Never Stop The Show\n",
      " 04 - We Love Hardcore\n",
      " 05 - Paul Is Dead\n",
      " 06 - Bassdrum\n",
      " 07 - Which Light Switch Is Which?\n",
      " 08 - FCK 2020\n",
      " 09 - Groundhog Day\n",
      " 10 - Hang The DJ\n",
      " 11 - Rave Teacher Rave Teacher (Somebody Like Me) (Album Edit)\n",
      " 12 - Анастасия\n",
      " 13 - Devil's Symphony\n",
      " 14 - These Days\n",
      " 15 - Wand'rin Star\n"
     ]
    }
   ],
   "source": [
    "tracklist = ['Futurum Est Nostrum', 'God Save The Rave', 'Never Stop The Show', 'We Love Hardcore', 'Paul Is Dead',\n",
    "'Bassdrum', 'Which Light Switch Is Which?', 'FCK 2020', 'Groundhog Day', 'Hang The DJ', 'Rave Teacher Rave Teacher (Somebody Like Me) (Album Edit)', 'Анастасия', \"Devil's Symphony\", 'These Days', \"Wand'rin Star\"]\n",
    "for indeksas, reikšmė in enumerate(tracklist):\n",
    "    print(f' {(indeksas+1):02d} - {reikšmė}')"
   ]
  },
  {
   "cell_type": "markdown",
   "metadata": {},
   "source": [
    "# `Greitas Uždavinys 3`\n",
    "\n",
    "1. Sukurkite programą, kuri:\n",
    "- Leidžia vartotojui įvesti metus\n",
    "- Atspausdina \"Keliamieji metai\" (Leap Year), jeigu įvesti metai yra keliamieji"
   ]
  },
  {
   "cell_type": "code",
   "execution_count": null,
   "metadata": {},
   "outputs": [],
   "source": [
    "# jusu kodo vieta"
   ]
  },
  {
   "cell_type": "markdown",
   "metadata": {},
   "source": [
    "## `Greitas Uždavinys 4`\n",
    "1. Perrašykite trečią uždavinį taip, kad programa atspausdintų visus keliamuosius metus nuo 1900 iki 2100."
   ]
  },
  {
   "cell_type": "code",
   "execution_count": null,
   "metadata": {},
   "outputs": [],
   "source": [
    "# jusu kodo vieta"
   ]
  },
  {
   "cell_type": "markdown",
   "metadata": {},
   "source": [
    "## Įterptinė(nested) `for` Ciklo Konstrukcija\n",
    "\n",
    "Įterptinė(nested) `for` ciklo konstrukcija leidžia kurti ciklus, kuriuose vienas ar daugiau vidinių ciklų vykdomi kiekvienai išorinio ciklo iteracijai. \n",
    "- Tai ypač naudinga, kai turime duomenų struktūrą, kurią reikia analizuoti arba apdoroti sudėtingu būdu. \n",
    "\n",
    "**Pavyzdžiui**:"
   ]
  },
  {
   "cell_type": "code",
   "execution_count": 62,
   "metadata": {},
   "outputs": [
    {
     "name": "stdout",
     "output_type": "stream",
     "text": [
      "žalia ąžuolas yra gražus\n",
      "žalia beržas yra gražus\n",
      "žalia liepa yra gražus\n",
      "geltona ąžuolas yra gražus\n",
      "geltona beržas yra gražus\n",
      "geltona liepa yra gražus\n",
      "raudona ąžuolas yra gražus\n",
      "raudona beržas yra gražus\n",
      "raudona liepa yra gražus\n"
     ]
    }
   ],
   "source": [
    "spalvos = ['žalia', 'geltona', 'raudona']\n",
    "medžiai = ['ąžuolas', 'beržas', 'liepa']\n",
    "\n",
    "for spalva in spalvos:\n",
    "    for medis in medžiai:\n",
    "        print(spalva, medis, 'yra gražus')"
   ]
  },
  {
   "cell_type": "markdown",
   "metadata": {},
   "source": [
    "# `Uždavinys`\n",
    "\n",
    "Tai yra mokinių ir jų pažymių žodynas:"
   ]
  },
  {
   "cell_type": "code",
   "execution_count": 94,
   "metadata": {},
   "outputs": [],
   "source": [
    "mokinio_pazymiai = {\n",
    "    'Alicija': {'Matematika': 85, 'Mokslas': 92, 'Istorija': 88},\n",
    "    'Bobas': {'Matematika': 78, 'Mokslas': 85, 'Istorija': 90},\n",
    "    'Charlis': {'Matematika': 92, 'Mokslas': 88, 'Istorija': 76}\n",
    "}\n"
   ]
  },
  {
   "cell_type": "markdown",
   "metadata": {},
   "source": [
    "1. Sukurkite įterptinį `for` ciklą, kuris atspausdintų mokinio vardą ir dalykus su pažymiais."
   ]
  },
  {
   "cell_type": "code",
   "execution_count": 96,
   "metadata": {},
   "outputs": [
    {
     "name": "stdout",
     "output_type": "stream",
     "text": [
      "Alicija pazymiai:\n",
      "Matematika: 85\n",
      "Mokslas: 92\n",
      "Istorija: 88\n",
      "\n",
      "Bobas pazymiai:\n",
      "Matematika: 78\n",
      "Mokslas: 85\n",
      "Istorija: 90\n",
      "\n",
      "Charlis pazymiai:\n",
      "Matematika: 92\n",
      "Mokslas: 88\n",
      "Istorija: 76\n",
      "\n"
     ]
    }
   ],
   "source": [
    "mokinio_pazymiai = {\n",
    "    'Alicija': {'Matematika': 85, 'Mokslas': 92, 'Istorija': 88},\n",
    "    'Bobas': {'Matematika': 78, 'Mokslas': 85, 'Istorija': 90},\n",
    "    'Charlis': {'Matematika': 92, 'Mokslas': 88, 'Istorija': 76}\n",
    "}\n",
    "\n",
    "for mokinio, pazymiai in mokinio_pažymiai.items():\n",
    "    print(f'{mokinio} pazymiai:')\n",
    "    for asmuo, pazymiai in pazymiai.items():\n",
    "        print(f'{asmuo}: {pazymiai}')\n",
    "    print()"
   ]
  }
 ],
 "metadata": {
  "kernelspec": {
   "display_name": "venv",
   "language": "python",
   "name": "python3"
  },
  "language_info": {
   "codemirror_mode": {
    "name": "ipython",
    "version": 3
   },
   "file_extension": ".py",
   "mimetype": "text/x-python",
   "name": "python",
   "nbconvert_exporter": "python",
   "pygments_lexer": "ipython3",
   "version": "3.12.1"
  }
 },
 "nbformat": 4,
 "nbformat_minor": 2
}
