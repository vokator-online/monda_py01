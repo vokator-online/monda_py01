{
 "cells": [
  {
   "cell_type": "markdown",
   "metadata": {},
   "source": [
    "# Sąrašas (List)\n",
    "\n",
    "### Kas yra Sąrašas?\n",
    "\n",
    "`Sąrašas` „Python“ yra kaip konteineris, kuriame galite sudėti daugelį dalykų (elementų) į vieną vietą. Jį galite įsivaizduoti kaip apsipirkimo maišą, kuriame galima laikyti įvairių rūšių vaisius.\n",
    "\n",
    "### Kodėl naudojame sąrašus?\n",
    "- Mes naudojame sąrašus, kai norime laikyti kartu kelis dalykus.\n",
    "- „Python“ kalboje tai galima padaryti keturiais pagrindiniais būdais: Sąrašai, Tuple'ai, Aibės ir Žodynas.\n",
    "- Kiekvienas iš jų turi savo būdą laikyti dalykus.\n",
    "\n",
    "**Pavyzdys**:\n",
    "\n",
    "Įsivaizduokite, kad norite turėti sąrašą vaisių. „Python“ sąrašą galite naudoti tam, pavyzdžiui:"
   ]
  },
  {
   "cell_type": "code",
   "execution_count": 2,
   "metadata": {},
   "outputs": [
    {
     "name": "stdout",
     "output_type": "stream",
     "text": [
      "['obuolys', 'bananas', 'vyšnia']\n"
     ]
    }
   ],
   "source": [
    "vaisiai = [\"obuolys\", \"bananas\", \"vyšnia\"]\n",
    "print(vaisiai)"
   ]
  },
  {
   "cell_type": "markdown",
   "metadata": {},
   "source": [
    "- Dabar vaisiai yra kaip jūsų krepšys ir jis laiko šiuos tris vaisius: obuolį, bananą ir vyšnias. Trumpai tariant, sąrašas yra kaip konteineris, kuriame galite laikyti daug dalykų kartu, ir tai yra vienas iš keturių pagrindinių būdų tai daryti „Python“ kalboje."
   ]
  },
  {
   "cell_type": "markdown",
   "metadata": {},
   "source": [
    "## Sąrašų Kūrimas\n",
    "\n",
    "„Python“ kalboje galite kurti sąrašus naudodami laužtinius skliaustus \"`[]`\". \n",
    "- Sąrašai yra kaip konteineriai, kuriuose dedate dalykus. \n",
    "- Dalykus sąraše atskiriate kableliais.\n",
    "\n",
    "**Pavyzdžiai**:"
   ]
  },
  {
   "cell_type": "code",
   "execution_count": 3,
   "metadata": {},
   "outputs": [
    {
     "name": "stdout",
     "output_type": "stream",
     "text": [
      "[]\n"
     ]
    }
   ],
   "source": [
    "#Tuščias sąrašas:\n",
    "tuscias_sarasas = []\n",
    "print(tuscias_sarasas)"
   ]
  },
  {
   "cell_type": "code",
   "execution_count": 4,
   "metadata": {},
   "outputs": [
    {
     "name": "stdout",
     "output_type": "stream",
     "text": [
      "[1, 2, 3, 4, 5]\n"
     ]
    }
   ],
   "source": [
    "#Skaičių sąrašas:\n",
    "skaiciu_sarasas = [1, 2, 3, 4, 5]\n",
    "print(skaiciu_sarasas)"
   ]
  },
  {
   "cell_type": "code",
   "execution_count": 5,
   "metadata": {},
   "outputs": [
    {
     "name": "stdout",
     "output_type": "stream",
     "text": [
      "['obuolys', 'kriaušė', 'bananas']\n"
     ]
    }
   ],
   "source": [
    "#Žodžių sąrašas:\n",
    "zodziu_sarasas = ['obuolys', 'kriaušė', 'bananas']\n",
    "print(zodziu_sarasas)"
   ]
  },
  {
   "cell_type": "code",
   "execution_count": 6,
   "metadata": {},
   "outputs": [
    {
     "name": "stdout",
     "output_type": "stream",
     "text": [
      "['obuolys', 2, 1.4, 'kriaušė', True, 'bananas']\n"
     ]
    }
   ],
   "source": [
    "#Sąrašas su skirtingais dalykais:\n",
    "ivairus_sarasas = ['obuolys', 2, 1.4, 'kriaušė', True, 'bananas']\n",
    "print(ivairus_sarasas)"
   ]
  },
  {
   "cell_type": "code",
   "execution_count": 9,
   "metadata": {},
   "outputs": [
    {
     "name": "stdout",
     "output_type": "stream",
     "text": [
      "[1, 2, 3, 4, 5]\n"
     ]
    }
   ],
   "source": [
    "#Taip pat galite kurti sąrašą naudodami funkciją list():\n",
    "numbers = list([1, 2, 3, 4, 5])\n",
    "print(numbers)"
   ]
  },
  {
   "cell_type": "markdown",
   "metadata": {},
   "source": [
    "Daugiau galimybių: `list()` gali priimti įvairias iteruojamas struktūras arba konvertuoti kitus duomenų tipus į sąrašus."
   ]
  },
  {
   "cell_type": "code",
   "execution_count": 10,
   "metadata": {},
   "outputs": [
    {
     "name": "stdout",
     "output_type": "stream",
     "text": [
      "['h', 'e', 'l', 'l', 'o']\n"
     ]
    }
   ],
   "source": [
    "string_as_list = list(\"hello\")  # Konvertuoja string'ą į sąrašą simbolių\n",
    "print(string_as_list)"
   ]
  },
  {
   "cell_type": "code",
   "execution_count": 12,
   "metadata": {},
   "outputs": [
    {
     "name": "stdout",
     "output_type": "stream",
     "text": [
      "[0, 1, 2, 3, 4]\n"
     ]
    }
   ],
   "source": [
    "range_as_list = list(range(5))  # Konvertuoja diapazoną į sąrašą\n",
    "print(range_as_list)"
   ]
  },
  {
   "cell_type": "markdown",
   "metadata": {},
   "source": [
    "Trumpai tariant, sąrašas „Python“ kalboje veikia kaip konteineris, kuriame galite saugoti įvairius elementus. Sąrašą sukuriate naudodami laužtinius skliaustus, o į jį galite įdėti skirtingus dalykus."
   ]
  },
  {
   "cell_type": "markdown",
   "metadata": {},
   "source": [
    "# `Greita Užduotis 1: Sukurkite Sąrašą`\n",
    "\n",
    "**Instrukcijos**:\n",
    "1. Sukurkite `sąrašą`, kuriame yra bent penkių jūsų mėgstamiausių maisto pavadinimų.\n",
    "1. Atspausdinkite visą sąrašą."
   ]
  },
  {
   "cell_type": "code",
   "execution_count": null,
   "metadata": {},
   "outputs": [],
   "source": []
  },
  {
   "cell_type": "markdown",
   "metadata": {},
   "source": [
    "---\n",
    "\n",
    "# Sąrašų Indeksavimas\n",
    "\n",
    "- „Python“ kalboje sąrašai veikia kaip numeruotos dėžės, ir skaičiuoti pradedame nuo nulio.\n",
    "- Norėdami gauti kažką iš sąrašo, naudojame dėžės numerį, vadinamą indeksu, viduje laužtinių skliaustų `[]`.\n",
    "\n",
    "**Pavyzdžiai**: \n",
    "\n",
    "Tarkime, turime vaisių sąrašą tokiu būdu:"
   ]
  },
  {
   "cell_type": "code",
   "execution_count": 13,
   "metadata": {},
   "outputs": [
    {
     "name": "stdout",
     "output_type": "stream",
     "text": [
      "obuolys\n",
      "kriaušė\n",
      "bananas\n"
     ]
    }
   ],
   "source": [
    "vaisiai = ['obuolys', 'kriaušė', 'bananas']\n",
    "\n",
    "# Jeigu norime gauti pirmą vaisių, kuris yra 'obuolys', naudojame indeksą 0, nes tai pirmoji dėžė:\n",
    "print(vaisiai[0])  # Šis komentaras atspausdins 'obuolys'\n",
    "\n",
    "# Jeigu norime antrą vaisių, 'kriaušę', naudojame indeksą 1, nes tai antroji dėžė:\n",
    "print(vaisiai[1])  # Šis komentaras atspausdins 'kriaušė'\n",
    "\n",
    "# Trečią vaisių, 'bananas', gauname naudodami indeksą 2, nes tai yra trečioji dėžė:\n",
    "print(vaisiai[2])  # Šis komentaras atspausdins 'bananas'"
   ]
  },
  {
   "cell_type": "markdown",
   "metadata": {},
   "source": [
    "Taip pat galite skaičiuoti nuo sąrašo galo, naudodami neigiamus indeksus. Taigi, norėdami gauti paskutinį vaisių, kuris yra 'bananas', galite naudoti -1, nes tai yra paskutinė dėžė:"
   ]
  },
  {
   "cell_type": "code",
   "execution_count": 14,
   "metadata": {},
   "outputs": [
    {
     "name": "stdout",
     "output_type": "stream",
     "text": [
      "bananas\n",
      "kriaušė\n",
      "obuolys\n"
     ]
    }
   ],
   "source": [
    "print(vaisiai[-1])  # Šis komentaras atspausdins 'bananas'\n",
    "\n",
    "# Antro paskutinio vaisiaus, 'kriaušės', atveju naudojame -2, nes tai yra antroji paskutinė dėžė:\n",
    "print(vaisiai[-2])  # Šis komentaras atspausdins 'kriaušė'\n",
    "\n",
    "# O pirmo vaisiaus, 'obuolio', atveju naudojame -3, nes tai yra trečioji paskutinė dėžė:\n",
    "print(vaisiai[-3])  # Šis komentaras atspausdins 'obuolys'"
   ]
  },
  {
   "cell_type": "markdown",
   "metadata": {},
   "source": [
    "Prisiminkite, kad naudojant `neigiamus indeksus`, -1 visada rodo į paskutinį sąrašo elementą."
   ]
  },
  {
   "cell_type": "markdown",
   "metadata": {},
   "source": [
    "# `Greita Užduotis 2: Vaisių Indeksavimas`\n",
    "\n",
    "**Instrukcijos:**\n",
    "1. Sukurkite „Python“ sąrašą pavadinimu `vaisiai`, kuriame būtų bent penki skirtingi vaisių pavadinimai.\n",
    "2. Atspausdinkite `antrą vaisių` sąraše, naudodami indeksavimą.\n",
    "3. Atspausdinkite `paskutinį vaisių` sąraše, naudodami `neigiamą` indeksavimą.\n",
    "4. Atspausdinkite `trečią ir ketvirtą` vaisius sąraše, naudodami `teigiamą` indeksavimą.\n",
    "\n",
    "**Patarimai:**\n",
    "- Naudokite laužtinius skliaustus ir indeksus, kad pasiektumėte sąrašo elementus.\n",
    "- Prisiminkite, kad indeksavimas prasideda nuo nulio, o neigiamas indeksavimas skaičiuoja nuo sąrašo galo.\n"
   ]
  },
  {
   "cell_type": "code",
   "execution_count": null,
   "metadata": {},
   "outputs": [],
   "source": []
  },
  {
   "cell_type": "markdown",
   "metadata": {},
   "source": [
    "---\n",
    "\n",
    "# Sąrašų Iškarpymas (slicing)\n",
    "\n",
    "- „Python“ kalboje galite iškirpti arba iškarpyti sąrašą, norėdami gauti tik jo dalį. \n",
    "- Tam naudojamas simbolis \"`:`\" \n",
    "- Laužtiniuose skliaustuose galite nurodyti pradinį ir galinį indeksus.\n",
    "\n",
    "**Pavyzdžiai:**"
   ]
  },
  {
   "cell_type": "code",
   "execution_count": 17,
   "metadata": {},
   "outputs": [
    {
     "name": "stdout",
     "output_type": "stream",
     "text": [
      "['obuolys', 'kriaušė', 'bananas']\n",
      "['bananas', 'apelsinas', 'lotosas']\n",
      "['kriaušė', 'bananas', 'apelsinas']\n",
      "['bananas', 'apelsinas', 'lotosas']\n"
     ]
    }
   ],
   "source": [
    "# 1. Jei turite tokį vaisių sąrašą:\n",
    "vaisiai = ['obuolys', 'kriaušė', 'bananas', 'apelsinas', 'lotosas']\n",
    "\n",
    "# Norėdami gauti pirmuosius tris vaisius, galite naudoti iškarpymą taip:\n",
    "print(vaisiai[:3])  # Tai atspausdins ['obuolys', 'kriaušė', 'bananas']\n",
    "\n",
    "# 2. Norint gauti vaisius nuo trečio iki galo, galite naudoti tai:\n",
    "print(vaisiai[2:])  # Tai atspausdins ['bananas', 'apelsinas', 'lotosas']\n",
    "\n",
    "# 3. Jei norite antrą, trečią ir ketvirtą vaisius, galite nurodyti tiek pradinį, tiek galinį indeksus taip:\n",
    "print(vaisiai[1:4])  # Tai atspausdins ['kriaušė', 'bananas', 'apelsinas']\n",
    "\n",
    "# 4. Taip pat galite naudoti neigiamus indeksus, kad pradėtumėte skaičiavimą nuo galo. \n",
    "# Pavyzdžiui, norėdami gauti paskutinius tris vaisius:\n",
    "print(vaisiai[-3:])  # Tai atspausdins ['bananas', 'apelsinas', 'lotosas']"
   ]
  },
  {
   "cell_type": "markdown",
   "metadata": {},
   "source": [
    "Taip pat galite nurodyti trečiąjį argumentą, vadinamą žingsniu. Jis nurodo, kiek elementų „Python“ kalboje praleisti tarp pasirinktų elementų."
   ]
  },
  {
   "cell_type": "code",
   "execution_count": 18,
   "metadata": {},
   "outputs": [
    {
     "name": "stdout",
     "output_type": "stream",
     "text": [
      "['obuolys', 'bananas', 'lotosas']\n"
     ]
    }
   ],
   "source": [
    "vaisiai = ['obuolys', 'kriaušė', 'bananas', 'apelsinas', 'lotosas']\n",
    "\n",
    "# Šiuo atveju žingsnio dydis yra 2, todėl praleidžia kiekvieną antrą elementą, pradedant nuo pradinio indekso:\n",
    "print(vaisiai[::2])  # Tai atspausdins ['obuolys', 'bananas', 'lotosas']"
   ]
  },
  {
   "cell_type": "code",
   "execution_count": 33,
   "metadata": {},
   "outputs": [
    {
     "name": "stdout",
     "output_type": "stream",
     "text": [
      "['lotosas', 'apelsinas', 'bananas']\n"
     ]
    }
   ],
   "source": [
    "print(vaisiai[4:1:-1])"
   ]
  },
  {
   "cell_type": "markdown",
   "metadata": {},
   "source": [
    "- Taigi, naudojant iškarpymą „Python“ kalboje, galite gauti tik tam tikrą sąrašo dalį, nurodydami pradžios, pabaigos ir žingsnio indeksus. Galima tai lyginti su pyrago supjaustymu į skiltelės, kur tiksliai nurodote, kurią dalį norite pasiimti!"
   ]
  },
  {
   "cell_type": "markdown",
   "metadata": {},
   "source": [
    "---\n",
    "\n",
    "# Sąrašo elementų keitimas\n",
    "\n",
    "„Python“ kalboje galite pakeisti sąrašo elementus priskirdami naują reikšmę tam tikram indeksui. Pažiūrėkime į keletą pavyzdžių:\n",
    "\n",
    "**Pavyzdys 1:**\n",
    "\n",
    "Tarkime, turite vaisių sąrašą šiuo būdu:"
   ]
  },
  {
   "cell_type": "code",
   "execution_count": 34,
   "metadata": {},
   "outputs": [],
   "source": [
    "vaisiai = ['obuolys', 'kriaušė', 'bananas']"
   ]
  },
  {
   "cell_type": "markdown",
   "metadata": {},
   "source": [
    "Jei norite pakeisti antrą vaisių, '`kriaušę`', į '`avokadą`', galite tai padaryti taip:"
   ]
  },
  {
   "cell_type": "code",
   "execution_count": 35,
   "metadata": {},
   "outputs": [
    {
     "name": "stdout",
     "output_type": "stream",
     "text": [
      "['obuolys', 'avokadas', 'bananas']\n"
     ]
    }
   ],
   "source": [
    "vaisiai[1] = 'avokadas'\n",
    "print(vaisiai)  # Tai atspausdins ['obuolys', 'avokadas', 'bananas']\n"
   ]
  },
  {
   "cell_type": "markdown",
   "metadata": {},
   "source": [
    "Paprastai naudojate indeksą [1], kad pasiektumėte antrą elementą, ir priskiriate jam naują reikšmę 'avokadas'.\n",
    "\n",
    "**Pavyzdys 2**: \n",
    "\n",
    "Galite keisti daugiau nei vieną elementą vienu metu, naudodami iškarpymą. \n",
    "\n",
    "Pavyzdžiui, apsvarstykite šį vaisių sąrašą:"
   ]
  },
  {
   "cell_type": "code",
   "execution_count": 52,
   "metadata": {},
   "outputs": [],
   "source": [
    "vaisiai = ['obuolys', 'kriaušė', 'bananas', 'apelsinas', 'lotosas']"
   ]
  },
  {
   "cell_type": "markdown",
   "metadata": {},
   "source": [
    "Jei norite pakeisti '`kriaušę`', '`bananą`' ir '`apelsiną`' į '`ananasą`' ir '`mangą`', \n",
    "\n",
    "galite tai padaryti taip:"
   ]
  },
  {
   "cell_type": "code",
   "execution_count": 53,
   "metadata": {},
   "outputs": [
    {
     "name": "stdout",
     "output_type": "stream",
     "text": [
      "['obuolys', 'ananasas', 'mangas', 'lotosas']\n"
     ]
    }
   ],
   "source": [
    "vaisiai[1:4] = ['ananasas', 'mangas']\n",
    "print(vaisiai)  # Tai atspausdins ['obuolys', 'ananasas', 'mangas', 'lotosas']\n"
   ]
  },
  {
   "cell_type": "code",
   "execution_count": 54,
   "metadata": {},
   "outputs": [
    {
     "name": "stdout",
     "output_type": "stream",
     "text": [
      "['obuolys', 'ananasas', 'mangas', 'lotosas', 'abrikosas']\n"
     ]
    }
   ],
   "source": [
    "vaisiai += ['abrikosas']\n",
    "print(vaisiai)"
   ]
  },
  {
   "cell_type": "markdown",
   "metadata": {},
   "source": [
    "- Šiuo atveju naudojamas iškarpymas `[1:4]`, kad būtų pasirinkti keičiami elementai, ir tai iškarpai priskiriame naują sąrašą `['ananasas', 'mangas']`. \n",
    "- Taigi, sąrašo elementų keitimas „Python“ kalboje yra tiek paprastas, kiek prieigą prie elemento, kurį norite pakeisti pagal jo indeksą, ir jam priskirti naują reikšmę. \n",
    "- Taip pat galite pakeisti kelis elementus vienu metu, naudodami iškarpymą."
   ]
  },
  {
   "cell_type": "markdown",
   "metadata": {},
   "source": [
    "# `Greita Užduotis 3: Sąrašų Iškarpymas ir Keitimas`\n",
    "\n",
    "**Instrukcijos:**\n",
    "\n",
    "1. Atspausdinkite sąrašo pirmuosius tris elementus.\n",
    "2. Atspausdinkite sąrašo paskutinius du elementus.\n",
    "3. Atspausdinkite tris elementus iš sąrašo vidurio.\n",
    "4. Atspausdinkite kasantrą sąrašo elementą.\n",
    "\n",
    "**Patarimai:**\n",
    "\n",
    "- Norėdami atspausdinti pirmuosius tris elementus, galite naudoti sąrašo iškarpymą su [:3].\n",
    "- Paskutiniams dviejams elementams galite naudoti neigiamus indeksus, kaip antrokiams [-2:].\n",
    "- Norėdami atspausdinti tris elementus iš vidurio, raskite vidurinį indeksą ir naudokite iškarpymą.\n",
    "- Kiekvieną antrą elementą galite atspausdinti naudodami iškarpymą [::2]."
   ]
  },
  {
   "cell_type": "code",
   "execution_count": 55,
   "metadata": {},
   "outputs": [],
   "source": [
    "# Vaisių sąrašas\n",
    "fruits = ['obuolys', 'kriaušė', 'bananas', 'apelsinas', 'lotosas']\n",
    "\n",
    "# Jūsų kodas čia"
   ]
  },
  {
   "cell_type": "markdown",
   "metadata": {},
   "source": [
    "---\n",
    "\n",
    "# Sąrašo metodai Python kalboje\n",
    "\n",
    "1. `append()`\n",
    "- Metodas `append()` naudojamas norint pridėti elementą sąrašo pabaigoje. Tai paprastas būdas išplėsti sąrašą vienu elementu."
   ]
  },
  {
   "cell_type": "code",
   "execution_count": 57,
   "metadata": {},
   "outputs": [
    {
     "name": "stdout",
     "output_type": "stream",
     "text": [
      "[1, 2, 3, 4]\n"
     ]
    }
   ],
   "source": [
    "my_list = [1, 2, 3]\n",
    "my_list.append(4)\n",
    "# Dabar my_list yra [1, 2, 3, 4]\n",
    "print(my_list)"
   ]
  },
  {
   "cell_type": "markdown",
   "metadata": {},
   "source": [
    "2. `extend()`\n",
    "- Metodas `extend()` naudojamas pridėti elementus iš iteruojamojo objekto (dažniausiai kito sąrašo) į esamą sąrašą gale."
   ]
  },
  {
   "cell_type": "code",
   "execution_count": 59,
   "metadata": {},
   "outputs": [
    {
     "name": "stdout",
     "output_type": "stream",
     "text": [
      "[1, 2, 3, 4, 5, 6]\n"
     ]
    }
   ],
   "source": [
    "my_list = [1, 2, 3]\n",
    "another_list = [4, 5, 6]\n",
    "my_list.extend(another_list)\n",
    "# Dabar my_list yra [1, 2, 3, 4, 5, 6]\n",
    "print(my_list)"
   ]
  },
  {
   "cell_type": "markdown",
   "metadata": {},
   "source": [
    "3. `insert()`\n",
    "- Metodas `insert()` leidžia įterpti elementą į konkretų sąrašo indeksą."
   ]
  },
  {
   "cell_type": "code",
   "execution_count": 63,
   "metadata": {},
   "outputs": [
    {
     "name": "stdout",
     "output_type": "stream",
     "text": [
      "[1, 77, 2, 3]\n"
     ]
    }
   ],
   "source": [
    "my_list = [1, 2, 3]\n",
    "my_list.insert(1, 77)  # Įterpti 4 į indeksą 1\n",
    "# Dabar my_list yra [1, 4, 2, 3]\n",
    "print(my_list)"
   ]
  },
  {
   "cell_type": "markdown",
   "metadata": {},
   "source": [
    "4. `remove()`\n",
    "- Metodas `remove()` naudojamas pašalinti pirmąjį konkretaus elemento sąraše pasirodymą."
   ]
  },
  {
   "cell_type": "code",
   "execution_count": 65,
   "metadata": {},
   "outputs": [
    {
     "name": "stdout",
     "output_type": "stream",
     "text": [
      "[1, 3, 2]\n"
     ]
    }
   ],
   "source": [
    "my_list = [1, 2, 3, 2]\n",
    "my_list.remove(2)  # Pašalina pirmąjį 2 pasirodymą\n",
    "# Dabar my_list yra [1, 3, 2]\n",
    "print(my_list)"
   ]
  },
  {
   "cell_type": "markdown",
   "metadata": {},
   "source": [
    "5. `pop()`\n",
    "- Metodas `pop()` naudojamas pašalinti ir grąžinti elementą iš konkretaus sąrašo indekso.\n",
    "- Jei indeksas nėra nurodytas, šis metodas pašalins ir grąžins paskutinį sąrašo elementą."
   ]
  },
  {
   "cell_type": "code",
   "execution_count": 71,
   "metadata": {},
   "outputs": [
    {
     "name": "stdout",
     "output_type": "stream",
     "text": [
      "iš sąrašo [1, 2, 3, 1] ištraukėm 2\n"
     ]
    }
   ],
   "source": [
    "my_list = [1, 2, 3, 2, 1]\n",
    "popped_element = my_list.pop(3)  # Pašalina ir grąžina elementą su indeksu 1 (2)\n",
    "# Dabar my_list yra [1, 3], ir popped_element yra 2\n",
    "print(f\"iš sąrašo {my_list} ištraukėm {popped_element}\")"
   ]
  },
  {
   "cell_type": "markdown",
   "metadata": {},
   "source": [
    "6. `index()`\n",
    "- Metodas `index()` grąžina pirmo konkretaus elemento indeksą sąraše."
   ]
  },
  {
   "cell_type": "code",
   "execution_count": 79,
   "metadata": {},
   "outputs": [
    {
     "name": "stdout",
     "output_type": "stream",
     "text": [
      "1\n"
     ]
    }
   ],
   "source": [
    "my_list = [1, 2, 3, 2]\n",
    "index_of_2 = my_list.index(2)  # Randamas pirmojo 2 pasirodymo indeksas\n",
    "# index_of_2 yra 1\n",
    "print(index_of_2)"
   ]
  },
  {
   "cell_type": "code",
   "execution_count": 80,
   "metadata": {},
   "outputs": [
    {
     "name": "stdout",
     "output_type": "stream",
     "text": [
      "antro dvejeto pozicija/indeksas: 3\n",
      "iš sąrašo [1, 2, 3] išmetėm 2\n"
     ]
    }
   ],
   "source": [
    "another_io2 = my_list.index(2, index_of_2+1)\n",
    "print(\"antro dvejeto pozicija/indeksas:\", another_io2)\n",
    "antras_2 = my_list.pop(another_io2)\n",
    "print(f\"iš sąrašo {my_list} išmetėm {antras_2}\")"
   ]
  },
  {
   "cell_type": "markdown",
   "metadata": {},
   "source": [
    "7. `count()`\n",
    "- Metodas `count()` naudojamas suskaičiuoti konkretaus elemento pasirodymus sąraše."
   ]
  },
  {
   "cell_type": "code",
   "execution_count": 83,
   "metadata": {},
   "outputs": [
    {
     "name": "stdout",
     "output_type": "stream",
     "text": [
      "2 2s in [1, 2, 3, 2]\n"
     ]
    }
   ],
   "source": [
    "my_list = [1, 2, 3, 2]\n",
    "count_of_2 = my_list.count(2)  # Suskaičiuoja 2 pasirodymus\n",
    "# count_of_2 yra 2\n",
    "print(count_of_2, \"2s in\", my_list)"
   ]
  },
  {
   "cell_type": "markdown",
   "metadata": {},
   "source": [
    "8. `sort()`\n",
    "- Metodas `sort()` surūšiuoja sąrašą didėjimo tvarka. \n",
    "- Taip pat galite nurodyti papildomus argumentus, norėdami pritaikyti rūšiavimo elgesį."
   ]
  },
  {
   "cell_type": "code",
   "execution_count": 86,
   "metadata": {},
   "outputs": [
    {
     "name": "stdout",
     "output_type": "stream",
     "text": [
      "[1, 1, 2, 3, 4, 5, 9]\n"
     ]
    }
   ],
   "source": [
    "my_list = [3, 1, 4, 1, 5, 9, 2]\n",
    "my_list.sort()\n",
    "# Dabar my_list yra [1, 1, 2, 3, 4, 5, 9]\n",
    "print(my_list)"
   ]
  },
  {
   "cell_type": "markdown",
   "metadata": {},
   "source": [
    "9. `reverse()`\n",
    "- Metodas `reverse()` apverčia sąrašo elementus vietoje."
   ]
  },
  {
   "cell_type": "code",
   "execution_count": 88,
   "metadata": {},
   "outputs": [
    {
     "name": "stdout",
     "output_type": "stream",
     "text": [
      "[1, 2, 5, 7, 4, 3, 2, 1]\n"
     ]
    }
   ],
   "source": [
    "my_list = [1, 2, 3, 4, 7, 5, 2, 1]\n",
    "my_list.reverse()\n",
    "# Dabar my_list yra [4, 3, 2, 1]\n",
    "print(my_list)"
   ]
  },
  {
   "cell_type": "code",
   "execution_count": 89,
   "metadata": {},
   "outputs": [
    {
     "name": "stdout",
     "output_type": "stream",
     "text": [
      "[7, 5, 4, 3, 2, 2, 1, 1]\n"
     ]
    }
   ],
   "source": [
    "my_list.sort()\n",
    "my_list.reverse()\n",
    "print(my_list)"
   ]
  },
  {
   "cell_type": "markdown",
   "metadata": {},
   "source": [
    "10. `copy()`\n",
    "- Metodas `copy()` sukuria sąrašo paviršinę kopiją. \n",
    "- Pakeitimai originaliame sąraše neturės įtakos nukopijuotam sąrašui, ir atvirkščiai."
   ]
  },
  {
   "cell_type": "code",
   "execution_count": 90,
   "metadata": {},
   "outputs": [],
   "source": [
    "original_list = [1, 2, 3]\n",
    "copied_list = original_list.copy()"
   ]
  },
  {
   "cell_type": "code",
   "execution_count": 93,
   "metadata": {},
   "outputs": [
    {
     "name": "stdout",
     "output_type": "stream",
     "text": [
      "['obuolys', 'bananas', 'ananasas']\n",
      "['obuolys', 'persikas', 'ananasas']\n"
     ]
    }
   ],
   "source": [
    "vaisiai = ['obuolys', 'bananas', 'ananasas']\n",
    "seni_vaisiai = vaisiai.copy()\n",
    "seni_vaisiai[1] = \"persikas\"\n",
    "print(vaisiai)\n",
    "print(seni_vaisiai)"
   ]
  },
  {
   "cell_type": "code",
   "execution_count": 95,
   "metadata": {},
   "outputs": [
    {
     "name": "stdout",
     "output_type": "stream",
     "text": [
      "bananas bxnxnxs\n"
     ]
    }
   ],
   "source": [
    "bananas1 = \"bananas\"\n",
    "bananas2 = \"bananas\"\n",
    "bananas2 = bananas2.replace('a', 'x')\n",
    "print(bananas1, bananas2)"
   ]
  },
  {
   "cell_type": "code",
   "execution_count": 98,
   "metadata": {},
   "outputs": [
    {
     "name": "stdout",
     "output_type": "stream",
     "text": [
      "['bananas', 'bananas']\n",
      "['bananas', 'abrikosas']\n"
     ]
    }
   ],
   "source": [
    "bananai = [bananas1, bananas1]\n",
    "print(bananai)\n",
    "bananai[1] = \"abrikosas\"\n",
    "print(bananai)\n",
    "# bananai = [bananas1, \"abrikosas\"]"
   ]
  },
  {
   "cell_type": "markdown",
   "metadata": {},
   "source": [
    "Šie yra esminiai sąrašų metodai Python kalboje, suteikiantys jums galingus įrankius efektyviam sąrašų manipuliavimui. Šių metodų įsisavinimas yra būtinas efektyviam sąrašų manipuliavimui jūsų Python programose."
   ]
  },
  {
   "cell_type": "markdown",
   "metadata": {},
   "source": [
    "# `Greita Užduotis 4`:\n",
    "\n",
    "TODO: išskaidyti užduotimis po kiekvieno metodo\n",
    "\n",
    "**Instrukcijos:** \n",
    "\n",
    "Atlikite žemiau nurodytus veiksmus su duotu sąrašu, o po kiekvieno veiksmo atspausdinkite sąrašą:\n",
    "\n",
    "1. Pridėkite dar vieną mėgstamo maisto pavadinimą į sąrašo galą.\n",
    "2. Įterpkite naują maisto elementą į sąrašo ketvirtąją poziciją.\n",
    "3. Pakeiskite sąrašo antrąjį elementą kita mėgstamo maisto pavadinimu.\n",
    "4. Pašalinkite sąrašo pirmąjį elementą.\n",
    "5. Pašalinkite sąrašo trečiąjį elementą.\n",
    "6. Atraskite bet kurio elemento indeksą sąraše.\n",
    "7. Atspausdinkite sąrašą atvirkštine tvarka.\n",
    "8. Pasirinktinai išbandykite ir kitus metodus."
   ]
  },
  {
   "cell_type": "code",
   "execution_count": 99,
   "metadata": {},
   "outputs": [],
   "source": [
    "# Duotas mėgstamų maisto pavadinimų sąrašas\n",
    "favorite_foods = ['pizza', 'sushi', 'burgeris', 'makaronai', 'ledai']\n",
    "\n",
    "# Jūsų kodas čia"
   ]
  },
  {
   "cell_type": "code",
   "execution_count": 8,
   "metadata": {},
   "outputs": [
    {
     "name": "stdout",
     "output_type": "stream",
     "text": [
      "['pica', 'suši', 'burgeris', 'pasta', 'ledai', 'tortas']\n"
     ]
    }
   ],
   "source": [
    "favorite_foods = ['pica', 'suši', 'burgeris', 'pasta', 'ledai']\n",
    "favorite_foods.append('tortas')\n",
    "print(favorite_foods)"
   ]
  },
  {
   "cell_type": "code",
   "execution_count": 10,
   "metadata": {},
   "outputs": [
    {
     "name": "stdout",
     "output_type": "stream",
     "text": [
      "['pica', 'suši', 'burgeris', 'saldainiai', 'pasta', 'ledai']\n"
     ]
    }
   ],
   "source": [
    "favorite_foods = ['pica', 'suši', 'burgeris', 'pasta', 'ledai']\n",
    "favorite_foods.insert(3, 'saldainiai')\n",
    "print(favorite_foods)"
   ]
  },
  {
   "cell_type": "code",
   "execution_count": 11,
   "metadata": {},
   "outputs": [
    {
     "name": "stdout",
     "output_type": "stream",
     "text": [
      "['pica', 'sausainiai', 'burgeris', 'pasta', 'ledai']\n"
     ]
    }
   ],
   "source": [
    "favorite_foods = ['pica', 'suši', 'burgeris', 'pasta', 'ledai']\n",
    "favorite_foods[1]='sausainiai'\n",
    "print(favorite_foods)"
   ]
  },
  {
   "cell_type": "code",
   "execution_count": 14,
   "metadata": {},
   "outputs": [
    {
     "name": "stdout",
     "output_type": "stream",
     "text": [
      "['sushi', 'burgeris', 'pasta', 'ledai']\n"
     ]
    }
   ],
   "source": [
    "favorite_foods = ['pica', 'sushi', 'burgeris', 'pasta', 'ledai']\n",
    "favorite_foods.remove(\"pica\")\n",
    "print(favorite_foods)"
   ]
  },
  {
   "cell_type": "code",
   "execution_count": 15,
   "metadata": {},
   "outputs": [
    {
     "name": "stdout",
     "output_type": "stream",
     "text": [
      "['pica', 'sushi', 'pasta', 'ledai']\n"
     ]
    }
   ],
   "source": [
    "favorite_foods = ['pica', 'sushi', 'burgeris', 'pasta', 'ledai']\n",
    "popped_element = favorite_foods.pop(2)\n",
    "print(favorite_foods)"
   ]
  },
  {
   "cell_type": "code",
   "execution_count": 19,
   "metadata": {},
   "outputs": [
    {
     "name": "stdout",
     "output_type": "stream",
     "text": [
      "1\n"
     ]
    }
   ],
   "source": [
    "favorite_foods = ['pica', 'sushi', 'burgeris', 'pasta', 'ledai']\n",
    "index_sąrašas = favorite_foods.index(\"sushi\")\n",
    "print(index_sąrašas)"
   ]
  },
  {
   "cell_type": "code",
   "execution_count": 20,
   "metadata": {},
   "outputs": [
    {
     "name": "stdout",
     "output_type": "stream",
     "text": [
      "['ledai', 'pasta', 'burgeris', 'sushi', 'pica']\n"
     ]
    }
   ],
   "source": [
    "favorite_foods = ['pica', 'sushi', 'burgeris', 'pasta', 'ledai']\n",
    "favorite_foods.reverse()\n",
    "print(favorite_foods)"
   ]
  },
  {
   "cell_type": "code",
   "execution_count": 23,
   "metadata": {},
   "outputs": [
    {
     "name": "stdout",
     "output_type": "stream",
     "text": [
      "['pica', 'sushi', 'burgeris', 'pasta', 'ledai']\n"
     ]
    }
   ],
   "source": [
    "favorite_foods = ['pica', 'sushi', 'burgeris', 'pasta', 'ledai']\n",
    "favorite_foods.count(3)\n",
    "print(favorite_foods)"
   ]
  },
  {
   "cell_type": "markdown",
   "metadata": {},
   "source": [
    "---\n",
    "\n",
    "## Funkcija len()\n",
    "\n",
    "Funkcija `len()` naudojama rasti elementų skaičių sąraše."
   ]
  },
  {
   "cell_type": "code",
   "execution_count": 101,
   "metadata": {},
   "outputs": [
    {
     "name": "stdout",
     "output_type": "stream",
     "text": [
      "5\n"
     ]
    }
   ],
   "source": [
    "my_list = [1, 2, 3, 4, 5]\n",
    "saraso_ilgis = len(my_list)  # Rasti elementų skaičių sąraše\n",
    "# saraso_ilgis yra 5\n",
    "print(saraso_ilgis)"
   ]
  },
  {
   "cell_type": "markdown",
   "metadata": {},
   "source": [
    "- Galite naudoti `len()` su bet kuriuo iteruojamu objektu, ne tik su sąrašais, norėdami nustatyti jų ilgį. \n",
    "- Ši funkcija ypač naudinga, kai reikia peržiūrėti sąrašą ar atlikti operacijas pagal jo ilgį."
   ]
  },
  {
   "cell_type": "markdown",
   "metadata": {},
   "source": [
    "# `Greita Užduotis 5:`\n",
    "**Instrukcijos:**\n",
    "\n",
    "1. Patikrinkite sąrašo ilgį.\n",
    "2. Atspausdinkite sąrašą"
   ]
  },
  {
   "cell_type": "code",
   "execution_count": 29,
   "metadata": {},
   "outputs": [
    {
     "name": "stdout",
     "output_type": "stream",
     "text": [
      "['obuolys', 'bananas', 'vyšnia', 'datulė', 'svarainis']\n"
     ]
    }
   ],
   "source": [
    "# Duotas vaisių sąrašas\n",
    "fruits = [\"obuolys\", \"bananas\", \"vyšnia\", \"datulė\", \"svarainis\"]\n",
    "\n",
    "sąrašas = len(fruits)\n",
    "print(fruits)"
   ]
  },
  {
   "cell_type": "markdown",
   "metadata": {},
   "source": [
    "---\n",
    "\n",
    "## `'in'` Raktazodis „Python“ kalboje\n",
    "\n",
    "Raktazodis `'in'` naudojamas tikrinti, ar nurodytas elementas yra esamas iteruojamojoje struktūroje, tokioje kaip sąrašas, tuple, aibė ar žodynas. \n",
    "- Grąžina `True`, jei elementas egzistuoja iteruojamojoje struktūroje, ir `False`, jei ne.\n"
   ]
  },
  {
   "cell_type": "code",
   "execution_count": 102,
   "metadata": {},
   "outputs": [
    {
     "name": "stdout",
     "output_type": "stream",
     "text": [
      "True\n",
      "False\n"
     ]
    }
   ],
   "source": [
    "my_list = [1, 2, 3, 4, 5]\n",
    "\n",
    "# Patikrinti, ar elementas yra sąraše\n",
    "rezultatas1 = 3 in my_list  # True\n",
    "rezultatas2 = 6 in my_list  # False\n",
    "\n",
    "print(rezultatas1)\n",
    "print(rezultatas2)"
   ]
  },
  {
   "cell_type": "markdown",
   "metadata": {},
   "source": [
    "- Šiame pavyzdyje `rezultatas1 yra True`, nes elementas 3 yra sąraše my_list, tuo tarpu `rezultatas2 yra False`, nes 6 nėra sąraše.\n",
    "\n",
    "Taip pat galite naudoti 'not in' raktazodį, kad patikrintumėte, ar elementas nėra iteruojamojoje struktūroje:"
   ]
  },
  {
   "cell_type": "code",
   "execution_count": 103,
   "metadata": {},
   "outputs": [
    {
     "name": "stdout",
     "output_type": "stream",
     "text": [
      "False\n",
      "True\n"
     ]
    }
   ],
   "source": [
    "rezultatas3 = 3 not in my_list  # False (3 yra sąraše)\n",
    "rezultatas4 = 6 not in my_list  # True (6 nėra sąraše)\n",
    "\n",
    "print(rezultatas3)\n",
    "print(rezultatas4)"
   ]
  },
  {
   "cell_type": "markdown",
   "metadata": {},
   "source": [
    "- '`in`' ir '`not in`' operatoriai yra naudingi sąlyginai tikrinant, ar elementas yra kolekcijos dalis prieš atliekant tam tikras operacijas su juo.\n",
    "- Jie dažnai naudojami kontrolinėse struktūrose, pvz., if sąlygose ir cikluose, priimant sprendimus pagal konkretaus elemento buvimą ar nebuvimą iteruojamojoje struktūroje."
   ]
  },
  {
   "cell_type": "markdown",
   "metadata": {},
   "source": [
    "# `Greita Užduotis 6: Tikrinti Maisto Produktą`\n",
    "**Instrukcijos:**\n",
    "\n",
    "1. Pasirinkite maisto produktą, kurio nėra sąraše (pavyzdžiui, \"braškė\").\n",
    "2. Naudodami `in` operatorių, patikrinkite, ar pasirinktas maisto produktas yra sąraše.\n",
    "3. Atspausdinkite rezultatą (True, jei produktas yra sąraše, arba False, jei jo nėra).\n"
   ]
  },
  {
   "cell_type": "code",
   "execution_count": 41,
   "metadata": {},
   "outputs": [
    {
     "name": "stdout",
     "output_type": "stream",
     "text": [
      "True\n"
     ]
    }
   ],
   "source": [
    "# Maisto produktų sąrašas\n",
    "food_products = [\"obuolys\", \"bananas\", \"vyšnia\", \"datulė\", \"juoduju serbentų uogienė\"]\n",
    "prod = \"braškė\" not in food_products\n",
    "print(prod)\n",
    "\n",
    "# Jūsų kodas čia"
   ]
  }
 ],
 "metadata": {
  "kernelspec": {
   "display_name": "venv",
   "language": "python",
   "name": "python3"
  },
  "language_info": {
   "codemirror_mode": {
    "name": "ipython",
    "version": 3
   },
   "file_extension": ".py",
   "mimetype": "text/x-python",
   "name": "python",
   "nbconvert_exporter": "python",
   "pygments_lexer": "ipython3",
   "version": "3.12.1"
  }
 },
 "nbformat": 4,
 "nbformat_minor": 2
}
