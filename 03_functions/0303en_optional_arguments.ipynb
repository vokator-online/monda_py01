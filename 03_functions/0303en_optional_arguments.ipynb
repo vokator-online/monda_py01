{
 "cells": [
  {
   "cell_type": "markdown",
   "metadata": {},
   "source": [
    "# Optional Arguments with Default Values\n",
    "\n",
    "When designing functions, you can enhance flexibility by incorporating optional arguments with default values. This feature allows you to set default values for certain parameters, making them optional when invoking the function.\n",
    "\n",
    "Let's explore this concept with a straightforward example:"
   ]
  },
  {
   "cell_type": "code",
   "execution_count": 1,
   "metadata": {},
   "outputs": [],
   "source": [
    "def greet(name, greeting=\"Hello\"):\n",
    "    print(greeting + \", \" + name)"
   ]
  },
  {
   "cell_type": "markdown",
   "metadata": {},
   "source": [
    "- In this function, '`name`' is a mandatory argument, while '`greeting`' is optional and defaults to \"`Hello`.\" \n",
    "- When calling the function, you can provide values for both arguments or just the required one. \n",
    "\n",
    "Here's how it works:"
   ]
  },
  {
   "cell_type": "code",
   "execution_count": null,
   "metadata": {},
   "outputs": [],
   "source": [
    "greet(\"John\", \"Hi\")  # Output: Hi, John\n",
    "greet(\"Anna\")        # Output: Hello, Anna"
   ]
  },
  {
   "cell_type": "markdown",
   "metadata": {},
   "source": [
    "Now, consider another example involving a function to calculate the price of an item:"
   ]
  },
  {
   "cell_type": "code",
   "execution_count": null,
   "metadata": {},
   "outputs": [],
   "source": [
    "def calculate_price(item_name, price, discount=0, tax=21):\n",
    "    price_with_discount = price * (1 - discount / 100)\n",
    "    price_with_tax = price_with_discount * (1 + tax / 100)\n",
    "    print(f\"{item_name} - price with discount and tax: {price_with_tax:.2f}€\")"
   ]
  },
  {
   "cell_type": "markdown",
   "metadata": {},
   "source": [
    "- In this case, '`item_name`' and '`price`' are mandatory, while '`discount`' and '`tax`' are optional with default values. \n",
    "- If you don't specify values for '`discount`' and '`tax`' during the function call, it uses the defaults (`0` and `21`, respectively). \n",
    "\n",
    "Let's see it in action:"
   ]
  },
  {
   "cell_type": "code",
   "execution_count": null,
   "metadata": {},
   "outputs": [],
   "source": [
    "calculate_price(\"Apple\", 1.00, 10, 5)\n",
    "# Output: Apple - price with discount and tax: 0.95€\n",
    "\n",
    "calculate_price(\"Avocado\", 1.20, tax=10)\n",
    "# Output: Avocado - price with discount and tax: 1.32€\n",
    "\n",
    "calculate_price(\"Milk\", 2)\n",
    "# Output: Milk - price with discount and tax: 2.42€"
   ]
  },
  {
   "cell_type": "markdown",
   "metadata": {},
   "source": [
    "- This function calculates the final price of an item, considering discounts and taxes. \n",
    "- The optional parameters '`discount`' and '`tax`' are provided with default values, offering flexibility to users who may choose not to specify these values explicitly."
   ]
  },
  {
   "cell_type": "markdown",
   "metadata": {},
   "source": [
    "# `Quick Assignment 1: Calculate Shipping Cost`\n",
    "\n",
    "**Objective**: Create a Python function to calculate shipping costs based on `distance`, `weight`, and a `rate` per kilogram.\n",
    "\n",
    "**Instructions**:\n",
    "\n",
    "1. Create a function named `calculate_shipping_cost` that takes three arguments:\n",
    "\n",
    "- `distance` (required): The distance in kilometers.\n",
    "- `weight` (optional, default value 1 kg): The weight in kilograms.\n",
    "- `rate_per_kg` (optional, default value 5 €/kg): The cost per kilogram for shipping.\n",
    "1. Inside the function, calculate the shipping cost as `distance * weight * rate_per_kg`.\n",
    "\n",
    "1. Print the calculated shipping cost rounded to two decimal places using an f-string. For example: \"Shipping cost: {shipping_cost:.2f} €.\"\n",
    "\n",
    "1. Test the function with at least three different calls, both with and without specifying `weight` and `rate_per_kg`."
   ]
  },
  {
   "cell_type": "code",
   "execution_count": null,
   "metadata": {},
   "outputs": [],
   "source": [
    "# your code here"
   ]
  },
  {
   "cell_type": "markdown",
   "metadata": {},
   "source": [
    "# Passing Arguments by Name\n",
    "\n",
    "Passing arguments by name means specifying which value goes to which argument when calling a function.\n",
    "\n",
    "**Example**:"
   ]
  },
  {
   "cell_type": "code",
   "execution_count": null,
   "metadata": {},
   "outputs": [],
   "source": [
    "def calculate(operation, x, y):\n",
    "    if operation == \"add\":\n",
    "        return x + y\n",
    "    elif operation == \"subtract\":\n",
    "        return x - y\n",
    "    elif operation == \"multiply\":\n",
    "        return x * y\n",
    "    elif operation == \"divide\":\n",
    "        return x / y\n",
    "\n",
    "# When calling the calculate function, explicitly name the arguments\n",
    "result = calculate(operation=\"add\", x=2, y=3)\n",
    "print(result)  # Output: 5"
   ]
  },
  {
   "cell_type": "markdown",
   "metadata": {},
   "source": [
    "In this function, there are three required arguments: `operation`, x, and `y`. When you call the function, you can specify the name of the argument followed by = and assign the value you want to pass to the function. This ensures that each argument is passed correctly, avoiding errors."
   ]
  },
  {
   "cell_type": "markdown",
   "metadata": {},
   "source": [
    "# `Quick Assignment 2: Passing Arguments by Name`\n",
    "\n",
    "**Objective**: The objective of this assignment is to understand and practice passing arguments by name in Python functions.\n",
    "\n",
    "**Instructions:**\n",
    "\n",
    "1. Create a Python function named `calculate_math` that takes three arguments:\n",
    "\n",
    "- `operation` (required): A string representing the math operation (\"add\", \"subtract\", \"multiply\", or \"divide\").\n",
    "- `num1` (required): The first number.\n",
    "- `num2` (required): The second number.\n",
    "1. Inside the function, implement the specified math operation based on the value of the `operation` argument and return the result.\n",
    "\n",
    "1. Print the result with a descriptive message. For example, if `operation` is \"add\", the message could be: \"The result of adding {num1} and {num2} is {result}.\"\n",
    "\n",
    "1. Test the function with at least four different calls, specifying the `operation` by name.\n",
    "\n",
    "**Example Calls:**\n",
    "\n",
    "```python\n",
    "calculate_math(operation=\"add\", num1=2, num2=3)\n",
    "calculate_math(operation=\"subtract\", num1=10, num2=4)\n",
    "```"
   ]
  },
  {
   "cell_type": "code",
   "execution_count": null,
   "metadata": {},
   "outputs": [],
   "source": [
    "# Your code here"
   ]
  },
  {
   "cell_type": "markdown",
   "metadata": {},
   "source": [
    "# `Bonus Assignment: Create a Personal Information Card`\n",
    "\n",
    "**Objective**: The objective of this assignment is to create a Python function to generate a personal information card with optional details.\n",
    "\n",
    "**Instructions**:\n",
    "\n",
    "1. Create a Python function named `generate_info_card` that takes the following arguments:\n",
    "\n",
    "- `name` (required): The person's `name`.\n",
    "- `age` (optional, default value `25`): The person's age.\n",
    "- `city` (optional, default value \"`Unknown`\"): The person's city.\n",
    "- `country` (optional, default value \"`Unknown`\"): The person's country.\n",
    "\n",
    "2. Inside the function, construct an information card using the provided details and return it as a string.\n",
    "3. Print the information card with a formatted message. For example:\n",
    "\n",
    "```python\n",
    "# Information Card:\n",
    "# Name: John\n",
    "# Age: 30\n",
    "# City: New York\n",
    "# Country: USA\n",
    "```\n",
    "\n",
    "4. Test the function with at least three different calls, specifying some arguments by name and leaving others to use their default values.\n",
    "\n",
    "```python\n",
    "# Example call:\n",
    "generate_info_card(name=\"Alice\", age=28, city=\"London\", country=\"UK\")\n",
    "```"
   ]
  },
  {
   "cell_type": "code",
   "execution_count": null,
   "metadata": {},
   "outputs": [],
   "source": [
    "# your code here"
   ]
  }
 ],
 "metadata": {
  "kernelspec": {
   "display_name": "Python 3",
   "language": "python",
   "name": "python3"
  },
  "language_info": {
   "codemirror_mode": {
    "name": "ipython",
    "version": 3
   },
   "file_extension": ".py",
   "mimetype": "text/x-python",
   "name": "python",
   "nbconvert_exporter": "python",
   "pygments_lexer": "ipython3",
   "version": "3.10.6"
  },
  "orig_nbformat": 4
 },
 "nbformat": 4,
 "nbformat_minor": 2
}
