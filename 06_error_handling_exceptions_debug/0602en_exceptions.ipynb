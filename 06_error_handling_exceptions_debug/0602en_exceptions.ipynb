{
 "cells": [
  {
   "cell_type": "markdown",
   "metadata": {},
   "source": [
    "# Exceptions\n",
    "\n",
    "## TypeError\n",
    "\n",
    "One of the errors that can occur due to the improper use of data types is a `TypeError`. \n",
    ">For example, when trying to concatenate different data types:"
   ]
  },
  {
   "cell_type": "code",
   "execution_count": null,
   "metadata": {},
   "outputs": [],
   "source": [
    "number = 42\n",
    "name = \"John\"\n",
    "result = name + number  # TypeError: can only concatenate str (not \"int\") to str"
   ]
  },
  {
   "cell_type": "markdown",
   "metadata": {},
   "source": [
    "For error handling, we use `try` and `except` blocks, \n",
    ">which allow us to handle exceptions and continue the program's execution:"
   ]
  },
  {
   "cell_type": "code",
   "execution_count": null,
   "metadata": {},
   "outputs": [],
   "source": [
    "number = 42\n",
    "name = \"John\"\n",
    "try:\n",
    "    result = name + number\n",
    "except TypeError:\n",
    "    print(\"Error: cannot concatenate 'str' and 'int' data types\")  # Error: cannot concatenate 'str' and 'int' data types"
   ]
  },
  {
   "cell_type": "markdown",
   "metadata": {},
   "source": [
    "# `Quick assignment 1: TypeError Assignment`\n",
    "\n",
    "1. Create a program that attempts to add an integer and a string together.\n",
    "1. Use a `try` and `except` block to catch the `TypeError` and print an error message."
   ]
  },
  {
   "cell_type": "code",
   "execution_count": 1,
   "metadata": {},
   "outputs": [
    {
     "name": "stdout",
     "output_type": "stream",
     "text": [
      "Error: unsupported operand type(s) for +: 'int' and 'str'\n"
     ]
    }
   ],
   "source": [
    "def add_integer_and_string(num, string):\n",
    "    try:\n",
    "        result = num + string\n",
    "        print(\"Result:\", result)\n",
    "    except TypeError as e:\n",
    "        print(\"Error:\", e)\n",
    "\n",
    "# Example usage\n",
    "num = 42\n",
    "string = \"Hello, \"\n",
    "add_integer_and_string(num, string)"
   ]
  },
  {
   "cell_type": "markdown",
   "metadata": {},
   "source": [
    "## NameError\n",
    "Using an undefined variable results in a `NameError`, \n",
    ">for example:"
   ]
  },
  {
   "cell_type": "code",
   "execution_count": null,
   "metadata": {},
   "outputs": [],
   "source": [
    "a = 10\n",
    "print(b)  # NameError: name 'b' is not defined"
   ]
  },
  {
   "cell_type": "markdown",
   "metadata": {},
   "source": [
    "This code will raise a `NameError` because the variable 'b' was not defined earlier in the program. \n",
    ">One way to handle this error is to use `try` and `except` blocks:"
   ]
  },
  {
   "cell_type": "code",
   "execution_count": null,
   "metadata": {},
   "outputs": [],
   "source": [
    "a = 10\n",
    "try:\n",
    "    print(b)\n",
    "except NameError:\n",
    "    print(\"Error: variable was not defined\")  # Error: variable was not defined"
   ]
  },
  {
   "cell_type": "markdown",
   "metadata": {},
   "source": [
    "# `Quick assignment 2: NameError Assignment`\n",
    "\n",
    "1. Write a program that tries to print a variable that has not been defined.\n",
    "1. Use a `try` and `except` block to catch the `NameError` and display a custom error message."
   ]
  },
  {
   "cell_type": "code",
   "execution_count": 2,
   "metadata": {},
   "outputs": [
    {
     "name": "stdout",
     "output_type": "stream",
     "text": [
      "Error: name 'undefined_variable' is not defined. The variable 'undefined_variable' is not defined.\n"
     ]
    }
   ],
   "source": [
    "try:\n",
    "    # Attempt to print an undefined variable\n",
    "    print(undefined_variable)\n",
    "except NameError as e:\n",
    "    # Handle the NameError and display a custom error message\n",
    "    print(f\"Error: {e}. The variable 'undefined_variable' is not defined.\")\n"
   ]
  },
  {
   "cell_type": "markdown",
   "metadata": {},
   "source": [
    "## ValueError, ZeroDivisionError\n",
    "`ValueError` occurs when attempting to convert a value to the correct data type, but it cannot be done due to incorrect or invalid values,\n",
    "\n",
    ">for example:"
   ]
  },
  {
   "cell_type": "code",
   "execution_count": null,
   "metadata": {},
   "outputs": [],
   "source": [
    "try:\n",
    "    x = int('abc')\n",
    "except ValueError:\n",
    "    print(\"Error: cannot convert value to a number\")  # Error: cannot convert value to a number"
   ]
  },
  {
   "cell_type": "markdown",
   "metadata": {},
   "source": [
    "# `Quick assignment 3: ValueError Assignment`\n",
    "\n",
    "1. Develop a program that attempts to convert a non-numeric string to an integer (e.g., \"abc\" to int).\n",
    "1. Use a `try` and `except` block to handle the `ValueError` and print an error message."
   ]
  },
  {
   "cell_type": "code",
   "execution_count": 5,
   "metadata": {},
   "outputs": [
    {
     "name": "stdout",
     "output_type": "stream",
     "text": [
      "Error: invalid literal for int() with base 10: 'e'\n"
     ]
    }
   ],
   "source": [
    "def convert_to_integer(input_string):\n",
    "    try:\n",
    "        result = int(input_string)\n",
    "        print(f\"Conversion successful! Result: {result}\")\n",
    "    except ValueError as e:\n",
    "        print(f\"Error: {e}\")\n",
    "\n",
    "# Example usage:\n",
    "input_string = input(\"Enter a string to convert to integer: \")\n",
    "convert_to_integer(input_string)"
   ]
  },
  {
   "cell_type": "markdown",
   "metadata": {},
   "source": [
    "`ZeroDivisionError` is raised when attempting to divide a number by zero. This is an invalid mathematical operation, so it raises this error when you try to perform it. \n",
    "\n",
    ">For example:"
   ]
  },
  {
   "cell_type": "code",
   "execution_count": null,
   "metadata": {},
   "outputs": [],
   "source": [
    "try:\n",
    "    x = 1/0\n",
    "except ZeroDivisionError:\n",
    "    print(\"Error: cannot divide by zero\")  # Error: cannot divide by zero"
   ]
  },
  {
   "cell_type": "markdown",
   "metadata": {},
   "source": [
    "# `Quick assignment 4: ZeroDivisionError Assignment`\n",
    "\n",
    "1. Create a program that divides a number by zero (e.g., `1 / 0`).\n",
    "1. Use a `try` and `except` block to catch the `ZeroDivisionError` and display an error message."
   ]
  },
  {
   "cell_type": "code",
   "execution_count": 6,
   "metadata": {},
   "outputs": [
    {
     "name": "stdout",
     "output_type": "stream",
     "text": [
      "Error: division by zero\n",
      "Cannot divide by zero!\n"
     ]
    }
   ],
   "source": [
    "def divide_by_zero_example():\n",
    "    try:\n",
    "        result = 1 / 0  # Attempting to divide by zero\n",
    "        print(\"Result:\", result)  # This line won't be executed if an exception occurs\n",
    "    except ZeroDivisionError as e:\n",
    "        print(\"Error:\", e)\n",
    "        print(\"Cannot divide by zero!\")\n",
    "\n",
    "# Calling the function to see the result\n",
    "divide_by_zero_example()"
   ]
  },
  {
   "cell_type": "markdown",
   "metadata": {},
   "source": [
    "## IndexError for Lists, KeyError for Dictionaries\n",
    "`IndexError` occurs when trying to access a list element that does not exist at the specified index, \n",
    "\n",
    ">for example:"
   ]
  },
  {
   "cell_type": "code",
   "execution_count": null,
   "metadata": {},
   "outputs": [],
   "source": [
    "my_list = [1, 2, 3]\n",
    "\n",
    "try:\n",
    "    print(my_list[3])\n",
    "except IndexError:\n",
    "    print(\"Error: index exceeds the list's boundaries\")  # Error: index exceeds the list's boundaries"
   ]
  },
  {
   "cell_type": "markdown",
   "metadata": {},
   "source": [
    "# `Quick assignment 5: IndexError Assignment`\n",
    "\n",
    "1. Write a program that tries to access an element in a list using an index that is out of range.\n",
    "1. Use a `try` and `except` block to handle the `IndexError` and print a custom error message."
   ]
  },
  {
   "cell_type": "code",
   "execution_count": 7,
   "metadata": {},
   "outputs": [
    {
     "name": "stdout",
     "output_type": "stream",
     "text": [
      "The element at index 2 is: 3\n",
      "Error: Index 10 is out of range. Please provide a valid index.\n"
     ]
    }
   ],
   "source": [
    "def access_element_by_index(my_list, index):\n",
    "    try:\n",
    "        element = my_list[index]\n",
    "        print(f\"The element at index {index} is: {element}\")\n",
    "    except IndexError:\n",
    "        print(f\"Error: Index {index} is out of range. Please provide a valid index.\")\n",
    "\n",
    "# Example usage:\n",
    "my_list = [1, 2, 3, 4, 5]\n",
    "\n",
    "# Try accessing an element with a valid index\n",
    "access_element_by_index(my_list, 2)\n",
    "\n",
    "# Try accessing an element with an invalid index\n",
    "access_element_by_index(my_list, 10)"
   ]
  },
  {
   "cell_type": "markdown",
   "metadata": {},
   "source": [
    "`KeyError` is raised when trying to access a dictionary key that does not exist, \n",
    "\n",
    ">for example:"
   ]
  },
  {
   "cell_type": "code",
   "execution_count": null,
   "metadata": {},
   "outputs": [],
   "source": [
    "my_dict = {\"a\": 1, \"b\": 2, \"c\": 3}\n",
    "\n",
    "try:\n",
    "    print(my_dict[\"d\"])\n",
    "except KeyError:\n",
    "    print(\"Error: key does not exist in the dictionary\")  # Error: key does not exist in the dictionary"
   ]
  },
  {
   "cell_type": "markdown",
   "metadata": {},
   "source": [
    "# `Quick assignment 6: KeyError Assignment`\n",
    "\n",
    "1. Develop a program that attempts to access a key in a dictionary that does not exist.\n",
    "1. Use a `try` and `except` block to catch the `KeyError` and display an error message."
   ]
  },
  {
   "cell_type": "code",
   "execution_count": 8,
   "metadata": {},
   "outputs": [
    {
     "name": "stdout",
     "output_type": "stream",
     "text": [
      "Error: Key 'gender' does not exist in the dictionary.\n"
     ]
    }
   ],
   "source": [
    "# Define a sample dictionary\n",
    "my_dict = {'name': 'John', 'age': 25, 'city': 'New York'}\n",
    "\n",
    "# Attempt to access a key that does not exist\n",
    "key_to_access = 'gender'\n",
    "\n",
    "try:\n",
    "    value = my_dict[key_to_access]\n",
    "    print(f\"The value for key '{key_to_access}' is: {value}\")\n",
    "except KeyError:\n",
    "    print(f\"Error: Key '{key_to_access}' does not exist in the dictionary.\")"
   ]
  },
  {
   "cell_type": "markdown",
   "metadata": {},
   "source": [
    "## AttributeError for Objects\n",
    "`AttributeError` is raised when a program tries to access an attribute that does not exist in an object or class, \n",
    "\n",
    ">for example:"
   ]
  },
  {
   "cell_type": "code",
   "execution_count": null,
   "metadata": {},
   "outputs": [],
   "source": [
    "class Person:\n",
    "    def __init__(self, name, age):\n",
    "        self.name = name\n",
    "        self.age = age\n",
    "\n",
    "person = Person(\"John\", 25)\n",
    "print(person.name)  # \"John\"\n",
    "print(person.surname)  # AttributeError: 'Person' object has no attribute 'surname'"
   ]
  },
  {
   "cell_type": "markdown",
   "metadata": {},
   "source": [
    "To protect the program from `AttributeError` exceptions, you can use a `try`-`except` block:"
   ]
  },
  {
   "cell_type": "code",
   "execution_count": null,
   "metadata": {},
   "outputs": [],
   "source": [
    "try:\n",
    "    print(person.surname)\n",
    "except AttributeError:\n",
    "    print(\"Error: 'surname' attribute does not exist\")  # Error: 'surname' attribute does not exist"
   ]
  },
  {
   "cell_type": "markdown",
   "metadata": {},
   "source": [
    "# `Quick assignment 7: AttributeError Assignment`\n",
    "\n",
    "1. Create a `class` with some attributes and attempt to access an attribute that does not exist for an instance of that class.\n",
    "1. Use a `try` and `except` block to catch the `AttributeError` and print a custom error message."
   ]
  },
  {
   "cell_type": "code",
   "execution_count": 2,
   "metadata": {},
   "outputs": [
    {
     "name": "stdout",
     "output_type": "stream",
     "text": [
      "AttributeError: 'MyClass' object has no attribute 'gender'. 'gender' attribute does not exist in the MyClass instance.\n"
     ]
    }
   ],
   "source": [
    "class MyClass:\n",
    "    def __init__(self, name, age):\n",
    "        self.name = name\n",
    "        self.age = age\n",
    "\n",
    "# Creating an instance of MyClass\n",
    "obj = MyClass(\"John\", 25)\n",
    "\n",
    "# Attempting to access a non-existing attribute 'gender'\n",
    "try:\n",
    "    gender_value = obj.gender\n",
    "except AttributeError as e:\n",
    "    # Catching the AttributeError and printing a custom error message\n",
    "    print(f\"AttributeError: {e}. 'gender' attribute does not exist in the MyClass instance.\")\n"
   ]
  },
  {
   "cell_type": "markdown",
   "metadata": {},
   "source": [
    "## Using the `hasattr()` function for Checking Object Attributes"
   ]
  },
  {
   "cell_type": "markdown",
   "metadata": {},
   "source": [
    "The `hasattr()` function allows you to check whether an object has a specific attribute. It takes the object and attribute name as arguments and returns `True` if the attribute exists, and `False` if it does not. \n",
    "\n",
    ">For example:"
   ]
  },
  {
   "cell_type": "code",
   "execution_count": null,
   "metadata": {},
   "outputs": [],
   "source": [
    "if hasattr(person, 'surname'):\n",
    "    print(person.surname)\n",
    "else:\n",
    "    print(\"Error: 'surname' attribute does not exist\")  # Error: 'surname' attribute does not exist"
   ]
  },
  {
   "cell_type": "markdown",
   "metadata": {},
   "source": [
    "# `Quick assignment 8: hasattr() Assignment`\n",
    "\n",
    "1. Modify the previous program in \"quick assignment 7\" with the `AttributeError` to check if the attribute exists using the `hasattr()` function before accessing it. \n",
    "1. If it exists, print the attribute's value; otherwise, display an error message."
   ]
  },
  {
   "cell_type": "code",
   "execution_count": 3,
   "metadata": {},
   "outputs": [
    {
     "name": "stdout",
     "output_type": "stream",
     "text": [
      "Error: 'gender' attribute does not exist in the MyClass instance.\n"
     ]
    }
   ],
   "source": [
    "class MyClass:\n",
    "    def __init__(self, name, age):\n",
    "        self.name = name\n",
    "        self.age = age\n",
    "\n",
    "# Creating an instance of MyClass\n",
    "obj = MyClass(\"John\", 25)\n",
    "\n",
    "# Attempting to access the attribute 'gender' using hasattr()\n",
    "attribute_name = 'gender'\n",
    "\n",
    "if hasattr(obj, attribute_name):\n",
    "    # If the attribute exists, print its value\n",
    "    attribute_value = getattr(obj, attribute_name)\n",
    "    print(f\"The value of '{attribute_name}' is: {attribute_value}\")\n",
    "else:\n",
    "    # If the attribute does not exist, display an error message\n",
    "    print(f\"Error: '{attribute_name}' attribute does not exist in the MyClass instance.\")"
   ]
  },
  {
   "cell_type": "markdown",
   "metadata": {},
   "source": [
    "## Using `Exception` as a Generic Exception Class and Getting the Exception Name with `__class__.__name__`"
   ]
  },
  {
   "cell_type": "markdown",
   "metadata": {},
   "source": [
    "`Exception` is a generic `try`-`except` block that catches exceptions of any type. \n",
    ">This is useful when you don't want to define each exception separately but want to catch them all in one block."
   ]
  },
  {
   "cell_type": "markdown",
   "metadata": {},
   "source": [
    "You can change the exception names using the `as` keyword to shorten a long error name to a shorter or more understandable name. \n",
    "\n",
    ">The specified variable can be used as an argument to print the error message:"
   ]
  },
  {
   "cell_type": "code",
   "execution_count": null,
   "metadata": {},
   "outputs": [],
   "source": [
    "try:\n",
    "    x = 1 / 0\n",
    "except Exception as e:\n",
    "    print(\"Exception:\", e)  # Exception: division by zero"
   ]
  },
  {
   "cell_type": "markdown",
   "metadata": {},
   "source": [
    "When an exception is raised, you can get the name of the exception class using `__class__.__name__`. \n",
    "\n",
    ">This allows you to identify exceptions more accurately and take appropriate actions based on the situation:"
   ]
  },
  {
   "cell_type": "code",
   "execution_count": null,
   "metadata": {},
   "outputs": [],
   "source": [
    "try:\n",
    "    x = 1 / 0\n",
    "except Exception as e:\n",
    "    print(\"Exception:\", e.__class__.__name__)  # Exception: ZeroDivisionError"
   ]
  },
  {
   "cell_type": "markdown",
   "metadata": {},
   "source": [
    "# `Quick assignment 9: Exception as a Generic Exception Class Assignment`\n",
    "\n",
    "1. Write a program that contains multiple types of exceptions, including those you've learned about (e.g., `ZeroDivisionError`, `ValueError`). \n",
    "2. Use a generic `try` and `except` block with `Exception as e` to catch all exceptions and print the exception type (class name) and a custom error message."
   ]
  },
  {
   "cell_type": "code",
   "execution_count": 4,
   "metadata": {},
   "outputs": [
    {
     "name": "stdout",
     "output_type": "stream",
     "text": [
      "The result of 10 divided by 2 is: 5.0\n",
      "Error: division by zero - Division by zero is not allowed.\n",
      "An unexpected error occurred: unsupported operand type(s) for /: 'str' and 'int'\n"
     ]
    }
   ],
   "source": [
    "def divide_numbers(a, b):\n",
    "    try:\n",
    "        result = a / b\n",
    "        print(f\"The result of {a} divided by {b} is: {result}\")\n",
    "    except ZeroDivisionError as e:\n",
    "        print(f\"Error: {e} - Division by zero is not allowed.\")\n",
    "    except ValueError as e:\n",
    "        print(f\"Error: {e} - Please provide valid numeric input.\")\n",
    "    except Exception as e:\n",
    "        print(f\"An unexpected error occurred: {e}\")\n",
    "\n",
    "def main():\n",
    "    try:\n",
    "        # Test cases\n",
    "        divide_numbers(10, 2)  # Valid division\n",
    "        divide_numbers(5, 0)   # Division by zero\n",
    "        divide_numbers('abc', 2)  # Value error (non-numeric input)\n",
    "    except Exception as e:\n",
    "        print(f\"Exception caught in main: {e}\")\n",
    "\n",
    "if __name__ == \"__main__\":\n",
    "    main()"
   ]
  }
 ],
 "metadata": {
  "kernelspec": {
   "display_name": "Python 3",
   "language": "python",
   "name": "python3"
  },
  "language_info": {
   "codemirror_mode": {
    "name": "ipython",
    "version": 3
   },
   "file_extension": ".py",
   "mimetype": "text/x-python",
   "name": "python",
   "nbconvert_exporter": "python",
   "pygments_lexer": "ipython3",
   "version": "3.12.1"
  }
 },
 "nbformat": 4,
 "nbformat_minor": 2
}
