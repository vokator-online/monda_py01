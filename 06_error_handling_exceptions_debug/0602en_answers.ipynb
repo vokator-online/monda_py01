{
 "cells": [
  {
   "cell_type": "markdown",
   "metadata": {},
   "source": [
    "# `Quick assignment 1: TypeError Assignment`"
   ]
  },
  {
   "cell_type": "code",
   "execution_count": null,
   "metadata": {},
   "outputs": [],
   "source": [
    "def add_int_and_string(x, y):\n",
    "    try:\n",
    "        result = x + y\n",
    "        print(\"Sum:\", result)\n",
    "    except TypeError:\n",
    "        print(\"Error: Cannot add an integer and a string.\")\n",
    "\n",
    "# Example usage:\n",
    "integer_value = 5\n",
    "string_value = \"10\"\n",
    "\n",
    "add_int_and_string(integer_value, string_value)\n"
   ]
  },
  {
   "cell_type": "markdown",
   "metadata": {},
   "source": [
    "# `Quick assignment 2: NameError Assignment`"
   ]
  },
  {
   "cell_type": "code",
   "execution_count": null,
   "metadata": {},
   "outputs": [],
   "source": [
    "def print_undefined_variable():\n",
    "    try:\n",
    "        # Attempting to print an undefined variable\n",
    "        print(undefined_variable)\n",
    "    except NameError:\n",
    "        print(\"Error: The variable 'undefined_variable' is not defined.\")\n",
    "\n",
    "# Example usage:\n",
    "print_undefined_variable()"
   ]
  },
  {
   "cell_type": "markdown",
   "metadata": {},
   "source": [
    "# `Quick assignment 3: ValueError Assignment`"
   ]
  },
  {
   "cell_type": "code",
   "execution_count": null,
   "metadata": {},
   "outputs": [],
   "source": [
    "def convert_to_integer(value):\n",
    "    try:\n",
    "        # Attempting to convert the string to an integer\n",
    "        result = int(value)\n",
    "        print(\"Converted value:\", result)\n",
    "    except ValueError:\n",
    "        print(f\"Error: Cannot convert '{value}' to an integer.\")\n",
    "\n",
    "# Example usage:\n",
    "non_numeric_string = \"abc\"\n",
    "convert_to_integer(non_numeric_string)\n"
   ]
  },
  {
   "cell_type": "markdown",
   "metadata": {},
   "source": [
    "# `Quick assignment 4: ZeroDivisionError Assignment`"
   ]
  },
  {
   "cell_type": "code",
   "execution_count": null,
   "metadata": {},
   "outputs": [],
   "source": [
    "def divide_by_zero(number):\n",
    "    try:\n",
    "        # Attempting to divide the number by zero\n",
    "        result = number / 0\n",
    "        print(\"Result of division:\", result)\n",
    "    except ZeroDivisionError:\n",
    "        print(\"Error: Cannot divide by zero.\")\n",
    "\n",
    "# Example usage:\n",
    "number_to_divide = 5\n",
    "divide_by_zero(number_to_divide)"
   ]
  },
  {
   "cell_type": "markdown",
   "metadata": {},
   "source": [
    "# `Quick assignment 5: IndexError Assignment`"
   ]
  },
  {
   "cell_type": "code",
   "execution_count": null,
   "metadata": {},
   "outputs": [],
   "source": [
    "def access_list_element(my_list, index):\n",
    "    try:\n",
    "        # Attempting to access an element using the specified index\n",
    "        result = my_list[index]\n",
    "        print(\"Element at index\", index, \":\", result)\n",
    "    except IndexError:\n",
    "        print(f\"Error: Index {index} is out of range for the given list.\")\n",
    "\n",
    "# Example usage:\n",
    "my_list = [1, 2, 3, 4, 5]\n",
    "out_of_range_index = 10\n",
    "access_list_element(my_list, out_of_range_index)\n"
   ]
  },
  {
   "cell_type": "markdown",
   "metadata": {},
   "source": [
    "# `Quick assignment 6: KeyError Assignment`"
   ]
  },
  {
   "cell_type": "code",
   "execution_count": null,
   "metadata": {},
   "outputs": [],
   "source": [
    "def access_dictionary_key(my_dict, key):\n",
    "    try:\n",
    "        # Attempting to access the value associated with the specified key\n",
    "        result = my_dict[key]\n",
    "        print(\"Value for key\", key, \":\", result)\n",
    "    except KeyError:\n",
    "        print(f\"Error: Key '{key}' does not exist in the given dictionary.\")\n",
    "\n",
    "# Example usage:\n",
    "my_dictionary = {'name': 'John', 'age': 25, 'city': 'New York'}\n",
    "nonexistent_key = 'gender'\n",
    "access_dictionary_key(my_dictionary, nonexistent_key)\n"
   ]
  },
  {
   "cell_type": "markdown",
   "metadata": {},
   "source": [
    "# `Quick assignment 7: AttributeError Assignment`"
   ]
  },
  {
   "cell_type": "code",
   "execution_count": null,
   "metadata": {},
   "outputs": [],
   "source": [
    "class MyClass:\n",
    "    def __init__(self, name, age):\n",
    "        self.name = name\n",
    "        self.age = age\n",
    "\n",
    "# Creating an instance of the class\n",
    "my_instance = MyClass(name='John', age=25)\n",
    "\n",
    "def access_attribute(instance):\n",
    "    try:\n",
    "        # Attempting to access a nonexistent attribute\n",
    "        result = instance.address\n",
    "        print(\"Address:\", result)\n",
    "    except AttributeError:\n",
    "        print(\"Error: 'address' attribute does not exist for the given instance.\")\n",
    "\n",
    "# Example usage:\n",
    "access_attribute(my_instance)\n"
   ]
  },
  {
   "cell_type": "markdown",
   "metadata": {},
   "source": [
    "# `Quick assignment 8: hasattr() Assignment`"
   ]
  },
  {
   "cell_type": "code",
   "execution_count": null,
   "metadata": {},
   "outputs": [],
   "source": [
    "class MyClass:\n",
    "    def __init__(self, name, age):\n",
    "        self.name = name\n",
    "        self.age = age\n",
    "\n",
    "# Creating an instance of the class\n",
    "my_instance = MyClass(name='John', age=25)\n",
    "\n",
    "def access_attribute(instance, attribute):\n",
    "    if hasattr(instance, attribute):\n",
    "        # Checking if the attribute exists\n",
    "        result = getattr(instance, attribute)\n",
    "        print(f\"{attribute.capitalize()}: {result}\")\n",
    "    else:\n",
    "        print(f\"Error: '{attribute}' attribute does not exist for the given instance.\")\n",
    "\n",
    "# Example usage:\n",
    "access_attribute(my_instance, 'address')"
   ]
  },
  {
   "cell_type": "markdown",
   "metadata": {},
   "source": [
    "# `Quick assignment 9: Exception as a Generic Exception Class Assignment`"
   ]
  },
  {
   "cell_type": "code",
   "execution_count": null,
   "metadata": {},
   "outputs": [],
   "source": [
    "def handle_exceptions():\n",
    "    try:\n",
    "        # Example 1: Division by zero\n",
    "        result1 = 1 / 0\n",
    "\n",
    "        # Example 2: Converting a non-numeric string to an integer\n",
    "        result2 = int(\"abc\")\n",
    "\n",
    "        # Example 3: Accessing an element in a list with an out-of-range index\n",
    "        my_list = [1, 2, 3]\n",
    "        result3 = my_list[10]\n",
    "\n",
    "    except Exception as e:\n",
    "        print(f\"Error: {type(e).__name__} - {str(e)}\")\n",
    "\n",
    "# Example usage:\n",
    "handle_exceptions()\n"
   ]
  }
 ],
 "metadata": {
  "kernelspec": {
   "display_name": "venv",
   "language": "python",
   "name": "python3"
  },
  "language_info": {
   "codemirror_mode": {
    "name": "ipython",
    "version": 3
   },
   "file_extension": ".py",
   "mimetype": "text/x-python",
   "name": "python",
   "nbconvert_exporter": "python",
   "pygments_lexer": "ipython3",
   "version": "3.12.1"
  }
 },
 "nbformat": 4,
 "nbformat_minor": 2
}
