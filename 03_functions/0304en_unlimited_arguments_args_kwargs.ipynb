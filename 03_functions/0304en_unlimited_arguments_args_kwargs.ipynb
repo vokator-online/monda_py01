{
 "cells": [
  {
   "cell_type": "markdown",
   "metadata": {},
   "source": [
    "# Unlimited Arguments `*args` and `**kwargs`\n",
    "\n",
    "## `*args`\n",
    "\n",
    "- is a special Python syntax element that allows you to pass any number of positional arguments to a function. \n",
    "- creates a tuple from all the passed positional arguments, which can be used like any other tuple."
   ]
  },
  {
   "cell_type": "markdown",
   "metadata": {},
   "source": [
    "**Example:**"
   ]
  },
  {
   "cell_type": "code",
   "execution_count": null,
   "metadata": {},
   "outputs": [],
   "source": [
    "def print_args(*args):\n",
    "    for arg in args:\n",
    "        print(arg)\n",
    "\n",
    "print_args(1, 2, 3, \"Hello\", \"World\")"
   ]
  },
  {
   "cell_type": "markdown",
   "metadata": {},
   "source": [
    "Example of a summation function using `*args`:"
   ]
  },
  {
   "cell_type": "code",
   "execution_count": null,
   "metadata": {},
   "outputs": [],
   "source": [
    "def sum_values(*args):\n",
    "    total = 0\n",
    "    for i in args:\n",
    "        total += i\n",
    "    return total\n",
    "\n",
    "print(sum_values(1, 2, 3))  # 6\n",
    "print(sum_values(4, 5, 6, 7))  # 22\n"
   ]
  },
  {
   "cell_type": "markdown",
   "metadata": {},
   "source": [
    "A function that combines and prints all `*args` elements:"
   ]
  },
  {
   "cell_type": "code",
   "execution_count": null,
   "metadata": {},
   "outputs": [],
   "source": [
    "def combine(*args):\n",
    "    combined = \"\"\n",
    "    for arg in args:\n",
    "        combined += str(arg)\n",
    "    print(combined)\n",
    "\n",
    "combine(\"Hello\", \" \", \"World\")  # Hello World\n",
    "combine(1, 2, 3, 4)  # 1234"
   ]
  },
  {
   "cell_type": "markdown",
   "metadata": {},
   "source": [
    "A function that returns all `*args` elements that are greater than a specified number:"
   ]
  },
  {
   "cell_type": "code",
   "execution_count": null,
   "metadata": {},
   "outputs": [],
   "source": [
    "def greater_than(number, *args):\n",
    "    greater_elements = []\n",
    "    for arg in args:\n",
    "        if arg > number:\n",
    "            greater_elements.append(arg)\n",
    "    return greater_elements\n",
    "\n",
    "print(greater_than(3, 1, 2, 3, 4, 5))  # [4, 5]\n",
    "print(greater_than(10, 1, 2, 3, 4, 5))  # []"
   ]
  },
  {
   "cell_type": "markdown",
   "metadata": {},
   "source": [
    "A function that returns the length of each `*args` element as a list:"
   ]
  },
  {
   "cell_type": "code",
   "execution_count": null,
   "metadata": {},
   "outputs": [],
   "source": [
    "def string_lengths(*args):\n",
    "    lengths = []\n",
    "    for arg in args:\n",
    "        length = len(str(arg))\n",
    "        lengths.append(length)\n",
    "    return lengths\n",
    "\n",
    "print(string_lengths(\"Hello\", \"World\"))  # [5, 5]\n",
    "print(string_lengths(123, 4567, 89))  # [3, 4, 2]"
   ]
  },
  {
   "cell_type": "markdown",
   "metadata": {},
   "source": [
    "# `Quick Assignment 1: *args Practice`\n",
    "\n",
    "1. Create a Python function called `calculate_total` that takes an arbitrary number of arguments representing prices of items. \n",
    "1. Calculate and `return` the total price of all items."
   ]
  },
  {
   "cell_type": "code",
   "execution_count": null,
   "metadata": {},
   "outputs": [],
   "source": [
    "# Example usage:\n",
    "item_prices = [10.99, 5.49, 7.25, 3.99]"
   ]
  },
  {
   "cell_type": "code",
   "execution_count": null,
   "metadata": {},
   "outputs": [],
   "source": [
    "# your code here"
   ]
  },
  {
   "cell_type": "markdown",
   "metadata": {},
   "source": [
    "## `**kwargs`\n",
    "\n",
    "`**kwargs` is another special Python syntax element that allows you to pass a set of \"key-value\" pairs to a function as a dictionary.\n",
    "\n",
    "**Example:**"
   ]
  },
  {
   "cell_type": "code",
   "execution_count": null,
   "metadata": {},
   "outputs": [],
   "source": [
    "def print_kwargs(**kwargs):\n",
    "    for key, value in kwargs.items():\n",
    "        print(f\"{key}: {value}\")\n",
    "\n",
    "print_kwargs(name=\"John\", age=30, city=\"London\")\n"
   ]
  },
  {
   "cell_type": "markdown",
   "metadata": {},
   "source": [
    "Example: a function called \"calculate\" that prints a list of products from `**products` elements and sums their prices. Here, we also demonstrate that `**kwargs` can be named according to your preference."
   ]
  },
  {
   "cell_type": "code",
   "execution_count": null,
   "metadata": {},
   "outputs": [],
   "source": [
    "def calculate(**products):\n",
    "    total = 0\n",
    "    for product, price in products.items():\n",
    "        total += price\n",
    "        print(f\"{product}: {price:.2f}€\")\n",
    "    print(f\"Total: {total:.2f}€\")\n",
    "\n",
    "calculate(milk=2, flour=1, eggs=3)"
   ]
  },
  {
   "cell_type": "markdown",
   "metadata": {},
   "source": [
    "# `Quick Assignment 2: **kwargs, Print Contact Information`\n",
    "1. Write a Python function named print_contact_info that takes three keyword arguments: name, email, and phone.\n",
    "- This function should print each piece of information on separate lines.\n",
    "```python\n",
    "# Example Result:\n",
    "Name: John\n",
    "Email: john@example.com\n",
    "Phone: +1 555-123-4567"
   ]
  },
  {
   "cell_type": "code",
   "execution_count": null,
   "metadata": {},
   "outputs": [],
   "source": [
    "# your code here"
   ]
  },
  {
   "cell_type": "markdown",
   "metadata": {},
   "source": [
    "- In some situations, you may need a function that accepts both positional arguments and arguments not defined in the function declaration. Such functions can be created using `*args` and `**kwargs` together with regular arguments.\n",
    "\n",
    "**Example:**"
   ]
  },
  {
   "cell_type": "code",
   "execution_count": null,
   "metadata": {},
   "outputs": [],
   "source": [
    "def print_arguments(name, *args, **kwargs):\n",
    "    print(f\"Name: {name}\")\n",
    "    for key, value in kwargs.items():\n",
    "        print(f\"{key}: {value}\")\n",
    "    for arg in args:\n",
    "        print(arg)\n",
    "\n",
    "print_arguments(\"John\", \"cheerful\", \"friendly\", \"brave\", city=\"London\", age=30)"
   ]
  },
  {
   "cell_type": "markdown",
   "metadata": {},
   "source": [
    "# `Quick Assignment 3: Combine *args and **kwargs`\n",
    "\n",
    "1. Write a Python function named combine_lists that takes any number of positional arguments (*args) and key-value pairs (**kwargs).\n",
    "- The function should combine these data into a single list and return it.\n",
    "\n",
    "```python\n",
    "# Example Result:\n",
    "[1, 2, 3, ('name', 'John'), ('age', 25), ('city', 'Vilnius')]"
   ]
  },
  {
   "cell_type": "code",
   "execution_count": null,
   "metadata": {},
   "outputs": [],
   "source": [
    "# you code here"
   ]
  },
  {
   "cell_type": "markdown",
   "metadata": {},
   "source": [
    "# `Bonus assignment: Filtering Arguments`\n",
    "\n",
    "Create a Python function named `filter_arguments` that takes any number of positional arguments (`*args`) and key-value pairs (`**kwargs`).\n",
    "\n",
    "The function should perform the following actions:\n",
    "\n",
    "1. `Filter` positional arguments (*args), keeping only those that are `integers`.\n",
    "2. `Filter` keys and values (kwargs), keeping only those where the key starts with the letter '`a`' and the value is a string.\n",
    "3. `Return` two lists: one containing the remaining positional arguments (`integers`), and the other containing the `key-value` pairs from kwargs.\n",
    "\n",
    "```python\n",
    "# Example using the function:\n",
    "results = filter_arguments(1, 'Jonas', 3, 5, age='25', city='Vilnius', address='Kaunas')\n",
    "# Print the results\n",
    "print(results)\n",
    "# Example result:\n",
    "([1, 3, 5], {'age': '25', 'address': 'Vilnius'})\n",
    "```\n",
    "\n",
    "Note: Check if there are integer types in the positional arguments, and **kwargs filtering should consider keys and values based on the specified conditions."
   ]
  },
  {
   "cell_type": "code",
   "execution_count": null,
   "metadata": {},
   "outputs": [],
   "source": [
    "# your code here"
   ]
  },
  {
   "cell_type": "markdown",
   "metadata": {},
   "source": [
    ">So, `*args` allows you to pass an unlimited number of positional arguments, while `**kwargs` allows you to pass an unlimited number of keyword arguments, consisting of keys and values. You can combine these elements with regular arguments in functions to achieve greater functionality and flexibility."
   ]
  }
 ],
 "metadata": {
  "kernelspec": {
   "display_name": "Python 3",
   "language": "python",
   "name": "python3"
  },
  "language_info": {
   "codemirror_mode": {
    "name": "ipython",
    "version": 3
   },
   "file_extension": ".py",
   "mimetype": "text/x-python",
   "name": "python",
   "nbconvert_exporter": "python",
   "pygments_lexer": "ipython3",
   "version": "3.10.6"
  },
  "orig_nbformat": 4
 },
 "nbformat": 4,
 "nbformat_minor": 2
}
