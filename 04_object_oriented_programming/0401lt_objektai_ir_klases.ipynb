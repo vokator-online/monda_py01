{
 "cells": [
  {
   "cell_type": "markdown",
   "metadata": {},
   "source": [
    "# Objektinis programavimas (OOP)\n",
    "\n",
    "`Objektinis programavimas (OOP)` yra programavimo paradigma, kuri padeda tvarkingai organizuoti ir struktūrizuoti kodą, modeliuojant realaus pasaulio subjektus kaip objektus. Šie objektai gali turėti savo būseną (savybes) ir elgesį (metodus). OOP yra fundamentalus konceptas programavime, suteikiantis intuityvų būdą projektuoti ir valdyti sudėtingas programinės įrangos sistemas.\n",
    "\n",
    "Objektai yra suskirstyti į mažus savarankiškus modulius, o šios savybės ir metodai yra apibrėžiami per klases, kurios veikia kaip objekto \"šablonas\". Taigi, OOP leidžia kurti programas, kurios lengviau pritaikomos, plečiamos ir prižiūrimos dėl aiškesnės modulinės struktūros."
   ]
  },
  {
   "cell_type": "markdown",
   "metadata": {},
   "source": [
    "---\n",
    "\n",
    "## Klasės sukūrimas\n",
    "\n",
    "Klasės kūrimas yra gana paprastas procesas. Reikia naudoti žodį „`class`“, po kurio seka klasės pavadinimas. Pavyzdžiui:"
   ]
  },
  {
   "cell_type": "code",
   "execution_count": null,
   "metadata": {},
   "outputs": [],
   "source": [
    "class Automobilis:\n",
    "    marke = ''\n",
    "    modelis = ''\n",
    "    metai = ''\n",
    "    spalva = ''"
   ]
  },
  {
   "cell_type": "markdown",
   "metadata": {},
   "source": [
    "## Objekto sukūrimas\n",
    "\n",
    "Norint sukurti naują objektą remiantis esama klase, reikia pateikti reikiamus argumentus:"
   ]
  },
  {
   "cell_type": "code",
   "execution_count": null,
   "metadata": {},
   "outputs": [],
   "source": [
    "pirmas_automobilis = Automobilis()\n",
    "\n",
    "pirmas_automobilis.marke = 'Audi'\n",
    "pirmas_automobilis.modelis = 'A6'\n",
    "pirmas_automobilis.metai = 2019\n",
    "pirmas_automobilis.spalva = 'balta'"
   ]
  },
  {
   "cell_type": "markdown",
   "metadata": {},
   "source": [
    "Dabar `pirmas_automobilis` kintamasis yra objektas, kuris saugo duomenis apie automobilį pagal mūsų nurodytus parametrus.\n",
    "\n",
    "Štai kaip galite pasiekti ir atspausdinti šių automobilių objektų atributus:"
   ]
  },
  {
   "cell_type": "code",
   "execution_count": null,
   "metadata": {},
   "outputs": [],
   "source": [
    "print(pirmas_automobilis.marke)  # Audi\n",
    "print(pirmas_automobilis.modelis)  # A6\n",
    "print(pirmas_automobilis.metai)  # 2019\n",
    "print(pirmas_automobilis.spalva) # balta"
   ]
  },
  {
   "cell_type": "markdown",
   "metadata": {},
   "source": [
    "## Savybių pakeitimas\n",
    "\n",
    "Galite pakeisti objekto savybes priskirdami naują reikšmę objekto kintamajam, pavyzdžiui:"
   ]
  },
  {
   "cell_type": "code",
   "execution_count": null,
   "metadata": {},
   "outputs": [],
   "source": [
    "pirmas_automobilis.metai = 2015\n",
    "\n",
    "print(pirmas_automobilis.metai)  # 2015"
   ]
  },
  {
   "cell_type": "markdown",
   "metadata": {},
   "source": [
    "## Savybės pagal nutylėjimą\n",
    "\n",
    "Savybė pagal nutylėjimą yra klasės atributas, kuriam yra priskirta numatyta reikšmė, kuri bus naudojama, jei objektui nėra priskirta jokia kita reikšmė.\n",
    "\n",
    "*Pavyzdžiui*, galime modifikuoti automobilio klasę:"
   ]
  },
  {
   "cell_type": "code",
   "execution_count": null,
   "metadata": {},
   "outputs": [],
   "source": [
    "class Automobilis:\n",
    "    marke = ''\n",
    "    modelis = ''\n",
    "    metai = 2001\n",
    "    spalva = 'pilka'\n",
    "\n",
    "antras_automobilis = Automobilis()\n",
    "\n",
    "antras_automobilis.marke = 'BMW'\n",
    "antras_automobilis.modelis = 'X5'\n",
    "antras_automobilis.metai = 2002\n",
    "print(antras_automobilis.metai) # 2002\n",
    "print(antras_automobilis.spalva) # pilka"
   ]
  },
  {
   "cell_type": "markdown",
   "metadata": {},
   "source": [
    "Paaiškinimas:\n",
    "```python\n",
    "markė = '' \n",
    "modelis = '' \n",
    "metai = 2001 \n",
    "spalva = 'pilka'\n",
    "```\n",
    "Šios eilutės apibrėžia klasės atributus su numatytomis reikšmėmis. \n",
    "```python\n",
    "antras_automobilis = Automobilis()\n",
    "```\n",
    "Ši eilutė sukuria \"`Automobilis`\" klasės objektą pavadinimu \"antras_automobilis\".\n",
    "```python\n",
    "antras_automobilis.markė = 'BMW'\n",
    "antras_automobilis.modelis = 'X5'\n",
    "antras_automobilis.metai = 2002\n",
    "```\n",
    "Šios eilutės priskiria konkrečias reikšmes \"antras_automobilis\" objekto atributams, perrašant numatytąsias reikšmes."
   ]
  },
  {
   "cell_type": "markdown",
   "metadata": {},
   "source": [
    "## Skirtingas kiekis savybių"
   ]
  },
  {
   "cell_type": "markdown",
   "metadata": {},
   "source": [
    "Klasės, kurios objektai gali būti inicijuoti su skirtingu kiekiu savybių, yra naudingos tuo atveju, kai norime suteikti vartotojui galimybę nurodyti tik dalį objekto savybių, o likusios savybės būtų priskiriamos pagal nutylėjimą\n",
    "\n",
    "*pavyzdžiui*:"
   ]
  },
  {
   "cell_type": "code",
   "execution_count": null,
   "metadata": {},
   "outputs": [],
   "source": [
    "print(pirmas_automobilis.marke, pirmas_automobilis.spalva)  # Audi balta\n",
    "print(antras_automobilis.marke, antras_automobilis.spalva)  # BMW pilka"
   ]
  },
  {
   "cell_type": "markdown",
   "metadata": {},
   "source": [
    "### Greita Užduotis 1: Klasės Sukūrimas ir Savybių Keitimas\n",
    "\n",
    "Užduoties Instrukcijos:\n",
    "\n",
    "1. Sukurkite naują klasę pavadinimu \"`Darbuotojas`\" su šiais atributais: \"`vardas`,\" \"`pavarde`,\" \"`pozicija`,\" ir \"`atlyginimas`\" (su numatyta minimalia alga).\n",
    "\n",
    "1. Sukurkite naują \"`Darbuotojas`\" klasės objektą ir pavadinkite jį \"`darbuotojas`.\"\n",
    "\n",
    "1. Atspausdinkite darbuotojo `poziciją` ir `atlyginimą`.\n",
    "\n",
    "1. `Pakeiskite` darbuotojo atlyginimą.\n",
    "\n",
    "1. Atspausdinkite visą darbuotojo informaciją."
   ]
  },
  {
   "cell_type": "code",
   "execution_count": null,
   "metadata": {},
   "outputs": [],
   "source": [
    "# jusu kodo vieta"
   ]
  },
  {
   "cell_type": "markdown",
   "metadata": {},
   "source": [
    "---\n",
    "\n",
    "## Objekto Metodai \n",
    "\n",
    "Metodas yra funkcija, apibrėžta klasės viduje. Norėdami sukurti metodą, turite jį apibrėžti kaip funkciją ir pridėti prie klasės, pavyzdžiui:"
   ]
  },
  {
   "cell_type": "code",
   "execution_count": null,
   "metadata": {},
   "outputs": [],
   "source": [
    "class Automobilis:\n",
    "    marke = ''\n",
    "    modelis = ''\n",
    "    metai = 2023\n",
    "    spalva = 'pilka'\n",
    "\n",
    "    def drive(self):\n",
    "        print('Vairuojama')\n",
    "\n",
    "    def honk(self, message='Tūt', times=1):\n",
    "        print(message * times)\n",
    "\n",
    "antras_automobilis = Automobilis()\n",
    "\n",
    "antras_automobilis.drive()\n",
    "antras_automobilis.honk()\n",
    "antras_automobilis.honk('Tūt ', 3)"
   ]
  },
  {
   "cell_type": "markdown",
   "metadata": {},
   "source": [
    "### Greita Užduotis 2: Automobilio Veiksmai\n",
    "\n",
    "Užduoties Instrukcijos:\n",
    "\n",
    "1. Sukurkite Python klasę pavadinimu \"`Car`\" su dviem objekto metodais: `start_engine` ir `stop_engine`.\n",
    "1. `start_engine` metodas turėtų atspausdinti \"`Variklis įjungtas`\", kai jis iškviečiamas.\n",
    "1. `stop_engine` metodas turėtų atspausdinti \"`Variklis išjungtas`\", kai jis iškviečiamas.\n",
    "1. Sukurkite \"`Car`\" klasės objektą.\n",
    "1. Iškvieskite `start_engine` metodą sukurtam automobilio objektui.\n",
    "1. Iškvieskite `stop_engine` metodą sukurtam automobilio objektui.\n",
    "\n",
    "Atlikus šiuos veiksmus, turėtumėte gauti išvestį, kuri nurodo, kad variklis buvo sėkmingai įjungtas ir vėliau išjungtas."
   ]
  },
  {
   "cell_type": "code",
   "execution_count": null,
   "metadata": {},
   "outputs": [],
   "source": [
    "# jusu kodo vieta"
   ]
  },
  {
   "cell_type": "markdown",
   "metadata": {},
   "source": [
    "---\n",
    "\n",
    "## `__init__` Konstruktorius\n",
    "\n",
    "Jeigu norite, kad klasę naudoti būtų daug lanksčiau, galite naudoti `__init__` konstruktorių. `__init__` yra specialus metodas, kuris kviečiamas, kai sukuriamas naujas objektas pagal klasę. Galima perrašyti jau turimą klasę, *pavyzdžiui*:"
   ]
  },
  {
   "cell_type": "code",
   "execution_count": null,
   "metadata": {},
   "outputs": [],
   "source": [
    "class Automobilis:\n",
    "    def __init__(self, marke, modelis, metai=2023, spalva='pilka'):\n",
    "        self.marke = marke\n",
    "        self.modelis = modelis\n",
    "        self.metai = metai\n",
    "        self.spalva = spalva"
   ]
  },
  {
   "cell_type": "markdown",
   "metadata": {},
   "source": [
    "Konstruktorius `__init__` privalo turėti parametrą self, nes jis nurodo, kad savybės yra susijusios su objektu, kuris bus sukuriamas iš šios klasės.\n",
    "\n",
    "Žinodami klasės konstruktorių, galime lengvai sukurti naują objektą tiesiog nustatant norimas reikšmes, *pavyzdžiui*:"
   ]
  },
  {
   "cell_type": "code",
   "execution_count": null,
   "metadata": {},
   "outputs": [],
   "source": [
    "trecias_automobilis = Automobilis('Mercedes', 'C-Class', 2021, 'geltona')\n",
    "print(trecias_automobilis.marke)  # Mercedes\n",
    "print(trecias_automobilis.modelis)  # C-Class\n",
    "print(trecias_automobilis.metai)  # 2021\n",
    "print(trecias_automobilis.spalva) # geltona"
   ]
  },
  {
   "cell_type": "markdown",
   "metadata": {},
   "source": [
    "### Greita užduotis 3: Asmens Inicializavimas\n",
    "\n",
    "Užduoties Instrukcijos:\n",
    "\n",
    "1. Sukurkite Python klasę vardu `Asmens_info` naudodami `__init__` konstruktorių.\n",
    "1. `__init__` metode apibrėžkite ir inicializuokite atributus žmogaus `vardui`, `amžiui` ir `lyčiai`.\n",
    "1. Nustatykite numatytąsias reikšmes `amžiui` kaip `0` ir `lyčiai` kaip '`Nezinoma`'.\n",
    "1. Sukurkite `Asmens_info` klasės objektą su šiomis detalėmis:\n",
    "- Vardas: 'Rasa' \n",
    "- Amžius: 30  \n",
    "- Lytis: 'Moteris'\n",
    "5. Atspausdinkite sukurto asmens objekto `vardą`, `amžių` ir `lytį`."
   ]
  },
  {
   "cell_type": "code",
   "execution_count": null,
   "metadata": {},
   "outputs": [],
   "source": [
    "class Person:\n",
    "    def __init__(self, vardas, amzius=0, lytis='Nežinoma'):\n",
    "# jusu kodo vieta"
   ]
  },
  {
   "cell_type": "markdown",
   "metadata": {},
   "source": [
    "---\n",
    "\n",
    "## Metodai su skirtingu kiekiu savybių, *args, **kwargs: \n",
    "\n",
    "Python programavimo kalboje galite apibrėžti metodus su kintamu skaičiumi argumentų naudodami `*args` ir `**kwargs` sintaksę.\n",
    "\n",
    "`*args` (Laisvi Poziciniai Argumentai): \n",
    "\n",
    "Tai leidžia funkcijai priimti įvairų skaičių argumentų, kurie bus supakuoti į tuple ir perduoti kaip vienas kintamasis. \n",
    "Šie argumentai yra vadinami \"poziciniais\", nes jie yra perduodami pagal jų padėtį argumentų sąraše. *pavyzdžiui*:"
   ]
  },
  {
   "cell_type": "code",
   "execution_count": null,
   "metadata": {},
   "outputs": [],
   "source": [
    "class Automobilis:\n",
    "    def __init__(self, marke, modelis, *args):\n",
    "        self.marke = marke\n",
    "        self.modelis = modelis\n",
    "        self.papildomi = args\n",
    "\n",
    "    def rodyti_papildomus(self):\n",
    "        print(self.papildomi)\n",
    "\n",
    "# Sukuriamas Automobilis objektas su papildomomis savybėmis per *args\n",
    "automobilis = Automobilis('Audi', 'A4', '2022', 'Juoda', 'Automatinė', 'GPS')\n",
    "automobilis.rodyti_papildomus()  # ('2022', 'Juoda', 'Automatinė', 'GPS')"
   ]
  },
  {
   "cell_type": "markdown",
   "metadata": {},
   "source": [
    "`**kwargs` (Laisvi Raktiniai Argumentai): \n",
    "\n",
    "naudojami metodams, kai norime perduoti nežinomą skaičių raktinių-žodžių argumentų. "
   ]
  },
  {
   "cell_type": "code",
   "execution_count": null,
   "metadata": {},
   "outputs": [],
   "source": [
    "class Automobilis:\n",
    "    def __init__(self, marke, modelis, **kwargs):\n",
    "        self.marke = marke\n",
    "        self.modelis = modelis\n",
    "        self.papildomos_savybes = kwargs  # Priskiriame kwargs žodyną tiesiogiai\n",
    "\n",
    "    def rodyti_papildomas_savybes(self):\n",
    "        # Spausdiname papildomas savybes iš žodyno\n",
    "        print(self.papildomos_savybes)\n",
    "\n",
    "# Sukuriamas Automobilis objektas su papildomomis savybėmis per **kwargs\n",
    "automobilis = Automobilis('Audi', 'A4', metai='2022', spalva='Juoda', pavara='Automatinė', navigacija='GPS')\n",
    "\n",
    "# Spausdinamos papildomos savybės\n",
    "automobilis.rodyti_papildomas_savybes()\n",
    "# Į ekraną bus išvesta: {'metai': '2022', 'spalva': 'Juoda', 'pavara': 'Automatinė', 'navigacija': 'GPS'}"
   ]
  },
  {
   "cell_type": "markdown",
   "metadata": {},
   "source": [
    "`**kwargs` argumentai yra išsaugomi `self.papildomos_savybes` žodyne. Metodas `rodyti_papildomas_savybes` rodo šias savybes, palengvindamas jų peržiūrą."
   ]
  },
  {
   "cell_type": "markdown",
   "metadata": {},
   "source": [
    "### Greita užduotis 4: su *args ir **kwargs\n",
    "\n",
    "Sukurkite klasę `Automobilis` su konstruktoriumi, kuris priima bent du privalomus argumentus (`marke` ir `modelis`) bei bet kokį skaičių papildomų pozicinių argumentų (`*args`) ir raktinių argumentų (`**kwargs`).\n",
    "\n",
    "### Instrukcijos\n",
    " \n",
    "1. Sukurkite klasę `Automobilis` su konstruktoriumi, kuris priima privalomus argumentus: `marke`, `modelis` ir bent vieną papildomą pozicinį argumentą (`*args`).\n",
    "2. Klasėje sukurkite metodą `rodyti_info()`, kuris išspausdina privalomus ir visus papildomus pozicinius argumentus.\n",
    "3. Konstruktorius taip pat turi priimti bet kokį skaičių raktinių argumentų (`**kwargs`).\n",
    "4. Sukurti metodą `rodyti_papildomas_savybes()`, kuris išspausdina visus raktinius argumentus.\n",
    "5. Sukurkite objektą `automobilis` su privalomais ir papildomais poziciniais bei raktiniais argumentais ir `iškvieskite abu metodus`.\n",
    "\n",
    "\n",
    "**Pastaba:**\n",
    "\n",
    "Galite eksperimentuoti su `for` ciklu ir pabandyti iteruoti per klasės objektų savybes arba kitus iterable objektus. \n",
    "Pavyzdžiui, galite pabandyti naudoti ciklą, kad išspausdintumėte visus automobilio `papildomus_pozicinius` argumentus. \n",
    "Taip pat, galite kurti ir iteruoti per raktinius argumentus `papildomos_savybes` žodyne.\n",
    " \n",
    "```python\n",
    "for arg in self.papildomi_poziciniai:\n",
    "    print(f\"Papildomas pozicinis argumentas: {arg}\")\n",
    " \n",
    "for key, value in self.papildomos_savybes.items():\n",
    "    print(f\"{key}: {value}\")\n",
    "```\n",
    "Būkite kūrybingi ir patikrinkite, kaip ciklas gali padėti jums gauti daugiau informacijos iš klasės objekto.\n",
    "\n"
   ]
  },
  {
   "cell_type": "code",
   "execution_count": null,
   "metadata": {},
   "outputs": [],
   "source": [
    "# jusu kodo vieta"
   ]
  },
  {
   "cell_type": "markdown",
   "metadata": {},
   "source": [
    "---\n",
    "\n",
    "## Kaip Pakeisti Objekto Spausdinimą \n",
    "\n",
    "Galite naudoti `__str__` metodą objektams spausdinti, kuris yra sukurtas grąžinti objekto `eilutės reprezentaciją` (string representation).\n",
    "\n",
    "Šis metodas yra iškviečiamas, kai objektas yra spausdinamas arba naudojamas kaip eilutės argumentas. Jeigu klasėje nėra apibrėžtas `__str__` metodas, naudojamas numatytasis metodas, kuris tiesiog spausdina `klasės pavadinimą` ir jos `atminties vietą`."
   ]
  },
  {
   "cell_type": "markdown",
   "metadata": {},
   "source": [
    "Pavyzdys be `__str__` metodo (numatytasis elgesys):\n",
    "\n",
    "```python\n",
    "print(automobilis)  # pavyzdys: <__main__.Automobilis object at 0x7f9dc80aa920>\n",
    "```\n",
    "\n",
    "Apibrėžiant `__str__` metodą, galite pateikti aiškesnę objekto reprezentaciją:"
   ]
  },
  {
   "cell_type": "code",
   "execution_count": null,
   "metadata": {},
   "outputs": [],
   "source": [
    "class Automobilis:\n",
    "    def __init__(self, marke, modelis, metai=2023, spalva='pilka'):\n",
    "        self.marke = marke\n",
    "        self.modelis = modelis\n",
    "        self.metai = metai\n",
    "        self.spalva = spalva\n",
    "\n",
    "    def __str__(self):\n",
    "        return f'{self.marke} {self.modelis}: {self.metai} metai, spalva {self.spalva}'\n",
    "\n",
    "antras_automobilis = Automobilis(\"BMW\", \"X5\", 2021)\n",
    "\n",
    "print(antras_automobilis)  # BMW X5: 2021 metai, spalva pilka"
   ]
  },
  {
   "cell_type": "markdown",
   "metadata": {},
   "source": [
    "### Greitasis Uždavinys 5: Objekto Spausdinimo Prisitaikymas Python'e\n",
    "\n",
    "Tikslas: Šios užduoties tikslas yra suprasti ir įgyvendinti `__str__` metodą Python klasėse, siekiant pritaikyti objektų eilutės reprezentaciją.\n",
    "\n",
    "Užduoties Instrukcijos:\n",
    "\n",
    "1. Perskaitykite ir supraskite pateiktą paaiškinimą apie objekto spausdinimo prisitaikymą Python naudojant `__str__` metodą\n",
    "1. Sukurkite Python klasę pavadinimu Knyga su šiais atributais:\n",
    "\n",
    "    - pavadinimas (eilutė) \n",
    "    - autorius (eilutė) \n",
    "    - leidimo_metai (sveikasis skaičius) \n",
    "    - žanras (eilutė) \n",
    "    \n",
    "3. Įgyvendinkite `__str__` metodą Knyga klasėje, kad pritaikytumėte knygos objekto eilutės reprezentaciją. \n",
    "- Eilutės reprezentacija turėtų aiškiai ir informatyviai pateikti visas knygos savybes.\n",
    "4. Sukurkite bent du `Knyga` klasės objektus su skirtingomis knygų detalėmis.\n",
    "5. Atspausdinkite abu knygų objektus, kad parodytumėte pritaikytą eilutės reprezentaciją naudojant `__str__` metodą."
   ]
  },
  {
   "cell_type": "code",
   "execution_count": null,
   "metadata": {},
   "outputs": [],
   "source": [
    "# jusu kodo vieta"
   ]
  },
  {
   "cell_type": "markdown",
   "metadata": {},
   "source": [
    "---\n",
    "\n",
    "## Simbolių eilutė kaip objektas\n",
    "\n",
    "Simbolių eilutė (`string`) tai tekstinę informaciją ir gali būti apdorojama bei manipuliuojama įvairiais būdais naudojant metodus ir funkcijas.\n",
    "\n",
    "*pavyzdžiui*:"
   ]
  },
  {
   "cell_type": "code",
   "execution_count": null,
   "metadata": {},
   "outputs": [],
   "source": [
    "sveikinimas = 'Sveikas, pasauli'"
   ]
  },
  {
   "cell_type": "markdown",
   "metadata": {},
   "source": [
    "Kaip ir bet kuris kitas objektas, eilutės tipą galima atvaizduoti naudojant `type()` funkciją:"
   ]
  },
  {
   "cell_type": "code",
   "execution_count": null,
   "metadata": {},
   "outputs": [],
   "source": [
    "print(type(sveikinimas))  # <class 'str'>"
   ]
  },
  {
   "cell_type": "markdown",
   "metadata": {},
   "source": [
    "Taip pat galime patikrinti eilutės objekto atminties vietą naudojant `id()` funkciją:"
   ]
  },
  {
   "cell_type": "code",
   "execution_count": null,
   "metadata": {},
   "outputs": [],
   "source": [
    "print(id(sveikinimas))  # 140315162091616"
   ]
  },
  {
   "cell_type": "markdown",
   "metadata": {},
   "source": [
    "Galime padalinti tekstą į atskirus žodžius naudojant `split()` metodą:"
   ]
  },
  {
   "cell_type": "code",
   "execution_count": null,
   "metadata": {},
   "outputs": [],
   "source": [
    "print(sveikinimas.split())  # ['Sveikas,', 'pasauli']"
   ]
  },
  {
   "cell_type": "markdown",
   "metadata": {},
   "source": [
    "Mes galime paversti eilutės objektą didžiosiomis raidėmis naudojant `upper()` metodą:"
   ]
  },
  {
   "cell_type": "code",
   "execution_count": null,
   "metadata": {},
   "outputs": [],
   "source": [
    "print(sveikinimas.upper())  # SVEIKAS, PASAULI"
   ]
  },
  {
   "cell_type": "markdown",
   "metadata": {},
   "source": [
    "Eilutės objektai yra tvarkingi, ir jų simboliai yra traktuojami kaip seka. Mes galime pasiekti atskirus eilutės simbolius indeksuodami eilutę:"
   ]
  },
  {
   "cell_type": "code",
   "execution_count": null,
   "metadata": {},
   "outputs": [],
   "source": [
    "print(sveikinimas[0])  # S\n",
    "print(sveikinimas[9])  # p"
   ]
  },
  {
   "cell_type": "markdown",
   "metadata": {},
   "source": [
    "Jūs galite surūšiuoti eilučių sąrašą naudodami `sort()` metodą arba `sorted()` funkciją. Štai kaip:"
   ]
  },
  {
   "cell_type": "code",
   "execution_count": null,
   "metadata": {},
   "outputs": [],
   "source": [
    "vaisiai = ['obuolys', 'bananas', 'vyšnia', 'datulė', 'mėlynė']\n",
    "vaisiai.sort()  # Rūšiuoja sąrašą vietoje\n",
    "print(vaisiai)  # Išvestis: ['bananas', 'datulė', 'mėlynė', 'obuolys', 'vyšnia']"
   ]
  },
  {
   "cell_type": "markdown",
   "metadata": {},
   "source": [
    "Atkreipkite dėmesį, kad eilutės yra rūšiuojamos pagal abėcėlinę tvarką, taigi, šiuo atveju, sąrašas bus išvestas atsižvelgiant į jūsų pateiktą kalbą ir abėcėlę."
   ]
  },
  {
   "cell_type": "markdown",
   "metadata": {},
   "source": [
    "Kitu atveju, galite naudoti `sorted()` funkciją sąrašui surūšiuoti ir sukurti naują surūšiuotą sąrašą, nepakeičiant originalo:"
   ]
  },
  {
   "cell_type": "code",
   "execution_count": null,
   "metadata": {},
   "outputs": [],
   "source": [
    "vaisiai = ['obuolys', 'bananas', 'vyšnia', 'datulė', 'mėlynė']\n",
    "surusiuoti_vaisiai = sorted(vaisiai)\n",
    "print(surusiuoti_vaisiai)  # Išvestis: ['bananas', 'datulė', 'mėlynė', 'obuolys', 'vyšnia']"
   ]
  },
  {
   "cell_type": "markdown",
   "metadata": {},
   "source": [
    "Kaip ir `sort()` metodas, `sorted()` funkcija taip pat surūšiuoja eilutes pagal abėcėlinę tvarką."
   ]
  },
  {
   "cell_type": "markdown",
   "metadata": {},
   "source": [
    "## Objektai Sąraše ar Žodyne \n",
    "\n",
    "Klasės objektai gali būti saugomi ne tik kaip atskiri kintamieji, bet ir kaip elementai `sąraše` ar `žodyne`. Tai gali būti naudinga, kai reikia apdoroti daug objektų ir juos tvarkingai organizuoti.\n",
    "\n",
    "Objektų Saugojimas ir Iteravimas Sąraše:"
   ]
  },
  {
   "cell_type": "code",
   "execution_count": null,
   "metadata": {},
   "outputs": [],
   "source": [
    "automobiliai = []\n",
    "\n",
    "pirmas_automobilis = Automobilis('Audi', 'A6', 2019, 'balta') \n",
    "antras_automobilis = Automobilis(\"BMW\", \"X5\", 2021) \n",
    "ketvirtas_automobilis = Automobilis('Volkswagen', 'Golf')\n",
    "\n",
    "automobiliai.append(pirmas_automobilis) \n",
    "automobiliai.append(antras_automobilis) \n",
    "automobiliai.append(ketvirtas_automobilis)\n",
    "\n",
    "for automobilis in automobiliai: \n",
    "    print(automobilis)"
   ]
  },
  {
   "cell_type": "markdown",
   "metadata": {},
   "source": [
    "Objektus taip pat galime saugoti žodyne, jei norime prieinamumo pagal raktą, *pavyzdžiui*:"
   ]
  },
  {
   "cell_type": "code",
   "execution_count": null,
   "metadata": {},
   "outputs": [],
   "source": [
    "automobiliai = {}\n",
    "\n",
    "automobiliai['Petras'] = Automobilis('Toyota', 'Corolla', 2022, 'raudona') \n",
    "automobiliai['Jonas'] = Automobilis('Volkswagen', 'Golf') \n",
    "automobiliai['Antanas'] = Automobilis('Audi', 'A6', spalva='balta')\n",
    "\n",
    "for savininkas, automobilis in automobiliai.items(): \n",
    "    print(f\"{savininkas}: {automobilis}\")"
   ]
  },
  {
   "cell_type": "markdown",
   "metadata": {},
   "source": [
    "Žodyne `automobiliai`, kiekvienas raktas (pvz., `'Petras'`, `'Jonas'`, `'Antanas'`) atitinka tam tikrą `Automobilis` klasės objektą, ir mes iteruojame per žodyną spausdindami automobilio savininko vardą ir atitinkamą automobilį."
   ]
  },
  {
   "cell_type": "markdown",
   "metadata": {},
   "source": [
    "### Užduotis 6: Objektų Organizavimas Sąrašuose ir Žodynuose\n",
    "\n",
    "#### Tikslas:\n",
    "\n",
    "Šios užduoties tikslas yra suprasti ir praktiškai išmokti saugoti klasės objektus tiek sąrašuose, tiek žodynuose naudojant Python, bei išmokti kaip iteruoti ir išgauti objektus iš šių duomenų struktūrų.\n",
    "\n",
    "Peržiūrėkite pateiktą paaiškinimą apie klasės objektų saugojimą sąrašuose ir žodynuose naudojant Python.\n",
    "\n",
    "Sukurkite Python klasę, pavadintą `Studentas`, su šiais atributais:\n",
    "\n",
    "- `vardas` (eilutė)\n",
    "- `studento_id` (sveikasis skaičius)\n",
    "- `pažymys` (eilutė)\n",
    "\n",
    "1. Sukurkite `tuščią sąrašą`, pavadintą `studentu_sarasas`, kuriame bus saugomi `Studentas` klasės egzemplioriai(objektai).\n",
    "\n",
    "2. Sukurkite bent tris `Studentas` klasės objektus su skirtingais studentų duomenimis ir įtraukite juos į `studentu_sarasas`.\n",
    "\n",
    "3. Naudokite for ciklą, kad iteruotumėte per `studentu_sarasas` ir atspausdintumėte kiekvieno studento duomenis.\n",
    "\n",
    "4. Sukurkite `tuščią žodyną`, pavadintą `studentu_zodynas`, kuriame bus saugomi `Studentas` klasės egzemplioriai(objektai). Naudokite studento vardą kaip raktą.\n",
    "\n",
    "5. Įtraukite bent `tris` Studentas klasės objektus į `studentu_zodynas` su skirtingais vardais kaip raktais.\n",
    "\n",
    "6. Naudokite `for` ciklą, kad iteruotumėte per `studentu_zodynas` ir atspausdintumėte kiekvieno studento `vardą` ir `pažymį`."
   ]
  },
  {
   "cell_type": "code",
   "execution_count": null,
   "metadata": {},
   "outputs": [],
   "source": [
    "# jusu kodo vieta"
   ]
  }
 ],
 "metadata": {
  "kernelspec": {
   "display_name": "venv",
   "language": "python",
   "name": "python3"
  },
  "language_info": {
   "codemirror_mode": {
    "name": "ipython",
    "version": 3
   },
   "file_extension": ".py",
   "mimetype": "text/x-python",
   "name": "python",
   "nbconvert_exporter": "python",
   "pygments_lexer": "ipython3",
   "version": "3.10.6"
  }
 },
 "nbformat": 4,
 "nbformat_minor": 2
}
