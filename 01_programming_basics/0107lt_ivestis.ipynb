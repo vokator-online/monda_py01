{
 "cells": [
  {
   "cell_type": "markdown",
   "metadata": {},
   "source": [
    "# Pirmoji pilna Python programa"
   ]
  },
  {
   "cell_type": "markdown",
   "metadata": {},
   "source": [
    "Jau beveik žinote pakankamai, kad galėtumėte parašyti pilną programą. Liko tik vartotojo įvestis, ir kintamojo tipo konvertavimas. Dabar mes juos ir išmoksime."
   ]
  },
  {
   "cell_type": "markdown",
   "metadata": {},
   "source": [
    "---\n",
    "\n",
    "## Vartotojo ivestis Python kalboje"
   ]
  },
  {
   "cell_type": "markdown",
   "metadata": {},
   "source": [
    "`input()` Funkcija leidžia programai paklausti vartotojo įvesties, ir tada grąžina tą įvestį kaip eilutę (string). \n",
    "\n",
    "**Sintaksė**:\n",
    "```python\n",
    "input(užklausa)\n",
    "```\n",
    "- `užklausa` (neprivaloma): Eilutė, kuri reprezentuoja numatytąjį pranešimą prieš įvestį.\n",
    "\n",
    "**Pavizdys**: Jei paleisite kodą, jums bus paprašyta įvesti savo vardą. Pateikus įvestį ir paspaudus \"Enter\", programa pasveikins jus naudodama vardą, kurį įvedėte."
   ]
  },
  {
   "cell_type": "code",
   "execution_count": 1,
   "metadata": {},
   "outputs": [
    {
     "name": "stdout",
     "output_type": "stream",
     "text": [
      "Labas, Kestutis!\n"
     ]
    }
   ],
   "source": [
    "name = input(\"Prašome ivesti savo vardą: \")\n",
    "print(f\"Labas, {name}!\")"
   ]
  },
  {
   "cell_type": "markdown",
   "metadata": {},
   "source": [
    "### Greita užduotis 1\n",
    "\n",
    "Parašykite mažą programą, kuri:\n",
    "1. Paklausia vartotojo apie jų mėgstamiausią `spalvą`.\n",
    "2. Paklausia vartotojo `skaičiaus`.\n",
    "3. Atspausdina teiginį, sakydama, \"Tavo mėgstama spalva yra spalva ir tavo mėgstamas skaičius yra skaičius.\""
   ]
  },
  {
   "cell_type": "code",
   "execution_count": 4,
   "metadata": {},
   "outputs": [
    {
     "name": "stdout",
     "output_type": "stream",
     "text": [
      "Jūsų mėgstamiausia spalva yra geltona, Jūsų mėgstamas skaičius yra 25!\n"
     ]
    }
   ],
   "source": [
    "spalva = input(\"Prašome įvesti mėgstamą spalvą: \")\n",
    "skaicius = input(\"Prašome įvesti skaičių: \")\n",
    "print(f\"Jūsų mėgstamiausia spalva yra {spalva}, Jūsų mėgstamas skaičius yra {skaicius}!\")"
   ]
  },
  {
   "cell_type": "markdown",
   "metadata": {},
   "source": [
    "**Išvesties tipas**: `input()` Funkcija visada grąžina duomenis kaip eilutę (string). Jei norite naudoti šiuos duomenis kaip kitą tipą (pavyzdžiui, sveikąjį skaičių ar slankiojo kablelio skaičių), turėsite konvertuoti juos naudojant tipų keitimo funkcijas, pvz., int() arba float()."
   ]
  },
  {
   "cell_type": "code",
   "execution_count": 5,
   "metadata": {},
   "outputs": [
    {
     "name": "stdout",
     "output_type": "stream",
     "text": [
      "Po 10 metų jums bus 55 metų amžiaus.\n"
     ]
    }
   ],
   "source": [
    "amžius = input(\"Prašome įvesti savo amžių: \")\n",
    "amžius = int(amžius) # Konvertuoti eilutę į sveikąjį skaičių\n",
    "print(f\"Po 10 metų jums bus {amžius + 10} metų amžiaus.\")"
   ]
  },
  {
   "cell_type": "code",
   "execution_count": 2,
   "metadata": {},
   "outputs": [
    {
     "name": "stdout",
     "output_type": "stream",
     "text": [
      "Jūs galite valgyti!\n"
     ]
    }
   ],
   "source": [
    "svoris = int(input(\"Įveskite savo svorį\"))\n",
    "ūgis = int(input(\"Įveskite savo ūgį\"))\n",
    "ar_storas = svoris // (ūgis - 100)\n",
    "if ar_storas:\n",
    "    print(\"Jūs esate per storas!\")\n",
    "else:\n",
    "    print(\"Jūs galite valgyti!\")\n"
   ]
  },
  {
   "cell_type": "markdown",
   "metadata": {},
   "source": [
    "**Saugumo rūpestis**: Būkite atsargūs naudojant `input()` funkciją, ypač jei ketinate naudoti įvestus duomenis bet kokiame kodo vykdyme ar duomenų bazės užklausose. Netinkamai tvarkant šiuos duomenis gali kilti kodo įterpimo atakos rizika."
   ]
  },
  {
   "cell_type": "markdown",
   "metadata": {},
   "source": [
    "### Greita užduotis 2\n",
    "\n",
    "Parašykite paprastą programą, kuri surenka vartotojo ivestį ir iš jos išveda rezultatą. Būkite kūrybingi!"
   ]
  },
  {
   "cell_type": "code",
   "execution_count": null,
   "metadata": {},
   "outputs": [],
   "source": []
  },
  {
   "cell_type": "markdown",
   "metadata": {},
   "source": [
    "---\n",
    "\n",
    "## Išvada"
   ]
  },
  {
   "cell_type": "markdown",
   "metadata": {},
   "source": [
    "`input()` Funkcija yra esminė, norint padaryti savo Python programą interaktyvia. Tai užpildo spragą tarp vartotojo ir mašinos, leidžiant dinamiškiems programos veiksmams pagrįsti vartotojo įvestimi. Taigi dabar jūs turite galimybę parašyti paprastą programą, kuri paprašo vartotojo įvesties ir atlieka sąveiką su įvestimi. Taigi tai puikus momentas pradėti kurti kodą. Būkite kūrybingi."
   ]
  },
  {
   "cell_type": "markdown",
   "metadata": {},
   "source": [
    "---\n",
    "\n",
    "## Užduotis 1"
   ]
  },
  {
   "cell_type": "markdown",
   "metadata": {},
   "source": [
    "Parašykite pilna Python programa (`skaičiuotuvas.py`) - paprastas python skaičiuotuvas kuris:\n",
    "- paklausia vartotojo, kokį veiksmą jis planuoja atlikti\n",
    "- surenka du skaičius\n",
    "- atlieka pasirinkta operaciją su ivestai dviem skaičiais. Nepamirškite konvertuoti ivesties reikiama tipa.\n",
    "Rekomenduojama naudoti `if ... elif ... else` logika operaciju patikrinimui."
   ]
  },
  {
   "cell_type": "markdown",
   "metadata": {},
   "source": [
    "## Užduotis 2\n",
    "\n",
    "Galite bandyti įvykdyti aukščiau pateiktą užduotį naudodami vieną įvestį ir perduoti ją funkcijai eval() ir išspausdinti rezultatą.\n",
    "Tačiau tokia programa nebūtų saugi, nes vartotojas galėtų vykdyti nepageidaujamą Python kodą, o ne tik paprastą matematikos operaciją.\n",
    "Paeksperimentuokite."
   ]
  },
  {
   "cell_type": "markdown",
   "metadata": {},
   "source": [
    "## Užduotis 3\n",
    "\n",
    "Parašykite programa, kuri surenka vartotojo ivestį ir iš jos išveda rezultatą. Būkite kūrybingi!"
   ]
  }
 ],
 "metadata": {
  "kernelspec": {
   "display_name": "venv",
   "language": "python",
   "name": "python3"
  },
  "language_info": {
   "codemirror_mode": {
    "name": "ipython",
    "version": 3
   },
   "file_extension": ".py",
   "mimetype": "text/x-python",
   "name": "python",
   "nbconvert_exporter": "python",
   "pygments_lexer": "ipython3",
   "version": "3.12.1"
  },
  "orig_nbformat": 4
 },
 "nbformat": 4,
 "nbformat_minor": 2
}
