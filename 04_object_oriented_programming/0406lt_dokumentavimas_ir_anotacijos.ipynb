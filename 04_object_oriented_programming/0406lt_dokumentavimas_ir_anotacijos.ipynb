{
 "cells": [
  {
   "cell_type": "markdown",
   "metadata": {},
   "source": [
    "# Dokumentavimas ir Anotacijos"
   ]
  },
  {
   "cell_type": "markdown",
   "metadata": {},
   "source": [
    "## Docstrings (dokumentavimas)"
   ]
  },
  {
   "cell_type": "markdown",
   "metadata": {},
   "source": [
    "Docstrings yra eilutės, parašytos virš modulio, klasės, funkcijos ar metodo, kurios aprašo jų paskirtį, veikimą, parametrus ir grąžinamas reikšmes.\n",
    "\n",
    "Docstrings rašomi tarp trijų viengubų ('''docstring''') arba dvigubų (\"\"\"docstring\"\"\") kabučių, kai modulio, klasės, funkcijos ar metodo aprašymo eilutė prasideda naujoje eilutėje.\n",
    "\n",
    "Docstrings yra galingas dokumentavimo įrankis, padedantis kitiems programuotojams suprasti, kaip veikia jūsų kodas. Jie taip pat naudingi interaktyviose Python aplinkose ir automatiniam dokumentų generavimui.\n",
    "\n",
    "Štai keli pavyzdžiai, kaip galite naudoti docstrings Python programavimo kalboje:"
   ]
  },
  {
   "cell_type": "markdown",
   "metadata": {},
   "source": [
    "---\n",
    "## Docstring modulio aprašymui:"
   ]
  },
  {
   "cell_type": "code",
   "execution_count": null,
   "metadata": {},
   "outputs": [],
   "source": [
    "'''Modulis, skirtas duomenų apdorojimui'''\n",
    "import pandas as pd\n",
    "\n",
    "def skaityti_duomenis(failo_pavadinimas):\n",
    "    '''\n",
    "    Funkcija, kuri skaito duomenis iš CSV formato failo.\n",
    "    \n",
    "    Argumentai:\n",
    "    failo_pavadinimas (str): CSV formato failo pavadinimas\n",
    "    \n",
    "    Grąžinamos reikšmės:\n",
    "    pd.DataFrame: lentelė su duomenimis\n",
    "    \n",
    "    '''\n",
    "    duomenys = pd.read_csv(failo_pavadinimas)\n",
    "    return duomenys"
   ]
  },
  {
   "cell_type": "markdown",
   "metadata": {},
   "source": [
    "Šiame pavyzdyje tiek modulis, tiek funkcija turi docstrings.\n",
    "\n",
    "Modulio docstring trumpai aprašo modulio paskirtį, o funkcijos docstring aprašo funkcijos tikslą, argumentus ir grąžinamas reikšmes."
   ]
  },
  {
   "cell_type": "markdown",
   "metadata": {},
   "source": [
    "## Docstring klasės aprašymui"
   ]
  },
  {
   "cell_type": "code",
   "execution_count": null,
   "metadata": {},
   "outputs": [],
   "source": [
    "class Studentas:\n",
    "    '''Klasė, skirta studentų duomenims laikyti'''\n",
    "    \n",
    "    def __init__(self, vardas, pavarde, amzius):\n",
    "        '''\n",
    "        Konstruktorius, skirtas sukurti naują Studentas objektą.\n",
    "        \n",
    "        Argumentai:\n",
    "        vardas (str): studento vardas\n",
    "        pavarde (str): studento pavardė\n",
    "        amzius (int): studento amžius\n",
    "        \n",
    "        Grąžinamos reikšmės:\n",
    "        None\n",
    "        '''\n",
    "        self.vardas = vardas\n",
    "        self.pavarde = pavarde\n",
    "        self.amzius = amzius\n",
    "        \n",
    "    def pilnas_vardas(self):\n",
    "        '''\n",
    "        Funkcija, kuri sugeneruoja studento pilną vardą.\n",
    "        \n",
    "        Grąžinamos reikšmės:\n",
    "        str: studento pilnas vardas\n",
    "        '''\n",
    "        return f'{self.vardas} {self.pavarde}'"
   ]
  },
  {
   "cell_type": "code",
   "execution_count": null,
   "metadata": {},
   "outputs": [],
   "source": [
    "naujas = Studentas(\"Geras\", \"Smagulis\", 40)\n",
    "studento_klase = Studentas\n",
    "print(studento_klase, naujas)"
   ]
  },
  {
   "cell_type": "markdown",
   "metadata": {},
   "source": [
    "Šiame pavyzdyje klasės metodas turi docstring, kuris aprašo, ką veikia pilnas_vardas() funkcija ir kokio tipo duomenis ji grąžina."
   ]
  },
  {
   "cell_type": "markdown",
   "metadata": {},
   "source": [
    "## Docstring funkcijos aprašymui"
   ]
  },
  {
   "cell_type": "code",
   "execution_count": null,
   "metadata": {},
   "outputs": [],
   "source": [
    "def suma(a, b):\n",
    "    '''\n",
    "    Funkcija, kuri suskaičiuoja dviejų skaičių sumą.\n",
    "    \n",
    "    Argumentai:\n",
    "    a (int): pirmasis skaičius\n",
    "    b (int): antrasis skaičius\n",
    "    \n",
    "    Grąžinamos reikšmės:\n",
    "    int: sumos reikšmė\n",
    "    \n",
    "    '''\n",
    "    return a + b\n",
    "\n",
    "print(suma(2, 2))"
   ]
  },
  {
   "cell_type": "markdown",
   "metadata": {},
   "source": [
    "Šiame pavyzdyje funkcija turi docstring, aprašantį jos paskirtį, argumentus ir grąžinamų reikšmių tipus."
   ]
  },
  {
   "cell_type": "markdown",
   "metadata": {},
   "source": [
    "## Docstring metodo aprašymui"
   ]
  },
  {
   "cell_type": "code",
   "execution_count": null,
   "metadata": {},
   "outputs": [],
   "source": [
    "class Automobilis:\n",
    "    '''Klasė, skirta automobilių duomenims laikyti'''\n",
    "    \n",
    "    def __init__(self, marke, modelis, metai):\n",
    "        '''\n",
    "        Konstruktorius, skirtas sukurti naują Automobilis objektą.\n",
    "        \n",
    "        Argumentai:\n",
    "        marke (str): automobilio markė\n",
    "        modelis (str): automobilio modelis\n",
    "        metai (int): automobilio gamybos metai\n",
    "        \n",
    "        Grąžinamos reikšmės:\n",
    "        None\n",
    "        '''\n",
    "        self.marke = marke\n",
    "        self.modelis = modelis\n",
    "        self.metai = metai\n",
    "        \n",
    "    def info(self):\n",
    "        '''\n",
    "        Funkcija, kuri atspausdina automobilio informaciją.\n",
    "        \n",
    "        Grąžinamos reikšmės:\n",
    "        None\n",
    "        '''\n",
    "        print(f'{self.marke} {self.modelis}, {self.metai} metai')"
   ]
  },
  {
   "cell_type": "markdown",
   "metadata": {},
   "source": [
    "Šiame pavyzdyje klasės metodas turi docstring, aprašantį metodo paskirtį ir jo grąžinamų reikšmių tipus.\n",
    "\n",
    "Kaip matote, docstrings yra vertingas dokumentavimo įrankis, padedantis kitiems programuotojams suprasti jūsų kodą. Jie rekomenduojami kiekvienai Python programai.\n",
    "\n",
    "**Pastaba**: Svarbu pažymėti, kad docstrings neturi standartizuoto formato. Dažniausiai naudojamas formatas yra [PEP 257](https://peps.python.org/pep-0257/), kuriame aprašoma, kaip turėtų būti struktūrizuotas docstring tekstas. Vis dėlto, galite naudoti bet kokį formatą, kuris atitinka jūsų poreikius ir yra lengvai suprantamas kitiems programuotojams.\n",
    "\n",
    "---"
   ]
  },
  {
   "cell_type": "markdown",
   "metadata": {},
   "source": [
    "## Anotacijos"
   ]
  },
  {
   "cell_type": "markdown",
   "metadata": {},
   "source": [
    "Python anotacijos pateikia papildomą informaciją apie kintamųjų, funkcijų ir metodų tipus. Anotacijos yra pridedamos tiesiogiai prie apibrėžimų ir aprašo tikėtinus tipus. Šios anotacijos gali padėti programuotojams geriau suprasti kodo funkcionalumą, palengvinti programavimo klaidų ieškojimą ir būti naudingos statinėje kodo analizėje.\n",
    "\n",
    "Norint naudoti anotacijas Python kode, jums reikia jas pridėti kaip papildomą argumentą prie kintamojo, funkcijos ar metodo apibrėžimų nurodant tipus.\n",
    "\n",
    "Štai keletas pavyzdžių, kaip tai galima padaryti:"
   ]
  },
  {
   "cell_type": "markdown",
   "metadata": {},
   "source": [
    "### Funkcija su Parametrų ir Grąžinimo Tipo Anotacijomis"
   ]
  },
  {
   "cell_type": "code",
   "execution_count": null,
   "metadata": {},
   "outputs": [],
   "source": [
    "def sum_numbers(a: int, b: int) -> int:\n",
    "    return a + b"
   ]
  },
  {
   "cell_type": "markdown",
   "metadata": {},
   "source": [
    "Šioje funkcijoje \"a\" ir \"b\" yra anotuoti kaip sveikieji skaičiai (int), ir funkcija taip pat yra anotuota grąžinti sveikąjį skaičių (int)."
   ]
  },
  {
   "cell_type": "markdown",
   "metadata": {},
   "source": [
    "### Klasė su Parametrų Anotacijomis:"
   ]
  },
  {
   "cell_type": "code",
   "execution_count": null,
   "metadata": {},
   "outputs": [],
   "source": [
    "class Person:\n",
    "    def __init__(self, name: str, age: int):\n",
    "        self.name = name\n",
    "        self.age = age"
   ]
  },
  {
   "cell_type": "markdown",
   "metadata": {},
   "source": [
    "Šioje klasėje \"name\" parametras yra anotuotas kaip eilutė (str), ir \"age\" parametras yra anotuotas kaip sveikasis skaičius (int)."
   ]
  },
  {
   "cell_type": "markdown",
   "metadata": {},
   "source": [
    "### Klasės anotacija su tipais parametrų ir grąžinimo reikšmės:"
   ]
  },
  {
   "cell_type": "code",
   "execution_count": null,
   "metadata": {},
   "outputs": [],
   "source": [
    "class Person:\n",
    "    def __init__(self, name: str, age: int) -> None:\n",
    "        self.name = name\n",
    "        self.age = age\n",
    "    \n",
    "    def get_age(self) -> int:\n",
    "        return self.age"
   ]
  },
  {
   "cell_type": "markdown",
   "metadata": {},
   "source": [
    "### Metodo anotacija su keliomis reikšmėmis grąžinimo tipui ir parametramis:"
   ]
  },
  {
   "cell_type": "code",
   "execution_count": null,
   "metadata": {},
   "outputs": [],
   "source": [
    "import math\n",
    "\n",
    "\n",
    "class Circle:\n",
    "    def __init__(self, radius: float) -> None:\n",
    "        self.radius = radius\n",
    "\n",
    "    def area(self) -> float:\n",
    "        \"\"\"\n",
    "        A function to calculate the area of a circle.\n",
    "        Returns the area of the circle.\n",
    "        \"\"\"\n",
    "        return math.pi * self.radius ** 2\n",
    "    \n",
    "metrinis = Circle(1)\n",
    "print(metrinis.area())"
   ]
  },
  {
   "cell_type": "markdown",
   "metadata": {},
   "source": [
    "Šioje klasėje \"radius\" parametras yra anotuotas kaip slankiojo kablelio skaičius (float), ir \"area\" metodas yra anotuotas grąžinti slankiojo kablelio skaičių.\n",
    "\n",
    "❗ Anotacijos Python kalboje nėra privalomos, tačiau jos gali padėti pagerinti kodo skaitomumą, palengvinti klaidų paiešką ir prisidėti prie statinės kodo analizės. Jei nuspręsite naudoti anotacijas savo kode, reikės pridėti papildomą argumentą prie kintamojo, funkcijos ar metodo apibrėžimo, kad nurodytumėte tipus."
   ]
  }
 ],
 "metadata": {
  "kernelspec": {
   "display_name": "venv",
   "language": "python",
   "name": "python3"
  },
  "language_info": {
   "codemirror_mode": {
    "name": "ipython",
    "version": 3
   },
   "file_extension": ".py",
   "mimetype": "text/x-python",
   "name": "python",
   "nbconvert_exporter": "python",
   "pygments_lexer": "ipython3",
   "version": "3.11.7"
  }
 },
 "nbformat": 4,
 "nbformat_minor": 2
}
