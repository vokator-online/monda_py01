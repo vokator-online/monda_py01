{
 "cells": [
  {
   "cell_type": "markdown",
   "metadata": {},
   "source": [
    "# Kintamieji\n",
    "\n",
    "Programavime kintamieji yra kaip konteineriai, kurie laiko duomenis ar reikšmes. Jie leidžia jums saugoti ir manipuliuoti informacija jūsų programoje. „Python“ yra dinamiškai rašoma kalba, tai reiškia, kad jums nereikia aiškiai nurodyti kintamojo tipo.\n",
    "\n",
    "Norėdami sukurti kintamąjį „Python“, paprasčiausiai pasirenkate jam pavadinimą ir suteikiate jam reikšmę naudodami lygybės ženklą (=). Štai pavyzdys:\n"
   ]
  },
  {
   "cell_type": "code",
   "execution_count": 1,
   "metadata": {},
   "outputs": [
    {
     "name": "stdout",
     "output_type": "stream",
     "text": [
      "25\n"
     ]
    }
   ],
   "source": [
    "age = 25    # nustatoma kintamojo (intedžerio/sveikojo skaičiaus reikšmė)\n",
    "print(age)  # išspausdinama, kintamojo \"age\" reikšmė"
   ]
  },
  {
   "cell_type": "markdown",
   "metadata": {},
   "source": [
    "Šiame pavyzdyje, `age` yra kintamojo pavadinimas, ir `25` yra jam priskirta reikšmė"
   ]
  },
  {
   "cell_type": "markdown",
   "metadata": {},
   "source": [
    "### Greita Užduotis 1\n",
    "\n",
    "Priskirkite kintamajam teigiamo skaičiaus skaičiaus reikšmę, tada jį išspausdinkite\n"
   ]
  },
  {
   "cell_type": "code",
   "execution_count": 2,
   "metadata": {},
   "outputs": [
    {
     "name": "stdout",
     "output_type": "stream",
     "text": [
      "1\n"
     ]
    }
   ],
   "source": [
    "skaičius = 1\n",
    "print(skaičius)"
   ]
  },
  {
   "cell_type": "code",
   "execution_count": 3,
   "metadata": {},
   "outputs": [
    {
     "name": "stdout",
     "output_type": "stream",
     "text": [
      "2023\n"
     ]
    }
   ],
   "source": [
    "metai = 2023\n",
    "print(metai)"
   ]
  },
  {
   "cell_type": "code",
   "execution_count": 4,
   "metadata": {},
   "outputs": [
    {
     "name": "stdout",
     "output_type": "stream",
     "text": [
      "žąsis\n"
     ]
    }
   ],
   "source": [
    "paukštis = \"žąsis\"\n",
    "print(paukštis)"
   ]
  },
  {
   "cell_type": "markdown",
   "metadata": {},
   "source": [
    "---\n",
    "\n",
    "## Kintamūjų Tipai\n"
   ]
  },
  {
   "cell_type": "markdown",
   "metadata": {},
   "source": [
    "\"Python\" leidžia naudoti skirtingus duomenų tipus kintamiesiems, tokiems kaip \"integer\" (sveikieji skaičiai), \"float\" skaičiai (slankiojo kablelio skaičiai), \"strings\" (teksto eilutė), loginės reikšmės (booleans) (teisinga/True arba klaidinga/False) ir kt. Kintamojo tipas nustatomas pagal jo turimą reikšmę:"
   ]
  },
  {
   "cell_type": "code",
   "execution_count": 5,
   "metadata": {},
   "outputs": [
    {
     "name": "stdout",
     "output_type": "stream",
     "text": [
      "25\n"
     ]
    }
   ],
   "source": [
    "# Sveikasis skaičius (integer) arba sveikasis kintamasis\n",
    "age = 25\n",
    "print(age)"
   ]
  },
  {
   "cell_type": "code",
   "execution_count": 5,
   "metadata": {},
   "outputs": [
    {
     "name": "stdout",
     "output_type": "stream",
     "text": [
      "1.75\n"
     ]
    }
   ],
   "source": [
    "# Slankiojo kablelio skaičius (float)\n",
    "height = 1.75\n",
    "print(height)"
   ]
  },
  {
   "cell_type": "code",
   "execution_count": 6,
   "metadata": {},
   "outputs": [
    {
     "name": "stdout",
     "output_type": "stream",
     "text": [
      "John\n"
     ]
    }
   ],
   "source": [
    "# Teksto eilutės (string) kintamasis\n",
    "first_name = \"John\"     # note: underscore is OK here.\n",
    "print(first_name)"
   ]
  },
  {
   "cell_type": "code",
   "execution_count": 7,
   "metadata": {},
   "outputs": [
    {
     "name": "stdout",
     "output_type": "stream",
     "text": [
      "False\n"
     ]
    }
   ],
   "source": [
    "# Loginės reikšmės (boolean) kintamasis\n",
    "is_student = False\n",
    "print(is_student)"
   ]
  },
  {
   "cell_type": "markdown",
   "metadata": {},
   "source": [
    "Kintamūjų reikšmė, gali būti bet kada pakeista jam priskiriant naują reikšmę, Pavyzdžiui:"
   ]
  },
  {
   "cell_type": "code",
   "execution_count": 8,
   "metadata": {},
   "outputs": [
    {
     "name": "stdout",
     "output_type": "stream",
     "text": [
      "26\n"
     ]
    }
   ],
   "source": [
    "age = 25        # pirminis skaičius\n",
    "age = age + 1   # jis atnaujinamas pridedant +1\n",
    "print(age)      # išspausdins: 26"
   ]
  },
  {
   "cell_type": "markdown",
   "metadata": {},
   "source": [
    "Taip pat galite atlikti operacijas su kintamaisiais, sujungti juos į išraiškas ir naudoti jų reikšmes skaičiavimuose. Taip pat galite iš naujo priskirti kintamiesiems skirtingas reikšmias, pavyzdžiui:\n"
   ]
  },
  {
   "cell_type": "code",
   "execution_count": 9,
   "metadata": {},
   "outputs": [
    {
     "name": "stdout",
     "output_type": "stream",
     "text": [
      "5\n",
      "not a number\n"
     ]
    }
   ],
   "source": [
    "variable = 5\n",
    "print(variable)\n",
    "variable = \"not a number\"\n",
    "print(variable)"
   ]
  },
  {
   "cell_type": "markdown",
   "metadata": {},
   "source": [
    "Tačiau tai nepatartina praktikuoti, net jei ji veikia, nes kodą bus sunkiau suprasti ir prižiūrėti. Tačiau kartais tai gali būti neišvengiama.\n",
    "\n",
    "###  Greita Užduotis 2\n"
   ]
  },
  {
   "cell_type": "markdown",
   "metadata": {},
   "source": [
    "Priskirkite kintamajam skirtingas reikšmes ir jas išspausdinkite\n",
    "\n",
    "💡 Naudingas Patarimas: `print()` funcija priima ne viena kableliu atskirtą argumentą"
   ]
  },
  {
   "cell_type": "code",
   "execution_count": 10,
   "metadata": {},
   "outputs": [
    {
     "name": "stdout",
     "output_type": "stream",
     "text": [
      "9\n",
      "nera skaicius\n"
     ]
    }
   ],
   "source": [
    "kintamasis = 9\n",
    "print(kintamasis)\n",
    "kintamasis = \"nera skaicius\"\n",
    "print(kintamasis)"
   ]
  },
  {
   "cell_type": "code",
   "execution_count": 11,
   "metadata": {},
   "outputs": [
    {
     "name": "stdout",
     "output_type": "stream",
     "text": [
      "3, obuoliai, True\n"
     ]
    }
   ],
   "source": [
    "bananai = 3\n",
    "obuoliai = \"obuoliai\"\n",
    "yra_labai_skanūs = True\n",
    "print(bananai, obuoliai, yra_labai_skanūs, sep=', ')"
   ]
  },
  {
   "cell_type": "markdown",
   "metadata": {},
   "source": [
    "---\n",
    "\n",
    "## Kintamųjų pakartotinis priskyrimas\n",
    "\n",
    "\n",
    "\n",
    "Kintamieji gali būti priskiriami kitiems kintamiesiems, štai jums pavyzdys:"
   ]
  },
  {
   "cell_type": "code",
   "execution_count": 12,
   "metadata": {},
   "outputs": [
    {
     "name": "stdout",
     "output_type": "stream",
     "text": [
      "5 5\n"
     ]
    }
   ],
   "source": [
    "number1 = 5\n",
    "number2 = number1\n",
    "print(number1, number2)\n",
    "# abiejų kintamųjų reikšmė 5"
   ]
  },
  {
   "cell_type": "code",
   "execution_count": 13,
   "metadata": {},
   "outputs": [
    {
     "name": "stdout",
     "output_type": "stream",
     "text": [
      "10 5\n"
     ]
    }
   ],
   "source": [
    "number1 = 10\n",
    "print(number1, number2)\n",
    "# nors number1 yra priskirta 10, number2 vistiek bus 5"
   ]
  },
  {
   "cell_type": "code",
   "execution_count": 14,
   "metadata": {},
   "outputs": [
    {
     "name": "stdout",
     "output_type": "stream",
     "text": [
      "10 20\n"
     ]
    }
   ],
   "source": [
    "number1 = 10\n",
    "number2 = 20\n",
    "print(number1, number2)"
   ]
  },
  {
   "cell_type": "markdown",
   "metadata": {},
   "source": [
    "### Greita užduotis 3\n"
   ]
  },
  {
   "cell_type": "markdown",
   "metadata": {},
   "source": [
    "Nustatykite bet kurią kintamojo reikšmę, tada priskirkite ją kitam kintamajam ir pakeiskite senojo reikšmę. Spausdinkite abu kintamuosius prieš ir po pakartotinio priskyrimo."
   ]
  },
  {
   "cell_type": "code",
   "execution_count": 15,
   "metadata": {},
   "outputs": [
    {
     "name": "stdout",
     "output_type": "stream",
     "text": [
      "10 20\n",
      "20 20\n",
      "20 20 30 40\n",
      "20 20 40 40 50\n"
     ]
    }
   ],
   "source": [
    "number1 = 10\n",
    "number2 = 20\n",
    "print(number1, number2)\n",
    "number1 = number2\n",
    "print(number1, number2)\n",
    "number3 = 30\n",
    "number4 = 40\n",
    "print(number1, number2, number3, number4)\n",
    "number3 = number4\n",
    "number5 = 50\n",
    "print(number1, number2, number3, number4, number5)"
   ]
  },
  {
   "cell_type": "markdown",
   "metadata": {},
   "source": [
    "---\n",
    "\n",
    "## Numeriniai (Skaitiniai) Kintamųjų Tipai"
   ]
  },
  {
   "cell_type": "markdown",
   "metadata": {},
   "source": [
    "\"Python\" programavimo kalboje , intedžeriai (`int`) and slankiojo kablelio skaičiai (`float`) yra du pagrindiniai skaitinių kintamųjų tipai. Jie skiriasi savo skaičių vaizdavimu ir tvarkymu."
   ]
  },
  {
   "cell_type": "markdown",
   "metadata": {},
   "source": [
    "### Integer (`int`)\n",
    "\n",
    "'Integer' yra sveikieji skaičiai be dešimtainių. Jie gali būti teigiami ir neigiami."
   ]
  },
  {
   "cell_type": "code",
   "execution_count": 16,
   "metadata": {},
   "outputs": [
    {
     "name": "stdout",
     "output_type": "stream",
     "text": [
      "25 -10 100\n"
     ]
    }
   ],
   "source": [
    "age = 25                # Teigiamas intedžeris\n",
    "temperature = -10       # Neigiamas intedžiaris\n",
    "students_count = 100    # Dar vienas teigiamas intedžeris\n",
    "print(age, temperature, students_count)"
   ]
  },
  {
   "cell_type": "markdown",
   "metadata": {},
   "source": [
    "\n",
    "Anksčiau pateiktuose pavyzdžiuose `age` reiškia asmens amžių, `temperature` – neigiamą temperatūros reikšmę, o `students_count` – studentų skaičių."
   ]
  },
  {
   "cell_type": "markdown",
   "metadata": {},
   "source": [
    "### Slankiojo Kablelio Skaičiai (`float`)\n",
    "\n",
    "Slankiojo kablelio skaičiai (float) arba frakcinės dalys. Jie gali būti teigiami ir neigiami."
   ]
  },
  {
   "cell_type": "code",
   "execution_count": 17,
   "metadata": {},
   "outputs": [
    {
     "name": "stdout",
     "output_type": "stream",
     "text": [
      "64.5 3.14159 -2500.75\n"
     ]
    }
   ],
   "source": [
    "weight = 64.5               # Pozityvus slankiojo kablelio skaičius\n",
    "PI = 3.14159                # Pozityvus slankiojo kablelio skaičius\n",
    "bank_balance = -2500.75     # Negatyvus slankiojo kablelio skaičius\n",
    "print(weight, PI, bank_balance)"
   ]
  },
  {
   "cell_type": "markdown",
   "metadata": {},
   "source": [
    "Šiame pavyzdyje `weight` reiškia kieno nors svorį kilogramais, `PI` – matematinę konstantą π (pi), o `bank_balance` reiškia neigiamą banko likutį.\n",
    "\n",
    "Sveikieji kintamieji gali reikšti tik sveikus skaičius, o slankiųjų (dešimtainių) kintamieji siūlo didesnį tikslumą ir gali rodyti trupmenines dalis.\n",
    "\n",
    "Labai svarbu pasirinkti tinkamą kintamojo tipą (int arba float), atsižvelgiant į skaičiaus, su kuriuo dirbate, pobūdį, kad būtų užtikrintas tikslus skaičiavimas ir tinkamas duomenų pateikimas.\n",
    "\n",
    "Nors slankiojo kablelio skaičiai (float) yra lankstesni, operacijos su sveikaisiais skaičiais turi daug didesnį našumą. Ypač iteracijose."
   ]
  },
  {
   "cell_type": "markdown",
   "metadata": {},
   "source": [
    "### Greita Užduotis 4"
   ]
  },
  {
   "cell_type": "markdown",
   "metadata": {},
   "source": [
    "Parašykite ir išspausdinkite kelis kintamuosius su int ir float."
   ]
  },
  {
   "cell_type": "code",
   "execution_count": 18,
   "metadata": {},
   "outputs": [
    {
     "name": "stdout",
     "output_type": "stream",
     "text": [
      "69 777 666\n",
      "777 666 666\n"
     ]
    }
   ],
   "source": [
    "age = 69\n",
    "address = 777\n",
    "house = 666\n",
    "print(age, address, house)\n",
    "age = address\n",
    "address = house\n",
    "print(age, address, house)"
   ]
  },
  {
   "cell_type": "markdown",
   "metadata": {},
   "source": [
    "---\n",
    "\n",
    "## Kintamojo Tipo Patikrinimas"
   ]
  },
  {
   "cell_type": "markdown",
   "metadata": {},
   "source": [
    "Patikrinti kintamojo tipą \"Python\", galima panaudoti vietinę funkciją `type()`. `type()` funkcija nurodo kintamojo arba objekto tipą.\n",
    "\n",
    "Ją galima panaudoti taip:"
   ]
  },
  {
   "cell_type": "code",
   "execution_count": 19,
   "metadata": {},
   "outputs": [
    {
     "name": "stdout",
     "output_type": "stream",
     "text": [
      "<class 'int'>\n"
     ]
    }
   ],
   "source": [
    "age = 25\n",
    "print(type(age))        # Išspausdina: <class 'int'>"
   ]
  },
  {
   "cell_type": "code",
   "execution_count": 20,
   "metadata": {},
   "outputs": [
    {
     "name": "stdout",
     "output_type": "stream",
     "text": [
      "<class 'float'>\n"
     ]
    }
   ],
   "source": [
    "weight = 64.5\n",
    "print(type(weight))     # Išspausdina: <class 'float'>"
   ]
  },
  {
   "cell_type": "code",
   "execution_count": 21,
   "metadata": {},
   "outputs": [
    {
     "name": "stdout",
     "output_type": "stream",
     "text": [
      "<class 'str'>\n"
     ]
    }
   ],
   "source": [
    "first_name = \"John\"\n",
    "print(type(first_name))       # Išspausdina: <class 'str'>"
   ]
  },
  {
   "cell_type": "code",
   "execution_count": 24,
   "metadata": {},
   "outputs": [
    {
     "name": "stdout",
     "output_type": "stream",
     "text": [
      "<class 'bool'>\n"
     ]
    }
   ],
   "source": [
    "is_student = True\n",
    "print(type(is_student)) # Išspausdina: <class 'bool'>"
   ]
  },
  {
   "cell_type": "markdown",
   "metadata": {},
   "source": [
    "\n",
    "Šiame pavyzdyje turime keturis skirtingų tipų kintamuosius: `age` (sveikas skaičius), `weight` (slankiojo kablelio skaičius), `name` (teksto eilutė) ir `is_student` (loginis). Kiekvienam kintamajam pritaikę funkciją `type()`ir išspausdinę rezultatą, galime nustatyti konkretų kiekvieno kintamojo tipą.\n",
    "\n",
    "Funkcijos `type()` išvestis rodoma `<class 'typename'>` forma, kur `typename` reiškia konkretų kintamojo tipą.\n",
    "\n",
    "Naudodami `type()` galite dinamiškai nustatyti kintamojo tipą vykdymo metu, o tai gali būti naudinga derinant arba dirbant su kodu, kuris apima skirtingus duomenų tipus.\n",
    "\n",
    "Jei norite, kad tipo objektas būtų skaitomas žmonėms, galite naudoti jo ypatybę `__name__`. Pavyzdžiai:"
   ]
  },
  {
   "cell_type": "code",
   "execution_count": 22,
   "metadata": {},
   "outputs": [
    {
     "name": "stdout",
     "output_type": "stream",
     "text": [
      "str\n",
      "bool\n"
     ]
    }
   ],
   "source": [
    "\n",
    "print(type(first_name).__name__)\n",
    "print(type(is_student).__name__)"
   ]
  },
  {
   "cell_type": "markdown",
   "metadata": {},
   "source": [
    "### Greita Užduotis 5\n",
    "\n",
    "\n",
    "Išspausdinkite kintamūjų tipus iš praeitos uždoties."
   ]
  },
  {
   "cell_type": "code",
   "execution_count": 26,
   "metadata": {},
   "outputs": [
    {
     "name": "stdout",
     "output_type": "stream",
     "text": [
      "<class 'int'>\n",
      "<class 'float'>\n",
      "<class 'bool'>\n",
      "<class 'bool'>\n",
      "bool\n",
      "bool\n"
     ]
    }
   ],
   "source": [
    "age = 69\n",
    "print(type(age))\n",
    "address = 777.7\n",
    "print(type(address))\n",
    "first_name = \"Bronius\"\n",
    "first_name = True\n",
    "print(type(first_name))\n",
    "last_name = \"Andriukaitis\"\n",
    "last_name =True\n",
    "print(type(last_name))\n",
    "print(type(first_name).__name__)\n",
    "print(type(last_name).__name__)\n"
   ]
  },
  {
   "cell_type": "code",
   "execution_count": 29,
   "metadata": {},
   "outputs": [
    {
     "name": "stdout",
     "output_type": "stream",
     "text": [
      "<class 'int'>\n",
      "int str bool\n"
     ]
    }
   ],
   "source": [
    "print(type(age))\n",
    "print(type(address).__name__, type(first_name).__name__, type(is_student).__name__)\n"
   ]
  },
  {
   "cell_type": "markdown",
   "metadata": {},
   "source": [
    "---\n",
    "\n",
    "## Kintamųjų įvardinimo taisyklės ir iššimtys"
   ]
  },
  {
   "cell_type": "markdown",
   "metadata": {},
   "source": [
    "\n",
    "Pavadindami kintamąjį \"Python\", turite laikytis tam tikrų taisyklių ir susitarimų. Čia pateikiamos pagrindinės kintamųjų pavadinimų gairės:\n",
    "\n",
    "1. Kintamųjų pavadinimai turi prasidėti raide `a-z`, `A-Z` arba pabraukimo ženklu `_`. Jie negali prasidėti skaičiumi ar specialiais simboliais. Pavyzdžiai: `name`, `_count_`, `result`. Netinkami kintamųjų pavadinimai, pvz., `1st_place_winner`.\n",
    "\n",
    "2. Kintamųjų pavadinimuose gali būti raidžių (a–z, A–Z), skaičių (0–9) ir apatinius brūkšnius (_). Juose skiriamos didžiosios ir mažosios raidės, todėl `age` ir `Age` būtų laikomi skirtingais kintamaisiais. Gerų kintamųjų pavadinimų pavyzdžiai: `age`, `student_number`, `total_sum`, `player`.\n",
    "\n",
    "Čia taip pat yra pavyzdys, kaip lengva padaryti klaidą nesilaikant griežtos įvardijimo konvencijos"
   ]
  },
  {
   "cell_type": "code",
   "execution_count": 30,
   "metadata": {},
   "outputs": [
    {
     "name": "stdout",
     "output_type": "stream",
     "text": [
      "25 77\n"
     ]
    }
   ],
   "source": [
    "age = 25\n",
    "Age = 77\n",
    "print(age, Age)"
   ]
  },
  {
   "cell_type": "markdown",
   "metadata": {},
   "source": [
    "\n",
    "\n",
    "3. Rezervuoti žodžiai, taip pat žinomi kaip raktiniai žodžiai, yra žodžiai, kurie yra kalbos sintaksės dalis. Jie turi specifinę reikšmę ir paskirtį, todėl negali būti naudojami kaip kintamieji pavadinimai. Pavyzdžiai: `if`, `for`, `while`, `print` ir kt. Tokiems rezervuotiems žodžiams priskyrus kintamuosius, bus nepaisoma šių raktinių žodžių funkcijų ir sugadintos pagrindinės programavimo kalbos funkcijos.\n",
    "\n",
    "1. Pasirinkite aprašomuosius ir prasmingus kintamųjų pavadinimus, kad pagerintumėte kodo skaitomumą ir suprantamumą. Pavyzdžiui, loginio tipo kintamajam naudokite `is_student`.\n",
    "\n",
    "1. Norėdami pagerinti kelių žodžių kintamųjų pavadinimus, naudokite mažąsias raides ir apatinius brūkšnius. Šis susitarimas žinomas kaip gyvatės_atvejis. Pavyzdys: `num_of_students`, `first_name`.\n",
    "\n",
    "1. Nors nereikalaujama, įprasta naudoti visas didžiąsias raides konstantoms, kintamiesiems, kurių reikšmės nesikeis programos vykdymo metu. Pavyzdys: `PI = 3.14` , `DEFAULT_LANGUAGE = 'en-us'`\n",
    "``\n",
    "Svarbu pažymėti, kad „Python“ neleidžia kintamųjų pavadinimuose naudoti specialiųjų simbolių, pvz., „$“ arba „#“, ir paprastai patartina laikytis standartinių pavadinimų suteikimo taisyklių, kad išvengtumėte painiavos ir išlaikytumėte kodo nuoseklumą."
   ]
  },
  {
   "cell_type": "markdown",
   "metadata": {},
   "source": [
    "### Greita Užduotis 6 (tiriamoji)"
   ]
  },
  {
   "cell_type": "markdown",
   "metadata": {},
   "source": [
    "Tikslingai pabandykite naudoti rezervuotus žodžius kaip kintamųjų pavadinimus. Stebėkite gaunamus klaidų pranešimus. Tai padės praktiškai suprasti, kodėl šie žodžiai yra rezervuoti."
   ]
  },
  {
   "cell_type": "markdown",
   "metadata": {},
   "source": [
    "### Greita Užduotis 7 (tiriamoji)"
   ]
  },
  {
   "cell_type": "markdown",
   "metadata": {},
   "source": [
    "Paaiškinkite kodėl kodas žemiau grąžina - False?"
   ]
  },
  {
   "cell_type": "code",
   "execution_count": 53,
   "metadata": {},
   "outputs": [
    {
     "ename": "IndentationError",
     "evalue": "unexpected indent (4006299731.py, line 2)",
     "output_type": "error",
     "traceback": [
      "\u001b[1;36m  Cell \u001b[1;32mIn[53], line 2\u001b[1;36m\u001b[0m\n\u001b[1;33m    print(type(str) == str)\u001b[0m\n\u001b[1;37m    ^\u001b[0m\n\u001b[1;31mIndentationError\u001b[0m\u001b[1;31m:\u001b[0m unexpected indent\n"
     ]
    }
   ],
   "source": [
    "str = \"Some funny text\"\n",
    "    print(type(str) == str)"
   ]
  },
  {
   "cell_type": "markdown",
   "metadata": {},
   "source": [
    "💡Pastaba: po tokių eksperimentų verta iš naujo paleisti Jupyter kernelį, nes Python interpretatoriaus elgesys bus suluošintas priklausomai nuo to, kokius kintamųjų pavadinimus bandėte."
   ]
  },
  {
   "cell_type": "markdown",
   "metadata": {},
   "source": [
    "\n",
    "### Papildomi patarimai\n",
    "\n",
    "- Kintamųjų pavadinimai turėtų būti aiškūs, kad kodas būtų lengviau skaitomas. Pavyzdžiui, vietoj bendrinių pavadinimų, pvz., `x` arba `temp`, pasirinkite prasmingesnius pavadinimus, pvz., `counter` arba `temperature`.\n",
    "\n",
    "- Gera praktika naudoti daugiskaitos daiktavardžius kintamiesiems, žymintiems rinkinius. Pavyzdžiui, naudokite `fruits`, o ne `fruit`, jei jame yra keli vaisiai.\n",
    "\n",
    "Vadovaudamiesi šiomis pavadinimo gairėmis, jūsų kodas taps suprantamesnis ir lengviau prižiūrimas tiek jums, tiek kitiems, skaitantiems jūsų kodą."
   ]
  },
  {
   "cell_type": "markdown",
   "metadata": {},
   "source": [
    "## Apibendrinimo praktinė užduotis\n",
    "\n",
    "1. Sukurkite kintamąjį ir priskirkite jam skaičių, tada išspausdinkite kintamojo reikšmę"
   ]
  },
  {
   "cell_type": "code",
   "execution_count": 1,
   "metadata": {},
   "outputs": [
    {
     "name": "stdout",
     "output_type": "stream",
     "text": [
      "42\n"
     ]
    }
   ],
   "source": [
    "skaicius = 42\n",
    "print(skaicius)"
   ]
  },
  {
   "cell_type": "markdown",
   "metadata": {},
   "source": [
    "2. Į aukščiau pateiktą kintamąjį pridėkite neigiamą skaičių ir išspausdinkite gautą reikšmę"
   ]
  },
  {
   "cell_type": "code",
   "execution_count": 2,
   "metadata": {},
   "outputs": [
    {
     "name": "stdout",
     "output_type": "stream",
     "text": [
      "-777\n"
     ]
    }
   ],
   "source": [
    "skaičius = -777\n",
    "print(skaičius)"
   ]
  },
  {
   "cell_type": "markdown",
   "metadata": {},
   "source": [
    "3. Sukurkite slankiojo kablelio (float) kintamąjį, atspausdinkite jo reikšmę, tada pridėkite jį prie kintamųjų iš aukščiau pateiktų užduočių ir išspausdinkite rezultatus"
   ]
  },
  {
   "cell_type": "code",
   "execution_count": 4,
   "metadata": {},
   "outputs": [
    {
     "name": "stdout",
     "output_type": "stream",
     "text": [
      "Slankiojo kablelio kintamojo reikšmė: 7.16\n",
      "Pirmas kintamasis: 42\n",
      "Antras kintamasis: -777\n",
      "Slankus kintamasis pridėtas prie kitų kintamųjų: -727.84\n"
     ]
    }
   ],
   "source": [
    "# Sukurkime slankiojo kablelio (float) kintamajį\n",
    "slankus_kintamasis = 7.16\n",
    "\n",
    "# Atspausdinkime slankiojo kablelio kintamojo reikšmę\n",
    "print(\"Slankiojo kablelio kintamojo reikšmė:\", slankus_kintamasis)\n",
    "\n",
    "# Pridėkime jį prie ankstesnių kintamųjų\n",
    "pirmas_kintamasis = 42\n",
    "antras_kintamasis = -777\n",
    "\n",
    "suma = pirmas_kintamasis + antras_kintamasis + slankus_kintamasis\n",
    "\n",
    "# Išspausdinkime rezultatus\n",
    "print(\"Pirmas kintamasis:\", pirmas_kintamasis)\n",
    "print(\"Antras kintamasis:\", antras_kintamasis)\n",
    "print(\"Slankus kintamasis pridėtas prie kitų kintamųjų:\", suma)"
   ]
  },
  {
   "cell_type": "markdown",
   "metadata": {},
   "source": [
    "4. Išspausdinkite 1-3 užduočių metu sukurtų kintamųjų tipų pavadinimus."
   ]
  },
  {
   "cell_type": "code",
   "execution_count": null,
   "metadata": {},
   "outputs": [],
   "source": []
  },
  {
   "cell_type": "markdown",
   "metadata": {},
   "source": [
    "---\n",
    "\n",
    "## Papildomi resursai"
   ]
  },
  {
   "cell_type": "markdown",
   "metadata": {},
   "source": [
    "- Papildomos užduotys [LearnPython.org](https://www.learnpython.org/en/Variables_and_Types)\n",
    "- Oficialus [Python Reference](https://docs.python.org/3/library/index.html). Net jeigu nelengva suprasti iš karto, tai jum padės ateityje."
   ]
  }
 ],
 "metadata": {
  "kernelspec": {
   "display_name": "venv",
   "language": "python",
   "name": "python3"
  },
  "language_info": {
   "codemirror_mode": {
    "name": "ipython",
    "version": 3
   },
   "file_extension": ".py",
   "mimetype": "text/x-python",
   "name": "python",
   "nbconvert_exporter": "python",
   "pygments_lexer": "ipython3",
   "version": "3.12.1"
  },
  "orig_nbformat": 4
 },
 "nbformat": 4,
 "nbformat_minor": 2
}
