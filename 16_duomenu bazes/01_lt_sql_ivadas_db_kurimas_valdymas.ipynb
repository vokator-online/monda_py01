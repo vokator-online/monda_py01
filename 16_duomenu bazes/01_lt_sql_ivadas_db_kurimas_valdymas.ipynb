{
 "cells": [
  {
   "cell_type": "markdown",
   "metadata": {},
   "source": [
    "# SQL įvadas.\n",
    "# Duomenų kūrimas ir valdymas."
   ]
  },
  {
   "cell_type": "markdown",
   "metadata": {},
   "source": [
    "# Kas yra SQL?"
   ]
  },
  {
   "cell_type": "markdown",
   "metadata": {},
   "source": [
    "SQL (Structured Query Language) yra programavimo kalba, skirta valdyti duomenų bazes. Su SQL pagalba galima kurti, modifikuoti ir valdyti duomenų bazes, atlikti užklausas ir gauti reikiamą informaciją."
   ]
  },
  {
   "cell_type": "markdown",
   "metadata": {},
   "source": [
    "Pradžiai, pasiruošime aplinką darbui su SQL \"Visual Studio Code\" platformoje."
   ]
  },
  {
   "cell_type": "markdown",
   "metadata": {},
   "source": [
    "1. Įdiekite \"SQLite\" plėtinį"
   ]
  },
  {
   "cell_type": "markdown",
   "metadata": {},
   "source": [
    "Atidarykite VSCode ir pasirinkite \"Extensions\" iš esančių meniu juostų. Įrašykite \"SQLite\" paieškos laukelyje ir pasirinkite \"SQLite\" plėtinį. Spustelėkite \"Install\", kad įdiegtumėte plėtinį."
   ]
  },
  {
   "cell_type": "markdown",
   "metadata": {},
   "source": [
    "<img src=\"temos_paveiksliukai\\pletinys.png\">"
   ]
  },
  {
   "cell_type": "markdown",
   "metadata": {},
   "source": [
    "2. Sukurkite naują SQLite duomenų bazę"
   ]
  },
  {
   "cell_type": "markdown",
   "metadata": {},
   "source": [
    "Norėdami sukurti naują SQLite duomenų bazę, pasirinkite \"Explorer\" iš esančių meniu juostų, spustelėkite dešinįjį pelės klavišą ir pasirinkite \"New File\". Pavadinkite failą \"test.db\" arba kaip norite ir įrašykite \".db\" formatą."
   ]
  },
  {
   "cell_type": "markdown",
   "metadata": {},
   "source": [
    "3. Atidarykite duomenų bazę"
   ]
  },
  {
   "cell_type": "markdown",
   "metadata": {},
   "source": [
    "Spustelėkite dešinį pelės klavišą ant duomenų bazės failo ir pasirinkite \"Open Database\"."
   ]
  },
  {
   "cell_type": "markdown",
   "metadata": {},
   "source": [
    "<img src=\"temos_paveiksliukai\\opendb1.png\">"
   ]
  },
  {
   "cell_type": "markdown",
   "metadata": {},
   "source": [
    "Dar vienas būdas: \"Shift + Command + P\" (arba \"Shift + Ctrl + P\" Windows sistemoje) paieškos laukelyje galite įvesti \"SQLite: Open Database\" ir pasirinkti duomenų bazę iš pasirinkimų sąrašo."
   ]
  },
  {
   "cell_type": "markdown",
   "metadata": {},
   "source": [
    "<img src=\"temos_paveiksliukai\\opendb2.png\">"
   ]
  },
  {
   "cell_type": "markdown",
   "metadata": {},
   "source": [
    "<img src=\"temos_paveiksliukai\\opendb3.png\">"
   ]
  },
  {
   "cell_type": "markdown",
   "metadata": {},
   "source": [
    "Atidarę duomenų bazę galėsite ją matyti lango apačioje, kairėje pusėje"
   ]
  },
  {
   "cell_type": "markdown",
   "metadata": {},
   "source": [
    "<img src=\"temos_paveiksliukai\\opendb4.png\">"
   ]
  },
  {
   "cell_type": "markdown",
   "metadata": {},
   "source": [
    "Duomenų bazių kūrimui ir valdymui SQL kalba naudojamos užklausos, kurios siunčiamos į duomenų bazę."
   ]
  },
  {
   "cell_type": "markdown",
   "metadata": {},
   "source": [
    "Norėdami valdyti savo duomenų bazę, turite paspausti dešinį pelės klavišą ant savo susikurto failo \".db\" ir pasirinkti \"New Query\". Jums atsidarys naujas SQLite langas, kuriame galėsite kurti bei valdyti savo duomenų bazę. Taip pat galite susikurti ir naują failą, kurio formatas privalo būtų \".sql\""
   ]
  },
  {
   "cell_type": "markdown",
   "metadata": {},
   "source": [
    "<img src=\"temos_paveiksliukai\\naujaquery.png\">"
   ]
  },
  {
   "cell_type": "markdown",
   "metadata": {},
   "source": [
    "## Duomenų tipai"
   ]
  },
  {
   "cell_type": "markdown",
   "metadata": {},
   "source": [
    "SQL duomenų tipai gali šiek tiek skirtis tarp skirtingų duomenų bazių sistemų, tačiau štai pagrindiniai duomenų tipai, kuriuos galima rasti daugelyje sistemų"
   ]
  },
  {
   "cell_type": "markdown",
   "metadata": {},
   "source": [
    "### Tekstas"
   ]
  },
  {
   "cell_type": "markdown",
   "metadata": {},
   "source": [
    "- CHAR(n): Fiksuoto dydžio tekstas, kur n yra simbolių skaičius.\n",
    "- VARCHAR(n): Kintamo dydžio tekstas, kur n yra maksimalus simbolių skaičius.\n",
    "- TEXT: Kintamo dydžio tekstas, kurio ilgis gali būti labai didelis."
   ]
  },
  {
   "cell_type": "markdown",
   "metadata": {},
   "source": [
    "### Sveikieji skaičiai"
   ]
  },
  {
   "cell_type": "markdown",
   "metadata": {},
   "source": [
    "- TINYINT: Mažas sveikasis skaičius.\n",
    "- SMALLINT: Vidutinio dydžio sveikasis skaičius.\n",
    "- INTEGER: Didelis sveikasis skaičius. (INT irgi yra bet nenaudotinas)\n",
    "- BIGINT: Labai didelis sveikasis skaičius."
   ]
  },
  {
   "cell_type": "markdown",
   "metadata": {},
   "source": [
    "### Skaičiai su kableliu"
   ]
  },
  {
   "cell_type": "markdown",
   "metadata": {},
   "source": [
    "- FLOAT(n, d): Aproksimacija realaus skaičiaus su n skaitmenimis ir d dešimtainiais skaitmenimis.\n",
    "- REAL: Realus skaičius su 7 skaitmenimis tikslumu.\n",
    "- DOUBLE: Realus skaičius su 15 skaitmenimis tikslumu.\n",
    "- DECIMAL(n, d): Tikslus realus skaičius su n skaitmenimis ir d dešimtainiais skaitmenimis.\n",
    "- NUMERIC(n, d): Panašus į DECIMAL, bet skiriasi kai kuriuose aspektuose."
   ]
  },
  {
   "cell_type": "markdown",
   "metadata": {},
   "source": [
    "### Datos ir laiko"
   ]
  },
  {
   "cell_type": "markdown",
   "metadata": {},
   "source": [
    "- DATE: Data (metai, mėnesiai, dienos).\n",
    "- TIME: Laikas (valandos, minutės, sekundės).\n",
    "- TIMESTAMP: Data ir laikas.\n",
    "- DATETIME: Data ir laikas (skirtumas tarp TIMESTAMP ir DATETIME gali būti sistemose).\n",
    "- INTERVAL: Laiko tarpas tarp dviejų datų ar laikų."
   ]
  },
  {
   "cell_type": "markdown",
   "metadata": {},
   "source": [
    "### Loginiai"
   ]
  },
  {
   "cell_type": "markdown",
   "metadata": {},
   "source": [
    "- BOOLEAN: Loginis tipas, kuris gali turėti reikšmes TRUE, FALSE arba NULL."
   ]
  },
  {
   "cell_type": "markdown",
   "metadata": {},
   "source": [
    "### Binariniai"
   ]
  },
  {
   "cell_type": "markdown",
   "metadata": {},
   "source": [
    "- BINARY(n): Fiksuoto dydžio dvejetainiai duomenys, kur n yra baitų skaičius.\n",
    "VARBINARY(n): Kintamo dydžio dvejetainiai duomenys, kur n yra maksimalus baitų skaičius.\n",
    "- BLOB: Didelis dvejetainių duomenų objektas, skirtas saugoti didelius dvejetainius duomenis."
   ]
  },
  {
   "cell_type": "markdown",
   "metadata": {},
   "source": [
    "### ENUM ir SET"
   ]
  },
  {
   "cell_type": "markdown",
   "metadata": {},
   "source": [
    "- ENUM: Leidžia nurodyti konkretų iš anksto apibrėžtų reikšmių sąrašą.\n",
    "- SET: Leidžia nurodyti konkretų iš anksto apibrėžtų reikšmių sąrašą, bet skirtingai nei ENUM, galima saugoti kelias reikšmes viename įraše."
   ]
  },
  {
   "cell_type": "markdown",
   "metadata": {},
   "source": [
    "## CREATE TABLE"
   ]
  },
  {
   "cell_type": "markdown",
   "metadata": {},
   "source": [
    "Ši užklausa naudojama sukurti naują lentelę duomenų bazeje. Kuriant ar valdant duomenis pirmą kartą ir norint, kad duomenų bazė veiktų, gali reikti ją išsaugoti savo kompiuteryje."
   ]
  },
  {
   "cell_type": "markdown",
   "metadata": {},
   "source": [
    "Duomenų bazės lentelėse saugomi įrašai, kurie atspindi tam tikrus objektus ar dalykus. Kiekviena lentelė turi stulpelius (laukus) ir eilutes (įrašus). Stulpeliai aprašo kiekvieno įrašo savybes, o eilutėse saugomi faktiniai duomenys."
   ]
  }
 ],
 "metadata": {
  "language_info": {
   "name": "python"
  }
 },
 "nbformat": 4,
 "nbformat_minor": 2
}
