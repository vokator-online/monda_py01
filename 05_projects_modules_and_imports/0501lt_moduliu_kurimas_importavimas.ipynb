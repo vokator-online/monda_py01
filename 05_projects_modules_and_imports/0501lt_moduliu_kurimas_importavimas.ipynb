{
 "cells": [
  {
   "cell_type": "markdown",
   "metadata": {},
   "source": [
    "# Modulių kūrimas, importavimas"
   ]
  },
  {
   "cell_type": "markdown",
   "metadata": {},
   "source": [
    "Modulis yra Python programavimo kalbos sąvoka, apibūdinanti vieną failą, kuriame yra Python kodas. Moduliai padeda organizuoti ir suskirstyti kodą į atskiras dalis pagal funkcionalumą, kad jis būtų lengviau suprantamas ir tvarkingas.\n",
    "\n",
    "Tereikia sukurti naują Python failą (su .py plėtiniu) ir parašyti kodą jame. Pavyzdžiui, sukūrę failą pavadinimu `my_module.py`, mes sukuriame naują modulį, vadinamą `my_module`.\n",
    "\n",
    "Pavyzdys:\n",
    "\n",
    "my_module.py:"
   ]
  },
  {
   "cell_type": "code",
   "execution_count": 3,
   "metadata": {},
   "outputs": [],
   "source": [
    "def greet(name):\n",
    "    return f\"Sveikas, {name}!\"\n",
    "\n",
    "def addition(x, y):\n",
    "    return x + y\n",
    "\n",
    "class MyClass:\n",
    "    def __init__(self, x):\n",
    "        self.x = x\n",
    "\n",
    "    def square(self):\n",
    "        return self.x ** 2"
   ]
  },
  {
   "cell_type": "markdown",
   "metadata": {},
   "source": [
    "Šiame pavyzdyje mes sukūrėme modulį mano_modulis, kuriame yra funkcijos pasisveikinti ir sudetis, taip pat klasė ManoKlase. Kad naudotume šio modulio funkcijas ir klases kitame faile, turime jį importuoti."
   ]
  },
  {
   "cell_type": "markdown",
   "metadata": {},
   "source": [
    "## Funkcijos arba klasės importavimas"
   ]
  },
  {
   "cell_type": "markdown",
   "metadata": {},
   "source": [
    "Python leidžia importuoti konkrečias funkcijas ar klases iš modulių ar paketų. Tai padeda užtikrinti, kad importuojate tik tai, ko jums reikia, ir taip sumažinate atminties naudojimą. \n",
    "\n",
    "Pavyzdys:"
   ]
  },
  {
   "cell_type": "code",
   "execution_count": 6,
   "metadata": {},
   "outputs": [],
   "source": [
    "from my_module import MyClass\n",
    "from math import sqrt"
   ]
  },
  {
   "cell_type": "markdown",
   "metadata": {},
   "source": [
    "💡 `math` modulis yra standartinė Python biblioteka, skirta matematikos funkcijoms ir konstantoms. Funkcija `sqrt` yra kvadratinės šaknies funkcija. Ji priima vieną skaičių kaip argumentą ir grąžina jo kvadratinę šaknį."
   ]
  },
  {
   "cell_type": "markdown",
   "metadata": {},
   "source": [
    "### Greita užduotis 1:\n",
    "\n",
    "Modulio `matematika.py` kūrimas\n",
    "\n",
    "Sukurkite naują Python modulį su pavadinimu `matematika.py`. Jame turi būti įgyvendintos šios funkcijos:\n",
    "\n",
    "- `daugyba(x, y)`: Funkcija priima du argumentus, `x` ir `y`, ir grąžina jų sandaugą.\n",
    "- `dalyba(x, y)`: Funkcija priima du argumentus, `x` ir `y`, ir grąžina jų dalmens rezultatą.\n",
    "\n",
    "Tada importuokite šį modulį kitame Python faile ir panaudokite jo funkcijas skaičiavimams atlikti."
   ]
  },
  {
   "cell_type": "code",
   "execution_count": null,
   "metadata": {},
   "outputs": [],
   "source": [
    "# jusu kodo vieta"
   ]
  },
  {
   "cell_type": "markdown",
   "metadata": {},
   "source": [
    "## Importuotų objektų pervadinimas su \"as\""
   ]
  },
  {
   "cell_type": "markdown",
   "metadata": {},
   "source": [
    "Kartais gali būti naudinga pervadinti importuotą objektą (modulį, funkciją ar klasę), kad jis būtų trumpesnis arba aiškesnis. Tai galima padaryti naudojant \"as\" raktažodį. \n",
    "\n",
    "Pavyzdys:"
   ]
  },
  {
   "cell_type": "code",
   "execution_count": null,
   "metadata": {},
   "outputs": [],
   "source": [
    "import random as belenkas\n",
    "from mano_modulis import IlgasKlasesPavadinimas as IKP\n",
    "from calendar import isleap as ar_keliamieji"
   ]
  },
  {
   "cell_type": "markdown",
   "metadata": {},
   "source": [
    "## Iš modulio importuojame viską su `*`"
   ]
  },
  {
   "cell_type": "markdown",
   "metadata": {},
   "source": [
    "Python leidžia importuoti visus modulio ar paketo elementus naudojant `*`. Nors tai gali būti patogu, šis būdas gali sukelti pavadinimų konfliktus, jei keli moduliai turi elementų su vienodais pavadinimais.\n",
    "\n",
    "Pavyzdys:"
   ]
  },
  {
   "cell_type": "code",
   "execution_count": 2,
   "metadata": {},
   "outputs": [],
   "source": [
    "from math import *"
   ]
  },
  {
   "cell_type": "markdown",
   "metadata": {},
   "source": [
    "## `dir()` funkcija"
   ]
  },
  {
   "cell_type": "markdown",
   "metadata": {},
   "source": [
    "Python `dir()` funkcija grąžina sąrašą, kuriame yra modulio ar paketo narių pavadinimai. Tai gali būti naudinga norint sužinoti, ką galima importuoti iš modulio ar paketo.\n",
    "\n",
    "Pavyzdys:"
   ]
  },
  {
   "cell_type": "code",
   "execution_count": null,
   "metadata": {},
   "outputs": [],
   "source": [
    "import math\n",
    "print(dir(math))"
   ]
  },
  {
   "cell_type": "markdown",
   "metadata": {},
   "source": [
    "## Paketai, subpaketai ir `__init__.py` failai"
   ]
  },
  {
   "cell_type": "markdown",
   "metadata": {},
   "source": [
    "**Paketai** yra būdas organizuoti Python kodo modulius į struktūruotą hierarchiją. Paketai leidžia lengvai suskirstyti projekto funkcionalumą į susijusias dalis, taip padidinant kodo tvarką ir supratimą.\n",
    "Python paketas yra paprastai direktorija, kurioje yra `__init__.py` failas. Paketas gali turėti modulius, subpaketus ir jų `__init__.py` failus.\n",
    "\n",
    "**Subpaketai** yra paketų direktorijos, esančios kituose paketuose. Jie taip pat turi `__init__.py` failą ir gali turėti savo modulius bei kitus subpaketus.\n",
    "\n",
    "**`__init__.py`** failai yra specialūs Python failai, kuriuos interpretatorius naudoja, kad nustatytų direktoriją kaip paketą ar subpaketą. `__init__.py` failai gali būti tušti arba turėti kodą, pvz., importuoti kai kuriuos modulius, priskirti kintamuosius arba apibrėžti funkcijas ir klases. Importuojant paketą, `__init__.py` failai yra visada paleidžiami."
   ]
  },
  {
   "cell_type": "markdown",
   "metadata": {},
   "source": [
    "### Paketų pavadinimų taisyklės"
   ]
  },
  {
   "cell_type": "markdown",
   "metadata": {},
   "source": [
    "- Reikėtų vengti didžiųjų raidžių;\n",
    "- Katalogų pavadinimai neturėtų prasidėti skaičiais;\n",
    "- Pavadinimuose neturėtų būti tarpų ir ne lotyniškų simbolių;\n",
    "- Yra rekomenduojama laikytis kintamųjų pavadinimų sudarymo taisyklių.\n",
    "\n",
    "Šios rekomendacijos yra naudingos siekiant išvengti klaidų ar sunkumų tvarkant failų sistemas ir rašant kodą."
   ]
  },
  {
   "cell_type": "markdown",
   "metadata": {},
   "source": [
    "### Projekto pavyzdys"
   ]
  },
  {
   "cell_type": "markdown",
   "metadata": {},
   "source": [
    "Įsivaizduokime, kad turime šią katalogų ir failų struktūrą:\n",
    "\n",
    "\n",
    "```python\n",
    "projektas/\n",
    "    __init__.py\n",
    "    main.py\n",
    "    geometrija/\n",
    "        __init__.py\n",
    "        plotas.py\n",
    "        perimetras.py\n",
    "        dvimate/\n",
    "            __init__.py\n",
    "            apskritimas.py\n",
    "            kvadratas.py"
   ]
  },
  {
   "cell_type": "markdown",
   "metadata": {},
   "source": [
    "- `projektas` yra pagrindinis paketas, kuris turi modulį `main.py` ir subpaketą `geometrija`. \n",
    "- `geometrija` subpaketas turi modulius `plotas.py` ir `perimetras.py` bei subpaketą `dvimate`, kuris turi modulius `apskritimas.py` ir `kvadratas.py`. \n",
    "\n",
    "Atkreipkite dėmesį, kad `dvimate` subpaketo vadinti 2D negalima, nors gal ir patogiau, bet negalima."
   ]
  },
  {
   "cell_type": "markdown",
   "metadata": {},
   "source": [
    "## Absoliutus importavimas"
   ]
  },
  {
   "cell_type": "markdown",
   "metadata": {},
   "source": [
    "Absoliutus importavimas naudoja visą kelią nuo pagrindinio paketo arba modulio iki importuojamo elemento. Jis paprastai yra aiškesnis ir lengviau suprantamas.\n",
    "\n",
    "Pavyzdys:"
   ]
  },
  {
   "cell_type": "code",
   "execution_count": null,
   "metadata": {},
   "outputs": [],
   "source": [
    "from projektas.geometrija.plotas import trikampio_plotas"
   ]
  },
  {
   "cell_type": "markdown",
   "metadata": {},
   "source": [
    "## Reliatyvus importavimas"
   ]
  },
  {
   "cell_type": "markdown",
   "metadata": {},
   "source": [
    "Reliatyvus importavimas naudoja taškus nurodyti paketų ar modulių hierarchiją atsižvelgiant į esamą vietą. Jis gali padėti išlaikyti perkeliamumą tarp projektų ir sumažinti kodo kartojimąsi.\n",
    "\n",
    "Taškas (.) reiškia esamą paketą, o du taškai (..) reiškia viršesnį lygio paketą.\n",
    "\n",
    "Pavyzdys:"
   ]
  },
  {
   "cell_type": "code",
   "execution_count": null,
   "metadata": {},
   "outputs": [],
   "source": [
    "from .plotas import trikampio_plotas"
   ]
  },
  {
   "cell_type": "markdown",
   "metadata": {},
   "source": [
    "## Importas iš projekto paketų"
   ]
  },
  {
   "cell_type": "markdown",
   "metadata": {},
   "source": [
    "Importuojant modulius iš paketų ir subpaketų, naudojama taškinė sintaksė:"
   ]
  },
  {
   "cell_type": "code",
   "execution_count": null,
   "metadata": {},
   "outputs": [],
   "source": [
    "from projektas.geometrija.plotas import trikampio_plotas\n",
    "from projektas.geometrija.dvimate.apskritimas import apskritimo_plotas"
   ]
  },
  {
   "cell_type": "markdown",
   "metadata": {},
   "source": [
    "`__init__.py` failų panaudojimas: Tarkime, kad `projektas/geometrija/__init__.py` failas turi šį kodą:"
   ]
  },
  {
   "cell_type": "code",
   "execution_count": null,
   "metadata": {},
   "outputs": [],
   "source": [
    "from .plotas import *\n",
    "from .perimetras import *\n",
    "from .dvimate.apskritimas import *\n",
    "from .dvimate.kvadratas import *"
   ]
  },
  {
   "cell_type": "markdown",
   "metadata": {},
   "source": [
    "Dabar galime importuoti visas funkcijas tiesiog importuodami geometrija subpaketą:"
   ]
  },
  {
   "cell_type": "code",
   "execution_count": null,
   "metadata": {},
   "outputs": [],
   "source": [
    "from projektas.geometrija import trikampio_plotas, apskritimo_plotas"
   ]
  },
  {
   "cell_type": "markdown",
   "metadata": {},
   "source": [
    "### Greita užduotis 2: Python Paketo \"geometrija\" Sukūrimas\n",
    "\n",
    "Sukurkite paketą `geometrija`, kuris turės šiuos modulius:\n",
    "\n",
    "- apskritimas.py: turintis funkciją `apskritimo_plotas(r)` skirtą apskaičiuoti apskritimo plotą\n",
    "- kvadratas.py: turintis funkciją `kvadrato_plotas(a)` skirtą apskaičiuoti kvadrato plotą\n",
    "\n",
    "Importuokite šiuos modulius kitame faile, pakeiskite funkcijų pavadinimus pasitelkiant `as` ir panaudokite funkcijas skaičiavimams atlikti."
   ]
  },
  {
   "cell_type": "markdown",
   "metadata": {},
   "source": [
    "Sukurkite naują Python failą (pvz., `main.py`) ir importuokite iš šio paketo modulius `apskritimas` ir `kvadratas`. Pakeiskite importuojamų funkcijų pavadinimus naudodami `as` raktažodį, kad vėliau būtų lengviau atpažinti funkcijų šaltinius."
   ]
  },
  {
   "cell_type": "code",
   "execution_count": null,
   "metadata": {},
   "outputs": [],
   "source": [
    "# jusu kodo vieta"
   ]
  }
 ],
 "metadata": {
  "kernelspec": {
   "display_name": "venv",
   "language": "python",
   "name": "python3"
  },
  "language_info": {
   "codemirror_mode": {
    "name": "ipython",
    "version": 3
   },
   "file_extension": ".py",
   "mimetype": "text/x-python",
   "name": "python",
   "nbconvert_exporter": "python",
   "pygments_lexer": "ipython3",
   "version": "3.10.6"
  }
 },
 "nbformat": 4,
 "nbformat_minor": 2
}
